{
 "cells": [
  {
   "cell_type": "code",
   "execution_count": 6,
   "metadata": {
    "collapsed": true,
    "pycharm": {
     "is_executing": false
    }
   },
   "outputs": [],
   "source": [
    "import pandas as pd, numpy as np\n",
    "import matplotlib, seaborn as sns\n",
    "from sklearn.metrics import mean_squared_error as mse\n",
    "matplotlib.use('Qt5Agg')\n",
    "import matplotlib.pyplot as plt\n",
    "plt.rcParams[\"figure.figsize\"] = (7,3)\n",
    "plt.rcParams['figure.constrained_layout.use'] = True"
   ]
  },
  {
   "cell_type": "code",
   "execution_count": 2,
   "outputs": [],
   "source": [
    "# load data\n",
    "mydateparser = lambda x: pd.datetime.strptime(str(x), '%Y-%m-%d %H:%M:%S')\n",
    "btc_series = pd.read_excel('Data/BTC_closing.xlsx',squeeze=True, parse_dates=[0], index_col=0, date_parser=mydateparser)"
   ],
   "metadata": {
    "collapsed": false,
    "pycharm": {
     "name": "#%%\n",
     "is_executing": false
    }
   }
  },
  {
   "cell_type": "code",
   "execution_count": 8,
   "outputs": [],
   "source": [
    "plt.plot(btc_series)\n",
    "plt.show()"
   ],
   "metadata": {
    "collapsed": false,
    "pycharm": {
     "name": "#%%\n",
     "is_executing": false
    }
   }
  },
  {
   "cell_type": "code",
   "execution_count": 24,
   "outputs": [],
   "source": [
    "# crop data: 2015-08-07 to 2020-06-26\n",
    "start_date = '2015-08-07'\n",
    "end_date = '2020-06-26'\n",
    "btc_series = btc_series[start_date: end_date]"
   ],
   "metadata": {
    "collapsed": false,
    "pycharm": {
     "name": "#%%\n",
     "is_executing": false
    }
   }
  },
  {
   "cell_type": "code",
   "execution_count": 25,
   "outputs": [
    {
     "name": "stdout",
     "text": [
      "train: 1428 \ntest: 358 \nSUM: 1786 \nlen btc_series: 1786\n"
     ],
     "output_type": "stream"
    }
   ],
   "source": [
    "# split data into train and test\n",
    "train_size = int(len(btc_series) * 0.8)\n",
    "train, test = btc_series[:train_size], btc_series[train_size:]\n",
    "print('train:', len(train), '\\ntest:', len(test), '\\nSUM:', len(train) + len(test), '\\nlen btc_series:', len(btc_series))"
   ],
   "metadata": {
    "collapsed": false,
    "pycharm": {
     "name": "#%%\n",
     "is_executing": false
    }
   }
  },
  {
   "cell_type": "code",
   "execution_count": 26,
   "outputs": [],
   "source": [
    "# NaivePrediction: Walk forward validation (yt = yt-1)\n",
    "history = [x for x in train]\n",
    "predictions = list()\n",
    "\n",
    "for i in range(len(test)):\n",
    "    yhat = history[-1]\n",
    "    predictions.append(yhat)\n",
    "    history.append(test[i])"
   ],
   "metadata": {
    "collapsed": false,
    "pycharm": {
     "name": "#%%\n",
     "is_executing": false
    }
   }
  },
  {
   "cell_type": "code",
   "execution_count": 27,
   "outputs": [],
   "source": [
    "# make series for plotting\n",
    "index_pred = np.arange(len(train) + 1, len(btc_series) + 1)\n",
    "predictions_series = pd.Series(predictions, index=index_pred)\n",
    "actual_series = pd.Series(test.values, index=index_pred)\n",
    "\n",
    "# plot\n",
    "plt.plot(train.values, label='training')\n",
    "plt.plot(actual_series, label='actual')\n",
    "plt.plot(predictions_series, label='prediction', color='darkgreen')\n",
    "plt.legend(loc='upper left')\n",
    "plt.show()"
   ],
   "metadata": {
    "collapsed": false,
    "pycharm": {
     "name": "#%%\n",
     "is_executing": false
    }
   }
  },
  {
   "cell_type": "code",
   "execution_count": 28,
   "outputs": [
    {
     "name": "stdout",
     "text": [
      "Mean absolute percentage error:\t 0.0252483316221213 \nMean percentage error:\t\t 0.001516064858912412 \nMean error:\t\t\t 5.733296089385476 \nMean absolute error:\t\t 214.59826815642455 \nRoot mean squared error:\t 338.61646158924094 \nCorrelation coefficient:\t 0.971534824695731 \n\n"
     ],
     "output_type": "stream"
    }
   ],
   "source": [
    "# calculate forecast accuracy\n",
    "def prediction_accuracy(predictions, actual):\n",
    "    # MAPE: Mean absolute percentage error\n",
    "    mape = np.mean(np.abs(predictions - actual) / np.abs(actual))\n",
    "    # MPE: Mean percentage error\n",
    "    mpe = np.mean((predictions - actual) / actual)\n",
    "    # ME: Mean error\n",
    "    me = np.mean(predictions - actual)\n",
    "    # MAE: Mean absolute error\n",
    "    mae = np.mean(np.abs(predictions - actual))\n",
    "    # RSME: Root mean squared error\n",
    "    rmse = np.sqrt(mse(predictions, actual))\n",
    "    # CORR: Correlation between Prediction and Actual\n",
    "    corr = np.corrcoef(predictions, actual)[0,1]\n",
    "    \n",
    "    print('Mean absolute percentage error:\\t', mape,\\\n",
    "             '\\nMean percentage error:\\t\\t', mpe,\\\n",
    "             '\\nMean error:\\t\\t\\t', me, \\\n",
    "             '\\nMean absolute error:\\t\\t', mae, \\\n",
    "             '\\nRoot mean squared error:\\t', rmse, \\\n",
    "             '\\nCorrelation coefficient:\\t', corr, '\\n')\n",
    "    return\n",
    "\n",
    "prediction_accuracy(np.array(predictions), test.values)\n"
   ],
   "metadata": {
    "collapsed": false,
    "pycharm": {
     "name": "#%%\n",
     "is_executing": false
    }
   }
  }
 ],
 "metadata": {
  "kernelspec": {
   "display_name": "Python 3",
   "language": "python",
   "name": "python3"
  },
  "language_info": {
   "codemirror_mode": {
    "name": "ipython",
    "version": 2
   },
   "file_extension": ".py",
   "mimetype": "text/x-python",
   "name": "python",
   "nbconvert_exporter": "python",
   "pygments_lexer": "ipython2",
   "version": "2.7.6"
  },
  "pycharm": {
   "stem_cell": {
    "cell_type": "raw",
    "source": [],
    "metadata": {
     "collapsed": false
    }
   }
  }
 },
 "nbformat": 4,
 "nbformat_minor": 0
}