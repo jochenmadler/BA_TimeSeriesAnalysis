{
 "cells": [
  {
   "cell_type": "code",
   "execution_count": 15,
   "outputs": [],
   "source": [
    "import matplotlib, matplotlib.pyplot as plt\n",
    "import seaborn as sns\n",
    "matplotlib.use('qt5agg')\n",
    "\n",
    "# configure plot style\n",
    "import matplotlib.pyplot as plt\n",
    "plt.rcParams['mathtext.fontset'] = 'stix'\n",
    "plt.rcParams['font.family'] = 'STIXGeneral'\n",
    "plt.rcParams[\"figure.figsize\"] = (7,2.75)\n",
    "plt.rcParams['figure.constrained_layout.use'] = False\n",
    "plt.rcParams['figure.dpi'] = 100\n",
    "plt.rcParams['savefig.dpi'] = 100\n",
    "plt.rcParams['lines.linewidth'] = 0.8\n",
    "save_plot_to =  r'C:\\\\Users\\joche\\OneDrive\\03 TUM - TUM-BWL\\Semester 8\\01 Bachelorarbeit\\04 Results\\Plots/'\n"
   ],
   "metadata": {
    "collapsed": false,
    "pycharm": {
     "name": "#%%\n",
     "is_executing": false
    }
   }
  },
  {
   "cell_type": "code",
   "execution_count": null,
   "outputs": [],
   "source": [
    "# find guide here: https://towardsdatascience.com/a-very-precise-fast-way-to-pull-google-trends-data-automatically-4c3c431960aa\n",
    "\n",
    "import pandas as pd\n",
    "import pytrends\n",
    "from pytrends.request import TrendReq\n",
    "pytrend = TrendReq()"
   ],
   "metadata": {
    "collapsed": false,
    "pycharm": {
     "name": "#%%\n"
    }
   }
  },
  {
   "cell_type": "code",
   "execution_count": 3,
   "outputs": [
    {
     "data": {
      "text/plain": "          mid    title      type\n0  /m/05p0rrx  Bitcoin  Currency",
      "text/html": "<div>\n<style scoped>\n    .dataframe tbody tr th:only-of-type {\n        vertical-align: middle;\n    }\n\n    .dataframe tbody tr th {\n        vertical-align: top;\n    }\n\n    .dataframe thead th {\n        text-align: right;\n    }\n</style>\n<table border=\"1\" class=\"dataframe\">\n  <thead>\n    <tr style=\"text-align: right;\">\n      <th></th>\n      <th>mid</th>\n      <th>title</th>\n      <th>type</th>\n    </tr>\n  </thead>\n  <tbody>\n    <tr>\n      <td>0</td>\n      <td>/m/05p0rrx</td>\n      <td>Bitcoin</td>\n      <td>Currency</td>\n    </tr>\n  </tbody>\n</table>\n</div>"
     },
     "metadata": {},
     "output_type": "execute_result",
     "execution_count": 3
    }
   ],
   "source": [
    "KEYWORDS=['bitcoin'] \n",
    "KEYWORDS_CODES=[pytrend.suggestions(keyword=i)[0] for i in KEYWORDS] \n",
    "df_CODES= pd.DataFrame(KEYWORDS_CODES)\n",
    "df_CODES"
   ],
   "metadata": {
    "collapsed": false,
    "pycharm": {
     "name": "#%%\n",
     "is_executing": false
    }
   }
  },
  {
   "cell_type": "code",
   "execution_count": 26,
   "outputs": [],
   "source": [
    "EXACT_KEYWORDS=df_CODES['mid'].to_list()\n",
    "DATE_INTERVAL='2015-08-02 2020-06-28'\n",
    "# iso codes from here: https://en.wikipedia.org/wiki/List_of_ISO_3166_country_codes\n",
    "COUNTRY=['US','CA','AU','GB','FR','IT','ES','DE','AT','CH','CN','HK','SG','RU','IN']\n",
    "# categories from here: https://github.com/pat310/google-trends-api/wiki/Google-Trends-Categories\n",
    "CATEGORY=0\n",
    "# default search type: web search\n",
    "SEARCH_TYPE=''"
   ],
   "metadata": {
    "collapsed": false,
    "pycharm": {
     "name": "#%%\n",
     "is_executing": false
    }
   }
  },
  {
   "cell_type": "code",
   "execution_count": 36,
   "outputs": [],
   "source": [
    "Individual_EXACT_KEYWORD = list(zip(*[iter(EXACT_KEYWORDS)]*1))\n",
    "Individual_EXACT_KEYWORD = [list(x) for x in Individual_EXACT_KEYWORD]\n",
    "dicti = {}\n",
    "i = 1\n",
    "for Country in COUNTRY:\n",
    "    for keyword in Individual_EXACT_KEYWORD:\n",
    "        pytrend.build_payload(kw_list=keyword, \n",
    "                              timeframe = DATE_INTERVAL, \n",
    "                              geo = Country, \n",
    "                              cat=CATEGORY,\n",
    "                              gprop=SEARCH_TYPE) \n",
    "        dicti[i] = pytrend.interest_over_time()\n",
    "        i+=1\n",
    "df_trends = pd.concat(dicti, axis=1)"
   ],
   "metadata": {
    "collapsed": false,
    "pycharm": {
     "name": "#%%\n",
     "is_executing": false
    }
   }
  },
  {
   "cell_type": "code",
   "execution_count": 28,
   "outputs": [
    {
     "data": {
      "text/plain": "            btc-US  btc-CA  btc-AU  btc-GB  btc-FR  btc-IT  btc-ES  btc-DE  \\\ndate                                                                         \n2015-08-02       2       2       2       2       2       2       1       2   \n2015-08-09       2       2       2       2       1       2       1       2   \n2015-08-16       2       2       2       3       2       2       1       2   \n2015-08-23       2       3       2       2       2       2       1       2   \n2015-08-30       2       2       2       2       1       2       1       2   \n...            ...     ...     ...     ...     ...     ...     ...     ...   \n2020-05-31       7      10      10      13       9      13      11      14   \n2020-06-07       7       9       9      11       9      12      10      12   \n2020-06-14       6       8       7      10       8      10       9      11   \n2020-06-21       6       8       7      10       7      10       9      11   \n2020-06-28       6       8       7      11       7       9       9      10   \n\n            btc-AT  btc-CH  btc-CN  btc-HK  btc-SG  btc-RU  btc-IN  \ndate                                                                \n2015-08-02       2       2       5       2       3       3       5  \n2015-08-09       2       2       5       2       2       3       5  \n2015-08-16       2       2       5       3       2       3       3  \n2015-08-23       3       2       4       3       2       4       3  \n2015-08-30       2       2       5       2       2       4       4  \n...            ...     ...     ...     ...     ...     ...     ...  \n2020-05-31      20      22      20      11      12      14      13  \n2020-06-07      17      18      13       9      11      13      11  \n2020-06-14      15      16      15      12      10      11       8  \n2020-06-21      14      15      17      10       9      10       9  \n2020-06-28      14      12      12      10       8      10       9  \n\n[257 rows x 15 columns]",
      "text/html": "<div>\n<style scoped>\n    .dataframe tbody tr th:only-of-type {\n        vertical-align: middle;\n    }\n\n    .dataframe tbody tr th {\n        vertical-align: top;\n    }\n\n    .dataframe thead th {\n        text-align: right;\n    }\n</style>\n<table border=\"1\" class=\"dataframe\">\n  <thead>\n    <tr style=\"text-align: right;\">\n      <th></th>\n      <th>btc-US</th>\n      <th>btc-CA</th>\n      <th>btc-AU</th>\n      <th>btc-GB</th>\n      <th>btc-FR</th>\n      <th>btc-IT</th>\n      <th>btc-ES</th>\n      <th>btc-DE</th>\n      <th>btc-AT</th>\n      <th>btc-CH</th>\n      <th>btc-CN</th>\n      <th>btc-HK</th>\n      <th>btc-SG</th>\n      <th>btc-RU</th>\n      <th>btc-IN</th>\n    </tr>\n    <tr>\n      <th>date</th>\n      <th></th>\n      <th></th>\n      <th></th>\n      <th></th>\n      <th></th>\n      <th></th>\n      <th></th>\n      <th></th>\n      <th></th>\n      <th></th>\n      <th></th>\n      <th></th>\n      <th></th>\n      <th></th>\n      <th></th>\n    </tr>\n  </thead>\n  <tbody>\n    <tr>\n      <td>2015-08-02</td>\n      <td>2</td>\n      <td>2</td>\n      <td>2</td>\n      <td>2</td>\n      <td>2</td>\n      <td>2</td>\n      <td>1</td>\n      <td>2</td>\n      <td>2</td>\n      <td>2</td>\n      <td>5</td>\n      <td>2</td>\n      <td>3</td>\n      <td>3</td>\n      <td>5</td>\n    </tr>\n    <tr>\n      <td>2015-08-09</td>\n      <td>2</td>\n      <td>2</td>\n      <td>2</td>\n      <td>2</td>\n      <td>1</td>\n      <td>2</td>\n      <td>1</td>\n      <td>2</td>\n      <td>2</td>\n      <td>2</td>\n      <td>5</td>\n      <td>2</td>\n      <td>2</td>\n      <td>3</td>\n      <td>5</td>\n    </tr>\n    <tr>\n      <td>2015-08-16</td>\n      <td>2</td>\n      <td>2</td>\n      <td>2</td>\n      <td>3</td>\n      <td>2</td>\n      <td>2</td>\n      <td>1</td>\n      <td>2</td>\n      <td>2</td>\n      <td>2</td>\n      <td>5</td>\n      <td>3</td>\n      <td>2</td>\n      <td>3</td>\n      <td>3</td>\n    </tr>\n    <tr>\n      <td>2015-08-23</td>\n      <td>2</td>\n      <td>3</td>\n      <td>2</td>\n      <td>2</td>\n      <td>2</td>\n      <td>2</td>\n      <td>1</td>\n      <td>2</td>\n      <td>3</td>\n      <td>2</td>\n      <td>4</td>\n      <td>3</td>\n      <td>2</td>\n      <td>4</td>\n      <td>3</td>\n    </tr>\n    <tr>\n      <td>2015-08-30</td>\n      <td>2</td>\n      <td>2</td>\n      <td>2</td>\n      <td>2</td>\n      <td>1</td>\n      <td>2</td>\n      <td>1</td>\n      <td>2</td>\n      <td>2</td>\n      <td>2</td>\n      <td>5</td>\n      <td>2</td>\n      <td>2</td>\n      <td>4</td>\n      <td>4</td>\n    </tr>\n    <tr>\n      <td>...</td>\n      <td>...</td>\n      <td>...</td>\n      <td>...</td>\n      <td>...</td>\n      <td>...</td>\n      <td>...</td>\n      <td>...</td>\n      <td>...</td>\n      <td>...</td>\n      <td>...</td>\n      <td>...</td>\n      <td>...</td>\n      <td>...</td>\n      <td>...</td>\n      <td>...</td>\n    </tr>\n    <tr>\n      <td>2020-05-31</td>\n      <td>7</td>\n      <td>10</td>\n      <td>10</td>\n      <td>13</td>\n      <td>9</td>\n      <td>13</td>\n      <td>11</td>\n      <td>14</td>\n      <td>20</td>\n      <td>22</td>\n      <td>20</td>\n      <td>11</td>\n      <td>12</td>\n      <td>14</td>\n      <td>13</td>\n    </tr>\n    <tr>\n      <td>2020-06-07</td>\n      <td>7</td>\n      <td>9</td>\n      <td>9</td>\n      <td>11</td>\n      <td>9</td>\n      <td>12</td>\n      <td>10</td>\n      <td>12</td>\n      <td>17</td>\n      <td>18</td>\n      <td>13</td>\n      <td>9</td>\n      <td>11</td>\n      <td>13</td>\n      <td>11</td>\n    </tr>\n    <tr>\n      <td>2020-06-14</td>\n      <td>6</td>\n      <td>8</td>\n      <td>7</td>\n      <td>10</td>\n      <td>8</td>\n      <td>10</td>\n      <td>9</td>\n      <td>11</td>\n      <td>15</td>\n      <td>16</td>\n      <td>15</td>\n      <td>12</td>\n      <td>10</td>\n      <td>11</td>\n      <td>8</td>\n    </tr>\n    <tr>\n      <td>2020-06-21</td>\n      <td>6</td>\n      <td>8</td>\n      <td>7</td>\n      <td>10</td>\n      <td>7</td>\n      <td>10</td>\n      <td>9</td>\n      <td>11</td>\n      <td>14</td>\n      <td>15</td>\n      <td>17</td>\n      <td>10</td>\n      <td>9</td>\n      <td>10</td>\n      <td>9</td>\n    </tr>\n    <tr>\n      <td>2020-06-28</td>\n      <td>6</td>\n      <td>8</td>\n      <td>7</td>\n      <td>11</td>\n      <td>7</td>\n      <td>9</td>\n      <td>9</td>\n      <td>10</td>\n      <td>14</td>\n      <td>12</td>\n      <td>12</td>\n      <td>10</td>\n      <td>8</td>\n      <td>10</td>\n      <td>9</td>\n    </tr>\n  </tbody>\n</table>\n<p>257 rows × 15 columns</p>\n</div>"
     },
     "metadata": {},
     "output_type": "execute_result",
     "execution_count": 28
    }
   ],
   "source": [
    "# make df_trends pretty & readable\n",
    "df_trends.columns = df_trends.columns.droplevel(0) #drop outside header\n",
    "df_trends = df_trends.drop('isPartial', axis = 1) #drop \"isPartial\"\n",
    "df_trends.reset_index(level=0,inplace=True) #reset_index\n",
    "df_trends.columns=['date','btc-US','btc-CA','btc-AU','btc-GB','btc-FR','btc-IT','btc-ES','btc-DE','btc-AT','btc-CH','btc-CN','btc-HK','btc-SG','btc-RU','btc-IN'] #change column names\n",
    "df_trends.index = pd.DatetimeIndex(df_trends['date'])\n",
    "df_trends.drop(labels='date', axis=1, inplace=True)\n",
    "df_trends"
   ],
   "metadata": {
    "collapsed": false,
    "pycharm": {
     "name": "#%%\n",
     "is_executing": false
    }
   }
  },
  {
   "cell_type": "code",
   "execution_count": 33,
   "outputs": [],
   "source": [
    "sns.set(color_codes=True)\n",
    "dx = df_trends.plot(figsize = (7,2.75),use_index=True, y=['btc-US','btc-CA','btc-AU','btc-GB','btc-FR','btc-IT','btc-ES','btc-DE','btc-AT','btc-CH','btc-CN','btc-HK','btc-SG','btc-RU','btc-IN'],\n",
    "                    kind=\"line\", title = \"\\'bitcoin\\' Google Trends\")\n",
    "dx.set_xlabel('Date')\n",
    "dx.set_ylabel('Trends Index')\n",
    "dx.tick_params(axis='both', which='both', labelsize=10)\n",
    "plt.show()"
   ],
   "metadata": {
    "collapsed": false,
    "pycharm": {
     "name": "#%%\n",
     "is_executing": false
    }
   }
  },
  {
   "cell_type": "code",
   "execution_count": 34,
   "outputs": [],
   "source": [
    "# save dataframe\n",
    "df_trends.to_csv(save_plot_to+'googletrends.txt')\n",
    "\n"
   ],
   "metadata": {
    "collapsed": false,
    "pycharm": {
     "name": "#%%\n",
     "is_executing": false
    }
   }
  }
 ],
 "metadata": {
  "kernelspec": {
   "display_name": "Python 3",
   "language": "python",
   "name": "python3"
  },
  "language_info": {
   "codemirror_mode": {
    "name": "ipython",
    "version": 2
   },
   "file_extension": ".py",
   "mimetype": "text/x-python",
   "name": "python",
   "nbconvert_exporter": "python",
   "pygments_lexer": "ipython2",
   "version": "2.7.6"
  },
  "pycharm": {
   "stem_cell": {
    "cell_type": "raw",
    "source": [],
    "metadata": {
     "collapsed": false
    }
   }
  }
 },
 "nbformat": 4,
 "nbformat_minor": 0
}