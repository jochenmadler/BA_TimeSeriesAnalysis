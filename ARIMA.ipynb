{
 "cells": [
  {
   "cell_type": "code",
   "execution_count": 17,
   "metadata": {
    "collapsed": true,
    "pycharm": {
     "is_executing": false
    }
   },
   "outputs": [],
   "source": [
    "import pandas as pd, numpy as np\n",
    "import matplotlib, seaborn as sns\n",
    "matplotlib.use('Qt5Agg')\n",
    "import matplotlib.pyplot as plt\n",
    "plt.rcParams[\"figure.figsize\"] = (7,3)\n",
    "plt.rcParams['figure.constrained_layout.use'] = True\n",
    "\n",
    "import requests\n",
    "import io"
   ]
  },
  {
   "cell_type": "code",
   "execution_count": 10,
   "outputs": [],
   "source": [
    "username = 'jochenmadler'\n",
    "token = '1a4c132c9cec1e3691b43f61eb54bcb4ff8c94e7'\n",
    "github_session = requests.Session()\n",
    "github_session.auth = (username, token)"
   ],
   "metadata": {
    "collapsed": false,
    "pycharm": {
     "name": "#%%\n",
     "is_executing": false
    }
   }
  },
  {
   "cell_type": "code",
   "execution_count": 18,
   "outputs": [],
   "source": [
    "\n",
    "mydateparser = lambda x: pd.datetime.strptime(str(x), '%Y-%m-%d %H:%M:%S')\n",
    "btc_series = pd.read_excel('Data/BTC_closing.xlsx',squeeze=True, parse_dates=[0], index_col=0, date_parser=mydateparser)\n",
    "btc_df = pd.DataFrame(btc_series)"
   ],
   "metadata": {
    "collapsed": false,
    "pycharm": {
     "name": "#%%\n",
     "is_executing": false
    }
   }
  },
  {
   "cell_type": "code",
   "execution_count": 19,
   "outputs": [
    {
     "name": "stdout",
     "text": [
      "ADF-Statistic: -1.8142 \n {'1%': -3.4333712566259007, '5%': -2.8628746849930136, '10%': -2.567480519733324}\n"
     ],
     "output_type": "stream"
    }
   ],
   "source": [
    "from statsmodels.tsa.stattools import adfuller\n",
    "adf_result = adfuller(btc_series)\n",
    "print('ADF-Statistic: %.4f' %adf_result[0], '\\n', adf_result[4])"
   ],
   "metadata": {
    "collapsed": false,
    "pycharm": {
     "name": "#%%\n",
     "is_executing": false
    }
   }
  },
  {
   "cell_type": "code",
   "execution_count": null,
   "outputs": [],
   "source": [
    "from statsmodels.graphics.tsaplots import plot_acf\n",
    "#Original series\n",
    "fig, axes = plt.subplots(3,2)\n",
    "axes[0,0].plot(btc_series); axes[0,0].set_title('btc_series')\n",
    "plot_acf(btc_series, ax=axes[0,1], lags=100)\n",
    "\n",
    "#1st difference\n",
    "axes[1,0].plot(btc_series.diff().dropna()); axes[1,0].set_title('btc_series_diff1')\n",
    "plot_acf((btc_series.diff().dropna()), ax=axes[1,1], lags=100)\n",
    "\n",
    "#2nd difference\n",
    "axes[2,0].plot(btc_series.diff().diff().dropna()); axes[2,0].set_title('btc_series_diff2')\n",
    "plot_acf(btc_series.diff().diff().dropna(), ax=axes[2,1], lags=100)"
   ],
   "metadata": {
    "collapsed": false,
    "pycharm": {
     "name": "#%% acf differencing overview\n",
     "is_executing": true
    }
   }
  },
  {
   "cell_type": "code",
   "execution_count": null,
   "outputs": [],
   "source": [
    "from pmdarima.arima.utils import ndiffs\n",
    "print('ADF_order:\\t', ndiffs(btc_series, test='adf'))\n",
    "print('PP_order:\\t', ndiffs(btc_series, test='pp'))\n",
    "print('KPSS_order:\\t', ndiffs(btc_series, test='kpss'))"
   ],
   "metadata": {
    "collapsed": false,
    "pycharm": {
     "name": "#%% find differencing order (d): 1\n",
     "is_executing": true
    }
   }
  },
  {
   "cell_type": "code",
   "execution_count": null,
   "outputs": [],
   "source": [
    "from statsmodels.graphics.tsaplots import plot_pacf\n",
    "fig, axes = plt.subplots(1,2)\n",
    "axes[0].plot(btc_series.diff().dropna()); axes[0].set_title('btc_series_diff1')\n",
    "plot_pacf(btc_series.diff().dropna(), ax=axes[1])"
   ],
   "metadata": {
    "collapsed": false,
    "pycharm": {
     "name": "#%% find AR(q): 0\n",
     "is_executing": true
    }
   }
  },
  {
   "cell_type": "code",
   "execution_count": null,
   "outputs": [],
   "source": [
    "from statsmodels.graphics.tsaplots import plot_acf\n",
    "fig, axes = plt.subplots(1,2)\n",
    "axes[0].plot(btc_series.diff().dropna()); axes[0].set_title('btc_series_diff1')\n",
    "plot_acf(btc_series.diff().dropna(), ax=axes[1])"
   ],
   "metadata": {
    "collapsed": false,
    "pycharm": {
     "name": "#%% find MA(q): 0\n",
     "is_executing": true
    }
   }
  },
  {
   "cell_type": "code",
   "execution_count": null,
   "outputs": [],
   "source": [
    "btc_log = np.log(btc_series)\n",
    "\n",
    "#Original series\n",
    "fig, axes = plt.subplots(3,2)\n",
    "axes[0,0].plot(btc_log); axes[0,0].set_title('btc_series_log')\n",
    "plot_acf(btc_series, ax=axes[0,1], lags=100)\n",
    "\n",
    "#1st difference\n",
    "axes[1,0].plot(btc_log.diff().dropna()); axes[1,0].set_title('btc_series_log_diff1')\n",
    "plot_acf((btc_log.diff().dropna()), ax=axes[1,1], lags=100)\n",
    "\n",
    "#2nd difference\n",
    "axes[2,0].plot(btc_log.diff().diff().dropna()); axes[2,0].set_title('btc_series_log_diff2')\n",
    "plot_acf(btc_log.diff().diff().dropna(), ax=axes[2,1], lags=100)\n"
   ],
   "metadata": {
    "collapsed": false,
    "pycharm": {
     "name": "#%% acf differencing overview with log of btc_series\n",
     "is_executing": true
    }
   }
  },
  {
   "cell_type": "code",
   "execution_count": null,
   "outputs": [],
   "source": [
    "from statsmodels.graphics.tsaplots import plot_pacf\n",
    "fig, axes = plt.subplots(1,2)\n",
    "axes[0].plot(btc_log.diff().dropna()); axes[0].set_title('btc_series_log_diff1')\n",
    "plot_pacf(btc_log.diff().dropna(), ax=axes[1])"
   ],
   "metadata": {
    "collapsed": false,
    "pycharm": {
     "name": "#%% find AR(q): 0\n",
     "is_executing": true
    }
   }
  },
  {
   "cell_type": "code",
   "execution_count": null,
   "outputs": [],
   "source": [
    "from statsmodels.graphics.tsaplots import plot_acf\n",
    "fig, axes = plt.subplots(1,2)\n",
    "axes[0].plot(btc_log.diff().dropna()); axes[0].set_title('btc_series_log_diff1')\n",
    "plot_acf(btc_log.diff().dropna(), ax=axes[1])"
   ],
   "metadata": {
    "collapsed": false,
    "pycharm": {
     "name": "#%% find MA(q): 0\n",
     "is_executing": true
    }
   }
  },
  {
   "cell_type": "code",
   "execution_count": null,
   "outputs": [],
   "source": [
    "from statsmodels.tsa.arima_model import ARIMA\n",
    "model = ARIMA(btc_series, order=(1,1,1))\n",
    "model_fit = model.fit(disp=0)\n",
    "model_fit.forecast()\n"
   ],
   "metadata": {
    "collapsed": false,
    "pycharm": {
     "name": "#%%\n",
     "is_executing": true
    }
   }
  },
  {
   "cell_type": "code",
   "execution_count": null,
   "outputs": [],
   "source": [
    "import warnings\n",
    "from statsmodels.tsa.arima_model import ARIMA\n",
    "from sklearn.metrics import mean_squared_error\n",
    "from math import sqrt\n",
    "\n",
    "#evaluate ARIMA model for given arima_order and return rmse\n",
    "def evaluate_arima_model(data, arima_order):\n",
    "    train_size = int(len(data) * 0.8)\n",
    "    train, test = data[0:train_size], data[train_size:]\n",
    "    history = [x for x in train]\n",
    "    #make predictions\n",
    "    predictions = list()\n",
    "    for t in range(len(test)):\n",
    "        model = ARIMA(btc_series, order=arima_order)\n",
    "        model_fit = model.fit(disp=0)\n",
    "        yhat = model_fit.forecast()[0] #no clue here\n",
    "        predictions.append(yhat)\n",
    "        history.append(test[t])\n",
    "    #calculate out of sample error\n",
    "    mse = mean_squared_error(test.values, predictions)\n",
    "    rmse = sqrt(mse)\n",
    "    return rmse\n",
    "\n",
    "#evaluate p,d,q combinations for ARIMA model\n",
    "def evaluate_models(data, p_values, d_values, q_values):\n",
    "    best_score, best_config = float('inf'), None\n",
    "    for p in p_values:\n",
    "        for d in d_values:\n",
    "            for q in q_values:\n",
    "                order = (p,d,q)\n",
    "                try:\n",
    "                    mse = evaluate_arima_model(data, order)\n",
    "                    if mse < best_score:\n",
    "                        best_score, best_config = mse, order\n",
    "                    print('ARIMA%s RMSE = %.4f' % (order, mse))\n",
    "                except:\n",
    "                    continue\n",
    "    print('Best ARIMA%s RMSE = %.4f' % (best_config, best_score))\n",
    "\n",
    "#evalue parameters\n",
    "p_values = range(0,1)\n",
    "d_values = range(0,2)\n",
    "q_values = range(0,1)\n",
    "warnings.filterwarnings('ignore')\n",
    "evaluate_models(btc_series, p_values, d_values, q_values)"
   ],
   "metadata": {
    "collapsed": false,
    "pycharm": {
     "name": "#%% grid search ARIMA(p,d,q) parameters:\n",
     "is_executing": true
    }
   }
  },
  {
   "cell_type": "code",
   "execution_count": null,
   "outputs": [],
   "source": [],
   "metadata": {
    "collapsed": false,
    "pycharm": {
     "name": "#%%\n",
     "is_executing": true
    }
   }
  }
 ],
 "metadata": {
  "kernelspec": {
   "display_name": "Python 3",
   "language": "python",
   "name": "python3"
  },
  "language_info": {
   "codemirror_mode": {
    "name": "ipython",
    "version": 2
   },
   "file_extension": ".py",
   "mimetype": "text/x-python",
   "name": "python",
   "nbconvert_exporter": "python",
   "pygments_lexer": "ipython2",
   "version": "2.7.6"
  },
  "pycharm": {
   "stem_cell": {
    "cell_type": "raw",
    "source": [],
    "metadata": {
     "collapsed": false
    }
   }
  }
 },
 "nbformat": 4,
 "nbformat_minor": 0
}