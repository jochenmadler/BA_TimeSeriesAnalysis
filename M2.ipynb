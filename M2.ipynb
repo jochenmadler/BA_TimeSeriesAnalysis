{
 "cells": [
  {
   "cell_type": "code",
   "execution_count": 14,
   "metadata": {
    "collapsed": true,
    "pycharm": {
     "is_executing": false
    }
   },
   "outputs": [],
   "source": [
    "# set up imports\n",
    "import pandas as pd, numpy as np, seaborn as sns\n",
    "from tabulate import tabulate\n",
    "import statsmodels\n",
    "import arch\n",
    "import matplotlib\n",
    "matplotlib.use('qt5agg')\n",
    "\n",
    "# configure plot style\n",
    "import matplotlib.pyplot as plt\n",
    "plt.rcParams['mathtext.fontset'] = 'stix'\n",
    "plt.rcParams['font.family'] = 'STIXGeneral'\n",
    "plt.rcParams[\"figure.figsize\"] = (7,2.75)\n",
    "plt.rcParams['figure.constrained_layout.use'] = False\n",
    "plt.rcParams['figure.dpi'] = 100\n",
    "plt.rcParams['savefig.dpi'] = 100\n",
    "plt.rcParams['lines.linewidth'] = 0.8\n",
    "save_plot_to =  r'C:\\\\Users\\joche\\OneDrive\\03 TUM - TUM-BWL\\Semester 8\\01 Bachelorarbeit\\04 Results\\Plots/'"
   ]
  },
  {
   "cell_type": "code",
   "execution_count": 3,
   "outputs": [],
   "source": [
    "# load data from excel file\n",
    "mydateparser = lambda x: pd.datetime.strptime(str(x), '%Y-%m-%d %H:%M:%S')\n",
    "btc = pd.read_excel('Data/BTC_closing.xlsx',squeeze=True, parse_dates=[0], index_col=0, date_parser=mydateparser)\n",
    "\n",
    "# crop data: 2015-08-07 to 2020-06-26\n",
    "start_date = '2015-08-07'\n",
    "end_date = '2020-06-26'\n",
    "btc = btc[start_date : end_date]"
   ],
   "metadata": {
    "collapsed": false,
    "pycharm": {
     "name": "#%%\n",
     "is_executing": false
    }
   }
  },
  {
   "cell_type": "code",
   "execution_count": 4,
   "outputs": [
    {
     "name": "stderr",
     "text": [
      "C:\\Users\\joche\\Anaconda3\\lib\\site-packages\\pandas\\plotting\\_matplotlib\\converter.py:103: FutureWarning: Using an implicitly registered datetime converter for a matplotlib plotting method. The converter was registered by pandas on import. Future versions of pandas will require you to explicitly register matplotlib converters.\n\nTo register the converters:\n\t>>> from pandas.plotting import register_matplotlib_converters\n\t>>> register_matplotlib_converters()\n  warnings.warn(msg, FutureWarning)\n"
     ],
     "output_type": "stream"
    },
    {
     "data": {
      "text/plain": "Text(0.5, 1.0, 'btc_log')"
     },
     "metadata": {},
     "output_type": "execute_result",
     "execution_count": 4
    }
   ],
   "source": [
    "# fig1: btc neben btc_log\n",
    "btc_log = np.log(btc)\n",
    "fig_1, axes = plt.subplots(1,2, sharex=True)\n",
    "axes[0].plot(btc)\n",
    "axes[0].set_title('btc')\n",
    "axes[1].plot(btc_log)\n",
    "axes[1].set_title('btc_log')"
   ],
   "metadata": {
    "collapsed": false,
    "pycharm": {
     "name": "#%%\n",
     "is_executing": false
    }
   }
  },
  {
   "cell_type": "code",
   "execution_count": 7,
   "outputs": [
    {
     "name": "stdout",
     "text": [
      "\\begin{center}\n\\begin{tabular}{lr}\n\\toprule\nTest Statistic     &             -1.500  \\\\\nP-value            &              0.533  \\\\\n\\bottomrule\n\\end{tabular}\n%\\caption{Augmented Dickey-Fuller Results}\n\\end{center}\n\nTrend: Constant \\newline\n Critical Values: -3.43 (1%), -2.86 (5%), -2.57 (10%) \\newline\n Null Hypothesis: The process contains a unit root. \\newline\n Alternative Hypothesis: The process is weakly stationary. \n\n\n \\begin{center}\n\\begin{tabular}{lr}\n\\toprule\nTest Statistic     &             -1.492  \\\\\nP-value            &              0.537  \\\\\n\\bottomrule\n\\end{tabular}\n%\\caption{Phillips-Perron Test (Z-tau)}\n\\end{center}\n\nTrend: Constant \\newline\n Critical Values: -3.43 (1%), -2.86 (5%), -2.57 (10%) \\newline\n Null Hypothesis: The process contains a unit root. \\newline\n Alternative Hypothesis: The process is weakly stationary.\n"
     ],
     "output_type": "stream"
    }
   ],
   "source": [
    "# ADF- and PP- mit btc_log\n",
    "from arch.unitroot import ADF, PhillipsPerron\n",
    "adf = ADF(btc_log)\n",
    "pp = PhillipsPerron(btc_log)\n",
    "print(adf.summary().as_latex(),'\\n\\n\\n', pp.summary().as_latex())"
   ],
   "metadata": {
    "collapsed": false,
    "pycharm": {
     "name": "#%%\n",
     "is_executing": false
    }
   }
  },
  {
   "cell_type": "code",
   "execution_count": 6,
   "outputs": [
    {
     "name": "stdout",
     "text": [
      "\\begin{center}\n\\begin{tabular}{lr}\n\\toprule\nTest Statistic     &            -43.373  \\\\\nP-value            &              0.000  \\\\\n\\bottomrule\n\\end{tabular}\n%\\caption{Augmented Dickey-Fuller Results}\n\\end{center}\n\nTrend: Constant \\newline\n Critical Values: -3.43 (1%), -2.86 (5%), -2.57 (10%) \\newline\n Null Hypothesis: The process contains a unit root. \\newline\n Alternative Hypothesis: The process is weakly stationary. \n\n\n \\begin{center}\n\\begin{tabular}{lr}\n\\toprule\nTest Statistic     &            -43.453  \\\\\nP-value            &              0.000  \\\\\n\\bottomrule\n\\end{tabular}\n%\\caption{Phillips-Perron Test (Z-tau)}\n\\end{center}\n\nTrend: Constant \\newline\n Critical Values: -3.43 (1%), -2.86 (5%), -2.57 (10%) \\newline\n Null Hypothesis: The process contains a unit root. \\newline\n Alternative Hypothesis: The process is weakly stationary.\n"
     ],
     "output_type": "stream"
    }
   ],
   "source": [
    "# Differenzenbildung: btc_log -> btc_log_diff1\n",
    "# ADF- and PP- mit btc_log_diff1\n",
    "from arch.unitroot import ADF, PhillipsPerron\n",
    "btc_log_diff1 = btc_log.diff().dropna()\n",
    "adf = ADF(btc_log_diff1)\n",
    "pp = PhillipsPerron(btc_log_diff1)\n",
    "print(adf.summary().as_latex(),'\\n\\n\\n', pp.summary().as_latex())"
   ],
   "metadata": {
    "collapsed": false,
    "pycharm": {
     "name": "#%%\n",
     "is_executing": false
    }
   }
  },
  {
   "cell_type": "code",
   "execution_count": 6,
   "outputs": [
    {
     "data": {
      "text/plain": "<Figure size 432x288 with 2 Axes>",
      "image/png": "[encoded data removed]"
     },
     "metadata": {},
     "output_type": "execute_result",
     "execution_count": 6
    },
    {
     "data": {
      "text/plain": "<Figure size 432x288 with 2 Axes>",
      "image/png": "[encoded data removed]"
     },
     "metadata": {
      "needs_background": "light"
     },
     "output_type": "display_data"
    }
   ],
   "source": [
    "# ACF und PACF plot für btc_log_diff1\n",
    "from statsmodels.graphics.tsaplots import plot_acf, plot_pacf\n",
    "fig_2, axes = plt.subplots(1,2)\n",
    "plot_acf(btc_log_diff1, ax=axes[0])\n",
    "plot_pacf(btc_log_diff1, ax=axes[1])\n"
   ],
   "metadata": {
    "collapsed": false,
    "pycharm": {
     "name": "#%%\n",
     "is_executing": false
    }
   }
  },
  {
   "cell_type": "code",
   "execution_count": 132,
   "outputs": [
    {
     "name": "stdout",
     "text": [
      "Best fit: ARIMA(0, 1, 0)\nAIC:   <function ARIMA.aic at 0x000001FDB85BB438>\nBIC:   <function ARIMA.bic at 0x000001FDB5E279D8>\nHQIC:  <function ARIMA.hqic at 0x000001FDB5E27E58>\n"
     ],
     "output_type": "stream"
    }
   ],
   "source": [
    "# ARIMA(p,1,q) fit: Teste verschiedene Modelle anhand des AIC/BIC/HQIC\n",
    "import pmdarima as pm\n",
    "import warnings\n",
    "warnings.filterwarnings('ignore')\n",
    "def writeARIMA_LaTeX_logs_to_file(p_values, q_values):\n",
    "    import sys\n",
    "    old_stdout = sys.stdout\n",
    "    sys.stdout = open(save_plot_to+'ARIMA_logs_LaTeX.txt', \"w\")\n",
    "    \n",
    "    min_aic, opt_order = float('inf'), None\n",
    "    for p in p_values:\n",
    "        for q in q_values:\n",
    "            current_order = (p, 1, q)\n",
    "            try:\n",
    "                model = pm.ARIMA(order=current_order)\n",
    "                model_fitted = model.fit(np.log(btc), display=False)\n",
    "                if model_fitted.aic() < min_aic:\n",
    "                    min_aic, opt_order = model_fitted.aic(), current_order\n",
    "                print(model_fitted.summary().as_latex(), '\\n\\n\\n')\n",
    "            except:\n",
    "                continue\n",
    "    opt_model = pm.ARIMA(order=opt_order)\n",
    "    opt_fitted = opt_model.fit(np.log(btc), disp=False)\n",
    "    \n",
    "    sys.stdout.close()\n",
    "    sys.stdout = old_stdout\n",
    "    print('Best fit: ARIMA{}\\nAIC:   {}\\nBIC:   {}\\nHQIC:  {}'.format(opt_order, opt_fitted.aic, opt_fitted.bic, opt_fitted.hqic))\n",
    "\n",
    "p_values = [0, 5, 6]\n",
    "q_values = [0, 5, 10]\n",
    "writeARIMA_LaTeX_logs_to_file(p_values, q_values)"
   ],
   "metadata": {
    "collapsed": false,
    "pycharm": {
     "name": "#%%\n",
     "is_executing": false
    }
   }
  },
  {
   "cell_type": "code",
   "execution_count": 6,
   "outputs": [
    {
     "name": "stdout",
     "text": [
      "train: 1428 \ntest: 358 \nSUM: 1786 \nlen btc: 1786\n"
     ],
     "output_type": "stream"
    }
   ],
   "source": [
    "# Teile btc in 80% Train und 20% Test\n",
    "train_size = int(len(btc) * 0.8)\n",
    "train, test = btc[:train_size], btc[train_size:]\n",
    "print('train:', len(train), '\\ntest:', len(test), '\\nSUM:', len(train) + len(test), '\\nlen btc:', len(btc))"
   ],
   "metadata": {
    "collapsed": false,
    "pycharm": {
     "name": "#%%\n",
     "is_executing": false
    }
   }
  },
  {
   "cell_type": "code",
   "execution_count": 134,
   "outputs": [],
   "source": [
    "# Plot Result Diagnostic (std. residuals, histogram, qq-plot, correlogram) of optimal model\n",
    "def plot_model_diagnostics(model_order):\n",
    "    model = pm.ARIMA(order=model_order)\n",
    "    model_fitted = model.fit(np.log(train), disp=False)\n",
    "    model_fitted.plot_diagnostics()\n",
    "\n",
    "opt_order = (0,1,0)\n",
    "plot_model_diagnostics(opt_order)"
   ],
   "metadata": {
    "collapsed": false,
    "pycharm": {
     "name": "#%%\n",
     "is_executing": false
    }
   }
  },
  {
   "cell_type": "code",
   "execution_count": 7,
   "outputs": [
    {
     "data": {
      "text/plain": "Date\n2015-08-08   -6.645683\n2015-08-09    1.563218\n2015-08-10   -0.230119\n2015-08-11    2.238439\n2015-08-12   -1.483043\n                ...   \n2020-06-22    3.709197\n2020-06-23   -0.197539\n2020-06-24   -3.282047\n2020-06-25   -0.523964\n2020-06-26   -1.099753\nName: Close, Length: 1785, dtype: float64"
     },
     "metadata": {},
     "output_type": "execute_result",
     "execution_count": 7
    }
   ],
   "source": [
    "# create returns\n",
    "returns = btc.pct_change().mul(100).dropna()\n",
    "returns"
   ],
   "metadata": {
    "collapsed": false,
    "pycharm": {
     "name": "#%%\n",
     "is_executing": false
    }
   }
  },
  {
   "cell_type": "code",
   "execution_count": 36,
   "outputs": [],
   "source": [
    "import pmdarima as pm\n",
    "model = pm.ARIMA(order=(0,1,0))\n",
    "model_fitted = model.fit(y=returns, disp=False)\n",
    "predictions = model_fitted.predict(n_periods= len(test))\n",
    "resids = model_fitted.resid()"
   ],
   "metadata": {
    "collapsed": false,
    "pycharm": {
     "name": "#%%\n",
     "is_executing": false
    }
   }
  },
  {
   "cell_type": "code",
   "execution_count": 30,
   "outputs": [
    {
     "traceback": [
      "\u001b[1;31m---------------------------------------------------------------------------\u001b[0m",
      "\u001b[1;31mAttributeError\u001b[0m                            Traceback (most recent call last)",
      "\u001b[1;32m<ipython-input-30-5e5f197be55a>\u001b[0m in \u001b[0;36m<module>\u001b[1;34m\u001b[0m\n\u001b[0;32m      1\u001b[0m \u001b[1;32mfrom\u001b[0m \u001b[0mstatsmodels\u001b[0m\u001b[1;33m.\u001b[0m\u001b[0mstats\u001b[0m\u001b[1;33m.\u001b[0m\u001b[0mdiagnostic\u001b[0m \u001b[1;32mimport\u001b[0m \u001b[0macorr_breusch_godfrey\u001b[0m\u001b[1;33m\u001b[0m\u001b[1;33m\u001b[0m\u001b[0m\n\u001b[1;32m----> 2\u001b[1;33m \u001b[0macorr_breusch_godfrey\u001b[0m\u001b[1;33m(\u001b[0m\u001b[1;33m[\u001b[0m\u001b[1;36m0.1\u001b[0m\u001b[1;33m,\u001b[0m\u001b[1;36m0.2\u001b[0m\u001b[1;33m]\u001b[0m\u001b[1;33m)\u001b[0m\u001b[1;33m\u001b[0m\u001b[1;33m\u001b[0m\u001b[0m\n\u001b[0m\u001b[0;32m      3\u001b[0m \u001b[1;33m\u001b[0m\u001b[0m\n",
      "\u001b[1;32m~\\Anaconda3\\lib\\site-packages\\pandas\\util\\_decorators.py\u001b[0m in \u001b[0;36mwrapper\u001b[1;34m(*args, **kwargs)\u001b[0m\n\u001b[0;32m    206\u001b[0m                 \u001b[1;32melse\u001b[0m\u001b[1;33m:\u001b[0m\u001b[1;33m\u001b[0m\u001b[1;33m\u001b[0m\u001b[0m\n\u001b[0;32m    207\u001b[0m                     \u001b[0mkwargs\u001b[0m\u001b[1;33m[\u001b[0m\u001b[0mnew_arg_name\u001b[0m\u001b[1;33m]\u001b[0m \u001b[1;33m=\u001b[0m \u001b[0mnew_arg_value\u001b[0m\u001b[1;33m\u001b[0m\u001b[1;33m\u001b[0m\u001b[0m\n\u001b[1;32m--> 208\u001b[1;33m             \u001b[1;32mreturn\u001b[0m \u001b[0mfunc\u001b[0m\u001b[1;33m(\u001b[0m\u001b[1;33m*\u001b[0m\u001b[0margs\u001b[0m\u001b[1;33m,\u001b[0m \u001b[1;33m**\u001b[0m\u001b[0mkwargs\u001b[0m\u001b[1;33m)\u001b[0m\u001b[1;33m\u001b[0m\u001b[1;33m\u001b[0m\u001b[0m\n\u001b[0m\u001b[0;32m    209\u001b[0m \u001b[1;33m\u001b[0m\u001b[0m\n\u001b[0;32m    210\u001b[0m         \u001b[1;32mreturn\u001b[0m \u001b[0mwrapper\u001b[0m\u001b[1;33m\u001b[0m\u001b[1;33m\u001b[0m\u001b[0m\n",
      "\u001b[1;32m~\\AppData\\Roaming\\Python\\Python37\\site-packages\\statsmodels\\stats\\diagnostic.py\u001b[0m in \u001b[0;36macorr_breusch_godfrey\u001b[1;34m(res, nlags, store)\u001b[0m\n\u001b[0;32m    780\u001b[0m     \"\"\"\n\u001b[0;32m    781\u001b[0m \u001b[1;33m\u001b[0m\u001b[0m\n\u001b[1;32m--> 782\u001b[1;33m     \u001b[0mx\u001b[0m \u001b[1;33m=\u001b[0m \u001b[0mnp\u001b[0m\u001b[1;33m.\u001b[0m\u001b[0masarray\u001b[0m\u001b[1;33m(\u001b[0m\u001b[0mres\u001b[0m\u001b[1;33m.\u001b[0m\u001b[0mresid\u001b[0m\u001b[1;33m)\u001b[0m\u001b[1;33m.\u001b[0m\u001b[0msqueeze\u001b[0m\u001b[1;33m(\u001b[0m\u001b[1;33m)\u001b[0m\u001b[1;33m\u001b[0m\u001b[1;33m\u001b[0m\u001b[0m\n\u001b[0m\u001b[0;32m    783\u001b[0m     \u001b[1;32mif\u001b[0m \u001b[0mx\u001b[0m\u001b[1;33m.\u001b[0m\u001b[0mndim\u001b[0m \u001b[1;33m!=\u001b[0m \u001b[1;36m1\u001b[0m\u001b[1;33m:\u001b[0m\u001b[1;33m\u001b[0m\u001b[1;33m\u001b[0m\u001b[0m\n\u001b[0;32m    784\u001b[0m         raise ValueError(\"Model resid must be a 1d array. Cannot be used on\"\n",
      "\u001b[1;31mAttributeError\u001b[0m: 'list' object has no attribute 'resid'"
     ],
     "ename": "AttributeError",
     "evalue": "'list' object has no attribute 'resid'",
     "output_type": "error"
    }
   ],
   "source": [
    "from statsmodels.stats.diagnostic import acorr_breusch_godfrey\n",
    "acorr_breusch_godfrey()"
   ],
   "metadata": {
    "collapsed": false,
    "pycharm": {
     "name": "#%%\n",
     "is_executing": false
    }
   }
  },
  {
   "cell_type": "code",
   "execution_count": 44,
   "outputs": [
    {
     "traceback": [
      "\u001b[1;31m---------------------------------------------------------------------------\u001b[0m",
      "\u001b[1;31mValueError\u001b[0m                                Traceback (most recent call last)",
      "\u001b[1;32m<ipython-input-44-8b577f632871>\u001b[0m in \u001b[0;36m<module>\u001b[1;34m\u001b[0m\n\u001b[0;32m      1\u001b[0m \u001b[1;32mfrom\u001b[0m \u001b[0mstatsmodels\u001b[0m\u001b[1;33m.\u001b[0m\u001b[0mstats\u001b[0m\u001b[1;33m.\u001b[0m\u001b[0mdiagnostic\u001b[0m \u001b[1;32mimport\u001b[0m \u001b[0mhet_white\u001b[0m\u001b[1;33m\u001b[0m\u001b[1;33m\u001b[0m\u001b[0m\n\u001b[1;32m----> 2\u001b[1;33m \u001b[0mresult\u001b[0m \u001b[1;33m=\u001b[0m \u001b[0mhet_white\u001b[0m\u001b[1;33m(\u001b[0m\u001b[0mmodel_fitted\u001b[0m\u001b[1;33m.\u001b[0m\u001b[0mresid\u001b[0m\u001b[1;33m(\u001b[0m\u001b[1;33m)\u001b[0m\u001b[1;33m[\u001b[0m\u001b[1;36m1427\u001b[0m\u001b[1;33m:\u001b[0m\u001b[1;33m]\u001b[0m\u001b[1;33m,\u001b[0m \u001b[0mtest\u001b[0m\u001b[1;33m.\u001b[0m\u001b[0mvalues\u001b[0m\u001b[1;33m)\u001b[0m\u001b[1;33m\u001b[0m\u001b[1;33m\u001b[0m\u001b[0m\n\u001b[0m\u001b[0;32m      3\u001b[0m \u001b[1;33m\u001b[0m\u001b[0m\n",
      "\u001b[1;32m~\\AppData\\Roaming\\Python\\Python37\\site-packages\\statsmodels\\stats\\diagnostic.py\u001b[0m in \u001b[0;36mhet_white\u001b[1;34m(resid, exog)\u001b[0m\n\u001b[0;32m    938\u001b[0m     \u001b[0my\u001b[0m \u001b[1;33m=\u001b[0m \u001b[0marray_like\u001b[0m\u001b[1;33m(\u001b[0m\u001b[0mresid\u001b[0m\u001b[1;33m,\u001b[0m \u001b[1;34m\"resid\"\u001b[0m\u001b[1;33m,\u001b[0m \u001b[0mndim\u001b[0m\u001b[1;33m=\u001b[0m\u001b[1;36m2\u001b[0m\u001b[1;33m,\u001b[0m \u001b[0mshape\u001b[0m\u001b[1;33m=\u001b[0m\u001b[1;33m(\u001b[0m\u001b[0mx\u001b[0m\u001b[1;33m.\u001b[0m\u001b[0mshape\u001b[0m\u001b[1;33m[\u001b[0m\u001b[1;36m0\u001b[0m\u001b[1;33m]\u001b[0m\u001b[1;33m,\u001b[0m \u001b[1;36m1\u001b[0m\u001b[1;33m)\u001b[0m\u001b[1;33m)\u001b[0m\u001b[1;33m\u001b[0m\u001b[1;33m\u001b[0m\u001b[0m\n\u001b[0;32m    939\u001b[0m     \u001b[1;32mif\u001b[0m \u001b[0mx\u001b[0m\u001b[1;33m.\u001b[0m\u001b[0mshape\u001b[0m\u001b[1;33m[\u001b[0m\u001b[1;36m1\u001b[0m\u001b[1;33m]\u001b[0m \u001b[1;33m<\u001b[0m \u001b[1;36m2\u001b[0m\u001b[1;33m:\u001b[0m\u001b[1;33m\u001b[0m\u001b[1;33m\u001b[0m\u001b[0m\n\u001b[1;32m--> 940\u001b[1;33m         raise ValueError(\"White's heteroskedasticity test requires exog to\"\n\u001b[0m\u001b[0;32m    941\u001b[0m                          \"have at least two columns where one is a constant.\")\n\u001b[0;32m    942\u001b[0m     \u001b[0mnobs\u001b[0m\u001b[1;33m,\u001b[0m \u001b[0mnvars0\u001b[0m \u001b[1;33m=\u001b[0m \u001b[0mx\u001b[0m\u001b[1;33m.\u001b[0m\u001b[0mshape\u001b[0m\u001b[1;33m\u001b[0m\u001b[1;33m\u001b[0m\u001b[0m\n",
      "\u001b[1;31mValueError\u001b[0m: White's heteroskedasticity test requires exog tohave at least two columns where one is a constant."
     ],
     "ename": "ValueError",
     "evalue": "White's heteroskedasticity test requires exog tohave at least two columns where one is a constant.",
     "output_type": "error"
    }
   ],
   "source": [
    "from statsmodels.stats.diagnostic import het_white\n",
    "result = het_white(model_fitted.resid()[1427:], test.values)"
   ],
   "metadata": {
    "collapsed": false,
    "pycharm": {
     "name": "#%%\n",
     "is_executing": false
    }
   }
  },
  {
   "cell_type": "code",
   "execution_count": 41,
   "outputs": [],
   "source": [
    "figg, axs = plt.subplots()\n",
    "axs.plot(returns.values)\n",
    "axs.plot(predictions, color='red')\n",
    "axs.plot(resids, zorder=1)\n",
    "plt.show()"
   ],
   "metadata": {
    "collapsed": false,
    "pycharm": {
     "name": "#%%\n",
     "is_executing": false
    }
   }
  },
  {
   "cell_type": "code",
   "execution_count": 135,
   "outputs": [
    {
     "name": "stdout",
     "text": [
      "Model:\t\t ARIMA (0, 1, 0) \nMSE:\t\t 340.105196576871 \nAusreißer:\t 0\n"
     ],
     "output_type": "stream"
    }
   ],
   "source": [
    "# Einschrittprognose für Test mit ARIMA(0,1,0)\n",
    "import warnings\n",
    "warnings.filterwarnings('ignore')\n",
    "from sklearn.metrics import mean_squared_error as mse\n",
    "import pmdarima as pm\n",
    "\n",
    "history = [x for x in train]\n",
    "predicted_values = list()\n",
    "lo_confint = list()\n",
    "up_confint = list()\n",
    "\n",
    "def rolling_forecast(model_order):\n",
    "    global broke_confint_ctr\n",
    "    for i in range(len(test)):\n",
    "        model = pm.ARIMA(order=model_order)\n",
    "        model_fitted = model.fit(y= np.log(history), disp=False)\n",
    "        model_result = model_fitted.predict(n_periods=1, return_conf_int=True)\n",
    "        yhat = np.exp(model_result[0][0])\n",
    "        lo_confval = np.exp(model_result[1][0][0])\n",
    "        up_confval = np.exp(model_result[1][0][1])\n",
    "        if yhat > up_confval or yhat < lo_confval:\n",
    "           broke_confint_ctr += 1\n",
    "        predicted_values.append(yhat)\n",
    "        lo_confint.append(lo_confval)\n",
    "        up_confint.append(up_confval)\n",
    "        history.append(test[i])\n",
    "\n",
    "    # print summary\n",
    "    rmse = np.sqrt(mse(predicted_values, test.values))\n",
    "    print('Model:\\t\\t', 'ARIMA', model_order, '\\nMSE:\\t\\t', rmse, '\\nAusreißer:\\t', broke_confint_ctr)\n",
    "\n",
    "rolling_forecast(opt_order)\n",
    "\n",
    "# make series for plotting\n",
    "index_pred = np.arange(len(train) + 1, len(btc) + 1)\n",
    "pred_series = pd.Series(predicted_values, index=index_pred)\n",
    "test_series = pd.Series(test.values, index=index_pred)\n",
    "lower_band = pd.Series(lo_confint, index=index_pred)\n",
    "upper_band = pd.Series(up_confint, index=index_pred)"
   ],
   "metadata": {
    "collapsed": false,
    "pycharm": {
     "name": "#%%\n",
     "is_executing": false
    }
   }
  },
  {
   "cell_type": "code",
   "execution_count": 136,
   "outputs": [],
   "source": [
    "# Plot Einschrittprognosen für ARIMA(0,1,0)\n",
    "import pylab\n",
    "def plot_rolling_forecast():\n",
    "    fig_3 = pylab.plot(train.values, label= r'$X_T$')\n",
    "    pylab.plot(pred_series, label= r'$\\hat{X}_{T+h}$')\n",
    "    pylab.plot(test_series, label= r'$X_{T+h}$')\n",
    "    pylab.fill_between(lower_band.index, lower_band, upper_band, color='k', alpha=0.1)\n",
    "    pylab.legend(loc='upper left')\n",
    "    pylab.title('Einschrittprognose ARIMA(0,1,0)')\n",
    "\n",
    "plot_rolling_forecast()"
   ],
   "metadata": {
    "collapsed": false,
    "pycharm": {
     "name": "#%%\n",
     "is_executing": false
    }
   }
  },
  {
   "cell_type": "code",
   "execution_count": null,
   "outputs": [],
   "source": [],
   "metadata": {
    "collapsed": false,
    "pycharm": {
     "name": "#%%\n"
    }
   }
  }
 ],
 "metadata": {
  "kernelspec": {
   "display_name": "Python 3",
   "language": "python",
   "name": "python3"
  },
  "language_info": {
   "codemirror_mode": {
    "name": "ipython",
    "version": 2
   },
   "file_extension": ".py",
   "mimetype": "text/x-python",
   "name": "python",
   "nbconvert_exporter": "python",
   "pygments_lexer": "ipython2",
   "version": "2.7.6"
  },
  "pycharm": {
   "stem_cell": {
    "cell_type": "raw",
    "source": [],
    "metadata": {
     "collapsed": false
    }
   }
  }
 },
 "nbformat": 4,
 "nbformat_minor": 0
}