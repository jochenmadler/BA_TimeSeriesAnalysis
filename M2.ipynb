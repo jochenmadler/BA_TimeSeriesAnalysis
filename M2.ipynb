{
 "cells": [
  {
   "cell_type": "code",
   "execution_count": 12,
   "metadata": {
    "collapsed": true,
    "pycharm": {
     "is_executing": false
    }
   },
   "outputs": [],
   "source": [
    "# set up imports\n",
    "import pandas as pd, numpy as np, seaborn as sns\n",
    "from tabulate import tabulate\n",
    "import statsmodels\n",
    "import arch\n",
    "import matplotlib\n",
    "matplotlib.use('qt5agg')\n",
    "\n",
    "# configure plot style\n",
    "import matplotlib.pyplot as plt\n",
    "plt.rcParams['mathtext.fontset'] = 'stix'\n",
    "plt.rcParams['font.family'] = 'STIXGeneral'\n",
    "plt.rcParams[\"figure.figsize\"] = (12,5)\n",
    "plt.rcParams['figure.constrained_layout.use'] = False\n",
    "plt.rcParams['figure.dpi'] = 100\n",
    "plt.rcParams['savefig.dpi'] = 100\n",
    "plt.rcParams['lines.linewidth'] = 0.8\n",
    "save_plot_to =  r'C:\\\\Users\\joche\\OneDrive\\03 TUM - TUM-BWL\\Semester 8\\01 Bachelorarbeit\\04 Results\\Plots/'"
   ]
  },
  {
   "cell_type": "code",
   "execution_count": 2,
   "outputs": [],
   "source": [
    "# load data: new_btc.txt, created with M4\n",
    "index_name = 'date'\n",
    "btc = pd.read_csv('Data/btc_new.txt', index_col=0)\n",
    "btc.index = pd.DatetimeIndex(btc.index, normalize=True).normalize()\n",
    "btc"
   ],
   "metadata": {
    "collapsed": false,
    "pycharm": {
     "name": "#%%\n",
     "is_executing": false
    }
   }
  },
  {
   "cell_type": "code",
   "execution_count": 3,
   "outputs": [],
   "source": [
    "# split data in pre and post bubble 2018\n",
    "pre_bubble_end_date = '2017-12-01'\n",
    "post_bubble_start_date = '2018-02-01'\n",
    "\n",
    "# pre bubble df\n",
    "btc_pre = btc[:pre_bubble_end_date]\n",
    "\n",
    "# post bubble df\n",
    "btc_post = btc[post_bubble_start_date:]"
   ],
   "metadata": {
    "collapsed": false,
    "pycharm": {
     "name": "#%%\n",
     "is_executing": false
    }
   }
  },
  {
   "cell_type": "code",
   "execution_count": 27,
   "outputs": [],
   "source": [
    "# define overview-printing function of dataframe\n",
    "def dates_overview(dataframe):\n",
    "    print('start_date:\\t', dataframe.index[0])\n",
    "    print('end_date:\\t', dataframe.index[-1])\n",
    "    print('len df:\\t\\t', len(dataframe))\n",
    "\n",
    "# define train/test-splitting function of dataframe\n",
    "def split_traintest_df(dataframe):\n",
    "    train_size = int(len(dataframe) * 0.8)\n",
    "    df_train, df_test = dataframe[0:train_size], dataframe[train_size:]\n",
    "    # create dataframe for printout\n",
    "    data = {'Dataframe': ['dataframe', 'df_train', 'df_test'],\n",
    "            'date_start': [dataframe.index[0], df_train.index[0], df_test.index[0]],\n",
    "            'date_end': [dataframe.index[-1], df_train.index[-1], df_test.index[-1]],\n",
    "            'nobs': [len(dataframe), len(df_train), len(df_test)]}\n",
    "    df_print = pd.DataFrame(data, columns=['Dataframe','date_start','date_end','nobs'])\n",
    "    print(df_print)\n",
    "    return df_train, df_test\n",
    "\n",
    "# define log-taking and relabeling function\n",
    "def log_of_df(dataframe):\n",
    "    df_log = np.log(dataframe)\n",
    "    new_cols = list()\n",
    "    for i in df_log.columns:\n",
    "        new_cols.append(i+'_log')\n",
    "    df_log.columns = new_cols\n",
    "    # fill na value of negative oil price on 2020-04-20 with 0\n",
    "    df_log.fillna(value=0, inplace=True)\n",
    "    return df_log\n",
    "\n",
    "# define first difference-taking function of dataframe\n",
    "def diff_of_df(dataframe):\n",
    "    df_train_log_diff = dataframe.diff()\n",
    "    # relabel columns\n",
    "    new_cols = list()\n",
    "    for i in df_train_log_diff.columns:\n",
    "        new_cols.append(i+'_diff')\n",
    "    df_train_log_diff.columns = new_cols\n",
    "    return df_train_log_diff\n",
    "\n",
    "# define return creating function of dataframe\n",
    "def create_returns(dataframe_train):\n",
    "    dataframe_train_log = log_of_df(dataframe_train)\n",
    "    dataframe_returns = diff_of_df(dataframe_train_log)\n",
    "    dataframe_returns.columns = ['btc_ret']\n",
    "    return dataframe_train_log, dataframe_returns\n",
    "\n",
    "# define log and ret + ACF & PACF plotting function for dataframe_log, dataframe_ret\n",
    "from statsmodels.graphics.tsaplots import plot_acf, plot_pacf\n",
    "def plot_acf_pacf(dataframe_log, dataframe_ret):\n",
    "    fig, axs = plt.subplots(3,2)\n",
    "    axs[0][0].plot(dataframe_log.iloc[1:], color='black')\n",
    "    axs[0][0].set_title('btc_log')\n",
    "    axs[0][1].plot(dataframe_ret.iloc[1:], color='black')\n",
    "    axs[0][1].set_title('btc_ret')\n",
    "    plot_acf(dataframe_log, color='black', ax=axs[1][0], markersize=2)\n",
    "    plot_acf(dataframe_ret.iloc[1:], color='black', ax=axs[1][1], markersize=2)\n",
    "    plot_pacf(dataframe_log, color='black', ax=axs[2][0], markersize=2)\n",
    "    plot_pacf(dataframe_ret.iloc[1:], color='black', ax=axs[2][1], markersize=2)\n",
    "    fig.set_size_inches(12,5)\n",
    "    fig.tight_layout()\n",
    "    return fig\n",
    "\n",
    "# define adf- and pp-testing of dataframe with latex-printout on/off\n",
    "from arch.unitroot import ADF, PhillipsPerron\n",
    "def stationarity_tests(dataframe, latex):\n",
    "    for col in dataframe:\n",
    "        adf = ADF(dataframe[col])\n",
    "        pp = PhillipsPerron(dataframe[col])\n",
    "        if latex is False:\n",
    "            # write summary as plain text to std.out\n",
    "            print('Timeseries:\\t',col,'\\n',\n",
    "                  adf.summary(),'\\n\\n',pp.summary(),'\\n\\n\\n')\n",
    "        else:\n",
    "            # write summary as latex to file\n",
    "            with open(save_plot_to + 'Stationarity_Tests_LaTeX.txt', 'a') as myfile:\n",
    "                myfile.write('Timeseries:\\t'+col+'\\n'\n",
    "                         +adf.summary().as_latex()+'\\n\\n'\n",
    "                         +pp.summary().as_latex()+'\\n\\n\\n')\n",
    "                \n",
    "# define stationaritiy table-generating function of a dataframe filepath\n",
    "def stationarity_table_aslatex_from_df(filepath):\n",
    "    # read in dataframe from .txt file\n",
    "    stationarity_dataframe = pd.read_csv(save_plot_to+filepath, delimiter='\\s+', header=0)\n",
    "    # print dataframe as latex output\n",
    "    print(tabulate(stationarity_dataframe, headers=stationarity_dataframe.columns, showindex=False, tablefmt=\"latex\"))\n",
    "\n",
    "# define auto-ARIMA function for a dataframe_ret\n",
    "import pmdarima as pm\n",
    "import warnings\n",
    "warnings.filterwarnings('ignore')\n",
    "def auto_arima_optimal_fit_of(dataframe_ret, max_p, max_q):\n",
    "    model_auto = pm.auto_arima(dataframe_ret, start_p=0, start_q=0,\n",
    "                               max_p=max_p, max_q=max_q,\n",
    "                               test='adf',\n",
    "                               m=1,\n",
    "                               d=None,\n",
    "                               trace=True,\n",
    "                               error_action='ignore',\n",
    "                               suppress_warnings=True,\n",
    "                               seasonal=False,\n",
    "                               stepwise=True)\n",
    "    return model_auto\n",
    "\n",
    "# define manually verifying function for dataframe_ret\n",
    "import pmdarima as pm\n",
    "import warnings\n",
    "warnings.filterwarnings('ignore')\n",
    "def arima_fit_of(dataframe_ret, max_p, max_q, latex):\n",
    "    for p in range(max_p):\n",
    "        for q in range(max_q):\n",
    "            temp_model = pm.ARIMA(order=(p,0,q))\n",
    "            temp_fitted = temp_model.fit(dataframe_ret)\n",
    "            if latex is False:\n",
    "                # write summary as plain text to std.out\n",
    "                print('Current order: {0},0,{1}\\n'.format(p,q),\n",
    "                temp_fitted.summary(),'\\n')\n",
    "            else:\n",
    "                # write summary as latex to file\n",
    "                with open(save_plot_to + 'M2_ARIMA_configuratios_LaTeX.txt', 'a') as myfile:\n",
    "                        myfile.write('Current order: {0},0,{1}\\n'.format(p,q)+\n",
    "                                     temp_fitted.summary().as_latex()+'\\n\\n')\n",
    "\n",
    "# define rolling forecast function for dataframe and p,q values\n",
    "from sklearn.metrics import mean_squared_error as mse\n",
    "def arima_rolling_forecast(dataframe, p, q):\n",
    "    # create train and test dataframes\n",
    "    train_size = int(len(dataframe) * 0.8)\n",
    "    dataframe_train, dataframe_test = dataframe[0:train_size], dataframe[train_size:]\n",
    "    index = len(dataframe_train) - 1\n",
    "    # initialize lists\n",
    "    pred_val_btc = list()\n",
    "    lo_conf_int_btc = list()\n",
    "    up_conf_int_btc = list()\n",
    "    ausreisser_ctr = 0\n",
    "    # rolling forecast\n",
    "    for i in range(len(dataframe_test)):\n",
    "        # input data, dependent on i\n",
    "        input_data = log_of_df(dataframe).diff().values[max(p,q)+1:index + i]\n",
    "        # fit model and predict 1 step\n",
    "        dataframe_arima = pm.ARIMA(order=(p,0,q))\n",
    "        dataframe_arima_fitted = dataframe_arima.fit(y=input_data, disp=False)\n",
    "        dataframe_arima_result = dataframe_arima_fitted.predict(n_periods=1, return_conf_int=True)\n",
    "        # obtain absolute (inversed) btc values for mean prediction, upper- and lower confidence interval\n",
    "        yhat_btc = np.exp(dataframe_arima_result[0][0] + np.log(dataframe).iloc[:,0][index+i])\n",
    "        lo_conf_btc_val = np.exp(dataframe_arima_result[1][0][0] + np.log(dataframe).iloc[:,0][index+i])\n",
    "        up_conf_btc_val = np.exp(dataframe_arima_result[1][0][1] + np.log(dataframe).iloc[:,0][index+i])\n",
    "        if (dataframe.iloc[:,0][index+i+1] > up_conf_btc_val) or (dataframe.iloc[:,0][index+i+1] < lo_conf_btc_val):\n",
    "            ausreisser_ctr += 1\n",
    "        pred_val_btc.append(yhat_btc)\n",
    "        lo_conf_int_btc.append(lo_conf_btc_val)\n",
    "        up_conf_int_btc.append(up_conf_btc_val)\n",
    "    # return [0]: mse, [1]: ausreisser ctr, [2]: predictions, [3]: lo_confint, [4]: up_confint\n",
    "    return (np.sqrt(mse(pred_val_btc, dataframe_test.iloc[:,0].values)), ausreisser_ctr,\n",
    "            pred_val_btc, lo_conf_int_btc, up_conf_int_btc)\n",
    "\n",
    "# define series-generating and plotting function for dataframe_arima_pred_result\n",
    "def plot_arima_pred_result(dataframe, dataframe_train, dataframe_test, dataframe_arima_pred_result):\n",
    "    # make series for plotting pred. vs. actual\n",
    "    index_pred = np.arange(len(dataframe_train) + 1, len(dataframe) + 1)\n",
    "    pred_val_btc_series = pd.Series(dataframe_arima_pred_result[2], index=index_pred)\n",
    "    test_series_btc = pd.Series(dataframe_test.iloc[:,0].values, index=index_pred)\n",
    "    lo_conf_int_btc_series = pd.Series(dataframe_arima_pred_result[3], index=index_pred)\n",
    "    up_conf_int_btc_series = pd.Series(dataframe_arima_pred_result[4], index=index_pred)\n",
    "    # create plot: \n",
    "    fig, axs = plt.subplots(1,2)\n",
    "    axs[0].plot(dataframe_train.iloc[:,0].values, label= r'$btc_T$', color='black')\n",
    "    axs[0].plot(test_series_btc, label= r'$btc_{T+h}$', color='green')\n",
    "    axs[0].plot(pred_val_btc_series, label= r'$\\hat{btc}_{T+h}$', color= 'red')\n",
    "    axs[0].fill_between(lo_conf_int_btc_series.index, lo_conf_int_btc_series, up_conf_int_btc_series, color='k', alpha=0.1)\n",
    "    axs[0].legend(loc='upper left')\n",
    "    axs[0].title.set_text('Gesamter Zeitraum')\n",
    "    axs[1].plot(test_series_btc, label= r'$btc_{T+h}$', color='green')\n",
    "    axs[1].plot(pred_val_btc_series, label= r'$\\hat{btc}_{T+h}$', color= 'red')\n",
    "    axs[1].fill_between(lo_conf_int_btc_series.index, lo_conf_int_btc_series, up_conf_int_btc_series, color='k', alpha=0.1)\n",
    "    axs[1].legend(loc='upper left')\n",
    "    axs[1].title.set_text('Vorhersage-Zeitraum')\n",
    "    fig.set_size_inches(15,2.5)\n",
    "    #fig.suptitle('ARIMA(0,0,0) Einschrittprognose btc')\n",
    "    return fig"
   ],
   "metadata": {
    "collapsed": false,
    "pycharm": {
     "name": "#%%\n",
     "is_executing": false
    }
   }
  },
  {
   "cell_type": "code",
   "execution_count": 6,
   "outputs": [],
   "source": [
    "# overview for btc\n",
    "dates_overview(btc)"
   ],
   "metadata": {
    "collapsed": false,
    "pycharm": {
     "name": "#%%\n",
     "is_executing": false
    }
   }
  },
  {
   "cell_type": "code",
   "execution_count": 5,
   "outputs": [
    {
     "name": "stdout",
     "text": [
      "start_date:\t 2015-08-07 00:00:00\nend_date:\t 2017-12-01 00:00:00\nlen df:\t\t 533\n"
     ],
     "output_type": "stream"
    }
   ],
   "source": [
    "# overview for btc_pre\n",
    "dates_overview(btc_pre)"
   ],
   "metadata": {
    "collapsed": false,
    "pycharm": {
     "name": "#%%\n",
     "is_executing": false
    }
   }
  },
  {
   "cell_type": "code",
   "execution_count": 6,
   "outputs": [
    {
     "name": "stdout",
     "text": [
      "start_date:\t 2018-02-01 00:00:00\nend_date:\t 2020-06-24 00:00:00\nlen df:\t\t 540\n"
     ],
     "output_type": "stream"
    }
   ],
   "source": [
    "# overview for btc_post\n",
    "dates_overview(btc_post)"
   ],
   "metadata": {
    "collapsed": false,
    "pycharm": {
     "name": "#%%\n",
     "is_executing": false
    }
   }
  },
  {
   "cell_type": "code",
   "execution_count": 7,
   "outputs": [],
   "source": [
    "# split btc in train and test dataset: proceed only with btc_train\n",
    "btc_train, btc_test = split_traintest_df(btc)"
   ],
   "metadata": {
    "collapsed": false,
    "pycharm": {
     "name": "#%%\n",
     "is_executing": false
    }
   }
  },
  {
   "cell_type": "code",
   "execution_count": 7,
   "outputs": [
    {
     "name": "stdout",
     "text": [
      "   Dataframe date_start   date_end  nobs\n0  dataframe 2015-08-07 2017-12-01   533\n1   df_train 2015-08-07 2017-06-16   426\n2    df_test 2017-06-19 2017-12-01   107\n"
     ],
     "output_type": "stream"
    }
   ],
   "source": [
    "# split btc_pre in train and test dataset: proceed only with btc_pre_train\n",
    "btc_pre_train, btc_pre_test = split_traintest_df(btc_pre)"
   ],
   "metadata": {
    "collapsed": false,
    "pycharm": {
     "name": "#%%\n",
     "is_executing": false
    }
   }
  },
  {
   "cell_type": "code",
   "execution_count": 8,
   "outputs": [
    {
     "name": "stdout",
     "text": [
      "   Dataframe date_start   date_end  nobs\n0  dataframe 2018-02-01 2020-06-24   540\n1   df_train 2018-02-01 2019-12-31   432\n2    df_test 2020-01-02 2020-06-24   108\n"
     ],
     "output_type": "stream"
    }
   ],
   "source": [
    "# split btc_post in train and test dataset: proceed only with btc_post_train\n",
    "btc_post_train, btc_post_test = split_traintest_df(btc_post)"
   ],
   "metadata": {
    "collapsed": false,
    "pycharm": {
     "name": "#%%\n",
     "is_executing": false
    }
   }
  },
  {
   "cell_type": "code",
   "execution_count": 8,
   "outputs": [],
   "source": [
    "# create log and returns for btc_train\n",
    "btc_log, btc_ret = create_returns(btc_train)\n",
    "btc_ret"
   ],
   "metadata": {
    "collapsed": false,
    "pycharm": {
     "name": "#%%\n",
     "is_executing": false
    }
   }
  },
  {
   "cell_type": "code",
   "execution_count": 9,
   "outputs": [
    {
     "data": {
      "text/plain": "             btc_ret\ndate                \n2015-08-07       NaN\n2015-08-10 -0.055561\n2015-08-11  0.022138\n2015-08-12 -0.014942\n2015-08-13 -0.008672\n...              ...\n2017-06-12 -0.059900\n2017-06-13  0.021349\n2017-06-14 -0.080700\n2017-06-15 -0.016814\n2017-06-16  0.021666\n\n[426 rows x 1 columns]",
      "text/html": "<div>\n<style scoped>\n    .dataframe tbody tr th:only-of-type {\n        vertical-align: middle;\n    }\n\n    .dataframe tbody tr th {\n        vertical-align: top;\n    }\n\n    .dataframe thead th {\n        text-align: right;\n    }\n</style>\n<table border=\"1\" class=\"dataframe\">\n  <thead>\n    <tr style=\"text-align: right;\">\n      <th></th>\n      <th>btc_ret</th>\n    </tr>\n    <tr>\n      <th>date</th>\n      <th></th>\n    </tr>\n  </thead>\n  <tbody>\n    <tr>\n      <td>2015-08-07</td>\n      <td>NaN</td>\n    </tr>\n    <tr>\n      <td>2015-08-10</td>\n      <td>-0.055561</td>\n    </tr>\n    <tr>\n      <td>2015-08-11</td>\n      <td>0.022138</td>\n    </tr>\n    <tr>\n      <td>2015-08-12</td>\n      <td>-0.014942</td>\n    </tr>\n    <tr>\n      <td>2015-08-13</td>\n      <td>-0.008672</td>\n    </tr>\n    <tr>\n      <td>...</td>\n      <td>...</td>\n    </tr>\n    <tr>\n      <td>2017-06-12</td>\n      <td>-0.059900</td>\n    </tr>\n    <tr>\n      <td>2017-06-13</td>\n      <td>0.021349</td>\n    </tr>\n    <tr>\n      <td>2017-06-14</td>\n      <td>-0.080700</td>\n    </tr>\n    <tr>\n      <td>2017-06-15</td>\n      <td>-0.016814</td>\n    </tr>\n    <tr>\n      <td>2017-06-16</td>\n      <td>0.021666</td>\n    </tr>\n  </tbody>\n</table>\n<p>426 rows × 1 columns</p>\n</div>"
     },
     "metadata": {},
     "output_type": "execute_result",
     "execution_count": 9
    }
   ],
   "source": [
    "# create log and returns for btc_pre_train\n",
    "btc_pre_log, btc_pre_ret = create_returns(btc_pre_train)\n",
    "btc_pre_ret"
   ],
   "metadata": {
    "collapsed": false,
    "pycharm": {
     "name": "#%%\n",
     "is_executing": false
    }
   }
  },
  {
   "cell_type": "code",
   "execution_count": 10,
   "outputs": [
    {
     "data": {
      "text/plain": "             btc_ret\ndate                \n2018-02-01       NaN\n2018-02-02 -0.037756\n2018-02-05 -0.238740\n2018-02-06  0.108709\n2018-02-07 -0.017262\n...              ...\n2019-12-23  0.018775\n2019-12-24 -0.004510\n2019-12-27 -0.004440\n2019-12-30  0.000399\n2019-12-31 -0.013723\n\n[432 rows x 1 columns]",
      "text/html": "<div>\n<style scoped>\n    .dataframe tbody tr th:only-of-type {\n        vertical-align: middle;\n    }\n\n    .dataframe tbody tr th {\n        vertical-align: top;\n    }\n\n    .dataframe thead th {\n        text-align: right;\n    }\n</style>\n<table border=\"1\" class=\"dataframe\">\n  <thead>\n    <tr style=\"text-align: right;\">\n      <th></th>\n      <th>btc_ret</th>\n    </tr>\n    <tr>\n      <th>date</th>\n      <th></th>\n    </tr>\n  </thead>\n  <tbody>\n    <tr>\n      <td>2018-02-01</td>\n      <td>NaN</td>\n    </tr>\n    <tr>\n      <td>2018-02-02</td>\n      <td>-0.037756</td>\n    </tr>\n    <tr>\n      <td>2018-02-05</td>\n      <td>-0.238740</td>\n    </tr>\n    <tr>\n      <td>2018-02-06</td>\n      <td>0.108709</td>\n    </tr>\n    <tr>\n      <td>2018-02-07</td>\n      <td>-0.017262</td>\n    </tr>\n    <tr>\n      <td>...</td>\n      <td>...</td>\n    </tr>\n    <tr>\n      <td>2019-12-23</td>\n      <td>0.018775</td>\n    </tr>\n    <tr>\n      <td>2019-12-24</td>\n      <td>-0.004510</td>\n    </tr>\n    <tr>\n      <td>2019-12-27</td>\n      <td>-0.004440</td>\n    </tr>\n    <tr>\n      <td>2019-12-30</td>\n      <td>0.000399</td>\n    </tr>\n    <tr>\n      <td>2019-12-31</td>\n      <td>-0.013723</td>\n    </tr>\n  </tbody>\n</table>\n<p>432 rows × 1 columns</p>\n</div>"
     },
     "metadata": {},
     "output_type": "execute_result",
     "execution_count": 10
    }
   ],
   "source": [
    "# create log and returns for btc_post_train\n",
    "btc_post_log, btc_post_ret = create_returns(btc_post_train)\n",
    "btc_post_ret"
   ],
   "metadata": {
    "collapsed": false,
    "pycharm": {
     "name": "#%%\n",
     "is_executing": false
    }
   }
  },
  {
   "cell_type": "code",
   "execution_count": 21,
   "outputs": [],
   "source": [
    "# plot btc_log and btc_ret with ACF and PACF, respectively\n",
    "fig_1 = plot_acf_pacf(btc_log,btc_ret)"
   ],
   "metadata": {
    "collapsed": false,
    "pycharm": {
     "name": "#%%\n",
     "is_executing": false
    }
   }
  },
  {
   "cell_type": "code",
   "execution_count": 22,
   "outputs": [],
   "source": [
    "# save fig_1\n",
    "fig_1.savefig(save_plot_to+'M2_fig_1.svg',format='svg',bbox_inches='tight',pad_inches = 0)"
   ],
   "metadata": {
    "collapsed": false,
    "pycharm": {
     "name": "#%%\n",
     "is_executing": false
    }
   }
  },
  {
   "cell_type": "code",
   "execution_count": 13,
   "outputs": [],
   "source": [
    "# plot btc_pre_log and btc_pre_ret with ACF and PACF, respectively\n",
    "fig_1_pre = plot_acf_pacf(btc_pre_log,btc_pre_ret)"
   ],
   "metadata": {
    "collapsed": false,
    "pycharm": {
     "name": "#%%\n",
     "is_executing": false
    }
   }
  },
  {
   "cell_type": "code",
   "execution_count": 14,
   "outputs": [],
   "source": [
    "# save fig_1_pre\n",
    "fig_1_pre.savefig(save_plot_to+'M2_pre_fig_1.svg',format='svg',bbox_inches='tight',pad_inches = 0)\n"
   ],
   "metadata": {
    "collapsed": false,
    "pycharm": {
     "name": "#%%\n",
     "is_executing": false
    }
   }
  },
  {
   "cell_type": "code",
   "execution_count": 15,
   "outputs": [],
   "source": [
    "# plot btc_post_log and btc_post_ret with ACF and PACF, respectively\n",
    "fig_1_post = plot_acf_pacf(btc_post_log,btc_post_ret)"
   ],
   "metadata": {
    "collapsed": false,
    "pycharm": {
     "name": "#%%\n",
     "is_executing": false
    }
   }
  },
  {
   "cell_type": "code",
   "execution_count": 16,
   "outputs": [],
   "source": [
    "# save fig_1_post\n",
    "fig_1_post.savefig(save_plot_to+'M2_post_fig_1.svg',format='svg',bbox_inches='tight',pad_inches = 0)"
   ],
   "metadata": {
    "collapsed": false,
    "pycharm": {
     "name": "#%%\n",
     "is_executing": false
    }
   }
  },
  {
   "cell_type": "code",
   "execution_count": 23,
   "outputs": [],
   "source": [
    "# perform ADF and PP test on btc_log and btc_ret\n",
    "stationarity_tests(btc_log,False)\n",
    "stationarity_tests(btc_ret.iloc[1:],False)"
   ],
   "metadata": {
    "collapsed": false,
    "pycharm": {
     "name": "#%%\n",
     "is_executing": false
    }
   }
  },
  {
   "cell_type": "code",
   "execution_count": 54,
   "outputs": [],
   "source": [
    "# generate latex output for M2_stationarity tests.txt\n",
    "stationarity_table_aslatex_from_df('M2_stationarity tests.txt')"
   ],
   "metadata": {
    "collapsed": false,
    "pycharm": {
     "name": "#%%\n",
     "is_executing": false
    }
   }
  },
  {
   "cell_type": "code",
   "execution_count": 17,
   "outputs": [
    {
     "name": "stdout",
     "text": [
      "Timeseries:\t btc_log \n    Augmented Dickey-Fuller Results   \n=====================================\nTest Statistic                  0.852\nP-value                         0.992\nLags                                0\n-------------------------------------\n\nTrend: Constant\nCritical Values: -3.45 (1%), -2.87 (5%), -2.57 (10%)\nNull Hypothesis: The process contains a unit root.\nAlternative Hypothesis: The process is weakly stationary. \n\n      Phillips-Perron Test (Z-tau)    \n=====================================\nTest Statistic                  0.896\nP-value                         0.993\nLags                               18\n-------------------------------------\n\nTrend: Constant\nCritical Values: -3.45 (1%), -2.87 (5%), -2.57 (10%)\nNull Hypothesis: The process contains a unit root.\nAlternative Hypothesis: The process is weakly stationary. \n\n\n\nTimeseries:\t btc_ret \n    Augmented Dickey-Fuller Results   \n=====================================\nTest Statistic                -19.618\nP-value                         0.000\nLags                                0\n-------------------------------------\n\nTrend: Constant\nCritical Values: -3.45 (1%), -2.87 (5%), -2.57 (10%)\nNull Hypothesis: The process contains a unit root.\nAlternative Hypothesis: The process is weakly stationary. \n\n      Phillips-Perron Test (Z-tau)    \n=====================================\nTest Statistic                -19.598\nP-value                         0.000\nLags                               18\n-------------------------------------\n\nTrend: Constant\nCritical Values: -3.45 (1%), -2.87 (5%), -2.57 (10%)\nNull Hypothesis: The process contains a unit root.\nAlternative Hypothesis: The process is weakly stationary. \n\n\n\n"
     ],
     "output_type": "stream"
    }
   ],
   "source": [
    "# perform ADF and PP test on btc_pre_log and btc_pre_ret\n",
    "stationarity_tests(btc_pre_log,False)\n",
    "stationarity_tests(btc_pre_ret.iloc[1:],False)"
   ],
   "metadata": {
    "collapsed": false,
    "pycharm": {
     "name": "#%%\n",
     "is_executing": false
    }
   }
  },
  {
   "cell_type": "code",
   "execution_count": 19,
   "outputs": [
    {
     "name": "stdout",
     "text": [
      "\\begin{tabular}{lrrl}\n\\hline\n Variable   &     ADF &      PP & \\ensuremath{<}-2.86(5\\%)   \\\\\n\\hline\n btc\\_log    &   0.852 &   0.896 & nein         \\\\\n btc\\_ret    & -19.618 & -19.598 & ja           \\\\\n\\hline\n\\end{tabular}\n"
     ],
     "output_type": "stream"
    }
   ],
   "source": [
    "# generate latex output for M2_pre_stationarity tests.txt\n",
    "stationarity_table_aslatex_from_df('M2_pre_stationarity tests.txt')"
   ],
   "metadata": {
    "collapsed": false,
    "pycharm": {
     "name": "#%%\n",
     "is_executing": false
    }
   }
  },
  {
   "cell_type": "code",
   "execution_count": 18,
   "outputs": [
    {
     "name": "stdout",
     "text": [
      "Timeseries:\t btc_log \n    Augmented Dickey-Fuller Results   \n=====================================\nTest Statistic                 -1.545\nP-value                         0.511\nLags                                0\n-------------------------------------\n\nTrend: Constant\nCritical Values: -3.45 (1%), -2.87 (5%), -2.57 (10%)\nNull Hypothesis: The process contains a unit root.\nAlternative Hypothesis: The process is weakly stationary. \n\n      Phillips-Perron Test (Z-tau)    \n=====================================\nTest Statistic                 -1.640\nP-value                         0.462\nLags                               18\n-------------------------------------\n\nTrend: Constant\nCritical Values: -3.45 (1%), -2.87 (5%), -2.57 (10%)\nNull Hypothesis: The process contains a unit root.\nAlternative Hypothesis: The process is weakly stationary. \n\n\n\nTimeseries:\t btc_ret \n    Augmented Dickey-Fuller Results   \n=====================================\nTest Statistic                -20.436\nP-value                         0.000\nLags                                0\n-------------------------------------\n\nTrend: Constant\nCritical Values: -3.45 (1%), -2.87 (5%), -2.57 (10%)\nNull Hypothesis: The process contains a unit root.\nAlternative Hypothesis: The process is weakly stationary. \n\n      Phillips-Perron Test (Z-tau)    \n=====================================\nTest Statistic                -20.450\nP-value                         0.000\nLags                               18\n-------------------------------------\n\nTrend: Constant\nCritical Values: -3.45 (1%), -2.87 (5%), -2.57 (10%)\nNull Hypothesis: The process contains a unit root.\nAlternative Hypothesis: The process is weakly stationary. \n\n\n\n"
     ],
     "output_type": "stream"
    }
   ],
   "source": [
    "# perform ADF and PP test on btc_post_log and btc_post_ret\n",
    "stationarity_tests(btc_post_log,False)\n",
    "stationarity_tests(btc_post_ret.iloc[1:],False)"
   ],
   "metadata": {
    "collapsed": false,
    "pycharm": {
     "name": "#%%\n",
     "is_executing": false
    }
   }
  },
  {
   "cell_type": "code",
   "execution_count": 20,
   "outputs": [
    {
     "name": "stdout",
     "text": [
      "\\begin{tabular}{lrrl}\n\\hline\n Variable   &     ADF &     PP & \\ensuremath{<}-2.86(5\\%)   \\\\\n\\hline\n btc\\_log    &  -1.545 &  -1.64 & nein         \\\\\n btc\\_ret    & -20.436 & -20.45 & ja           \\\\\n\\hline\n\\end{tabular}\n"
     ],
     "output_type": "stream"
    }
   ],
   "source": [
    "# generate latex output for M2_post_stationarity tests.txt\n",
    "stationarity_table_aslatex_from_df('M2_post_stationarity tests.txt')"
   ],
   "metadata": {
    "collapsed": false,
    "pycharm": {
     "name": "#%%\n",
     "is_executing": false
    }
   }
  },
  {
   "cell_type": "code",
   "execution_count": null,
   "outputs": [],
   "source": [
    "## ARCHIV: Genaue Testergebnisse für ADF und PP ##\n",
    "# ADF- and PP- mit btc\n",
    "from arch.unitroot import ADF, PhillipsPerron\n",
    "adf = ADF(btc)\n",
    "pp = PhillipsPerron(btc)\n",
    "print(adf.summary().as_latex(),'\\n\\n\\n', pp.summary().as_latex())\n",
    "\n",
    "# ADF- and PP- mit btc_returns\n",
    "from arch.unitroot import ADF, PhillipsPerron\n",
    "adf = ADF(btc_returns[1:])\n",
    "pp = PhillipsPerron(btc_returns[1:])\n",
    "print(adf.summary().as_latex(),'\\n\\n\\n', pp.summary().as_latex())"
   ],
   "metadata": {
    "collapsed": false,
    "pycharm": {
     "name": "#%%\n"
    }
   }
  },
  {
   "cell_type": "code",
   "execution_count": 24,
   "outputs": [],
   "source": [
    "# obtain best auto arima model for btc_ret\n",
    "btc_auto_arima = auto_arima_optimal_fit_of(btc_ret.iloc[1:],max_p=10,max_q=10)\n",
    "btc_auto_arima.summary()"
   ],
   "metadata": {
    "collapsed": false,
    "pycharm": {
     "name": "#%%\n",
     "is_executing": false
    }
   }
  },
  {
   "cell_type": "code",
   "execution_count": 65,
   "outputs": [],
   "source": [
    "# generate and print latex output for btc_auto_arima model\n",
    "print(btc_auto_arima.summary().as_latex())\n",
    "                "
   ],
   "metadata": {
    "collapsed": false,
    "pycharm": {
     "name": "#%%\n",
     "is_executing": false
    }
   }
  },
  {
   "cell_type": "code",
   "execution_count": 25,
   "outputs": [],
   "source": [
    "# manually verify ARIMA(p,0,q) variations for btc_ret and print them as output\n",
    "arima_fit_of(btc_ret.iloc[1:],max_p=2,max_q=2,latex=False)"
   ],
   "metadata": {
    "collapsed": false,
    "pycharm": {
     "name": "#%%\n",
     "is_executing": false
    }
   }
  },
  {
   "cell_type": "code",
   "execution_count": 21,
   "outputs": [
    {
     "name": "stdout",
     "text": [
      "Performing stepwise search to minimize aic\nFit ARIMA(0,0,0)x(0,0,0,0) [intercept=True]; AIC=-1537.351, BIC=-1529.247, Time=0.138 seconds\n",
      "Fit ARIMA(1,0,0)x(0,0,0,0) [intercept=True]; AIC=-1536.361, BIC=-1524.204, Time=0.109 seconds\n",
      "Fit ARIMA(0,0,1)x(0,0,0,0) [intercept=True]; AIC=-1536.483, BIC=-1524.327, Time=0.303 seconds\nFit ARIMA(0,0,0)x(0,0,0,0) [intercept=False]; AIC=-1532.114, BIC=-1528.062, Time=0.029 seconds\n",
      "Fit ARIMA(1,0,1)x(0,0,0,0) [intercept=True]; AIC=-1534.951, BIC=-1518.743, Time=0.656 seconds\nTotal fit time: 1.254 seconds\n"
     ],
     "output_type": "stream"
    },
    {
     "data": {
      "text/plain": "<class 'statsmodels.iolib.summary.Summary'>\n\"\"\"\n                               SARIMAX Results                                \n==============================================================================\nDep. Variable:                      y   No. Observations:                  425\nModel:                        SARIMAX   Log Likelihood                 770.676\nDate:                Sun, 27 Sep 2020   AIC                          -1537.351\nTime:                        09:32:48   BIC                          -1529.247\nSample:                             0   HQIC                         -1534.150\n                                - 425                                         \nCovariance Type:                  opg                                         \n==============================================================================\n                 coef    std err          z      P>|z|      [0.025      0.975]\n------------------------------------------------------------------------------\nintercept      0.0052      0.002      2.654      0.008       0.001       0.009\nsigma2         0.0016   5.83e-05     26.702      0.000       0.001       0.002\n===================================================================================\nLjung-Box (L1) (Q):                   1.01   Jarque-Bera (JB):               451.85\nProb(Q):                              0.31   Prob(JB):                         0.00\nHeteroskedasticity (H):               1.22   Skew:                            -0.49\nProb(H) (two-sided):                  0.23   Kurtosis:                         7.95\n===================================================================================\n\nWarnings:\n[1] Covariance matrix calculated using the outer product of gradients (complex-step).\n\"\"\"",
      "text/html": "<table class=\"simpletable\">\n<caption>SARIMAX Results</caption>\n<tr>\n  <th>Dep. Variable:</th>           <td>y</td>        <th>  No. Observations:  </th>    <td>425</td>   \n</tr>\n<tr>\n  <th>Model:</th>                <td>SARIMAX</td>     <th>  Log Likelihood     </th>  <td>770.676</td> \n</tr>\n<tr>\n  <th>Date:</th>            <td>Sun, 27 Sep 2020</td> <th>  AIC                </th> <td>-1537.351</td>\n</tr>\n<tr>\n  <th>Time:</th>                <td>09:32:48</td>     <th>  BIC                </th> <td>-1529.247</td>\n</tr>\n<tr>\n  <th>Sample:</th>                  <td>0</td>        <th>  HQIC               </th> <td>-1534.150</td>\n</tr>\n<tr>\n  <th></th>                      <td> - 425</td>      <th>                     </th>     <td> </td>    \n</tr>\n<tr>\n  <th>Covariance Type:</th>        <td>opg</td>       <th>                     </th>     <td> </td>    \n</tr>\n</table>\n<table class=\"simpletable\">\n<tr>\n      <td></td>         <th>coef</th>     <th>std err</th>      <th>z</th>      <th>P>|z|</th>  <th>[0.025</th>    <th>0.975]</th>  \n</tr>\n<tr>\n  <th>intercept</th> <td>    0.0052</td> <td>    0.002</td> <td>    2.654</td> <td> 0.008</td> <td>    0.001</td> <td>    0.009</td>\n</tr>\n<tr>\n  <th>sigma2</th>    <td>    0.0016</td> <td> 5.83e-05</td> <td>   26.702</td> <td> 0.000</td> <td>    0.001</td> <td>    0.002</td>\n</tr>\n</table>\n<table class=\"simpletable\">\n<tr>\n  <th>Ljung-Box (L1) (Q):</th>     <td>1.01</td> <th>  Jarque-Bera (JB):  </th> <td>451.85</td>\n</tr>\n<tr>\n  <th>Prob(Q):</th>                <td>0.31</td> <th>  Prob(JB):          </th>  <td>0.00</td> \n</tr>\n<tr>\n  <th>Heteroskedasticity (H):</th> <td>1.22</td> <th>  Skew:              </th>  <td>-0.49</td>\n</tr>\n<tr>\n  <th>Prob(H) (two-sided):</th>    <td>0.23</td> <th>  Kurtosis:          </th>  <td>7.95</td> \n</tr>\n</table><br/><br/>Warnings:<br/>[1] Covariance matrix calculated using the outer product of gradients (complex-step)."
     },
     "metadata": {},
     "output_type": "execute_result",
     "execution_count": 21
    }
   ],
   "source": [
    "# obtain best auto arima model for btc_pre_ret\n",
    "btc_pre_auto_arima = auto_arima_optimal_fit_of(btc_pre_ret.iloc[1:],max_p=10,max_q=10)\n",
    "btc_pre_auto_arima.summary()"
   ],
   "metadata": {
    "collapsed": false,
    "pycharm": {
     "name": "#%%\n",
     "is_executing": false
    }
   }
  },
  {
   "cell_type": "code",
   "execution_count": 22,
   "outputs": [
    {
     "name": "stdout",
     "text": [
      "\\begin{center}\n\\begin{tabular}{lclc}\n\\toprule\n\\textbf{Dep. Variable:}          &        y         & \\textbf{  No. Observations:  } &    425      \\\\\n\\textbf{Model:}                  &     SARIMAX      & \\textbf{  Log Likelihood     } &  770.676    \\\\\n\\textbf{Date:}                   & Sun, 27 Sep 2020 & \\textbf{  AIC                } & -1537.351   \\\\\n\\textbf{Time:}                   &     09:33:01     & \\textbf{  BIC                } & -1529.247   \\\\\n\\textbf{Sample:}                 &        0         & \\textbf{  HQIC               } & -1534.150   \\\\\n\\textbf{}                        &       - 425      & \\textbf{                     } &             \\\\\n\\bottomrule\n\\end{tabular}\n\\begin{tabular}{lcccccc}\n                   & \\textbf{coef} & \\textbf{std err} & \\textbf{z} & \\textbf{P$> |$z$|$} & \\textbf{[0.025} & \\textbf{0.975]}  \\\\\n\\midrule\n\\textbf{intercept} &       0.0052  &        0.002     &     2.654  &         0.008        &        0.001    &        0.009     \\\\\n\\textbf{sigma2}    &       0.0016  &     5.83e-05     &    26.702  &         0.000        &        0.001    &        0.002     \\\\\n\\bottomrule\n\\end{tabular}\n\\begin{tabular}{lclc}\n\\textbf{Ljung-Box (L1) (Q):}     & 1.01 & \\textbf{  Jarque-Bera (JB):  } & 451.85  \\\\\n\\textbf{Prob(Q):}                & 0.31 & \\textbf{  Prob(JB):          } &  0.00   \\\\\n\\textbf{Heteroskedasticity (H):} & 1.22 & \\textbf{  Skew:              } & -0.49   \\\\\n\\textbf{Prob(H) (two-sided):}    & 0.23 & \\textbf{  Kurtosis:          } &  7.95   \\\\\n\\bottomrule\n\\end{tabular}\n%\\caption{SARIMAX Results}\n\\end{center}\n\nWarnings: \\newline\n [1] Covariance matrix calculated using the outer product of gradients (complex-step).\n"
     ],
     "output_type": "stream"
    }
   ],
   "source": [
    "# generate and print latex output for btc_auto_arima model\n",
    "print(btc_pre_auto_arima.summary().as_latex())"
   ],
   "metadata": {
    "collapsed": false,
    "pycharm": {
     "name": "#%%\n",
     "is_executing": false
    }
   }
  },
  {
   "cell_type": "code",
   "execution_count": 23,
   "outputs": [
    {
     "name": "stdout",
     "text": [
      "Performing stepwise search to minimize aic\nFit ARIMA(0,0,0)x(0,0,0,0) [intercept=True]; AIC=-1415.241, BIC=-1407.109, Time=0.078 seconds\nFit ARIMA(1,0,0)x(0,0,0,0) [intercept=True]; AIC=-1413.313, BIC=-1401.114, Time=0.088 seconds\n",
      "Fit ARIMA(0,0,1)x(0,0,0,0) [intercept=True]; AIC=-1413.307, BIC=-1401.109, Time=0.281 seconds\nFit ARIMA(0,0,0)x(0,0,0,0) [intercept=False]; AIC=-1417.178, BIC=-1413.112, Time=0.051 seconds\n",
      "Fit ARIMA(1,0,1)x(0,0,0,0) [intercept=True]; AIC=-1411.619, BIC=-1395.354, Time=0.248 seconds\nTotal fit time: 0.761 seconds\n"
     ],
     "output_type": "stream"
    },
    {
     "data": {
      "text/plain": "<class 'statsmodels.iolib.summary.Summary'>\n\"\"\"\n                               SARIMAX Results                                \n==============================================================================\nDep. Variable:                      y   No. Observations:                  431\nModel:                        SARIMAX   Log Likelihood                 709.589\nDate:                Sun, 27 Sep 2020   AIC                          -1417.178\nTime:                        09:37:24   BIC                          -1413.112\nSample:                             0   HQIC                         -1415.573\n                                - 431                                         \nCovariance Type:                  opg                                         \n==============================================================================\n                 coef    std err          z      P>|z|      [0.025      0.975]\n------------------------------------------------------------------------------\nsigma2         0.0022   8.77e-05     24.789      0.000       0.002       0.002\n===================================================================================\nLjung-Box (L1) (Q):                   0.07   Jarque-Bera (JB):               250.59\nProb(Q):                              0.79   Prob(JB):                         0.00\nHeteroskedasticity (H):               0.96   Skew:                            -0.29\nProb(H) (two-sided):                  0.78   Kurtosis:                         6.69\n===================================================================================\n\nWarnings:\n[1] Covariance matrix calculated using the outer product of gradients (complex-step).\n\"\"\"",
      "text/html": "<table class=\"simpletable\">\n<caption>SARIMAX Results</caption>\n<tr>\n  <th>Dep. Variable:</th>           <td>y</td>        <th>  No. Observations:  </th>    <td>431</td>   \n</tr>\n<tr>\n  <th>Model:</th>                <td>SARIMAX</td>     <th>  Log Likelihood     </th>  <td>709.589</td> \n</tr>\n<tr>\n  <th>Date:</th>            <td>Sun, 27 Sep 2020</td> <th>  AIC                </th> <td>-1417.178</td>\n</tr>\n<tr>\n  <th>Time:</th>                <td>09:37:24</td>     <th>  BIC                </th> <td>-1413.112</td>\n</tr>\n<tr>\n  <th>Sample:</th>                  <td>0</td>        <th>  HQIC               </th> <td>-1415.573</td>\n</tr>\n<tr>\n  <th></th>                      <td> - 431</td>      <th>                     </th>     <td> </td>    \n</tr>\n<tr>\n  <th>Covariance Type:</th>        <td>opg</td>       <th>                     </th>     <td> </td>    \n</tr>\n</table>\n<table class=\"simpletable\">\n<tr>\n     <td></td>       <th>coef</th>     <th>std err</th>      <th>z</th>      <th>P>|z|</th>  <th>[0.025</th>    <th>0.975]</th>  \n</tr>\n<tr>\n  <th>sigma2</th> <td>    0.0022</td> <td> 8.77e-05</td> <td>   24.789</td> <td> 0.000</td> <td>    0.002</td> <td>    0.002</td>\n</tr>\n</table>\n<table class=\"simpletable\">\n<tr>\n  <th>Ljung-Box (L1) (Q):</th>     <td>0.07</td> <th>  Jarque-Bera (JB):  </th> <td>250.59</td>\n</tr>\n<tr>\n  <th>Prob(Q):</th>                <td>0.79</td> <th>  Prob(JB):          </th>  <td>0.00</td> \n</tr>\n<tr>\n  <th>Heteroskedasticity (H):</th> <td>0.96</td> <th>  Skew:              </th>  <td>-0.29</td>\n</tr>\n<tr>\n  <th>Prob(H) (two-sided):</th>    <td>0.78</td> <th>  Kurtosis:          </th>  <td>6.69</td> \n</tr>\n</table><br/><br/>Warnings:<br/>[1] Covariance matrix calculated using the outer product of gradients (complex-step)."
     },
     "metadata": {},
     "output_type": "execute_result",
     "execution_count": 23
    }
   ],
   "source": [
    "# obtain best auto arima model for btc_post_ret\n",
    "btc_post_auto_arima = auto_arima_optimal_fit_of(btc_post_ret.iloc[1:],max_p=10,max_q=10)\n",
    "btc_post_auto_arima.summary()"
   ],
   "metadata": {
    "collapsed": false,
    "pycharm": {
     "name": "#%%\n",
     "is_executing": false
    }
   }
  },
  {
   "cell_type": "code",
   "execution_count": 24,
   "outputs": [
    {
     "name": "stdout",
     "text": [
      "\\begin{center}\n\\begin{tabular}{lclc}\n\\toprule\n\\textbf{Dep. Variable:}          &        y         & \\textbf{  No. Observations:  } &    431      \\\\\n\\textbf{Model:}                  &     SARIMAX      & \\textbf{  Log Likelihood     } &  709.589    \\\\\n\\textbf{Date:}                   & Sun, 27 Sep 2020 & \\textbf{  AIC                } & -1417.178   \\\\\n\\textbf{Time:}                   &     09:37:26     & \\textbf{  BIC                } & -1413.112   \\\\\n\\textbf{Sample:}                 &        0         & \\textbf{  HQIC               } & -1415.573   \\\\\n\\textbf{}                        &       - 431      & \\textbf{                     } &             \\\\\n\\bottomrule\n\\end{tabular}\n\\begin{tabular}{lcccccc}\n                & \\textbf{coef} & \\textbf{std err} & \\textbf{z} & \\textbf{P$> |$z$|$} & \\textbf{[0.025} & \\textbf{0.975]}  \\\\\n\\midrule\n\\textbf{sigma2} &       0.0022  &     8.77e-05     &    24.789  &         0.000        &        0.002    &        0.002     \\\\\n\\bottomrule\n\\end{tabular}\n\\begin{tabular}{lclc}\n\\textbf{Ljung-Box (L1) (Q):}     & 0.07 & \\textbf{  Jarque-Bera (JB):  } & 250.59  \\\\\n\\textbf{Prob(Q):}                & 0.79 & \\textbf{  Prob(JB):          } &  0.00   \\\\\n\\textbf{Heteroskedasticity (H):} & 0.96 & \\textbf{  Skew:              } & -0.29   \\\\\n\\textbf{Prob(H) (two-sided):}    & 0.78 & \\textbf{  Kurtosis:          } &  6.69   \\\\\n\\bottomrule\n\\end{tabular}\n%\\caption{SARIMAX Results}\n\\end{center}\n\nWarnings: \\newline\n [1] Covariance matrix calculated using the outer product of gradients (complex-step).\n"
     ],
     "output_type": "stream"
    }
   ],
   "source": [
    "# generate and print latex output for btc_post_auto_arima model\n",
    "print(btc_post_auto_arima.summary().as_latex())"
   ],
   "metadata": {
    "collapsed": false,
    "pycharm": {
     "name": "#%%\n",
     "is_executing": false
    }
   }
  },
  {
   "cell_type": "code",
   "execution_count": 26,
   "outputs": [],
   "source": [
    "# rolling prediction with ARIMA(0,0,0) for btc\n",
    "btc_arima_pred_result = arima_rolling_forecast(btc,0,0)\n",
    "# printout mse and ausreisser\n",
    "print('mse:\\t\\t', btc_arima_pred_result[0])\n",
    "print('ausreisser:\\t', btc_arima_pred_result[1])"
   ],
   "metadata": {
    "collapsed": false,
    "pycharm": {
     "name": "#%%\n",
     "is_executing": false
    }
   }
  },
  {
   "cell_type": "code",
   "execution_count": 27,
   "outputs": [],
   "source": [
    "# plot arima(0,0,0) rolling forecast for btc_ret\n",
    "fig_2 = plot_arima_pred_result(btc,btc_train,btc_test,btc_arima_pred_result)"
   ],
   "metadata": {
    "collapsed": false,
    "pycharm": {
     "name": "#%%\n",
     "is_executing": false
    }
   }
  },
  {
   "cell_type": "code",
   "execution_count": 28,
   "outputs": [],
   "source": [
    "# save fig_2\n",
    "fig_2.savefig(save_plot_to+'M2_fig_2.svg',format='svg',bbox_inches='tight',pad_inches = 0)"
   ],
   "metadata": {
    "collapsed": false,
    "pycharm": {
     "name": "#%%\n",
     "is_executing": false
    }
   }
  },
  {
   "cell_type": "code",
   "execution_count": 35,
   "outputs": [],
   "source": [
    "# plot diagnostics for ARIMA(0,0,0) for btc_ret and save as fig_3\n",
    "arima_model = pm.ARIMA(order=(0,0,0))\n",
    "arima_fitted = arima_model.fit(y=btc_ret.iloc[1:], disp=False)\n",
    "arima_fitted.plot_diagnostics()\n",
    "plt.tight_layout()\n",
    "#fig.set_size_inches(12,5)\n",
    "plt.savefig(save_plot_to+'M2_fig_3.svg',format='svg',bbox_inches='tight', pad_inches = 0)"
   ],
   "metadata": {
    "collapsed": false,
    "pycharm": {
     "name": "#%%\n",
     "is_executing": false
    }
   }
  },
  {
   "cell_type": "code",
   "execution_count": 25,
   "outputs": [
    {
     "name": "stdout",
     "text": [
      "mse_pre:\t\t 295.28800697915545\nausreisser_pre:\t 14\n"
     ],
     "output_type": "stream"
    }
   ],
   "source": [
    "# rolling prediction with ARIMA(0,0,0) for btc_pre\n",
    "btc_pre_arima_pred_result = arima_rolling_forecast(btc_pre,0,0)\n",
    "# printout mse and ausreisser\n",
    "print('mse_pre:\\t\\t', btc_pre_arima_pred_result[0])\n",
    "print('ausreisser_pre:\\t', btc_pre_arima_pred_result[1])"
   ],
   "metadata": {
    "collapsed": false,
    "pycharm": {
     "name": "#%%\n",
     "is_executing": false
    }
   }
  },
  {
   "cell_type": "code",
   "execution_count": 28,
   "outputs": [],
   "source": [
    "# plot arima(0,0,0) rolling forecast for btc_pre_ret\n",
    "fig_2_pre = plot_arima_pred_result(btc_pre,btc_pre_train,btc_pre_test,btc_pre_arima_pred_result)"
   ],
   "metadata": {
    "collapsed": false,
    "pycharm": {
     "name": "#%%\n",
     "is_executing": false
    }
   }
  },
  {
   "cell_type": "code",
   "execution_count": 29,
   "outputs": [],
   "source": [
    "# save fig_2_pre\n",
    "fig_2_pre.savefig(save_plot_to+'M2_pre_fig_2.svg',format='svg',bbox_inches='tight',pad_inches = 0)"
   ],
   "metadata": {
    "collapsed": false,
    "pycharm": {
     "name": "#%%\n",
     "is_executing": false
    }
   }
  },
  {
   "cell_type": "code",
   "execution_count": 30,
   "outputs": [],
   "source": [
    "# plot diagnostics for ARIMA(0,0,0) for btc_pre_ret and save as fig_3_pre\n",
    "arima_pre_model = pm.ARIMA(order=(0,0,0))\n",
    "arima_pre_fitted = arima_pre_model.fit(y=btc_pre_ret.iloc[1:], disp=False)\n",
    "arima_pre_fitted.plot_diagnostics()\n",
    "plt.tight_layout()\n",
    "#fig.set_size_inches(12,5)\n",
    "plt.savefig(save_plot_to+'M2_pre_fig_3.svg',format='svg',bbox_inches='tight', pad_inches = 0)"
   ],
   "metadata": {
    "collapsed": false,
    "pycharm": {
     "name": "#%%\n",
     "is_executing": false
    }
   }
  },
  {
   "cell_type": "code",
   "execution_count": 31,
   "outputs": [
    {
     "name": "stdout",
     "text": [
      "mse_post:\t\t 460.77989580556846\nausreisser_post:\t 8\n"
     ],
     "output_type": "stream"
    }
   ],
   "source": [
    "# rolling prediction with ARIMA(0,0,0) for btc_post\n",
    "btc_post_arima_pred_result = arima_rolling_forecast(btc_post,0,0)\n",
    "# printout mse and ausreisser\n",
    "print('mse_post:\\t\\t', btc_post_arima_pred_result[0])\n",
    "print('ausreisser_post:\\t', btc_post_arima_pred_result[1])"
   ],
   "metadata": {
    "collapsed": false,
    "pycharm": {
     "name": "#%%\n",
     "is_executing": false
    }
   }
  },
  {
   "cell_type": "code",
   "execution_count": 32,
   "outputs": [],
   "source": [
    "# plot arima(0,0,0) rolling forecast for btc_post_ret\n",
    "fig_2_post = plot_arima_pred_result(btc_post,btc_post_train,btc_post_test,btc_post_arima_pred_result)"
   ],
   "metadata": {
    "collapsed": false,
    "pycharm": {
     "name": "#%%\n",
     "is_executing": false
    }
   }
  },
  {
   "cell_type": "code",
   "execution_count": 33,
   "outputs": [],
   "source": [
    "# save fig_2_post\n",
    "fig_2_post.savefig(save_plot_to+'M2_post_fig_2.svg',format='svg',bbox_inches='tight',pad_inches = 0)"
   ],
   "metadata": {
    "collapsed": false,
    "pycharm": {
     "name": "#%%\n",
     "is_executing": false
    }
   }
  },
  {
   "cell_type": "code",
   "execution_count": 34,
   "outputs": [],
   "source": [
    "# plot diagnostics for ARIMA(0,0,0) for btc_post_ret and save as fig_3_post\n",
    "arima_post_model = pm.ARIMA(order=(0,0,0))\n",
    "arima_post_fitted = arima_post_model.fit(y=btc_post_ret.iloc[1:], disp=False)\n",
    "arima_post_fitted.plot_diagnostics()\n",
    "plt.tight_layout()\n",
    "#fig.set_size_inches(12,5)\n",
    "plt.savefig(save_plot_to+'M2_post_fig_3.svg',format='svg',bbox_inches='tight', pad_inches = 0)"
   ],
   "metadata": {
    "collapsed": false,
    "pycharm": {
     "name": "#%%\n",
     "is_executing": false
    }
   }
  },
  {
   "cell_type": "code",
   "execution_count": null,
   "outputs": [],
   "source": [],
   "metadata": {
    "collapsed": false,
    "pycharm": {
     "name": "#%%\n"
    }
   }
  },
  {
   "cell_type": "code",
   "execution_count": 127,
   "outputs": [],
   "source": [
    "# test heteroskedast.\n",
    "from statsmodels.tsa.arima_model import ARIMA\n",
    "arima_model = ARIMA(endog=btc_ret.iloc[1:],order=(0,1,0))\n",
    "arima_fitted = arima_model.fit()"
   ],
   "metadata": {
    "collapsed": false,
    "pycharm": {
     "name": "#%%\n",
     "is_executing": false
    }
   }
  },
  {
   "cell_type": "code",
   "execution_count": null,
   "outputs": [],
   "source": [
    "### btc_ret plotting, not relevant ###"
   ],
   "metadata": {
    "collapsed": false,
    "pycharm": {
     "name": "#%%\n"
    }
   }
  },
  {
   "cell_type": "code",
   "execution_count": 27,
   "outputs": [],
   "source": [
    "# Einschrittprognose für btc_returns mit ARIMA(0,0,0)\n",
    "import warnings\n",
    "warnings.filterwarnings('ignore')\n",
    "from sklearn.metrics import mean_squared_error as mse\n",
    "import pmdarima as pm\n",
    "\n",
    "history_ret = [x for x in btc_returns[1:]]\n",
    "pred_val_ret = list()\n",
    "lo_conf_int_ret = list()\n",
    "up_conf_int_ret = list()\n",
    "\n",
    "def einschritt_prognose_ret():\n",
    "    aussreisser_ctr = 0\n",
    "    for i in range(len(btc_returns_test)):\n",
    "        model = pm.ARIMA(order=(0,0,0))\n",
    "        model_fitted = model.fit(y=history_ret, disp=False)\n",
    "        model_result = model_fitted.predict(n_periods=1, return_conf_int=True)\n",
    "        yhat_ret = model_result[0][0]\n",
    "        lo_conf_val_ret = model_result[1][0][0]\n",
    "        up_conf_val_ret = model_result[1][0][1]\n",
    "        \n",
    "        if btc_returns[1427 + i] > up_conf_val_ret or btc_returns[1427 + i] < lo_conf_val_ret:\n",
    "            aussreisser_ctr += 1\n",
    "        pred_val_ret.append(yhat_ret)\n",
    "        lo_conf_int_ret.append(lo_conf_val_ret)\n",
    "        up_conf_int_ret.append(up_conf_val_ret)\n",
    "        history_ret.append(btc_returns_test[i])\n",
    "\n",
    "    # return mse_ret and ausreisser_ctr\n",
    "    return (np.sqrt(mse(pred_val_ret, btc_returns_test.values)), aussreisser_ctr,\n",
    "            pred_val_ret, lo_conf_int_ret, up_conf_int_ret)\n",
    "    \n",
    "pred_result_ret = einschritt_prognose_ret()\n",
    "print(pred_result_ret)"
   ],
   "metadata": {
    "collapsed": false,
    "pycharm": {
     "name": "#%%\n",
     "is_executing": false
    }
   }
  },
  {
   "cell_type": "code",
   "execution_count": 29,
   "outputs": [],
   "source": [
    "# make series for plotting predicted vs. actual btc_returns\n",
    "index_pred = np.arange(len(btc_returns_train) + 1, len(btc_returns) + 1)\n",
    "pred_val_ret_series = pd.Series(pred_result_ret[2], index=index_pred)\n",
    "test_series_ret = pd.Series(btc_returns_test.values, index=index_pred)\n",
    "lo_conf_int_ret_series = pd.Series(pred_result_ret[3], index=index_pred)\n",
    "up_conf_int_ret_series = pd.Series(pred_result_ret[4], index=index_pred)\n",
    "\n",
    "# plot btc_returns einschrittprognosen für ARIMA(0,0,0)\n",
    "fig_5 = plt.plot(btc_returns_train[1:].values, label= r'$X_T$')\n",
    "plt.plot(test_series_ret, label= r'$X_{T+h}$', color='green')\n",
    "plt.plot(pred_val_ret_series, label= r'$\\hat{X}_{T+h}$', color= 'red')\n",
    "plt.fill_between(lo_conf_int_ret_series.index, lo_conf_int_ret_series, up_conf_int_ret_series, color='k', alpha=0.1)\n",
    "plt.legend(loc='upper left')\n",
    "plt.title('Einschrittprognose btc_returns ARIMA(0,0,0)')"
   ],
   "metadata": {
    "collapsed": false,
    "pycharm": {
     "name": "#%%\n",
     "is_executing": false
    }
   }
  },
  {
   "cell_type": "code",
   "execution_count": 49,
   "outputs": [],
   "source": [
    "# Obtain ARIMA(0,0,0) residuals for btc_returns\n",
    "model = pm.ARIMA(order=(0,0,0))\n",
    "model_fitted = model.fit(y=btc_returns[1:], disp=False)\n",
    "model_residuals = model_fitted.resid()\n",
    "\n",
    "# Plot ARIMA(0,0,0) residual diagnostics for btc_returns\n",
    "fig_6 = model_fitted.plot_diagnostics()"
   ],
   "metadata": {
    "collapsed": false,
    "pycharm": {
     "name": "#%%\n",
     "is_executing": false
    }
   }
  },
  {
   "cell_type": "code",
   "execution_count": null,
   "outputs": [],
   "source": [
    "# btc_returns ~ model_residuals\n",
    "plt.plot(btc_returns[1:].values)\n",
    "plt.plot(model_residuals)"
   ],
   "metadata": {
    "collapsed": false,
    "pycharm": {
     "name": "#%%\n"
    }
   }
  },
  {
   "cell_type": "code",
   "execution_count": 9,
   "outputs": [],
   "source": [
    "# \n",
    "model_residuals.resid()"
   ],
   "metadata": {
    "collapsed": false,
    "pycharm": {
     "name": "#%%\n",
     "is_executing": false
    }
   }
  },
  {
   "cell_type": "code",
   "execution_count": 79,
   "outputs": [],
   "source": [
    "x = np.asarray(model_fitted.resid).squeeze()\n",
    "x.ndim"
   ],
   "metadata": {
    "collapsed": false,
    "pycharm": {
     "name": "#%%\n",
     "is_executing": false
    }
   }
  },
  {
   "cell_type": "code",
   "execution_count": 58,
   "outputs": [],
   "source": [
    "# res expects attribute (not method!) resids: res.resids instead of res.resids()\n",
    "# ndim(resids()) = 1, but ndim(resids = 0) -> Thats the problem\n",
    "from statsmodels.stats.diagnostic import acorr_breusch_godfrey\n",
    "acorr_breusch_godfrey(res=model_fitted)"
   ],
   "metadata": {
    "collapsed": false,
    "pycharm": {
     "name": "#%%\n",
     "is_executing": false
    }
   }
  },
  {
   "cell_type": "code",
   "execution_count": 73,
   "outputs": [],
   "source": [
    "# no plan how to compare test-statistic\n",
    "from statsmodels.tsa.arima.model import ARIMA\n",
    "model = ARIMA(endog=btc_returns[1:], order=(0,0,0)) \n",
    "model_fit = model.fit()\n",
    "model_fit.test_heteroskedasticity(method=None)\n",
    "\n"
   ],
   "metadata": {
    "collapsed": false,
    "pycharm": {
     "name": "#%%\n",
     "is_executing": false
    }
   }
  }
 ],
 "metadata": {
  "kernelspec": {
   "display_name": "Python 3",
   "language": "python",
   "name": "python3"
  },
  "language_info": {
   "codemirror_mode": {
    "name": "ipython",
    "version": 2
   },
   "file_extension": ".py",
   "mimetype": "text/x-python",
   "name": "python",
   "nbconvert_exporter": "python",
   "pygments_lexer": "ipython2",
   "version": "2.7.6"
  },
  "pycharm": {
   "stem_cell": {
    "cell_type": "raw",
    "source": [],
    "metadata": {
     "collapsed": false
    }
   }
  }
 },
 "nbformat": 4,
 "nbformat_minor": 0
}