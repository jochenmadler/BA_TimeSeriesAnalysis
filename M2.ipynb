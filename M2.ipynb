{
 "cells": [
  {
   "cell_type": "code",
   "execution_count": 31,
   "metadata": {
    "collapsed": true,
    "pycharm": {
     "is_executing": false
    }
   },
   "outputs": [],
   "source": [
    "# set up imports\n",
    "import pandas as pd, numpy as np, seaborn as sns\n",
    "from tabulate import tabulate\n",
    "import statsmodels\n",
    "import arch\n",
    "import matplotlib\n",
    "matplotlib.use('qt5agg')\n",
    "\n",
    "# configure plot style\n",
    "import matplotlib.pyplot as plt\n",
    "plt.rcParams['mathtext.fontset'] = 'stix'\n",
    "plt.rcParams['font.family'] = 'STIXGeneral'\n",
    "plt.rcParams[\"figure.figsize\"] = (9.5,4.15)\n",
    "plt.rcParams['figure.constrained_layout.use'] = False\n",
    "plt.rcParams['figure.dpi'] = 100\n",
    "plt.rcParams['savefig.dpi'] = 100\n",
    "plt.rcParams['lines.linewidth'] = 0.8\n",
    "save_plot_to =  r'C:\\\\Users\\joche\\OneDrive\\03 TUM - TUM-BWL\\Semester 8\\01 Bachelorarbeit\\04 Results\\Plots/'"
   ]
  },
  {
   "cell_type": "code",
   "execution_count": 2,
   "outputs": [],
   "source": [
    "## OLD - THROW OUT ##\n",
    "\n",
    "# load data from excel file\n",
    "mydateparser = lambda x: pd.datetime.strptime(str(x), '%Y-%m-%d %H:%M:%S')\n",
    "btc = pd.read_excel('Data/BTC_closing.xlsx',squeeze=True, parse_dates=[0], index_col=0, date_parser=mydateparser)\n",
    "\n",
    "# crop data: 2015-08-07 to 2020-06-26\n",
    "start_date = '2015-08-07'\n",
    "end_date = '2020-06-26'\n",
    "btc = btc[start_date : end_date]"
   ],
   "metadata": {
    "collapsed": false,
    "pycharm": {
     "name": "#%%\n",
     "is_executing": false
    }
   }
  },
  {
   "cell_type": "code",
   "execution_count": 4,
   "outputs": [
    {
     "data": {
      "text/plain": "                btc\ndate               \n2015-08-07   279.58\n2015-08-10   264.47\n2015-08-11   270.39\n2015-08-12   266.38\n2015-08-13   264.08\n...             ...\n2020-06-18  9411.84\n2020-06-19  9288.02\n2020-06-22  9648.72\n2020-06-23  9629.66\n2020-06-24  9313.61\n\n[1112 rows x 1 columns]",
      "text/html": "<div>\n<style scoped>\n    .dataframe tbody tr th:only-of-type {\n        vertical-align: middle;\n    }\n\n    .dataframe tbody tr th {\n        vertical-align: top;\n    }\n\n    .dataframe thead th {\n        text-align: right;\n    }\n</style>\n<table border=\"1\" class=\"dataframe\">\n  <thead>\n    <tr style=\"text-align: right;\">\n      <th></th>\n      <th>btc</th>\n    </tr>\n    <tr>\n      <th>date</th>\n      <th></th>\n    </tr>\n  </thead>\n  <tbody>\n    <tr>\n      <td>2015-08-07</td>\n      <td>279.58</td>\n    </tr>\n    <tr>\n      <td>2015-08-10</td>\n      <td>264.47</td>\n    </tr>\n    <tr>\n      <td>2015-08-11</td>\n      <td>270.39</td>\n    </tr>\n    <tr>\n      <td>2015-08-12</td>\n      <td>266.38</td>\n    </tr>\n    <tr>\n      <td>2015-08-13</td>\n      <td>264.08</td>\n    </tr>\n    <tr>\n      <td>...</td>\n      <td>...</td>\n    </tr>\n    <tr>\n      <td>2020-06-18</td>\n      <td>9411.84</td>\n    </tr>\n    <tr>\n      <td>2020-06-19</td>\n      <td>9288.02</td>\n    </tr>\n    <tr>\n      <td>2020-06-22</td>\n      <td>9648.72</td>\n    </tr>\n    <tr>\n      <td>2020-06-23</td>\n      <td>9629.66</td>\n    </tr>\n    <tr>\n      <td>2020-06-24</td>\n      <td>9313.61</td>\n    </tr>\n  </tbody>\n</table>\n<p>1112 rows × 1 columns</p>\n</div>"
     },
     "metadata": {},
     "output_type": "execute_result",
     "execution_count": 4
    }
   ],
   "source": [
    "# load data: new_btc.txt, created with M4\n",
    "index_name = 'date'\n",
    "btc = pd.read_csv('Data/btc_new.txt', index_col=0)\n",
    "btc.index = pd.DatetimeIndex(btc.index, normalize=True).normalize()\n",
    "btc"
   ],
   "metadata": {
    "collapsed": false,
    "pycharm": {
     "name": "#%%\n",
     "is_executing": false
    }
   }
  },
  {
   "cell_type": "code",
   "execution_count": 95,
   "outputs": [],
   "source": [
    "# define overview-printing function of dataframe\n",
    "def dates_overview(dataframe):\n",
    "    print('start_date:\\t', dataframe.index[0])\n",
    "    print('end_date:\\t', dataframe.index[-1])\n",
    "    print('len df:\\t\\t', len(dataframe))\n",
    "\n",
    "# define train/test-splitting function of dataframe\n",
    "def split_traintest_df(dataframe):\n",
    "    train_size = int(len(dataframe) * 0.8)\n",
    "    df_train, df_test = dataframe[0:train_size], dataframe[train_size:]\n",
    "    # create dataframe for printout\n",
    "    data = {'Dataframe': ['dataframe', 'df_train', 'df_test'],\n",
    "            'date_start': [dataframe.index[0], df_train.index[0], df_test.index[0]],\n",
    "            'date_end': [dataframe.index[-1], df_train.index[-1], df_test.index[-1]],\n",
    "            'nobs': [len(dataframe), len(df_train), len(df_test)]}\n",
    "    df_print = pd.DataFrame(data, columns=['Dataframe','date_start','date_end','nobs'])\n",
    "    print(df_print)\n",
    "    return df_train, df_test\n",
    "\n",
    "# define log-taking and relabeling function\n",
    "def log_of_df(dataframe):\n",
    "    df_log = np.log(dataframe)\n",
    "    new_cols = list()\n",
    "    for i in df_log.columns:\n",
    "        new_cols.append(i+'_log')\n",
    "    df_log.columns = new_cols\n",
    "    # fill na value of negative oil price on 2020-04-20 with 0\n",
    "    df_log.fillna(value=0, inplace=True)\n",
    "    return df_log\n",
    "\n",
    "# define first difference-taking function of dataframe\n",
    "def diff_of_df(dataframe):\n",
    "    df_train_log_diff = dataframe.diff()\n",
    "    # relabel columns\n",
    "    new_cols = list()\n",
    "    for i in df_train_log_diff.columns:\n",
    "        new_cols.append(i+'_diff')\n",
    "    df_train_log_diff.columns = new_cols\n",
    "    return df_train_log_diff\n",
    "\n",
    "# define return creating function of dataframe\n",
    "def create_returns(dataframe_train):\n",
    "    dataframe_train_log = log_of_df(dataframe_train)\n",
    "    dataframe_returns = diff_of_df(dataframe_train_log)\n",
    "    dataframe_returns.columns = ['btc_ret']\n",
    "    return dataframe_train_log, dataframe_returns\n",
    "\n",
    "# define log and ret + ACF & PACF plotting function for dataframe_log, dataframe_ret\n",
    "from statsmodels.graphics.tsaplots import plot_acf, plot_pacf\n",
    "def plot_acf_pacf(dataframe_log, dataframe_ret):\n",
    "    fig, axs = plt.subplots(3,2)\n",
    "    axs[0][0].plot(dataframe_log.iloc[1:], color='black')\n",
    "    axs[0][0].set_title('btc_log')\n",
    "    axs[0][1].plot(dataframe_ret.iloc[1:], color='black')\n",
    "    axs[0][1].set_title('btc_ret')\n",
    "    plot_acf(dataframe_log, color='black', ax=axs[1][0], markersize=2)\n",
    "    plot_acf(dataframe_ret.iloc[1:], color='black', ax=axs[1][1], markersize=2)\n",
    "    plot_pacf(dataframe_log, color='black', ax=axs[2][0], markersize=2)\n",
    "    plot_pacf(dataframe_ret.iloc[1:], color='black', ax=axs[2][1], markersize=2)\n",
    "    fig.tight_layout()\n",
    "    return fig\n",
    "\n",
    "# define adf- and pp-testing of dataframe with latex-printout on/off\n",
    "from arch.unitroot import ADF, PhillipsPerron\n",
    "def stationarity_tests(dataframe, latex):\n",
    "    for col in dataframe:\n",
    "        adf = ADF(dataframe[col])\n",
    "        pp = PhillipsPerron(dataframe[col])\n",
    "        if latex is False:\n",
    "            # write summary as plain text to std.out\n",
    "            print('Timeseries:\\t',col,'\\n',\n",
    "                  adf.summary(),'\\n\\n',pp.summary(),'\\n\\n\\n')\n",
    "        else:\n",
    "            # write summary as latex to file\n",
    "            with open(save_plot_to + 'Stationarity_Tests_LaTeX.txt', 'a') as myfile:\n",
    "                myfile.write('Timeseries:\\t'+col+'\\n'\n",
    "                         +adf.summary().as_latex()+'\\n\\n'\n",
    "                         +pp.summary().as_latex()+'\\n\\n\\n')\n",
    "                \n",
    "# define stationaritiy table-generating function of a dataframe filepath\n",
    "def stationarity_table_aslatex_from_df(filepath):\n",
    "    # read in dataframe from .txt file\n",
    "    stationarity_dataframe = pd.read_csv(save_plot_to+filepath, delimiter='\\s+', header=0)\n",
    "    # print dataframe as latex output\n",
    "    print(tabulate(stationarity_dataframe, headers=stationarity_dataframe.columns, showindex=False, tablefmt=\"latex\"))\n",
    "\n",
    "# define auto-ARIMA function for a dataframe_ret\n",
    "import pmdarima as pm\n",
    "import warnings\n",
    "warnings.filterwarnings('ignore')\n",
    "def auto_arima_optimal_fit_of(dataframe_ret, max_p, max_q):\n",
    "    model_auto = pm.auto_arima(dataframe_ret, start_p=0, start_q=0,\n",
    "                               max_p=max_p, max_q=max_q,\n",
    "                               test='adf',\n",
    "                               m=1,\n",
    "                               d=None,\n",
    "                               trace=True,\n",
    "                               error_action='ignore',\n",
    "                               suppress_warnings=True,\n",
    "                               seasonal=False,\n",
    "                               stepwise=True)\n",
    "    return model_auto\n",
    "\n",
    "# define manually verifying function for dataframe_ret\n",
    "import pmdarima as pm\n",
    "import warnings\n",
    "warnings.filterwarnings('ignore')\n",
    "def arima_fit_of(dataframe_ret, max_p, max_q, latex):\n",
    "    for p in range(max_p):\n",
    "        for q in range(max_q):\n",
    "            temp_model = pm.ARIMA(order=(p,0,q))\n",
    "            temp_fitted = temp_model.fit(dataframe_ret)\n",
    "            if latex is False:\n",
    "                # write summary as plain text to std.out\n",
    "                print('Current order: {0},0,{1}\\n'.format(p,q),\n",
    "                temp_fitted.summary(),'\\n')\n",
    "            else:\n",
    "                # write summary as latex to file\n",
    "                with open(save_plot_to + 'M2_ARIMA_configuratios_LaTeX.txt', 'a') as myfile:\n",
    "                        myfile.write('Current order: {0},0,{1}\\n'.format(p,q)+\n",
    "                                     temp_fitted.summary().as_latex()+'\\n\\n')\n",
    "\n",
    "# define rolling forecast function for dataframe and p,q values\n",
    "from sklearn.metrics import mean_squared_error as mse\n",
    "def arima_rolling_forecast(dataframe, p, q):\n",
    "    # create train and test dataframes\n",
    "    train_size = int(len(dataframe) * 0.8)\n",
    "    dataframe_train, dataframe_test = dataframe[0:train_size], dataframe[train_size:]\n",
    "    index = len(dataframe_train) - 1\n",
    "    # initialize lists\n",
    "    pred_val_btc = list()\n",
    "    lo_conf_int_btc = list()\n",
    "    up_conf_int_btc = list()\n",
    "    ausreisser_ctr = 0\n",
    "    # rolling forecast\n",
    "    for i in range(len(dataframe_test)):\n",
    "        # input data, dependent on i\n",
    "        input_data = log_of_df(dataframe).diff().values[max(p,q)+1:index + i]\n",
    "        # fit model and predict 1 step\n",
    "        dataframe_arima = pm.ARIMA(order=(p,0,q))\n",
    "        dataframe_arima_fitted = dataframe_arima.fit(y=input_data, disp=False)\n",
    "        dataframe_arima_result = dataframe_arima_fitted.predict(n_periods=1, return_conf_int=True)\n",
    "        # obtain absolute (inversed) btc values for mean prediction, upper- and lower confidence interval\n",
    "        yhat_btc = np.exp(dataframe_arima_result[0][0] + np.log(dataframe).iloc[:,0][index+i])\n",
    "        lo_conf_btc_val = np.exp(dataframe_arima_result[1][0][0] + np.log(dataframe).iloc[:,0][index+i])\n",
    "        up_conf_btc_val = np.exp(dataframe_arima_result[1][0][1] + np.log(dataframe).iloc[:,0][index+i])\n",
    "        if (dataframe.iloc[:,0][index+i+1] > up_conf_btc_val) or (dataframe.iloc[:,0][index+i+1] < lo_conf_btc_val):\n",
    "            ausreisser_ctr += 1\n",
    "        pred_val_btc.append(yhat_btc)\n",
    "        lo_conf_int_btc.append(lo_conf_btc_val)\n",
    "        up_conf_int_btc.append(up_conf_btc_val)\n",
    "    # return [0]: mse, [1]: ausreisser ctr, [2]: predictions, [3]: lo_confint, [4]: up_confint\n",
    "    return (np.sqrt(mse(pred_val_btc, dataframe_test.iloc[:,0].values)), ausreisser_ctr,\n",
    "            pred_val_btc, lo_conf_int_btc, up_conf_int_btc)\n",
    "\n",
    "# define series-generating and plotting function for dataframe_arima_pred_result\n",
    "def plot_arima_pred_result(dataframe, dataframe_train, dataframe_test, dataframe_arima_pred_result):\n",
    "    # make series for plotting pred. vs. actual\n",
    "    index_pred = np.arange(len(dataframe_train) + 1, len(dataframe) + 1)\n",
    "    pred_val_btc_series = pd.Series(btc_arima_pred_result[2], index=index_pred)\n",
    "    test_series_btc = pd.Series(dataframe_test.iloc[:,0].values, index=index_pred)\n",
    "    lo_conf_int_btc_series = pd.Series(btc_arima_pred_result[3], index=index_pred)\n",
    "    up_conf_int_btc_series = pd.Series(btc_arima_pred_result[4], index=index_pred)\n",
    "    # create plot: \n",
    "    fig, axs = plt.subplots(1,2)\n",
    "    axs[0].plot(dataframe_train.iloc[:,0].values, label= r'$btc_T$', color='black')\n",
    "    axs[0].plot(test_series_btc, label= r'$btc_{T+h}$', color='green')\n",
    "    axs[0].plot(pred_val_btc_series, label= r'$\\hat{btc}_{T+h}$', color= 'red')\n",
    "    axs[0].fill_between(lo_conf_int_btc_series.index, lo_conf_int_btc_series, up_conf_int_btc_series, color='k', alpha=0.1)\n",
    "    axs[0].legend(loc='upper left')\n",
    "    axs[0].title.set_text('Gesamter Zeitraum')\n",
    "    axs[1].plot(test_series_btc, label= r'$btc_{T+h}$', color='green')\n",
    "    axs[1].plot(pred_val_btc_series, label= r'$\\hat{btc}_{T+h}$', color= 'red')\n",
    "    axs[1].fill_between(lo_conf_int_btc_series.index, lo_conf_int_btc_series, up_conf_int_btc_series, color='k', alpha=0.1)\n",
    "    axs[1].legend(loc='upper left')\n",
    "    axs[1].title.set_text('Vorhersage-Zeitraum')\n",
    "    fig.suptitle('ARIMA(0,0,0) Einschrittprognose btc')\n",
    "    return fig\n",
    "\n"
   ],
   "metadata": {
    "collapsed": false,
    "pycharm": {
     "name": "#%%\n",
     "is_executing": false
    }
   }
  },
  {
   "cell_type": "code",
   "execution_count": null,
   "outputs": [],
   "source": [
    "# overview for btc\n",
    "dates_overview(btc)"
   ],
   "metadata": {
    "collapsed": false,
    "pycharm": {
     "name": "#%%\n"
    }
   }
  },
  {
   "cell_type": "code",
   "execution_count": 13,
   "outputs": [
    {
     "name": "stdout",
     "text": [
      "   Dataframe date_start   date_end  nobs\n0  dataframe 2015-08-07 2020-06-24  1112\n1   df_train 2015-08-07 2019-07-01   889\n2    df_test 2019-07-02 2020-06-24   223\n"
     ],
     "output_type": "stream"
    }
   ],
   "source": [
    "# split btc in train and test dataset: proceed only with btc_train\n",
    "btc_train, btc_test = split_traintest_df(btc)"
   ],
   "metadata": {
    "collapsed": false,
    "pycharm": {
     "name": "#%%\n",
     "is_executing": false
    }
   }
  },
  {
   "cell_type": "code",
   "execution_count": 36,
   "outputs": [
    {
     "data": {
      "text/plain": "             btc_ret\ndate                \n2015-08-07       NaN\n2015-08-10 -0.055561\n2015-08-11  0.022138\n2015-08-12 -0.014942\n2015-08-13 -0.008672\n...              ...\n2019-06-25  0.068426\n2019-06-26  0.098867\n2019-06-27 -0.151819\n2019-06-28  0.103910\n2019-07-01 -0.159026\n\n[889 rows x 1 columns]",
      "text/html": "<div>\n<style scoped>\n    .dataframe tbody tr th:only-of-type {\n        vertical-align: middle;\n    }\n\n    .dataframe tbody tr th {\n        vertical-align: top;\n    }\n\n    .dataframe thead th {\n        text-align: right;\n    }\n</style>\n<table border=\"1\" class=\"dataframe\">\n  <thead>\n    <tr style=\"text-align: right;\">\n      <th></th>\n      <th>btc_ret</th>\n    </tr>\n    <tr>\n      <th>date</th>\n      <th></th>\n    </tr>\n  </thead>\n  <tbody>\n    <tr>\n      <td>2015-08-07</td>\n      <td>NaN</td>\n    </tr>\n    <tr>\n      <td>2015-08-10</td>\n      <td>-0.055561</td>\n    </tr>\n    <tr>\n      <td>2015-08-11</td>\n      <td>0.022138</td>\n    </tr>\n    <tr>\n      <td>2015-08-12</td>\n      <td>-0.014942</td>\n    </tr>\n    <tr>\n      <td>2015-08-13</td>\n      <td>-0.008672</td>\n    </tr>\n    <tr>\n      <td>...</td>\n      <td>...</td>\n    </tr>\n    <tr>\n      <td>2019-06-25</td>\n      <td>0.068426</td>\n    </tr>\n    <tr>\n      <td>2019-06-26</td>\n      <td>0.098867</td>\n    </tr>\n    <tr>\n      <td>2019-06-27</td>\n      <td>-0.151819</td>\n    </tr>\n    <tr>\n      <td>2019-06-28</td>\n      <td>0.103910</td>\n    </tr>\n    <tr>\n      <td>2019-07-01</td>\n      <td>-0.159026</td>\n    </tr>\n  </tbody>\n</table>\n<p>889 rows × 1 columns</p>\n</div>"
     },
     "metadata": {},
     "output_type": "execute_result",
     "execution_count": 36
    }
   ],
   "source": [
    "# create log and returns for btc_train\n",
    "btc_log, btc_ret = create_returns(btc_train)\n",
    "btc_ret"
   ],
   "metadata": {
    "collapsed": false,
    "pycharm": {
     "name": "#%%\n",
     "is_executing": false
    }
   }
  },
  {
   "cell_type": "code",
   "execution_count": 58,
   "outputs": [],
   "source": [
    "# plot btc_log and btc_ret with ACF and PACF, respectively\n",
    "fig_1 = plot_acf_pacf(btc_log,btc_ret)"
   ],
   "metadata": {
    "collapsed": false,
    "pycharm": {
     "name": "#%%\n",
     "is_executing": false
    }
   }
  },
  {
   "cell_type": "code",
   "execution_count": 46,
   "outputs": [],
   "source": [
    "# save fig_1\n",
    "fig_1.savefig(save_plot_to+'M2_fig_1.svg',format='svg')"
   ],
   "metadata": {
    "collapsed": false,
    "pycharm": {
     "name": "#%%\n",
     "is_executing": false
    }
   }
  },
  {
   "cell_type": "code",
   "execution_count": 51,
   "outputs": [
    {
     "name": "stdout",
     "text": [
      "Timeseries:\t btc_log \n    Augmented Dickey-Fuller Results   \n=====================================\nTest Statistic                 -0.883\nP-value                         0.794\nLags                                0\n-------------------------------------\n\nTrend: Constant\nCritical Values: -3.44 (1%), -2.86 (5%), -2.57 (10%)\nNull Hypothesis: The process contains a unit root.\nAlternative Hypothesis: The process is weakly stationary. \n\n      Phillips-Perron Test (Z-tau)    \n=====================================\nTest Statistic                 -0.931\nP-value                         0.778\nLags                               21\n-------------------------------------\n\nTrend: Constant\nCritical Values: -3.44 (1%), -2.86 (5%), -2.57 (10%)\nNull Hypothesis: The process contains a unit root.\nAlternative Hypothesis: The process is weakly stationary. \n\n\n\nTimeseries:\t btc_ret \n    Augmented Dickey-Fuller Results   \n=====================================\nTest Statistic                -29.318\nP-value                         0.000\nLags                                0\n-------------------------------------\n\nTrend: Constant\nCritical Values: -3.44 (1%), -2.86 (5%), -2.57 (10%)\nNull Hypothesis: The process contains a unit root.\nAlternative Hypothesis: The process is weakly stationary. \n\n      Phillips-Perron Test (Z-tau)    \n=====================================\nTest Statistic                -29.679\nP-value                         0.000\nLags                               21\n-------------------------------------\n\nTrend: Constant\nCritical Values: -3.44 (1%), -2.86 (5%), -2.57 (10%)\nNull Hypothesis: The process contains a unit root.\nAlternative Hypothesis: The process is weakly stationary. \n\n\n\n"
     ],
     "output_type": "stream"
    }
   ],
   "source": [
    "# perform ADF and PP test on btc_log and btc_ret\n",
    "stationarity_tests(btc_log,False)\n",
    "stationarity_tests(btc_ret.iloc[1:],False)"
   ],
   "metadata": {
    "collapsed": false,
    "pycharm": {
     "name": "#%%\n",
     "is_executing": false
    }
   }
  },
  {
   "cell_type": "code",
   "execution_count": 54,
   "outputs": [
    {
     "name": "stdout",
     "text": [
      "\\begin{tabular}{lrrl}\n\\hline\n Variable   &     ADF &      PP & \\ensuremath{<}-2.86(5\\%)   \\\\\n\\hline\n btc\\_log    &  -0.883 &  -0.931 & nein         \\\\\n btc\\_ret    & -29.318 & -29.679 & ja           \\\\\n\\hline\n\\end{tabular}\n"
     ],
     "output_type": "stream"
    }
   ],
   "source": [
    "# generate latex output for M2_stationarity tests.txt\n",
    "stationarity_table_aslatex_from_df('M2_stationarity tests.txt')"
   ],
   "metadata": {
    "collapsed": false,
    "pycharm": {
     "name": "#%%\n",
     "is_executing": false
    }
   }
  },
  {
   "cell_type": "code",
   "execution_count": null,
   "outputs": [],
   "source": [
    "## ARCHIV: Genaue Testergebnisse für ADF und PP ##\n",
    "# ADF- and PP- mit btc\n",
    "from arch.unitroot import ADF, PhillipsPerron\n",
    "adf = ADF(btc)\n",
    "pp = PhillipsPerron(btc)\n",
    "print(adf.summary().as_latex(),'\\n\\n\\n', pp.summary().as_latex())\n",
    "\n",
    "# ADF- and PP- mit btc_returns\n",
    "from arch.unitroot import ADF, PhillipsPerron\n",
    "adf = ADF(btc_returns[1:])\n",
    "pp = PhillipsPerron(btc_returns[1:])\n",
    "print(adf.summary().as_latex(),'\\n\\n\\n', pp.summary().as_latex())"
   ],
   "metadata": {
    "collapsed": false,
    "pycharm": {
     "name": "#%%\n"
    }
   }
  },
  {
   "cell_type": "code",
   "execution_count": 69,
   "outputs": [
    {
     "name": "stdout",
     "text": [
      "Performing stepwise search to minimize aic\nFit ARIMA(0,0,0)x(0,0,0,0) [intercept=True]; AIC=-2848.296, BIC=-2838.718, Time=0.132 seconds\nFit ARIMA(1,0,0)x(0,0,0,0) [intercept=True]; AIC=-2846.367, BIC=-2832.000, Time=0.062 seconds\n",
      "Fit ARIMA(0,0,1)x(0,0,0,0) [intercept=True]; AIC=-2846.363, BIC=-2831.996, Time=0.439 seconds\nFit ARIMA(0,0,0)x(0,0,0,0) [intercept=False]; AIC=-2844.012, BIC=-2839.223, Time=0.080 seconds\n",
      "Fit ARIMA(1,0,1)x(0,0,0,0) [intercept=True]; AIC=-2844.365, BIC=-2825.209, Time=0.499 seconds\nTotal fit time: 1.226 seconds\n"
     ],
     "output_type": "stream"
    },
    {
     "data": {
      "text/plain": "<class 'statsmodels.iolib.summary.Summary'>\n\"\"\"\n                               SARIMAX Results                                \n==============================================================================\nDep. Variable:                      y   No. Observations:                  888\nModel:                        SARIMAX   Log Likelihood                1426.148\nDate:                Sat, 26 Sep 2020   AIC                          -2848.296\nTime:                        12:53:43   BIC                          -2838.718\nSample:                             0   HQIC                         -2844.635\n                                - 888                                         \nCovariance Type:                  opg                                         \n==============================================================================\n                 coef    std err          z      P>|z|      [0.025      0.975]\n------------------------------------------------------------------------------\nintercept      0.0041      0.002      2.505      0.012       0.001       0.007\nsigma2         0.0024    6.4e-05     36.818      0.000       0.002       0.002\n===================================================================================\nLjung-Box (L1) (Q):                   0.07   Jarque-Bera (JB):               637.35\nProb(Q):                              0.79   Prob(JB):                         0.00\nHeteroskedasticity (H):               1.62   Skew:                            -0.17\nProb(H) (two-sided):                  0.00   Kurtosis:                         7.14\n===================================================================================\n\nWarnings:\n[1] Covariance matrix calculated using the outer product of gradients (complex-step).\n\"\"\"",
      "text/html": "<table class=\"simpletable\">\n<caption>SARIMAX Results</caption>\n<tr>\n  <th>Dep. Variable:</th>           <td>y</td>        <th>  No. Observations:  </th>    <td>888</td>   \n</tr>\n<tr>\n  <th>Model:</th>                <td>SARIMAX</td>     <th>  Log Likelihood     </th> <td>1426.148</td> \n</tr>\n<tr>\n  <th>Date:</th>            <td>Sat, 26 Sep 2020</td> <th>  AIC                </th> <td>-2848.296</td>\n</tr>\n<tr>\n  <th>Time:</th>                <td>12:53:43</td>     <th>  BIC                </th> <td>-2838.718</td>\n</tr>\n<tr>\n  <th>Sample:</th>                  <td>0</td>        <th>  HQIC               </th> <td>-2844.635</td>\n</tr>\n<tr>\n  <th></th>                      <td> - 888</td>      <th>                     </th>     <td> </td>    \n</tr>\n<tr>\n  <th>Covariance Type:</th>        <td>opg</td>       <th>                     </th>     <td> </td>    \n</tr>\n</table>\n<table class=\"simpletable\">\n<tr>\n      <td></td>         <th>coef</th>     <th>std err</th>      <th>z</th>      <th>P>|z|</th>  <th>[0.025</th>    <th>0.975]</th>  \n</tr>\n<tr>\n  <th>intercept</th> <td>    0.0041</td> <td>    0.002</td> <td>    2.505</td> <td> 0.012</td> <td>    0.001</td> <td>    0.007</td>\n</tr>\n<tr>\n  <th>sigma2</th>    <td>    0.0024</td> <td>  6.4e-05</td> <td>   36.818</td> <td> 0.000</td> <td>    0.002</td> <td>    0.002</td>\n</tr>\n</table>\n<table class=\"simpletable\">\n<tr>\n  <th>Ljung-Box (L1) (Q):</th>     <td>0.07</td> <th>  Jarque-Bera (JB):  </th> <td>637.35</td>\n</tr>\n<tr>\n  <th>Prob(Q):</th>                <td>0.79</td> <th>  Prob(JB):          </th>  <td>0.00</td> \n</tr>\n<tr>\n  <th>Heteroskedasticity (H):</th> <td>1.62</td> <th>  Skew:              </th>  <td>-0.17</td>\n</tr>\n<tr>\n  <th>Prob(H) (two-sided):</th>    <td>0.00</td> <th>  Kurtosis:          </th>  <td>7.14</td> \n</tr>\n</table><br/><br/>Warnings:<br/>[1] Covariance matrix calculated using the outer product of gradients (complex-step)."
     },
     "metadata": {},
     "output_type": "execute_result",
     "execution_count": 69
    }
   ],
   "source": [
    "# obtain best auto arima model for btc_ret\n",
    "btc_auto_arima = auto_arima_optimal_fit_of(btc_ret.iloc[1:],max_p=10,max_q=10)\n",
    "btc_auto_arima.summary()"
   ],
   "metadata": {
    "collapsed": false,
    "pycharm": {
     "name": "#%%\n",
     "is_executing": false
    }
   }
  },
  {
   "cell_type": "code",
   "execution_count": 65,
   "outputs": [
    {
     "name": "stdout",
     "text": [
      "\\begin{center}\n\\begin{tabular}{lclc}\n\\toprule\n\\textbf{Dep. Variable:}          &        y         & \\textbf{  No. Observations:  } &    888      \\\\\n\\textbf{Model:}                  &     SARIMAX      & \\textbf{  Log Likelihood     } &  1426.148   \\\\\n\\textbf{Date:}                   & Sat, 26 Sep 2020 & \\textbf{  AIC                } & -2848.296   \\\\\n\\textbf{Time:}                   &     12:46:10     & \\textbf{  BIC                } & -2838.718   \\\\\n\\textbf{Sample:}                 &        0         & \\textbf{  HQIC               } & -2844.635   \\\\\n\\textbf{}                        &       - 888      & \\textbf{                     } &             \\\\\n\\bottomrule\n\\end{tabular}\n\\begin{tabular}{lcccccc}\n                   & \\textbf{coef} & \\textbf{std err} & \\textbf{z} & \\textbf{P$> |$z$|$} & \\textbf{[0.025} & \\textbf{0.975]}  \\\\\n\\midrule\n\\textbf{intercept} &       0.0041  &        0.002     &     2.505  &         0.012        &        0.001    &        0.007     \\\\\n\\textbf{sigma2}    &       0.0024  &      6.4e-05     &    36.818  &         0.000        &        0.002    &        0.002     \\\\\n\\bottomrule\n\\end{tabular}\n\\begin{tabular}{lclc}\n\\textbf{Ljung-Box (L1) (Q):}     & 0.07 & \\textbf{  Jarque-Bera (JB):  } & 637.35  \\\\\n\\textbf{Prob(Q):}                & 0.79 & \\textbf{  Prob(JB):          } &  0.00   \\\\\n\\textbf{Heteroskedasticity (H):} & 1.62 & \\textbf{  Skew:              } & -0.17   \\\\\n\\textbf{Prob(H) (two-sided):}    & 0.00 & \\textbf{  Kurtosis:          } &  7.14   \\\\\n\\bottomrule\n\\end{tabular}\n%\\caption{SARIMAX Results}\n\\end{center}\n\nWarnings: \\newline\n [1] Covariance matrix calculated using the outer product of gradients (complex-step).\n"
     ],
     "output_type": "stream"
    }
   ],
   "source": [
    "# generate and print latex output for btc_auto_arima model\n",
    "print(btc_auto_arima.summary().as_latex())\n",
    "                "
   ],
   "metadata": {
    "collapsed": false,
    "pycharm": {
     "name": "#%%\n",
     "is_executing": false
    }
   }
  },
  {
   "cell_type": "code",
   "execution_count": 79,
   "outputs": [],
   "source": [
    "# manually verify ARIMA(p,0,q) variations for btc_ret and print them as output\n",
    "arima_fit_of(btc_ret.iloc[1:],max_p=2,max_q=2,latex=False)"
   ],
   "metadata": {
    "collapsed": false,
    "pycharm": {
     "name": "#%%\n",
     "is_executing": false
    }
   }
  },
  {
   "cell_type": "code",
   "execution_count": 84,
   "outputs": [
    {
     "name": "stdout",
     "text": [
      "(433.783168037022, 14, [10628.479661514059, 10845.971423288063, 12010.53709696853, 12337.921025273816, 12627.308187156434, 12208.491544042865, 11406.744281509793, 11865.053226924247, 10940.761269169267, 9516.463161658161, 9731.951977220395, 10708.68224241871, 10573.473264375265, 10384.89719624103, 9940.527275208462, 9850.809412059372, 9950.972392760483, 9909.3362514279, 9556.711450853809, 9644.902187522788, 10125.037437068037, 10440.818187168312, 10560.09738812417, 11852.805281856094, 11525.42761786824, 11990.713273822697, 12015.720735844932, 11911.79741146319, 11429.339401554791, 10940.008828732047, 10091.930609185918, 10351.866216140506, 10415.146740044629, 10959.013070925002, 10806.142701894642, 10178.270560551788, 10170.549797764463, 10448.487372748132, 10225.40645593642, 9792.367654389704, 9546.712210893278, 9634.716914497114, 10664.053279836915, 10636.00971693183, 10616.899582816803, 10393.736743014058, 10375.055637520654, 10155.15489701134, 10217.510225769995, 10450.187238762965, 10316.539760180549, 10280.698765761992, 10237.433497055163, 10305.76718522506, 10220.703004480683, 9766.521962652145, 8653.080425666309, 8517.870883508152, 8148.345824375101, 8281.28690522084, 8323.568192373094, 8258.258231980179, 8626.428679278346, 8617.489007833468, 8351.781586589203, 8234.669681711872, 8076.116498307934, 8132.500962766722, 8272.83418809083, 8106.8447778596865, 7541.128815442284, 7519.279058802799, 8690.449334057408, 9289.312171271646, 9462.086209930741, 9239.457792683626, 9233.021764764197, 9294.723969196399, 9446.813820360474, 9376.60146618576, 9394.910413212492, 9301.235145399853, 8836.749477335661, 8847.068421274373, 8839.620818891199, 8739.064706246374, 8522.054996446952, 8338.462765159782, 8234.747360498479, 8055.112189702245, 7669.0583193790835, 7321.303512800381, 7169.979479721464, 7242.281977693674, 7556.661802692352, 7787.314539237894, 7346.78818675482, 7344.481857839811, 7276.109060248291, 7472.944789366378, 7572.140748394163, 7425.627991295372, 7302.268790413439, 7241.23082822094, 7266.930033142068, 7293.569287785427, 6955.263844767091, 6662.003988536559, 7300.003152916071, 7226.448076158472, 7242.382472075741, 7379.631314853311, 7346.537418341866, 7313.934134701043, 7316.797329679194, 7217.052394010277, 7008.125223788443, 7368.4616200688915, 7794.528260478697, 8190.714055803615, 8106.978660477946, 7905.407514284707, 8193.617025839276, 8171.446079375912, 8857.250485004215, 8837.105811722296, 8753.551613387466, 8959.387852543872, 8775.787093619438, 8710.347924106129, 8434.966599248351, 9324.642977402957, 9212.582639823566, 9646.384431337761, 9763.570912355826, 9890.90397863266, 10243.852285565155, 10362.39274821378, 10250.409338722764, 10348.348913734202, 10177.69086416164, 9667.101541103608, 9641.58954413104, 9719.761289224596, 9683.410165100559, 9373.822360881393, 8850.533015263925, 8813.86209543337, 8701.39503315472, 8899.124144350506, 8817.135230236121, 8784.379868650734, 9108.904585106384, 9153.130143262557, 7950.212408672515, 7935.15720133212, 7936.8248726851525, 4986.731440955482, 5579.054192775086, 5028.837959418323, 5240.058028816262, 5253.0963171102, 6208.509914079596, 6217.093957199809, 6435.256076184095, 6754.889042803853, 6701.278085224795, 6736.694632697423, 6489.324810863418, 6448.997329350725, 6457.767520449016, 6626.3970079826895, 6813.938570271304, 6753.687086077299, 7197.961688812042, 7356.545865030899, 7324.566609127734, 6863.443686081547, 6662.0825744447975, 7137.980880335567, 7117.740148875464, 6902.830928094649, 6900.968520632488, 7138.547868904088, 7452.209500526013, 7574.038562789955, 7819.5840128246, 7831.289420824901, 8828.340880259746, 8686.35127940291, 9298.351969608144, 9983.892977432859, 8630.324746814373, 8832.457697848244, 9299.619990553803, 9765.268408445518, 9358.827915746053, 9758.093325493612, 9760.918430920354, 9554.156704039786, 9111.285383772885, 9212.003995476829, 8863.424213244483, 9210.152212984227, 9556.28477235611, 9469.668969593022, 10200.060157762064, 9561.155562127282, 9687.89121281657, 9832.365555442822, 9696.920391901582, 9803.071626826528, 9827.428515677879, 9902.052631907618, 9352.003821294413, 9511.058293973525, 9480.940306423296, 9568.484426713232, 9510.591652713329, 9441.873621089839, 9317.570722793169, 9679.274884639857, 9660.458866828054], [9668.912824577681, 9861.304006969951, 10920.66138847976, 11216.504038324167, 11480.070177280713, 11099.807661941542, 10371.083665436605, 10787.09087195794, 9947.022460391216, 8651.135872250916, 8843.423563976603, 9731.421773034022, 9607.263415624997, 9436.362341755317, 9032.963173408949, 8951.458763735749, 9042.922875089353, 9005.555205626797, 8685.537800866687, 8765.838370722247, 9202.691872148303, 9489.786519024068, 9598.553769127233, 10774.10732824269, 10474.201068983299, 10897.370621163436, 10920.366525073969, 10826.482101155458, 10388.487230982968, 9943.787370334529, 9172.956181180092, 9408.236549694677, 9466.144397069233, 9960.97131228348, 9822.059313925462, 9251.778887198805, 9244.41936036871, 9497.534407308622, 9295.128747454119, 8901.819186446019, 8678.532326333145, 8758.822053147494, 9695.072469376551, 9668.074967119926, 9651.189421308723, 9448.802326812045, 9432.172878641271, 9232.721358715893, 9289.757879081419, 9501.789950431785, 9380.677446201133, 9348.50530362226, 9309.623696349556, 9372.225045662035, 9295.333843997427, 8882.693299758992, 7869.999694481626, 7744.835444976097, 7409.160907883102, 7530.051458408335, 7568.85141258849, 7509.839462040338, 7845.014672383385, 7837.008867633299, 7595.74206605948, 7489.410973094655, 7345.524353423284, 7397.092970592728, 7525.107708136133, 7374.457614359965, 6860.106449118797, 6839.735767284562, 7905.447292197417, 8447.07528595, 8603.894420989673, 8401.835020410621, 8396.263846430636, 8452.787512096416, 8591.521844970865, 8528.057003385004, 8545.10618336504, 8460.318109934538, 8038.188043685356, 8047.462175534526, 8041.07911004145, 7949.990985227406, 7752.916474270187, 7586.132516224618, 7492.038633994132, 7328.921209512128, 6977.914279225142, 6661.439412222123, 6523.733974620645, 6589.757532411335, 6876.136450349282, 7086.132821208238, 6685.494641415058, 6683.191280533415, 6621.290167132148, 6800.714301977212, 6891.2383298052655, 6758.209151969872, 6646.182322583998, 6590.887356569462, 6614.574079380055, 6639.136728136715, 6331.486295001852, 6064.4926570113585, 6645.29203038738, 6577.592662789471, 6592.38288529725, 6717.6301283169905, 6687.786722346206, 6658.411510583528, 6661.3225183404065, 6570.819935448109, 6380.861547706613, 6709.113970035368, 7097.067294692312, 7457.724641985388, 7381.5058285469295, 7198.280242836023, 7460.933303448532, 7440.930326034799, 8065.792389074111, 8046.847151701852, 7971.1280875060165, 8158.915285506663, 7992.023088190201, 7932.700239272218, 7682.239609981149, 8492.696442553528, 8389.430257780357, 8784.83150431857, 8891.634803725958, 9007.9954647038, 9329.84760827104, 9438.05345302954, 9336.472876654028, 9426.07002259276, 9271.036291341412, 8806.259743445124, 8782.887472264956, 8854.491668457602, 8821.771754253245, 8540.108213672382, 8063.516690331188, 8029.876687266916, 7927.761607901202, 8108.233079624344, 8033.832645854312, 8004.3207226884915, 8300.390797135666, 8340.883645655009, 7245.03566485256, 7228.660702849398, 7230.499665958816, 4543.147186501197, 5061.591539882139, 4561.582365694209, 4752.380168881033, 4764.2947876224025, 5631.069169259118, 5636.273662618894, 5834.326361481649, 6124.2837307622085, 6075.726847804097, 6108.107524684716, 5884.091923977634, 5847.619333985053, 5855.833771386905, 6009.022803301127, 6179.31710025046, 6124.889338418176, 6528.083590222821, 6671.760961200412, 6643.021021127474, 6225.08463961144, 6042.2118594383855, 6473.99926317217, 6455.417878929001, 6260.788742258153, 6259.254825921042, 6475.0360528798665, 6759.733226222056, 6870.352926753414, 7093.385322825477, 7104.217879340393, 8009.063877910299, 7878.642835756879, 8434.059557844055, 9055.592280645387, 7827.576371094446, 8008.036235348728, 8431.914003540149, 8854.141143083936, 8485.68753734457, 8847.766882474909, 8850.489923331952, 8663.402650470322, 8262.10239170579, 8353.422598871846, 8037.683533975466, 8352.221522142416, 8666.306378178144, 8587.966632782569, 9250.740767358724, 8670.899375546658, 8785.497414677067, 8916.896291012972, 8794.43289733678, 8891.053630153747, 8913.531188154979, 8981.614143049326, 8483.067825840522, 8627.163709826998, 8600.196068493835, 8679.98472502014, 8627.842684842144, 8565.867072108913, 8453.452331031523, 8781.95541604735, 8765.077923096691], [11683.276286044274, 11928.95949984272, 13209.181772619551, 13571.456374087587, 13889.193148747536, 13427.914277470936, 12545.826386241848, 13050.737195856487, 12033.777708414515, 10468.344555503261, 10709.753818953744, 11784.08233079188, 11636.855578523318, 11428.777941186378, 10939.276582024626, 10840.517577519386, 10950.204146300744, 10903.819109621309, 10515.265243076452, 10612.121085597557, 11139.825664737542, 11487.158767899817, 11617.964490165781, 13039.50190669858, 12682.158849143987, 13193.751943776484, 13220.943131378639, 13105.911619860142, 12574.477520301363, 12036.037046587484, 11102.9706682324, 11390.140287272969, 11459.288710010233, 12057.053847811256, 11888.822533188484, 11197.542966265368, 11189.462437441944, 11494.655738700696, 11248.788481573672, 10772.007639151008, 10501.742761396983, 10598.202527603471, 11729.879556280785, 11700.850798467449, 11679.239918630767, 11433.170019499084, 11412.193231254174, 11169.748005547603, 11237.915624130059, 11493.246419348778, 11345.768280998407, 11305.846622495623, 11257.71008851008, 11332.296947481085, 11238.194524154545, 10738.291645120147, 9514.079257913016, 9368.065326059357, 8961.276519581132, 9107.469342723218, 9153.540435191504, 9081.263237488623, 9485.676555920076, 9475.696411015631, 9183.073235433934, 9054.087832876035, 8879.373963799466, 8941.022124817511, 9094.857928697502, 8911.968267921877, 8289.758217731287, 8266.336520569585, 9553.401197470535, 10215.526403424352, 10405.877973786557, 10160.587549671982, 10153.169608271626, 10220.52116416301, 10387.250706787492, 10309.576380737019, 10329.227019333568, 10225.735499050967, 9714.644755858471, 9726.124577343706, 9717.463931451333, 9606.45767798647, 9367.496941762547, 9165.4029424415, 9051.08307684813, 8853.25828096997, 8428.658357289027, 8046.531959473744, 7880.242502165515, 7959.420052475567, 8304.53816799534, 8557.87906649567, 8073.493369761464, 8071.206029559117, 7995.686900934855, 8211.623271496934, 8320.321075749469, 8158.958952762988, 8023.121680886181, 7955.745724483115, 7983.623960188769, 8012.5105317203515, 7640.495911443817, 7318.385832649185, 8019.218085360513, 7939.310698401929, 7956.471094664712, 8106.870622959938, 8070.175422723825, 8033.993159136682, 8036.7709289263275, 7926.8410593475455, 7697.0513754450785, 8092.607591541935, 8560.531876150828, 8995.746016988767, 8903.75277457209, 8681.999846992168, 8998.252260892416, 8973.680454246409, 9726.370624214986, 9704.97359466553, 9612.775633142839, 9838.394919346938, 9636.413491640367, 9564.228909517038, 9261.447851482713, 10238.087189878062, 10116.500916956593, 10592.432256829425, 10721.011272376434, 10860.349774581959, 11247.398034181262, 11377.25951676674, 11253.80997722448, 11360.866722155715, 11173.011092965067, 10612.093548066063, 10584.24683579877, 10669.585907009563, 10629.206358729949, 10288.926493072522, 9714.36380211169, 9674.390786162625, 9550.523750304123, 9767.160090103267, 9676.810196984607, 9640.45949058846, 9996.173043949282, 10044.474300171394, 8724.025700748112, 8710.703461988835, 8712.14880988731, 5473.626418730475, 6149.418703715876, 5543.955845733803, 5777.7802216161745, 5792.047332698299, 6845.164602781112, 6857.768019498649, 7098.080943752266, 7450.426529293523, 7391.235501600031, 7429.969821390269, 7156.8114579046805, 7112.221945136466, 7121.575334316446, 7307.200978382032, 7513.736240781226, 7447.038915551603, 7936.57920545061, 8111.616615018226, 8076.035863942418, 7567.264054895334, 7345.545846657298, 7870.0612985660055, 7848.016313905759, 7610.714365786741, 7608.472229879658, 7870.051264652094, 8215.623987097524, 8349.798148977723, 8620.128662243053, 8632.772112898409, 9731.42478149409, 9576.864965466595, 10251.213992235158, 11007.355001823176, 9515.398088037113, 9741.752745813028, 10256.619307597062, 10770.15438854518, 10321.810645405478, 10762.08116848662, 10765.000518661911, 10536.496340775873, 10047.74782601238, 10158.832096456103, 9773.996257983084, 10156.208568158216, 10537.658682402078, 10441.89320104723, 11246.799563238736, 10542.815886089593, 10682.973509795107, 10841.82312553013, 10692.021439534996, 10808.641733390303, 10835.027015903624, 10916.817930878007, 10309.946503915806, 10485.512146746594, 10451.881373177126, 10547.93264328483, 10483.658185327145, 10407.466836242165, 10270.019960431813, 10668.280337796119, 10647.305858144084])\n"
     ],
     "output_type": "stream"
    }
   ],
   "source": [
    "# rolling prediction with ARIMA(0,0,0) for btc\n",
    "btc_arima_pred_result = arima_rolling_forecast(btc,0,0)\n",
    "# printout mse and ausreisser\n",
    "print('mse:\\t\\t', btc_arima_pred_result[0])\n",
    "print('ausreisser:\\t', btc_arima_pred_result[1])"
   ],
   "metadata": {
    "collapsed": false,
    "pycharm": {
     "name": "#%%\n",
     "is_executing": false
    }
   }
  },
  {
   "cell_type": "code",
   "execution_count": 94,
   "outputs": [],
   "source": [
    "# plot arima(0,0,0) rolling forecast for btc_ret\n",
    "fig_2 = plot_arima_pred_result(btc,btc_train,btc_test,btc_arima_pred_result)"
   ],
   "metadata": {
    "collapsed": false,
    "pycharm": {
     "name": "#%%\n",
     "is_executing": false
    }
   }
  },
  {
   "cell_type": "code",
   "execution_count": 96,
   "outputs": [],
   "source": [
    "# save fig_2\n",
    "fig_2.savefig(save_plot_to+'M2_fig_2.svg',format='svg')"
   ],
   "metadata": {
    "collapsed": false,
    "pycharm": {
     "name": "#%%\n",
     "is_executing": false
    }
   }
  },
  {
   "cell_type": "code",
   "execution_count": 119,
   "outputs": [],
   "source": [
    "# plot diagnostics for ARIMA(0,0,0) for btc_ret and save as fig_3\n",
    "arima_model = pm.ARIMA(order=(0,0,0))\n",
    "arima_fitted = arima_model.fit(y=btc_ret.iloc[1:], disp=False)\n",
    "arima_fitted.plot_diagnostics()\n",
    "plt.tight_layout()\n",
    "plt.savefig(save_plot_to+'M2_fig_3.svg',format='svg')"
   ],
   "metadata": {
    "collapsed": false,
    "pycharm": {
     "name": "#%%\n",
     "is_executing": false
    }
   }
  },
  {
   "cell_type": "code",
   "execution_count": 127,
   "outputs": [],
   "source": [
    "# test heteroskedast.\n",
    "from statsmodels.tsa.arima_model import ARIMA\n",
    "arima_model = ARIMA(endog=btc_ret.iloc[1:],order=(0,1,0))\n",
    "arima_fitted = arima_model.fit()"
   ],
   "metadata": {
    "collapsed": false,
    "pycharm": {
     "name": "#%%\n",
     "is_executing": false
    }
   }
  },
  {
   "cell_type": "code",
   "execution_count": null,
   "outputs": [],
   "source": [
    "### btc_ret plotting, not relevant ###"
   ],
   "metadata": {
    "collapsed": false,
    "pycharm": {
     "name": "#%%\n"
    }
   }
  },
  {
   "cell_type": "code",
   "execution_count": 27,
   "outputs": [],
   "source": [
    "# Einschrittprognose für btc_returns mit ARIMA(0,0,0)\n",
    "import warnings\n",
    "warnings.filterwarnings('ignore')\n",
    "from sklearn.metrics import mean_squared_error as mse\n",
    "import pmdarima as pm\n",
    "\n",
    "history_ret = [x for x in btc_returns[1:]]\n",
    "pred_val_ret = list()\n",
    "lo_conf_int_ret = list()\n",
    "up_conf_int_ret = list()\n",
    "\n",
    "def einschritt_prognose_ret():\n",
    "    aussreisser_ctr = 0\n",
    "    for i in range(len(btc_returns_test)):\n",
    "        model = pm.ARIMA(order=(0,0,0))\n",
    "        model_fitted = model.fit(y=history_ret, disp=False)\n",
    "        model_result = model_fitted.predict(n_periods=1, return_conf_int=True)\n",
    "        yhat_ret = model_result[0][0]\n",
    "        lo_conf_val_ret = model_result[1][0][0]\n",
    "        up_conf_val_ret = model_result[1][0][1]\n",
    "        \n",
    "        if btc_returns[1427 + i] > up_conf_val_ret or btc_returns[1427 + i] < lo_conf_val_ret:\n",
    "            aussreisser_ctr += 1\n",
    "        pred_val_ret.append(yhat_ret)\n",
    "        lo_conf_int_ret.append(lo_conf_val_ret)\n",
    "        up_conf_int_ret.append(up_conf_val_ret)\n",
    "        history_ret.append(btc_returns_test[i])\n",
    "\n",
    "    # return mse_ret and ausreisser_ctr\n",
    "    return (np.sqrt(mse(pred_val_ret, btc_returns_test.values)), aussreisser_ctr,\n",
    "            pred_val_ret, lo_conf_int_ret, up_conf_int_ret)\n",
    "    \n",
    "pred_result_ret = einschritt_prognose_ret()\n",
    "print(pred_result_ret)"
   ],
   "metadata": {
    "collapsed": false,
    "pycharm": {
     "name": "#%%\n",
     "is_executing": false
    }
   }
  },
  {
   "cell_type": "code",
   "execution_count": 29,
   "outputs": [],
   "source": [
    "# make series for plotting predicted vs. actual btc_returns\n",
    "index_pred = np.arange(len(btc_returns_train) + 1, len(btc_returns) + 1)\n",
    "pred_val_ret_series = pd.Series(pred_result_ret[2], index=index_pred)\n",
    "test_series_ret = pd.Series(btc_returns_test.values, index=index_pred)\n",
    "lo_conf_int_ret_series = pd.Series(pred_result_ret[3], index=index_pred)\n",
    "up_conf_int_ret_series = pd.Series(pred_result_ret[4], index=index_pred)\n",
    "\n",
    "# plot btc_returns einschrittprognosen für ARIMA(0,0,0)\n",
    "fig_5 = plt.plot(btc_returns_train[1:].values, label= r'$X_T$')\n",
    "plt.plot(test_series_ret, label= r'$X_{T+h}$', color='green')\n",
    "plt.plot(pred_val_ret_series, label= r'$\\hat{X}_{T+h}$', color= 'red')\n",
    "plt.fill_between(lo_conf_int_ret_series.index, lo_conf_int_ret_series, up_conf_int_ret_series, color='k', alpha=0.1)\n",
    "plt.legend(loc='upper left')\n",
    "plt.title('Einschrittprognose btc_returns ARIMA(0,0,0)')"
   ],
   "metadata": {
    "collapsed": false,
    "pycharm": {
     "name": "#%%\n",
     "is_executing": false
    }
   }
  },
  {
   "cell_type": "code",
   "execution_count": 49,
   "outputs": [],
   "source": [
    "# Obtain ARIMA(0,0,0) residuals for btc_returns\n",
    "model = pm.ARIMA(order=(0,0,0))\n",
    "model_fitted = model.fit(y=btc_returns[1:], disp=False)\n",
    "model_residuals = model_fitted.resid()\n",
    "\n",
    "# Plot ARIMA(0,0,0) residual diagnostics for btc_returns\n",
    "fig_6 = model_fitted.plot_diagnostics()"
   ],
   "metadata": {
    "collapsed": false,
    "pycharm": {
     "name": "#%%\n",
     "is_executing": false
    }
   }
  },
  {
   "cell_type": "code",
   "execution_count": null,
   "outputs": [],
   "source": [
    "# btc_returns ~ model_residuals\n",
    "plt.plot(btc_returns[1:].values)\n",
    "plt.plot(model_residuals)"
   ],
   "metadata": {
    "collapsed": false,
    "pycharm": {
     "name": "#%%\n"
    }
   }
  },
  {
   "cell_type": "code",
   "execution_count": 9,
   "outputs": [],
   "source": [
    "# \n",
    "model_residuals.resid()"
   ],
   "metadata": {
    "collapsed": false,
    "pycharm": {
     "name": "#%%\n",
     "is_executing": false
    }
   }
  },
  {
   "cell_type": "code",
   "execution_count": 79,
   "outputs": [],
   "source": [
    "x = np.asarray(model_fitted.resid).squeeze()\n",
    "x.ndim"
   ],
   "metadata": {
    "collapsed": false,
    "pycharm": {
     "name": "#%%\n",
     "is_executing": false
    }
   }
  },
  {
   "cell_type": "code",
   "execution_count": 58,
   "outputs": [],
   "source": [
    "# res expects attribute (not method!) resids: res.resids instead of res.resids()\n",
    "# ndim(resids()) = 1, but ndim(resids = 0) -> Thats the problem\n",
    "from statsmodels.stats.diagnostic import acorr_breusch_godfrey\n",
    "acorr_breusch_godfrey(res=model_fitted)"
   ],
   "metadata": {
    "collapsed": false,
    "pycharm": {
     "name": "#%%\n",
     "is_executing": false
    }
   }
  },
  {
   "cell_type": "code",
   "execution_count": 73,
   "outputs": [],
   "source": [
    "# no plan how to compare test-statistic\n",
    "from statsmodels.tsa.arima.model import ARIMA\n",
    "model = ARIMA(endog=btc_returns[1:], order=(0,0,0)) \n",
    "model_fit = model.fit()\n",
    "model_fit.test_heteroskedasticity(method=None)\n",
    "\n"
   ],
   "metadata": {
    "collapsed": false,
    "pycharm": {
     "name": "#%%\n",
     "is_executing": false
    }
   }
  }
 ],
 "metadata": {
  "kernelspec": {
   "display_name": "Python 3",
   "language": "python",
   "name": "python3"
  },
  "language_info": {
   "codemirror_mode": {
    "name": "ipython",
    "version": 2
   },
   "file_extension": ".py",
   "mimetype": "text/x-python",
   "name": "python",
   "nbconvert_exporter": "python",
   "pygments_lexer": "ipython2",
   "version": "2.7.6"
  },
  "pycharm": {
   "stem_cell": {
    "cell_type": "raw",
    "source": [],
    "metadata": {
     "collapsed": false
    }
   }
  }
 },
 "nbformat": 4,
 "nbformat_minor": 0
}