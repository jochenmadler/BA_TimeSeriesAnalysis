{
 "cells": [
  {
   "cell_type": "code",
   "execution_count": 141,
   "metadata": {
    "collapsed": true,
    "pycharm": {
     "is_executing": false
    }
   },
   "outputs": [],
   "source": [
    "# set up imports\n",
    "import pandas as pd, numpy as np, seaborn as sns\n",
    "from tabulate import tabulate\n",
    "import statsmodels\n",
    "import arch\n",
    "import matplotlib\n",
    "matplotlib.use('qt5agg')\n",
    "\n",
    "# configure plot style\n",
    "import matplotlib.pyplot as plt\n",
    "plt.rcParams['mathtext.fontset'] = 'stix'\n",
    "plt.rcParams['font.family'] = 'STIXGeneral'\n",
    "plt.rcParams[\"figure.figsize\"] = (9.5,4.15)\n",
    "plt.rcParams['figure.constrained_layout.use'] = False\n",
    "plt.rcParams['figure.dpi'] = 100\n",
    "plt.rcParams['savefig.dpi'] = 100\n",
    "plt.rcParams['lines.linewidth'] = 0.8\n",
    "save_plot_to =  r'C:\\\\Users\\joche\\OneDrive\\03 TUM - TUM-BWL\\Semester 8\\01 Bachelorarbeit\\04 Results\\Plots/'"
   ]
  },
  {
   "cell_type": "code",
   "execution_count": 142,
   "outputs": [],
   "source": [
    "# load data: new_btc.txt, created with M4\n",
    "index_name = 'date'\n",
    "btc = pd.read_csv('Data/btc_new.txt', index_col=0)\n",
    "btc.index = pd.DatetimeIndex(btc.index, normalize=True).normalize()\n",
    "btc"
   ],
   "metadata": {
    "collapsed": false,
    "pycharm": {
     "name": "#%%\n",
     "is_executing": false
    }
   }
  },
  {
   "cell_type": "code",
   "execution_count": 143,
   "outputs": [],
   "source": [
    "# split data in pre and post bubble 2018\n",
    "pre_bubble_end_date = '2017-12-01'\n",
    "post_bubble_start_date = '2018-02-01'\n",
    "\n",
    "# pre bubble df\n",
    "btc_pre = btc[:pre_bubble_end_date]\n",
    "\n",
    "# post bubble df\n",
    "btc_post = btc[post_bubble_start_date:]"
   ],
   "metadata": {
    "collapsed": false,
    "pycharm": {
     "name": "#%%\n",
     "is_executing": false
    }
   }
  },
  {
   "cell_type": "code",
   "execution_count": 165,
   "outputs": [],
   "source": [
    "#define overview-printing function of dataframe\n",
    "def dates_overview(dataframe):\n",
    "    print('start_date:\\t', dataframe.index[0])\n",
    "    print('end_date:\\t', dataframe.index[-1])\n",
    "    print('len df:\\t\\t', len(dataframe))\n",
    "\n",
    "# define train/test-splitting function of dataframe\n",
    "def split_traintest_df(dataframe):\n",
    "    train_size = int(len(dataframe) * 0.8)\n",
    "    df_train, df_test = dataframe[0:train_size], dataframe[train_size:]\n",
    "    # create dataframe for printout\n",
    "    data = {'Dataframe': ['dataframe', 'df_train', 'df_test'],\n",
    "            'date_start': [dataframe.index[0], df_train.index[0], df_test.index[0]],\n",
    "            'date_end': [dataframe.index[-1], df_train.index[-1], df_test.index[-1]],\n",
    "            'nobs': [len(dataframe), len(df_train), len(df_test)]}\n",
    "    df_print = pd.DataFrame(data, columns=['Dataframe','date_start','date_end','nobs'])\n",
    "    print(df_print)\n",
    "    return df_train, df_test\n",
    "\n",
    "# define log-taking and relabeling function\n",
    "def log_of_df(dataframe):\n",
    "    df_log = np.log(dataframe)\n",
    "    new_cols = list()\n",
    "    for i in df_log.columns:\n",
    "        new_cols.append(i+'_log')\n",
    "    df_log.columns = new_cols\n",
    "    # fill na value of negative oil price on 2020-04-20 with 0\n",
    "    df_log.fillna(value=0, inplace=True)\n",
    "    return df_log\n",
    "\n",
    "# define first difference-taking function of dataframe\n",
    "def diff_of_df(dataframe):\n",
    "    df_train_log_diff = dataframe.diff()\n",
    "    # relabel columns\n",
    "    new_cols = list()\n",
    "    for i in df_train_log_diff.columns:\n",
    "        new_cols.append(i+'_diff')\n",
    "    df_train_log_diff.columns = new_cols\n",
    "    return df_train_log_diff\n",
    "\n",
    "# define return creating function of dataframe\n",
    "def create_returns(dataframe_train):\n",
    "    dataframe_train_log = log_of_df(dataframe_train)\n",
    "    dataframe_returns = diff_of_df(dataframe_train_log)\n",
    "    dataframe_returns.columns = ['btc_ret']\n",
    "    dataframe_returns_squared = dataframe_returns**2\n",
    "    dataframe_returns_squared.columns = ['btc_ret_sqrd']\n",
    "    return dataframe_returns, dataframe_returns_squared\n",
    "\n",
    "# define log and ret + ACF & PACF plotting function for dataframe_log, dataframe_ret\n",
    "from statsmodels.graphics.tsaplots import plot_acf, plot_pacf\n",
    "def plot_acf_pacf(dataframe_ret, dataframe_ret_sqrd):\n",
    "    fig, axs = plt.subplots(2,2)\n",
    "    axs[0][0].plot(dataframe_ret.iloc[1:], color='black')\n",
    "    axs[0][0].set_title('btc_ret')\n",
    "    axs[0][1].plot(dataframe_ret_sqrd.iloc[1:], color='black')\n",
    "    axs[0][1].set_title('btc_ret_sqrd')\n",
    "    plot_acf(dataframe_ret.iloc[1:], color='black', ax=axs[1][0], markersize=2)\n",
    "    plot_acf(dataframe_ret_sqrd.iloc[1:], color='black', ax=axs[1][1], markersize=2)\n",
    "    fig.set_size_inches(12,5)\n",
    "    fig.tight_layout()\n",
    "    return fig\n",
    "\n",
    "# define ARCH fitting model for a dataframe and print summary to stdout/latex\n",
    "import warnings\n",
    "warnings.filterwarnings('ignore')\n",
    "from arch import arch_model\n",
    "def get_arch_model_summary(dataframe_ret, part, p_list, mean, dist , latex):\n",
    "    for i in p_list:\n",
    "        model = arch_model(dataframe_ret.iloc[1:], p=i,q=0, vol='ARCH', mean=mean, dist=dist)\n",
    "        model_fitted = model.fit(disp=False)\n",
    "        if latex is False:\n",
    "            # write summary as plain text to std.out\n",
    "            print('{0}: ARCH({1}):\\n'.format(part,i),\n",
    "            model_fitted.summary(),'\\n')\n",
    "        else:\n",
    "            # write summary as latex to file\n",
    "            with open(save_plot_to + 'M3_{0}_ARCH_configuratios_LaTeX.txt'.format(part), 'a') as myfile:\n",
    "                    myfile.write('{0}: ARCH({1}):\\n'.format(part,i)+\n",
    "                                 model_fitted.summary().as_latex()+'\\n\\n')\n",
    "                \n",
    "# define GARCH fitting model for a dataframe and print summary to stdout/latex\n",
    "import warnings\n",
    "warnings.filterwarnings('ignore')\n",
    "from arch import arch_model\n",
    "def get_garch_model_summary(dataframe_ret, part, mean, dist, latex):\n",
    "    model = arch_model(dataframe_ret.iloc[1:], p=1, q=1, mean=mean, dist=dist)\n",
    "    model_fitted = model.fit(disp=False)\n",
    "    if latex is False:\n",
    "        # write summary as plain text to std.out\n",
    "        print('{0}: GARCH(1,1):\\n'.format(part),\n",
    "        model_fitted.summary(),'\\n')\n",
    "    else:\n",
    "        # write summary as latex to file\n",
    "        with open(save_plot_to + 'M3_{0}_GARCH_configuratios_LaTeX.txt'.format(part), 'a') as myfile:\n",
    "                myfile.write('{0}: GARCH(1,1):\\n'.format(part)+\n",
    "                            model_fitted.summary().as_latex()+'\\n\\n')\n",
    "\n",
    "# define a GARCH(1,1) model fitting and forecast producing function for dataframe\n",
    "from sklearn.metrics import mean_squared_error as mse\n",
    "def get_garch_forecast(dataframe):\n",
    "    # split dataframe_ret in train and test data\n",
    "    train_size = int(len(dataframe) * 0.8)\n",
    "    # obtain dataframe returns\n",
    "    dataframe_log = log_of_df(dataframe)\n",
    "    dataframe_returns = diff_of_df(dataframe_log)\n",
    "    dataframe_returns.columns = ['btc_ret']\n",
    "    # model garch with dataframe_ret, fit on dataframe_train and predict for dataframe_test\n",
    "    model = arch_model(dataframe_returns[1:], p=1, q=1, mean='zero', dist='t')\n",
    "    model_fitted = model.fit(last_obs=dataframe_returns.index[train_size-1], disp=False)\n",
    "    model_result = model_fitted.forecast(horizon=1, align='target')\n",
    "    # obtain variance of dataframe_ret: rolling window = 15, center=True, shift = 1\n",
    "    dataframe_var = dataframe_returns.rolling(15, center=True).std().shift()**2\n",
    "    # prepare for calculating mse\n",
    "    dataframe_var_test = dataframe_var[train_size:].fillna(0)\n",
    "    dataframe_var_predicted = model_result.variance.iloc[train_size-1:].fillna(0)\n",
    "    # return [0]: mse, [1]: forecasted_var, [2]: dataframe_var\n",
    "    return np.sqrt(mse(dataframe_var_predicted.iloc[:,0].values, dataframe_var_test.iloc[:,0].values)), model_result.variance.iloc[train_size-1:], dataframe_var\n",
    "\n",
    "# define series-generating and plotting function for btc_garch_forecast\n",
    "def plot_garch_forecast(dataframe_garch_forecast, dataframe_variance):\n",
    "    # make series for plotting pred. vs. actual\n",
    "    train_size = int(len(dataframe_variance) * 0.8)\n",
    "    dataframe_train, dataframe_test = dataframe_variance[0:train_size], dataframe_variance[train_size:]\n",
    "    index_pred = np.arange(len(dataframe_train) + 1, len(dataframe_variance) + 1)\n",
    "    pred_variance_series = pd.Series(dataframe_garch_forecast.iloc[:,0].values, index=index_pred)\n",
    "    test_variance_series = pd.Series(dataframe_test.iloc[:,0].values, index=index_pred)\n",
    "    # create plot\n",
    "    fig, axs = plt.subplots(1,2)\n",
    "    axs[0].plot(dataframe_train.values, label= r'$\\sigma^2_{btc,T}$', color='black')\n",
    "    axs[0].plot(test_variance_series, label= r'$\\sigma^2_{btc,T+h}$', color='green')\n",
    "    axs[0].plot(pred_variance_series, label= r'$\\hat{\\sigma}^2_{btc,T+h}$', color= 'red')\n",
    "    axs[0].legend(loc='upper left')\n",
    "    axs[0].title.set_text('Gesamter Zeitraum')\n",
    "    axs[1].plot(test_variance_series, label= r'$\\sigma^2_{btc,T+h}$', color='green')\n",
    "    axs[1].plot(pred_variance_series, label= r'$\\hat{\\sigma}^2_{btc,T+h}$', color= 'red')\n",
    "    axs[1].legend(loc='upper left')\n",
    "    axs[1].title.set_text('Vorhersage-Zeitraum')\n",
    "    fig.set_size_inches(15,2.5)\n",
    "    return fig"
   ],
   "metadata": {
    "collapsed": false,
    "pycharm": {
     "name": "#%%\n",
     "is_executing": false
    }
   }
  },
  {
   "cell_type": "code",
   "execution_count": 6,
   "outputs": [],
   "source": [
    "# overview for btc\n",
    "dates_overview(btc)"
   ],
   "metadata": {
    "collapsed": false,
    "pycharm": {
     "name": "#%%\n",
     "is_executing": false
    }
   }
  },
  {
   "cell_type": "code",
   "execution_count": 148,
   "outputs": [
    {
     "name": "stdout",
     "text": [
      "start_date:\t 2015-08-07 00:00:00\nend_date:\t 2017-12-01 00:00:00\nlen df:\t\t 533\n"
     ],
     "output_type": "stream"
    }
   ],
   "source": [
    "# overview for btc_pre\n",
    "dates_overview(btc_pre)"
   ],
   "metadata": {
    "collapsed": false,
    "pycharm": {
     "name": "#%%\n",
     "is_executing": false
    }
   }
  },
  {
   "cell_type": "code",
   "execution_count": 149,
   "outputs": [
    {
     "name": "stdout",
     "text": [
      "start_date:\t 2018-02-01 00:00:00\nend_date:\t 2020-06-24 00:00:00\nlen df:\t\t 540\n"
     ],
     "output_type": "stream"
    }
   ],
   "source": [
    "# overview for btc_post\n",
    "dates_overview(btc_post)"
   ],
   "metadata": {
    "collapsed": false,
    "pycharm": {
     "name": "#%%\n",
     "is_executing": false
    }
   }
  },
  {
   "cell_type": "code",
   "execution_count": 6,
   "outputs": [],
   "source": [
    "# split btc in train and test dataset: proceed only with btc_train\n",
    "btc_train, btc_test = split_traintest_df(btc)"
   ],
   "metadata": {
    "collapsed": false,
    "pycharm": {
     "name": "#%%\n",
     "is_executing": false
    }
   }
  },
  {
   "cell_type": "code",
   "execution_count": 150,
   "outputs": [
    {
     "name": "stdout",
     "text": [
      "   Dataframe date_start   date_end  nobs\n0  dataframe 2015-08-07 2017-12-01   533\n1   df_train 2015-08-07 2017-06-16   426\n2    df_test 2017-06-19 2017-12-01   107\n"
     ],
     "output_type": "stream"
    }
   ],
   "source": [
    "# split btc_pre in train and test dataset: proceed only with btc_pre_train\n",
    "btc_pre_train, btc_pre_test = split_traintest_df(btc_pre)"
   ],
   "metadata": {
    "collapsed": false,
    "pycharm": {
     "name": "#%%\n",
     "is_executing": false
    }
   }
  },
  {
   "cell_type": "code",
   "execution_count": 151,
   "outputs": [
    {
     "name": "stdout",
     "text": [
      "   Dataframe date_start   date_end  nobs\n0  dataframe 2018-02-01 2020-06-24   540\n1   df_train 2018-02-01 2019-12-31   432\n2    df_test 2020-01-02 2020-06-24   108\n"
     ],
     "output_type": "stream"
    }
   ],
   "source": [
    "# split btc_post in train and test dataset: proceed only with btc_post_train\n",
    "btc_post_train, btc_post_test = split_traintest_df(btc_post)"
   ],
   "metadata": {
    "collapsed": false,
    "pycharm": {
     "name": "#%%\n",
     "is_executing": false
    }
   }
  },
  {
   "cell_type": "code",
   "execution_count": 40,
   "outputs": [],
   "source": [
    "# create returns and squared returns for btc_train\n",
    "btc_ret, btc_ret_sqrd = create_returns(btc_train)\n",
    "btc_ret_sqrd"
   ],
   "metadata": {
    "collapsed": false,
    "pycharm": {
     "name": "#%%\n",
     "is_executing": false
    }
   }
  },
  {
   "cell_type": "code",
   "execution_count": 152,
   "outputs": [
    {
     "data": {
      "text/plain": "            btc_ret_sqrd\ndate                    \n2015-08-07           NaN\n2015-08-10      0.003087\n2015-08-11      0.000490\n2015-08-12      0.000223\n2015-08-13      0.000075\n...                  ...\n2017-06-12      0.003588\n2017-06-13      0.000456\n2017-06-14      0.006513\n2017-06-15      0.000283\n2017-06-16      0.000469\n\n[426 rows x 1 columns]",
      "text/html": "<div>\n<style scoped>\n    .dataframe tbody tr th:only-of-type {\n        vertical-align: middle;\n    }\n\n    .dataframe tbody tr th {\n        vertical-align: top;\n    }\n\n    .dataframe thead th {\n        text-align: right;\n    }\n</style>\n<table border=\"1\" class=\"dataframe\">\n  <thead>\n    <tr style=\"text-align: right;\">\n      <th></th>\n      <th>btc_ret_sqrd</th>\n    </tr>\n    <tr>\n      <th>date</th>\n      <th></th>\n    </tr>\n  </thead>\n  <tbody>\n    <tr>\n      <td>2015-08-07</td>\n      <td>NaN</td>\n    </tr>\n    <tr>\n      <td>2015-08-10</td>\n      <td>0.003087</td>\n    </tr>\n    <tr>\n      <td>2015-08-11</td>\n      <td>0.000490</td>\n    </tr>\n    <tr>\n      <td>2015-08-12</td>\n      <td>0.000223</td>\n    </tr>\n    <tr>\n      <td>2015-08-13</td>\n      <td>0.000075</td>\n    </tr>\n    <tr>\n      <td>...</td>\n      <td>...</td>\n    </tr>\n    <tr>\n      <td>2017-06-12</td>\n      <td>0.003588</td>\n    </tr>\n    <tr>\n      <td>2017-06-13</td>\n      <td>0.000456</td>\n    </tr>\n    <tr>\n      <td>2017-06-14</td>\n      <td>0.006513</td>\n    </tr>\n    <tr>\n      <td>2017-06-15</td>\n      <td>0.000283</td>\n    </tr>\n    <tr>\n      <td>2017-06-16</td>\n      <td>0.000469</td>\n    </tr>\n  </tbody>\n</table>\n<p>426 rows × 1 columns</p>\n</div>"
     },
     "metadata": {},
     "output_type": "execute_result",
     "execution_count": 152
    }
   ],
   "source": [
    "# create returns and squared returns for btc_pre_train\n",
    "btc_pre_ret, btc_pre_ret_sqrd = create_returns(btc_pre_train)\n",
    "btc_pre_ret_sqrd"
   ],
   "metadata": {
    "collapsed": false,
    "pycharm": {
     "name": "#%%\n",
     "is_executing": false
    }
   }
  },
  {
   "cell_type": "code",
   "execution_count": 153,
   "outputs": [
    {
     "data": {
      "text/plain": "            btc_ret_sqrd\ndate                    \n2018-02-01           NaN\n2018-02-02  1.425532e-03\n2018-02-05  5.699693e-02\n2018-02-06  1.181769e-02\n2018-02-07  2.979725e-04\n...                  ...\n2019-12-23  3.524819e-04\n2019-12-24  2.034109e-05\n2019-12-27  1.971364e-05\n2019-12-30  1.592747e-07\n2019-12-31  1.883274e-04\n\n[432 rows x 1 columns]",
      "text/html": "<div>\n<style scoped>\n    .dataframe tbody tr th:only-of-type {\n        vertical-align: middle;\n    }\n\n    .dataframe tbody tr th {\n        vertical-align: top;\n    }\n\n    .dataframe thead th {\n        text-align: right;\n    }\n</style>\n<table border=\"1\" class=\"dataframe\">\n  <thead>\n    <tr style=\"text-align: right;\">\n      <th></th>\n      <th>btc_ret_sqrd</th>\n    </tr>\n    <tr>\n      <th>date</th>\n      <th></th>\n    </tr>\n  </thead>\n  <tbody>\n    <tr>\n      <td>2018-02-01</td>\n      <td>NaN</td>\n    </tr>\n    <tr>\n      <td>2018-02-02</td>\n      <td>1.425532e-03</td>\n    </tr>\n    <tr>\n      <td>2018-02-05</td>\n      <td>5.699693e-02</td>\n    </tr>\n    <tr>\n      <td>2018-02-06</td>\n      <td>1.181769e-02</td>\n    </tr>\n    <tr>\n      <td>2018-02-07</td>\n      <td>2.979725e-04</td>\n    </tr>\n    <tr>\n      <td>...</td>\n      <td>...</td>\n    </tr>\n    <tr>\n      <td>2019-12-23</td>\n      <td>3.524819e-04</td>\n    </tr>\n    <tr>\n      <td>2019-12-24</td>\n      <td>2.034109e-05</td>\n    </tr>\n    <tr>\n      <td>2019-12-27</td>\n      <td>1.971364e-05</td>\n    </tr>\n    <tr>\n      <td>2019-12-30</td>\n      <td>1.592747e-07</td>\n    </tr>\n    <tr>\n      <td>2019-12-31</td>\n      <td>1.883274e-04</td>\n    </tr>\n  </tbody>\n</table>\n<p>432 rows × 1 columns</p>\n</div>"
     },
     "metadata": {},
     "output_type": "execute_result",
     "execution_count": 153
    }
   ],
   "source": [
    "# create returns and squared returns for btc_post_train\n",
    "btc_post_ret, btc_post_ret_sqrd = create_returns(btc_post_train)\n",
    "btc_post_ret_sqrd"
   ],
   "metadata": {
    "collapsed": false,
    "pycharm": {
     "name": "#%%\n",
     "is_executing": false
    }
   }
  },
  {
   "cell_type": "code",
   "execution_count": 154,
   "outputs": [],
   "source": [
    "# plot btc_ret and btc_ret_sqrd with ACF, respectively\n",
    "fig_1 = plot_acf_pacf(btc_ret,btc_ret_sqrd)"
   ],
   "metadata": {
    "collapsed": false,
    "pycharm": {
     "name": "#%%\n",
     "is_executing": false
    }
   }
  },
  {
   "cell_type": "code",
   "execution_count": 155,
   "outputs": [],
   "source": [
    "# save fig_1\n",
    "fig_1.savefig(save_plot_to+'M3_fig_1.svg',format='svg',bbox_inches='tight',pad_inches = 0)"
   ],
   "metadata": {
    "collapsed": false,
    "pycharm": {
     "name": "#%%\n",
     "is_executing": false
    }
   }
  },
  {
   "cell_type": "code",
   "execution_count": 163,
   "outputs": [],
   "source": [
    "# plot btc_pre_ret and btc_pre_ret_sqrd with ACF, respectively\n",
    "fig_1_pre = plot_acf_pacf(btc_pre_ret,btc_pre_ret_sqrd)"
   ],
   "metadata": {
    "collapsed": false,
    "pycharm": {
     "name": "#%%\n",
     "is_executing": false
    }
   }
  },
  {
   "cell_type": "code",
   "execution_count": 157,
   "outputs": [],
   "source": [
    "# save fig_1_pre\n",
    "fig_1_pre.savefig(save_plot_to+'M3_pre_fig_1.svg',format='svg',bbox_inches='tight',pad_inches = 0)"
   ],
   "metadata": {
    "collapsed": false,
    "pycharm": {
     "name": "#%%\n",
     "is_executing": false
    }
   }
  },
  {
   "cell_type": "code",
   "execution_count": 164,
   "outputs": [],
   "source": [
    "# plot btc_post_ret and btc_post_ret_sqrd with ACF, respectively\n",
    "fig_1_post = plot_acf_pacf(btc_post_ret,btc_post_ret_sqrd)"
   ],
   "metadata": {
    "collapsed": false,
    "pycharm": {
     "name": "#%%\n",
     "is_executing": false
    }
   }
  },
  {
   "cell_type": "code",
   "execution_count": 159,
   "outputs": [],
   "source": [
    "# save fig_1_post\n",
    "fig_1_post.savefig(save_plot_to+'M3_post_fig_1.svg',format='svg',bbox_inches='tight',pad_inches = 0)"
   ],
   "metadata": {
    "collapsed": false,
    "pycharm": {
     "name": "#%%\n",
     "is_executing": false
    }
   }
  },
  {
   "cell_type": "code",
   "execution_count": 166,
   "outputs": [
    {
     "name": "stdout",
     "text": [
      "Iteration:      1,   Func. Count:      5,   Neg. LLF: 10394.071785307493\nIteration:      2,   Func. Count:     10,   Neg. LLF: -589.9669214517892\nIteration:      3,   Func. Count:     15,   Neg. LLF: -1549.0308839208208\nIteration:      4,   Func. Count:     19,   Neg. LLF: -1466.9162461713258\nIteration:      5,   Func. Count:     24,   Neg. LLF: -858.7376633324922\nIteration:      6,   Func. Count:     31,   Neg. LLF: -1100.9761214502082\nIteration:      7,   Func. Count:     36,   Neg. LLF: -1093.9525850635496\nIteration:      8,   Func. Count:     41,   Neg. LLF: -1118.4263348530499\nIteration:      9,   Func. Count:     46,   Neg. LLF: -990.1860339942577\nIteration:     10,   Func. Count:     51,   Neg. LLF: -1120.3146014108756\nIteration:     11,   Func. Count:     56,   Neg. LLF: -1558.9953274383734\nIteration:     12,   Func. Count:     61,   Neg. LLF: -1560.3381639273985\nIteration:     13,   Func. Count:     65,   Neg. LLF: -1561.7087039367202\nIteration:     14,   Func. Count:     69,   Neg. LLF: -1563.8087143255339\nIteration:     15,   Func. Count:     73,   Neg. LLF: -1565.4637982695099\nIteration:     16,   Func. Count:     77,   Neg. LLF: -1566.571544901105\nIteration:     17,   Func. Count:     81,   Neg. LLF: -1560.797963531375\nIteration:     18,   Func. Count:     86,   Neg. LLF: -1564.7445929434657\nIteration:     19,   Func. Count:     91,   Neg. LLF: -1567.128512249578\nIteration:     20,   Func. Count:     96,   Neg. LLF: -1567.8517769868622\nIteration:     21,   Func. Count:    100,   Neg. LLF: -1567.9926414382994\nIteration:     22,   Func. Count:    104,   Neg. LLF: -1568.0232657674308\nIteration:     23,   Func. Count:    108,   Neg. LLF: -1568.127423339288\nIteration:     24,   Func. Count:    112,   Neg. LLF: -1568.1512213359752\nIteration:     25,   Func. Count:    116,   Neg. LLF: -1568.1543011059273\nIteration:     26,   Func. Count:    120,   Neg. LLF: -1568.1545884755972\nIteration:     27,   Func. Count:    124,   Neg. LLF: -1568.1545894776714\nIteration:     28,   Func. Count:    127,   Neg. LLF: -1568.1545894776807\n: ARCH(1):\n                            Zero Mean - ARCH Model Results                           \n====================================================================================\nDep. Variable:                      btc_ret   R-squared:                       0.000\nMean Model:                       Zero Mean   Adj. R-squared:                  0.001\nVol Model:                             ARCH   Log-Likelihood:                1568.15\nDistribution:      Standardized Student's t   AIC:                          -3130.31\nMethod:                  Maximum Likelihood   BIC:                          -3115.94\n                                              No. Observations:                  888\nDate:                      Sun, Sep 27 2020   Df Residuals:                      885\nTime:                              15:46:04   Df Model:                            3\n                              Volatility Model                              \n============================================================================\n                 coef    std err          t      P>|t|      95.0% Conf. Int.\n----------------------------------------------------------------------------\nomega      3.4879e-03  8.108e-04      4.302  1.695e-05 [1.899e-03,5.077e-03]\nalpha[1]       1.0000      0.252      3.967  7.268e-05     [  0.506,  1.494]\n                              Distribution                              \n========================================================================\n                 coef    std err          t      P>|t|  95.0% Conf. Int.\n------------------------------------------------------------------------\nnu             2.2956  7.272e-02     31.566 1.077e-218 [  2.153,  2.438]\n========================================================================\n\nCovariance estimator: robust \n\nIteration:      1,   Func. Count:      6,   Neg. LLF: 10394.071785307493\nIteration:      2,   Func. Count:     12,   Neg. LLF: -1023.5840259371455\nIteration:      3,   Func. Count:     18,   Neg. LLF: -473.48365404543574\nIteration:      4,   Func. Count:     24,   Neg. LLF: -887.3230998794616\nIteration:      5,   Func. Count:     30,   Neg. LLF: -999.199931636909\nIteration:      6,   Func. Count:     36,   Neg. LLF: -1557.2429982728197\nIteration:      7,   Func. Count:     45,   Neg. LLF: -1015.7478610780629\nIteration:      8,   Func. Count:     51,   Neg. LLF: -1022.5690324955913\nIteration:      9,   Func. Count:     57,   Neg. LLF: -1153.2493396773498\nIteration:     10,   Func. Count:     63,   Neg. LLF: -1134.1665514508863\nIteration:     11,   Func. Count:     69,   Neg. LLF: -1184.8412517968384\nIteration:     12,   Func. Count:     75,   Neg. LLF: -1154.3526677403606\nIteration:     13,   Func. Count:     81,   Neg. LLF: -1178.1949535408157\nIteration:     14,   Func. Count:     87,   Neg. LLF: -1195.1289425262316\nIteration:     15,   Func. Count:     93,   Neg. LLF: -1251.590153823161\nIteration:     16,   Func. Count:     99,   Neg. LLF: -1560.5827205719602\nIteration:     17,   Func. Count:    105,   Neg. LLF: -1570.114830260579\nIteration:     18,   Func. Count:    111,   Neg. LLF: -1571.8562114151625\n",
      "Iteration:     19,   Func. Count:    116,   Neg. LLF: -1573.3424083643822\nIteration:     20,   Func. Count:    121,   Neg. LLF: -1573.6304008091035\nIteration:     21,   Func. Count:    126,   Neg. LLF: -1573.8510844015773\nIteration:     22,   Func. Count:    131,   Neg. LLF: -1573.8911306162427\nIteration:     23,   Func. Count:    136,   Neg. LLF: -1573.8975938843287\nIteration:     24,   Func. Count:    141,   Neg. LLF: -1573.8991220679015\nIteration:     25,   Func. Count:    146,   Neg. LLF: -1573.899615053862\nIteration:     26,   Func. Count:    151,   Neg. LLF: -1573.9001615655447\nIteration:     27,   Func. Count:    156,   Neg. LLF: -1573.9002113337606\nIteration:     28,   Func. Count:    161,   Neg. LLF: -1573.900214759001\nIteration:     29,   Func. Count:    165,   Neg. LLF: -1573.9002147589547\n: ARCH(2):\n                            Zero Mean - ARCH Model Results                           \n====================================================================================\nDep. Variable:                      btc_ret   R-squared:                       0.000\nMean Model:                       Zero Mean   Adj. R-squared:                  0.001\nVol Model:                             ARCH   Log-Likelihood:                1573.90\nDistribution:      Standardized Student's t   AIC:                          -3139.80\nMethod:                  Maximum Likelihood   BIC:                          -3120.64\n                                              No. Observations:                  888\nDate:                      Sun, Sep 27 2020   Df Residuals:                      884\nTime:                              15:46:04   Df Model:                            4\n                              Volatility Model                              \n============================================================================\n                 coef    std err          t      P>|t|      95.0% Conf. Int.\n----------------------------------------------------------------------------\nomega      2.1710e-03  5.697e-04      3.811  1.386e-04 [1.054e-03,3.288e-03]\nalpha[1]       0.5986      0.180      3.317  9.101e-04     [  0.245,  0.952]\nalpha[2]       0.4014      0.226      1.777  7.555e-02  [-4.130e-02,  0.844]\n                              Distribution                              \n========================================================================\n                 coef    std err          t      P>|t|  95.0% Conf. Int.\n------------------------------------------------------------------------\nnu             2.4249  9.034e-02     26.840 1.097e-158 [  2.248,  2.602]\n========================================================================\n\nCovariance estimator: robust \n\nIteration:      1,   Func. Count:      8,   Neg. LLF: 317.4527990942602\nIteration:      2,   Func. Count:     16,   Neg. LLF: -1223.645143450703\nIteration:      3,   Func. Count:     24,   Neg. LLF: -350.9121003442237\nIteration:      4,   Func. Count:     32,   Neg. LLF: -839.8451974081881\nIteration:      5,   Func. Count:     40,   Neg. LLF: 267.5255635021656\nIteration:      6,   Func. Count:     48,   Neg. LLF: -247.87800744537364\nIteration:      7,   Func. Count:     56,   Neg. LLF: -885.8554870955885\nIteration:      8,   Func. Count:     64,   Neg. LLF: -432.9252292694569\nIteration:      9,   Func. Count:     73,   Neg. LLF: -1278.1574762691307\nIteration:     10,   Func. Count:     83,   Neg. LLF: -1149.2589859948378\n",
      "Iteration:     11,   Func. Count:     91,   Neg. LLF: -1084.7353209347596\nIteration:     12,   Func. Count:     99,   Neg. LLF: -1136.0336854792158\nIteration:     13,   Func. Count:    107,   Neg. LLF: -1100.905610851206\nIteration:     14,   Func. Count:    115,   Neg. LLF: -1599.711527782744\nIteration:     15,   Func. Count:    122,   Neg. LLF: -1601.0701512437404\nIteration:     16,   Func. Count:    129,   Neg. LLF: -1599.7176279576493\nIteration:     17,   Func. Count:    137,   Neg. LLF: -1601.4447370344565\nIteration:     18,   Func. Count:    144,   Neg. LLF: -1601.457217708257\nIteration:     19,   Func. Count:    151,   Neg. LLF: -1601.4576569367377\nIteration:     20,   Func. Count:    158,   Neg. LLF: -1601.457685115558\nIteration:     21,   Func. Count:    165,   Neg. LLF: -1601.4576918183868\nIteration:     22,   Func. Count:    171,   Neg. LLF: -1601.457691818384\n: ARCH(4):\n                            Zero Mean - ARCH Model Results                           \n====================================================================================\nDep. Variable:                      btc_ret   R-squared:                       0.000\nMean Model:                       Zero Mean   Adj. R-squared:                  0.001\nVol Model:                             ARCH   Log-Likelihood:                1601.46\nDistribution:      Standardized Student's t   AIC:                          -3190.92\nMethod:                  Maximum Likelihood   BIC:                          -3162.18\n                                              No. Observations:                  888\nDate:                      Sun, Sep 27 2020   Df Residuals:                      882\nTime:                              15:46:04   Df Model:                            6\n                              Volatility Model                              \n============================================================================\n                 coef    std err          t      P>|t|      95.0% Conf. Int.\n----------------------------------------------------------------------------\nomega      7.0095e-04  2.406e-04      2.914  3.573e-03 [2.294e-04,1.172e-03]\nalpha[1]       0.3072  9.095e-02      3.378  7.302e-04     [  0.129,  0.485]\nalpha[2]       0.1916  9.996e-02      1.917  5.521e-02  [-4.273e-03,  0.388]\nalpha[3]       0.1790  6.232e-02      2.871  4.087e-03   [5.680e-02,  0.301]\nalpha[4]       0.3222  9.313e-02      3.460  5.409e-04     [  0.140,  0.505]\n                              Distribution                              \n========================================================================\n                 coef    std err          t      P>|t|  95.0% Conf. Int.\n------------------------------------------------------------------------\nnu             2.8806      0.137     20.968  1.289e-97 [  2.611,  3.150]\n========================================================================\n\nCovariance estimator: robust \n\nIteration:      1,   Func. Count:     10,   Neg. LLF: -1584.5085168159044\n: ARCH(7):\n",
      "                            Zero Mean - ARCH Model Results                           \n====================================================================================\nDep. Variable:                      btc_ret   R-squared:                       0.000\nMean Model:                       Zero Mean   Adj. R-squared:                  0.001\nVol Model:                             ARCH   Log-Likelihood:                1584.51\nDistribution:      Standardized Student's t   AIC:                          -3151.02\nMethod:                  Maximum Likelihood   BIC:                          -3107.92\n                                              No. Observations:                  888\nDate:                      Sun, Sep 27 2020   Df Residuals:                      879\nTime:                              15:46:04   Df Model:                            9\n                               Volatility Model                              \n=============================================================================\n                 coef    std err          t      P>|t|       95.0% Conf. Int.\n-----------------------------------------------------------------------------\nomega      7.0741e-04  7.117e-04      0.994      0.320 [-6.874e-04,2.102e-03]\nalpha[1]       0.1000  5.837e-02      1.713  8.666e-02   [-1.440e-02,  0.214]\nalpha[2]       0.1000      0.116      0.864      0.387      [ -0.127,  0.327]\nalpha[3]       0.1000  5.990e-02      1.670  9.501e-02   [-1.739e-02,  0.217]\nalpha[4]       0.1000  7.085e-02      1.411      0.158   [-3.887e-02,  0.239]\nalpha[5]       0.1000      0.115      0.873      0.383      [ -0.125,  0.325]\nalpha[6]       0.1000      0.136      0.733      0.464      [ -0.167,  0.367]\nalpha[7]       0.1000  6.647e-02      1.504      0.132   [-3.028e-02,  0.230]\n                              Distribution                              \n========================================================================\n                 coef    std err          t      P>|t|  95.0% Conf. Int.\n------------------------------------------------------------------------\nnu             5.2516      0.601      8.732  2.493e-18 [  4.073,  6.430]\n========================================================================\n\nCovariance estimator: robust \n\n"
     ],
     "output_type": "stream"
    }
   ],
   "source": [
    "# get ARCH configuratios for btc_ret\n",
    "p_list = {1,2,4,7}\n",
    "get_arch_model_summary(btc_ret, part='', p_list=p_list, mean='zero', dist='t', latex=False)"
   ],
   "metadata": {
    "collapsed": false,
    "pycharm": {
     "name": "#%%\n",
     "is_executing": false
    }
   }
  },
  {
   "cell_type": "code",
   "execution_count": 167,
   "outputs": [
    {
     "name": "stdout",
     "text": [
      "Iteration:      1,   Func. Count:      5,   Neg. LLF: 10394.071785307493\nIteration:      2,   Func. Count:     10,   Neg. LLF: -589.9669214517892\nIteration:      3,   Func. Count:     15,   Neg. LLF: -1549.0308839208208\nIteration:      4,   Func. Count:     19,   Neg. LLF: -1466.9162461713258\nIteration:      5,   Func. Count:     24,   Neg. LLF: -858.7376633324922\nIteration:      6,   Func. Count:     31,   Neg. LLF: -1100.9761214502082\nIteration:      7,   Func. Count:     36,   Neg. LLF: -1093.9525850635496\nIteration:      8,   Func. Count:     41,   Neg. LLF: -1118.4263348530499\nIteration:      9,   Func. Count:     46,   Neg. LLF: -990.1860339942577\nIteration:     10,   Func. Count:     51,   Neg. LLF: -1120.3146014108756\nIteration:     11,   Func. Count:     56,   Neg. LLF: -1558.9953274383734\nIteration:     12,   Func. Count:     61,   Neg. LLF: -1560.3381639273985\nIteration:     13,   Func. Count:     65,   Neg. LLF: -1561.7087039367202\nIteration:     14,   Func. Count:     69,   Neg. LLF: -1563.8087143255339\nIteration:     15,   Func. Count:     73,   Neg. LLF: -1565.4637982695099\nIteration:     16,   Func. Count:     77,   Neg. LLF: -1566.571544901105\nIteration:     17,   Func. Count:     81,   Neg. LLF: -1560.797963531375\nIteration:     18,   Func. Count:     86,   Neg. LLF: -1564.7445929434657\nIteration:     19,   Func. Count:     91,   Neg. LLF: -1567.128512249578\nIteration:     20,   Func. Count:     96,   Neg. LLF: -1567.8517769868622\nIteration:     21,   Func. Count:    100,   Neg. LLF: -1567.9926414382994\nIteration:     22,   Func. Count:    104,   Neg. LLF: -1568.0232657674308\nIteration:     23,   Func. Count:    108,   Neg. LLF: -1568.127423339288\nIteration:     24,   Func. Count:    112,   Neg. LLF: -1568.1512213359752\nIteration:     25,   Func. Count:    116,   Neg. LLF: -1568.1543011059273\nIteration:     26,   Func. Count:    120,   Neg. LLF: -1568.1545884755972\nIteration:     27,   Func. Count:    124,   Neg. LLF: -1568.1545894776714\nIteration:     28,   Func. Count:    127,   Neg. LLF: -1568.1545894776807\nIteration:      1,   Func. Count:      6,   Neg. LLF: 10394.071785307493\nIteration:      2,   Func. Count:     12,   Neg. LLF: -1023.5840259371455\nIteration:      3,   Func. Count:     18,   Neg. LLF: -473.48365404543574\nIteration:      4,   Func. Count:     24,   Neg. LLF: -887.3230998794616\nIteration:      5,   Func. Count:     30,   Neg. LLF: -999.199931636909\nIteration:      6,   Func. Count:     36,   Neg. LLF: -1557.2429982728197\nIteration:      7,   Func. Count:     45,   Neg. LLF: -1015.7478610780629",
      "\nIteration:      8,   Func. Count:     51,   Neg. LLF: -1022.5690324955913\nIteration:      9,   Func. Count:     57,   Neg. LLF: -1153.2493396773498\nIteration:     10,   Func. Count:     63,   Neg. LLF: -1134.1665514508863\nIteration:     11,   Func. Count:     69,   Neg. LLF: -1184.8412517968384\nIteration:     12,   Func. Count:     75,   Neg. LLF: -1154.3526677403606\nIteration:     13,   Func. Count:     81,   Neg. LLF: -1178.1949535408157\nIteration:     14,   Func. Count:     87,   Neg. LLF: -1195.1289425262316\nIteration:     15,   Func. Count:     93,   Neg. LLF: -1251.590153823161",
      "\nIteration:     16,   Func. Count:     99,   Neg. LLF: -1560.5827205719602\nIteration:     17,   Func. Count:    105,   Neg. LLF: -1570.114830260579\nIteration:     18,   Func. Count:    111,   Neg. LLF: -1571.8562114151625\nIteration:     19,   Func. Count:    116,   Neg. LLF: -1573.3424083643822\nIteration:     20,   Func. Count:    121,   Neg. LLF: -1573.6304008091035\nIteration:     21,   Func. Count:    126,   Neg. LLF: -1573.8510844015773\nIteration:     22,   Func. Count:    131,   Neg. LLF: -1573.8911306162427\nIteration:     23,   Func. Count:    136,   Neg. LLF: -1573.8975938843287\nIteration:     24,   Func. Count:    141,   Neg. LLF: -1573.8991220679015\nIteration:     25,   Func. Count:    146,   Neg. LLF: -1573.899615053862\nIteration:     26,   Func. Count:    151,   Neg. LLF: -1573.9001615655447\nIteration:     27,   Func. Count:    156,   Neg. LLF: -1573.9002113337606\nIteration:     28,   Func. Count:    161,   Neg. LLF: -1573.900214759001\nIteration:     29,   Func. Count:    165,   Neg. LLF: -1573.9002147589547\nIteration:      1,   Func. Count:      8,   Neg. LLF: 317.4527990942602\nIteration:      2,   Func. Count:     16,   Neg. LLF: -1223.645143450703\nIteration:      3,   Func. Count:     24,   Neg. LLF: -350.9121003442237\nIteration:      4,   Func. Count:     32,   Neg. LLF: -839.8451974081881",
      "\nIteration:      5,   Func. Count:     40,   Neg. LLF: 267.5255635021656\nIteration:      6,   Func. Count:     48,   Neg. LLF: -247.87800744537364\nIteration:      7,   Func. Count:     56,   Neg. LLF: -885.8554870955885\nIteration:      8,   Func. Count:     64,   Neg. LLF: -432.9252292694569\nIteration:      9,   Func. Count:     73,   Neg. LLF: -1278.1574762691307",
      "\nIteration:     10,   Func. Count:     83,   Neg. LLF: -1149.2589859948378\nIteration:     11,   Func. Count:     91,   Neg. LLF: -1084.7353209347596\nIteration:     12,   Func. Count:     99,   Neg. LLF: -1136.0336854792158\nIteration:     13,   Func. Count:    107,   Neg. LLF: -1100.905610851206\nIteration:     14,   Func. Count:    115,   Neg. LLF: -1599.711527782744\nIteration:     15,   Func. Count:    122,   Neg. LLF: -1601.0701512437404\nIteration:     16,   Func. Count:    129,   Neg. LLF: -1599.7176279576493\nIteration:     17,   Func. Count:    137,   Neg. LLF: -1601.4447370344565\nIteration:     18,   Func. Count:    144,   Neg. LLF: -1601.457217708257\nIteration:     19,   Func. Count:    151,   Neg. LLF: -1601.4576569367377\nIteration:     20,   Func. Count:    158,   Neg. LLF: -1601.457685115558\nIteration:     21,   Func. Count:    165,   Neg. LLF: -1601.4576918183868\nIteration:     22,   Func. Count:    171,   Neg. LLF: -1601.457691818384\nIteration:      1,   Func. Count:     10,   Neg. LLF: -1584.5085168159044\n"
     ],
     "output_type": "stream"
    }
   ],
   "source": [
    "# get ARCH configuratios for btc_ret as latex\n",
    "p_list = {1,2,4,7}\n",
    "get_arch_model_summary(btc_ret, part='', p_list=p_list, mean='zero', dist='t', latex=True)"
   ],
   "metadata": {
    "collapsed": false,
    "pycharm": {
     "name": "#%%\n",
     "is_executing": false
    }
   }
  },
  {
   "cell_type": "code",
   "execution_count": 170,
   "outputs": [
    {
     "name": "stdout",
     "text": [
      "Iteration:      1,   Func. Count:      5,   Neg. LLF: -750.9150059592318\nIteration:      2,   Func. Count:      9,   Neg. LLF: -828.8732028044528\npre: ARCH(1):\n                            Zero Mean - ARCH Model Results                           \n====================================================================================\nDep. Variable:                      btc_ret   R-squared:                       0.000\nMean Model:                       Zero Mean   Adj. R-squared:                  0.002\nVol Model:                             ARCH   Log-Likelihood:                828.873\nDistribution:      Standardized Student's t   AIC:                          -1651.75\nMethod:                  Maximum Likelihood   BIC:                          -1639.59\n                                              No. Observations:                  425\nDate:                      Sun, Sep 27 2020   Df Residuals:                      422\nTime:                              15:50:37   Df Model:                            3\n                              Volatility Model                              \n============================================================================\n                 coef    std err          t      P>|t|      95.0% Conf. Int.\n----------------------------------------------------------------------------\nomega      1.3005e-03  5.911e-04      2.200  2.780e-02 [1.420e-04,2.459e-03]\nalpha[1]       0.2800      0.205      1.367      0.172     [ -0.122,  0.682]\n                              Distribution                              \n========================================================================\n                 coef    std err          t      P>|t|  95.0% Conf. Int.\n------------------------------------------------------------------------\nnu             4.6827      0.327     14.300  2.191e-46 [  4.041,  5.325]\n========================================================================\n\nCovariance estimator: robust \n\nIteration:      1,   Func. Count:      6,   Neg. LLF: -840.0706305246688\npre: ARCH(3):\n                            Zero Mean - ARCH Model Results                           \n====================================================================================\nDep. Variable:                      btc_ret   R-squared:                       0.000\nMean Model:                       Zero Mean   Adj. R-squared:                  0.002\nVol Model:                             ARCH   Log-Likelihood:                840.071\nDistribution:      Standardized Student's t   AIC:                          -1670.14\nMethod:                  Maximum Likelihood   BIC:                          -1649.88\n                                              No. Observations:                  425\nDate:                      Sun, Sep 27 2020   Df Residuals:                      420\nTime:                              15:50:37   Df Model:                            5\n                               Volatility Model                              \n=============================================================================\n                 coef    std err          t      P>|t|       95.0% Conf. Int.\n-----------------------------------------------------------------------------\nomega      9.3458e-04  5.097e-04      1.834  6.671e-02 [-6.440e-05,1.934e-03]\nalpha[1]       0.1333  9.627e-02      1.385      0.166   [-5.534e-02,  0.322]\nalpha[2]       0.1333      0.266      0.501      0.616      [ -0.388,  0.655]\nalpha[3]       0.1333  9.194e-02      1.450      0.147   [-4.686e-02,  0.314]\n                              Distribution                              \n========================================================================\n                 coef    std err          t      P>|t|  95.0% Conf. Int.\n------------------------------------------------------------------------\nnu             4.7867      0.481      9.949  2.559e-23 [  3.844,  5.730]\n========================================================================\n\nCovariance estimator: robust \n\nIteration:      1,   Func. Count:      7,   Neg. LLF: -851.169641747286\npre: ARCH(4):\n                            Zero Mean - ARCH Model Results                           \n====================================================================================\nDep. Variable:                      btc_ret   R-squared:                       0.000\nMean Model:                       Zero Mean   Adj. R-squared:                  0.002\nVol Model:                             ARCH   Log-Likelihood:                851.170\nDistribution:      Standardized Student's t   AIC:                          -1690.34\nMethod:                  Maximum Likelihood   BIC:                          -1666.03\n                                              No. Observations:                  425\nDate:                      Sun, Sep 27 2020   Df Residuals:                      419\nTime:                              15:50:37   Df Model:                            6\n                               Volatility Model                              \n=============================================================================\n                 coef    std err          t      P>|t|       95.0% Conf. Int.\n-----------------------------------------------------------------------------\nomega      7.7882e-04  7.478e-04      1.042      0.298 [-6.868e-04,2.244e-03]\nalpha[1]       0.1250  9.763e-02      1.280      0.200   [-6.634e-02,  0.316]\nalpha[2]       0.1250      0.309      0.405      0.686      [ -0.481,  0.731]\nalpha[3]       0.1250  9.057e-02      1.380      0.168   [-5.251e-02,  0.303]\nalpha[4]       0.1250      0.114      1.099      0.272   [-9.789e-02,  0.348]\n                              Distribution                              \n========================================================================\n                 coef    std err          t      P>|t|  95.0% Conf. Int.\n------------------------------------------------------------------------\nnu             4.6969      0.614      7.652  1.973e-14 [  3.494,  5.900]\n========================================================================\n\nCovariance estimator: robust \n\n"
     ],
     "output_type": "stream"
    }
   ],
   "source": [
    "# get ARCH configurations for btc_pre_ret\n",
    "p_list = {1,3,4}\n",
    "get_arch_model_summary(btc_pre_ret, part='pre', p_list=p_list, mean='zero', dist='t', latex=False)"
   ],
   "metadata": {
    "collapsed": false,
    "pycharm": {
     "name": "#%%\n",
     "is_executing": false
    }
   }
  },
  {
   "cell_type": "code",
   "execution_count": 171,
   "outputs": [
    {
     "name": "stdout",
     "text": [
      "Iteration:      1,   Func. Count:      5,   Neg. LLF: -750.9150059592318\nIteration:      2,   Func. Count:      9,   Neg. LLF: -828.8732028044528\nIteration:      1,   Func. Count:      6,   Neg. LLF: -840.0706305246688\nIteration:      1,   Func. Count:      7,   Neg. LLF: -851.169641747286\n"
     ],
     "output_type": "stream"
    }
   ],
   "source": [
    "# get ARCH configurations for btc_pre_ret as latex\n",
    "p_list = {1,3,4}\n",
    "get_arch_model_summary(btc_pre_ret, part='pre', p_list=p_list, mean='zero', dist='t', latex=True)"
   ],
   "metadata": {
    "collapsed": false,
    "pycharm": {
     "name": "#%%\n",
     "is_executing": false
    }
   }
  },
  {
   "cell_type": "code",
   "execution_count": 172,
   "outputs": [
    {
     "name": "stdout",
     "text": [
      "Iteration:      1,   Func. Count:      6,   Neg. LLF: -344.49604692749836\nIteration:      2,   Func. Count:     12,   Neg. LLF: 61.90128766426415\nIteration:      3,   Func. Count:     18,   Neg. LLF: -339.88351995851315\nIteration:      4,   Func. Count:     24,   Neg. LLF: -698.2370205947766\nIteration:      5,   Func. Count:     30,   Neg. LLF: -480.89784530554226\nIteration:      6,   Func. Count:     36,   Neg. LLF: -480.8038277357555\nIteration:      7,   Func. Count:     42,   Neg. LLF: -502.9187491792141\nIteration:      8,   Func. Count:     48,   Neg. LLF: -492.43870849183764\nIteration:      9,   Func. Count:     54,   Neg. LLF: -540.7433214482281\nIteration:     10,   Func. Count:     60,   Neg. LLF: -507.4658169185074\nIteration:     11,   Func. Count:     66,   Neg. LLF: -753.0746825785295\nIteration:     12,   Func. Count:     72,   Neg. LLF: -763.1265878122374\nIteration:     13,   Func. Count:     77,   Neg. LLF: -763.6778193764849\nIteration:     14,   Func. Count:     82,   Neg. LLF: -764.0261685839467\nIteration:     15,   Func. Count:     87,   Neg. LLF: -761.7947935653665\nIteration:     16,   Func. Count:     93,   Neg. LLF: -764.1521456365294\nIteration:     17,   Func. Count:     99,   Neg. LLF: -764.3589284597308\nIteration:     18,   Func. Count:    104,   Neg. LLF: -764.539423518808\nIteration:     19,   Func. Count:    109,   Neg. LLF: -764.574770526315\nIteration:     20,   Func. Count:    114,   Neg. LLF: -764.6243729289762\nIteration:     21,   Func. Count:    119,   Neg. LLF: -764.6509270279612\nIteration:     22,   Func. Count:    124,   Neg. LLF: -764.6768440626288\nIteration:     23,   Func. Count:    129,   Neg. LLF: -764.6885825797657\nIteration:     24,   Func. Count:    134,   Neg. LLF: -764.7011014091223\nIteration:     25,   Func. Count:    139,   Neg. LLF: -764.7015929870223\nIteration:     26,   Func. Count:    144,   Neg. LLF: -764.7016019300254\nIteration:     27,   Func. Count:    148,   Neg. LLF: -764.7016019300581\npost: ARCH(2):\n                            Zero Mean - ARCH Model Results                           \n====================================================================================\nDep. Variable:                      btc_ret   R-squared:                       0.000\nMean Model:                       Zero Mean   Adj. R-squared:                  0.002\nVol Model:                             ARCH   Log-Likelihood:                764.702\nDistribution:      Standardized Student's t   AIC:                          -1521.40\nMethod:                  Maximum Likelihood   BIC:                          -1505.14\n                                              No. Observations:                  431\nDate:                      Sun, Sep 27 2020   Df Residuals:                      427\nTime:                              15:52:12   Df Model:                            4\n                              Volatility Model                              \n============================================================================\n                 coef    std err          t      P>|t|      95.0% Conf. Int.\n----------------------------------------------------------------------------\nomega      2.4868e-03  1.079e-03      2.305  2.117e-02 [3.722e-04,4.601e-03]\nalpha[1]       0.3955      0.317      1.246      0.213     [ -0.227,  1.018]\nalpha[2]       0.6045      0.433      1.394      0.163     [ -0.245,  1.454]\n                              Distribution                              \n========================================================================\n                 coef    std err          t      P>|t|  95.0% Conf. Int.\n------------------------------------------------------------------------\nnu             2.4176      0.267      9.048  1.456e-19 [  1.894,  2.941]\n========================================================================\n\nCovariance estimator: robust \n\nIteration:      1,   Func. Count:      7,   Neg. LLF: -337.75428357522253\nIteration:      2,   Func. Count:     14,   Neg. LLF: 42.27203219981068\nIteration:      3,   Func. Count:     21,   Neg. LLF: -373.7726470962223\nIteration:      4,   Func. Count:     28,   Neg. LLF: -598.5375049845088\nIteration:      5,   Func. Count:     35,   Neg. LLF: -643.5407634326405\nIteration:      6,   Func. Count:     42,   Neg. LLF: -491.1880288501957\nIteration:      7,   Func. Count:     49,   Neg. LLF: -502.3016520896386\nIteration:      8,   Func. Count:     56,   Neg. LLF: -520.4118272487178\nIteration:      9,   Func. Count:     63,   Neg. LLF: -511.1582861870392\nIteration:     10,   Func. Count:     70,   Neg. LLF: -577.1825100116614\nIteration:     11,   Func. Count:     77,   Neg. LLF: -532.1027012863406\nIteration:     12,   Func. Count:     84,   Neg. LLF: -720.7753430599045\nIteration:     13,   Func. Count:     91,   Neg. LLF: -761.3912143728572\nIteration:     14,   Func. Count:     98,   Neg. LLF: -765.7706721629409\nIteration:     15,   Func. Count:    105,   Neg. LLF: -766.96168883936\nIteration:     16,   Func. Count:    111,   Neg. LLF: -767.2669421786462\nIteration:     17,   Func. Count:    117,   Neg. LLF: -767.4873588000312\nIteration:     18,   Func. Count:    123,   Neg. LLF: -767.5472190503674\nIteration:     19,   Func. Count:    129,   Neg. LLF: -767.5568579011813\n",
      "Iteration:     20,   Func. Count:    135,   Neg. LLF: -767.5674953541703\nIteration:     21,   Func. Count:    141,   Neg. LLF: -767.5699800278628\nIteration:     22,   Func. Count:    147,   Neg. LLF: -767.571826465179\nIteration:     23,   Func. Count:    153,   Neg. LLF: -767.5721891689896\nIteration:     24,   Func. Count:    159,   Neg. LLF: -767.5722702196529\nIteration:     25,   Func. Count:    165,   Neg. LLF: -767.5722740668828\nIteration:     26,   Func. Count:    170,   Neg. LLF: -767.5722740668398\npost: ARCH(3):\n                            Zero Mean - ARCH Model Results                           \n====================================================================================\nDep. Variable:                      btc_ret   R-squared:                       0.000\nMean Model:                       Zero Mean   Adj. R-squared:                  0.002\nVol Model:                             ARCH   Log-Likelihood:                767.572\nDistribution:      Standardized Student's t   AIC:                          -1525.14\nMethod:                  Maximum Likelihood   BIC:                          -1504.81\n                                              No. Observations:                  431\nDate:                      Sun, Sep 27 2020   Df Residuals:                      426\nTime:                              15:52:12   Df Model:                            5\n                              Volatility Model                              \n============================================================================\n                 coef    std err          t      P>|t|      95.0% Conf. Int.\n----------------------------------------------------------------------------\nomega      1.8279e-03  6.118e-04      2.988  2.809e-03 [6.289e-04,3.027e-03]\nalpha[1]       0.3558      0.247      1.443      0.149     [ -0.127,  0.839]\nalpha[2]       0.3702      0.263      1.410      0.159     [ -0.144,  0.885]\nalpha[3]       0.2740      0.194      1.415      0.157     [ -0.106,  0.654]\n                              Distribution                              \n========================================================================\n                 coef    std err          t      P>|t|  95.0% Conf. Int.\n------------------------------------------------------------------------\nnu             2.5114      0.218     11.517  1.080e-30 [  2.084,  2.939]\n========================================================================\n\nCovariance estimator: robust \n\n"
     ],
     "output_type": "stream"
    }
   ],
   "source": [
    "# get ARCH configurations for btc_post_ret\n",
    "p_list = {2,3}\n",
    "get_arch_model_summary(btc_post_ret, part='post', p_list=p_list, mean='zero', dist='t', latex=False)"
   ],
   "metadata": {
    "collapsed": false,
    "pycharm": {
     "name": "#%%\n",
     "is_executing": false
    }
   }
  },
  {
   "cell_type": "code",
   "execution_count": 173,
   "outputs": [
    {
     "name": "stdout",
     "text": [
      "Iteration:      1,   Func. Count:      6,   Neg. LLF: -344.49604692749836\nIteration:      2,   Func. Count:     12,   Neg. LLF: 61.90128766426415\nIteration:      3,   Func. Count:     18,   Neg. LLF: -339.88351995851315\nIteration:      4,   Func. Count:     24,   Neg. LLF: -698.2370205947766\nIteration:      5,   Func. Count:     30,   Neg. LLF: -480.89784530554226\nIteration:      6,   Func. Count:     36,   Neg. LLF: -480.8038277357555\nIteration:      7,   Func. Count:     42,   Neg. LLF: -502.9187491792141\nIteration:      8,   Func. Count:     48,   Neg. LLF: -492.43870849183764\nIteration:      9,   Func. Count:     54,   Neg. LLF: -540.7433214482281\nIteration:     10,   Func. Count:     60,   Neg. LLF: -507.4658169185074\nIteration:     11,   Func. Count:     66,   Neg. LLF: -753.0746825785295\nIteration:     12,   Func. Count:     72,   Neg. LLF: -763.1265878122374\nIteration:     13,   Func. Count:     77,   Neg. LLF: -763.6778193764849\nIteration:     14,   Func. Count:     82,   Neg. LLF: -764.0261685839467\nIteration:     15,   Func. Count:     87,   Neg. LLF: -761.7947935653665\nIteration:     16,   Func. Count:     93,   Neg. LLF: -764.1521456365294\nIteration:     17,   Func. Count:     99,   Neg. LLF: -764.3589284597308\nIteration:     18,   Func. Count:    104,   Neg. LLF: -764.539423518808\nIteration:     19,   Func. Count:    109,   Neg. LLF: -764.574770526315\nIteration:     20,   Func. Count:    114,   Neg. LLF: -764.6243729289762\nIteration:     21,   Func. Count:    119,   Neg. LLF: -764.6509270279612\nIteration:     22,   Func. Count:    124,   Neg. LLF: -764.6768440626288\nIteration:     23,   Func. Count:    129,   Neg. LLF: -764.6885825797657\nIteration:     24,   Func. Count:    134,   Neg. LLF: -764.7011014091223\nIteration:     25,   Func. Count:    139,   Neg. LLF: -764.7015929870223\nIteration:     26,   Func. Count:    144,   Neg. LLF: -764.7016019300254\nIteration:     27,   Func. Count:    148,   Neg. LLF: -764.7016019300581\nIteration:      1,   Func. Count:      7,   Neg. LLF: -337.75428357522253\nIteration:      2,   Func. Count:     14,   Neg. LLF: 42.27203219981068\nIteration:      3,   Func. Count:     21,   Neg. LLF: -373.7726470962223\nIteration:      4,   Func. Count:     28,   Neg. LLF: -598.5375049845088\nIteration:      5,   Func. Count:     35,   Neg. LLF: -643.5407634326405\nIteration:      6,   Func. Count:     42,   Neg. LLF: -491.1880288501957\nIteration:      7,   Func. Count:     49,   Neg. LLF: -502.3016520896386\nIteration:      8,   Func. Count:     56,   Neg. LLF: -520.4118272487178\nIteration:      9,   Func. Count:     63,   Neg. LLF: -511.1582861870392\nIteration:     10,   Func. Count:     70,   Neg. LLF: -577.1825100116614\nIteration:     11,   Func. Count:     77,   Neg. LLF: -532.1027012863406\nIteration:     12,   Func. Count:     84,   Neg. LLF: -720.7753430599045",
      "\nIteration:     13,   Func. Count:     91,   Neg. LLF: -761.3912143728572\nIteration:     14,   Func. Count:     98,   Neg. LLF: -765.7706721629409\nIteration:     15,   Func. Count:    105,   Neg. LLF: -766.96168883936\nIteration:     16,   Func. Count:    111,   Neg. LLF: -767.2669421786462\nIteration:     17,   Func. Count:    117,   Neg. LLF: -767.4873588000312\nIteration:     18,   Func. Count:    123,   Neg. LLF: -767.5472190503674\nIteration:     19,   Func. Count:    129,   Neg. LLF: -767.5568579011813\nIteration:     20,   Func. Count:    135,   Neg. LLF: -767.5674953541703\nIteration:     21,   Func. Count:    141,   Neg. LLF: -767.5699800278628\nIteration:     22,   Func. Count:    147,   Neg. LLF: -767.571826465179\nIteration:     23,   Func. Count:    153,   Neg. LLF: -767.5721891689896\nIteration:     24,   Func. Count:    159,   Neg. LLF: -767.5722702196529\nIteration:     25,   Func. Count:    165,   Neg. LLF: -767.5722740668828\nIteration:     26,   Func. Count:    170,   Neg. LLF: -767.5722740668398\n"
     ],
     "output_type": "stream"
    }
   ],
   "source": [
    "# get ARCH configurations for btc_post_ret as latex\n",
    "p_list = {2,3}\n",
    "get_arch_model_summary(btc_post_ret, part='post', p_list=p_list, mean='zero', dist='t', latex=True)"
   ],
   "metadata": {
    "collapsed": false,
    "pycharm": {
     "name": "#%%\n",
     "is_executing": false
    }
   }
  },
  {
   "cell_type": "code",
   "execution_count": 174,
   "outputs": [
    {
     "name": "stdout",
     "text": [
      "Iteration:      1,   Func. Count:      6,   Neg. LLF: 10394.071785307493\nIteration:      2,   Func. Count:     13,   Neg. LLF: 262.10938129005547\nIteration:      3,   Func. Count:     19,   Neg. LLF: -1557.2429742056102\nIteration:      4,   Func. Count:     30,   Neg. LLF: -1535.8535032188763\nIteration:      5,   Func. Count:     36,   Neg. LLF: -1287.4594603519863\nIteration:      6,   Func. Count:     42,   Neg. LLF: -1610.9014414516203\n: GARCH(1,1):\n                           Zero Mean - GARCH Model Results                           \n====================================================================================\nDep. Variable:                      btc_ret   R-squared:                       0.000\nMean Model:                       Zero Mean   Adj. R-squared:                  0.001\nVol Model:                            GARCH   Log-Likelihood:                1610.90\nDistribution:      Standardized Student's t   AIC:                          -3213.80\nMethod:                  Maximum Likelihood   BIC:                          -3194.65\n                                              No. Observations:                  888\nDate:                      Sun, Sep 27 2020   Df Residuals:                      884\nTime:                              15:54:49   Df Model:                            4\n                               Volatility Model                              \n=============================================================================\n                 coef    std err          t      P>|t|       95.0% Conf. Int.\n-----------------------------------------------------------------------------\nomega      5.9864e-05  6.107e-05      0.980      0.327 [-5.983e-05,1.796e-04]\nalpha[1]       0.1784  6.358e-02      2.806  5.021e-03    [5.377e-02,  0.303]\nbeta[1]        0.7982  5.573e-02     14.321  1.608e-46      [  0.689,  0.907]\n                              Distribution                              \n========================================================================\n                 coef    std err          t      P>|t|  95.0% Conf. Int.\n------------------------------------------------------------------------\nnu             4.2159      2.410      1.750  8.017e-02 [ -0.507,  8.938]\n========================================================================\n\nCovariance estimator: robust \n\n"
     ],
     "output_type": "stream"
    }
   ],
   "source": [
    "# get GARCH configurations for btc_ret\n",
    "get_garch_model_summary(btc_ret, part='', mean='zero', dist='t', latex=False)"
   ],
   "metadata": {
    "collapsed": false,
    "pycharm": {
     "name": "#%%\n",
     "is_executing": false
    }
   }
  },
  {
   "cell_type": "code",
   "execution_count": 175,
   "outputs": [
    {
     "name": "stdout",
     "text": [
      "Iteration:      1,   Func. Count:      6,   Neg. LLF: 10394.071785307493\nIteration:      2,   Func. Count:     13,   Neg. LLF: 262.10938129005547\nIteration:      3,   Func. Count:     19,   Neg. LLF: -1557.2429742056102\nIteration:      4,   Func. Count:     30,   Neg. LLF: -1535.8535032188763\nIteration:      5,   Func. Count:     36,   Neg. LLF: -1287.4594603519863\nIteration:      6,   Func. Count:     42,   Neg. LLF: -1610.9014414516203\n"
     ],
     "output_type": "stream"
    }
   ],
   "source": [
    "# get GARCH configurations for btc_ret as latex\n",
    "get_garch_model_summary(btc_ret, part='', mean='zero', dist='t', latex=True)"
   ],
   "metadata": {
    "collapsed": false,
    "pycharm": {
     "name": "#%%\n",
     "is_executing": false
    }
   }
  },
  {
   "cell_type": "code",
   "execution_count": 176,
   "outputs": [
    {
     "name": "stdout",
     "text": [
      "Iteration:      1,   Func. Count:      5,   Neg. LLF: -854.8405415226746\npre: GARCH(1,1):\n                           Zero Mean - GARCH Model Results                           \n====================================================================================\nDep. Variable:                      btc_ret   R-squared:                       0.000\nMean Model:                       Zero Mean   Adj. R-squared:                  0.002\nVol Model:                            GARCH   Log-Likelihood:                854.841\nDistribution:      Standardized Student's t   AIC:                          -1701.68\nMethod:                  Maximum Likelihood   BIC:                          -1685.47\n                                              No. Observations:                  425\nDate:                      Sun, Sep 27 2020   Df Residuals:                      421\nTime:                              15:55:04   Df Model:                            4\n                               Volatility Model                              \n=============================================================================\n                 coef    std err          t      P>|t|       95.0% Conf. Int.\n-----------------------------------------------------------------------------\nomega      3.1688e-05  1.990e-05      1.592      0.111 [-7.322e-06,7.070e-05]\nalpha[1]       0.1000  6.680e-02      1.497      0.134   [-3.093e-02,  0.231]\nbeta[1]        0.8800  4.319e-02     20.374  2.842e-92      [  0.795,  0.965]\n                              Distribution                              \n========================================================================\n                 coef    std err          t      P>|t|  95.0% Conf. Int.\n------------------------------------------------------------------------\nnu             4.9928      0.556      8.976  2.803e-19 [  3.903,  6.083]\n========================================================================\n\nCovariance estimator: robust \n\n"
     ],
     "output_type": "stream"
    }
   ],
   "source": [
    "# get GARCH configurations for btc_pre_ret\n",
    "get_garch_model_summary(btc_pre_ret, part='pre', mean='zero', dist='t', latex=False)"
   ],
   "metadata": {
    "collapsed": false,
    "pycharm": {
     "name": "#%%\n",
     "is_executing": false
    }
   }
  },
  {
   "cell_type": "code",
   "execution_count": 177,
   "outputs": [
    {
     "name": "stdout",
     "text": [
      "Iteration:      1,   Func. Count:      5,   Neg. LLF: -854.8405415226746\n"
     ],
     "output_type": "stream"
    }
   ],
   "source": [
    "# get GARCH configurations for btc_pre_ret as latex\n",
    "get_garch_model_summary(btc_pre_ret, part='pre', mean='zero', dist='t', latex=True)"
   ],
   "metadata": {
    "collapsed": false,
    "pycharm": {
     "name": "#%%\n",
     "is_executing": false
    }
   }
  },
  {
   "cell_type": "code",
   "execution_count": 178,
   "outputs": [
    {
     "name": "stdout",
     "text": [
      "Iteration:      1,   Func. Count:      5,   Neg. LLF: -760.6221048321894\npost: GARCH(1,1):\n                           Zero Mean - GARCH Model Results                           \n====================================================================================\nDep. Variable:                      btc_ret   R-squared:                       0.000\nMean Model:                       Zero Mean   Adj. R-squared:                  0.002\nVol Model:                            GARCH   Log-Likelihood:                760.622\nDistribution:      Standardized Student's t   AIC:                          -1513.24\nMethod:                  Maximum Likelihood   BIC:                          -1496.98\n                                              No. Observations:                  431\nDate:                      Sun, Sep 27 2020   Df Residuals:                      427\nTime:                              15:56:33   Df Model:                            4\n                               Volatility Model                              \n=============================================================================\n                 coef    std err          t      P>|t|       95.0% Conf. Int.\n-----------------------------------------------------------------------------\nomega      2.1752e-04  1.246e-04      1.746  8.074e-02 [-2.660e-05,4.616e-04]\nalpha[1]       0.1000  5.824e-02      1.717  8.599e-02   [-1.416e-02,  0.214]\nbeta[1]        0.8000  8.538e-02      9.370  7.225e-21      [  0.633,  0.967]\n                              Distribution                              \n========================================================================\n                 coef    std err          t      P>|t|  95.0% Conf. Int.\n------------------------------------------------------------------------\nnu             5.7385      0.761      7.543  4.588e-14 [  4.247,  7.230]\n========================================================================\n\nCovariance estimator: robust \n\n"
     ],
     "output_type": "stream"
    }
   ],
   "source": [
    "# get GARCH configurations for btc_post_ret\n",
    "get_garch_model_summary(btc_post_ret, part='post', mean='zero', dist='t', latex=False)"
   ],
   "metadata": {
    "collapsed": false,
    "pycharm": {
     "name": "#%%\n",
     "is_executing": false
    }
   }
  },
  {
   "cell_type": "code",
   "execution_count": 179,
   "outputs": [
    {
     "name": "stdout",
     "text": [
      "Iteration:      1,   Func. Count:      5,   Neg. LLF: -760.6221048321894\n"
     ],
     "output_type": "stream"
    }
   ],
   "source": [
    "# get GARCH configurations for btc_post_ret as latex\n",
    "get_garch_model_summary(btc_post_ret, part='post', mean='zero', dist='t', latex=True)"
   ],
   "metadata": {
    "collapsed": false,
    "pycharm": {
     "name": "#%%\n",
     "is_executing": false
    }
   }
  },
  {
   "cell_type": "code",
   "execution_count": 138,
   "outputs": [],
   "source": [
    "# forecast GARCH(1,1) with btc\n",
    "btc_mse, btc_garch_forecast, btc_variance = get_garch_forecast(btc)\n",
    "print('MSE:\\t', btc_mse)"
   ],
   "metadata": {
    "collapsed": false,
    "pycharm": {
     "name": "#%%\n",
     "is_executing": false
    }
   }
  },
  {
   "cell_type": "code",
   "execution_count": 146,
   "outputs": [],
   "source": [
    "# plot GARCH(1,1) forecast with btc\n",
    "fig_2 = plot_garch_forecast(btc_garch_forecast, btc_variance)"
   ],
   "metadata": {
    "collapsed": false,
    "pycharm": {
     "name": "#%%\n",
     "is_executing": false
    }
   }
  },
  {
   "cell_type": "code",
   "execution_count": 180,
   "outputs": [],
   "source": [
    "# save fig_2\n",
    "fig_2.savefig(save_plot_to+'M3_fig_2.svg',format='svg',bbox_inches='tight',pad_inches = 0)"
   ],
   "metadata": {
    "collapsed": false,
    "pycharm": {
     "name": "#%%\n",
     "is_executing": false
    }
   }
  },
  {
   "cell_type": "code",
   "execution_count": 181,
   "outputs": [
    {
     "name": "stdout",
     "text": [
      "Iteration:      1,   Func. Count:      5,   Neg. LLF: -852.6821364490052\nMSE_pre:\t 0.0019413647192159083\n"
     ],
     "output_type": "stream"
    }
   ],
   "source": [
    "# forecast GARCH(1,1) with btc_pre\n",
    "btc_pre_mse, btc_pre_garch_forecast, btc_pre_variance = get_garch_forecast(btc_pre)\n",
    "print('MSE_pre:\\t', btc_pre_mse)"
   ],
   "metadata": {
    "collapsed": false,
    "pycharm": {
     "name": "#%%\n",
     "is_executing": false
    }
   }
  },
  {
   "cell_type": "code",
   "execution_count": 182,
   "outputs": [],
   "source": [
    "# plot GARCH(1,1) forecast with btc_pre\n",
    "fig_2_pre = plot_garch_forecast(btc_pre_garch_forecast, btc_pre_variance)"
   ],
   "metadata": {
    "collapsed": false,
    "pycharm": {
     "name": "#%%\n",
     "is_executing": false
    }
   }
  },
  {
   "cell_type": "code",
   "execution_count": 183,
   "outputs": [],
   "source": [
    "# save fig_2_pre\n",
    "fig_2_pre.savefig(save_plot_to+'M3_pre_fig_2.svg',format='svg',bbox_inches='tight',pad_inches = 0)"
   ],
   "metadata": {
    "collapsed": false,
    "pycharm": {
     "name": "#%%\n",
     "is_executing": false
    }
   }
  },
  {
   "cell_type": "code",
   "execution_count": 184,
   "outputs": [
    {
     "name": "stdout",
     "text": [
      "Iteration:      1,   Func. Count:      6,   Neg. LLF: 5128.045941903738\nIteration:      2,   Func. Count:     13,   Neg. LLF: -383.96577011114744\nIteration:      3,   Func. Count:     19,   Neg. LLF: -760.259401719677\nIteration:      4,   Func. Count:     24,   Neg. LLF: -766.2955990826204\nMSE_post:\t 0.004780353048633315\n"
     ],
     "output_type": "stream"
    }
   ],
   "source": [
    "# forecast GARCH(1,1) with btc_post\n",
    "btc_post_mse, btc_post_garch_forecast, btc_post_variance = get_garch_forecast(btc_post)\n",
    "print('MSE_post:\\t', btc_post_mse)"
   ],
   "metadata": {
    "collapsed": false,
    "pycharm": {
     "name": "#%%\n",
     "is_executing": false
    }
   }
  },
  {
   "cell_type": "code",
   "execution_count": 185,
   "outputs": [],
   "source": [
    "# plot GARCH(1,1) forecast with btc_post\n",
    "fig_2_post = plot_garch_forecast(btc_post_garch_forecast, btc_post_variance)"
   ],
   "metadata": {
    "collapsed": false,
    "pycharm": {
     "name": "#%%\n",
     "is_executing": false
    }
   }
  },
  {
   "cell_type": "code",
   "execution_count": 186,
   "outputs": [],
   "source": [
    "# save fig_2_post\n",
    "fig_2_post.savefig(save_plot_to+'M3_post_fig_2.svg',format='svg',bbox_inches='tight',pad_inches = 0)\n",
    "\n"
   ],
   "metadata": {
    "collapsed": false,
    "pycharm": {
     "name": "#%%\n",
     "is_executing": false
    }
   }
  }
 ],
 "metadata": {
  "kernelspec": {
   "display_name": "Python 3",
   "language": "python",
   "name": "python3"
  },
  "language_info": {
   "codemirror_mode": {
    "name": "ipython",
    "version": 2
   },
   "file_extension": ".py",
   "mimetype": "text/x-python",
   "name": "python",
   "nbconvert_exporter": "python",
   "pygments_lexer": "ipython2",
   "version": "2.7.6"
  },
  "pycharm": {
   "stem_cell": {
    "cell_type": "raw",
    "source": [],
    "metadata": {
     "collapsed": false
    }
   }
  }
 },
 "nbformat": 4,
 "nbformat_minor": 0
}