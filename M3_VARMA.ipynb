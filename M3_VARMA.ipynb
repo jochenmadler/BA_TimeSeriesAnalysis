{
 "cells": [
  {
   "cell_type": "code",
   "execution_count": 5,
   "metadata": {
    "collapsed": true,
    "pycharm": {
     "is_executing": false
    }
   },
   "outputs": [],
   "source": [
    "import pandas as pd, numpy as np\n",
    "import matplotlib, seaborn as sns\n",
    "matplotlib.use('Qt5Agg')\n",
    "import matplotlib.pyplot as plt\n",
    "plt.rcParams[\"figure.figsize\"] = (8,3.5)\n",
    "plt.rcParams['figure.constrained_layout.use'] = True"
   ]
  },
  {
   "cell_type": "code",
   "execution_count": 3,
   "outputs": [],
   "source": [
    "# load data and crop to earliest_all and latest_all\n",
    "data_list = {}\n",
    "earliest_all = '2015-08-07'\n",
    "latest_all = '2020-06-26'\n",
    "mydateparser = lambda x: pd.datetime.strptime(str(x), '%Y-%m-%d %H:%M:%S')\n",
    "mydateparser1 = lambda x: pd.datetime.strptime(str(x), '%Y-%m-%d')\n",
    "btc_series = pd.read_excel('Data/BTC_closing.xlsx',squeeze=True, parse_dates=[0], \n",
    "                           index_col=0, date_parser=mydateparser)[earliest_all:latest_all]\n",
    "data_list['btc_series'] = btc_series\n",
    "eth_series = pd.read_excel('Data/ETH.xlsx',squeeze=True, parse_dates=[0], \n",
    "                           index_col=0, date_parser=mydateparser, usecols='A,E')[earliest_all:latest_all]\n",
    "data_list['eth_series'] = eth_series\n",
    "\n",
    "oil_WTI = pd.read_excel('Data/DCOILWTICO.xls', squeeze=True, parse_dates=[0], \n",
    "                        index_col=0, skiprows=10, date_parser=mydateparser)[earliest_all:latest_all]\n",
    "data_list['oil_WTI'] = oil_WTI\n",
    "oil_BRENT = pd.read_excel('Data/DCOILBRENTEU.xls', squeeze=True, parse_dates=[0], \n",
    "                          index_col=0, skiprows=10, date_parser=mydateparser)[earliest_all:latest_all]\n",
    "data_list['oil_BRENT'] = oil_BRENT\n",
    "\n",
    "ex_JPN_USD = pd.read_excel('Data/DEXJPUS.xls', squeeze=True, parse_dates=[0], \n",
    "                           index_col=0, skiprows=10, date_parser=mydateparser)[earliest_all:latest_all]\n",
    "data_list['ex_JPN_USD'] = ex_JPN_USD\n",
    "ex_EUR_USD = 1 / pd.read_excel('Data/DEXUSEU.xls', squeeze=True, parse_dates=[0], \n",
    "                               index_col=0, skiprows=10, date_parser=mydateparser)[earliest_all:latest_all]\n",
    "data_list['ex_EUR_USD'] = ex_EUR_USD\n",
    "ex_GBP_USD = 1 / pd.read_excel('Data/DEXUSUK.xls', squeeze=True, parse_dates=[0], \n",
    "                               index_col=0, skiprows=10, date_parser=mydateparser)[earliest_all:latest_all]\n",
    "data_list['ex_GBP_USD'] = ex_GBP_USD\n",
    "\n",
    "gold_10am = pd.read_excel('Data/GOLDAMGBD228NLBM10AM.xls', squeeze=True, parse_dates=[0], \n",
    "                          index_col=0, skiprows=10, date_parser=mydateparser)[earliest_all:latest_all]\n",
    "data_list['gold_10am'] = gold_10am\n",
    "gold_03pm = pd.read_excel('Data/GOLDPMGBD228NLBM3PM.xls', squeeze=True, parse_dates=[0], \n",
    "                          index_col=0, skiprows=10, date_parser=mydateparser)[earliest_all:latest_all]\n",
    "data_list['gold_03pm'] = gold_03pm\n",
    "\n",
    "dax = pd.read_excel('Data/SDAXI.xlsx', squeeze=True, parse_dates=[0], \n",
    "                    index_col=0, date_parser=mydateparser1, usecols=[0,5])[earliest_all:latest_all]\n",
    "data_list['dax'] = dax\n",
    "sp500 = pd.read_excel('Data/SP500.xls', squeeze=True, parse_dates=[0], \n",
    "                      index_col=0, skiprows=10, date_parser=mydateparser)[earliest_all:latest_all]\n",
    "data_list['sp500'] = sp500"
   ],
   "metadata": {
    "collapsed": false,
    "pycharm": {
     "name": "#%%\n",
     "is_executing": false
    }
   }
  },
  {
   "cell_type": "code",
   "execution_count": null,
   "outputs": [],
   "source": [],
   "metadata": {
    "collapsed": false,
    "pycharm": {
     "name": "#%%\n"
    }
   }
  },
  {
   "cell_type": "code",
   "execution_count": 37,
   "outputs": [
    {
     "name": "stdout",
     "text": [
      "btc_series \t\t\t n = 1786 \nFirst:\t 2015-08-07 00:00:00 \nLast:\t 2020-06-26 00:00:00 \n\neth_series \t\t\t n = 1786 \nFirst:\t 2015-08-07 00:00:00 \nLast:\t 2020-06-26 00:00:00 \n\noil_WTI \t\t\t n = 1276 \nFirst:\t 2015-08-07 00:00:00 \nLast:\t 2020-06-26 00:00:00 \n\noil_BRENT \t\t\t n = 1276 \nFirst:\t 2015-08-07 00:00:00 \nLast:\t 2020-06-26 00:00:00 \n\nex_JPN_USD \t\t\t n = 1276 \nFirst:\t 2015-08-07 00:00:00 \nLast:\t 2020-06-26 00:00:00 \n\nex_EUR_USD \t\t\t n = 1276 \nFirst:\t 2015-08-07 00:00:00 \nLast:\t 2020-06-26 00:00:00 \n\nex_GBP_USD \t\t\t n = 1276 \nFirst:\t 2015-08-07 00:00:00 \nLast:\t 2020-06-26 00:00:00 \n\ngold_10am \t\t\t n = 1276 \nFirst:\t 2015-08-07 00:00:00 \nLast:\t 2020-06-26 00:00:00 \n\ngold_03pm \t\t\t n = 1276 \nFirst:\t 2015-08-07 00:00:00 \nLast:\t 2020-06-26 00:00:00 \n\ndax \t\t\t\t n = 1239 \nFirst:\t 2015-08-07 00:00:00 \nLast:\t 2020-06-26 00:00:00 \n\nsp500 \t\t\t\t n = 1276 \nFirst:\t 2015-08-07 00:00:00 \nLast:\t 2020-06-26 00:00:00 \n\n"
     ],
     "output_type": "stream"
    }
   ],
   "source": [
    "# get series overview: same start and end but different lengths, because some days are missing\n",
    "def print_data_list():\n",
    "    for i in data_list:\n",
    "        if i == 'dax' or i == 'sp500': \n",
    "            t = 4\n",
    "        else: \n",
    "            t = 3\n",
    "        print(i, '\\t'*t, 'n =' , len(data_list[i]), '\\nFirst:\\t', \n",
    "              data_list[i].index[0], '\\nLast:\\t',\n",
    "              data_list[i].index[-1], '\\n')\n",
    "\n",
    "print_data_list()"
   ],
   "metadata": {
    "collapsed": false,
    "pycharm": {
     "name": "#%%\n",
     "is_executing": false
    }
   }
  },
  {
   "cell_type": "code",
   "execution_count": 14,
   "outputs": [],
   "source": [
    "# for each series, resample to get every day between start and end period\n",
    "# for each series, fill newly added days with NaN, then interpolate (method=time)\n",
    "\n",
    "def fill_in_missing_data(data_list):\n",
    "    for i in data_list:\n",
    "        # resample\n",
    "        new_i = data_list[i].resample('D').sum()\n",
    "        # replace 0 with NaN\n",
    "        new_i.replace(0, np.nan, inplace=True)\n",
    "        new_i.replace(np.inf, np.nan, inplace=True)\n",
    "        # interpolate (time)\n",
    "        new_i.interpolate(method='time', inplace=True)\n",
    "        data_list[i] = new_i\n",
    "\n",
    "#fill_in_missing_data(data_list)\n",
    "#print_data_list()\n",
    "\n",
    "# from now on, only data_list contains the right values"
   ],
   "metadata": {
    "collapsed": false,
    "pycharm": {
     "name": "#%%\n",
     "is_executing": false
    }
   }
  },
  {
   "cell_type": "code",
   "execution_count": 50,
   "outputs": [
    {
     "data": {
      "text/plain": "Text(0.5, 1.0, 'ex_EUR_USD_interpolated')"
     },
     "metadata": {},
     "output_type": "execute_result",
     "execution_count": 50
    }
   ],
   "source": [
    "# create plot to show how interpolation removed gaps in data\n",
    "\n",
    "ex_EUR_USD_interpolated  = ex_EUR_USD.resample('D').sum()\n",
    "ex_EUR_USD_interpolated .replace(0, np.nan, inplace=True)\n",
    "ex_EUR_USD_interpolated .replace(np.inf, np.nan, inplace=True)\n",
    "ex_EUR_USD_interpolated .interpolate(method='time', inplace=True)\n",
    "\n",
    "fig, axes = plt.subplots(1, 2, sharex=True, sharey=True)\n",
    "# plot normal series with gaps\n",
    "axes[0].plot(data_list['ex_EUR_USD']); axes[0].set_title('ex_EUR_USD')\n",
    "# plot interpolated series without gaps\n",
    "axes[1].plot(ex_EUR_USD_interpolated); axes[1].set_title('ex_EUR_USD_interpolated')"
   ],
   "metadata": {
    "collapsed": false,
    "pycharm": {
     "name": "#%%\n",
     "is_executing": false
    }
   }
  },
  {
   "cell_type": "code",
   "execution_count": 35,
   "outputs": [
    {
     "traceback": [
      "\u001b[1;31m---------------------------------------------------------------------------\u001b[0m",
      "\u001b[1;31mTypeError\u001b[0m                                 Traceback (most recent call last)",
      "\u001b[1;32m<ipython-input-35-c75ba7ac0f54>\u001b[0m in \u001b[0;36m<module>\u001b[1;34m\u001b[0m\n\u001b[0;32m      2\u001b[0m \u001b[0mtype\u001b[0m\u001b[1;33m(\u001b[0m\u001b[0mlista\u001b[0m\u001b[1;33m)\u001b[0m\u001b[1;33m\u001b[0m\u001b[1;33m\u001b[0m\u001b[0m\n\u001b[0;32m      3\u001b[0m \u001b[1;33m\u001b[0m\u001b[0m\n\u001b[1;32m----> 4\u001b[1;33m \u001b[0mfill_in_missing_data\u001b[0m\u001b[1;33m(\u001b[0m\u001b[0mlista\u001b[0m\u001b[1;33m)\u001b[0m\u001b[1;33m\u001b[0m\u001b[1;33m\u001b[0m\u001b[0m\n\u001b[0m\u001b[0;32m      5\u001b[0m \u001b[1;33m\u001b[0m\u001b[0m\n",
      "\u001b[1;32m<ipython-input-14-3142db2b7833>\u001b[0m in \u001b[0;36mfill_in_missing_data\u001b[1;34m(data_list)\u001b[0m\n\u001b[0;32m      5\u001b[0m     \u001b[1;32mfor\u001b[0m \u001b[0mi\u001b[0m \u001b[1;32min\u001b[0m \u001b[0mdata_list\u001b[0m\u001b[1;33m:\u001b[0m\u001b[1;33m\u001b[0m\u001b[1;33m\u001b[0m\u001b[0m\n\u001b[0;32m      6\u001b[0m         \u001b[1;31m# resample\u001b[0m\u001b[1;33m\u001b[0m\u001b[1;33m\u001b[0m\u001b[1;33m\u001b[0m\u001b[0m\n\u001b[1;32m----> 7\u001b[1;33m         \u001b[0mnew_i\u001b[0m \u001b[1;33m=\u001b[0m \u001b[0mdata_list\u001b[0m\u001b[1;33m[\u001b[0m\u001b[0mi\u001b[0m\u001b[1;33m]\u001b[0m\u001b[1;33m.\u001b[0m\u001b[0mresample\u001b[0m\u001b[1;33m(\u001b[0m\u001b[1;34m'D'\u001b[0m\u001b[1;33m)\u001b[0m\u001b[1;33m.\u001b[0m\u001b[0msum\u001b[0m\u001b[1;33m(\u001b[0m\u001b[1;33m)\u001b[0m\u001b[1;33m\u001b[0m\u001b[1;33m\u001b[0m\u001b[0m\n\u001b[0m\u001b[0;32m      8\u001b[0m         \u001b[1;31m# replace 0 with NaN\u001b[0m\u001b[1;33m\u001b[0m\u001b[1;33m\u001b[0m\u001b[1;33m\u001b[0m\u001b[0m\n\u001b[0;32m      9\u001b[0m         \u001b[0mnew_i\u001b[0m\u001b[1;33m.\u001b[0m\u001b[0mreplace\u001b[0m\u001b[1;33m(\u001b[0m\u001b[1;36m0\u001b[0m\u001b[1;33m,\u001b[0m \u001b[0mnp\u001b[0m\u001b[1;33m.\u001b[0m\u001b[0mnan\u001b[0m\u001b[1;33m,\u001b[0m \u001b[0minplace\u001b[0m\u001b[1;33m=\u001b[0m\u001b[1;32mTrue\u001b[0m\u001b[1;33m)\u001b[0m\u001b[1;33m\u001b[0m\u001b[1;33m\u001b[0m\u001b[0m\n",
      "\u001b[1;31mTypeError\u001b[0m: list indices must be integers or slices, not Series"
     ],
     "ename": "TypeError",
     "evalue": "list indices must be integers or slices, not Series",
     "output_type": "error"
    }
   ],
   "source": [
    "lista = [data_list['btc_series'], data_list['eth_series']]\n",
    "type(lista)\n",
    "\n",
    "fill_in_missing_data(lista)"
   ],
   "metadata": {
    "collapsed": false,
    "pycharm": {
     "name": "#%%\n",
     "is_executing": false
    }
   }
  },
  {
   "cell_type": "code",
   "execution_count": 12,
   "outputs": [],
   "source": [
    "# visualize data\n",
    "fig, axes = plt.subplots(4, 3, sharex=True)\n",
    "data_list_listed = list(data_list)\n",
    "for i, ax in enumerate(axes.flatten()):\n",
    "   if i is 11: continue\n",
    "   curr_key = data_list_listed[i]\n",
    "   curr_data = data_list[curr_key]\n",
    "   ax.plot(curr_data)\n",
    "   ax.set_title(curr_key)"
   ],
   "metadata": {
    "collapsed": false,
    "pycharm": {
     "name": "#%%\n",
     "is_executing": false
    }
   }
  },
  {
   "cell_type": "code",
   "execution_count": null,
   "outputs": [],
   "source": [
    "# plot correlation matrix"
   ],
   "metadata": {
    "collapsed": false,
    "pycharm": {
     "name": "#%%\n"
    }
   }
  },
  {
   "cell_type": "code",
   "execution_count": 154,
   "outputs": [],
   "source": [
    "# test Granger causality\n",
    "from statsmodels.tsa.stattools import grangercausalitytests\n",
    "def granger_causation_matrix(data, variables, verbose=False):\n",
    "    matrix = pd.DataFrame(np.zeros((len(variables), len(variables))), columns=variables, index=variables)\n",
    "    for c in matrix.columns:\n",
    "        for r in matrix.index:\n",
    "            # data = [y,x] where x causes y\n",
    "            result = grangercausalitytests(x=data[[r,c]], maxlag=maxlag, verbose=False)\n",
    "            p_values = [round(result[i+1][0][test][1],4) for i in range(maxlag)]\n",
    "            if verbose: print(f'Y = {r}, X = {c}, P Values = {p_values}')\n",
    "            min_p_value = np.min(p_values)\n",
    "            matrix.loc[r,c] = min_p_value\n",
    "    matrix.columns = [var + '_x' for var in variables]\n",
    "    matrix.index = [var + '_y' for var in variables]\n",
    "    return matrix\n",
    "\n",
    "maxlag=12\n",
    "test = 'ssr_chi2test'\n",
    "data = pd.DataFrame(data_list)\n",
    "granger_matrix = granger_causation_matrix(data, variables=list(data_list.keys()))\n",
    "granger_matrix"
   ],
   "metadata": {
    "collapsed": false,
    "pycharm": {
     "name": "#%%\n",
     "is_executing": false
    }
   }
  },
  {
   "cell_type": "code",
   "execution_count": 183,
   "outputs": [],
   "source": [
    "# cointegration test\n",
    "from statsmodels.tsa.vector_ar.vecm import coint_johansen\n",
    "def cointegration_test(data, alpha=0.05):\n",
    "    result = coint_johansen(data, -1, 10)\n",
    "    d = {'0.90':0, '0.95':1, '0.99':2}\n",
    "    trace_stat = result.lr1\n",
    "    crit_val_trace_stat = result.cvt[:, d[str(1-alpha)]]\n",
    "    \n",
    "    def adjust(val, length = 6): \n",
    "        return str(val).ljust(length)\n",
    "    \n",
    "    print('Name   \\t\\t ::  Test Stat > C(95%)    =>   Signif  \\n', '--'*20)\n",
    "    for col, trace, cvt in zip(data.columns, trace_stat, crit_val_trace_stat):\n",
    "        if col is 'dax' or col is 'sp500':\n",
    "            tab = 2\n",
    "        else:\n",
    "            tab = 1\n",
    "        print(adjust(col), '\\t'*tab ,':: ', adjust(round(trace,2), 9), \">\", adjust(cvt, 8), ' =>  ' , trace > cvt)\n",
    "    \n",
    "data = pd.DataFrame(data_list)\n",
    "cointegration_test(data)"
   ],
   "metadata": {
    "collapsed": false,
    "pycharm": {
     "name": "#%%\n",
     "is_executing": false
    }
   }
  },
  {
   "cell_type": "code",
   "execution_count": 161,
   "outputs": [],
   "source": [],
   "metadata": {
    "collapsed": false,
    "pycharm": {
     "name": "#%%\n",
     "is_executing": false
    }
   }
  },
  {
   "cell_type": "code",
   "execution_count": 167,
   "outputs": [],
   "source": [],
   "metadata": {
    "collapsed": false,
    "pycharm": {
     "name": "#%%\n",
     "is_executing": false
    }
   }
  },
  {
   "cell_type": "code",
   "execution_count": null,
   "outputs": [],
   "source": [
    "\n"
   ],
   "metadata": {
    "collapsed": false,
    "pycharm": {
     "name": "#%%\n"
    }
   }
  }
 ],
 "metadata": {
  "kernelspec": {
   "display_name": "Python 3",
   "language": "python",
   "name": "python3"
  },
  "language_info": {
   "codemirror_mode": {
    "name": "ipython",
    "version": 2
   },
   "file_extension": ".py",
   "mimetype": "text/x-python",
   "name": "python",
   "nbconvert_exporter": "python",
   "pygments_lexer": "ipython2",
   "version": "2.7.6"
  },
  "pycharm": {
   "stem_cell": {
    "cell_type": "raw",
    "source": [],
    "metadata": {
     "collapsed": false
    }
   }
  }
 },
 "nbformat": 4,
 "nbformat_minor": 0
}