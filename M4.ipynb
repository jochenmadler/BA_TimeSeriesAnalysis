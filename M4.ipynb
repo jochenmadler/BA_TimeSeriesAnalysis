{
 "cells": [
  {
   "cell_type": "code",
   "execution_count": 3,
   "outputs": [],
   "source": [
    "# set up imports\n",
    "import pandas as pd, numpy as np, seaborn as sns\n",
    "from tabulate import tabulate\n",
    "import statsmodels\n",
    "import arch\n",
    "import matplotlib\n",
    "matplotlib.use('qt5agg')\n",
    "\n",
    "# configure plot style\n",
    "import matplotlib.pyplot as plt\n",
    "plt.rcParams['mathtext.fontset'] = 'stix'\n",
    "plt.rcParams['font.family'] = 'STIXGeneral'\n",
    "plt.rcParams[\"figure.figsize\"] = (9.5,4.15)\n",
    "plt.rcParams['figure.constrained_layout.use'] = False\n",
    "plt.rcParams['figure.dpi'] = 100\n",
    "plt.rcParams['savefig.dpi'] = 100\n",
    "plt.rcParams['lines.linewidth'] = 0.8\n",
    "save_plot_to =  r'C:\\\\Users\\joche\\OneDrive\\03 TUM - TUM-BWL\\Semester 8\\01 Bachelorarbeit\\04 Results\\Plots/'"
   ],
   "metadata": {
    "collapsed": false,
    "pycharm": {
     "name": "#%%\n",
     "is_executing": false
    }
   }
  },
  {
   "cell_type": "code",
   "execution_count": 4,
   "outputs": [],
   "source": [
    "# load data and crop to start_date:end_date\n",
    "start_date = '2015-08-07'\n",
    "end_date = '2020-06-26'\n",
    "idx = pd.date_range(start_date, end_date)\n",
    "index_name = 'date'\n",
    "mydateparser = lambda x: pd.datetime.strptime(str(x), '%Y-%m-%d %H:%M:%S')\n",
    "mydateparser1 = lambda x: pd.datetime.strptime(str(x), '%Y-%m-%d')\n",
    "\n",
    "# btc\n",
    "btc = pd.read_excel('Data/BTC_closing.xlsx', parse_dates=[0], index_col=0, date_parser=mydateparser)[start_date:end_date]\n",
    "btc.index.name = index_name\n",
    "btc.columns = ['btc']\n",
    "\n",
    "# usd_eur\n",
    "usd_eur = pd.read_excel('Data/DEXUSEU.xls', parse_dates=[0], index_col=0, skiprows=10, date_parser=mydateparser)[start_date:end_date]\n",
    "usd_eur.index.name = index_name\n",
    "usd_eur.columns = ['usd_eur']\n",
    "usd_eur = usd_eur.loc[(usd_eur!=0).any(1)]\n",
    "\n",
    "# tot_btc: only weekly data - missing values interpolated\n",
    "tot_btc = pd.read_csv('Data/total-bitcoins', index_col=0)[start_date:end_date]\n",
    "tot_btc.index = pd.DatetimeIndex(tot_btc.index, normalize=True).normalize()\n",
    "tot_btc.index.name = index_name\n",
    "tot_btc = tot_btc.reindex(idx, fill_value=None)\n",
    "tot_btc.interpolate(method='time', inplace=True, limit_direction='both')\n",
    "tot_btc.columns = ['tot_btc']\n",
    "\n",
    "# hs_rate: only weekly data - missing values interpolated\n",
    "hs_rate = pd.read_csv('Data/hash-rate', index_col=0)[start_date:end_date]\n",
    "hs_rate.index = pd.DatetimeIndex(hs_rate.index, normalize=True).normalize()\n",
    "hs_rate.index.name = index_name\n",
    "hs_rate = hs_rate.reindex(idx, fill_value=None)\n",
    "hs_rate.interpolate(method='time', inplace=True, limit_direction='both')\n",
    "hs_rate.columns = ['hs_rate']\n",
    "\n",
    "# eth\n",
    "eth = pd.read_excel('Data/ETH.xlsx', parse_dates=[0], index_col=0, date_parser=mydateparser, usecols='A,E')[start_date:end_date]\n",
    "eth.index.name = index_name\n",
    "eth.columns = ['eth']\n",
    "\n",
    "# ggl_trends: only weekly data - missing values interpolated\n",
    "# ggl_trends: weighted average of 15 countries\n",
    "ggl_trends = pd.read_csv('Data/googletrends.txt', index_col=0)[start_date:end_date]\n",
    "ggl_trends.index = pd.DatetimeIndex(ggl_trends.index, normalize=True).normalize()\n",
    "ggl_trends.index.name = index_name\n",
    "ggl_trends = ggl_trends.reindex(idx, fill_value=None)\n",
    "ggl_trends.interpolate(method='time', inplace=True, limit_direction='both')\n",
    "ggl_trends['btc-average'] = np.round(ggl_trends.sum(axis=1)/15)\n",
    "ggl_trends = ggl_trends[['btc-average']].copy()\n",
    "ggl_trends.columns = ['ggl_trends']\n",
    "\n",
    "# wiki_views: sum of 99 countries\n",
    "wiki_views = pd.read_excel('Data/wikipedia.xlsx', parse_dates=[0], index_col=0, date_parser=mydateparser1)[start_date:end_date]\n",
    "wiki_views.index = pd.DatetimeIndex(wiki_views.index, normalize=True).normalize()\n",
    "wiki_views.index.name = index_name\n",
    "wiki_views['wiki-total'] = np.round(wiki_views.sum(axis=1))\n",
    "wiki_views = wiki_views[['wiki-total']].copy()\n",
    "wiki_views.columns = ['wiki_views']\n",
    "\n",
    "# wti_oil\n",
    "oil_wti = pd.read_excel('Data/DCOILWTICO.xls', parse_dates=[0], index_col=0, skiprows=10, date_parser=mydateparser)[start_date:end_date]\n",
    "oil_wti.index = pd.DatetimeIndex(oil_wti.index, normalize=True).normalize()\n",
    "oil_wti.index.name = index_name\n",
    "oil_wti.columns = ['oil_wti']\n",
    "oil_wti = oil_wti.loc[(oil_wti!=0).any(1)]\n",
    "\n",
    "# gold\n",
    "gold = pd.read_excel('Data/GOLDAMGBD228NLBM10AM.xls', parse_dates=[0], index_col=0, skiprows=10, date_parser=mydateparser)[start_date:end_date]\n",
    "gold.index = pd.DatetimeIndex(gold.index, normalize=True).normalize()\n",
    "gold.index.name = index_name\n",
    "gold.columns = ['gold']\n",
    "gold = gold.loc[(gold!=0).any(1)]\n",
    "\n",
    "# sp500\n",
    "sp500 = pd.read_excel('Data/SP500.xls', parse_dates=[0], index_col=0, skiprows=10, date_parser=mydateparser)[start_date:end_date]\n",
    "sp500.index = pd.DatetimeIndex(sp500.index, normalize=True).normalize()\n",
    "sp500.index.name = index_name\n",
    "sp500.columns = ['sp500']\n",
    "sp500 = sp500.loc[(sp500!=0).any(1)]\n",
    "\n",
    "# sse \n",
    "sse = pd.read_excel('Data/SSEcomposite.xlsx', parse_dates=[0], index_col=0, header=0, date_parser=mydateparser)[start_date:end_date]\n",
    "sse.index = pd.DatetimeIndex(sse.index, normalize=True).normalize()\n",
    "sse.index.name = index_name\n",
    "sse = sse[['Zuletzt']].copy()\n",
    "sse.columns = ['sse']\n",
    "\n",
    "# ffd_rate\n",
    "ffd_rate = pd.read_excel('Data/DFF.xls', parse_dates=[0], index_col=0, skiprows=10, date_parser=mydateparser)[start_date:end_date]\n",
    "ffd_rate.index = pd.DatetimeIndex(ffd_rate.index, normalize=True).normalize()\n",
    "ffd_rate.index.name = index_name\n",
    "ffd_rate.columns = ['ffd_rate']"
   ],
   "metadata": {
    "collapsed": false,
    "pycharm": {
     "name": "#%%\n",
     "is_executing": false
    }
   }
  },
  {
   "cell_type": "code",
   "execution_count": 5,
   "outputs": [],
   "source": [
    "# merge data to one df (inner join)\n",
    "from functools import reduce\n",
    "temp = [btc,tot_btc,hs_rate,eth,ggl_trends,wiki_views,usd_eur,oil_wti,\n",
    "              gold,sp500,sse,ffd_rate]\n",
    "df = reduce(lambda left, right: pd.merge(left, right, left_index=True, right_index=True), temp)\n",
    "df"
   ],
   "metadata": {
    "collapsed": false,
    "pycharm": {
     "name": "#%%\n",
     "is_executing": false
    }
   }
  },
  {
   "cell_type": "code",
   "execution_count": 6,
   "outputs": [],
   "source": [
    "# define plotting function\n",
    "import matplotlib.dates as mdates\n",
    "def plot_df(df):\n",
    "    fig_i, axs = plt.subplots(4,3, figsize=(9.5,4.15))\n",
    "    for i, ax in enumerate(axs.flatten()):\n",
    "        data = df[df.columns[i]]\n",
    "        ax.plot(data, color='black')\n",
    "        ax.set_title(df.columns[i])\n",
    "        ax.xaxis.set_ticks_position('none')\n",
    "        ax.yaxis.set_ticks_position('none')\n",
    "        ax.xaxis.set_major_formatter(mdates.DateFormatter(\"%Y-%m\"))\n",
    "        ax.xaxis.set_minor_formatter(mdates.DateFormatter(\"%Y-%m\"))\n",
    "        #ax.spines['top'].set_alpha(0)\n",
    "        ax.tick_params(labelsize=8)\n",
    "    plt.tight_layout()\n",
    "    return fig_i"
   ],
   "metadata": {
    "collapsed": false,
    "pycharm": {
     "name": "#%%\n",
     "is_executing": false
    }
   }
  },
  {
   "cell_type": "code",
   "execution_count": 111,
   "outputs": [],
   "source": [
    "# plot raw time series\n",
    "fig_1 = plot_df(df)"
   ],
   "metadata": {
    "collapsed": false,
    "pycharm": {
     "name": "#%%\n",
     "is_executing": false
    }
   }
  },
  {
   "cell_type": "code",
   "execution_count": 7,
   "outputs": [],
   "source": [
    "# take log of time series and relabel columns\n",
    "df_log = np.log(df)\n",
    "new_cols = list()\n",
    "for i in df_log.columns:\n",
    "    new_cols.append(i+'_log')\n",
    "df_log.columns = new_cols\n",
    "\n",
    "# fill na value of negative oil price on 2020-04-20 with 0\n",
    "df_log.fillna(value=0, inplace=True)"
   ],
   "metadata": {
    "collapsed": false,
    "pycharm": {
     "name": "#%%\n",
     "is_executing": false
    }
   }
  },
  {
   "cell_type": "code",
   "execution_count": 10,
   "outputs": [],
   "source": [
    "# plot log time series\n",
    "fig_2 = plot_df(df_log)"
   ],
   "metadata": {
    "collapsed": false,
    "pycharm": {
     "name": "#%%\n",
     "is_executing": false
    }
   }
  },
  {
   "cell_type": "code",
   "execution_count": 113,
   "outputs": [],
   "source": [
    "# plot correlation matrix as latex table\n",
    "corr = df.corr().round(3)\n",
    "print(tabulate(corr, headers=corr.columns, showindex=True, tablefmt=\"latex\"))"
   ],
   "metadata": {
    "collapsed": false,
    "pycharm": {
     "name": "#%%\n",
     "is_executing": false
    }
   }
  },
  {
   "cell_type": "code",
   "execution_count": 114,
   "outputs": [],
   "source": [
    "# plot correlation matrix as heatmap\n",
    "corr = df.corr()\n",
    "# more html colors here: https://www.w3schools.com/colors/colors_names.asp\n",
    "# pal = sns.light_palette('lightgrey', as_cmap=True)\n",
    "ax = sns.heatmap(corr, xticklabels=corr.columns.values, yticklabels=corr.columns.values, annot=True, \n",
    "            annot_kws={'size':7}, vmin=-1, center=0, vmax=1, cmap=\"YlGnBu\")\n",
    "bottom, top = ax.get_ylim()\n",
    "ax.set_ylim(bottom + 0.5, top - 0.5)\n",
    "fig_3 = plt.gcf()\n",
    "fig_3.set_size_inches(9.5,4.15)\n",
    "plt.tick_params(axis='both', which='major', labelsize=7.5, labelbottom = False, bottom=False, top = False, labeltop=True)\n",
    "plt.xticks(fontsize=7.5, rotation=1)\n",
    "plt.yticks(fontsize=7.5)"
   ],
   "metadata": {
    "collapsed": false,
    "pycharm": {
     "name": "#%%\n",
     "is_executing": false
    }
   }
  },
  {
   "cell_type": "code",
   "execution_count": 8,
   "outputs": [],
   "source": [
    "# split df in df_train and df_test set\n",
    "train_size = int(len(df) * 0.8)\n",
    "df_train, df_test = df[0:train_size], df[train_size:]\n",
    "print('df:\\t\\t',len(df))\n",
    "print('df_train:\\t',len(df_train))\n",
    "print('df_test:\\t',len(df_test))\n",
    "print('Sum train+test:\\t', len(df_train)+len(df_test))"
   ],
   "metadata": {
    "collapsed": false,
    "pycharm": {
     "name": "#%%\n",
     "is_executing": false
    }
   }
  },
  {
   "cell_type": "code",
   "execution_count": 9,
   "outputs": [],
   "source": [
    "# take log of df_train: df_train_log\n",
    "df_train_log = np.log(df_train)\n",
    "\n",
    "# relabel columns\n",
    "new_cols = list()\n",
    "for i in df_train_log.columns:\n",
    "    new_cols.append(i+'_log')\n",
    "df_train_log.columns = new_cols\n",
    "\n",
    "df_train_log"
   ],
   "metadata": {
    "collapsed": false,
    "pycharm": {
     "name": "#%%\n",
     "is_executing": false
    }
   }
  },
  {
   "cell_type": "code",
   "execution_count": 117,
   "outputs": [],
   "source": [
    "# plot df_train_log\n",
    "fig_4 = plot_df(df_train_log)"
   ],
   "metadata": {
    "collapsed": false,
    "pycharm": {
     "name": "#%%\n",
     "is_executing": false
    }
   }
  },
  {
   "cell_type": "code",
   "execution_count": 118,
   "outputs": [],
   "source": [
    "# adf- and pp-test of a df\n",
    "from arch.unitroot import ADF, PhillipsPerron\n",
    "def stationarity_tests(df, latex):\n",
    "    for col in df:\n",
    "        adf = ADF(df[col])\n",
    "        pp = PhillipsPerron(df[col])\n",
    "        \n",
    "        if latex is False:\n",
    "            # write summary as plain text to std.out\n",
    "            print('Timeseries:\\t',col,'\\n',\n",
    "                  adf.summary(),'\\n\\n',pp.summary(),'\\n\\n\\n')\n",
    "        else:\n",
    "            # write summary as latex to file\n",
    "            with open(save_plot_to + 'Stationarity_Tests_LaTeX.txt', 'a') as myfile:\n",
    "                myfile.write('Timeseries:\\t'+col+'\\n'\n",
    "                         +adf.summary().as_latex()+'\\n\\n'\n",
    "                         +pp.summary().as_latex()+'\\n\\n\\n')"
   ],
   "metadata": {
    "collapsed": false,
    "pycharm": {
     "name": "#%%\n",
     "is_executing": false
    }
   }
  },
  {
   "cell_type": "code",
   "execution_count": 119,
   "outputs": [],
   "source": [
    "# adf- and pp-test of df_train_log\n",
    "stationarity_tests(df_train_log, latex=False)"
   ],
   "metadata": {
    "collapsed": false,
    "pycharm": {
     "name": "#%%\n",
     "is_executing": false
    }
   }
  },
  {
   "cell_type": "code",
   "execution_count": 12,
   "outputs": [],
   "source": [
    "# first differences of df_train_log: df_train_log_diff\n",
    "df_train_log_diff = df_train_log.diff()\n",
    "\n",
    "# relabel columns\n",
    "new_cols = list()\n",
    "for i in df_train_log_diff.columns:\n",
    "    new_cols.append(i+'_diff')\n",
    "df_train_log_diff.columns = new_cols\n",
    "\n",
    "df_train_log_diff"
   ],
   "metadata": {
    "collapsed": false,
    "pycharm": {
     "name": "#%%\n",
     "is_executing": false
    }
   }
  },
  {
   "cell_type": "code",
   "execution_count": 121,
   "outputs": [],
   "source": [
    "# plot df_train_log_diff\n",
    "fig_5 = plot_df(df_train_log_diff[1:])"
   ],
   "metadata": {
    "collapsed": false,
    "pycharm": {
     "name": "#%%\n",
     "is_executing": false
    }
   }
  },
  {
   "cell_type": "code",
   "execution_count": 122,
   "outputs": [],
   "source": [
    "# adf- and pp-test of df_train_log_diff\n",
    "stationarity_tests(df_train_log_diff[1:], latex=False)"
   ],
   "metadata": {
    "collapsed": false,
    "pycharm": {
     "name": "#%%\n",
     "is_executing": false
    }
   }
  },
  {
   "cell_type": "code",
   "execution_count": 123,
   "outputs": [],
   "source": [
    "# granger causality test on a df\n",
    "# code taken from: https://stackoverflow.com/questions/58005681/is-it-possible-to-run-a-vector-autoregression-analysis-on-a-large-gdp-data-with\n",
    "from statsmodels.tsa.stattools import grangercausalitytests\n",
    "maxlag=15\n",
    "test = 'ssr-chi2test'\n",
    "def grangers_causality_matrix(X_train, variables, test = 'ssr_chi2test', verbose=False):\n",
    "    dataset = pd.DataFrame(np.zeros((len(variables), len(variables))), columns=variables, index=variables)\n",
    "    for c in dataset.columns:\n",
    "        for r in dataset.index:\n",
    "            test_result = grangercausalitytests(X_train[[r,c]], maxlag=maxlag, verbose=False)\n",
    "            p_values = [round(test_result[i+1][0][test][1],4) for i in range(maxlag)]\n",
    "            if verbose: print(f'Y = {r}, X = {c}, P Values = {p_values}')\n",
    "            min_p_value = np.min(p_values)\n",
    "            dataset.loc[r,c] = min_p_value\n",
    "    dataset.columns = [var + '_x' for var in variables]\n",
    "    dataset.index = [var + '_y' for var in variables]\n",
    "    return dataset"
   ],
   "metadata": {
    "collapsed": false,
    "pycharm": {
     "name": "#%%\n",
     "is_executing": false
    }
   }
  },
  {
   "cell_type": "code",
   "execution_count": 124,
   "outputs": [],
   "source": [
    "# perform granger causality test each on each based on df_train_log_diff\n",
    "granger_causality_matrix = grangers_causality_matrix(df_train_log_diff[1:], variables = df_train_log_diff.columns)\n",
    "granger_causality_matrix.round(4)"
   ],
   "metadata": {
    "collapsed": false,
    "pycharm": {
     "name": "#%%\n",
     "is_executing": false
    }
   }
  },
  {
   "cell_type": "code",
   "execution_count": 125,
   "outputs": [],
   "source": [
    "# plot granger causality matrix as latex table\n",
    "print(tabulate(granger_causality_matrix, headers=granger_causality_matrix.columns, showindex=True, tablefmt=\"latex\"))"
   ],
   "metadata": {
    "collapsed": false,
    "pycharm": {
     "name": "#%%\n",
     "is_executing": false
    }
   }
  },
  {
   "cell_type": "code",
   "execution_count": 89,
   "outputs": [],
   "source": [
    "# plot granger causality matrix as heatmap\n",
    "ax = sns.heatmap(granger_causality_matrix, xticklabels=granger_causality_matrix.columns.values, yticklabels=granger_causality_matrix.index.values,\n",
    "                 annot=True, annot_kws={'size':7}, vmin=0, vmax=1, cmap=\"YlGnBu_r\")\n",
    "bottom, top = ax.get_ylim()\n",
    "ax.set_ylim(bottom + 0.5, top - 0.5)\n",
    "fig_6 = plt.gcf()\n",
    "fig_6.set_size_inches(9.5,4.15)\n",
    "plt.tick_params(axis='both', which='major', labelsize=7, labelbottom = False, bottom=False, top = False, labeltop=True)\n",
    "plt.xticks(fontsize=7, rotation=45)\n",
    "plt.yticks(fontsize=7)"
   ],
   "metadata": {
    "collapsed": false,
    "pycharm": {
     "name": "#%%\n",
     "is_executing": false
    }
   }
  },
  {
   "cell_type": "code",
   "execution_count": 13,
   "outputs": [],
   "source": [
    "# Initiiere VAR-Modell\n",
    "from statsmodels.tsa.vector_ar.var_model import VAR\n",
    "# Order selection\n",
    "var_model = VAR(endog=df_train_log_diff[1:])\n",
    "var_order_res = var_model.select_order(15).summary()\n",
    "res_as_html = var_order_res.as_html()\n",
    "df_var_order = pd.read_html(res_as_html, header=0, index_col=0)[0]\n",
    "df_var_order"
   ],
   "metadata": {
    "collapsed": false,
    "pycharm": {
     "name": "#%%\n",
     "is_executing": false
    }
   }
  },
  {
   "cell_type": "code",
   "execution_count": 131,
   "outputs": [],
   "source": [
    "# plot df_var_order as latex table\n",
    "print(tabulate(df_var_order, headers=df_var_order.columns, showindex=True, tablefmt=\"latex\"))"
   ],
   "metadata": {
    "collapsed": false,
    "pycharm": {
     "name": "#%%\n",
     "is_executing": false
    }
   }
  },
  {
   "cell_type": "code",
   "execution_count": 28,
   "outputs": [
    {
     "name": "stderr",
     "text": [
      "C:\\Users\\joche\\Anaconda3\\lib\\site-packages\\statsmodels\\tsa\\base\\tsa_model.py:583: ValueWarning: A date index has been provided, but it has no associated frequency information and so will be ignored when e.g. forecasting.\n  ' ignored when e.g. forecasting.', ValueWarning)\n"
     ],
     "output_type": "stream"
    },
    {
     "data": {
      "text/plain": "  Summary of Regression Results   \n==================================\nModel:                         VAR\nMethod:                        OLS\nDate:           Sat, 05, Sep, 2020\nTime:                     16:21:09\n--------------------------------------------------------------------\nNo. of Equations:         12.0000    BIC:                   -91.7375\nNobs:                     883.000    HQIC:                  -94.1867\nLog likelihood:           27949.7    FPE:                2.74113e-42\nAIC:                     -95.7028    Det(Omega_mle):     1.22969e-42\n--------------------------------------------------------------------\nResults for equation btc_log_diff\n=========================================================================================\n                            coefficient       std. error           t-stat            prob\n-----------------------------------------------------------------------------------------\nconst                          0.001063         0.003756            0.283           0.777\nL1.btc_log_diff                0.011233         0.039179            0.287           0.774\nL1.tot_btc_log_diff          -10.535739         8.332801           -1.264           0.206\nL1.hs_rate_log_diff            0.154880         0.092997            1.665           0.096\nL1.eth_log_diff               -0.010463         0.022999           -0.455           0.649\nL1.ggl_trends_log_diff         0.030715         0.022554            1.362           0.173\nL1.wiki_views_log_diff        -0.010936         0.009705           -1.127           0.260\nL1.usd_eur_log_diff           -0.291642         0.344159           -0.847           0.397\nL1.oil_wti_log_diff           -0.057077         0.075051           -0.761           0.447\nL1.gold_log_diff              -0.064697         0.228312           -0.283           0.777\nL1.sp500_log_diff              0.362927         0.206871            1.754           0.079\nL1.sse_log_diff               -0.105338         0.133106           -0.791           0.429\nL1.ffd_rate_log_diff          -0.015781         0.023299           -0.677           0.498\nL2.btc_log_diff               -0.005614         0.039135           -0.143           0.886\nL2.tot_btc_log_diff            0.208377         8.128596            0.026           0.980\nL2.hs_rate_log_diff           -0.022837         0.095400           -0.239           0.811\nL2.eth_log_diff                0.032282         0.022741            1.420           0.156\nL2.ggl_trends_log_diff         0.055298         0.022579            2.449           0.014\nL2.wiki_views_log_diff        -0.005580         0.010133           -0.551           0.582\nL2.usd_eur_log_diff            0.463790         0.348973            1.329           0.184\nL2.oil_wti_log_diff           -0.028737         0.074849           -0.384           0.701\nL2.gold_log_diff              -0.196933         0.227400           -0.866           0.386\nL2.sp500_log_diff              0.173097         0.216777            0.799           0.425\nL2.sse_log_diff                0.006974         0.133602            0.052           0.958\nL2.ffd_rate_log_diff          -0.015321         0.026139           -0.586           0.558\nL3.btc_log_diff                0.043961         0.039664            1.108           0.268\nL3.tot_btc_log_diff           11.474082         8.121501            1.413           0.158\nL3.hs_rate_log_diff           -0.123853         0.095074           -1.303           0.193\nL3.eth_log_diff               -0.018456         0.022791           -0.810           0.418\nL3.ggl_trends_log_diff         0.037954         0.022851            1.661           0.097\nL3.wiki_views_log_diff        -0.014062         0.010249           -1.372           0.170\nL3.usd_eur_log_diff           -0.278530         0.348085           -0.800           0.424\nL3.oil_wti_log_diff            0.092576         0.075214            1.231           0.218\nL3.gold_log_diff               0.294085         0.225928            1.302           0.193\nL3.sp500_log_diff             -0.116656         0.214646           -0.543           0.587\nL3.sse_log_diff               -0.062904         0.132493           -0.475           0.635\nL3.ffd_rate_log_diff          -0.006191         0.026260           -0.236           0.814\nL4.btc_log_diff                0.032543         0.040085            0.812           0.417\nL4.tot_btc_log_diff           -3.925391         8.140425           -0.482           0.630\nL4.hs_rate_log_diff            0.162291         0.094756            1.713           0.087\nL4.eth_log_diff                0.007571         0.022634            0.334           0.738\nL4.ggl_trends_log_diff         0.046503         0.023230            2.002           0.045\nL4.wiki_views_log_diff         0.014579         0.010095            1.444           0.149\nL4.usd_eur_log_diff           -0.196919         0.348063           -0.566           0.572\nL4.oil_wti_log_diff            0.075088         0.075458            0.995           0.320\nL4.gold_log_diff              -0.242515         0.227402           -1.066           0.286\nL4.sp500_log_diff             -0.003468         0.215438           -0.016           0.987\nL4.sse_log_diff                0.096011         0.130144            0.738           0.461\nL4.ffd_rate_log_diff          -0.012357         0.025858           -0.478           0.633\nL5.btc_log_diff               -0.005141         0.039418           -0.130           0.896\nL5.tot_btc_log_diff           10.103143         8.229443            1.228           0.220\nL5.hs_rate_log_diff           -0.032652         0.091436           -0.357           0.721\nL5.eth_log_diff               -0.023243         0.019409           -1.198           0.231\nL5.ggl_trends_log_diff        -0.013870         0.023612           -0.587           0.557\nL5.wiki_views_log_diff         0.004210         0.009654            0.436           0.663\nL5.usd_eur_log_diff            0.107530         0.348723            0.308           0.758\nL5.oil_wti_log_diff           -0.043453         0.075834           -0.573           0.567\nL5.gold_log_diff              -0.292881         0.222611           -1.316           0.188\nL5.sp500_log_diff              0.097533         0.210417            0.464           0.643\nL5.sse_log_diff               -0.120237         0.123675           -0.972           0.331\nL5.ffd_rate_log_diff          -0.005358         0.023741           -0.226           0.821\n=========================================================================================\n\nResults for equation tot_btc_log_diff\n=========================================================================================\n                            coefficient       std. error           t-stat            prob\n-----------------------------------------------------------------------------------------\nconst                          0.000083         0.000015            5.395           0.000\nL1.btc_log_diff                0.000109         0.000161            0.680           0.496\nL1.tot_btc_log_diff           -0.056532         0.034244           -1.651           0.099\nL1.hs_rate_log_diff            0.000356         0.000382            0.933           0.351\nL1.eth_log_diff               -0.000089         0.000095           -0.942           0.346\nL1.ggl_trends_log_diff        -0.000087         0.000093           -0.940           0.347\nL1.wiki_views_log_diff        -0.000157         0.000040           -3.933           0.000\nL1.usd_eur_log_diff           -0.000122         0.001414           -0.086           0.931\nL1.oil_wti_log_diff            0.000249         0.000308            0.806           0.420\nL1.gold_log_diff              -0.000302         0.000938           -0.322           0.748\nL1.sp500_log_diff             -0.000401         0.000850           -0.471           0.637\nL1.sse_log_diff                0.000846         0.000547            1.546           0.122\nL1.ffd_rate_log_diff          -0.000467         0.000096           -4.873           0.000\nL2.btc_log_diff               -0.000072         0.000161           -0.451           0.652\nL2.tot_btc_log_diff            0.048485         0.033405            1.451           0.147\nL2.hs_rate_log_diff            0.000284         0.000392            0.725           0.468\nL2.eth_log_diff                0.000109         0.000093            1.171           0.241\nL2.ggl_trends_log_diff        -0.000051         0.000093           -0.545           0.586\nL2.wiki_views_log_diff        -0.000149         0.000042           -3.571           0.000\nL2.usd_eur_log_diff            0.003691         0.001434            2.574           0.010\nL2.oil_wti_log_diff            0.000077         0.000308            0.251           0.802\nL2.gold_log_diff              -0.000858         0.000935           -0.918           0.358\nL2.sp500_log_diff             -0.001971         0.000891           -2.213           0.027\nL2.sse_log_diff               -0.000323         0.000549           -0.589           0.556\nL2.ffd_rate_log_diff          -0.000175         0.000107           -1.629           0.103\nL3.btc_log_diff                0.000025         0.000163            0.156           0.876\nL3.tot_btc_log_diff            0.058388         0.033375            1.749           0.080\nL3.hs_rate_log_diff            0.000237         0.000391            0.607           0.544\nL3.eth_log_diff               -0.000015         0.000094           -0.159           0.874\nL3.ggl_trends_log_diff         0.000130         0.000094            1.380           0.168\nL3.wiki_views_log_diff        -0.000113         0.000042           -2.671           0.008\nL3.usd_eur_log_diff            0.001564         0.001430            1.093           0.274\nL3.oil_wti_log_diff            0.000861         0.000309            2.784           0.005\nL3.gold_log_diff              -0.000253         0.000928           -0.273           0.785\nL3.sp500_log_diff             -0.000355         0.000882           -0.403           0.687\nL3.sse_log_diff                0.000362         0.000544            0.665           0.506\nL3.ffd_rate_log_diff          -0.000139         0.000108           -1.291           0.197\nL4.btc_log_diff               -0.000182         0.000165           -1.103           0.270\nL4.tot_btc_log_diff            0.213640         0.033453            6.386           0.000\nL4.hs_rate_log_diff           -0.000149         0.000389           -0.381           0.703\nL4.eth_log_diff                0.000173         0.000093            1.856           0.063\nL4.ggl_trends_log_diff         0.000014         0.000095            0.148           0.882\nL4.wiki_views_log_diff        -0.000009         0.000041           -0.206           0.837\nL4.usd_eur_log_diff           -0.001339         0.001430           -0.936           0.349\nL4.oil_wti_log_diff           -0.000142         0.000310           -0.458           0.647\nL4.gold_log_diff              -0.000432         0.000935           -0.462           0.644\nL4.sp500_log_diff              0.000214         0.000885            0.241           0.809\nL4.sse_log_diff                0.000674         0.000535            1.261           0.207\nL4.ffd_rate_log_diff          -0.000091         0.000106           -0.858           0.391\nL5.btc_log_diff                0.000085         0.000162            0.526           0.599\nL5.tot_btc_log_diff            0.383099         0.033819           11.328           0.000\nL5.hs_rate_log_diff           -0.000288         0.000376           -0.768           0.443\nL5.eth_log_diff               -0.000204         0.000080           -2.553           0.011\nL5.ggl_trends_log_diff         0.000320         0.000097            3.294           0.001\nL5.wiki_views_log_diff        -0.000140         0.000040           -3.538           0.000\nL5.usd_eur_log_diff            0.002852         0.001433            1.990           0.047\nL5.oil_wti_log_diff           -0.000477         0.000312           -1.530           0.126\nL5.gold_log_diff              -0.001351         0.000915           -1.477           0.140\nL5.sp500_log_diff             -0.001195         0.000865           -1.381           0.167\nL5.sse_log_diff               -0.000687         0.000508           -1.353           0.176\nL5.ffd_rate_log_diff           0.000083         0.000098            0.851           0.395\n=========================================================================================\n\nResults for equation hs_rate_log_diff\n=========================================================================================\n                            coefficient       std. error           t-stat            prob\n-----------------------------------------------------------------------------------------\nconst                          0.005095         0.001469            3.469           0.001\nL1.btc_log_diff                0.024071         0.015320            1.571           0.116\nL1.tot_btc_log_diff          -12.281848         3.258323           -3.769           0.000\nL1.hs_rate_log_diff            0.300130         0.036364            8.254           0.000\nL1.eth_log_diff               -0.015517         0.008993           -1.725           0.084\nL1.ggl_trends_log_diff        -0.007385         0.008819           -0.837           0.402\nL1.wiki_views_log_diff        -0.005295         0.003795           -1.395           0.163\nL1.usd_eur_log_diff            0.163534         0.134574            1.215           0.224\nL1.oil_wti_log_diff            0.043827         0.029347            1.493           0.135\nL1.gold_log_diff               0.015795         0.089275            0.177           0.860\nL1.sp500_log_diff             -0.044627         0.080891           -0.552           0.581\nL1.sse_log_diff               -0.022106         0.052047           -0.425           0.671\nL1.ffd_rate_log_diff          -0.001453         0.009110           -0.160           0.873\nL2.btc_log_diff                0.035905         0.015303            2.346           0.019\nL2.tot_btc_log_diff           -2.240741         3.178474           -0.705           0.481\nL2.hs_rate_log_diff            0.069240         0.037304            1.856           0.063\nL2.eth_log_diff               -0.005138         0.008892           -0.578           0.563\nL2.ggl_trends_log_diff        -0.008921         0.008829           -1.010           0.312\nL2.wiki_views_log_diff        -0.006096         0.003962           -1.538           0.124\nL2.usd_eur_log_diff            0.369203         0.136457            2.706           0.007\nL2.oil_wti_log_diff            0.008016         0.029268            0.274           0.784\nL2.gold_log_diff              -0.119440         0.088919           -1.343           0.179\nL2.sp500_log_diff              0.034097         0.084765            0.402           0.687\nL2.sse_log_diff               -0.046593         0.052242           -0.892           0.372\nL2.ffd_rate_log_diff           0.003455         0.010221            0.338           0.735\nL3.btc_log_diff                0.012985         0.015510            0.837           0.402\nL3.tot_btc_log_diff            0.935075         3.175699            0.294           0.768\nL3.hs_rate_log_diff           -0.029310         0.037176           -0.788           0.430\nL3.eth_log_diff               -0.001545         0.008912           -0.173           0.862\nL3.ggl_trends_log_diff        -0.015261         0.008935           -1.708           0.088\nL3.wiki_views_log_diff        -0.000885         0.004008           -0.221           0.825\nL3.usd_eur_log_diff           -0.003387         0.136109           -0.025           0.980\nL3.oil_wti_log_diff            0.030288         0.029410            1.030           0.303\nL3.gold_log_diff               0.087819         0.088343            0.994           0.320\nL3.sp500_log_diff              0.090863         0.083932            1.083           0.279\nL3.sse_log_diff               -0.037313         0.051808           -0.720           0.471\nL3.ffd_rate_log_diff           0.003131         0.010268            0.305           0.760\nL4.btc_log_diff               -0.010544         0.015674           -0.673           0.501\nL4.tot_btc_log_diff            2.514299         3.183099            0.790           0.430\nL4.hs_rate_log_diff           -0.134306         0.037052           -3.625           0.000\nL4.eth_log_diff                0.011387         0.008850            1.287           0.198\nL4.ggl_trends_log_diff         0.000429         0.009083            0.047           0.962\nL4.wiki_views_log_diff        -0.001760         0.003947           -0.446           0.656\nL4.usd_eur_log_diff            0.171003         0.136101            1.256           0.209\nL4.oil_wti_log_diff           -0.069137         0.029506           -2.343           0.019\nL4.gold_log_diff               0.201450         0.088919            2.266           0.023\nL4.sp500_log_diff              0.001688         0.084241            0.020           0.984\nL4.sse_log_diff                0.033012         0.050889            0.649           0.517\nL4.ffd_rate_log_diff           0.001741         0.010111            0.172           0.863\nL5.btc_log_diff                0.000054         0.015413            0.004           0.997\nL5.tot_btc_log_diff            9.394327         3.217907            2.919           0.004\nL5.hs_rate_log_diff           -0.096530         0.035754           -2.700           0.007\nL5.eth_log_diff                0.006171         0.007590            0.813           0.416\nL5.ggl_trends_log_diff         0.021641         0.009233            2.344           0.019\nL5.wiki_views_log_diff        -0.000315         0.003775           -0.084           0.933\nL5.usd_eur_log_diff           -0.004099         0.136359           -0.030           0.976\nL5.oil_wti_log_diff           -0.010386         0.029653           -0.350           0.726\nL5.gold_log_diff               0.058082         0.087046            0.667           0.505\nL5.sp500_log_diff             -0.106641         0.082278           -1.296           0.195\nL5.sse_log_diff               -0.016031         0.048360           -0.331           0.740\nL5.ffd_rate_log_diff           0.007247         0.009283            0.781           0.435\n=========================================================================================\n\nResults for equation eth_log_diff\n=========================================================================================\n                            coefficient       std. error           t-stat            prob\n-----------------------------------------------------------------------------------------\nconst                          0.002625         0.006329            0.415           0.678\nL1.btc_log_diff               -0.160716         0.066009           -2.435           0.015\nL1.tot_btc_log_diff          -14.034205        14.039221           -1.000           0.317\nL1.hs_rate_log_diff            0.158710         0.156682            1.013           0.311\nL1.eth_log_diff                0.085300         0.038750            2.201           0.028\nL1.ggl_trends_log_diff         0.010269         0.037998            0.270           0.787\nL1.wiki_views_log_diff        -0.003261         0.016352           -0.199           0.842\nL1.usd_eur_log_diff           -0.638610         0.579843           -1.101           0.271\nL1.oil_wti_log_diff           -0.011838         0.126447           -0.094           0.925\nL1.gold_log_diff               0.264440         0.384663            0.687           0.492\nL1.sp500_log_diff              0.131135         0.348539            0.376           0.707\nL1.sse_log_diff               -0.111569         0.224258           -0.498           0.619\nL1.ffd_rate_log_diff          -0.012903         0.039254           -0.329           0.742\nL2.btc_log_diff                0.064309         0.065936            0.975           0.329\nL2.tot_btc_log_diff            5.918675        13.695173            0.432           0.666\nL2.hs_rate_log_diff            0.115036         0.160732            0.716           0.474\nL2.eth_log_diff               -0.029246         0.038314           -0.763           0.445\nL2.ggl_trends_log_diff         0.039185         0.038041            1.030           0.303\nL2.wiki_views_log_diff        -0.015949         0.017073           -0.934           0.350\nL2.usd_eur_log_diff            0.443167         0.587955            0.754           0.451\nL2.oil_wti_log_diff           -0.075354         0.126106           -0.598           0.550\nL2.gold_log_diff               0.083224         0.383127            0.217           0.828\nL2.sp500_log_diff              0.408132         0.365228            1.117           0.264\nL2.sse_log_diff                0.225318         0.225095            1.001           0.317\nL2.ffd_rate_log_diff          -0.026552         0.044039           -0.603           0.547\nL3.btc_log_diff                0.103291         0.066826            1.546           0.122\nL3.tot_btc_log_diff          -10.928980        13.683219           -0.799           0.424\nL3.hs_rate_log_diff            0.107777         0.160182            0.673           0.501\nL3.eth_log_diff                0.052940         0.038398            1.379           0.168\nL3.ggl_trends_log_diff         0.047271         0.038500            1.228           0.220\nL3.wiki_views_log_diff        -0.014734         0.017267           -0.853           0.393\nL3.usd_eur_log_diff           -0.381538         0.586458           -0.651           0.515\nL3.oil_wti_log_diff           -0.069659         0.126721           -0.550           0.583\nL3.gold_log_diff               0.537012         0.380647            1.411           0.158\nL3.sp500_log_diff             -0.259684         0.361638           -0.718           0.473\nL3.sse_log_diff               -0.076723         0.223227           -0.344           0.731\nL3.ffd_rate_log_diff          -0.006162         0.044244           -0.139           0.889\nL4.btc_log_diff                0.050686         0.067536            0.751           0.453\nL4.tot_btc_log_diff           11.979075        13.715103            0.873           0.382\nL4.hs_rate_log_diff           -0.029710         0.159645           -0.186           0.852\nL4.eth_log_diff               -0.026216         0.038134           -0.687           0.492\nL4.ggl_trends_log_diff        -0.023483         0.039138           -0.600           0.549\nL4.wiki_views_log_diff         0.024901         0.017008            1.464           0.143\nL4.usd_eur_log_diff           -0.081363         0.586422           -0.139           0.890\nL4.oil_wti_log_diff            0.027716         0.127133            0.218           0.827\nL4.gold_log_diff               0.174200         0.383130            0.455           0.649\nL4.sp500_log_diff             -0.227144         0.362973           -0.626           0.531\nL4.sse_log_diff                0.219670         0.219268            1.002           0.316\nL4.ffd_rate_log_diff          -0.012944         0.043566           -0.297           0.766\nL5.btc_log_diff               -0.129957         0.066412           -1.957           0.050\nL5.tot_btc_log_diff            1.504347        13.865082            0.108           0.914\nL5.hs_rate_log_diff            0.259867         0.154053            1.687           0.092\nL5.eth_log_diff                0.089993         0.032701            2.752           0.006\nL5.ggl_trends_log_diff         0.039753         0.039782            0.999           0.318\nL5.wiki_views_log_diff         0.015282         0.016265            0.940           0.347\nL5.usd_eur_log_diff            0.399007         0.587534            0.679           0.497\nL5.oil_wti_log_diff           -0.106672         0.127767           -0.835           0.404\nL5.gold_log_diff              -0.547587         0.375058           -1.460           0.144\nL5.sp500_log_diff             -0.064468         0.354513           -0.182           0.856\nL5.sse_log_diff               -0.575909         0.208370           -2.764           0.006\nL5.ffd_rate_log_diff           0.016082         0.040000            0.402           0.688\n=========================================================================================\n\nResults for equation ggl_trends_log_diff\n=========================================================================================\n                            coefficient       std. error           t-stat            prob\n-----------------------------------------------------------------------------------------\nconst                         -0.002054         0.005748           -0.357           0.721\nL1.btc_log_diff                0.023398         0.059951            0.390           0.696\nL1.tot_btc_log_diff          -15.431202        12.750813           -1.210           0.226\nL1.hs_rate_log_diff            0.114260         0.142303            0.803           0.422\nL1.eth_log_diff               -0.006542         0.035193           -0.186           0.853\nL1.ggl_trends_log_diff         0.062969         0.034511            1.825           0.068\nL1.wiki_views_log_diff        -0.011885         0.014851           -0.800           0.424\nL1.usd_eur_log_diff            0.386924         0.526630            0.735           0.463\nL1.oil_wti_log_diff            0.080968         0.114842            0.705           0.481\nL1.gold_log_diff               0.036672         0.349362            0.105           0.916\nL1.sp500_log_diff             -0.033202         0.316553           -0.105           0.916\nL1.sse_log_diff               -0.280520         0.203678           -1.377           0.168\nL1.ffd_rate_log_diff          -0.040024         0.035652           -1.123           0.262\nL2.btc_log_diff                0.086915         0.059885            1.451           0.147\nL2.tot_btc_log_diff           -7.544799        12.438339           -0.607           0.544\nL2.hs_rate_log_diff            0.141064         0.145981            0.966           0.334\nL2.eth_log_diff                0.045303         0.034798            1.302           0.193\nL2.ggl_trends_log_diff         0.056924         0.034550            1.648           0.099\nL2.wiki_views_log_diff        -0.021460         0.015506           -1.384           0.166\nL2.usd_eur_log_diff            0.236710         0.533997            0.443           0.658\nL2.oil_wti_log_diff           -0.012817         0.114533           -0.112           0.911\nL2.gold_log_diff              -0.175333         0.347967           -0.504           0.614\nL2.sp500_log_diff              0.609533         0.331711            1.838           0.066\nL2.sse_log_diff               -0.436724         0.204438           -2.136           0.033\nL2.ffd_rate_log_diff           0.003672         0.039997            0.092           0.927\nL3.btc_log_diff                0.053375         0.060694            0.879           0.379\nL3.tot_btc_log_diff            0.673416        12.427482            0.054           0.957\nL3.hs_rate_log_diff           -0.058216         0.145482           -0.400           0.689\nL3.eth_log_diff                0.017519         0.034875            0.502           0.615\nL3.ggl_trends_log_diff         0.061286         0.034967            1.753           0.080\nL3.wiki_views_log_diff         0.017153         0.015683            1.094           0.274\nL3.usd_eur_log_diff           -0.672083         0.532638           -1.262           0.207\nL3.oil_wti_log_diff           -0.082978         0.115091           -0.721           0.471\nL3.gold_log_diff               0.343190         0.345714            0.993           0.321\nL3.sp500_log_diff              0.622639         0.328450            1.896           0.058\nL3.sse_log_diff               -0.291081         0.202741           -1.436           0.151\nL3.ffd_rate_log_diff          -0.035688         0.040183           -0.888           0.374\nL4.btc_log_diff                0.066673         0.061338            1.087           0.277\nL4.tot_btc_log_diff            6.533867        12.456440            0.525           0.600\nL4.hs_rate_log_diff            0.126527         0.144994            0.873           0.383\nL4.eth_log_diff               -0.029229         0.034635           -0.844           0.399\nL4.ggl_trends_log_diff         0.068991         0.035546            1.941           0.052\nL4.wiki_views_log_diff         0.020200         0.015447            1.308           0.191\nL4.usd_eur_log_diff           -0.117158         0.532605           -0.220           0.826\nL4.oil_wti_log_diff           -0.191430         0.115466           -1.658           0.097\nL4.gold_log_diff              -0.353376         0.347969           -1.016           0.310\nL4.sp500_log_diff              0.278832         0.329662            0.846           0.398\nL4.sse_log_diff                0.027223         0.199145            0.137           0.891\nL4.ffd_rate_log_diff           0.057696         0.039568            1.458           0.145\nL5.btc_log_diff               -0.016644         0.060317           -0.276           0.783\nL5.tot_btc_log_diff           21.453203        12.592655            1.704           0.088\nL5.hs_rate_log_diff           -0.201968         0.139916           -1.444           0.149\nL5.eth_log_diff                0.025869         0.029700            0.871           0.384\nL5.ggl_trends_log_diff        -0.048540         0.036132           -1.343           0.179\nL5.wiki_views_log_diff         0.041288         0.014772            2.795           0.005\nL5.usd_eur_log_diff           -0.852551         0.533615           -1.598           0.110\nL5.oil_wti_log_diff           -0.117254         0.116041           -1.010           0.312\nL5.gold_log_diff              -0.741990         0.340638           -2.178           0.029\nL5.sp500_log_diff              0.914648         0.321979            2.841           0.005\nL5.sse_log_diff               -0.065669         0.189247           -0.347           0.729\nL5.ffd_rate_log_diff          -0.042779         0.036329           -1.178           0.239\n=========================================================================================\n\nResults for equation wiki_views_log_diff\n=========================================================================================\n                            coefficient       std. error           t-stat            prob\n-----------------------------------------------------------------------------------------\nconst                         -0.005774         0.013425           -0.430           0.667\nL1.btc_log_diff                0.186207         0.140017            1.330           0.184\nL1.tot_btc_log_diff            2.842456        29.779761            0.095           0.924\nL1.hs_rate_log_diff            0.408416         0.332351            1.229           0.219\nL1.eth_log_diff               -0.038554         0.082195           -0.469           0.639\nL1.ggl_trends_log_diff         0.180358         0.080602            2.238           0.025\nL1.wiki_views_log_diff        -0.376775         0.034685          -10.863           0.000\nL1.usd_eur_log_diff            1.334263         1.229954            1.085           0.278\nL1.oil_wti_log_diff            0.189873         0.268216            0.708           0.479\nL1.gold_log_diff              -0.041451         0.815941           -0.051           0.959\nL1.sp500_log_diff             -0.172896         0.739316           -0.234           0.815\nL1.sse_log_diff               -0.561012         0.475693           -1.179           0.238\nL1.ffd_rate_log_diff          -0.227107         0.083265           -2.728           0.006\nL2.btc_log_diff                0.254118         0.139862            1.817           0.069\nL2.tot_btc_log_diff           10.019619        29.049971            0.345           0.730\nL2.hs_rate_log_diff           -0.157978         0.340941           -0.463           0.643\nL2.eth_log_diff               -0.052780         0.081271           -0.649           0.516\nL2.ggl_trends_log_diff         0.331702         0.080691            4.111           0.000\nL2.wiki_views_log_diff        -0.322989         0.036215           -8.919           0.000\nL2.usd_eur_log_diff           -0.788598         1.247161           -0.632           0.527\nL2.oil_wti_log_diff           -0.781127         0.267494           -2.920           0.003\nL2.gold_log_diff               1.794408         0.812683            2.208           0.027\nL2.sp500_log_diff              0.510134         0.774716            0.658           0.510\nL2.sse_log_diff                0.515742         0.477468            1.080           0.280\nL2.ffd_rate_log_diff          -0.074748         0.093414           -0.800           0.424\nL3.btc_log_diff                0.078031         0.141751            0.550           0.582\nL3.tot_btc_log_diff          -20.604937        29.024615           -0.710           0.478\nL3.hs_rate_log_diff           -0.127224         0.339776           -0.374           0.708\nL3.eth_log_diff                0.002220         0.081450            0.027           0.978\nL3.ggl_trends_log_diff         0.258717         0.081666            3.168           0.002\nL3.wiki_views_log_diff        -0.297667         0.036627           -8.127           0.000\nL3.usd_eur_log_diff           -0.892762         1.243985           -0.718           0.473\nL3.oil_wti_log_diff           -0.325903         0.268798           -1.212           0.225\nL3.gold_log_diff               0.828287         0.807423            1.026           0.305\nL3.sp500_log_diff              1.570173         0.767100            2.047           0.041\nL3.sse_log_diff               -0.310025         0.473505           -0.655           0.513\nL3.ffd_rate_log_diff          -0.182982         0.093849           -1.950           0.051\nL4.btc_log_diff                0.098267         0.143256            0.686           0.493\nL4.tot_btc_log_diff            6.466629        29.092247            0.222           0.824\nL4.hs_rate_log_diff            0.004411         0.338637            0.013           0.990\nL4.eth_log_diff               -0.006448         0.080890           -0.080           0.936\nL4.ggl_trends_log_diff         0.307103         0.083018            3.699           0.000\nL4.wiki_views_log_diff        -0.208038         0.036078           -5.766           0.000\nL4.usd_eur_log_diff            0.518885         1.243908            0.417           0.677\nL4.oil_wti_log_diff            0.322380         0.269672            1.195           0.232\nL4.gold_log_diff              -0.563147         0.812688           -0.693           0.488\nL4.sp500_log_diff              0.248721         0.769933            0.323           0.747\nL4.sse_log_diff                0.003795         0.465108            0.008           0.993\nL4.ffd_rate_log_diff          -0.038537         0.092412           -0.417           0.677\nL5.btc_log_diff                0.174015         0.140871            1.235           0.217\nL5.tot_btc_log_diff            6.164083        29.410379            0.210           0.834\nL5.hs_rate_log_diff            0.051677         0.326775            0.158           0.874\nL5.eth_log_diff               -0.060237         0.069365           -0.868           0.385\nL5.ggl_trends_log_diff         0.379881         0.084386            4.502           0.000\nL5.wiki_views_log_diff        -0.075718         0.034500           -2.195           0.028\nL5.usd_eur_log_diff            1.159292         1.246267            0.930           0.352\nL5.oil_wti_log_diff            0.273702         0.271016            1.010           0.313\nL5.gold_log_diff              -1.305134         0.795567           -1.641           0.101\nL5.sp500_log_diff             -0.621737         0.751987           -0.827           0.408\nL5.sse_log_diff                0.400290         0.441991            0.906           0.365\nL5.ffd_rate_log_diff           0.019138         0.084847            0.226           0.822\n=========================================================================================\n\nResults for equation usd_eur_log_diff\n=========================================================================================\n                            coefficient       std. error           t-stat            prob\n-----------------------------------------------------------------------------------------\nconst                          0.000088         0.000398            0.222           0.825\nL1.btc_log_diff               -0.005776         0.004153           -1.391           0.164\nL1.tot_btc_log_diff            0.553180         0.883280            0.626           0.531\nL1.hs_rate_log_diff            0.002221         0.009858            0.225           0.822\nL1.eth_log_diff                0.002319         0.002438            0.951           0.341\nL1.ggl_trends_log_diff         0.003166         0.002391            1.324           0.185\nL1.wiki_views_log_diff         0.001162         0.001029            1.129           0.259\nL1.usd_eur_log_diff           -0.009051         0.036481           -0.248           0.804\nL1.oil_wti_log_diff            0.014618         0.007955            1.837           0.066\nL1.gold_log_diff              -0.001014         0.024201           -0.042           0.967\nL1.sp500_log_diff             -0.017522         0.021928           -0.799           0.424\nL1.sse_log_diff                0.019315         0.014109            1.369           0.171\nL1.ffd_rate_log_diff           0.002698         0.002470            1.092           0.275\nL2.btc_log_diff               -0.003213         0.004148           -0.774           0.439\nL2.tot_btc_log_diff           -0.537789         0.861634           -0.624           0.533\nL2.hs_rate_log_diff           -0.004909         0.010112           -0.485           0.627\nL2.eth_log_diff                0.004073         0.002411            1.690           0.091\nL2.ggl_trends_log_diff         0.002668         0.002393            1.115           0.265\nL2.wiki_views_log_diff         0.001385         0.001074            1.289           0.197\nL2.usd_eur_log_diff           -0.012246         0.036991           -0.331           0.741\nL2.oil_wti_log_diff           -0.005936         0.007934           -0.748           0.454\nL2.gold_log_diff               0.001933         0.024105            0.080           0.936\nL2.sp500_log_diff             -0.002999         0.022978           -0.130           0.896\nL2.sse_log_diff                0.004171         0.014162            0.295           0.768\nL2.ffd_rate_log_diff           0.007010         0.002771            2.530           0.011\nL3.btc_log_diff                0.005227         0.004204            1.243           0.214\nL3.tot_btc_log_diff            0.391482         0.860882            0.455           0.649\nL3.hs_rate_log_diff            0.003733         0.010078            0.370           0.711\nL3.eth_log_diff               -0.003018         0.002416           -1.249           0.212\nL3.ggl_trends_log_diff        -0.004380         0.002422           -1.808           0.071\nL3.wiki_views_log_diff         0.000104         0.001086            0.096           0.924\nL3.usd_eur_log_diff           -0.042623         0.036897           -1.155           0.248\nL3.oil_wti_log_diff           -0.011775         0.007973           -1.477           0.140\nL3.gold_log_diff               0.026726         0.023948            1.116           0.264\nL3.sp500_log_diff              0.012394         0.022753            0.545           0.586\nL3.sse_log_diff                0.008720         0.014044            0.621           0.535\nL3.ffd_rate_log_diff          -0.001760         0.002784           -0.632           0.527\nL4.btc_log_diff                0.000950         0.004249            0.224           0.823\nL4.tot_btc_log_diff           -0.276106         0.862888           -0.320           0.749\nL4.hs_rate_log_diff           -0.013321         0.010044           -1.326           0.185\nL4.eth_log_diff                0.001019         0.002399            0.425           0.671\nL4.ggl_trends_log_diff        -0.003815         0.002462           -1.549           0.121\nL4.wiki_views_log_diff         0.001677         0.001070            1.567           0.117\nL4.usd_eur_log_diff           -0.044466         0.036895           -1.205           0.228\nL4.oil_wti_log_diff            0.008837         0.007999            1.105           0.269\nL4.gold_log_diff              -0.014227         0.024105           -0.590           0.555\nL4.sp500_log_diff             -0.016586         0.022837           -0.726           0.468\nL4.sse_log_diff               -0.025507         0.013795           -1.849           0.064\nL4.ffd_rate_log_diff          -0.005656         0.002741           -2.063           0.039\nL5.btc_log_diff               -0.002999         0.004178           -0.718           0.473\nL5.tot_btc_log_diff           -0.250103         0.872324           -0.287           0.774\nL5.hs_rate_log_diff            0.006897         0.009692            0.712           0.477\nL5.eth_log_diff               -0.001278         0.002057           -0.621           0.535\nL5.ggl_trends_log_diff         0.000607         0.002503            0.242           0.808\nL5.wiki_views_log_diff         0.000780         0.001023            0.762           0.446\nL5.usd_eur_log_diff           -0.050992         0.036965           -1.379           0.168\nL5.oil_wti_log_diff           -0.014155         0.008038           -1.761           0.078\nL5.gold_log_diff               0.043900         0.023597            1.860           0.063\nL5.sp500_log_diff             -0.001340         0.022304           -0.060           0.952\nL5.sse_log_diff                0.010235         0.013110            0.781           0.435\nL5.ffd_rate_log_diff          -0.000616         0.002517           -0.245           0.807\n=========================================================================================\n\nResults for equation oil_wti_log_diff\n=========================================================================================\n                            coefficient       std. error           t-stat            prob\n-----------------------------------------------------------------------------------------\nconst                         -0.000050         0.001811           -0.028           0.978\nL1.btc_log_diff                0.024530         0.018884            1.299           0.194\nL1.tot_btc_log_diff            6.933129         4.016348            1.726           0.084\nL1.hs_rate_log_diff            0.015352         0.044824            0.343           0.732\nL1.eth_log_diff               -0.002618         0.011086           -0.236           0.813\nL1.ggl_trends_log_diff         0.006717         0.010871            0.618           0.537\nL1.wiki_views_log_diff        -0.001377         0.004678           -0.294           0.768\nL1.usd_eur_log_diff           -0.219427         0.165882           -1.323           0.186\nL1.oil_wti_log_diff           -0.041216         0.036174           -1.139           0.255\nL1.gold_log_diff               0.018265         0.110045            0.166           0.868\nL1.sp500_log_diff              0.270274         0.099710            2.711           0.007\nL1.sse_log_diff               -0.026993         0.064156           -0.421           0.674\nL1.ffd_rate_log_diff          -0.012071         0.011230           -1.075           0.282\nL2.btc_log_diff                0.007702         0.018863            0.408           0.683\nL2.tot_btc_log_diff           -4.625036         3.917923           -1.180           0.238\nL2.hs_rate_log_diff            0.007307         0.045982            0.159           0.874\nL2.eth_log_diff                0.015151         0.010961            1.382           0.167\nL2.ggl_trends_log_diff         0.012721         0.010883            1.169           0.242\nL2.wiki_views_log_diff         0.003327         0.004884            0.681           0.496\nL2.usd_eur_log_diff           -0.208550         0.168203           -1.240           0.215\nL2.oil_wti_log_diff           -0.036235         0.036076           -1.004           0.315\nL2.gold_log_diff               0.148397         0.109605            1.354           0.176\nL2.sp500_log_diff              0.029735         0.104485            0.285           0.776\nL2.sse_log_diff                0.000801         0.064395            0.012           0.990\nL2.ffd_rate_log_diff           0.006086         0.012599            0.483           0.629\nL3.btc_log_diff                0.016309         0.019118            0.853           0.394\nL3.tot_btc_log_diff           -1.147237         3.914503           -0.293           0.769\nL3.hs_rate_log_diff            0.023402         0.045825            0.511           0.610\nL3.eth_log_diff               -0.032749         0.010985           -2.981           0.003\nL3.ggl_trends_log_diff         0.017800         0.011014            1.616           0.106\nL3.wiki_views_log_diff         0.001945         0.004940            0.394           0.694\nL3.usd_eur_log_diff           -0.122356         0.167774           -0.729           0.466\nL3.oil_wti_log_diff           -0.034952         0.036252           -0.964           0.335\nL3.gold_log_diff              -0.088915         0.108896           -0.817           0.414\nL3.sp500_log_diff              0.138390         0.103458            1.338           0.181\nL3.sse_log_diff                0.087544         0.063861            1.371           0.170\nL3.ffd_rate_log_diff           0.007148         0.012657            0.565           0.572\nL4.btc_log_diff               -0.019176         0.019321           -0.993           0.321\nL4.tot_btc_log_diff            0.372045         3.923624            0.095           0.924\nL4.hs_rate_log_diff            0.010785         0.045671            0.236           0.813\nL4.eth_log_diff                0.030903         0.010909            2.833           0.005\nL4.ggl_trends_log_diff        -0.025298         0.011196           -2.259           0.024\nL4.wiki_views_log_diff         0.005801         0.004866            1.192           0.233\nL4.usd_eur_log_diff            0.343519         0.167764            2.048           0.041\nL4.oil_wti_log_diff            0.066991         0.036370            1.842           0.065\nL4.gold_log_diff              -0.064142         0.109606           -0.585           0.558\nL4.sp500_log_diff             -0.104248         0.103840           -1.004           0.315\nL4.sse_log_diff               -0.052078         0.062728           -0.830           0.406\nL4.ffd_rate_log_diff           0.010805         0.012463            0.867           0.386\nL5.btc_log_diff                0.011516         0.018999            0.606           0.544\nL5.tot_btc_log_diff           -2.239118         3.966530           -0.565           0.572\nL5.hs_rate_log_diff           -0.023148         0.044072           -0.525           0.599\nL5.eth_log_diff                0.006916         0.009355            0.739           0.460\nL5.ggl_trends_log_diff        -0.030271         0.011381           -2.660           0.008\nL5.wiki_views_log_diff        -0.001260         0.004653           -0.271           0.787\nL5.usd_eur_log_diff           -0.205810         0.168082           -1.224           0.221\nL5.oil_wti_log_diff            0.091156         0.036552            2.494           0.013\nL5.gold_log_diff               0.043685         0.107297            0.407           0.684\nL5.sp500_log_diff             -0.191518         0.101419           -1.888           0.059\nL5.sse_log_diff               -0.175974         0.059611           -2.952           0.003\nL5.ffd_rate_log_diff           0.001175         0.011443            0.103           0.918\n=========================================================================================\n\nResults for equation gold_log_diff\n=========================================================================================\n                            coefficient       std. error           t-stat            prob\n-----------------------------------------------------------------------------------------\nconst                         -0.000935         0.000606           -1.545           0.122\nL1.btc_log_diff               -0.006674         0.006316           -1.057           0.291\nL1.tot_btc_log_diff            1.423613         1.343241            1.060           0.289\nL1.hs_rate_log_diff           -0.001113         0.014991           -0.074           0.941\nL1.eth_log_diff                0.003504         0.003707            0.945           0.345\nL1.ggl_trends_log_diff        -0.000471         0.003636           -0.130           0.897\nL1.wiki_views_log_diff        -0.001685         0.001565           -1.077           0.282\nL1.usd_eur_log_diff            0.308803         0.055478            5.566           0.000\nL1.oil_wti_log_diff            0.022929         0.012098            1.895           0.058\nL1.gold_log_diff              -0.040225         0.036804           -1.093           0.274\nL1.sp500_log_diff             -0.075618         0.033347           -2.268           0.023\nL1.sse_log_diff                0.035732         0.021457            1.665           0.096\nL1.ffd_rate_log_diff           0.000809         0.003756            0.215           0.830\nL2.btc_log_diff                0.004106         0.006309            0.651           0.515\nL2.tot_btc_log_diff           -0.110666         1.310324           -0.084           0.933\nL2.hs_rate_log_diff           -0.012974         0.015378           -0.844           0.399\nL2.eth_log_diff                0.000192         0.003666            0.052           0.958\nL2.ggl_trends_log_diff         0.005467         0.003640            1.502           0.133\nL2.wiki_views_log_diff        -0.000662         0.001633           -0.405           0.685\nL2.usd_eur_log_diff            0.036174         0.056254            0.643           0.520\nL2.oil_wti_log_diff           -0.001287         0.012066           -0.107           0.915\nL2.gold_log_diff              -0.057878         0.036657           -1.579           0.114\nL2.sp500_log_diff              0.008768         0.034944            0.251           0.802\nL2.sse_log_diff                0.011481         0.021537            0.533           0.594\nL2.ffd_rate_log_diff           0.002608         0.004214            0.619           0.536\nL3.btc_log_diff               -0.011910         0.006394           -1.863           0.063\nL3.tot_btc_log_diff            2.016346         1.309180            1.540           0.124\nL3.hs_rate_log_diff           -0.001609         0.015326           -0.105           0.916\nL3.eth_log_diff                0.007418         0.003674            2.019           0.043\nL3.ggl_trends_log_diff         0.000275         0.003684            0.075           0.940\nL3.wiki_views_log_diff        -0.002693         0.001652           -1.630           0.103\nL3.usd_eur_log_diff           -0.007988         0.056111           -0.142           0.887\nL3.oil_wti_log_diff           -0.019683         0.012124           -1.623           0.104\nL3.gold_log_diff               0.088018         0.036419            2.417           0.016\nL3.sp500_log_diff             -0.011572         0.034601           -0.334           0.738\nL3.sse_log_diff               -0.000860         0.021358           -0.040           0.968\nL3.ffd_rate_log_diff           0.004175         0.004233            0.986           0.324\nL4.btc_log_diff                0.001374         0.006462            0.213           0.832\nL4.tot_btc_log_diff            1.260120         1.312231            0.960           0.337\nL4.hs_rate_log_diff           -0.021877         0.015275           -1.432           0.152\nL4.eth_log_diff               -0.002887         0.003649           -0.791           0.429\nL4.ggl_trends_log_diff         0.007117         0.003745            1.901           0.057\nL4.wiki_views_log_diff        -0.002595         0.001627           -1.595           0.111\nL4.usd_eur_log_diff           -0.021363         0.056108           -0.381           0.703\nL4.oil_wti_log_diff            0.005815         0.012164            0.478           0.633\nL4.gold_log_diff               0.016872         0.036657            0.460           0.645\nL4.sp500_log_diff              0.022632         0.034728            0.652           0.515\nL4.sse_log_diff                0.003369         0.020979            0.161           0.872\nL4.ffd_rate_log_diff          -0.003092         0.004168           -0.742           0.458\nL5.btc_log_diff                0.005736         0.006354            0.903           0.367\nL5.tot_btc_log_diff            1.348493         1.326580            1.017           0.309\nL5.hs_rate_log_diff            0.006470         0.014739            0.439           0.661\nL5.eth_log_diff               -0.004633         0.003129           -1.481           0.139\nL5.ggl_trends_log_diff        -0.001859         0.003806           -0.489           0.625\nL5.wiki_views_log_diff        -0.001097         0.001556           -0.705           0.481\nL5.usd_eur_log_diff            0.012077         0.056214            0.215           0.830\nL5.oil_wti_log_diff           -0.011431         0.012224           -0.935           0.350\nL5.gold_log_diff              -0.035690         0.035885           -0.995           0.320\nL5.sp500_log_diff             -0.015804         0.033919           -0.466           0.641\nL5.sse_log_diff               -0.018672         0.019936           -0.937           0.349\nL5.ffd_rate_log_diff          -0.000807         0.003827           -0.211           0.833\n=========================================================================================\n\nResults for equation sp500_log_diff\n=========================================================================================\n                            coefficient       std. error           t-stat            prob\n-----------------------------------------------------------------------------------------\nconst                          0.000186         0.000676            0.275           0.783\nL1.btc_log_diff                0.007279         0.007053            1.032           0.302\nL1.tot_btc_log_diff            0.675097         1.500037            0.450           0.653\nL1.hs_rate_log_diff            0.024843         0.016741            1.484           0.138\nL1.eth_log_diff                0.003016         0.004140            0.728           0.466\nL1.ggl_trends_log_diff        -0.004781         0.004060           -1.178           0.239\nL1.wiki_views_log_diff        -0.000231         0.001747           -0.132           0.895\nL1.usd_eur_log_diff            0.053895         0.061954            0.870           0.384\nL1.oil_wti_log_diff            0.002257         0.013510            0.167           0.867\nL1.gold_log_diff              -0.065977         0.041100           -1.605           0.108\nL1.sp500_log_diff              0.013636         0.037240            0.366           0.714\nL1.sse_log_diff               -0.020280         0.023961           -0.846           0.397\nL1.ffd_rate_log_diff          -0.014202         0.004194           -3.386           0.001\nL2.btc_log_diff               -0.000418         0.007045           -0.059           0.953\nL2.tot_btc_log_diff            0.175642         1.463277            0.120           0.904\nL2.hs_rate_log_diff           -0.010491         0.017174           -0.611           0.541\nL2.eth_log_diff               -0.002821         0.004094           -0.689           0.491\nL2.ggl_trends_log_diff        -0.006009         0.004065           -1.478           0.139\nL2.wiki_views_log_diff        -0.002863         0.001824           -1.569           0.117\nL2.usd_eur_log_diff           -0.029881         0.062821           -0.476           0.634\nL2.oil_wti_log_diff           -0.018424         0.013474           -1.367           0.172\nL2.gold_log_diff               0.016073         0.040936            0.393           0.695\nL2.sp500_log_diff             -0.028318         0.039023           -0.726           0.468\nL2.sse_log_diff                0.011767         0.024051            0.489           0.625\nL2.ffd_rate_log_diff          -0.002295         0.004705           -0.488           0.626\nL3.btc_log_diff                0.019352         0.007140            2.710           0.007\nL3.tot_btc_log_diff            0.547134         1.462000            0.374           0.708\nL3.hs_rate_log_diff           -0.006149         0.017115           -0.359           0.719\nL3.eth_log_diff               -0.005810         0.004103           -1.416           0.157\nL3.ggl_trends_log_diff         0.011671         0.004114            2.837           0.005\nL3.wiki_views_log_diff        -0.004853         0.001845           -2.630           0.009\nL3.usd_eur_log_diff           -0.012359         0.062661           -0.197           0.844\nL3.oil_wti_log_diff            0.002618         0.013540            0.193           0.847\nL3.gold_log_diff               0.009365         0.040671            0.230           0.818\nL3.sp500_log_diff             -0.029038         0.038640           -0.752           0.452\nL3.sse_log_diff               -0.022002         0.023851           -0.922           0.356\nL3.ffd_rate_log_diff          -0.001227         0.004727           -0.260           0.795\nL4.btc_log_diff               -0.009085         0.007216           -1.259           0.208\nL4.tot_btc_log_diff           -0.807146         1.465407           -0.551           0.582\nL4.hs_rate_log_diff            0.027834         0.017058            1.632           0.103\nL4.eth_log_diff                0.009873         0.004074            2.423           0.015\nL4.ggl_trends_log_diff        -0.004091         0.004182           -0.978           0.328\nL4.wiki_views_log_diff        -0.000189         0.001817           -0.104           0.917\nL4.usd_eur_log_diff            0.118810         0.062657            1.896           0.058\nL4.oil_wti_log_diff           -0.015256         0.013584           -1.123           0.261\nL4.gold_log_diff               0.059406         0.040936            1.451           0.147\nL4.sp500_log_diff              0.040306         0.038782            1.039           0.299\nL4.sse_log_diff                0.050406         0.023428            2.152           0.031\nL4.ffd_rate_log_diff           0.004041         0.004655            0.868           0.385\nL5.btc_log_diff                0.012730         0.007096            1.794           0.073\nL5.tot_btc_log_diff           -0.594648         1.481431           -0.401           0.688\nL5.hs_rate_log_diff           -0.017234         0.016460           -1.047           0.295\nL5.eth_log_diff                0.001147         0.003494            0.328           0.743\nL5.ggl_trends_log_diff        -0.000796         0.004251           -0.187           0.851\nL5.wiki_views_log_diff        -0.000161         0.001738           -0.093           0.926\nL5.usd_eur_log_diff           -0.076133         0.062776           -1.213           0.225\nL5.oil_wti_log_diff           -0.003174         0.013651           -0.233           0.816\nL5.gold_log_diff               0.059861         0.040074            1.494           0.135\nL5.sp500_log_diff             -0.020955         0.037878           -0.553           0.580\nL5.sse_log_diff               -0.019155         0.022264           -0.860           0.390\nL5.ffd_rate_log_diff          -0.001502         0.004274           -0.351           0.725\n=========================================================================================\n\nResults for equation sse_log_diff\n=========================================================================================\n                            coefficient       std. error           t-stat            prob\n-----------------------------------------------------------------------------------------\nconst                         -0.000204         0.001001           -0.204           0.839\nL1.btc_log_diff               -0.000722         0.010445           -0.069           0.945\nL1.tot_btc_log_diff            1.214852         2.221432            0.547           0.584\nL1.hs_rate_log_diff           -0.019730         0.024792           -0.796           0.426\nL1.eth_log_diff                0.004053         0.006131            0.661           0.509\nL1.ggl_trends_log_diff         0.001887         0.006013            0.314           0.754\nL1.wiki_views_log_diff         0.002455         0.002587            0.949           0.343\nL1.usd_eur_log_diff           -0.062559         0.091749           -0.682           0.495\nL1.oil_wti_log_diff            0.020717         0.020008            1.035           0.300\nL1.gold_log_diff              -0.004381         0.060865           -0.072           0.943\nL1.sp500_log_diff              0.531492         0.055150            9.637           0.000\nL1.sse_log_diff               -0.097833         0.035484           -2.757           0.006\nL1.ffd_rate_log_diff           0.008766         0.006211            1.411           0.158\nL2.btc_log_diff                0.020524         0.010433            1.967           0.049\nL2.tot_btc_log_diff           -2.834063         2.166993           -1.308           0.191\nL2.hs_rate_log_diff           -0.022876         0.025433           -0.899           0.368\nL2.eth_log_diff               -0.012528         0.006062           -2.066           0.039\nL2.ggl_trends_log_diff        -0.005412         0.006019           -0.899           0.369\nL2.wiki_views_log_diff         0.002198         0.002701            0.814           0.416\nL2.usd_eur_log_diff           -0.090518         0.093032           -0.973           0.331\nL2.oil_wti_log_diff           -0.010014         0.019954           -0.502           0.616\nL2.gold_log_diff              -0.009029         0.060622           -0.149           0.882\nL2.sp500_log_diff              0.071990         0.057790            1.246           0.213\nL2.sse_log_diff                0.064135         0.035617            1.801           0.072\nL2.ffd_rate_log_diff           0.011145         0.006968            1.599           0.110\nL3.btc_log_diff                0.033754         0.010574            3.192           0.001\nL3.tot_btc_log_diff           -1.550419         2.165101           -0.716           0.474\nL3.hs_rate_log_diff            0.008601         0.025346            0.339           0.734\nL3.eth_log_diff               -0.020567         0.006076           -3.385           0.001\nL3.ggl_trends_log_diff         0.003139         0.006092            0.515           0.606\nL3.wiki_views_log_diff        -0.001474         0.002732           -0.540           0.590\nL3.usd_eur_log_diff            0.166689         0.092795            1.796           0.072\nL3.oil_wti_log_diff            0.001227         0.020051            0.061           0.951\nL3.gold_log_diff              -0.065780         0.060230           -1.092           0.275\nL3.sp500_log_diff              0.115894         0.057222            2.025           0.043\nL3.sse_log_diff               -0.024825         0.035321           -0.703           0.482\nL3.ffd_rate_log_diff          -0.012432         0.007001           -1.776           0.076\nL4.btc_log_diff               -0.002455         0.010686           -0.230           0.818\nL4.tot_btc_log_diff           -0.791788         2.170146           -0.365           0.715\nL4.hs_rate_log_diff           -0.014187         0.025261           -0.562           0.574\nL4.eth_log_diff                0.010102         0.006034            1.674           0.094\nL4.ggl_trends_log_diff        -0.013154         0.006193           -2.124           0.034\nL4.wiki_views_log_diff        -0.000748         0.002691           -0.278           0.781\nL4.usd_eur_log_diff            0.134213         0.092790            1.446           0.148\nL4.oil_wti_log_diff            0.012488         0.020116            0.621           0.535\nL4.gold_log_diff              -0.055153         0.060623           -0.910           0.363\nL4.sp500_log_diff              0.101821         0.057433            1.773           0.076\nL4.sse_log_diff               -0.020277         0.034695           -0.584           0.559\nL4.ffd_rate_log_diff           0.006094         0.006894            0.884           0.377\nL5.btc_log_diff                0.029127         0.010508            2.772           0.006\nL5.tot_btc_log_diff            2.087461         2.193877            0.951           0.341\nL5.hs_rate_log_diff            0.016406         0.024376            0.673           0.501\nL5.eth_log_diff               -0.012241         0.005174           -2.366           0.018\nL5.ggl_trends_log_diff         0.002296         0.006295            0.365           0.715\nL5.wiki_views_log_diff        -0.005022         0.002574           -1.951           0.051\nL5.usd_eur_log_diff           -0.059485         0.092966           -0.640           0.522\nL5.oil_wti_log_diff            0.016746         0.020217            0.828           0.407\nL5.gold_log_diff               0.062103         0.059346            1.046           0.295\nL5.sp500_log_diff              0.026764         0.056095            0.477           0.633\nL5.sse_log_diff               -0.075756         0.032970           -2.298           0.022\nL5.ffd_rate_log_diff          -0.005734         0.006329           -0.906           0.365\n=========================================================================================\n\nResults for equation ffd_rate_log_diff\n=========================================================================================\n                            coefficient       std. error           t-stat            prob\n-----------------------------------------------------------------------------------------\nconst                         -0.001090         0.005563           -0.196           0.845\nL1.btc_log_diff                0.012419         0.058017            0.214           0.831\nL1.tot_btc_log_diff            6.418980        12.339520            0.520           0.603\nL1.hs_rate_log_diff            0.055053         0.137713            0.400           0.689\nL1.eth_log_diff               -0.036184         0.034058           -1.062           0.288\nL1.ggl_trends_log_diff         0.032907         0.033398            0.985           0.324\nL1.wiki_views_log_diff        -0.025863         0.014372           -1.800           0.072\nL1.usd_eur_log_diff           -0.199989         0.509643           -0.392           0.695\nL1.oil_wti_log_diff           -0.141950         0.111138           -1.277           0.202\nL1.gold_log_diff               0.129323         0.338093            0.383           0.702\nL1.sp500_log_diff              0.067265         0.306342            0.220           0.826\nL1.sse_log_diff                0.395114         0.197108            2.005           0.045\nL1.ffd_rate_log_diff          -0.487194         0.034502          -14.121           0.000\nL2.btc_log_diff                0.009539         0.057953            0.165           0.869\nL2.tot_btc_log_diff          -20.920570        12.037124           -1.738           0.082\nL2.hs_rate_log_diff           -0.147367         0.141272           -1.043           0.297\nL2.eth_log_diff                0.023813         0.033676            0.707           0.479\nL2.ggl_trends_log_diff        -0.043508         0.033435           -1.301           0.193\nL2.wiki_views_log_diff        -0.030436         0.015006           -2.028           0.043\nL2.usd_eur_log_diff           -0.396885         0.516773           -0.768           0.442\nL2.oil_wti_log_diff           -0.321609         0.110839           -2.902           0.004\nL2.gold_log_diff              -0.191784         0.336743           -0.570           0.569\nL2.sp500_log_diff             -0.154952         0.321011           -0.483           0.629\nL2.sse_log_diff                0.260787         0.197843            1.318           0.187\nL2.ffd_rate_log_diff          -0.240529         0.038707           -6.214           0.000\nL3.btc_log_diff               -0.073667         0.058736           -1.254           0.210\nL3.tot_btc_log_diff           33.205302        12.026618            2.761           0.006\nL3.hs_rate_log_diff            0.166990         0.140789            1.186           0.236\nL3.eth_log_diff                0.082048         0.033750            2.431           0.015\nL3.ggl_trends_log_diff         0.021849         0.033839            0.646           0.518\nL3.wiki_views_log_diff        -0.046951         0.015177           -3.094           0.002\nL3.usd_eur_log_diff            0.288931         0.515457            0.561           0.575\nL3.oil_wti_log_diff            0.121515         0.111379            1.091           0.275\nL3.gold_log_diff              -0.343202         0.334563           -1.026           0.305\nL3.sp500_log_diff             -0.248469         0.317855           -0.782           0.434\nL3.sse_log_diff                0.153442         0.196201            0.782           0.434\nL3.ffd_rate_log_diff          -0.118518         0.038887           -3.048           0.002\nL4.btc_log_diff                0.024528         0.059359            0.413           0.679\nL4.tot_btc_log_diff           -8.451649        12.054642           -0.701           0.483\nL4.hs_rate_log_diff            0.070831         0.140317            0.505           0.614\nL4.eth_log_diff                0.034184         0.033517            1.020           0.308\nL4.ggl_trends_log_diff         0.060184         0.034399            1.750           0.080\nL4.wiki_views_log_diff        -0.054569         0.014949           -3.650           0.000\nL4.usd_eur_log_diff            1.035600         0.515425            2.009           0.045\nL4.oil_wti_log_diff            0.124500         0.111741            1.114           0.265\nL4.gold_log_diff              -0.530641         0.336745           -1.576           0.115\nL4.sp500_log_diff             -0.079365         0.319029           -0.249           0.804\nL4.sse_log_diff               -0.028507         0.192722           -0.148           0.882\nL4.ffd_rate_log_diff          -0.023870         0.038292           -0.623           0.533\nL5.btc_log_diff                0.055090         0.058371            0.944           0.345\nL5.tot_btc_log_diff           17.703450        12.186463            1.453           0.146\nL5.hs_rate_log_diff           -0.022087         0.135402           -0.163           0.870\nL5.eth_log_diff                0.014338         0.028742            0.499           0.618\nL5.ggl_trends_log_diff         0.031225         0.034966            0.893           0.372\nL5.wiki_views_log_diff        -0.066947         0.014296           -4.683           0.000\nL5.usd_eur_log_diff            0.123073         0.516402            0.238           0.812\nL5.oil_wti_log_diff            0.002596         0.112298            0.023           0.982\nL5.gold_log_diff              -0.607631         0.329651           -1.843           0.065\nL5.sp500_log_diff             -0.514814         0.311593           -1.652           0.098\nL5.sse_log_diff               -0.161185         0.183143           -0.880           0.379\nL5.ffd_rate_log_diff          -0.028076         0.035157           -0.799           0.425\n=========================================================================================\n\nCorrelation matrix of residuals\n                       btc_log_diff  tot_btc_log_diff  hs_rate_log_diff  eth_log_diff  ggl_trends_log_diff  wiki_views_log_diff  usd_eur_log_diff  oil_wti_log_diff  gold_log_diff  sp500_log_diff  sse_log_diff  ffd_rate_log_diff\nbtc_log_diff               1.000000          0.104268          0.072003      0.450318             0.038280             0.057372          0.001065         -0.018179       0.052576        0.010738      0.006786          -0.031578\ntot_btc_log_diff           0.104268          1.000000          0.304008      0.106771             0.026919             0.112671         -0.037761         -0.101360       0.081479       -0.026240      0.034982           0.047162\nhs_rate_log_diff           0.072003          0.304008          1.000000      0.084595            -0.007960             0.024508         -0.002082         -0.031731       0.041942       -0.048644     -0.009040          -0.011638\neth_log_diff               0.450318          0.106771          0.084595      1.000000            -0.017677             0.027930         -0.016898         -0.051609       0.111002        0.049025      0.059349          -0.041515\nggl_trends_log_diff        0.038280          0.026919         -0.007960     -0.017677             1.000000             0.077014          0.033745         -0.074380       0.025312       -0.074535     -0.024140          -0.019144\nwiki_views_log_diff        0.057372          0.112671          0.024508      0.027930             0.077014             1.000000          0.027512         -0.044743       0.011702       -0.054890     -0.016861           0.010509\nusd_eur_log_diff           0.001065         -0.037761         -0.002082     -0.016898             0.033745             0.027512          1.000000          0.045454       0.297030       -0.024927     -0.039385          -0.018023\noil_wti_log_diff          -0.018179         -0.101360         -0.031731     -0.051609            -0.074380            -0.044743          0.045454          1.000000      -0.004710        0.287701      0.077465          -0.052195\ngold_log_diff              0.052576          0.081479          0.041942      0.111002             0.025312             0.011702          0.297030         -0.004710       1.000000       -0.018014     -0.000486           0.022809\nsp500_log_diff             0.010738         -0.026240         -0.048644      0.049025            -0.074535            -0.054890         -0.024927          0.287701      -0.018014        1.000000      0.219982          -0.057395\nsse_log_diff               0.006786          0.034982         -0.009040      0.059349            -0.024140            -0.016861         -0.039385          0.077465      -0.000486        0.219982      1.000000           0.010483\nffd_rate_log_diff         -0.031578          0.047162         -0.011638     -0.041515            -0.019144             0.010509         -0.018023         -0.052195       0.022809       -0.057395      0.010483           1.000000\n\n"
     },
     "metadata": {},
     "output_type": "execute_result",
     "execution_count": 28
    }
   ],
   "source": [
    "# fit VAR model\n",
    "var_model = VAR(endog=df_train_log_diff[1:])\n",
    "var_fitted = var_model.fit(maxlags = 5)\n",
    "var_fitted.summary()"
   ],
   "metadata": {
    "collapsed": false,
    "pycharm": {
     "name": "#%%\n",
     "is_executing": false
    }
   }
  },
  {
   "cell_type": "code",
   "execution_count": 148,
   "outputs": [],
   "source": [
    "# transform var_fitted into data frame\n",
    "# code taken from: https://stackoverflow.com/questions/51734180/converting-statsmodels-summary-object-to-pandas-dataframe\n",
    "def results_summary_to_dataframe(results):\n",
    "    '''take the result of an statsmodel results table and transforms it into a dataframe'''\n",
    "    pvals = results.pvalues\n",
    "    coeff = results.params\n",
    "    conf_lower = results.conf_int()[0]\n",
    "    conf_higher = results.conf_int()[1]\n",
    "\n",
    "    results_df = pd.DataFrame({\"pvals\":pvals,\n",
    "                               \"coeff\":coeff,\n",
    "                               \"conf_lower\":conf_lower,\n",
    "                               \"conf_higher\":conf_higher\n",
    "                                })\n",
    "    #Reordering\n",
    "    results_df = results_df[[\"coeff\",\"pvals\",\"conf_lower\",\"conf_higher\"]]\n",
    "    return results_df"
   ],
   "metadata": {
    "collapsed": false,
    "pycharm": {
     "name": "#%%\n",
     "is_executing": false
    }
   }
  },
  {
   "cell_type": "code",
   "execution_count": 23,
   "outputs": [
    {
     "name": "stdout",
     "text": [
      "\\begin{tabular}{lrrrr}\n\\hline\n                        &   coefficient &   std.error &   t-stat &   prob \\\\\n\\hline\n const                  &        0.0011 &      0.0038 &    0.283 &  0.777 \\\\\n L1.btc\\_log\\_diff        &        0.0112 &      0.0392 &    0.287 &  0.774 \\\\\n L1.tot\\_btc\\_log\\_diff    &      -10.5357 &      8.3328 &   -1.264 &  0.206 \\\\\n L1.hs\\_rate\\_log\\_diff    &        0.1549 &      0.093  &    1.665 &  0.096 \\\\\n L1.eth\\_log\\_diff        &       -0.0105 &      0.023  &   -0.455 &  0.649 \\\\\n L1.ggl\\_trends\\_log\\_diff &        0.0307 &      0.0226 &    1.362 &  0.173 \\\\\n L1.wiki\\_views\\_log\\_diff &       -0.0109 &      0.0097 &   -1.127 &  0.26  \\\\\n L1.usd\\_eur\\_log\\_diff    &       -0.2916 &      0.3442 &   -0.847 &  0.397 \\\\\n L1.oil\\_wti\\_log\\_diff    &       -0.0571 &      0.0751 &   -0.761 &  0.447 \\\\\n L1.gold\\_log\\_diff       &       -0.0647 &      0.2283 &   -0.283 &  0.777 \\\\\n L1.sp500\\_log\\_diff      &        0.3629 &      0.2069 &    1.754 &  0.079 \\\\\n L1.sse\\_log\\_diff        &       -0.1053 &      0.1331 &   -0.791 &  0.429 \\\\\n L1.ffd\\_rate\\_log\\_diff   &       -0.0158 &      0.0233 &   -0.677 &  0.498 \\\\\n L2.btc\\_log\\_diff        &       -0.0056 &      0.0391 &   -0.143 &  0.886 \\\\\n L2.tot\\_btc\\_log\\_diff    &        0.2084 &      8.1286 &    0.026 &  0.98  \\\\\n L2.hs\\_rate\\_log\\_diff    &       -0.0228 &      0.0954 &   -0.239 &  0.811 \\\\\n L2.eth\\_log\\_diff        &        0.0323 &      0.0227 &    1.42  &  0.156 \\\\\n L2.ggl\\_trends\\_log\\_diff &        0.0553 &      0.0226 &    2.449 &  0.014 \\\\\n L2.wiki\\_views\\_log\\_diff &       -0.0056 &      0.0101 &   -0.551 &  0.582 \\\\\n L2.usd\\_eur\\_log\\_diff    &        0.4638 &      0.349  &    1.329 &  0.184 \\\\\n L2.oil\\_wti\\_log\\_diff    &       -0.0287 &      0.0748 &   -0.384 &  0.701 \\\\\n L2.gold\\_log\\_diff       &       -0.1969 &      0.2274 &   -0.866 &  0.386 \\\\\n L2.sp500\\_log\\_diff      &        0.1731 &      0.2168 &    0.799 &  0.425 \\\\\n L2.sse\\_log\\_diff        &        0.007  &      0.1336 &    0.052 &  0.958 \\\\\n L2.ffd\\_rate\\_log\\_diff   &       -0.0153 &      0.0261 &   -0.586 &  0.558 \\\\\n L3.btc\\_log\\_diff        &        0.044  &      0.0397 &    1.108 &  0.268 \\\\\n L3.tot\\_btc\\_log\\_diff    &       11.4741 &      8.1215 &    1.413 &  0.158 \\\\\n L3.hs\\_rate\\_log\\_diff    &       -0.1239 &      0.0951 &   -1.303 &  0.193 \\\\\n L3.eth\\_log\\_diff        &       -0.0185 &      0.0228 &   -0.81  &  0.418 \\\\\n L3.ggl\\_trends\\_log\\_diff &        0.038  &      0.0229 &    1.661 &  0.097 \\\\\n L3.wiki\\_views\\_log\\_diff &       -0.0141 &      0.0102 &   -1.372 &  0.17  \\\\\n L3.usd\\_eur\\_log\\_diff    &       -0.2785 &      0.3481 &   -0.8   &  0.424 \\\\\n L3.oil\\_wti\\_log\\_diff    &        0.0926 &      0.0752 &    1.231 &  0.218 \\\\\n L3.gold\\_log\\_diff       &        0.2941 &      0.2259 &    1.302 &  0.193 \\\\\n L3.sp500\\_log\\_diff      &       -0.1167 &      0.2146 &   -0.543 &  0.587 \\\\\n L3.sse\\_log\\_diff        &       -0.0629 &      0.1325 &   -0.475 &  0.635 \\\\\n L3.ffd\\_rate\\_log\\_diff   &       -0.0062 &      0.0263 &   -0.236 &  0.814 \\\\\n L4.btc\\_log\\_diff        &        0.0325 &      0.0401 &    0.812 &  0.417 \\\\\n L4.tot\\_btc\\_log\\_diff    &       -3.9254 &      8.1404 &   -0.482 &  0.63  \\\\\n L4.hs\\_rate\\_log\\_diff    &        0.1623 &      0.0948 &    1.713 &  0.087 \\\\\n L4.eth\\_log\\_diff        &        0.0076 &      0.0226 &    0.334 &  0.738 \\\\\n L4.ggl\\_trends\\_log\\_diff &        0.0465 &      0.0232 &    2.002 &  0.045 \\\\\n L4.wiki\\_views\\_log\\_diff &        0.0146 &      0.0101 &    1.444 &  0.149 \\\\\n L4.usd\\_eur\\_log\\_diff    &       -0.1969 &      0.3481 &   -0.566 &  0.572 \\\\\n L4.oil\\_wti\\_log\\_diff    &        0.0751 &      0.0755 &    0.995 &  0.32  \\\\\n L4.gold\\_log\\_diff       &       -0.2425 &      0.2274 &   -1.066 &  0.286 \\\\\n L4.sp500\\_log\\_diff      &       -0.0035 &      0.2154 &   -0.016 &  0.987 \\\\\n L4.sse\\_log\\_diff        &        0.096  &      0.1301 &    0.738 &  0.461 \\\\\n L4.ffd\\_rate\\_log\\_diff   &       -0.0124 &      0.0259 &   -0.478 &  0.633 \\\\\n L5.btc\\_log\\_diff        &       -0.0051 &      0.0394 &   -0.13  &  0.896 \\\\\n L5.tot\\_btc\\_log\\_diff    &       10.1031 &      8.2294 &    1.228 &  0.22  \\\\\n L5.hs\\_rate\\_log\\_diff    &       -0.0327 &      0.0914 &   -0.357 &  0.721 \\\\\n L5.eth\\_log\\_diff        &       -0.0232 &      0.0194 &   -1.198 &  0.231 \\\\\n L5.ggl\\_trends\\_log\\_diff &       -0.0139 &      0.0236 &   -0.587 &  0.557 \\\\\n L5.wiki\\_views\\_log\\_diff &        0.0042 &      0.0097 &    0.436 &  0.663 \\\\\n L5.usd\\_eur\\_log\\_diff    &        0.1075 &      0.3487 &    0.308 &  0.758 \\\\\n L5.oil\\_wti\\_log\\_diff    &       -0.0435 &      0.0758 &   -0.573 &  0.567 \\\\\n L5.gold\\_log\\_diff       &       -0.2929 &      0.2226 &   -1.316 &  0.188 \\\\\n L5.sp500\\_log\\_diff      &        0.0975 &      0.2104 &    0.464 &  0.643 \\\\\n L5.sse\\_log\\_diff        &       -0.1202 &      0.1237 &   -0.972 &  0.331 \\\\\n L5.ffd\\_rate\\_log\\_diff   &       -0.0054 &      0.0237 &   -0.226 &  0.821 \\\\\n\\hline\n\\end{tabular}\n"
     ],
     "output_type": "stream"
    }
   ],
   "source": [
    "# read var coefficients for btc from .txt file\n",
    "var_btc_coefficients = pd.read_csv(save_plot_to+'VAR_coefficients.txt', delimiter='\\s+', header=0)\n",
    "var_btc_coefficients.set_index(var_btc_coefficients.columns[0], inplace=True)\n",
    "\n",
    "# plot var_btc_coefficients as latex table\n",
    "print(tabulate(var_btc_coefficients.round(4), headers=var_btc_coefficients.columns, showindex=True, tablefmt=\"latex\"))"
   ],
   "metadata": {
    "collapsed": false,
    "pycharm": {
     "name": "#%%\n",
     "is_executing": false
    }
   }
  },
  {
   "cell_type": "code",
   "execution_count": 68,
   "outputs": [
    {
     "data": {
      "text/plain": "            btc_pred  tot_btc_pred  hs_rate_pred  eth_pred  ggl_trends_pred  \\\ndate                                                                          \n2019-07-02  0.002316      0.000160     -0.004694  0.005866        -0.030162   \n2019-07-03 -0.010462      0.000104     -0.002276  0.013481        -0.008773   \n2019-07-08 -0.009699      0.000191     -0.000052 -0.026731        -0.033723   \n2019-07-09 -0.006557      0.000237     -0.002195 -0.020945        -0.025351   \n2019-07-10  0.001899      0.000242      0.000157  0.002297         0.012449   \n...              ...           ...           ...       ...              ...   \n2020-06-18  0.004098      0.000231      0.005663  0.005752         0.002301   \n2020-06-19  0.004098      0.000231      0.005663  0.005752         0.002301   \n2020-06-22  0.004098      0.000231      0.005663  0.005752         0.002301   \n2020-06-23  0.004098      0.000231      0.005663  0.005752         0.002301   \n2020-06-24  0.004098      0.000231      0.005663  0.005752         0.002301   \n\n            wiki_views_pred  usd_eur_pred  oil_wti_pred  gold_pred  \\\ndate                                                                 \n2019-07-02        -0.014930      0.002244      0.018227  -0.000825   \n2019-07-03         0.011432     -0.000534     -0.008245   0.001935   \n2019-07-08        -0.049527      0.000266     -0.002345  -0.000444   \n2019-07-09        -0.040259     -0.000566      0.002509   0.000400   \n2019-07-10        -0.019038      0.000124     -0.001124   0.000010   \n...                     ...           ...           ...        ...   \n2020-06-18         0.000493      0.000021      0.000377   0.000241   \n2020-06-19         0.000493      0.000021      0.000377   0.000241   \n2020-06-22         0.000493      0.000021      0.000377   0.000241   \n2020-06-23         0.000493      0.000021      0.000377   0.000241   \n2020-06-24         0.000493      0.000021      0.000377   0.000241   \n\n            sp500_pred  sse_pred  ffd_rate_pred  \ndate                                             \n2019-07-02    0.000100  0.006029       0.023496  \n2019-07-03    0.002868  0.000919      -0.022657  \n2019-07-08   -0.005059 -0.003555       0.035934  \n2019-07-09    0.002426  0.002326       0.000584  \n2019-07-10   -0.003027 -0.003045       0.006693  \n...                ...       ...            ...  \n2020-06-18    0.000382 -0.000299       0.003159  \n2020-06-19    0.000382 -0.000299       0.003159  \n2020-06-22    0.000382 -0.000299       0.003159  \n2020-06-23    0.000382 -0.000299       0.003159  \n2020-06-24    0.000382 -0.000299       0.003159  \n\n[223 rows x 12 columns]",
      "text/html": "<div>\n<style scoped>\n    .dataframe tbody tr th:only-of-type {\n        vertical-align: middle;\n    }\n\n    .dataframe tbody tr th {\n        vertical-align: top;\n    }\n\n    .dataframe thead th {\n        text-align: right;\n    }\n</style>\n<table border=\"1\" class=\"dataframe\">\n  <thead>\n    <tr style=\"text-align: right;\">\n      <th></th>\n      <th>btc_pred</th>\n      <th>tot_btc_pred</th>\n      <th>hs_rate_pred</th>\n      <th>eth_pred</th>\n      <th>ggl_trends_pred</th>\n      <th>wiki_views_pred</th>\n      <th>usd_eur_pred</th>\n      <th>oil_wti_pred</th>\n      <th>gold_pred</th>\n      <th>sp500_pred</th>\n      <th>sse_pred</th>\n      <th>ffd_rate_pred</th>\n    </tr>\n    <tr>\n      <th>date</th>\n      <th></th>\n      <th></th>\n      <th></th>\n      <th></th>\n      <th></th>\n      <th></th>\n      <th></th>\n      <th></th>\n      <th></th>\n      <th></th>\n      <th></th>\n      <th></th>\n    </tr>\n  </thead>\n  <tbody>\n    <tr>\n      <td>2019-07-02</td>\n      <td>0.002316</td>\n      <td>0.000160</td>\n      <td>-0.004694</td>\n      <td>0.005866</td>\n      <td>-0.030162</td>\n      <td>-0.014930</td>\n      <td>0.002244</td>\n      <td>0.018227</td>\n      <td>-0.000825</td>\n      <td>0.000100</td>\n      <td>0.006029</td>\n      <td>0.023496</td>\n    </tr>\n    <tr>\n      <td>2019-07-03</td>\n      <td>-0.010462</td>\n      <td>0.000104</td>\n      <td>-0.002276</td>\n      <td>0.013481</td>\n      <td>-0.008773</td>\n      <td>0.011432</td>\n      <td>-0.000534</td>\n      <td>-0.008245</td>\n      <td>0.001935</td>\n      <td>0.002868</td>\n      <td>0.000919</td>\n      <td>-0.022657</td>\n    </tr>\n    <tr>\n      <td>2019-07-08</td>\n      <td>-0.009699</td>\n      <td>0.000191</td>\n      <td>-0.000052</td>\n      <td>-0.026731</td>\n      <td>-0.033723</td>\n      <td>-0.049527</td>\n      <td>0.000266</td>\n      <td>-0.002345</td>\n      <td>-0.000444</td>\n      <td>-0.005059</td>\n      <td>-0.003555</td>\n      <td>0.035934</td>\n    </tr>\n    <tr>\n      <td>2019-07-09</td>\n      <td>-0.006557</td>\n      <td>0.000237</td>\n      <td>-0.002195</td>\n      <td>-0.020945</td>\n      <td>-0.025351</td>\n      <td>-0.040259</td>\n      <td>-0.000566</td>\n      <td>0.002509</td>\n      <td>0.000400</td>\n      <td>0.002426</td>\n      <td>0.002326</td>\n      <td>0.000584</td>\n    </tr>\n    <tr>\n      <td>2019-07-10</td>\n      <td>0.001899</td>\n      <td>0.000242</td>\n      <td>0.000157</td>\n      <td>0.002297</td>\n      <td>0.012449</td>\n      <td>-0.019038</td>\n      <td>0.000124</td>\n      <td>-0.001124</td>\n      <td>0.000010</td>\n      <td>-0.003027</td>\n      <td>-0.003045</td>\n      <td>0.006693</td>\n    </tr>\n    <tr>\n      <td>...</td>\n      <td>...</td>\n      <td>...</td>\n      <td>...</td>\n      <td>...</td>\n      <td>...</td>\n      <td>...</td>\n      <td>...</td>\n      <td>...</td>\n      <td>...</td>\n      <td>...</td>\n      <td>...</td>\n      <td>...</td>\n    </tr>\n    <tr>\n      <td>2020-06-18</td>\n      <td>0.004098</td>\n      <td>0.000231</td>\n      <td>0.005663</td>\n      <td>0.005752</td>\n      <td>0.002301</td>\n      <td>0.000493</td>\n      <td>0.000021</td>\n      <td>0.000377</td>\n      <td>0.000241</td>\n      <td>0.000382</td>\n      <td>-0.000299</td>\n      <td>0.003159</td>\n    </tr>\n    <tr>\n      <td>2020-06-19</td>\n      <td>0.004098</td>\n      <td>0.000231</td>\n      <td>0.005663</td>\n      <td>0.005752</td>\n      <td>0.002301</td>\n      <td>0.000493</td>\n      <td>0.000021</td>\n      <td>0.000377</td>\n      <td>0.000241</td>\n      <td>0.000382</td>\n      <td>-0.000299</td>\n      <td>0.003159</td>\n    </tr>\n    <tr>\n      <td>2020-06-22</td>\n      <td>0.004098</td>\n      <td>0.000231</td>\n      <td>0.005663</td>\n      <td>0.005752</td>\n      <td>0.002301</td>\n      <td>0.000493</td>\n      <td>0.000021</td>\n      <td>0.000377</td>\n      <td>0.000241</td>\n      <td>0.000382</td>\n      <td>-0.000299</td>\n      <td>0.003159</td>\n    </tr>\n    <tr>\n      <td>2020-06-23</td>\n      <td>0.004098</td>\n      <td>0.000231</td>\n      <td>0.005663</td>\n      <td>0.005752</td>\n      <td>0.002301</td>\n      <td>0.000493</td>\n      <td>0.000021</td>\n      <td>0.000377</td>\n      <td>0.000241</td>\n      <td>0.000382</td>\n      <td>-0.000299</td>\n      <td>0.003159</td>\n    </tr>\n    <tr>\n      <td>2020-06-24</td>\n      <td>0.004098</td>\n      <td>0.000231</td>\n      <td>0.005663</td>\n      <td>0.005752</td>\n      <td>0.002301</td>\n      <td>0.000493</td>\n      <td>0.000021</td>\n      <td>0.000377</td>\n      <td>0.000241</td>\n      <td>0.000382</td>\n      <td>-0.000299</td>\n      <td>0.003159</td>\n    </tr>\n  </tbody>\n</table>\n<p>223 rows × 12 columns</p>\n</div>"
     },
     "metadata": {},
     "output_type": "execute_result",
     "execution_count": 68
    }
   ],
   "source": [
    "# forecast\n",
    "# get lag order\n",
    "lag_order = var_fitted.k_ar\n",
    "\n",
    "# input data\n",
    "input_data = df_train_log_diff.dropna().values[-lag_order:]\n",
    "\n",
    "# forecasting\n",
    "pred = var_fitted.forecast(y=input_data, steps=len(df_test))\n",
    "pred = pd.DataFrame(pred, index=df_test.index, columns=df_test.columns + '_pred')\n",
    "pred"
   ],
   "metadata": {
    "collapsed": false,
    "pycharm": {
     "name": "#%%\n",
     "is_executing": false
    }
   }
  },
  {
   "cell_type": "code",
   "execution_count": 88,
   "outputs": [
    {
     "data": {
      "text/plain": "date\n2019-07-02    0.002316\n2019-07-03   -0.010462\n2019-07-08   -0.009699\n2019-07-09   -0.006557\n2019-07-10    0.001899\n                ...   \n2020-06-18    0.004098\n2020-06-19    0.004098\n2020-06-22    0.004098\n2020-06-23    0.004098\n2020-06-24    0.004098\nName: btc_pred, Length: 223, dtype: float64"
     },
     "metadata": {},
     "output_type": "execute_result",
     "execution_count": 88
    }
   ],
   "source": [
    "# rolling forecast ?"
   ],
   "metadata": {
    "collapsed": false,
    "pycharm": {
     "name": "#%%\n",
     "is_executing": false
    }
   }
  },
  {
   "cell_type": "code",
   "execution_count": 84,
   "outputs": [
    {
     "data": {
      "text/plain": "                btc_pred  tot_btc_pred  hs_rate_pred    eth_pred  \\\ndate                                                               \n2019-07-02  10583.132316  1.779160e+07  5.985333e+07  293.645866   \n2019-07-03  10583.121854  1.779160e+07  5.985333e+07  293.659347   \n2019-07-08  10583.112155  1.779160e+07  5.985333e+07  293.632616   \n2019-07-09  10583.105598  1.779160e+07  5.985333e+07  293.611671   \n2019-07-10  10583.107497  1.779160e+07  5.985333e+07  293.613967   \n...                  ...           ...           ...         ...   \n2020-06-18  10583.964476  1.779160e+07  5.985334e+07  294.808491   \n2020-06-19  10583.968573  1.779160e+07  5.985334e+07  294.814243   \n2020-06-22  10583.972671  1.779160e+07  5.985334e+07  294.819995   \n2020-06-23  10583.976769  1.779160e+07  5.985334e+07  294.825747   \n2020-06-24  10583.980867  1.779160e+07  5.985334e+07  294.831499   \n\n            ggl_trends_pred  wiki_views_pred  usd_eur_pred  oil_wti_pred  \\\ndate                                                                       \n2019-07-02        16.969838     28985.985070      1.132944     58.928227   \n2019-07-03        16.961065     28985.996502      1.132410     58.919982   \n2019-07-08        16.927342     28985.946975      1.132676     58.917637   \n2019-07-09        16.901991     28985.906716      1.132109     58.920146   \n2019-07-10        16.914440     28985.887677      1.132233     58.919022   \n...                     ...              ...           ...           ...   \n2020-06-18        17.360364     28985.954647      1.136416     59.000144   \n2020-06-19        17.362665     28985.955140      1.136437     59.000521   \n2020-06-22        17.364966     28985.955632      1.136457     59.000898   \n2020-06-23        17.367267     28985.956125      1.136478     59.001275   \n2020-06-24        17.369568     28985.956617      1.136498     59.001653   \n\n              gold_pred   sp500_pred     sse_pred  ffd_rate_pred  \ndate                                                              \n2019-07-02  1390.049175  2964.330100  3044.906029       2.413496  \n2019-07-03  1390.051110  2964.332967  3044.906948       2.390840  \n2019-07-08  1390.050665  2964.327908  3044.903393       2.426773  \n2019-07-09  1390.051065  2964.330335  3044.905719       2.427358  \n2019-07-10  1390.051075  2964.327308  3044.902674       2.434051  \n...                 ...          ...          ...            ...  \n2020-06-18  1390.101316  2964.408720  3044.835871       3.101145  \n2020-06-19  1390.101558  2964.409102  3044.835572       3.104304  \n2020-06-22  1390.101799  2964.409484  3044.835274       3.107463  \n2020-06-23  1390.102041  2964.409867  3044.834975       3.110622  \n2020-06-24  1390.102282  2964.410249  3044.834676       3.113781  \n\n[223 rows x 12 columns]",
      "text/html": "<div>\n<style scoped>\n    .dataframe tbody tr th:only-of-type {\n        vertical-align: middle;\n    }\n\n    .dataframe tbody tr th {\n        vertical-align: top;\n    }\n\n    .dataframe thead th {\n        text-align: right;\n    }\n</style>\n<table border=\"1\" class=\"dataframe\">\n  <thead>\n    <tr style=\"text-align: right;\">\n      <th></th>\n      <th>btc_pred</th>\n      <th>tot_btc_pred</th>\n      <th>hs_rate_pred</th>\n      <th>eth_pred</th>\n      <th>ggl_trends_pred</th>\n      <th>wiki_views_pred</th>\n      <th>usd_eur_pred</th>\n      <th>oil_wti_pred</th>\n      <th>gold_pred</th>\n      <th>sp500_pred</th>\n      <th>sse_pred</th>\n      <th>ffd_rate_pred</th>\n    </tr>\n    <tr>\n      <th>date</th>\n      <th></th>\n      <th></th>\n      <th></th>\n      <th></th>\n      <th></th>\n      <th></th>\n      <th></th>\n      <th></th>\n      <th></th>\n      <th></th>\n      <th></th>\n      <th></th>\n    </tr>\n  </thead>\n  <tbody>\n    <tr>\n      <td>2019-07-02</td>\n      <td>10583.132316</td>\n      <td>1.779160e+07</td>\n      <td>5.985333e+07</td>\n      <td>293.645866</td>\n      <td>16.969838</td>\n      <td>28985.985070</td>\n      <td>1.132944</td>\n      <td>58.928227</td>\n      <td>1390.049175</td>\n      <td>2964.330100</td>\n      <td>3044.906029</td>\n      <td>2.413496</td>\n    </tr>\n    <tr>\n      <td>2019-07-03</td>\n      <td>10583.121854</td>\n      <td>1.779160e+07</td>\n      <td>5.985333e+07</td>\n      <td>293.659347</td>\n      <td>16.961065</td>\n      <td>28985.996502</td>\n      <td>1.132410</td>\n      <td>58.919982</td>\n      <td>1390.051110</td>\n      <td>2964.332967</td>\n      <td>3044.906948</td>\n      <td>2.390840</td>\n    </tr>\n    <tr>\n      <td>2019-07-08</td>\n      <td>10583.112155</td>\n      <td>1.779160e+07</td>\n      <td>5.985333e+07</td>\n      <td>293.632616</td>\n      <td>16.927342</td>\n      <td>28985.946975</td>\n      <td>1.132676</td>\n      <td>58.917637</td>\n      <td>1390.050665</td>\n      <td>2964.327908</td>\n      <td>3044.903393</td>\n      <td>2.426773</td>\n    </tr>\n    <tr>\n      <td>2019-07-09</td>\n      <td>10583.105598</td>\n      <td>1.779160e+07</td>\n      <td>5.985333e+07</td>\n      <td>293.611671</td>\n      <td>16.901991</td>\n      <td>28985.906716</td>\n      <td>1.132109</td>\n      <td>58.920146</td>\n      <td>1390.051065</td>\n      <td>2964.330335</td>\n      <td>3044.905719</td>\n      <td>2.427358</td>\n    </tr>\n    <tr>\n      <td>2019-07-10</td>\n      <td>10583.107497</td>\n      <td>1.779160e+07</td>\n      <td>5.985333e+07</td>\n      <td>293.613967</td>\n      <td>16.914440</td>\n      <td>28985.887677</td>\n      <td>1.132233</td>\n      <td>58.919022</td>\n      <td>1390.051075</td>\n      <td>2964.327308</td>\n      <td>3044.902674</td>\n      <td>2.434051</td>\n    </tr>\n    <tr>\n      <td>...</td>\n      <td>...</td>\n      <td>...</td>\n      <td>...</td>\n      <td>...</td>\n      <td>...</td>\n      <td>...</td>\n      <td>...</td>\n      <td>...</td>\n      <td>...</td>\n      <td>...</td>\n      <td>...</td>\n      <td>...</td>\n    </tr>\n    <tr>\n      <td>2020-06-18</td>\n      <td>10583.964476</td>\n      <td>1.779160e+07</td>\n      <td>5.985334e+07</td>\n      <td>294.808491</td>\n      <td>17.360364</td>\n      <td>28985.954647</td>\n      <td>1.136416</td>\n      <td>59.000144</td>\n      <td>1390.101316</td>\n      <td>2964.408720</td>\n      <td>3044.835871</td>\n      <td>3.101145</td>\n    </tr>\n    <tr>\n      <td>2020-06-19</td>\n      <td>10583.968573</td>\n      <td>1.779160e+07</td>\n      <td>5.985334e+07</td>\n      <td>294.814243</td>\n      <td>17.362665</td>\n      <td>28985.955140</td>\n      <td>1.136437</td>\n      <td>59.000521</td>\n      <td>1390.101558</td>\n      <td>2964.409102</td>\n      <td>3044.835572</td>\n      <td>3.104304</td>\n    </tr>\n    <tr>\n      <td>2020-06-22</td>\n      <td>10583.972671</td>\n      <td>1.779160e+07</td>\n      <td>5.985334e+07</td>\n      <td>294.819995</td>\n      <td>17.364966</td>\n      <td>28985.955632</td>\n      <td>1.136457</td>\n      <td>59.000898</td>\n      <td>1390.101799</td>\n      <td>2964.409484</td>\n      <td>3044.835274</td>\n      <td>3.107463</td>\n    </tr>\n    <tr>\n      <td>2020-06-23</td>\n      <td>10583.976769</td>\n      <td>1.779160e+07</td>\n      <td>5.985334e+07</td>\n      <td>294.825747</td>\n      <td>17.367267</td>\n      <td>28985.956125</td>\n      <td>1.136478</td>\n      <td>59.001275</td>\n      <td>1390.102041</td>\n      <td>2964.409867</td>\n      <td>3044.834975</td>\n      <td>3.110622</td>\n    </tr>\n    <tr>\n      <td>2020-06-24</td>\n      <td>10583.980867</td>\n      <td>1.779160e+07</td>\n      <td>5.985334e+07</td>\n      <td>294.831499</td>\n      <td>17.369568</td>\n      <td>28985.956617</td>\n      <td>1.136498</td>\n      <td>59.001653</td>\n      <td>1390.102282</td>\n      <td>2964.410249</td>\n      <td>3044.834676</td>\n      <td>3.113781</td>\n    </tr>\n  </tbody>\n</table>\n<p>223 rows × 12 columns</p>\n</div>"
     },
     "metadata": {},
     "output_type": "execute_result",
     "execution_count": 84
    }
   ],
   "source": [
    "# inverting transformation: df_train_log_diff -> df\n",
    "def invert_transformation(df_train, pred_df):\n",
    "    forecast = pred.copy()\n",
    "    columns = df_train.columns\n",
    "    for col in columns:\n",
    "        forecast[str(col)+'_pred'] = df_train[col].iloc[-1] + forecast[str(col)+'_pred'].cumsum()\n",
    "    return forecast\n",
    "\n",
    "output = invert_transformation(df_train[1:], pred)\n",
    "output\n",
    "\n",
    "#output_original = np.exp(output)"
   ],
   "metadata": {
    "collapsed": false,
    "pycharm": {
     "name": "#%%\n",
     "is_executing": false
    }
   }
  },
  {
   "cell_type": "code",
   "execution_count": 85,
   "outputs": [
    {
     "data": {
      "text/plain": "                btc_pred       btc\ndate                              \n2019-07-02  10583.132316  10801.68\n2019-07-03  10583.121854  11961.27\n2019-07-08  10583.112155  12285.96\n2019-07-09  10583.105598  12573.81\n2019-07-10  10583.107497  12156.51\n...                  ...       ...\n2020-06-18  10583.964476   9411.84\n2020-06-19  10583.968573   9288.02\n2020-06-22  10583.972671   9648.72\n2020-06-23  10583.976769   9629.66\n2020-06-24  10583.980867   9313.61\n\n[223 rows x 2 columns]",
      "text/html": "<div>\n<style scoped>\n    .dataframe tbody tr th:only-of-type {\n        vertical-align: middle;\n    }\n\n    .dataframe tbody tr th {\n        vertical-align: top;\n    }\n\n    .dataframe thead th {\n        text-align: right;\n    }\n</style>\n<table border=\"1\" class=\"dataframe\">\n  <thead>\n    <tr style=\"text-align: right;\">\n      <th></th>\n      <th>btc_pred</th>\n      <th>btc</th>\n    </tr>\n    <tr>\n      <th>date</th>\n      <th></th>\n      <th></th>\n    </tr>\n  </thead>\n  <tbody>\n    <tr>\n      <td>2019-07-02</td>\n      <td>10583.132316</td>\n      <td>10801.68</td>\n    </tr>\n    <tr>\n      <td>2019-07-03</td>\n      <td>10583.121854</td>\n      <td>11961.27</td>\n    </tr>\n    <tr>\n      <td>2019-07-08</td>\n      <td>10583.112155</td>\n      <td>12285.96</td>\n    </tr>\n    <tr>\n      <td>2019-07-09</td>\n      <td>10583.105598</td>\n      <td>12573.81</td>\n    </tr>\n    <tr>\n      <td>2019-07-10</td>\n      <td>10583.107497</td>\n      <td>12156.51</td>\n    </tr>\n    <tr>\n      <td>...</td>\n      <td>...</td>\n      <td>...</td>\n    </tr>\n    <tr>\n      <td>2020-06-18</td>\n      <td>10583.964476</td>\n      <td>9411.84</td>\n    </tr>\n    <tr>\n      <td>2020-06-19</td>\n      <td>10583.968573</td>\n      <td>9288.02</td>\n    </tr>\n    <tr>\n      <td>2020-06-22</td>\n      <td>10583.972671</td>\n      <td>9648.72</td>\n    </tr>\n    <tr>\n      <td>2020-06-23</td>\n      <td>10583.976769</td>\n      <td>9629.66</td>\n    </tr>\n    <tr>\n      <td>2020-06-24</td>\n      <td>10583.980867</td>\n      <td>9313.61</td>\n    </tr>\n  </tbody>\n</table>\n<p>223 rows × 2 columns</p>\n</div>"
     },
     "metadata": {},
     "output_type": "execute_result",
     "execution_count": 85
    }
   ],
   "source": [
    "# combine btc predicted vs. actuals\n",
    "combine = pd.concat([output['btc_pred'], df_test['btc']], axis=1)\n",
    "combine"
   ],
   "metadata": {
    "collapsed": false,
    "pycharm": {
     "name": "#%%\n",
     "is_executing": false
    }
   }
  },
  {
   "cell_type": "code",
   "execution_count": 86,
   "outputs": [
    {
     "data": {
      "text/plain": "<matplotlib.axes._subplots.AxesSubplot at 0x266de33cdc8>"
     },
     "metadata": {},
     "output_type": "execute_result",
     "execution_count": 86
    }
   ],
   "source": [
    "# plot\n",
    "combine.plot()\n"
   ],
   "metadata": {
    "collapsed": false,
    "pycharm": {
     "name": "#%%\n",
     "is_executing": false
    }
   }
  }
 ],
 "metadata": {
  "kernelspec": {
   "display_name": "Python 3",
   "language": "python",
   "name": "python3"
  },
  "language_info": {
   "codemirror_mode": {
    "name": "ipython",
    "version": 2
   },
   "file_extension": ".py",
   "mimetype": "text/x-python",
   "name": "python",
   "nbconvert_exporter": "python",
   "pygments_lexer": "ipython2",
   "version": "2.7.6"
  },
  "pycharm": {
   "stem_cell": {
    "cell_type": "raw",
    "source": [],
    "metadata": {
     "collapsed": false
    }
   }
  }
 },
 "nbformat": 4,
 "nbformat_minor": 0
}