{
 "cells": [
  {
   "cell_type": "code",
   "execution_count": 1,
   "outputs": [],
   "source": [
    "# set up imports\n",
    "import pandas as pd, numpy as np, seaborn as sns\n",
    "from tabulate import tabulate\n",
    "import statsmodels\n",
    "import arch\n",
    "import matplotlib\n",
    "matplotlib.use('qt5agg')\n",
    "\n",
    "# configure plot style\n",
    "import matplotlib.pyplot as plt\n",
    "plt.rcParams['mathtext.fontset'] = 'stix'\n",
    "plt.rcParams['font.family'] = 'STIXGeneral'\n",
    "plt.rcParams[\"figure.figsize\"] = (9.5,4.15)\n",
    "plt.rcParams['figure.constrained_layout.use'] = False\n",
    "plt.rcParams['figure.dpi'] = 100\n",
    "plt.rcParams['savefig.dpi'] = 100\n",
    "plt.rcParams['lines.linewidth'] = 0.8\n",
    "save_plot_to =  r'C:\\\\Users\\joche\\OneDrive\\03 TUM - TUM-BWL\\Semester 8\\01 Bachelorarbeit\\04 Results\\Plots/'"
   ],
   "metadata": {
    "collapsed": false,
    "pycharm": {
     "name": "#%%\n",
     "is_executing": false
    }
   }
  },
  {
   "cell_type": "code",
   "execution_count": 2,
   "outputs": [],
   "source": [
    "# load data and crop to start_date:end_date\n",
    "start_date = '2015-08-07'\n",
    "end_date = '2020-06-26'\n",
    "idx = pd.date_range(start_date, end_date)\n",
    "index_name = 'date'\n",
    "mydateparser = lambda x: pd.datetime.strptime(str(x), '%Y-%m-%d %H:%M:%S')\n",
    "mydateparser1 = lambda x: pd.datetime.strptime(str(x), '%Y-%m-%d')\n",
    "\n",
    "# btc\n",
    "btc = pd.read_excel('Data/BTC_closing.xlsx', parse_dates=[0], index_col=0, date_parser=mydateparser)[start_date:end_date]\n",
    "btc.index.name = index_name\n",
    "btc.columns = ['btc']\n",
    "\n",
    "# usd_eur\n",
    "usd_eur = pd.read_excel('Data/DEXUSEU.xls', parse_dates=[0], index_col=0, skiprows=10, date_parser=mydateparser)[start_date:end_date]\n",
    "usd_eur.index.name = index_name\n",
    "usd_eur.columns = ['usd_eur']\n",
    "usd_eur = usd_eur.loc[(usd_eur!=0).any(1)]\n",
    "\n",
    "# tot_btc: only weekly data - missing values interpolated\n",
    "tot_btc = pd.read_csv('Data/total-bitcoins.txt', index_col=0)[start_date:end_date]\n",
    "tot_btc.index = pd.DatetimeIndex(tot_btc.index, normalize=True).normalize()\n",
    "tot_btc.index.name = index_name\n",
    "tot_btc = tot_btc.reindex(idx, fill_value=None)\n",
    "tot_btc.interpolate(method='time', inplace=True, limit_direction='both')\n",
    "tot_btc.columns = ['tot_btc']\n",
    "\n",
    "# hs_rate: only weekly data - missing values interpolated\n",
    "hs_rate = pd.read_csv('Data/hash-rate.txt', index_col=0)[start_date:end_date]\n",
    "hs_rate.index = pd.DatetimeIndex(hs_rate.index, normalize=True).normalize()\n",
    "hs_rate.index.name = index_name\n",
    "hs_rate = hs_rate.reindex(idx, fill_value=None)\n",
    "hs_rate.interpolate(method='time', inplace=True, limit_direction='both')\n",
    "hs_rate.columns = ['hs_rate']\n",
    "\n",
    "# eth\n",
    "eth = pd.read_excel('Data/ETH.xlsx', parse_dates=[0], index_col=0, date_parser=mydateparser, usecols='A,E')[start_date:end_date]\n",
    "eth.index.name = index_name\n",
    "eth.columns = ['eth']\n",
    "\n",
    "# ggl_trends: only weekly data - missing values interpolated\n",
    "# ggl_trends: weighted average of 15 countries\n",
    "ggl_trends = pd.read_csv('Data/googletrends.txt', index_col=0)[start_date:end_date]\n",
    "ggl_trends.index = pd.DatetimeIndex(ggl_trends.index, normalize=True).normalize()\n",
    "ggl_trends.index.name = index_name\n",
    "ggl_trends = ggl_trends.reindex(idx, fill_value=None)\n",
    "ggl_trends.interpolate(method='time', inplace=True, limit_direction='both')\n",
    "ggl_trends['btc-average'] = np.round(ggl_trends.sum(axis=1)/15)\n",
    "ggl_trends = ggl_trends[['btc-average']].copy()\n",
    "ggl_trends.columns = ['ggl_trends']\n",
    "\n",
    "# wiki_views: sum of 99 countries\n",
    "wiki_views = pd.read_excel('Data/wikipedia.xlsx', parse_dates=[0], index_col=0, date_parser=mydateparser1)[start_date:end_date]\n",
    "wiki_views.index = pd.DatetimeIndex(wiki_views.index, normalize=True).normalize()\n",
    "wiki_views.index.name = index_name\n",
    "wiki_views['wiki-total'] = np.round(wiki_views.sum(axis=1))\n",
    "wiki_views = wiki_views[['wiki-total']].copy()\n",
    "wiki_views.columns = ['wiki_views']\n",
    "\n",
    "# wti_oil\n",
    "oil_wti = pd.read_excel('Data/DCOILWTICO.xls', parse_dates=[0], index_col=0, skiprows=10, date_parser=mydateparser)[start_date:end_date]\n",
    "oil_wti.index = pd.DatetimeIndex(oil_wti.index, normalize=True).normalize()\n",
    "oil_wti.index.name = index_name\n",
    "oil_wti.columns = ['oil_wti']\n",
    "oil_wti = oil_wti.loc[(oil_wti!=0).any(1)]\n",
    "\n",
    "# gold\n",
    "gold = pd.read_excel('Data/GOLDAMGBD228NLBM10AM.xls', parse_dates=[0], index_col=0, skiprows=10, date_parser=mydateparser)[start_date:end_date]\n",
    "gold.index = pd.DatetimeIndex(gold.index, normalize=True).normalize()\n",
    "gold.index.name = index_name\n",
    "gold.columns = ['gold']\n",
    "gold = gold.loc[(gold!=0).any(1)]\n",
    "\n",
    "# sp500\n",
    "sp500 = pd.read_excel('Data/SP500.xls', parse_dates=[0], index_col=0, skiprows=10, date_parser=mydateparser)[start_date:end_date]\n",
    "sp500.index = pd.DatetimeIndex(sp500.index, normalize=True).normalize()\n",
    "sp500.index.name = index_name\n",
    "sp500.columns = ['sp500']\n",
    "sp500 = sp500.loc[(sp500!=0).any(1)]\n",
    "\n",
    "# sse \n",
    "sse = pd.read_excel('Data/SSEcomposite.xlsx', parse_dates=[0], index_col=0, header=0, date_parser=mydateparser)[start_date:end_date]\n",
    "sse.index = pd.DatetimeIndex(sse.index, normalize=True).normalize()\n",
    "sse.index.name = index_name\n",
    "sse = sse[['Zuletzt']].copy()\n",
    "sse.columns = ['sse']\n",
    "\n",
    "# ffd_rate\n",
    "ffd_rate = pd.read_excel('Data/DFF.xls', parse_dates=[0], index_col=0, skiprows=10, date_parser=mydateparser)[start_date:end_date]\n",
    "ffd_rate.index = pd.DatetimeIndex(ffd_rate.index, normalize=True).normalize()\n",
    "ffd_rate.index.name = index_name\n",
    "ffd_rate.columns = ['ffd_rate']"
   ],
   "metadata": {
    "collapsed": false,
    "pycharm": {
     "name": "#%%\n",
     "is_executing": false
    }
   }
  },
  {
   "cell_type": "code",
   "execution_count": 3,
   "outputs": [
    {
     "data": {
      "text/plain": "                btc       tot_btc       hs_rate         eth  ggl_trends  \\\ndate                                                                      \n2015-08-07   279.58  1.447762e+07  3.775640e+05    2.770000         2.0   \n2015-08-10   264.47  1.448130e+07  3.687855e+05    0.708448         2.0   \n2015-08-11   270.39  1.448498e+07  3.754390e+05    1.070000         2.0   \n2015-08-12   266.38  1.448865e+07  3.820926e+05    1.220000         2.0   \n2015-08-13   264.08  1.449229e+07  3.887461e+05    1.830000         2.0   \n...             ...           ...           ...         ...         ...   \n2020-06-18  9411.84  1.840797e+07  1.090229e+08  232.100000        10.0   \n2020-06-19  9288.02  1.840862e+07  1.074749e+08  227.140000        10.0   \n2020-06-22  9648.72  1.841192e+07  1.074657e+08  242.530000        10.0   \n2020-06-23  9629.66  1.841279e+07  1.082351e+08  244.140000        10.0   \n2020-06-24  9313.61  1.841366e+07  1.082351e+08  235.770000        10.0   \n\n            wiki_views  usd_eur  oil_wti     gold    sp500      sse  ffd_rate  \ndate                                                                           \n2015-08-07       15560   1.0958    43.87  1091.35  2077.57  3744.20      0.14  \n2015-08-10       15113   1.0994    44.94  1094.80  2104.18  3928.42      0.14  \n2015-08-11       15320   1.1042    43.11  1113.25  2084.07  3927.91      0.15  \n2015-08-12       15255   1.1198    43.22  1116.80  2086.05  3886.32      0.15  \n2015-08-13       23711   1.1144    42.27  1117.35  2083.39  3954.56      0.15  \n...                ...      ...      ...      ...      ...      ...       ...  \n2020-06-18       16234   1.1216    38.79  1732.65  3115.34  2939.32      0.09  \n2020-06-19       15721   1.1189    39.72  1728.55  3097.74  2967.63      0.09  \n2020-06-22       16482   1.1260    40.60  1745.45  3117.86  2965.27      0.08  \n2020-06-23       16216   1.1322    40.40  1756.60  3131.29  2970.62      0.08  \n2020-06-24       15743   1.1272    37.91  1775.70  3050.33  2979.55      0.08  \n\n[1112 rows x 12 columns]",
      "text/html": "<div>\n<style scoped>\n    .dataframe tbody tr th:only-of-type {\n        vertical-align: middle;\n    }\n\n    .dataframe tbody tr th {\n        vertical-align: top;\n    }\n\n    .dataframe thead th {\n        text-align: right;\n    }\n</style>\n<table border=\"1\" class=\"dataframe\">\n  <thead>\n    <tr style=\"text-align: right;\">\n      <th></th>\n      <th>btc</th>\n      <th>tot_btc</th>\n      <th>hs_rate</th>\n      <th>eth</th>\n      <th>ggl_trends</th>\n      <th>wiki_views</th>\n      <th>usd_eur</th>\n      <th>oil_wti</th>\n      <th>gold</th>\n      <th>sp500</th>\n      <th>sse</th>\n      <th>ffd_rate</th>\n    </tr>\n    <tr>\n      <th>date</th>\n      <th></th>\n      <th></th>\n      <th></th>\n      <th></th>\n      <th></th>\n      <th></th>\n      <th></th>\n      <th></th>\n      <th></th>\n      <th></th>\n      <th></th>\n      <th></th>\n    </tr>\n  </thead>\n  <tbody>\n    <tr>\n      <td>2015-08-07</td>\n      <td>279.58</td>\n      <td>1.447762e+07</td>\n      <td>3.775640e+05</td>\n      <td>2.770000</td>\n      <td>2.0</td>\n      <td>15560</td>\n      <td>1.0958</td>\n      <td>43.87</td>\n      <td>1091.35</td>\n      <td>2077.57</td>\n      <td>3744.20</td>\n      <td>0.14</td>\n    </tr>\n    <tr>\n      <td>2015-08-10</td>\n      <td>264.47</td>\n      <td>1.448130e+07</td>\n      <td>3.687855e+05</td>\n      <td>0.708448</td>\n      <td>2.0</td>\n      <td>15113</td>\n      <td>1.0994</td>\n      <td>44.94</td>\n      <td>1094.80</td>\n      <td>2104.18</td>\n      <td>3928.42</td>\n      <td>0.14</td>\n    </tr>\n    <tr>\n      <td>2015-08-11</td>\n      <td>270.39</td>\n      <td>1.448498e+07</td>\n      <td>3.754390e+05</td>\n      <td>1.070000</td>\n      <td>2.0</td>\n      <td>15320</td>\n      <td>1.1042</td>\n      <td>43.11</td>\n      <td>1113.25</td>\n      <td>2084.07</td>\n      <td>3927.91</td>\n      <td>0.15</td>\n    </tr>\n    <tr>\n      <td>2015-08-12</td>\n      <td>266.38</td>\n      <td>1.448865e+07</td>\n      <td>3.820926e+05</td>\n      <td>1.220000</td>\n      <td>2.0</td>\n      <td>15255</td>\n      <td>1.1198</td>\n      <td>43.22</td>\n      <td>1116.80</td>\n      <td>2086.05</td>\n      <td>3886.32</td>\n      <td>0.15</td>\n    </tr>\n    <tr>\n      <td>2015-08-13</td>\n      <td>264.08</td>\n      <td>1.449229e+07</td>\n      <td>3.887461e+05</td>\n      <td>1.830000</td>\n      <td>2.0</td>\n      <td>23711</td>\n      <td>1.1144</td>\n      <td>42.27</td>\n      <td>1117.35</td>\n      <td>2083.39</td>\n      <td>3954.56</td>\n      <td>0.15</td>\n    </tr>\n    <tr>\n      <td>...</td>\n      <td>...</td>\n      <td>...</td>\n      <td>...</td>\n      <td>...</td>\n      <td>...</td>\n      <td>...</td>\n      <td>...</td>\n      <td>...</td>\n      <td>...</td>\n      <td>...</td>\n      <td>...</td>\n      <td>...</td>\n    </tr>\n    <tr>\n      <td>2020-06-18</td>\n      <td>9411.84</td>\n      <td>1.840797e+07</td>\n      <td>1.090229e+08</td>\n      <td>232.100000</td>\n      <td>10.0</td>\n      <td>16234</td>\n      <td>1.1216</td>\n      <td>38.79</td>\n      <td>1732.65</td>\n      <td>3115.34</td>\n      <td>2939.32</td>\n      <td>0.09</td>\n    </tr>\n    <tr>\n      <td>2020-06-19</td>\n      <td>9288.02</td>\n      <td>1.840862e+07</td>\n      <td>1.074749e+08</td>\n      <td>227.140000</td>\n      <td>10.0</td>\n      <td>15721</td>\n      <td>1.1189</td>\n      <td>39.72</td>\n      <td>1728.55</td>\n      <td>3097.74</td>\n      <td>2967.63</td>\n      <td>0.09</td>\n    </tr>\n    <tr>\n      <td>2020-06-22</td>\n      <td>9648.72</td>\n      <td>1.841192e+07</td>\n      <td>1.074657e+08</td>\n      <td>242.530000</td>\n      <td>10.0</td>\n      <td>16482</td>\n      <td>1.1260</td>\n      <td>40.60</td>\n      <td>1745.45</td>\n      <td>3117.86</td>\n      <td>2965.27</td>\n      <td>0.08</td>\n    </tr>\n    <tr>\n      <td>2020-06-23</td>\n      <td>9629.66</td>\n      <td>1.841279e+07</td>\n      <td>1.082351e+08</td>\n      <td>244.140000</td>\n      <td>10.0</td>\n      <td>16216</td>\n      <td>1.1322</td>\n      <td>40.40</td>\n      <td>1756.60</td>\n      <td>3131.29</td>\n      <td>2970.62</td>\n      <td>0.08</td>\n    </tr>\n    <tr>\n      <td>2020-06-24</td>\n      <td>9313.61</td>\n      <td>1.841366e+07</td>\n      <td>1.082351e+08</td>\n      <td>235.770000</td>\n      <td>10.0</td>\n      <td>15743</td>\n      <td>1.1272</td>\n      <td>37.91</td>\n      <td>1775.70</td>\n      <td>3050.33</td>\n      <td>2979.55</td>\n      <td>0.08</td>\n    </tr>\n  </tbody>\n</table>\n<p>1112 rows × 12 columns</p>\n</div>"
     },
     "metadata": {},
     "output_type": "execute_result",
     "execution_count": 3
    }
   ],
   "source": [
    "# merge data to one df (inner join)\n",
    "from functools import reduce\n",
    "temp = [btc,tot_btc,hs_rate,eth,ggl_trends,wiki_views,usd_eur,oil_wti,\n",
    "              gold,sp500,sse,ffd_rate]\n",
    "df = reduce(lambda left, right: pd.merge(left, right, left_index=True, right_index=True), temp)\n",
    "df"
   ],
   "metadata": {
    "collapsed": false,
    "pycharm": {
     "name": "#%%\n",
     "is_executing": false
    }
   }
  },
  {
   "cell_type": "code",
   "execution_count": 4,
   "outputs": [],
   "source": [
    "# split data in pre and post bubble 2018\n",
    "pre_bubble_end_date = '2017-12-01'\n",
    "post_bubble_start_date = '2018-02-01'\n",
    "\n",
    "# pre bubble df\n",
    "pre_df = df[:pre_bubble_end_date]\n",
    "\n",
    "# post bubble df\n",
    "post_df = df[post_bubble_start_date:]"
   ],
   "metadata": {
    "collapsed": false,
    "pycharm": {
     "name": "#%%\n",
     "is_executing": false
    }
   }
  },
  {
   "cell_type": "code",
   "execution_count": null,
   "outputs": [],
   "source": [
    "# save btc_new.txt dataset with 1112 observations for use in M1-M3\n",
    "def save_btcnew():\n",
    "    btc_cropped = df['btc']\n",
    "    btc_cropped.to_csv(path_or_buf=save_plot_to+'btc_new.txt')\n",
    "\n",
    "# save_btcnew()"
   ],
   "metadata": {
    "collapsed": false,
    "pycharm": {
     "name": "#%%\n"
    }
   }
  },
  {
   "cell_type": "code",
   "execution_count": 5,
   "outputs": [],
   "source": [
    "### RUN TO DEFINE ALL FUNCTIONS ###\n",
    "\n",
    "# define overview-printing function of dataframe\n",
    "def dates_overview(dataframe):\n",
    "    print('start_date:\\t', dataframe.index[0])\n",
    "    print('end_date:\\t', dataframe.index[-1])\n",
    "    print('len df:\\t\\t', len(dataframe))\n",
    "    \n",
    "# define plotting function of dataframe\n",
    "import matplotlib.dates as mdates\n",
    "def plot_df(dataframe):\n",
    "    fig_i, axs = plt.subplots(4,3, figsize=(9.5,4.15))\n",
    "    for i, ax in enumerate(axs.flatten()):\n",
    "        data = dataframe[dataframe.columns[i]]\n",
    "        ax.plot(data, color='black')\n",
    "        ax.set_title(dataframe.columns[i])\n",
    "        ax.xaxis.set_ticks_position('none')\n",
    "        ax.yaxis.set_ticks_position('none')\n",
    "        ax.xaxis.set_major_formatter(mdates.DateFormatter(\"%Y-%m\"))\n",
    "        ax.xaxis.set_minor_formatter(mdates.DateFormatter(\"%Y-%m\"))\n",
    "        #ax.spines['top'].set_alpha(0)\n",
    "        ax.tick_params(labelsize=8)\n",
    "    plt.tight_layout()\n",
    "    return fig_i\n",
    "\n",
    "# define log-taking and relabeling function\n",
    "def log_of_df(dataframe):\n",
    "    df_log = np.log(dataframe)\n",
    "    new_cols = list()\n",
    "    for i in df_log.columns:\n",
    "        new_cols.append(i+'_log')\n",
    "    df_log.columns = new_cols\n",
    "    # fill na value of negative oil price on 2020-04-20 with 0\n",
    "    df_log.fillna(value=0, inplace=True)\n",
    "    return df_log\n",
    "\n",
    "# define correlation-table generating function of dataframe\n",
    "def corr_table_aslatex_of_df(dataframe):\n",
    "    corr = dataframe.corr().round(3)\n",
    "    print(tabulate(corr, headers=corr.columns, showindex=True, tablefmt=\"latex\"))\n",
    "\n",
    "# define heatmap-generating function of dataframe\n",
    "def heatmap_corr_of_df(dataframe):\n",
    "    corr = dataframe.corr()\n",
    "    # more html colors here: https://www.w3schools.com/colors/colors_names.asp\n",
    "    # pal = sns.light_palette('lightgrey', as_cmap=True)\n",
    "    ax = sns.heatmap(corr, xticklabels=corr.columns.values, yticklabels=corr.columns.values, annot=True, \n",
    "            annot_kws={'size':7}, vmin=-1, center=0, vmax=1, cmap=\"YlGnBu\")\n",
    "    bottom, top = ax.get_ylim()\n",
    "    ax.set_ylim(bottom + 0.5, top - 0.5)\n",
    "    fig_3 = plt.gcf()\n",
    "    fig_3.set_size_inches(9.5,4.15)\n",
    "    plt.tick_params(axis='both', which='major', labelsize=7.5, labelbottom = False, bottom=False, top = False, labeltop=True)\n",
    "    plt.xticks(fontsize=7.5, rotation=1)\n",
    "    plt.yticks(fontsize=7.5)\n",
    "    \n",
    "# define train/test-splitting function of dataframe\n",
    "def split_traintest_df(dataframe):\n",
    "    train_size = int(len(dataframe) * 0.8)\n",
    "    df_train, df_test = dataframe[0:train_size], dataframe[train_size:]\n",
    "    # create dataframe for printout\n",
    "    data = {'Dataframe': ['dataframe', 'df_train', 'df_test'],\n",
    "            'date_start': [dataframe.index[0], df_train.index[0], df_test.index[0]],\n",
    "            'date_end': [dataframe.index[-1], df_train.index[-1], df_test.index[-1]],\n",
    "            'nobs': [len(dataframe), len(df_train), len(df_test)]}\n",
    "    df_print = pd.DataFrame(data, columns=['Dataframe','date_start','date_end','nobs'])\n",
    "    print(df_print)\n",
    "    return df_train, df_test\n",
    "\n",
    "# define adf- and pp-testing of dataframe with latex-printout on/off\n",
    "from arch.unitroot import ADF, PhillipsPerron\n",
    "def stationarity_tests(dataframe, latex):\n",
    "    for col in dataframe:\n",
    "        adf = ADF(dataframe[col])\n",
    "        pp = PhillipsPerron(dataframe[col])\n",
    "        if latex is False:\n",
    "            # write summary as plain text to std.out\n",
    "            print('Timeseries:\\t',col,'\\n',\n",
    "                  adf.summary(),'\\n\\n',pp.summary(),'\\n\\n\\n')\n",
    "        else:\n",
    "            # write summary as latex to file\n",
    "            with open(save_plot_to + 'Stationarity_Tests_LaTeX.txt', 'a') as myfile:\n",
    "                myfile.write('Timeseries:\\t'+col+'\\n'\n",
    "                         +adf.summary().as_latex()+'\\n\\n'\n",
    "                         +pp.summary().as_latex()+'\\n\\n\\n')\n",
    "\n",
    "# define first difference-taking function of dataframe\n",
    "def diff_of_df(dataframe):\n",
    "    df_train_log_diff = df_train_log.diff()\n",
    "    # relabel columns\n",
    "    new_cols = list()\n",
    "    for i in df_train_log_diff.columns:\n",
    "        new_cols.append(i+'_diff')\n",
    "    df_train_log_diff.columns = new_cols\n",
    "    return df_train_log_diff\n",
    "\n",
    "# define stationaritiy table-generating function of a dataframe filepath\n",
    "def stationarity_table_aslatex_from_df(filepath):\n",
    "    # read in dataframe from .txt file\n",
    "    stationarity_dataframe = pd.read_csv(save_plot_to+filepath, delimiter='\\s+', header=0)\n",
    "    # print dataframe as latex output\n",
    "    print(tabulate(stationarity_dataframe, headers=stationarity_dataframe.columns, showindex=False, tablefmt=\"latex\"))\n",
    "\n",
    "# define granger causality test performing function of a dataframe\n",
    "# code taken from: https://stackoverflow.com/questions/58005681/is-it-possible-to-run-a-vector-autoregression-analysis-on-a-large-gdp-data-with\n",
    "from statsmodels.tsa.stattools import grangercausalitytests\n",
    "maxlag=15\n",
    "test = 'ssr-chi2test'\n",
    "def grangers_causality_matrix(X_train, variables, test = 'ssr_chi2test', verbose=False):\n",
    "    dataset = pd.DataFrame(np.zeros((len(variables), len(variables))), columns=variables, index=variables)\n",
    "    for c in dataset.columns:\n",
    "        for r in dataset.index:\n",
    "            test_result = grangercausalitytests(X_train[[r,c]], maxlag=maxlag, verbose=False)\n",
    "            p_values = [round(test_result[i+1][0][test][1],4) for i in range(maxlag)]\n",
    "            if verbose: print(f'Y = {r}, X = {c}, P Values = {p_values}')\n",
    "            min_p_value = np.min(p_values)\n",
    "            dataset.loc[r,c] = min_p_value\n",
    "    dataset.columns = [var + '_x' for var in variables]\n",
    "    dataset.index = [var + '_y' for var in variables]\n",
    "    return dataset\n",
    "\n",
    "# define granger causality table generating function from dataframe\n",
    "def grangercausality_table_aslatex_of_df(dataframe):\n",
    "    print(tabulate(dataframe, headers=dataframe.columns, showindex=True, tablefmt=\"latex\"))\n",
    "\n",
    "# define grangercausality heatmap generating function of a dataframe\n",
    "def grangercausality_heatmap_of_df(dataframe):\n",
    "    ax = sns.heatmap(dataframe, xticklabels=dataframe.columns.values, yticklabels=dataframe.index.values,\n",
    "                 annot=True, annot_kws={'size':7}, vmin=0, vmax=1, cmap=\"YlGnBu_r\")\n",
    "    bottom, top = ax.get_ylim()\n",
    "    ax.set_ylim(bottom + 0.5, top - 0.5)\n",
    "    fig = plt.gcf()\n",
    "    fig.set_size_inches(9.5,4.15)\n",
    "    plt.tick_params(axis='both', which='major', labelsize=7, labelbottom = False, bottom=False, top = False, labeltop=True)\n",
    "    plt.xticks(fontsize=7, rotation=45)\n",
    "    plt.yticks(fontsize=7)\n",
    "    plt.show()\n",
    "\n",
    "# define VAR-order selecting function of dataframe\n",
    "from statsmodels.tsa.vector_ar.var_model import VAR\n",
    "def select_VAR_order(dataframe):\n",
    "    var_model = VAR(endog=dataframe)\n",
    "    var_order_res = var_model.select_order(15).summary()\n",
    "    res_as_html = var_order_res.as_html()\n",
    "    df_var_order = pd.read_html(res_as_html, header=0, index_col=0)[0]\n",
    "    return df_var_order\n",
    "\n",
    "# define VAR-order latex-table-generating function of a var_order\n",
    "def var_order_aslatex_of_order(var_order):\n",
    "    print(tabulate(var_order, headers=var_order.columns, showindex=True, tablefmt=\"latex\"))\n",
    "\n",
    "# define VAR-model-fitting function of a dataframe and a lag order\n",
    "def fit_VAR_model_of_df(dataframe, order):\n",
    "    var_model = VAR(endog=dataframe)\n",
    "    var_fitted = var_model.fit(maxlags = order)\n",
    "    return var_fitted\n",
    "\n",
    "\n",
    "# transform var_fitted into data frame\n",
    "# code taken from: https://stackoverflow.com/questions/51734180/converting-statsmodels-summary-object-to-pandas-dataframe\n",
    "def results_summary_to_dataframe(results):\n",
    "    '''take the result of an statsmodel results table and transforms it into a dataframe'''\n",
    "    pvals = results.pvalues\n",
    "    coeff = results.params\n",
    "    conf_lower = results.conf_int()[0]\n",
    "    conf_higher = results.conf_int()[1]\n",
    "\n",
    "    results_df = pd.DataFrame({\"pvals\":pvals,\n",
    "                               \"coeff\":coeff,\n",
    "                               \"conf_lower\":conf_lower,\n",
    "                               \"conf_higher\":conf_higher\n",
    "                                })\n",
    "    #Reordering\n",
    "    results_df = results_df[[\"coeff\",\"pvals\",\"conf_lower\",\"conf_higher\"]]\n",
    "    return results_df\n",
    "\n",
    "# define dataframe generating function from .txt file at filepath\n",
    "def var_coeffs_aslatex_from_txt(filepath):\n",
    "    # read in df from textfile\n",
    "    var_btc_coefficients = pd.read_csv(save_plot_to+filepath, delimiter='\\s+', header=0)\n",
    "    var_btc_coefficients.set_index(var_btc_coefficients.columns[0], inplace=True)\n",
    "    # generate latex output\n",
    "    print(tabulate(var_btc_coefficients.round(4), headers=var_btc_coefficients.columns, showindex=True, tablefmt=\"latex\"))\n",
    "\n",
    "# define rolling forecast function\n",
    "from sklearn.metrics import mean_squared_error as mse\n",
    "def var_rolling_forecast(dataframe, lag_order):\n",
    "    # create train and test dataframes\n",
    "    train_size = int(len(dataframe) * 0.8)\n",
    "    dataframe_train, dataframe_test = dataframe[0:train_size], dataframe[train_size:]\n",
    "    index = len(dataframe_train) - 1\n",
    "    # initialize lists\n",
    "    pred_val_btc = list()\n",
    "    lo_conf_int_btc = list()\n",
    "    up_conf_int_btc = list()\n",
    "    ausreisser_ctr = 0\n",
    "    # rolling forecast\n",
    "    for i in range(len(dataframe_test)):\n",
    "        # input data, dependent on i\n",
    "        input_data = log_of_df(dataframe).diff().values[lag_order+1:index + i]\n",
    "        #input_data = np.log(dataframe).diff().values[lag_order+1:index + i]\n",
    "        # fit model and predict 1 step\n",
    "        dataframe_var = VAR(endog=input_data)\n",
    "        dataframe_var_fitted = dataframe_var.fit(maxlags=lag_order)\n",
    "        dataframe_var_result = dataframe_var_fitted.forecast_interval(y=input_data, steps=1, alpha=0.05)\n",
    "        # obtain absolute (inversed) btc values for mean prediction, upper- and lower confidence interval\n",
    "        yhat_btc = np.exp(dataframe_var_result[0][0][0] + np.log(dataframe).iloc[:,0][index+i])\n",
    "        lo_conf_btc_val = np.exp(dataframe_var_result[1][0][0] + np.log(dataframe).iloc[:,0][index+i])\n",
    "        up_conf_btc_val = np.exp(dataframe_var_result[2][0][0] + np.log(dataframe).iloc[:,0][index+i])\n",
    "        if (dataframe.iloc[:,0][index+i+1] > up_conf_btc_val) or (dataframe.iloc[:,0][index+i+1] < lo_conf_btc_val):\n",
    "            ausreisser_ctr += 1\n",
    "        pred_val_btc.append(yhat_btc)\n",
    "        lo_conf_int_btc.append(lo_conf_btc_val)\n",
    "        up_conf_int_btc.append(up_conf_btc_val)\n",
    "    # return [0]: mse, [1]: ausreisser ctr, [2]: predictions, [3]: lo_confint, [4]: up_confint\n",
    "    return (np.sqrt(mse(pred_val_btc, dataframe_test.iloc[:,0].values)), ausreisser_ctr,\n",
    "            pred_val_btc, lo_conf_int_btc, up_conf_int_btc)\n",
    "\n",
    "# define series-generating and plotting function for dataframe_var_pred_result\n",
    "def plot_var_pred_result(dataframe, dataframe_train, dataframe_test, dataframe_var_pred_result):\n",
    "    # make series for plotting pred. vs. actual\n",
    "    index_pred = np.arange(len(dataframe_train) + 1, len(dataframe) + 1)\n",
    "    pred_val_btc_series = pd.Series(dataframe_var_pred_result[2], index=index_pred)\n",
    "    test_series_btc = pd.Series(dataframe_test.iloc[:,0].values, index=index_pred)\n",
    "    lo_conf_int_btc_series = pd.Series(dataframe_var_pred_result[3], index=index_pred)\n",
    "    up_conf_int_btc_series = pd.Series(dataframe_var_pred_result[4], index=index_pred)\n",
    "    # create plot\n",
    "    fig = plt.plot(dataframe_train.iloc[:,0].values, label= r'$X_T$', color='black')\n",
    "    plt.plot(test_series_btc, label= r'$X_{T+h}$', color='green')\n",
    "    plt.plot(pred_val_btc_series, label= r'$\\hat{X}_{T+h}$', color= 'red')\n",
    "    plt.fill_between(lo_conf_int_btc_series.index, lo_conf_int_btc_series, up_conf_int_btc_series, color='k', alpha=0.1)\n",
    "    plt.legend(loc='upper left')\n",
    "    plt.title('Einschrittprognose btc VAR(5)')\n",
    "    return fig\n"
   ],
   "metadata": {
    "collapsed": false,
    "pycharm": {
     "name": "#%%\n",
     "is_executing": false
    }
   }
  },
  {
   "cell_type": "code",
   "execution_count": 8,
   "outputs": [],
   "source": [
    "# overview of df\n",
    "dates_overview(df)"
   ],
   "metadata": {
    "collapsed": false,
    "pycharm": {
     "name": "#%%\n",
     "is_executing": false
    }
   }
  },
  {
   "cell_type": "code",
   "execution_count": 9,
   "outputs": [],
   "source": [
    "# plot df\n",
    "fig_1 = plot_df(df)"
   ],
   "metadata": {
    "collapsed": false,
    "pycharm": {
     "name": "#%%\n",
     "is_executing": false
    }
   }
  },
  {
   "cell_type": "code",
   "execution_count": 6,
   "outputs": [
    {
     "name": "stderr",
     "text": [
      "C:\\Users\\joche\\Anaconda3\\lib\\site-packages\\ipykernel_launcher.py:28: RuntimeWarning: invalid value encountered in log\n"
     ],
     "output_type": "stream"
    }
   ],
   "source": [
    "# take log of df\n",
    "df_log = log_of_df(df)"
   ],
   "metadata": {
    "collapsed": false,
    "pycharm": {
     "name": "#%%\n",
     "is_executing": false
    }
   }
  },
  {
   "cell_type": "code",
   "execution_count": 16,
   "outputs": [],
   "source": [
    "# plot log time series\n",
    "fig_2 = plot_df(df_log)"
   ],
   "metadata": {
    "collapsed": false,
    "pycharm": {
     "name": "#%%\n",
     "is_executing": false
    }
   }
  },
  {
   "cell_type": "code",
   "execution_count": 21,
   "outputs": [],
   "source": [
    "# correlation matrix of df\n",
    "corr_table_aslatex_of_df(df)"
   ],
   "metadata": {
    "collapsed": false,
    "pycharm": {
     "name": "#%%\n",
     "is_executing": false
    }
   }
  },
  {
   "cell_type": "code",
   "execution_count": 23,
   "outputs": [],
   "source": [
    "# correlation heatmap of df\n",
    "heatmap_corr_of_df(df)"
   ],
   "metadata": {
    "collapsed": false,
    "pycharm": {
     "name": "#%%\n",
     "is_executing": false
    }
   }
  },
  {
   "cell_type": "code",
   "execution_count": 7,
   "outputs": [
    {
     "name": "stdout",
     "text": [
      "   Dataframe date_start   date_end  nobs\n0  dataframe 2015-08-07 2020-06-24  1112\n1   df_train 2015-08-07 2019-07-01   889\n2    df_test 2019-07-02 2020-06-24   223\n"
     ],
     "output_type": "stream"
    }
   ],
   "source": [
    "# split df in df_train and df_test\n",
    "df_train, df_test = split_traintest_df(df)"
   ],
   "metadata": {
    "collapsed": false,
    "pycharm": {
     "name": "#%%\n",
     "is_executing": false
    }
   }
  },
  {
   "cell_type": "code",
   "execution_count": 12,
   "outputs": [],
   "source": [
    "# take log of df_train\n",
    "df_train_log = log_of_df(df_train)"
   ],
   "metadata": {
    "collapsed": false,
    "pycharm": {
     "name": "#%%\n",
     "is_executing": false
    }
   }
  },
  {
   "cell_type": "code",
   "execution_count": 48,
   "outputs": [],
   "source": [
    "# plot df_train_log\n",
    "fig_4 = plot_df(df_train_log)"
   ],
   "metadata": {
    "collapsed": false,
    "pycharm": {
     "name": "#%%\n",
     "is_executing": false
    }
   }
  },
  {
   "cell_type": "code",
   "execution_count": 47,
   "outputs": [],
   "source": [
    "# adf- and pp-testing of df_train_log - no latex printout\n",
    "stationarity_tests(df_train_log, latex=False)"
   ],
   "metadata": {
    "collapsed": false,
    "pycharm": {
     "name": "#%%\n",
     "is_executing": false
    }
   }
  },
  {
   "cell_type": "code",
   "execution_count": 13,
   "outputs": [],
   "source": [
    "# take first difference of df_train_log\n",
    "df_train_log_diff = diff_of_df(df_train_log)\n",
    "df_train_log_diff"
   ],
   "metadata": {
    "collapsed": false,
    "pycharm": {
     "name": "#%%\n",
     "is_executing": false
    }
   }
  },
  {
   "cell_type": "code",
   "execution_count": 53,
   "outputs": [],
   "source": [
    "# plot df_train_log_diff\n",
    "fig_5 = plot_df(df_train_log_diff[1:])"
   ],
   "metadata": {
    "collapsed": false,
    "pycharm": {
     "name": "#%%\n",
     "is_executing": false
    }
   }
  },
  {
   "cell_type": "code",
   "execution_count": 55,
   "outputs": [],
   "source": [
    "# adf- and pp-testing of df_train_log_diff - no latex printout\n",
    "stationarity_tests(df_train_log_diff[1:], latex=False)\n",
    "    "
   ],
   "metadata": {
    "collapsed": false,
    "pycharm": {
     "name": "#%%\n",
     "is_executing": false
    }
   }
  },
  {
   "cell_type": "code",
   "execution_count": 68,
   "outputs": [],
   "source": [
    "# plot stationarity table of df\n",
    "stationarity_table_aslatex_from_df('M4_stationarity tests.txt')"
   ],
   "metadata": {
    "collapsed": false,
    "pycharm": {
     "name": "#%%\n",
     "is_executing": false
    }
   }
  },
  {
   "cell_type": "code",
   "execution_count": 70,
   "outputs": [],
   "source": [
    "# perform granger causality test each on each based on df_train_log_diff\n",
    "granger_causality_matrix = grangers_causality_matrix(df_train_log_diff[1:], variables = df_train_log_diff.columns)\n",
    "granger_causality_matrix.round(4)"
   ],
   "metadata": {
    "collapsed": false,
    "pycharm": {
     "name": "#%%\n",
     "is_executing": false
    }
   }
  },
  {
   "cell_type": "code",
   "execution_count": 73,
   "outputs": [],
   "source": [
    "# generate granger causality table as latex output\n",
    "grangercausality_table_aslatex_of_df(granger_causality_matrix)"
   ],
   "metadata": {
    "collapsed": false,
    "pycharm": {
     "name": "#%%\n",
     "is_executing": false
    }
   }
  },
  {
   "cell_type": "code",
   "execution_count": 76,
   "outputs": [],
   "source": [
    "# generate granger causality heatmap of df_train_log_diff\n",
    "grangercausality_heatmap_of_df(granger_causality_matrix)"
   ],
   "metadata": {
    "collapsed": false,
    "pycharm": {
     "name": "#%%\n",
     "is_executing": false
    }
   }
  },
  {
   "cell_type": "code",
   "execution_count": 15,
   "outputs": [],
   "source": [
    "# select VAR-order for df_train_log_diff: 5\n",
    "df_var_order = select_VAR_order(df_train_log_diff[1:])\n",
    "df_var_order"
   ],
   "metadata": {
    "collapsed": false,
    "pycharm": {
     "name": "#%%\n",
     "is_executing": false
    }
   }
  },
  {
   "cell_type": "code",
   "execution_count": 19,
   "outputs": [],
   "source": [
    "# generate var_order latex output from df_var_order\n",
    "var_order_aslatex_of_order(df_var_order)"
   ],
   "metadata": {
    "collapsed": false,
    "pycharm": {
     "name": "#%%\n",
     "is_executing": false
    }
   }
  },
  {
   "cell_type": "code",
   "execution_count": 27,
   "outputs": [],
   "source": [
    "# obtain VAR-model for df_train_log_diff and lag order = 5\n",
    "df_var = fit_VAR_model_of_df(df_train_log_diff[1:], 5)\n",
    "df_var.summary()\n",
    "# -> Copy summary output and save as .txt"
   ],
   "metadata": {
    "collapsed": false,
    "pycharm": {
     "name": "#%%\n",
     "is_executing": false
    }
   }
  },
  {
   "cell_type": "code",
   "execution_count": 35,
   "outputs": [],
   "source": [
    "# read in and plot var_coeffs from textfile: 'VAR_coefficients_df.txt'\n",
    "var_coeffs_aslatex_from_txt('VAR_coefficients_df.txt')"
   ],
   "metadata": {
    "collapsed": false,
    "pycharm": {
     "name": "#%%\n",
     "is_executing": false
    }
   }
  },
  {
   "cell_type": "code",
   "execution_count": 52,
   "outputs": [],
   "source": [
    "# IRF: impulse response of df_var\n",
    "from statsmodels.tsa.vector_ar.irf import IRAnalysis\n",
    "df_irf = df_var.irf(15)\n",
    "df_irf.plot(orth=False, impulse='ggl_trends_log_diff' , response='btc_log_diff')"
   ],
   "metadata": {
    "collapsed": false,
    "pycharm": {
     "name": "#%%\n",
     "is_executing": false
    }
   }
  },
  {
   "cell_type": "code",
   "execution_count": 55,
   "outputs": [],
   "source": [
    "# IRF: cumulative impulse responses of df_var\n",
    "df_irf.plot_cum_effects(orth=True, response='btc_log_diff')\n",
    "    "
   ],
   "metadata": {
    "collapsed": false,
    "pycharm": {
     "name": "#%%\n",
     "is_executing": false
    }
   }
  },
  {
   "cell_type": "code",
   "execution_count": 206,
   "outputs": [],
   "source": [
    "# rolling forecast: obtain mse, ausreisser, predictions, lo-& up confint for df with lag order = 5\n",
    "df_var_pred_result = var_rolling_forecast(df, 5)\n",
    "\n",
    "# printout results\n",
    "print('mse:\\t\\t', df_var_pred_result[0])\n",
    "print('ausreisser:\\t', df_var_pred_result[1])"
   ],
   "metadata": {
    "collapsed": false,
    "pycharm": {
     "name": "#%%\n",
     "is_executing": false
    }
   }
  },
  {
   "cell_type": "code",
   "execution_count": 204,
   "outputs": [],
   "source": [
    "# rolling forecast: create series and plot them for df_var_pred_result\n",
    "fig_6 = plot_var_pred_result(df,df_train,df_test,df_var_pred_result)"
   ],
   "metadata": {
    "collapsed": false,
    "pycharm": {
     "name": "#%%\n",
     "is_executing": false
    }
   }
  },
  {
   "cell_type": "code",
   "execution_count": 94,
   "outputs": [
    {
     "data": {
      "text/plain": "array([4.58374448e-01, 2.39180874e-01, 9.70735726e-02, 6.17251342e-02,\n       4.98199251e-02, 3.39128620e-02, 2.64646469e-02, 2.31061207e-02,\n       1.42608074e-02, 1.11329201e-02, 6.52536036e-03, 4.12973213e-04])"
     },
     "metadata": {},
     "output_type": "execute_result",
     "execution_count": 94
    }
   ],
   "source": [
    "# define cointegration matrix generating function of dataframe\n",
    "from statsmodels.tsa.vector_ar.vecm import coint_johansen\n",
    "result = coint_johansen(df_train, det_order=-1, k_ar_diff=1)\n",
    "result.eig\n",
    "# -> eig[0] (btc) is largest"
   ],
   "metadata": {
    "collapsed": false,
    "pycharm": {
     "name": "#%%\n",
     "is_executing": false
    }
   }
  },
  {
   "cell_type": "code",
   "execution_count": 95,
   "outputs": [
    {
     "data": {
      "text/plain": "array([ 2.29437028e-05, -2.05765202e-04, -1.17405043e-03, -2.15917401e-04,\n        1.68128521e-04, -2.61905312e-04,  1.17887809e-04,  5.96493824e-05,\n       -9.47057782e-05,  8.82067289e-05, -1.56055428e-04, -2.02366970e-04])"
     },
     "metadata": {},
     "output_type": "execute_result",
     "execution_count": 95
    }
   ],
   "source": [
    "# check eigenvector for btc\n",
    "result.evec[0]"
   ],
   "metadata": {
    "collapsed": false,
    "pycharm": {
     "name": "#%%\n",
     "is_executing": false
    }
   }
  },
  {
   "cell_type": "code",
   "execution_count": 92,
   "outputs": [
    {
     "data": {
      "text/plain": "<class 'statsmodels.iolib.table.SimpleTable'>",
      "text/html": "<table class=\"simpletable\">\n<caption>Johansen cointegration test using trace test statistic with 1% significance level</caption>\n<tr>\n  <th>r_0</th> <th>r_1</th> <th>test statistic</th> <th>critical value</th>\n</tr>\n<tr>\n    <td>0</td>  <td>12</td>          <td>1083.</td>          <td>327.0</td>\n</tr>\n<tr>\n    <td>1</td>  <td>12</td>          <td>538.9</td>          <td>278.0</td>\n</tr>\n<tr>\n    <td>2</td>  <td>12</td>          <td>296.4</td>          <td>232.8</td>\n</tr>\n<tr>\n    <td>3</td>  <td>12</td>          <td>205.8</td>          <td>191.8</td>\n</tr>\n<tr>\n    <td>4</td>  <td>12</td>          <td>149.3</td>          <td>154.8</td>\n</tr>\n</table>"
     },
     "metadata": {},
     "output_type": "execute_result",
     "execution_count": 92
    }
   ],
   "source": [
    "from statsmodels.tsa.vector_ar.vecm import select_coint_rank\n",
    "result = select_coint_rank(df_train, det_order=-1, k_ar_diff=1, method='trace',signif=0.01)\n",
    "result.summary()"
   ],
   "metadata": {
    "collapsed": false,
    "pycharm": {
     "name": "#%%\n",
     "is_executing": false
    }
   }
  },
  {
   "cell_type": "code",
   "execution_count": 91,
   "outputs": [
    {
     "name": "stderr",
     "text": [
      "C:\\Users\\joche\\Anaconda3\\lib\\site-packages\\statsmodels\\tsa\\base\\tsa_model.py:583: ValueWarning: A date index has been provided, but it has no associated frequency information and so will be ignored when e.g. forecasting.\n  ' ignored when e.g. forecasting.', ValueWarning)\n"
     ],
     "output_type": "stream"
    },
    {
     "data": {
      "text/plain": "<class 'statsmodels.iolib.summary.Summary'>\n\"\"\"\nDet. terms outside the coint. relation & lagged endog. parameters for equation btc\n=================================================================================\n                    coef    std err          z      P>|z|      [0.025      0.975]\n---------------------------------------------------------------------------------\nL1.btc           -0.0076      0.039     -0.193      0.847      -0.084       0.069\nL1.tot_btc       -0.0028      0.003     -0.798      0.425      -0.010       0.004\nL1.hs_rate     2.354e-05   2.37e-05      0.994      0.320   -2.29e-05       7e-05\nL1.eth           -1.7473      0.530     -3.296      0.001      -2.786      -0.708\nL1.ggl_trends    28.1323     10.862      2.590      0.010       6.844      49.421\nL1.wiki_views    -0.0008      0.001     -1.139      0.255      -0.002       0.001\nL1.usd_eur     -729.3177   2062.855     -0.354      0.724   -4772.439    3313.803\nL1.oil_wti       -8.1169     10.427     -0.778      0.436     -28.553      12.319\nL1.gold          -0.0304      1.201     -0.025      0.980      -2.385       2.324\nL1.sp500          0.7006      0.572      1.224      0.221      -0.421       1.822\nL1.sse           -0.0364      0.271     -0.134      0.893      -0.567       0.494\nL1.ffd_rate     -48.5817    344.472     -0.141      0.888    -723.734     626.570\nDet. terms outside the coint. relation & lagged endog. parameters for equation tot_btc\n=================================================================================\n                    coef    std err          z      P>|z|      [0.025      0.975]\n---------------------------------------------------------------------------------\nL1.btc            0.2591      0.373      0.694      0.488      -0.473       0.991\nL1.tot_btc       -0.1618      0.033     -4.852      0.000      -0.227      -0.096\nL1.hs_rate        0.0001      0.000      0.653      0.514      -0.000       0.001\nL1.eth           -0.6941      5.056     -0.137      0.891     -10.604       9.216\nL1.ggl_trends    57.5247    103.597      0.555      0.579    -145.521     260.570\nL1.wiki_views    -0.0063      0.006     -0.981      0.327      -0.019       0.006\nL1.usd_eur    -4.262e+04   1.97e+04     -2.166      0.030   -8.12e+04   -4062.087\nL1.oil_wti       91.0396     99.448      0.915      0.360    -103.875     285.954\nL1.gold          17.5960     11.456      1.536      0.125      -4.857      40.049\nL1.sp500          4.8013      5.459      0.879      0.379      -5.899      15.501\nL1.sse            1.7810      2.583      0.689      0.491      -3.282       6.844\nL1.ffd_rate   -1.274e+04   3285.516     -3.878      0.000   -1.92e+04   -6303.157\nDet. terms outside the coint. relation & lagged endog. parameters for equation hs_rate\n=================================================================================\n                    coef    std err          z      P>|z|      [0.025      0.975]\n---------------------------------------------------------------------------------\nL1.btc           56.7295     52.730      1.076      0.282     -46.620     160.079\nL1.tot_btc       -7.2014      4.710     -1.529      0.126     -16.433       2.030\nL1.hs_rate        0.3343      0.032     10.474      0.000       0.272       0.397\nL1.eth         -834.8233    714.142     -1.169      0.242   -2234.517     564.870\nL1.ggl_trends  1.368e+04   1.46e+04      0.935      0.350    -1.5e+04    4.24e+04\nL1.wiki_views    -0.4350      0.911     -0.477      0.633      -2.221       1.351\nL1.usd_eur     1.359e+06   2.78e+06      0.489      0.625   -4.09e+06    6.81e+06\nL1.oil_wti    -1559.2250    1.4e+04     -0.111      0.912   -2.91e+04     2.6e+04\nL1.gold        1532.6331   1618.008      0.947      0.344   -1638.604    4703.870\nL1.sp500        269.9558    771.063      0.350      0.726   -1241.301    1781.212\nL1.sse           24.3874    364.870      0.067      0.947    -690.746     739.520\nL1.ffd_rate   -1.917e+05   4.64e+05     -0.413      0.680    -1.1e+06    7.18e+05\nDet. terms outside the coint. relation & lagged endog. parameters for equation eth\n=================================================================================\n                    coef    std err          z      P>|z|      [0.025      0.975]\n---------------------------------------------------------------------------------\nL1.btc           -0.0088      0.003     -3.132      0.002      -0.014      -0.003\nL1.tot_btc        0.0002      0.000      0.954      0.340      -0.000       0.001\nL1.hs_rate     1.463e-06    1.7e-06      0.861      0.389   -1.87e-06     4.8e-06\nL1.eth           -0.0174      0.038     -0.458      0.647      -0.092       0.057\nL1.ggl_trends     0.7085      0.779      0.909      0.363      -0.819       2.236\nL1.wiki_views -6.222e-05   4.85e-05     -1.282      0.200      -0.000    3.29e-05\nL1.usd_eur     -122.9765    148.039     -0.831      0.406    -413.128     167.175\nL1.oil_wti       -0.3713      0.748     -0.496      0.620      -1.838       1.095\nL1.gold          -0.0756      0.086     -0.877      0.380      -0.245       0.093\nL1.sp500          0.0130      0.041      0.318      0.751      -0.067       0.094\nL1.sse            0.0079      0.019      0.405      0.686      -0.030       0.046\nL1.ffd_rate     -40.9815     24.721     -1.658      0.097     -89.433       7.470\nDet. terms outside the coint. relation & lagged endog. parameters for equation ggl_trends\n=================================================================================\n                    coef    std err          z      P>|z|      [0.025      0.975]\n---------------------------------------------------------------------------------\nL1.btc            0.0002      0.000      1.704      0.088   -2.82e-05       0.000\nL1.tot_btc    -3.728e-06   9.83e-06     -0.379      0.704    -2.3e-05    1.55e-05\nL1.hs_rate     4.617e-08   6.66e-08      0.693      0.488   -8.43e-08    1.77e-07\nL1.eth            0.0028      0.001      1.904      0.057   -8.38e-05       0.006\nL1.ggl_trends     0.5665      0.031     18.557      0.000       0.507       0.626\nL1.wiki_views -9.967e-06    1.9e-06     -5.244      0.000   -1.37e-05   -6.24e-06\nL1.usd_eur        6.7853      5.798      1.170      0.242      -4.578      18.148\nL1.oil_wti        0.0746      0.029      2.545      0.011       0.017       0.132\nL1.gold           0.0006      0.003      0.168      0.866      -0.006       0.007\nL1.sp500        1.87e-05      0.002      0.012      0.991      -0.003       0.003\nL1.sse            0.0002      0.001      0.233      0.816      -0.001       0.002\nL1.ffd_rate      -0.9933      0.968     -1.026      0.305      -2.891       0.904\nDet. terms outside the coint. relation & lagged endog. parameters for equation wiki_views\n=================================================================================\n                    coef    std err          z      P>|z|      [0.025      0.975]\n---------------------------------------------------------------------------------\nL1.btc           12.0296      1.944      6.189      0.000       8.220      15.839\nL1.tot_btc       -0.1194      0.174     -0.688      0.492      -0.460       0.221\nL1.hs_rate        0.0011      0.001      0.902      0.367      -0.001       0.003\nL1.eth          -46.5666     26.325     -1.769      0.077     -98.162       5.029\nL1.ggl_trends   600.6069    539.355      1.114      0.265    -456.510    1657.724\nL1.wiki_views     0.1843      0.034      5.488      0.000       0.118       0.250\nL1.usd_eur     3.295e+04   1.02e+05      0.322      0.748   -1.68e+05    2.34e+05\nL1.oil_wti     -133.9373    517.757     -0.259      0.796   -1148.722     880.848\nL1.gold         -36.7193     59.643     -0.616      0.538    -153.617      80.178\nL1.sp500         20.6769     28.423      0.727      0.467     -35.031      76.385\nL1.sse           -2.4649     13.450     -0.183      0.855     -28.826      23.896\nL1.ffd_rate   -2.474e+04   1.71e+04     -1.447      0.148   -5.83e+04    8781.986\nDet. terms outside the coint. relation & lagged endog. parameters for equation usd_eur\n=================================================================================\n                    coef    std err          z      P>|z|      [0.025      0.975]\n---------------------------------------------------------------------------------\nL1.btc        -7.084e-07   6.68e-07     -1.060      0.289   -2.02e-06    6.01e-07\nL1.tot_btc     3.912e-08   5.97e-08      0.655      0.512   -7.79e-08    1.56e-07\nL1.hs_rate     3.569e-10   4.04e-10      0.883      0.377   -4.36e-10    1.15e-09\nL1.eth         3.929e-06   9.05e-06      0.434      0.664   -1.38e-05    2.17e-05\nL1.ggl_trends     0.0001      0.000      0.790      0.429      -0.000       0.001\nL1.wiki_views  3.249e-09   1.15e-08      0.281      0.778   -1.94e-08    2.59e-08\nL1.usd_eur        0.0002      0.035      0.007      0.995      -0.069       0.069\nL1.oil_wti        0.0002      0.000      1.029      0.304      -0.000       0.001\nL1.gold       -6.666e-06   2.05e-05     -0.325      0.745   -4.69e-05    3.35e-05\nL1.sp500      -9.497e-06   9.77e-06     -0.972      0.331   -2.86e-05    9.66e-06\nL1.sse         8.067e-06   4.62e-06      1.744      0.081   -9.97e-07    1.71e-05\nL1.ffd_rate       0.0047      0.006      0.792      0.428      -0.007       0.016\nDet. terms outside the coint. relation & lagged endog. parameters for equation oil_wti\n=================================================================================\n                    coef    std err          z      P>|z|      [0.025      0.975]\n---------------------------------------------------------------------------------\nL1.btc            0.0001      0.000      0.814      0.416      -0.000       0.000\nL1.tot_btc     1.486e-05   1.17e-05      1.269      0.205   -8.09e-06    3.78e-05\nL1.hs_rate     1.419e-07   7.93e-08      1.789      0.074   -1.36e-08    2.97e-07\nL1.eth           -0.0008      0.002     -0.425      0.671      -0.004       0.003\nL1.ggl_trends     0.0190      0.036      0.522      0.602      -0.052       0.090\nL1.wiki_views  3.453e-07   2.27e-06      0.152      0.879   -4.09e-06    4.79e-06\nL1.usd_eur       -5.4852      6.909     -0.794      0.427     -19.026       8.056\nL1.oil_wti       -0.0463      0.035     -1.326      0.185      -0.115       0.022\nL1.gold          -0.0013      0.004     -0.333      0.739      -0.009       0.007\nL1.sp500          0.0039      0.002      2.020      0.043       0.000       0.008\nL1.sse            0.0002      0.001      0.178      0.859      -0.002       0.002\nL1.ffd_rate       0.2380      1.154      0.206      0.837      -2.023       2.499\nDet. terms outside the coint. relation & lagged endog. parameters for equation gold\n=================================================================================\n                    coef    std err          z      P>|z|      [0.025      0.975]\n---------------------------------------------------------------------------------\nL1.btc           -0.0024      0.001     -2.123      0.034      -0.005      -0.000\nL1.tot_btc        0.0001   9.91e-05      1.287      0.198   -6.66e-05       0.000\nL1.hs_rate    -4.741e-07   6.71e-07     -0.706      0.480   -1.79e-06    8.42e-07\nL1.eth            0.0043      0.015      0.284      0.776      -0.025       0.034\nL1.ggl_trends     0.1962      0.308      0.638      0.524      -0.407       0.799\nL1.wiki_views -2.012e-06   1.92e-05     -0.105      0.916   -3.96e-05    3.56e-05\nL1.usd_eur      371.7328     58.456      6.359      0.000     257.162     486.304\nL1.oil_wti        0.5879      0.295      1.990      0.047       0.009       1.167\nL1.gold          -0.0549      0.034     -1.613      0.107      -0.122       0.012\nL1.sp500         -0.0316      0.016     -1.950      0.051      -0.063       0.000\nL1.sse            0.0160      0.008      2.087      0.037       0.001       0.031\nL1.ffd_rate      10.3563      9.761      1.061      0.289      -8.776      29.488\nDet. terms outside the coint. relation & lagged endog. parameters for equation sp500\n=================================================================================\n                    coef    std err          z      P>|z|      [0.025      0.975]\n---------------------------------------------------------------------------------\nL1.btc            0.0023      0.002      0.962      0.336      -0.002       0.007\nL1.tot_btc        0.0001      0.000      0.557      0.577      -0.000       0.001\nL1.hs_rate     4.596e-06   1.45e-06      3.164      0.002    1.75e-06    7.44e-06\nL1.eth           -0.0029      0.033     -0.090      0.928      -0.067       0.061\nL1.ggl_trends    -0.1171      0.666     -0.176      0.860      -1.423       1.188\nL1.wiki_views  2.225e-05   4.15e-05      0.537      0.592    -5.9e-05       0.000\nL1.usd_eur       95.4566    126.499      0.755      0.450    -152.477     343.391\nL1.oil_wti       -0.0665      0.639     -0.104      0.917      -1.320       1.187\nL1.gold          -0.0835      0.074     -1.134      0.257      -0.228       0.061\nL1.sp500         -0.0083      0.035     -0.236      0.813      -0.077       0.061\nL1.sse           -0.0212      0.017     -1.275      0.202      -0.054       0.011\nL1.ffd_rate     -60.1489     21.124     -2.847      0.004    -101.551     -18.747\nDet. terms outside the coint. relation & lagged endog. parameters for equation sse\n=================================================================================\n                    coef    std err          z      P>|z|      [0.025      0.975]\n---------------------------------------------------------------------------------\nL1.btc            0.0024      0.005      0.501      0.617      -0.007       0.012\nL1.tot_btc        0.0003      0.000      0.691      0.490      -0.001       0.001\nL1.hs_rate     1.815e-06   2.86e-06      0.635      0.526   -3.79e-06    7.42e-06\nL1.eth           -0.0177      0.064     -0.277      0.782      -0.143       0.108\nL1.ggl_trends    -0.5479      1.311     -0.418      0.676      -3.117       2.022\nL1.wiki_views  2.071e-05   8.16e-05      0.254      0.800      -0.000       0.000\nL1.usd_eur     -316.1723    248.982     -1.270      0.204    -804.168     171.823\nL1.oil_wti        0.9158      1.258      0.728      0.467      -1.551       3.382\nL1.gold          -0.0149      0.145     -0.103      0.918      -0.299       0.269\nL1.sp500          0.5565      0.069      8.055      0.000       0.421       0.692\nL1.sse           -0.0423      0.033     -1.295      0.195      -0.106       0.022\nL1.ffd_rate       0.1910     41.577      0.005      0.996     -81.298      81.680\nDet. terms outside the coint. relation & lagged endog. parameters for equation ffd_rate\n=================================================================================\n                    coef    std err          z      P>|z|      [0.025      0.975]\n---------------------------------------------------------------------------------\nL1.btc        -7.836e-07   3.71e-06     -0.211      0.833   -8.06e-06    6.49e-06\nL1.tot_btc    -3.337e-08   3.31e-07     -0.101      0.920   -6.83e-07    6.16e-07\nL1.hs_rate     3.379e-10   2.25e-09      0.150      0.880   -4.06e-09    4.74e-09\nL1.eth         5.636e-05   5.02e-05      1.122      0.262   -4.21e-05       0.000\nL1.ggl_trends     0.0006      0.001      0.536      0.592      -0.001       0.003\nL1.wiki_views -1.445e-07   6.41e-08     -2.254      0.024    -2.7e-07   -1.88e-08\nL1.usd_eur       -0.1408      0.196     -0.720      0.471      -0.524       0.242\nL1.oil_wti       -0.0003      0.001     -0.333      0.739      -0.002       0.002\nL1.gold       -1.947e-05      0.000     -0.171      0.864      -0.000       0.000\nL1.sp500      -2.053e-05   5.43e-05     -0.378      0.705      -0.000    8.58e-05\nL1.sse         1.176e-05   2.57e-05      0.458      0.647   -3.86e-05    6.21e-05\nL1.ffd_rate      -0.2563      0.033     -7.850      0.000      -0.320      -0.192\n                Loading coefficients (alpha) for equation btc                 \n==============================================================================\n                 coef    std err          z      P>|z|      [0.025      0.975]\n------------------------------------------------------------------------------\nec1           -0.0188      0.014     -1.359      0.174      -0.046       0.008\nec2        -9.159e-05   1.51e-05     -6.076      0.000      -0.000    -6.2e-05\nec3        -9.715e-07   2.38e-06     -0.409      0.683   -5.63e-06    3.68e-06\nec4           -0.5608      0.127     -4.428      0.000      -0.809      -0.313\n              Loading coefficients (alpha) for equation tot_btc               \n==============================================================================\n                 coef    std err          z      P>|z|      [0.025      0.975]\n------------------------------------------------------------------------------\nec1            0.0368      0.132      0.279      0.781      -0.222       0.296\nec2            0.0006      0.000      4.229      0.000       0.000       0.001\nec3         6.532e-05   2.27e-05      2.883      0.004    2.09e-05       0.000\nec4           -0.8444      1.208     -0.699      0.485      -3.212       1.523\n              Loading coefficients (alpha) for equation hs_rate               \n==============================================================================\n                 coef    std err          z      P>|z|      [0.025      0.975]\n------------------------------------------------------------------------------\nec1           49.6701     18.673      2.660      0.008      13.073      86.268\nec2            0.0516      0.020      2.541      0.011       0.012       0.091\nec3           -0.0061      0.003     -1.893      0.058      -0.012       0.000\nec4         -116.3166    170.621     -0.682      0.495    -450.728     218.095\n                Loading coefficients (alpha) for equation eth                 \n==============================================================================\n                 coef    std err          z      P>|z|      [0.025      0.975]\n------------------------------------------------------------------------------\nec1            0.0067      0.001      6.732      0.000       0.005       0.009\nec2        -4.081e-06   1.08e-06     -3.772      0.000    -6.2e-06   -1.96e-06\nec3        -1.055e-06    1.7e-07     -6.188      0.000   -1.39e-06   -7.21e-07\nec4           -0.0738      0.009     -8.116      0.000      -0.092      -0.056\n             Loading coefficients (alpha) for equation ggl_trends             \n==============================================================================\n                 coef    std err          z      P>|z|      [0.025      0.975]\n------------------------------------------------------------------------------\nec1         3.994e-05    3.9e-05      1.025      0.305   -3.64e-05       0.000\nec2        -3.232e-11   4.24e-08     -0.001      0.999   -8.31e-08     8.3e-08\nec3        -6.339e-10   6.68e-09     -0.095      0.924   -1.37e-08    1.25e-08\nec4        -7.911e-05      0.000     -0.222      0.824      -0.001       0.001\n             Loading coefficients (alpha) for equation wiki_views             \n==============================================================================\n                 coef    std err          z      P>|z|      [0.025      0.975]\n------------------------------------------------------------------------------\nec1           -0.6149      0.688     -0.893      0.372      -1.964       0.734\nec2            0.0016      0.001      2.202      0.028       0.000       0.003\nec3           -0.0006      0.000     -4.758      0.000      -0.001      -0.000\nec4          -16.2771      6.289     -2.588      0.010     -28.604      -3.950\n              Loading coefficients (alpha) for equation usd_eur               \n==============================================================================\n                 coef    std err          z      P>|z|      [0.025      0.975]\n------------------------------------------------------------------------------\nec1         1.799e-07   2.37e-07      0.760      0.447   -2.84e-07    6.44e-07\nec2         2.058e-10   2.57e-10      0.800      0.424   -2.99e-10     7.1e-10\nec3        -2.364e-11   4.06e-11     -0.583      0.560   -1.03e-10    5.58e-11\nec4         2.108e-07   2.16e-06      0.097      0.922   -4.03e-06    4.45e-06\n              Loading coefficients (alpha) for equation oil_wti               \n==============================================================================\n                 coef    std err          z      P>|z|      [0.025      0.975]\n------------------------------------------------------------------------------\nec1         9.366e-05   4.64e-05      2.018      0.044    2.67e-06       0.000\nec2         6.192e-08   5.05e-08      1.226      0.220    -3.7e-08    1.61e-07\nec3        -1.297e-08   7.96e-09     -1.631      0.103   -2.86e-08    2.62e-09\nec4           -0.0002      0.000     -0.538      0.591      -0.001       0.001\n                Loading coefficients (alpha) for equation gold                \n==============================================================================\n                 coef    std err          z      P>|z|      [0.025      0.975]\n------------------------------------------------------------------------------\nec1            0.0012      0.000      3.014      0.003       0.000       0.002\nec2         4.906e-07   4.27e-07      1.148      0.251   -3.47e-07    1.33e-06\nec3         -2.36e-07   6.73e-08     -3.506      0.000   -3.68e-07   -1.04e-07\nec4           -0.0088      0.004     -2.464      0.014      -0.016      -0.002\n               Loading coefficients (alpha) for equation sp500                \n==============================================================================\n                 coef    std err          z      P>|z|      [0.025      0.975]\n------------------------------------------------------------------------------\nec1            0.0020      0.001      2.405      0.016       0.000       0.004\nec2         1.467e-06   9.24e-07      1.586      0.113   -3.45e-07    3.28e-06\nec3        -2.555e-07   1.46e-07     -1.754      0.079   -5.41e-07       3e-08\nec4           -0.0054      0.008     -0.701      0.483      -0.021       0.010\n                Loading coefficients (alpha) for equation sse                 \n==============================================================================\n                 coef    std err          z      P>|z|      [0.025      0.975]\n------------------------------------------------------------------------------\nec1            0.0021      0.002      1.258      0.208      -0.001       0.005\nec2         4.646e-07   1.82e-06      0.255      0.798    -3.1e-06    4.03e-06\nec3        -3.723e-07   2.87e-07     -1.299      0.194   -9.34e-07     1.9e-07\nec4           -0.0100      0.015     -0.655      0.513      -0.040       0.020\n              Loading coefficients (alpha) for equation ffd_rate              \n==============================================================================\n                 coef    std err          z      P>|z|      [0.025      0.975]\n------------------------------------------------------------------------------\nec1        -6.539e-07   1.31e-06     -0.498      0.619   -3.23e-06    1.92e-06\nec2         2.096e-10   1.43e-09      0.147      0.883   -2.59e-09    3.01e-09\nec3         1.777e-10   2.25e-10      0.789      0.430   -2.64e-10    6.19e-10\nec4         4.713e-06    1.2e-05      0.393      0.695   -1.88e-05    2.82e-05\n          Cointegration relations for loading-coefficients-column 1           \n==============================================================================\n                 coef    std err          z      P>|z|      [0.025      0.975]\n------------------------------------------------------------------------------\nbeta.1         1.0000          0          0      0.000       1.000       1.000\nbeta.2     -3.023e-18          0          0      0.000   -3.02e-18   -3.02e-18\nbeta.3     -5.076e-19          0          0      0.000   -5.08e-19   -5.08e-19\nbeta.4     -1.978e-16          0          0      0.000   -1.98e-16   -1.98e-16\nbeta.5      -626.6412     30.730    -20.392      0.000    -686.871    -566.412\nbeta.6         0.0936    2.3e+04   4.06e-06      1.000   -4.51e+04    4.51e+04\nbeta.7     -5404.1084   1.87e+05     -0.029      0.977   -3.72e+05    3.61e+05\nbeta.8       -73.1392      4.369    -16.739      0.000     -81.703     -64.575\nbeta.9         6.4950      0.006   1093.560      0.000       6.483       6.507\nbeta.10       -1.8915      4.450     -0.425      0.671     -10.613       6.830\nbeta.11        0.9936     36.163      0.027      0.978     -69.885      71.872\nbeta.12     1218.9524      0.001   1.44e+06      0.000    1218.951    1218.954\n          Cointegration relations for loading-coefficients-column 2           \n==============================================================================\n                 coef    std err          z      P>|z|      [0.025      0.975]\n------------------------------------------------------------------------------\nbeta.1     -1.031e-14          0          0      0.000   -1.03e-14   -1.03e-14\nbeta.2         1.0000          0          0      0.000       1.000       1.000\nbeta.3      1.344e-17          0          0      0.000    1.34e-17    1.34e-17\nbeta.4     -9.457e-14          0          0      0.000   -9.46e-14   -9.46e-14\nbeta.5      2.083e+05   3420.562     60.903      0.000    2.02e+05    2.15e+05\nbeta.6       -44.3896   2.56e+06  -1.73e-05      1.000   -5.02e+06    5.02e+06\nbeta.7      1.486e+07   2.08e+07      0.713      0.476    -2.6e+07    5.57e+07\nbeta.8     -8236.9768    486.355    -16.936      0.000   -9190.214   -7283.739\nbeta.9     -1.153e+04     29.784   -387.074      0.000   -1.16e+04   -1.15e+04\nbeta.10    -6350.2600   2.23e+04     -0.285      0.776   -5.01e+04    3.74e+04\nbeta.11      241.9640   1.81e+05      0.001      0.999   -3.55e+05    3.56e+05\nbeta.12    -3.433e+05      4.235  -8.11e+04      0.000   -3.43e+05   -3.43e+05\n          Cointegration relations for loading-coefficients-column 3           \n==============================================================================\n                 coef    std err          z      P>|z|      [0.025      0.975]\n------------------------------------------------------------------------------\nbeta.1      1.225e-13          0          0      0.000    1.22e-13    1.22e-13\nbeta.2      3.159e-15          0          0      0.000    3.16e-15    3.16e-15\nbeta.3         1.0000          0          0      0.000       1.000       1.000\nbeta.4      1.391e-12          0          0      0.000    1.39e-12    1.39e-12\nbeta.5     -1.461e+06      2.438  -5.99e+05      0.000   -1.46e+06   -1.46e+06\nbeta.6       320.3024   1826.841      0.175      0.861   -3260.240    3900.845\nbeta.7      1.177e+08   1.48e+04   7926.470      0.000    1.18e+08    1.18e+08\nbeta.8     -1.683e+05      0.347  -4.85e+05      0.000   -1.68e+05   -1.68e+05\nbeta.9      -2.54e+04      2.154  -1.18e+04      0.000   -2.54e+04   -2.54e+04\nbeta.10    -5.218e+04   1613.871    -32.329      0.000   -5.53e+04    -4.9e+04\nbeta.11     1.583e+04   1.31e+04      1.207      0.227   -9875.290    4.15e+04\nbeta.12    -3.613e+06      0.306  -1.18e+07      0.000   -3.61e+06   -3.61e+06\n          Cointegration relations for loading-coefficients-column 4           \n==============================================================================\n                 coef    std err          z      P>|z|      [0.025      0.975]\n------------------------------------------------------------------------------\nbeta.1     -1.888e-19          0          0      0.000   -1.89e-19   -1.89e-19\nbeta.2      1.981e-19          0          0      0.000    1.98e-19    1.98e-19\nbeta.3      8.268e-20          0          0      0.000    8.27e-20    8.27e-20\nbeta.4         1.0000          0          0      0.000       1.000       1.000\nbeta.5       -36.7080      0.786    -46.723      0.000     -38.248     -35.168\nbeta.6         0.0055    588.605   9.29e-06      1.000   -1153.638    1153.649\nbeta.7     -3681.7020   4783.700     -0.770      0.442   -1.31e+04    5694.178\nbeta.8        -5.2428      0.112    -46.933      0.000      -5.462      -5.024\nbeta.9         1.5847    716.905      0.002      0.998   -1403.523    1406.693\nbeta.10        0.9264   5.37e+05   1.72e-06      1.000   -1.05e+06    1.05e+06\nbeta.11       -0.1205   4.37e+06  -2.76e-08      1.000   -8.56e+06    8.56e+06\nbeta.12      -86.8167    101.934     -0.852      0.394    -286.603     112.969\n==============================================================================\n\"\"\"",
      "text/html": "<table class=\"simpletable\">\n<caption>Det. terms outside the coint. relation & lagged endog. parameters for equation btc</caption>\n<tr>\n        <td></td>           <th>coef</th>     <th>std err</th>      <th>z</th>      <th>P>|z|</th>  <th>[0.025</th>    <th>0.975]</th>  \n</tr>\n<tr>\n  <th>L1.btc</th>        <td>   -0.0076</td> <td>    0.039</td> <td>   -0.193</td> <td> 0.847</td> <td>   -0.084</td> <td>    0.069</td>\n</tr>\n<tr>\n  <th>L1.tot_btc</th>    <td>   -0.0028</td> <td>    0.003</td> <td>   -0.798</td> <td> 0.425</td> <td>   -0.010</td> <td>    0.004</td>\n</tr>\n<tr>\n  <th>L1.hs_rate</th>    <td> 2.354e-05</td> <td> 2.37e-05</td> <td>    0.994</td> <td> 0.320</td> <td>-2.29e-05</td> <td>    7e-05</td>\n</tr>\n<tr>\n  <th>L1.eth</th>        <td>   -1.7473</td> <td>    0.530</td> <td>   -3.296</td> <td> 0.001</td> <td>   -2.786</td> <td>   -0.708</td>\n</tr>\n<tr>\n  <th>L1.ggl_trends</th> <td>   28.1323</td> <td>   10.862</td> <td>    2.590</td> <td> 0.010</td> <td>    6.844</td> <td>   49.421</td>\n</tr>\n<tr>\n  <th>L1.wiki_views</th> <td>   -0.0008</td> <td>    0.001</td> <td>   -1.139</td> <td> 0.255</td> <td>   -0.002</td> <td>    0.001</td>\n</tr>\n<tr>\n  <th>L1.usd_eur</th>    <td> -729.3177</td> <td> 2062.855</td> <td>   -0.354</td> <td> 0.724</td> <td>-4772.439</td> <td> 3313.803</td>\n</tr>\n<tr>\n  <th>L1.oil_wti</th>    <td>   -8.1169</td> <td>   10.427</td> <td>   -0.778</td> <td> 0.436</td> <td>  -28.553</td> <td>   12.319</td>\n</tr>\n<tr>\n  <th>L1.gold</th>       <td>   -0.0304</td> <td>    1.201</td> <td>   -0.025</td> <td> 0.980</td> <td>   -2.385</td> <td>    2.324</td>\n</tr>\n<tr>\n  <th>L1.sp500</th>      <td>    0.7006</td> <td>    0.572</td> <td>    1.224</td> <td> 0.221</td> <td>   -0.421</td> <td>    1.822</td>\n</tr>\n<tr>\n  <th>L1.sse</th>        <td>   -0.0364</td> <td>    0.271</td> <td>   -0.134</td> <td> 0.893</td> <td>   -0.567</td> <td>    0.494</td>\n</tr>\n<tr>\n  <th>L1.ffd_rate</th>   <td>  -48.5817</td> <td>  344.472</td> <td>   -0.141</td> <td> 0.888</td> <td> -723.734</td> <td>  626.570</td>\n</tr>\n</table>\n<table class=\"simpletable\">\n<caption>Det. terms outside the coint. relation & lagged endog. parameters for equation tot_btc</caption>\n<tr>\n        <td></td>           <th>coef</th>     <th>std err</th>      <th>z</th>      <th>P>|z|</th>  <th>[0.025</th>    <th>0.975]</th>  \n</tr>\n<tr>\n  <th>L1.btc</th>        <td>    0.2591</td> <td>    0.373</td> <td>    0.694</td> <td> 0.488</td> <td>   -0.473</td> <td>    0.991</td>\n</tr>\n<tr>\n  <th>L1.tot_btc</th>    <td>   -0.1618</td> <td>    0.033</td> <td>   -4.852</td> <td> 0.000</td> <td>   -0.227</td> <td>   -0.096</td>\n</tr>\n<tr>\n  <th>L1.hs_rate</th>    <td>    0.0001</td> <td>    0.000</td> <td>    0.653</td> <td> 0.514</td> <td>   -0.000</td> <td>    0.001</td>\n</tr>\n<tr>\n  <th>L1.eth</th>        <td>   -0.6941</td> <td>    5.056</td> <td>   -0.137</td> <td> 0.891</td> <td>  -10.604</td> <td>    9.216</td>\n</tr>\n<tr>\n  <th>L1.ggl_trends</th> <td>   57.5247</td> <td>  103.597</td> <td>    0.555</td> <td> 0.579</td> <td> -145.521</td> <td>  260.570</td>\n</tr>\n<tr>\n  <th>L1.wiki_views</th> <td>   -0.0063</td> <td>    0.006</td> <td>   -0.981</td> <td> 0.327</td> <td>   -0.019</td> <td>    0.006</td>\n</tr>\n<tr>\n  <th>L1.usd_eur</th>    <td>-4.262e+04</td> <td> 1.97e+04</td> <td>   -2.166</td> <td> 0.030</td> <td>-8.12e+04</td> <td>-4062.087</td>\n</tr>\n<tr>\n  <th>L1.oil_wti</th>    <td>   91.0396</td> <td>   99.448</td> <td>    0.915</td> <td> 0.360</td> <td> -103.875</td> <td>  285.954</td>\n</tr>\n<tr>\n  <th>L1.gold</th>       <td>   17.5960</td> <td>   11.456</td> <td>    1.536</td> <td> 0.125</td> <td>   -4.857</td> <td>   40.049</td>\n</tr>\n<tr>\n  <th>L1.sp500</th>      <td>    4.8013</td> <td>    5.459</td> <td>    0.879</td> <td> 0.379</td> <td>   -5.899</td> <td>   15.501</td>\n</tr>\n<tr>\n  <th>L1.sse</th>        <td>    1.7810</td> <td>    2.583</td> <td>    0.689</td> <td> 0.491</td> <td>   -3.282</td> <td>    6.844</td>\n</tr>\n<tr>\n  <th>L1.ffd_rate</th>   <td>-1.274e+04</td> <td> 3285.516</td> <td>   -3.878</td> <td> 0.000</td> <td>-1.92e+04</td> <td>-6303.157</td>\n</tr>\n</table>\n<table class=\"simpletable\">\n<caption>Det. terms outside the coint. relation & lagged endog. parameters for equation hs_rate</caption>\n<tr>\n        <td></td>           <th>coef</th>     <th>std err</th>      <th>z</th>      <th>P>|z|</th>  <th>[0.025</th>    <th>0.975]</th>  \n</tr>\n<tr>\n  <th>L1.btc</th>        <td>   56.7295</td> <td>   52.730</td> <td>    1.076</td> <td> 0.282</td> <td>  -46.620</td> <td>  160.079</td>\n</tr>\n<tr>\n  <th>L1.tot_btc</th>    <td>   -7.2014</td> <td>    4.710</td> <td>   -1.529</td> <td> 0.126</td> <td>  -16.433</td> <td>    2.030</td>\n</tr>\n<tr>\n  <th>L1.hs_rate</th>    <td>    0.3343</td> <td>    0.032</td> <td>   10.474</td> <td> 0.000</td> <td>    0.272</td> <td>    0.397</td>\n</tr>\n<tr>\n  <th>L1.eth</th>        <td> -834.8233</td> <td>  714.142</td> <td>   -1.169</td> <td> 0.242</td> <td>-2234.517</td> <td>  564.870</td>\n</tr>\n<tr>\n  <th>L1.ggl_trends</th> <td> 1.368e+04</td> <td> 1.46e+04</td> <td>    0.935</td> <td> 0.350</td> <td> -1.5e+04</td> <td> 4.24e+04</td>\n</tr>\n<tr>\n  <th>L1.wiki_views</th> <td>   -0.4350</td> <td>    0.911</td> <td>   -0.477</td> <td> 0.633</td> <td>   -2.221</td> <td>    1.351</td>\n</tr>\n<tr>\n  <th>L1.usd_eur</th>    <td> 1.359e+06</td> <td> 2.78e+06</td> <td>    0.489</td> <td> 0.625</td> <td>-4.09e+06</td> <td> 6.81e+06</td>\n</tr>\n<tr>\n  <th>L1.oil_wti</th>    <td>-1559.2250</td> <td>  1.4e+04</td> <td>   -0.111</td> <td> 0.912</td> <td>-2.91e+04</td> <td>  2.6e+04</td>\n</tr>\n<tr>\n  <th>L1.gold</th>       <td> 1532.6331</td> <td> 1618.008</td> <td>    0.947</td> <td> 0.344</td> <td>-1638.604</td> <td> 4703.870</td>\n</tr>\n<tr>\n  <th>L1.sp500</th>      <td>  269.9558</td> <td>  771.063</td> <td>    0.350</td> <td> 0.726</td> <td>-1241.301</td> <td> 1781.212</td>\n</tr>\n<tr>\n  <th>L1.sse</th>        <td>   24.3874</td> <td>  364.870</td> <td>    0.067</td> <td> 0.947</td> <td> -690.746</td> <td>  739.520</td>\n</tr>\n<tr>\n  <th>L1.ffd_rate</th>   <td>-1.917e+05</td> <td> 4.64e+05</td> <td>   -0.413</td> <td> 0.680</td> <td> -1.1e+06</td> <td> 7.18e+05</td>\n</tr>\n</table>\n<table class=\"simpletable\">\n<caption>Det. terms outside the coint. relation & lagged endog. parameters for equation eth</caption>\n<tr>\n        <td></td>           <th>coef</th>     <th>std err</th>      <th>z</th>      <th>P>|z|</th>  <th>[0.025</th>    <th>0.975]</th>  \n</tr>\n<tr>\n  <th>L1.btc</th>        <td>   -0.0088</td> <td>    0.003</td> <td>   -3.132</td> <td> 0.002</td> <td>   -0.014</td> <td>   -0.003</td>\n</tr>\n<tr>\n  <th>L1.tot_btc</th>    <td>    0.0002</td> <td>    0.000</td> <td>    0.954</td> <td> 0.340</td> <td>   -0.000</td> <td>    0.001</td>\n</tr>\n<tr>\n  <th>L1.hs_rate</th>    <td> 1.463e-06</td> <td>  1.7e-06</td> <td>    0.861</td> <td> 0.389</td> <td>-1.87e-06</td> <td>  4.8e-06</td>\n</tr>\n<tr>\n  <th>L1.eth</th>        <td>   -0.0174</td> <td>    0.038</td> <td>   -0.458</td> <td> 0.647</td> <td>   -0.092</td> <td>    0.057</td>\n</tr>\n<tr>\n  <th>L1.ggl_trends</th> <td>    0.7085</td> <td>    0.779</td> <td>    0.909</td> <td> 0.363</td> <td>   -0.819</td> <td>    2.236</td>\n</tr>\n<tr>\n  <th>L1.wiki_views</th> <td>-6.222e-05</td> <td> 4.85e-05</td> <td>   -1.282</td> <td> 0.200</td> <td>   -0.000</td> <td> 3.29e-05</td>\n</tr>\n<tr>\n  <th>L1.usd_eur</th>    <td> -122.9765</td> <td>  148.039</td> <td>   -0.831</td> <td> 0.406</td> <td> -413.128</td> <td>  167.175</td>\n</tr>\n<tr>\n  <th>L1.oil_wti</th>    <td>   -0.3713</td> <td>    0.748</td> <td>   -0.496</td> <td> 0.620</td> <td>   -1.838</td> <td>    1.095</td>\n</tr>\n<tr>\n  <th>L1.gold</th>       <td>   -0.0756</td> <td>    0.086</td> <td>   -0.877</td> <td> 0.380</td> <td>   -0.245</td> <td>    0.093</td>\n</tr>\n<tr>\n  <th>L1.sp500</th>      <td>    0.0130</td> <td>    0.041</td> <td>    0.318</td> <td> 0.751</td> <td>   -0.067</td> <td>    0.094</td>\n</tr>\n<tr>\n  <th>L1.sse</th>        <td>    0.0079</td> <td>    0.019</td> <td>    0.405</td> <td> 0.686</td> <td>   -0.030</td> <td>    0.046</td>\n</tr>\n<tr>\n  <th>L1.ffd_rate</th>   <td>  -40.9815</td> <td>   24.721</td> <td>   -1.658</td> <td> 0.097</td> <td>  -89.433</td> <td>    7.470</td>\n</tr>\n</table>\n<table class=\"simpletable\">\n<caption>Det. terms outside the coint. relation & lagged endog. parameters for equation ggl_trends</caption>\n<tr>\n        <td></td>           <th>coef</th>     <th>std err</th>      <th>z</th>      <th>P>|z|</th>  <th>[0.025</th>    <th>0.975]</th>  \n</tr>\n<tr>\n  <th>L1.btc</th>        <td>    0.0002</td> <td>    0.000</td> <td>    1.704</td> <td> 0.088</td> <td>-2.82e-05</td> <td>    0.000</td>\n</tr>\n<tr>\n  <th>L1.tot_btc</th>    <td>-3.728e-06</td> <td> 9.83e-06</td> <td>   -0.379</td> <td> 0.704</td> <td> -2.3e-05</td> <td> 1.55e-05</td>\n</tr>\n<tr>\n  <th>L1.hs_rate</th>    <td> 4.617e-08</td> <td> 6.66e-08</td> <td>    0.693</td> <td> 0.488</td> <td>-8.43e-08</td> <td> 1.77e-07</td>\n</tr>\n<tr>\n  <th>L1.eth</th>        <td>    0.0028</td> <td>    0.001</td> <td>    1.904</td> <td> 0.057</td> <td>-8.38e-05</td> <td>    0.006</td>\n</tr>\n<tr>\n  <th>L1.ggl_trends</th> <td>    0.5665</td> <td>    0.031</td> <td>   18.557</td> <td> 0.000</td> <td>    0.507</td> <td>    0.626</td>\n</tr>\n<tr>\n  <th>L1.wiki_views</th> <td>-9.967e-06</td> <td>  1.9e-06</td> <td>   -5.244</td> <td> 0.000</td> <td>-1.37e-05</td> <td>-6.24e-06</td>\n</tr>\n<tr>\n  <th>L1.usd_eur</th>    <td>    6.7853</td> <td>    5.798</td> <td>    1.170</td> <td> 0.242</td> <td>   -4.578</td> <td>   18.148</td>\n</tr>\n<tr>\n  <th>L1.oil_wti</th>    <td>    0.0746</td> <td>    0.029</td> <td>    2.545</td> <td> 0.011</td> <td>    0.017</td> <td>    0.132</td>\n</tr>\n<tr>\n  <th>L1.gold</th>       <td>    0.0006</td> <td>    0.003</td> <td>    0.168</td> <td> 0.866</td> <td>   -0.006</td> <td>    0.007</td>\n</tr>\n<tr>\n  <th>L1.sp500</th>      <td>  1.87e-05</td> <td>    0.002</td> <td>    0.012</td> <td> 0.991</td> <td>   -0.003</td> <td>    0.003</td>\n</tr>\n<tr>\n  <th>L1.sse</th>        <td>    0.0002</td> <td>    0.001</td> <td>    0.233</td> <td> 0.816</td> <td>   -0.001</td> <td>    0.002</td>\n</tr>\n<tr>\n  <th>L1.ffd_rate</th>   <td>   -0.9933</td> <td>    0.968</td> <td>   -1.026</td> <td> 0.305</td> <td>   -2.891</td> <td>    0.904</td>\n</tr>\n</table>\n<table class=\"simpletable\">\n<caption>Det. terms outside the coint. relation & lagged endog. parameters for equation wiki_views</caption>\n<tr>\n        <td></td>           <th>coef</th>     <th>std err</th>      <th>z</th>      <th>P>|z|</th>  <th>[0.025</th>    <th>0.975]</th>  \n</tr>\n<tr>\n  <th>L1.btc</th>        <td>   12.0296</td> <td>    1.944</td> <td>    6.189</td> <td> 0.000</td> <td>    8.220</td> <td>   15.839</td>\n</tr>\n<tr>\n  <th>L1.tot_btc</th>    <td>   -0.1194</td> <td>    0.174</td> <td>   -0.688</td> <td> 0.492</td> <td>   -0.460</td> <td>    0.221</td>\n</tr>\n<tr>\n  <th>L1.hs_rate</th>    <td>    0.0011</td> <td>    0.001</td> <td>    0.902</td> <td> 0.367</td> <td>   -0.001</td> <td>    0.003</td>\n</tr>\n<tr>\n  <th>L1.eth</th>        <td>  -46.5666</td> <td>   26.325</td> <td>   -1.769</td> <td> 0.077</td> <td>  -98.162</td> <td>    5.029</td>\n</tr>\n<tr>\n  <th>L1.ggl_trends</th> <td>  600.6069</td> <td>  539.355</td> <td>    1.114</td> <td> 0.265</td> <td> -456.510</td> <td> 1657.724</td>\n</tr>\n<tr>\n  <th>L1.wiki_views</th> <td>    0.1843</td> <td>    0.034</td> <td>    5.488</td> <td> 0.000</td> <td>    0.118</td> <td>    0.250</td>\n</tr>\n<tr>\n  <th>L1.usd_eur</th>    <td> 3.295e+04</td> <td> 1.02e+05</td> <td>    0.322</td> <td> 0.748</td> <td>-1.68e+05</td> <td> 2.34e+05</td>\n</tr>\n<tr>\n  <th>L1.oil_wti</th>    <td> -133.9373</td> <td>  517.757</td> <td>   -0.259</td> <td> 0.796</td> <td>-1148.722</td> <td>  880.848</td>\n</tr>\n<tr>\n  <th>L1.gold</th>       <td>  -36.7193</td> <td>   59.643</td> <td>   -0.616</td> <td> 0.538</td> <td> -153.617</td> <td>   80.178</td>\n</tr>\n<tr>\n  <th>L1.sp500</th>      <td>   20.6769</td> <td>   28.423</td> <td>    0.727</td> <td> 0.467</td> <td>  -35.031</td> <td>   76.385</td>\n</tr>\n<tr>\n  <th>L1.sse</th>        <td>   -2.4649</td> <td>   13.450</td> <td>   -0.183</td> <td> 0.855</td> <td>  -28.826</td> <td>   23.896</td>\n</tr>\n<tr>\n  <th>L1.ffd_rate</th>   <td>-2.474e+04</td> <td> 1.71e+04</td> <td>   -1.447</td> <td> 0.148</td> <td>-5.83e+04</td> <td> 8781.986</td>\n</tr>\n</table>\n<table class=\"simpletable\">\n<caption>Det. terms outside the coint. relation & lagged endog. parameters for equation usd_eur</caption>\n<tr>\n        <td></td>           <th>coef</th>     <th>std err</th>      <th>z</th>      <th>P>|z|</th>  <th>[0.025</th>    <th>0.975]</th>  \n</tr>\n<tr>\n  <th>L1.btc</th>        <td>-7.084e-07</td> <td> 6.68e-07</td> <td>   -1.060</td> <td> 0.289</td> <td>-2.02e-06</td> <td> 6.01e-07</td>\n</tr>\n<tr>\n  <th>L1.tot_btc</th>    <td> 3.912e-08</td> <td> 5.97e-08</td> <td>    0.655</td> <td> 0.512</td> <td>-7.79e-08</td> <td> 1.56e-07</td>\n</tr>\n<tr>\n  <th>L1.hs_rate</th>    <td> 3.569e-10</td> <td> 4.04e-10</td> <td>    0.883</td> <td> 0.377</td> <td>-4.36e-10</td> <td> 1.15e-09</td>\n</tr>\n<tr>\n  <th>L1.eth</th>        <td> 3.929e-06</td> <td> 9.05e-06</td> <td>    0.434</td> <td> 0.664</td> <td>-1.38e-05</td> <td> 2.17e-05</td>\n</tr>\n<tr>\n  <th>L1.ggl_trends</th> <td>    0.0001</td> <td>    0.000</td> <td>    0.790</td> <td> 0.429</td> <td>   -0.000</td> <td>    0.001</td>\n</tr>\n<tr>\n  <th>L1.wiki_views</th> <td> 3.249e-09</td> <td> 1.15e-08</td> <td>    0.281</td> <td> 0.778</td> <td>-1.94e-08</td> <td> 2.59e-08</td>\n</tr>\n<tr>\n  <th>L1.usd_eur</th>    <td>    0.0002</td> <td>    0.035</td> <td>    0.007</td> <td> 0.995</td> <td>   -0.069</td> <td>    0.069</td>\n</tr>\n<tr>\n  <th>L1.oil_wti</th>    <td>    0.0002</td> <td>    0.000</td> <td>    1.029</td> <td> 0.304</td> <td>   -0.000</td> <td>    0.001</td>\n</tr>\n<tr>\n  <th>L1.gold</th>       <td>-6.666e-06</td> <td> 2.05e-05</td> <td>   -0.325</td> <td> 0.745</td> <td>-4.69e-05</td> <td> 3.35e-05</td>\n</tr>\n<tr>\n  <th>L1.sp500</th>      <td>-9.497e-06</td> <td> 9.77e-06</td> <td>   -0.972</td> <td> 0.331</td> <td>-2.86e-05</td> <td> 9.66e-06</td>\n</tr>\n<tr>\n  <th>L1.sse</th>        <td> 8.067e-06</td> <td> 4.62e-06</td> <td>    1.744</td> <td> 0.081</td> <td>-9.97e-07</td> <td> 1.71e-05</td>\n</tr>\n<tr>\n  <th>L1.ffd_rate</th>   <td>    0.0047</td> <td>    0.006</td> <td>    0.792</td> <td> 0.428</td> <td>   -0.007</td> <td>    0.016</td>\n</tr>\n</table>\n<table class=\"simpletable\">\n<caption>Det. terms outside the coint. relation & lagged endog. parameters for equation oil_wti</caption>\n<tr>\n        <td></td>           <th>coef</th>     <th>std err</th>      <th>z</th>      <th>P>|z|</th>  <th>[0.025</th>    <th>0.975]</th>  \n</tr>\n<tr>\n  <th>L1.btc</th>        <td>    0.0001</td> <td>    0.000</td> <td>    0.814</td> <td> 0.416</td> <td>   -0.000</td> <td>    0.000</td>\n</tr>\n<tr>\n  <th>L1.tot_btc</th>    <td> 1.486e-05</td> <td> 1.17e-05</td> <td>    1.269</td> <td> 0.205</td> <td>-8.09e-06</td> <td> 3.78e-05</td>\n</tr>\n<tr>\n  <th>L1.hs_rate</th>    <td> 1.419e-07</td> <td> 7.93e-08</td> <td>    1.789</td> <td> 0.074</td> <td>-1.36e-08</td> <td> 2.97e-07</td>\n</tr>\n<tr>\n  <th>L1.eth</th>        <td>   -0.0008</td> <td>    0.002</td> <td>   -0.425</td> <td> 0.671</td> <td>   -0.004</td> <td>    0.003</td>\n</tr>\n<tr>\n  <th>L1.ggl_trends</th> <td>    0.0190</td> <td>    0.036</td> <td>    0.522</td> <td> 0.602</td> <td>   -0.052</td> <td>    0.090</td>\n</tr>\n<tr>\n  <th>L1.wiki_views</th> <td> 3.453e-07</td> <td> 2.27e-06</td> <td>    0.152</td> <td> 0.879</td> <td>-4.09e-06</td> <td> 4.79e-06</td>\n</tr>\n<tr>\n  <th>L1.usd_eur</th>    <td>   -5.4852</td> <td>    6.909</td> <td>   -0.794</td> <td> 0.427</td> <td>  -19.026</td> <td>    8.056</td>\n</tr>\n<tr>\n  <th>L1.oil_wti</th>    <td>   -0.0463</td> <td>    0.035</td> <td>   -1.326</td> <td> 0.185</td> <td>   -0.115</td> <td>    0.022</td>\n</tr>\n<tr>\n  <th>L1.gold</th>       <td>   -0.0013</td> <td>    0.004</td> <td>   -0.333</td> <td> 0.739</td> <td>   -0.009</td> <td>    0.007</td>\n</tr>\n<tr>\n  <th>L1.sp500</th>      <td>    0.0039</td> <td>    0.002</td> <td>    2.020</td> <td> 0.043</td> <td>    0.000</td> <td>    0.008</td>\n</tr>\n<tr>\n  <th>L1.sse</th>        <td>    0.0002</td> <td>    0.001</td> <td>    0.178</td> <td> 0.859</td> <td>   -0.002</td> <td>    0.002</td>\n</tr>\n<tr>\n  <th>L1.ffd_rate</th>   <td>    0.2380</td> <td>    1.154</td> <td>    0.206</td> <td> 0.837</td> <td>   -2.023</td> <td>    2.499</td>\n</tr>\n</table>\n<table class=\"simpletable\">\n<caption>Det. terms outside the coint. relation & lagged endog. parameters for equation gold</caption>\n<tr>\n        <td></td>           <th>coef</th>     <th>std err</th>      <th>z</th>      <th>P>|z|</th>  <th>[0.025</th>    <th>0.975]</th>  \n</tr>\n<tr>\n  <th>L1.btc</th>        <td>   -0.0024</td> <td>    0.001</td> <td>   -2.123</td> <td> 0.034</td> <td>   -0.005</td> <td>   -0.000</td>\n</tr>\n<tr>\n  <th>L1.tot_btc</th>    <td>    0.0001</td> <td> 9.91e-05</td> <td>    1.287</td> <td> 0.198</td> <td>-6.66e-05</td> <td>    0.000</td>\n</tr>\n<tr>\n  <th>L1.hs_rate</th>    <td>-4.741e-07</td> <td> 6.71e-07</td> <td>   -0.706</td> <td> 0.480</td> <td>-1.79e-06</td> <td> 8.42e-07</td>\n</tr>\n<tr>\n  <th>L1.eth</th>        <td>    0.0043</td> <td>    0.015</td> <td>    0.284</td> <td> 0.776</td> <td>   -0.025</td> <td>    0.034</td>\n</tr>\n<tr>\n  <th>L1.ggl_trends</th> <td>    0.1962</td> <td>    0.308</td> <td>    0.638</td> <td> 0.524</td> <td>   -0.407</td> <td>    0.799</td>\n</tr>\n<tr>\n  <th>L1.wiki_views</th> <td>-2.012e-06</td> <td> 1.92e-05</td> <td>   -0.105</td> <td> 0.916</td> <td>-3.96e-05</td> <td> 3.56e-05</td>\n</tr>\n<tr>\n  <th>L1.usd_eur</th>    <td>  371.7328</td> <td>   58.456</td> <td>    6.359</td> <td> 0.000</td> <td>  257.162</td> <td>  486.304</td>\n</tr>\n<tr>\n  <th>L1.oil_wti</th>    <td>    0.5879</td> <td>    0.295</td> <td>    1.990</td> <td> 0.047</td> <td>    0.009</td> <td>    1.167</td>\n</tr>\n<tr>\n  <th>L1.gold</th>       <td>   -0.0549</td> <td>    0.034</td> <td>   -1.613</td> <td> 0.107</td> <td>   -0.122</td> <td>    0.012</td>\n</tr>\n<tr>\n  <th>L1.sp500</th>      <td>   -0.0316</td> <td>    0.016</td> <td>   -1.950</td> <td> 0.051</td> <td>   -0.063</td> <td>    0.000</td>\n</tr>\n<tr>\n  <th>L1.sse</th>        <td>    0.0160</td> <td>    0.008</td> <td>    2.087</td> <td> 0.037</td> <td>    0.001</td> <td>    0.031</td>\n</tr>\n<tr>\n  <th>L1.ffd_rate</th>   <td>   10.3563</td> <td>    9.761</td> <td>    1.061</td> <td> 0.289</td> <td>   -8.776</td> <td>   29.488</td>\n</tr>\n</table>\n<table class=\"simpletable\">\n<caption>Det. terms outside the coint. relation & lagged endog. parameters for equation sp500</caption>\n<tr>\n        <td></td>           <th>coef</th>     <th>std err</th>      <th>z</th>      <th>P>|z|</th>  <th>[0.025</th>    <th>0.975]</th>  \n</tr>\n<tr>\n  <th>L1.btc</th>        <td>    0.0023</td> <td>    0.002</td> <td>    0.962</td> <td> 0.336</td> <td>   -0.002</td> <td>    0.007</td>\n</tr>\n<tr>\n  <th>L1.tot_btc</th>    <td>    0.0001</td> <td>    0.000</td> <td>    0.557</td> <td> 0.577</td> <td>   -0.000</td> <td>    0.001</td>\n</tr>\n<tr>\n  <th>L1.hs_rate</th>    <td> 4.596e-06</td> <td> 1.45e-06</td> <td>    3.164</td> <td> 0.002</td> <td> 1.75e-06</td> <td> 7.44e-06</td>\n</tr>\n<tr>\n  <th>L1.eth</th>        <td>   -0.0029</td> <td>    0.033</td> <td>   -0.090</td> <td> 0.928</td> <td>   -0.067</td> <td>    0.061</td>\n</tr>\n<tr>\n  <th>L1.ggl_trends</th> <td>   -0.1171</td> <td>    0.666</td> <td>   -0.176</td> <td> 0.860</td> <td>   -1.423</td> <td>    1.188</td>\n</tr>\n<tr>\n  <th>L1.wiki_views</th> <td> 2.225e-05</td> <td> 4.15e-05</td> <td>    0.537</td> <td> 0.592</td> <td> -5.9e-05</td> <td>    0.000</td>\n</tr>\n<tr>\n  <th>L1.usd_eur</th>    <td>   95.4566</td> <td>  126.499</td> <td>    0.755</td> <td> 0.450</td> <td> -152.477</td> <td>  343.391</td>\n</tr>\n<tr>\n  <th>L1.oil_wti</th>    <td>   -0.0665</td> <td>    0.639</td> <td>   -0.104</td> <td> 0.917</td> <td>   -1.320</td> <td>    1.187</td>\n</tr>\n<tr>\n  <th>L1.gold</th>       <td>   -0.0835</td> <td>    0.074</td> <td>   -1.134</td> <td> 0.257</td> <td>   -0.228</td> <td>    0.061</td>\n</tr>\n<tr>\n  <th>L1.sp500</th>      <td>   -0.0083</td> <td>    0.035</td> <td>   -0.236</td> <td> 0.813</td> <td>   -0.077</td> <td>    0.061</td>\n</tr>\n<tr>\n  <th>L1.sse</th>        <td>   -0.0212</td> <td>    0.017</td> <td>   -1.275</td> <td> 0.202</td> <td>   -0.054</td> <td>    0.011</td>\n</tr>\n<tr>\n  <th>L1.ffd_rate</th>   <td>  -60.1489</td> <td>   21.124</td> <td>   -2.847</td> <td> 0.004</td> <td> -101.551</td> <td>  -18.747</td>\n</tr>\n</table>\n<table class=\"simpletable\">\n<caption>Det. terms outside the coint. relation & lagged endog. parameters for equation sse</caption>\n<tr>\n        <td></td>           <th>coef</th>     <th>std err</th>      <th>z</th>      <th>P>|z|</th>  <th>[0.025</th>    <th>0.975]</th>  \n</tr>\n<tr>\n  <th>L1.btc</th>        <td>    0.0024</td> <td>    0.005</td> <td>    0.501</td> <td> 0.617</td> <td>   -0.007</td> <td>    0.012</td>\n</tr>\n<tr>\n  <th>L1.tot_btc</th>    <td>    0.0003</td> <td>    0.000</td> <td>    0.691</td> <td> 0.490</td> <td>   -0.001</td> <td>    0.001</td>\n</tr>\n<tr>\n  <th>L1.hs_rate</th>    <td> 1.815e-06</td> <td> 2.86e-06</td> <td>    0.635</td> <td> 0.526</td> <td>-3.79e-06</td> <td> 7.42e-06</td>\n</tr>\n<tr>\n  <th>L1.eth</th>        <td>   -0.0177</td> <td>    0.064</td> <td>   -0.277</td> <td> 0.782</td> <td>   -0.143</td> <td>    0.108</td>\n</tr>\n<tr>\n  <th>L1.ggl_trends</th> <td>   -0.5479</td> <td>    1.311</td> <td>   -0.418</td> <td> 0.676</td> <td>   -3.117</td> <td>    2.022</td>\n</tr>\n<tr>\n  <th>L1.wiki_views</th> <td> 2.071e-05</td> <td> 8.16e-05</td> <td>    0.254</td> <td> 0.800</td> <td>   -0.000</td> <td>    0.000</td>\n</tr>\n<tr>\n  <th>L1.usd_eur</th>    <td> -316.1723</td> <td>  248.982</td> <td>   -1.270</td> <td> 0.204</td> <td> -804.168</td> <td>  171.823</td>\n</tr>\n<tr>\n  <th>L1.oil_wti</th>    <td>    0.9158</td> <td>    1.258</td> <td>    0.728</td> <td> 0.467</td> <td>   -1.551</td> <td>    3.382</td>\n</tr>\n<tr>\n  <th>L1.gold</th>       <td>   -0.0149</td> <td>    0.145</td> <td>   -0.103</td> <td> 0.918</td> <td>   -0.299</td> <td>    0.269</td>\n</tr>\n<tr>\n  <th>L1.sp500</th>      <td>    0.5565</td> <td>    0.069</td> <td>    8.055</td> <td> 0.000</td> <td>    0.421</td> <td>    0.692</td>\n</tr>\n<tr>\n  <th>L1.sse</th>        <td>   -0.0423</td> <td>    0.033</td> <td>   -1.295</td> <td> 0.195</td> <td>   -0.106</td> <td>    0.022</td>\n</tr>\n<tr>\n  <th>L1.ffd_rate</th>   <td>    0.1910</td> <td>   41.577</td> <td>    0.005</td> <td> 0.996</td> <td>  -81.298</td> <td>   81.680</td>\n</tr>\n</table>\n<table class=\"simpletable\">\n<caption>Det. terms outside the coint. relation & lagged endog. parameters for equation ffd_rate</caption>\n<tr>\n        <td></td>           <th>coef</th>     <th>std err</th>      <th>z</th>      <th>P>|z|</th>  <th>[0.025</th>    <th>0.975]</th>  \n</tr>\n<tr>\n  <th>L1.btc</th>        <td>-7.836e-07</td> <td> 3.71e-06</td> <td>   -0.211</td> <td> 0.833</td> <td>-8.06e-06</td> <td> 6.49e-06</td>\n</tr>\n<tr>\n  <th>L1.tot_btc</th>    <td>-3.337e-08</td> <td> 3.31e-07</td> <td>   -0.101</td> <td> 0.920</td> <td>-6.83e-07</td> <td> 6.16e-07</td>\n</tr>\n<tr>\n  <th>L1.hs_rate</th>    <td> 3.379e-10</td> <td> 2.25e-09</td> <td>    0.150</td> <td> 0.880</td> <td>-4.06e-09</td> <td> 4.74e-09</td>\n</tr>\n<tr>\n  <th>L1.eth</th>        <td> 5.636e-05</td> <td> 5.02e-05</td> <td>    1.122</td> <td> 0.262</td> <td>-4.21e-05</td> <td>    0.000</td>\n</tr>\n<tr>\n  <th>L1.ggl_trends</th> <td>    0.0006</td> <td>    0.001</td> <td>    0.536</td> <td> 0.592</td> <td>   -0.001</td> <td>    0.003</td>\n</tr>\n<tr>\n  <th>L1.wiki_views</th> <td>-1.445e-07</td> <td> 6.41e-08</td> <td>   -2.254</td> <td> 0.024</td> <td> -2.7e-07</td> <td>-1.88e-08</td>\n</tr>\n<tr>\n  <th>L1.usd_eur</th>    <td>   -0.1408</td> <td>    0.196</td> <td>   -0.720</td> <td> 0.471</td> <td>   -0.524</td> <td>    0.242</td>\n</tr>\n<tr>\n  <th>L1.oil_wti</th>    <td>   -0.0003</td> <td>    0.001</td> <td>   -0.333</td> <td> 0.739</td> <td>   -0.002</td> <td>    0.002</td>\n</tr>\n<tr>\n  <th>L1.gold</th>       <td>-1.947e-05</td> <td>    0.000</td> <td>   -0.171</td> <td> 0.864</td> <td>   -0.000</td> <td>    0.000</td>\n</tr>\n<tr>\n  <th>L1.sp500</th>      <td>-2.053e-05</td> <td> 5.43e-05</td> <td>   -0.378</td> <td> 0.705</td> <td>   -0.000</td> <td> 8.58e-05</td>\n</tr>\n<tr>\n  <th>L1.sse</th>        <td> 1.176e-05</td> <td> 2.57e-05</td> <td>    0.458</td> <td> 0.647</td> <td>-3.86e-05</td> <td> 6.21e-05</td>\n</tr>\n<tr>\n  <th>L1.ffd_rate</th>   <td>   -0.2563</td> <td>    0.033</td> <td>   -7.850</td> <td> 0.000</td> <td>   -0.320</td> <td>   -0.192</td>\n</tr>\n</table>\n<table class=\"simpletable\">\n<caption>Loading coefficients (alpha) for equation btc</caption>\n<tr>\n   <td></td>      <th>coef</th>     <th>std err</th>      <th>z</th>      <th>P>|z|</th>  <th>[0.025</th>    <th>0.975]</th>  \n</tr>\n<tr>\n  <th>ec1</th> <td>   -0.0188</td> <td>    0.014</td> <td>   -1.359</td> <td> 0.174</td> <td>   -0.046</td> <td>    0.008</td>\n</tr>\n<tr>\n  <th>ec2</th> <td>-9.159e-05</td> <td> 1.51e-05</td> <td>   -6.076</td> <td> 0.000</td> <td>   -0.000</td> <td> -6.2e-05</td>\n</tr>\n<tr>\n  <th>ec3</th> <td>-9.715e-07</td> <td> 2.38e-06</td> <td>   -0.409</td> <td> 0.683</td> <td>-5.63e-06</td> <td> 3.68e-06</td>\n</tr>\n<tr>\n  <th>ec4</th> <td>   -0.5608</td> <td>    0.127</td> <td>   -4.428</td> <td> 0.000</td> <td>   -0.809</td> <td>   -0.313</td>\n</tr>\n</table>\n<table class=\"simpletable\">\n<caption>Loading coefficients (alpha) for equation tot_btc</caption>\n<tr>\n   <td></td>      <th>coef</th>     <th>std err</th>      <th>z</th>      <th>P>|z|</th>  <th>[0.025</th>    <th>0.975]</th>  \n</tr>\n<tr>\n  <th>ec1</th> <td>    0.0368</td> <td>    0.132</td> <td>    0.279</td> <td> 0.781</td> <td>   -0.222</td> <td>    0.296</td>\n</tr>\n<tr>\n  <th>ec2</th> <td>    0.0006</td> <td>    0.000</td> <td>    4.229</td> <td> 0.000</td> <td>    0.000</td> <td>    0.001</td>\n</tr>\n<tr>\n  <th>ec3</th> <td> 6.532e-05</td> <td> 2.27e-05</td> <td>    2.883</td> <td> 0.004</td> <td> 2.09e-05</td> <td>    0.000</td>\n</tr>\n<tr>\n  <th>ec4</th> <td>   -0.8444</td> <td>    1.208</td> <td>   -0.699</td> <td> 0.485</td> <td>   -3.212</td> <td>    1.523</td>\n</tr>\n</table>\n<table class=\"simpletable\">\n<caption>Loading coefficients (alpha) for equation hs_rate</caption>\n<tr>\n   <td></td>      <th>coef</th>     <th>std err</th>      <th>z</th>      <th>P>|z|</th>  <th>[0.025</th>    <th>0.975]</th>  \n</tr>\n<tr>\n  <th>ec1</th> <td>   49.6701</td> <td>   18.673</td> <td>    2.660</td> <td> 0.008</td> <td>   13.073</td> <td>   86.268</td>\n</tr>\n<tr>\n  <th>ec2</th> <td>    0.0516</td> <td>    0.020</td> <td>    2.541</td> <td> 0.011</td> <td>    0.012</td> <td>    0.091</td>\n</tr>\n<tr>\n  <th>ec3</th> <td>   -0.0061</td> <td>    0.003</td> <td>   -1.893</td> <td> 0.058</td> <td>   -0.012</td> <td>    0.000</td>\n</tr>\n<tr>\n  <th>ec4</th> <td> -116.3166</td> <td>  170.621</td> <td>   -0.682</td> <td> 0.495</td> <td> -450.728</td> <td>  218.095</td>\n</tr>\n</table>\n<table class=\"simpletable\">\n<caption>Loading coefficients (alpha) for equation eth</caption>\n<tr>\n   <td></td>      <th>coef</th>     <th>std err</th>      <th>z</th>      <th>P>|z|</th>  <th>[0.025</th>    <th>0.975]</th>  \n</tr>\n<tr>\n  <th>ec1</th> <td>    0.0067</td> <td>    0.001</td> <td>    6.732</td> <td> 0.000</td> <td>    0.005</td> <td>    0.009</td>\n</tr>\n<tr>\n  <th>ec2</th> <td>-4.081e-06</td> <td> 1.08e-06</td> <td>   -3.772</td> <td> 0.000</td> <td> -6.2e-06</td> <td>-1.96e-06</td>\n</tr>\n<tr>\n  <th>ec3</th> <td>-1.055e-06</td> <td>  1.7e-07</td> <td>   -6.188</td> <td> 0.000</td> <td>-1.39e-06</td> <td>-7.21e-07</td>\n</tr>\n<tr>\n  <th>ec4</th> <td>   -0.0738</td> <td>    0.009</td> <td>   -8.116</td> <td> 0.000</td> <td>   -0.092</td> <td>   -0.056</td>\n</tr>\n</table>\n<table class=\"simpletable\">\n<caption>Loading coefficients (alpha) for equation ggl_trends</caption>\n<tr>\n   <td></td>      <th>coef</th>     <th>std err</th>      <th>z</th>      <th>P>|z|</th>  <th>[0.025</th>    <th>0.975]</th>  \n</tr>\n<tr>\n  <th>ec1</th> <td> 3.994e-05</td> <td>  3.9e-05</td> <td>    1.025</td> <td> 0.305</td> <td>-3.64e-05</td> <td>    0.000</td>\n</tr>\n<tr>\n  <th>ec2</th> <td>-3.232e-11</td> <td> 4.24e-08</td> <td>   -0.001</td> <td> 0.999</td> <td>-8.31e-08</td> <td>  8.3e-08</td>\n</tr>\n<tr>\n  <th>ec3</th> <td>-6.339e-10</td> <td> 6.68e-09</td> <td>   -0.095</td> <td> 0.924</td> <td>-1.37e-08</td> <td> 1.25e-08</td>\n</tr>\n<tr>\n  <th>ec4</th> <td>-7.911e-05</td> <td>    0.000</td> <td>   -0.222</td> <td> 0.824</td> <td>   -0.001</td> <td>    0.001</td>\n</tr>\n</table>\n<table class=\"simpletable\">\n<caption>Loading coefficients (alpha) for equation wiki_views</caption>\n<tr>\n   <td></td>      <th>coef</th>     <th>std err</th>      <th>z</th>      <th>P>|z|</th>  <th>[0.025</th>    <th>0.975]</th>  \n</tr>\n<tr>\n  <th>ec1</th> <td>   -0.6149</td> <td>    0.688</td> <td>   -0.893</td> <td> 0.372</td> <td>   -1.964</td> <td>    0.734</td>\n</tr>\n<tr>\n  <th>ec2</th> <td>    0.0016</td> <td>    0.001</td> <td>    2.202</td> <td> 0.028</td> <td>    0.000</td> <td>    0.003</td>\n</tr>\n<tr>\n  <th>ec3</th> <td>   -0.0006</td> <td>    0.000</td> <td>   -4.758</td> <td> 0.000</td> <td>   -0.001</td> <td>   -0.000</td>\n</tr>\n<tr>\n  <th>ec4</th> <td>  -16.2771</td> <td>    6.289</td> <td>   -2.588</td> <td> 0.010</td> <td>  -28.604</td> <td>   -3.950</td>\n</tr>\n</table>\n<table class=\"simpletable\">\n<caption>Loading coefficients (alpha) for equation usd_eur</caption>\n<tr>\n   <td></td>      <th>coef</th>     <th>std err</th>      <th>z</th>      <th>P>|z|</th>  <th>[0.025</th>    <th>0.975]</th>  \n</tr>\n<tr>\n  <th>ec1</th> <td> 1.799e-07</td> <td> 2.37e-07</td> <td>    0.760</td> <td> 0.447</td> <td>-2.84e-07</td> <td> 6.44e-07</td>\n</tr>\n<tr>\n  <th>ec2</th> <td> 2.058e-10</td> <td> 2.57e-10</td> <td>    0.800</td> <td> 0.424</td> <td>-2.99e-10</td> <td>  7.1e-10</td>\n</tr>\n<tr>\n  <th>ec3</th> <td>-2.364e-11</td> <td> 4.06e-11</td> <td>   -0.583</td> <td> 0.560</td> <td>-1.03e-10</td> <td> 5.58e-11</td>\n</tr>\n<tr>\n  <th>ec4</th> <td> 2.108e-07</td> <td> 2.16e-06</td> <td>    0.097</td> <td> 0.922</td> <td>-4.03e-06</td> <td> 4.45e-06</td>\n</tr>\n</table>\n<table class=\"simpletable\">\n<caption>Loading coefficients (alpha) for equation oil_wti</caption>\n<tr>\n   <td></td>      <th>coef</th>     <th>std err</th>      <th>z</th>      <th>P>|z|</th>  <th>[0.025</th>    <th>0.975]</th>  \n</tr>\n<tr>\n  <th>ec1</th> <td> 9.366e-05</td> <td> 4.64e-05</td> <td>    2.018</td> <td> 0.044</td> <td> 2.67e-06</td> <td>    0.000</td>\n</tr>\n<tr>\n  <th>ec2</th> <td> 6.192e-08</td> <td> 5.05e-08</td> <td>    1.226</td> <td> 0.220</td> <td> -3.7e-08</td> <td> 1.61e-07</td>\n</tr>\n<tr>\n  <th>ec3</th> <td>-1.297e-08</td> <td> 7.96e-09</td> <td>   -1.631</td> <td> 0.103</td> <td>-2.86e-08</td> <td> 2.62e-09</td>\n</tr>\n<tr>\n  <th>ec4</th> <td>   -0.0002</td> <td>    0.000</td> <td>   -0.538</td> <td> 0.591</td> <td>   -0.001</td> <td>    0.001</td>\n</tr>\n</table>\n<table class=\"simpletable\">\n<caption>Loading coefficients (alpha) for equation gold</caption>\n<tr>\n   <td></td>      <th>coef</th>     <th>std err</th>      <th>z</th>      <th>P>|z|</th>  <th>[0.025</th>    <th>0.975]</th>  \n</tr>\n<tr>\n  <th>ec1</th> <td>    0.0012</td> <td>    0.000</td> <td>    3.014</td> <td> 0.003</td> <td>    0.000</td> <td>    0.002</td>\n</tr>\n<tr>\n  <th>ec2</th> <td> 4.906e-07</td> <td> 4.27e-07</td> <td>    1.148</td> <td> 0.251</td> <td>-3.47e-07</td> <td> 1.33e-06</td>\n</tr>\n<tr>\n  <th>ec3</th> <td> -2.36e-07</td> <td> 6.73e-08</td> <td>   -3.506</td> <td> 0.000</td> <td>-3.68e-07</td> <td>-1.04e-07</td>\n</tr>\n<tr>\n  <th>ec4</th> <td>   -0.0088</td> <td>    0.004</td> <td>   -2.464</td> <td> 0.014</td> <td>   -0.016</td> <td>   -0.002</td>\n</tr>\n</table>\n<table class=\"simpletable\">\n<caption>Loading coefficients (alpha) for equation sp500</caption>\n<tr>\n   <td></td>      <th>coef</th>     <th>std err</th>      <th>z</th>      <th>P>|z|</th>  <th>[0.025</th>    <th>0.975]</th>  \n</tr>\n<tr>\n  <th>ec1</th> <td>    0.0020</td> <td>    0.001</td> <td>    2.405</td> <td> 0.016</td> <td>    0.000</td> <td>    0.004</td>\n</tr>\n<tr>\n  <th>ec2</th> <td> 1.467e-06</td> <td> 9.24e-07</td> <td>    1.586</td> <td> 0.113</td> <td>-3.45e-07</td> <td> 3.28e-06</td>\n</tr>\n<tr>\n  <th>ec3</th> <td>-2.555e-07</td> <td> 1.46e-07</td> <td>   -1.754</td> <td> 0.079</td> <td>-5.41e-07</td> <td>    3e-08</td>\n</tr>\n<tr>\n  <th>ec4</th> <td>   -0.0054</td> <td>    0.008</td> <td>   -0.701</td> <td> 0.483</td> <td>   -0.021</td> <td>    0.010</td>\n</tr>\n</table>\n<table class=\"simpletable\">\n<caption>Loading coefficients (alpha) for equation sse</caption>\n<tr>\n   <td></td>      <th>coef</th>     <th>std err</th>      <th>z</th>      <th>P>|z|</th>  <th>[0.025</th>    <th>0.975]</th>  \n</tr>\n<tr>\n  <th>ec1</th> <td>    0.0021</td> <td>    0.002</td> <td>    1.258</td> <td> 0.208</td> <td>   -0.001</td> <td>    0.005</td>\n</tr>\n<tr>\n  <th>ec2</th> <td> 4.646e-07</td> <td> 1.82e-06</td> <td>    0.255</td> <td> 0.798</td> <td> -3.1e-06</td> <td> 4.03e-06</td>\n</tr>\n<tr>\n  <th>ec3</th> <td>-3.723e-07</td> <td> 2.87e-07</td> <td>   -1.299</td> <td> 0.194</td> <td>-9.34e-07</td> <td>  1.9e-07</td>\n</tr>\n<tr>\n  <th>ec4</th> <td>   -0.0100</td> <td>    0.015</td> <td>   -0.655</td> <td> 0.513</td> <td>   -0.040</td> <td>    0.020</td>\n</tr>\n</table>\n<table class=\"simpletable\">\n<caption>Loading coefficients (alpha) for equation ffd_rate</caption>\n<tr>\n   <td></td>      <th>coef</th>     <th>std err</th>      <th>z</th>      <th>P>|z|</th>  <th>[0.025</th>    <th>0.975]</th>  \n</tr>\n<tr>\n  <th>ec1</th> <td>-6.539e-07</td> <td> 1.31e-06</td> <td>   -0.498</td> <td> 0.619</td> <td>-3.23e-06</td> <td> 1.92e-06</td>\n</tr>\n<tr>\n  <th>ec2</th> <td> 2.096e-10</td> <td> 1.43e-09</td> <td>    0.147</td> <td> 0.883</td> <td>-2.59e-09</td> <td> 3.01e-09</td>\n</tr>\n<tr>\n  <th>ec3</th> <td> 1.777e-10</td> <td> 2.25e-10</td> <td>    0.789</td> <td> 0.430</td> <td>-2.64e-10</td> <td> 6.19e-10</td>\n</tr>\n<tr>\n  <th>ec4</th> <td> 4.713e-06</td> <td>  1.2e-05</td> <td>    0.393</td> <td> 0.695</td> <td>-1.88e-05</td> <td> 2.82e-05</td>\n</tr>\n</table>\n<table class=\"simpletable\">\n<caption>Cointegration relations for loading-coefficients-column 1</caption>\n<tr>\n     <td></td>        <th>coef</th>     <th>std err</th>      <th>z</th>      <th>P>|z|</th>  <th>[0.025</th>    <th>0.975]</th>  \n</tr>\n<tr>\n  <th>beta.1</th>  <td>    1.0000</td> <td>        0</td> <td>        0</td> <td> 0.000</td> <td>    1.000</td> <td>    1.000</td>\n</tr>\n<tr>\n  <th>beta.2</th>  <td>-3.023e-18</td> <td>        0</td> <td>        0</td> <td> 0.000</td> <td>-3.02e-18</td> <td>-3.02e-18</td>\n</tr>\n<tr>\n  <th>beta.3</th>  <td>-5.076e-19</td> <td>        0</td> <td>        0</td> <td> 0.000</td> <td>-5.08e-19</td> <td>-5.08e-19</td>\n</tr>\n<tr>\n  <th>beta.4</th>  <td>-1.978e-16</td> <td>        0</td> <td>        0</td> <td> 0.000</td> <td>-1.98e-16</td> <td>-1.98e-16</td>\n</tr>\n<tr>\n  <th>beta.5</th>  <td> -626.6412</td> <td>   30.730</td> <td>  -20.392</td> <td> 0.000</td> <td> -686.871</td> <td> -566.412</td>\n</tr>\n<tr>\n  <th>beta.6</th>  <td>    0.0936</td> <td>  2.3e+04</td> <td> 4.06e-06</td> <td> 1.000</td> <td>-4.51e+04</td> <td> 4.51e+04</td>\n</tr>\n<tr>\n  <th>beta.7</th>  <td>-5404.1084</td> <td> 1.87e+05</td> <td>   -0.029</td> <td> 0.977</td> <td>-3.72e+05</td> <td> 3.61e+05</td>\n</tr>\n<tr>\n  <th>beta.8</th>  <td>  -73.1392</td> <td>    4.369</td> <td>  -16.739</td> <td> 0.000</td> <td>  -81.703</td> <td>  -64.575</td>\n</tr>\n<tr>\n  <th>beta.9</th>  <td>    6.4950</td> <td>    0.006</td> <td> 1093.560</td> <td> 0.000</td> <td>    6.483</td> <td>    6.507</td>\n</tr>\n<tr>\n  <th>beta.10</th> <td>   -1.8915</td> <td>    4.450</td> <td>   -0.425</td> <td> 0.671</td> <td>  -10.613</td> <td>    6.830</td>\n</tr>\n<tr>\n  <th>beta.11</th> <td>    0.9936</td> <td>   36.163</td> <td>    0.027</td> <td> 0.978</td> <td>  -69.885</td> <td>   71.872</td>\n</tr>\n<tr>\n  <th>beta.12</th> <td> 1218.9524</td> <td>    0.001</td> <td> 1.44e+06</td> <td> 0.000</td> <td> 1218.951</td> <td> 1218.954</td>\n</tr>\n</table>\n<table class=\"simpletable\">\n<caption>Cointegration relations for loading-coefficients-column 2</caption>\n<tr>\n     <td></td>        <th>coef</th>     <th>std err</th>      <th>z</th>      <th>P>|z|</th>  <th>[0.025</th>    <th>0.975]</th>  \n</tr>\n<tr>\n  <th>beta.1</th>  <td>-1.031e-14</td> <td>        0</td> <td>        0</td> <td> 0.000</td> <td>-1.03e-14</td> <td>-1.03e-14</td>\n</tr>\n<tr>\n  <th>beta.2</th>  <td>    1.0000</td> <td>        0</td> <td>        0</td> <td> 0.000</td> <td>    1.000</td> <td>    1.000</td>\n</tr>\n<tr>\n  <th>beta.3</th>  <td> 1.344e-17</td> <td>        0</td> <td>        0</td> <td> 0.000</td> <td> 1.34e-17</td> <td> 1.34e-17</td>\n</tr>\n<tr>\n  <th>beta.4</th>  <td>-9.457e-14</td> <td>        0</td> <td>        0</td> <td> 0.000</td> <td>-9.46e-14</td> <td>-9.46e-14</td>\n</tr>\n<tr>\n  <th>beta.5</th>  <td> 2.083e+05</td> <td> 3420.562</td> <td>   60.903</td> <td> 0.000</td> <td> 2.02e+05</td> <td> 2.15e+05</td>\n</tr>\n<tr>\n  <th>beta.6</th>  <td>  -44.3896</td> <td> 2.56e+06</td> <td>-1.73e-05</td> <td> 1.000</td> <td>-5.02e+06</td> <td> 5.02e+06</td>\n</tr>\n<tr>\n  <th>beta.7</th>  <td> 1.486e+07</td> <td> 2.08e+07</td> <td>    0.713</td> <td> 0.476</td> <td> -2.6e+07</td> <td> 5.57e+07</td>\n</tr>\n<tr>\n  <th>beta.8</th>  <td>-8236.9768</td> <td>  486.355</td> <td>  -16.936</td> <td> 0.000</td> <td>-9190.214</td> <td>-7283.739</td>\n</tr>\n<tr>\n  <th>beta.9</th>  <td>-1.153e+04</td> <td>   29.784</td> <td> -387.074</td> <td> 0.000</td> <td>-1.16e+04</td> <td>-1.15e+04</td>\n</tr>\n<tr>\n  <th>beta.10</th> <td>-6350.2600</td> <td> 2.23e+04</td> <td>   -0.285</td> <td> 0.776</td> <td>-5.01e+04</td> <td> 3.74e+04</td>\n</tr>\n<tr>\n  <th>beta.11</th> <td>  241.9640</td> <td> 1.81e+05</td> <td>    0.001</td> <td> 0.999</td> <td>-3.55e+05</td> <td> 3.56e+05</td>\n</tr>\n<tr>\n  <th>beta.12</th> <td>-3.433e+05</td> <td>    4.235</td> <td>-8.11e+04</td> <td> 0.000</td> <td>-3.43e+05</td> <td>-3.43e+05</td>\n</tr>\n</table>\n<table class=\"simpletable\">\n<caption>Cointegration relations for loading-coefficients-column 3</caption>\n<tr>\n     <td></td>        <th>coef</th>     <th>std err</th>      <th>z</th>      <th>P>|z|</th>  <th>[0.025</th>    <th>0.975]</th>  \n</tr>\n<tr>\n  <th>beta.1</th>  <td> 1.225e-13</td> <td>        0</td> <td>        0</td> <td> 0.000</td> <td> 1.22e-13</td> <td> 1.22e-13</td>\n</tr>\n<tr>\n  <th>beta.2</th>  <td> 3.159e-15</td> <td>        0</td> <td>        0</td> <td> 0.000</td> <td> 3.16e-15</td> <td> 3.16e-15</td>\n</tr>\n<tr>\n  <th>beta.3</th>  <td>    1.0000</td> <td>        0</td> <td>        0</td> <td> 0.000</td> <td>    1.000</td> <td>    1.000</td>\n</tr>\n<tr>\n  <th>beta.4</th>  <td> 1.391e-12</td> <td>        0</td> <td>        0</td> <td> 0.000</td> <td> 1.39e-12</td> <td> 1.39e-12</td>\n</tr>\n<tr>\n  <th>beta.5</th>  <td>-1.461e+06</td> <td>    2.438</td> <td>-5.99e+05</td> <td> 0.000</td> <td>-1.46e+06</td> <td>-1.46e+06</td>\n</tr>\n<tr>\n  <th>beta.6</th>  <td>  320.3024</td> <td> 1826.841</td> <td>    0.175</td> <td> 0.861</td> <td>-3260.240</td> <td> 3900.845</td>\n</tr>\n<tr>\n  <th>beta.7</th>  <td> 1.177e+08</td> <td> 1.48e+04</td> <td> 7926.470</td> <td> 0.000</td> <td> 1.18e+08</td> <td> 1.18e+08</td>\n</tr>\n<tr>\n  <th>beta.8</th>  <td>-1.683e+05</td> <td>    0.347</td> <td>-4.85e+05</td> <td> 0.000</td> <td>-1.68e+05</td> <td>-1.68e+05</td>\n</tr>\n<tr>\n  <th>beta.9</th>  <td> -2.54e+04</td> <td>    2.154</td> <td>-1.18e+04</td> <td> 0.000</td> <td>-2.54e+04</td> <td>-2.54e+04</td>\n</tr>\n<tr>\n  <th>beta.10</th> <td>-5.218e+04</td> <td> 1613.871</td> <td>  -32.329</td> <td> 0.000</td> <td>-5.53e+04</td> <td> -4.9e+04</td>\n</tr>\n<tr>\n  <th>beta.11</th> <td> 1.583e+04</td> <td> 1.31e+04</td> <td>    1.207</td> <td> 0.227</td> <td>-9875.290</td> <td> 4.15e+04</td>\n</tr>\n<tr>\n  <th>beta.12</th> <td>-3.613e+06</td> <td>    0.306</td> <td>-1.18e+07</td> <td> 0.000</td> <td>-3.61e+06</td> <td>-3.61e+06</td>\n</tr>\n</table>\n<table class=\"simpletable\">\n<caption>Cointegration relations for loading-coefficients-column 4</caption>\n<tr>\n     <td></td>        <th>coef</th>     <th>std err</th>      <th>z</th>      <th>P>|z|</th>  <th>[0.025</th>    <th>0.975]</th>  \n</tr>\n<tr>\n  <th>beta.1</th>  <td>-1.888e-19</td> <td>        0</td> <td>        0</td> <td> 0.000</td> <td>-1.89e-19</td> <td>-1.89e-19</td>\n</tr>\n<tr>\n  <th>beta.2</th>  <td> 1.981e-19</td> <td>        0</td> <td>        0</td> <td> 0.000</td> <td> 1.98e-19</td> <td> 1.98e-19</td>\n</tr>\n<tr>\n  <th>beta.3</th>  <td> 8.268e-20</td> <td>        0</td> <td>        0</td> <td> 0.000</td> <td> 8.27e-20</td> <td> 8.27e-20</td>\n</tr>\n<tr>\n  <th>beta.4</th>  <td>    1.0000</td> <td>        0</td> <td>        0</td> <td> 0.000</td> <td>    1.000</td> <td>    1.000</td>\n</tr>\n<tr>\n  <th>beta.5</th>  <td>  -36.7080</td> <td>    0.786</td> <td>  -46.723</td> <td> 0.000</td> <td>  -38.248</td> <td>  -35.168</td>\n</tr>\n<tr>\n  <th>beta.6</th>  <td>    0.0055</td> <td>  588.605</td> <td> 9.29e-06</td> <td> 1.000</td> <td>-1153.638</td> <td> 1153.649</td>\n</tr>\n<tr>\n  <th>beta.7</th>  <td>-3681.7020</td> <td> 4783.700</td> <td>   -0.770</td> <td> 0.442</td> <td>-1.31e+04</td> <td> 5694.178</td>\n</tr>\n<tr>\n  <th>beta.8</th>  <td>   -5.2428</td> <td>    0.112</td> <td>  -46.933</td> <td> 0.000</td> <td>   -5.462</td> <td>   -5.024</td>\n</tr>\n<tr>\n  <th>beta.9</th>  <td>    1.5847</td> <td>  716.905</td> <td>    0.002</td> <td> 0.998</td> <td>-1403.523</td> <td> 1406.693</td>\n</tr>\n<tr>\n  <th>beta.10</th> <td>    0.9264</td> <td> 5.37e+05</td> <td> 1.72e-06</td> <td> 1.000</td> <td>-1.05e+06</td> <td> 1.05e+06</td>\n</tr>\n<tr>\n  <th>beta.11</th> <td>   -0.1205</td> <td> 4.37e+06</td> <td>-2.76e-08</td> <td> 1.000</td> <td>-8.56e+06</td> <td> 8.56e+06</td>\n</tr>\n<tr>\n  <th>beta.12</th> <td>  -86.8167</td> <td>  101.934</td> <td>   -0.852</td> <td> 0.394</td> <td> -286.603</td> <td>  112.969</td>\n</tr>\n</table>"
     },
     "metadata": {},
     "output_type": "execute_result",
     "execution_count": 91
    }
   ],
   "source": [
    "from statsmodels.tsa.vector_ar.vecm import VECM\n",
    "df_vecm = VECM(endog=df_train, k_ar_diff=1, coint_rank=4)\n",
    "df_vecm_fitted = df_vecm.fit()\n",
    "df_vecm_fitted.summary()"
   ],
   "metadata": {
    "collapsed": false,
    "pycharm": {
     "name": "#%%\n",
     "is_executing": false
    }
   }
  },
  {
   "cell_type": "code",
   "execution_count": 90,
   "outputs": [
    {
     "data": {
      "text/plain": "array([ 1.00000000e+00, -7.10589748e-13,  6.71257892e-12,  9.16629883e-17,\n        3.81734785e-18,  3.60765008e-14])"
     },
     "metadata": {},
     "output_type": "execute_result",
     "execution_count": 90
    }
   ],
   "source": [
    "df_vecm_fitted.beta[0]"
   ],
   "metadata": {
    "collapsed": false,
    "pycharm": {
     "name": "#%%\n",
     "is_executing": false
    }
   }
  },
  {
   "cell_type": "code",
   "execution_count": null,
   "outputs": [],
   "source": [],
   "metadata": {
    "collapsed": false,
    "pycharm": {
     "name": "#%%\n"
    }
   }
  }
 ],
 "metadata": {
  "kernelspec": {
   "display_name": "Python 3",
   "language": "python",
   "name": "python3"
  },
  "language_info": {
   "codemirror_mode": {
    "name": "ipython",
    "version": 2
   },
   "file_extension": ".py",
   "mimetype": "text/x-python",
   "name": "python",
   "nbconvert_exporter": "python",
   "pygments_lexer": "ipython2",
   "version": "2.7.6"
  },
  "pycharm": {
   "stem_cell": {
    "cell_type": "raw",
    "source": [],
    "metadata": {
     "collapsed": false
    }
   }
  }
 },
 "nbformat": 4,
 "nbformat_minor": 0
}