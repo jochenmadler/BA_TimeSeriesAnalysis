{
 "cells": [
  {
   "cell_type": "code",
   "execution_count": null,
   "outputs": [],
   "source": [
    "# set up imports\n",
    "import pandas as pd, numpy as np, seaborn as sns\n",
    "from tabulate import tabulate\n",
    "import statsmodels\n",
    "import arch\n",
    "import matplotlib\n",
    "matplotlib.use('qt5agg')\n",
    "\n",
    "# configure plot style\n",
    "import matplotlib.pyplot as plt\n",
    "plt.rcParams['mathtext.fontset'] = 'stix'\n",
    "plt.rcParams['font.family'] = 'STIXGeneral'\n",
    "plt.rcParams[\"figure.figsize\"] = (7,2.75)\n",
    "plt.rcParams['figure.constrained_layout.use'] = False\n",
    "plt.rcParams['figure.dpi'] = 100\n",
    "plt.rcParams['savefig.dpi'] = 100\n",
    "plt.rcParams['lines.linewidth'] = 0.8\n",
    "save_plot_to =  r'C:\\\\Users\\joche\\OneDrive\\03 TUM - TUM-BWL\\Semester 8\\01 Bachelorarbeit\\04 Results\\Plots/'"
   ],
   "metadata": {
    "collapsed": false,
    "pycharm": {
     "name": "#%%\n"
    }
   }
  },
  {
   "cell_type": "code",
   "execution_count": 143,
   "outputs": [],
   "source": [
    "# load data and crop to start_date:end_date\n",
    "start_date = '2015-08-07'\n",
    "end_date = '2020-06-26'\n",
    "idx = pd.date_range(start_date, end_date)\n",
    "index_name = 'date'\n",
    "mydateparser = lambda x: pd.datetime.strptime(str(x), '%Y-%m-%d %H:%M:%S')\n",
    "mydateparser1 = lambda x: pd.datetime.strptime(str(x), '%Y-%m-%d')\n",
    "\n",
    "# btc\n",
    "btc = pd.read_excel('Data/BTC_closing.xlsx', parse_dates=[0], index_col=0, date_parser=mydateparser)[start_date:end_date]\n",
    "btc.index.name = index_name\n",
    "btc.columns = ['btc']\n",
    "\n",
    "# usd_eur\n",
    "usd_eur = pd.read_excel('Data/DEXUSEU.xls', parse_dates=[0], index_col=0, skiprows=10, date_parser=mydateparser)[start_date:end_date]\n",
    "usd_eur.index.name = index_name\n",
    "usd_eur.columns = ['usd_eur']\n",
    "usd_eur = usd_eur.loc[(usd_eur!=0).any(1)]\n",
    "\n",
    "# tot_btc: only weekly data - missing values interpolated\n",
    "tot_btc = pd.read_csv('Data/total-bitcoins', index_col=0)[start_date:end_date]\n",
    "tot_btc.index = pd.DatetimeIndex(tot_btc.index, normalize=True).normalize()\n",
    "tot_btc.index.name = index_name\n",
    "tot_btc = tot_btc.reindex(idx, fill_value=None)\n",
    "tot_btc.interpolate(method='time', inplace=True, limit_direction='both')\n",
    "tot_btc.columns = ['tot_btc']\n",
    "\n",
    "# hs_rate: only weekly data - missing values interpolated\n",
    "hs_rate = pd.read_csv('Data/hash-rate', index_col=0)[start_date:end_date]\n",
    "hs_rate.index = pd.DatetimeIndex(hs_rate.index, normalize=True).normalize()\n",
    "hs_rate.index.name = index_name\n",
    "hs_rate = hs_rate.reindex(idx, fill_value=None)\n",
    "hs_rate.interpolate(method='time', inplace=True, limit_direction='both')\n",
    "hs_rate.columns = ['hs_rate']\n",
    "\n",
    "# eth\n",
    "eth = pd.read_excel('Data/ETH.xlsx', parse_dates=[0], index_col=0, date_parser=mydateparser, usecols='A,E')[start_date:end_date]\n",
    "eth.index.name = index_name\n",
    "eth.columns = ['eth']\n",
    "\n",
    "# ggl_trends: only weekly data - missing values interpolated\n",
    "# ggl_trends: weighted average of 15 countries\n",
    "ggl_trends = pd.read_csv('Data/googletrends.txt', index_col=0)[start_date:end_date]\n",
    "ggl_trends.index = pd.DatetimeIndex(ggl_trends.index, normalize=True).normalize()\n",
    "ggl_trends.index.name = index_name\n",
    "ggl_trends = ggl_trends.reindex(idx, fill_value=None)\n",
    "ggl_trends.interpolate(method='time', inplace=True, limit_direction='both')\n",
    "ggl_trends['btc-average'] = np.round(ggl_trends.sum(axis=1)/15)\n",
    "ggl_trends = ggl_trends[['btc-average']].copy()\n",
    "ggl_trends.columns = ['ggl_trends']\n",
    "\n",
    "# wiki_views: sum of 99 countries\n",
    "wiki_views = pd.read_excel('Data/wikipedia.xlsx', parse_dates=[0], index_col=0, date_parser=mydateparser1)[start_date:end_date]\n",
    "wiki_views.index = pd.DatetimeIndex(wiki_views.index, normalize=True).normalize()\n",
    "wiki_views.index.name = index_name\n",
    "wiki_views['wiki-total'] = np.round(wiki_views.sum(axis=1))\n",
    "wiki_views = wiki_views[['wiki-total']].copy()\n",
    "wiki_views.columns = ['wiki_views']\n",
    "\n",
    "# wti_oil\n",
    "oil_wti = pd.read_excel('Data/DCOILWTICO.xls', parse_dates=[0], index_col=0, skiprows=10, date_parser=mydateparser)[start_date:end_date]\n",
    "oil_wti.index = pd.DatetimeIndex(oil_wti.index, normalize=True).normalize()\n",
    "oil_wti.index.name = index_name\n",
    "oil_wti.columns = ['oil_wti']\n",
    "oil_wti = oil_wti.loc[(oil_wti!=0).any(1)]\n",
    "\n",
    "# gold\n",
    "gold = pd.read_excel('Data/GOLDAMGBD228NLBM10AM.xls', parse_dates=[0], index_col=0, skiprows=10, date_parser=mydateparser)[start_date:end_date]\n",
    "gold.index = pd.DatetimeIndex(gold.index, normalize=True).normalize()\n",
    "gold.index.name = index_name\n",
    "gold.columns = ['gold']\n",
    "gold = gold.loc[(gold!=0).any(1)]\n",
    "\n",
    "# sp500\n",
    "sp500 = pd.read_excel('Data/SP500.xls', parse_dates=[0], index_col=0, skiprows=10, date_parser=mydateparser)[start_date:end_date]\n",
    "sp500.index = pd.DatetimeIndex(sp500.index, normalize=True).normalize()\n",
    "sp500.index.name = index_name\n",
    "sp500.columns = ['sp500']\n",
    "sp500 = sp500.loc[(sp500!=0).any(1)]\n",
    "\n",
    "# sse \n",
    "sse = pd.read_excel('Data/SSEcomposite.xlsx', parse_dates=[0], index_col=0, header=0, date_parser=mydateparser)[start_date:end_date]\n",
    "sse.index = pd.DatetimeIndex(sse.index, normalize=True).normalize()\n",
    "sse.index.name = index_name\n",
    "sse = sse[['Zuletzt']].copy()\n",
    "sse.columns = ['sse']\n",
    "\n",
    "# ffd_rate\n",
    "ffd_rate = pd.read_excel('Data/DFF.xls', parse_dates=[0], index_col=0, skiprows=10, date_parser=mydateparser)[start_date:end_date]\n",
    "ffd_rate.index = pd.DatetimeIndex(ffd_rate.index, normalize=True).normalize()\n",
    "ffd_rate.index.name = index_name\n",
    "ffd_rate.columns = ['ffd_rate']"
   ],
   "metadata": {
    "collapsed": false,
    "pycharm": {
     "name": "#%%\n",
     "is_executing": false
    }
   }
  },
  {
   "cell_type": "code",
   "execution_count": 144,
   "outputs": [
    {
     "data": {
      "text/plain": "                btc       tot_btc       hs_rate         eth  ggl_trends  \\\ndate                                                                      \n2015-08-07   279.58  1.447762e+07  3.775640e+05    2.770000         2.0   \n2015-08-10   264.47  1.448130e+07  3.687855e+05    0.708448         2.0   \n2015-08-11   270.39  1.448498e+07  3.754390e+05    1.070000         2.0   \n2015-08-12   266.38  1.448865e+07  3.820926e+05    1.220000         2.0   \n2015-08-13   264.08  1.449229e+07  3.887461e+05    1.830000         2.0   \n...             ...           ...           ...         ...         ...   \n2020-06-18  9411.84  1.840797e+07  1.090229e+08  232.100000        10.0   \n2020-06-19  9288.02  1.840862e+07  1.074749e+08  227.140000        10.0   \n2020-06-22  9648.72  1.841192e+07  1.074657e+08  242.530000        10.0   \n2020-06-23  9629.66  1.841279e+07  1.082351e+08  244.140000        10.0   \n2020-06-24  9313.61  1.841366e+07  1.082351e+08  235.770000        10.0   \n\n            wiki_views  usd_eur  oil_wti     gold    sp500      sse  ffd_rate  \ndate                                                                           \n2015-08-07       15560   1.0958    43.87  1091.35  2077.57  3744.20      0.14  \n2015-08-10       15113   1.0994    44.94  1094.80  2104.18  3928.42      0.14  \n2015-08-11       15320   1.1042    43.11  1113.25  2084.07  3927.91      0.15  \n2015-08-12       15255   1.1198    43.22  1116.80  2086.05  3886.32      0.15  \n2015-08-13       23711   1.1144    42.27  1117.35  2083.39  3954.56      0.15  \n...                ...      ...      ...      ...      ...      ...       ...  \n2020-06-18       16234   1.1216    38.79  1732.65  3115.34  2939.32      0.09  \n2020-06-19       15721   1.1189    39.72  1728.55  3097.74  2967.63      0.09  \n2020-06-22       16482   1.1260    40.60  1745.45  3117.86  2965.27      0.08  \n2020-06-23       16216   1.1322    40.40  1756.60  3131.29  2970.62      0.08  \n2020-06-24       15743   1.1272    37.91  1775.70  3050.33  2979.55      0.08  \n\n[1112 rows x 12 columns]",
      "text/html": "<div>\n<style scoped>\n    .dataframe tbody tr th:only-of-type {\n        vertical-align: middle;\n    }\n\n    .dataframe tbody tr th {\n        vertical-align: top;\n    }\n\n    .dataframe thead th {\n        text-align: right;\n    }\n</style>\n<table border=\"1\" class=\"dataframe\">\n  <thead>\n    <tr style=\"text-align: right;\">\n      <th></th>\n      <th>btc</th>\n      <th>tot_btc</th>\n      <th>hs_rate</th>\n      <th>eth</th>\n      <th>ggl_trends</th>\n      <th>wiki_views</th>\n      <th>usd_eur</th>\n      <th>oil_wti</th>\n      <th>gold</th>\n      <th>sp500</th>\n      <th>sse</th>\n      <th>ffd_rate</th>\n    </tr>\n    <tr>\n      <th>date</th>\n      <th></th>\n      <th></th>\n      <th></th>\n      <th></th>\n      <th></th>\n      <th></th>\n      <th></th>\n      <th></th>\n      <th></th>\n      <th></th>\n      <th></th>\n      <th></th>\n    </tr>\n  </thead>\n  <tbody>\n    <tr>\n      <td>2015-08-07</td>\n      <td>279.58</td>\n      <td>1.447762e+07</td>\n      <td>3.775640e+05</td>\n      <td>2.770000</td>\n      <td>2.0</td>\n      <td>15560</td>\n      <td>1.0958</td>\n      <td>43.87</td>\n      <td>1091.35</td>\n      <td>2077.57</td>\n      <td>3744.20</td>\n      <td>0.14</td>\n    </tr>\n    <tr>\n      <td>2015-08-10</td>\n      <td>264.47</td>\n      <td>1.448130e+07</td>\n      <td>3.687855e+05</td>\n      <td>0.708448</td>\n      <td>2.0</td>\n      <td>15113</td>\n      <td>1.0994</td>\n      <td>44.94</td>\n      <td>1094.80</td>\n      <td>2104.18</td>\n      <td>3928.42</td>\n      <td>0.14</td>\n    </tr>\n    <tr>\n      <td>2015-08-11</td>\n      <td>270.39</td>\n      <td>1.448498e+07</td>\n      <td>3.754390e+05</td>\n      <td>1.070000</td>\n      <td>2.0</td>\n      <td>15320</td>\n      <td>1.1042</td>\n      <td>43.11</td>\n      <td>1113.25</td>\n      <td>2084.07</td>\n      <td>3927.91</td>\n      <td>0.15</td>\n    </tr>\n    <tr>\n      <td>2015-08-12</td>\n      <td>266.38</td>\n      <td>1.448865e+07</td>\n      <td>3.820926e+05</td>\n      <td>1.220000</td>\n      <td>2.0</td>\n      <td>15255</td>\n      <td>1.1198</td>\n      <td>43.22</td>\n      <td>1116.80</td>\n      <td>2086.05</td>\n      <td>3886.32</td>\n      <td>0.15</td>\n    </tr>\n    <tr>\n      <td>2015-08-13</td>\n      <td>264.08</td>\n      <td>1.449229e+07</td>\n      <td>3.887461e+05</td>\n      <td>1.830000</td>\n      <td>2.0</td>\n      <td>23711</td>\n      <td>1.1144</td>\n      <td>42.27</td>\n      <td>1117.35</td>\n      <td>2083.39</td>\n      <td>3954.56</td>\n      <td>0.15</td>\n    </tr>\n    <tr>\n      <td>...</td>\n      <td>...</td>\n      <td>...</td>\n      <td>...</td>\n      <td>...</td>\n      <td>...</td>\n      <td>...</td>\n      <td>...</td>\n      <td>...</td>\n      <td>...</td>\n      <td>...</td>\n      <td>...</td>\n      <td>...</td>\n    </tr>\n    <tr>\n      <td>2020-06-18</td>\n      <td>9411.84</td>\n      <td>1.840797e+07</td>\n      <td>1.090229e+08</td>\n      <td>232.100000</td>\n      <td>10.0</td>\n      <td>16234</td>\n      <td>1.1216</td>\n      <td>38.79</td>\n      <td>1732.65</td>\n      <td>3115.34</td>\n      <td>2939.32</td>\n      <td>0.09</td>\n    </tr>\n    <tr>\n      <td>2020-06-19</td>\n      <td>9288.02</td>\n      <td>1.840862e+07</td>\n      <td>1.074749e+08</td>\n      <td>227.140000</td>\n      <td>10.0</td>\n      <td>15721</td>\n      <td>1.1189</td>\n      <td>39.72</td>\n      <td>1728.55</td>\n      <td>3097.74</td>\n      <td>2967.63</td>\n      <td>0.09</td>\n    </tr>\n    <tr>\n      <td>2020-06-22</td>\n      <td>9648.72</td>\n      <td>1.841192e+07</td>\n      <td>1.074657e+08</td>\n      <td>242.530000</td>\n      <td>10.0</td>\n      <td>16482</td>\n      <td>1.1260</td>\n      <td>40.60</td>\n      <td>1745.45</td>\n      <td>3117.86</td>\n      <td>2965.27</td>\n      <td>0.08</td>\n    </tr>\n    <tr>\n      <td>2020-06-23</td>\n      <td>9629.66</td>\n      <td>1.841279e+07</td>\n      <td>1.082351e+08</td>\n      <td>244.140000</td>\n      <td>10.0</td>\n      <td>16216</td>\n      <td>1.1322</td>\n      <td>40.40</td>\n      <td>1756.60</td>\n      <td>3131.29</td>\n      <td>2970.62</td>\n      <td>0.08</td>\n    </tr>\n    <tr>\n      <td>2020-06-24</td>\n      <td>9313.61</td>\n      <td>1.841366e+07</td>\n      <td>1.082351e+08</td>\n      <td>235.770000</td>\n      <td>10.0</td>\n      <td>15743</td>\n      <td>1.1272</td>\n      <td>37.91</td>\n      <td>1775.70</td>\n      <td>3050.33</td>\n      <td>2979.55</td>\n      <td>0.08</td>\n    </tr>\n  </tbody>\n</table>\n<p>1112 rows × 12 columns</p>\n</div>"
     },
     "metadata": {},
     "output_type": "execute_result",
     "execution_count": 144
    }
   ],
   "source": [
    "# merge data to one df (inner join)\n",
    "from functools import reduce\n",
    "temp = [btc,tot_btc,hs_rate,eth,ggl_trends,wiki_views,usd_eur,oil_wti,\n",
    "              gold,sp500,sse,ffd_rate]\n",
    "df = reduce(lambda left, right: pd.merge(left, right, left_index=True, right_index=True), temp)\n",
    "df"
   ],
   "metadata": {
    "collapsed": false,
    "pycharm": {
     "name": "#%%\n",
     "is_executing": false
    }
   }
  },
  {
   "cell_type": "code",
   "execution_count": 92,
   "outputs": [],
   "source": [
    "# define plotting function\n",
    "def plot_df(df):\n",
    "    fig_i, axs = plt.subplots(4,3, figsize=(9.5,4.15))\n",
    "    for i, ax in enumerate(axs.flatten()):\n",
    "        data = df[df.columns[i]]\n",
    "        ax.plot(data, color='black')\n",
    "        ax.set_title(df.columns[i])\n",
    "        ax.xaxis.set_ticks_position('none')\n",
    "        ax.yaxis.set_ticks_position('none')\n",
    "        #ax.spines['top'].set_alpha(0)\n",
    "        ax.tick_params(labelsize=8)\n",
    "    plt.tight_layout()\n",
    "    return fig_i"
   ],
   "metadata": {
    "collapsed": false,
    "pycharm": {
     "name": "#%%\n",
     "is_executing": false
    }
   }
  },
  {
   "cell_type": "code",
   "execution_count": 93,
   "outputs": [],
   "source": [
    "# plot raw time series\n",
    "fig_1 = plot_df(df)"
   ],
   "metadata": {
    "collapsed": false,
    "pycharm": {
     "name": "#%%\n",
     "is_executing": false
    }
   }
  },
  {
   "cell_type": "code",
   "execution_count": 152,
   "outputs": [
    {
     "name": "stderr",
     "text": [
      "C:\\Users\\joche\\Anaconda3\\lib\\site-packages\\ipykernel_launcher.py:2: RuntimeWarning: invalid value encountered in log\n  \n"
     ],
     "output_type": "stream"
    },
    {
     "data": {
      "text/plain": "btc_log           0\ntot_btc_log       0\nhs_rate_log       0\neth_log           0\nggl_trends_log    0\nwiki_views_log    0\nusd_eur_log       0\noil_wti_log       0\ngold_log          0\nsp500_log         0\nsse_log           0\nffd_rate_log      0\ndtype: int64"
     },
     "metadata": {},
     "output_type": "execute_result",
     "execution_count": 152
    }
   ],
   "source": [
    "# take log of time series and relabl columns\n",
    "df_log = np.log(df)\n",
    "new_cols = list()\n",
    "for i in df_log.columns:\n",
    "    new_cols.append(i+'_log')\n",
    "df_log.columns = new_cols\n",
    "\n",
    "# plot log time series\n",
    "fig_2 = plot_df(df_log)\n",
    "\n",
    "# fill na value of negative oil price on 2020-04-20 with 0\n",
    "df_log.fillna(value=0, inplace=True)\n",
    "df_log.isna().sum()"
   ],
   "metadata": {
    "collapsed": false,
    "pycharm": {
     "name": "#%%\n",
     "is_executing": false
    }
   }
  },
  {
   "cell_type": "code",
   "execution_count": 100,
   "outputs": [
    {
     "data": {
      "text/plain": "(array([ 0.5,  1.5,  2.5,  3.5,  4.5,  5.5,  6.5,  7.5,  8.5,  9.5, 10.5,\n        11.5]), <a list of 12 Text yticklabel objects>)"
     },
     "metadata": {},
     "output_type": "execute_result",
     "execution_count": 100
    }
   ],
   "source": [
    "# plot correlation heatmap\n",
    "corr = df.corr()\n",
    "# more html colors here: https://www.w3schools.com/colors/colors_names.asp\n",
    "# pal = sns.light_palette('lightgrey', as_cmap=True)\n",
    "ax = sns.heatmap(corr, xticklabels=corr.columns.values, yticklabels=corr.columns.values, annot=True, \n",
    "            annot_kws={'size':7}, vmin=-1, center=0, vmax=1, cmap=\"YlGnBu\")\n",
    "bottom, top = ax.get_ylim()\n",
    "ax.set_ylim(bottom + 0.5, top - 0.5)\n",
    "fig_3 = plt.gcf()\n",
    "fig_3.set_size_inches(9.5,4.15)\n",
    "plt.tick_params(axis='both', which='major', labelsize=7.5, labelbottom = False, bottom=False, top = False, labeltop=True)\n",
    "plt.xticks(fontsize=7.5, rotation=1)\n",
    "plt.yticks(fontsize=7.5)"
   ],
   "metadata": {
    "collapsed": false,
    "pycharm": {
     "name": "#%%\n",
     "is_executing": false
    }
   }
  },
  {
   "cell_type": "code",
   "execution_count": 155,
   "outputs": [],
   "source": [
    "# adf- and pp-test of all time series\n",
    "from arch.unitroot import ADF, PhillipsPerron\n",
    "def stationarity_tests(df, latex):\n",
    "    for col in df:\n",
    "        adf = ADF(df[col])\n",
    "        pp = PhillipsPerron(df[col])\n",
    "        \n",
    "        if latex is False:\n",
    "            # write summary as plain text to std.out\n",
    "            print('Timeseries:\\t',col,'\\n',\n",
    "                  adf.summary(),'\\n\\n',pp.summary(),'\\n\\n\\n')\n",
    "        else:\n",
    "            # write summary as latex to file\n",
    "            with open(save_plot_to + 'Stationarity_Tests_LaTeX.txt', 'a') as myfile:\n",
    "                myfile.write('Timeseries:\\t'+col+'\\n'\n",
    "                         +adf.summary().as_latex()+'\\n\\n'\n",
    "                         +pp.summary().as_latex()+'\\n\\n\\n')"
   ],
   "metadata": {
    "collapsed": false,
    "pycharm": {
     "name": "#%%\n",
     "is_executing": false
    }
   }
  },
  {
   "cell_type": "code",
   "execution_count": 103,
   "outputs": [],
   "source": [
    "# adf- and pp-test of raw time series, set latex accordingly\n",
    "stationarity_tests(df, latex=False)"
   ],
   "metadata": {
    "collapsed": false,
    "pycharm": {
     "name": "#%%\n",
     "is_executing": false
    }
   }
  },
  {
   "cell_type": "code",
   "execution_count": 125,
   "outputs": [
    {
     "name": "stdout",
     "text": [
      "Timeseries:\t btc \ntransformation:\t log \n    Augmented Dickey-Fuller Results   \n=====================================\nTest Statistic                 -1.502\nP-value                         0.533\nLags                                0\n-------------------------------------\n\nTrend: Constant\nCritical Values: -3.44 (1%), -2.86 (5%), -2.57 (10%)\nNull Hypothesis: The process contains a unit root.\nAlternative Hypothesis: The process is weakly stationary. \n\n      Phillips-Perron Test (Z-tau)    \n=====================================\nTest Statistic                 -1.488\nP-value                         0.540\nLags                               22\n-------------------------------------\n\nTrend: Constant\nCritical Values: -3.44 (1%), -2.86 (5%), -2.57 (10%)\nNull Hypothesis: The process contains a unit root.\nAlternative Hypothesis: The process is weakly stationary. \n\n\n\nTimeseries:\t tot_btc \ntransformation:\t log \n    Augmented Dickey-Fuller Results   \n=====================================\nTest Statistic                 -3.067\nP-value                         0.029\nLags                               19\n-------------------------------------\n\nTrend: Constant\nCritical Values: -3.44 (1%), -2.86 (5%), -2.57 (10%)\nNull Hypothesis: The process contains a unit root.\nAlternative Hypothesis: The process is weakly stationary. \n\n      Phillips-Perron Test (Z-tau)    \n=====================================\nTest Statistic                 -9.504\nP-value                         0.000\nLags                               22\n-------------------------------------\n\nTrend: Constant\nCritical Values: -3.44 (1%), -2.86 (5%), -2.57 (10%)\nNull Hypothesis: The process contains a unit root.\nAlternative Hypothesis: The process is weakly stationary. \n\n\n\nTimeseries:\t hs_rate \ntransformation:\t log \n    Augmented Dickey-Fuller Results   \n=====================================\nTest Statistic                 -2.376\nP-value                         0.149\nLags                                5\n-------------------------------------\n\nTrend: Constant\nCritical Values: -3.44 (1%), -2.86 (5%), -2.57 (10%)\nNull Hypothesis: The process contains a unit root.\nAlternative Hypothesis: The process is weakly stationary. \n\n      Phillips-Perron Test (Z-tau)    \n=====================================\nTest Statistic                 -2.265\nP-value                         0.183\nLags                               22\n-------------------------------------\n\nTrend: Constant\nCritical Values: -3.44 (1%), -2.86 (5%), -2.57 (10%)\nNull Hypothesis: The process contains a unit root.\nAlternative Hypothesis: The process is weakly stationary. \n\n\n\nTimeseries:\t eth \ntransformation:\t log \n    Augmented Dickey-Fuller Results   \n=====================================\nTest Statistic                 -2.069\nP-value                         0.257\nLags                               13\n-------------------------------------\n\nTrend: Constant\nCritical Values: -3.44 (1%), -2.86 (5%), -2.57 (10%)\nNull Hypothesis: The process contains a unit root.\nAlternative Hypothesis: The process is weakly stationary. \n\n      Phillips-Perron Test (Z-tau)    \n=====================================\nTest Statistic                 -1.502\nP-value                         0.533\nLags                               22\n-------------------------------------\n\nTrend: Constant\nCritical Values: -3.44 (1%), -2.86 (5%), -2.57 (10%)\nNull Hypothesis: The process contains a unit root.\nAlternative Hypothesis: The process is weakly stationary. \n\n\n\nTimeseries:\t ggl_trends \ntransformation:\t log \n    Augmented Dickey-Fuller Results   \n=====================================\nTest Statistic                 -2.327\nP-value                         0.163\nLags                                6\n-------------------------------------\n\nTrend: Constant\nCritical Values: -3.44 (1%), -2.86 (5%), -2.57 (10%)\nNull Hypothesis: The process contains a unit root.\nAlternative Hypothesis: The process is weakly stationary. \n\n      Phillips-Perron Test (Z-tau)    \n=====================================\nTest Statistic                 -2.243\nP-value                         0.191\nLags                               22\n-------------------------------------\n\nTrend: Constant\nCritical Values: -3.44 (1%), -2.86 (5%), -2.57 (10%)\nNull Hypothesis: The process contains a unit root.\nAlternative Hypothesis: The process is weakly stationary. \n\n\n\nTimeseries:\t wiki_views \ntransformation:\t log \n    Augmented Dickey-Fuller Results   \n=====================================\nTest Statistic                 -2.240\nP-value                         0.192\nLags                                4\n-------------------------------------\n\nTrend: Constant\nCritical Values: -3.44 (1%), -2.86 (5%), -2.57 (10%)\nNull Hypothesis: The process contains a unit root.\nAlternative Hypothesis: The process is weakly stationary. \n\n      Phillips-Perron Test (Z-tau)    \n=====================================\nTest Statistic                 -3.419\nP-value                         0.010\nLags                               22\n-------------------------------------\n\nTrend: Constant\nCritical Values: -3.44 (1%), -2.86 (5%), -2.57 (10%)\nNull Hypothesis: The process contains a unit root.\nAlternative Hypothesis: The process is weakly stationary. \n\n\n\nTimeseries:\t usd_eur \ntransformation:\t log \n    Augmented Dickey-Fuller Results   \n=====================================\nTest Statistic                 -2.300\nP-value                         0.172\nLags                                0\n-------------------------------------\n\nTrend: Constant\nCritical Values: -3.44 (1%), -2.86 (5%), -2.57 (10%)\nNull Hypothesis: The process contains a unit root.\nAlternative Hypothesis: The process is weakly stationary. \n\n      Phillips-Perron Test (Z-tau)    \n=====================================\nTest Statistic                 -2.100\nP-value                         0.244\nLags                               22\n-------------------------------------\n\nTrend: Constant\nCritical Values: -3.44 (1%), -2.86 (5%), -2.57 (10%)\nNull Hypothesis: The process contains a unit root.\nAlternative Hypothesis: The process is weakly stationary. \n\n\n\nTimeseries:\t oil_wti \ntransformation:\t log \n    Augmented Dickey-Fuller Results   \n=====================================\nTest Statistic                 -2.588\nP-value                         0.096\nLags                               19\n-------------------------------------\n\nTrend: Constant\nCritical Values: -3.44 (1%), -2.86 (5%), -2.57 (10%)\nNull Hypothesis: The process contains a unit root.\nAlternative Hypothesis: The process is weakly stationary. \n\n      Phillips-Perron Test (Z-tau)    \n=====================================\nTest Statistic                 -6.813\nP-value                         0.000\nLags                               22\n-------------------------------------\n\nTrend: Constant\nCritical Values: -3.44 (1%), -2.86 (5%), -2.57 (10%)\nNull Hypothesis: The process contains a unit root.\nAlternative Hypothesis: The process is weakly stationary. \n\n\n\nTimeseries:\t gold \ntransformation:\t log \n    Augmented Dickey-Fuller Results   \n=====================================\nTest Statistic                  0.055\nP-value                         0.963\nLags                               17\n-------------------------------------\n\nTrend: Constant\nCritical Values: -3.44 (1%), -2.86 (5%), -2.57 (10%)\nNull Hypothesis: The process contains a unit root.\nAlternative Hypothesis: The process is weakly stationary. \n\n      Phillips-Perron Test (Z-tau)    \n=====================================\nTest Statistic                 -0.342\nP-value                         0.919\nLags                               22\n-------------------------------------\n\nTrend: Constant\nCritical Values: -3.44 (1%), -2.86 (5%), -2.57 (10%)\nNull Hypothesis: The process contains a unit root.\nAlternative Hypothesis: The process is weakly stationary. \n\n\n\nTimeseries:\t sp500",
      " \ntransformation:\t log \n    Augmented Dickey-Fuller Results   \n=====================================\nTest Statistic                 -1.380\nP-value                         0.592\nLags                               21\n-------------------------------------\n\nTrend: Constant\nCritical Values: -3.44 (1%), -2.86 (5%), -2.57 (10%)\nNull Hypothesis: The process contains a unit root.\nAlternative Hypothesis: The process is weakly stationary. \n\n      Phillips-Perron Test (Z-tau)    \n=====================================\nTest Statistic                 -1.341\nP-value                         0.610\nLags                               22\n-------------------------------------\n\nTrend: Constant\nCritical Values: -3.44 (1%), -2.86 (5%), -2.57 (10%)\nNull Hypothesis: The process contains a unit root.\nAlternative Hypothesis: The process is weakly stationary. \n\n\n\nTimeseries:\t sse \ntransformation:\t log \n    Augmented Dickey-Fuller Results   \n=====================================\nTest Statistic                 -3.849\nP-value                         0.002\nLags                                5\n-------------------------------------\n\nTrend: Constant\nCritical Values: -3.44 (1%), -2.86 (5%), -2.57 (10%)\nNull Hypothesis: The process contains a unit root.\nAlternative Hypothesis: The process is weakly stationary. \n\n      Phillips-Perron Test (Z-tau)    \n=====================================\nTest Statistic                 -3.480\nP-value                         0.009\nLags                               22\n-------------------------------------\n\nTrend: Constant\nCritical Values: -3.44 (1%), -2.86 (5%), -2.57 (10%)\nNull Hypothesis: The process contains a unit root.\nAlternative Hypothesis: The process is weakly stationary. \n\n\n\nTimeseries:\t ffd_rate \ntransformation:\t log \n    Augmented Dickey-Fuller Results   \n=====================================\nTest Statistic                 -1.485\nP-value                         0.541\nLags                               18\n-------------------------------------\n\nTrend: Constant\nCritical Values: -3.44 (1%), -2.86 (5%), -2.57 (10%)\nNull Hypothesis: The process contains a unit root.\nAlternative Hypothesis: The process is weakly stationary. \n\n      Phillips-Perron Test (Z-tau)    \n=====================================\nTest Statistic                 -1.271\nP-value                         0.642\nLags                               22\n-------------------------------------\n\nTrend: Constant\nCritical Values: -3.44 (1%), -2.86 (5%), -2.57 (10%)\nNull Hypothesis: The process contains a unit root.\nAlternative Hypothesis: The process is weakly stationary. \n\n\n\n"
     ],
     "output_type": "stream"
    }
   ],
   "source": [
    "# adf- and pp-test of log time series, set latex accordingly\n",
    "stationarity_tests(df_log, latex=False)"
   ],
   "metadata": {
    "collapsed": false,
    "pycharm": {
     "name": "#%%\n",
     "is_executing": false
    }
   }
  },
  {
   "cell_type": "code",
   "execution_count": 153,
   "outputs": [],
   "source": [
    "# take first differences of log time series and relabel columns\n",
    "df_log_diff1 = df_log.diff().dropna()\n",
    "new_cols = list()\n",
    "for i in df_log_diff1.columns:\n",
    "    new_cols.append(i+'_diff')\n",
    "df_log_diff1.columns = new_cols\n",
    "\n",
    "# plot first differences log time series\n",
    "fig_4 = plot_df(df_log_diff1)"
   ],
   "metadata": {
    "collapsed": false,
    "pycharm": {
     "name": "#%%\n",
     "is_executing": false
    }
   }
  },
  {
   "cell_type": "code",
   "execution_count": 157,
   "outputs": [],
   "source": [
    "# adf- and pp-test of log time series, set latex accordingly\n",
    "stationarity_tests(df_log_diff1, latex=False)"
   ],
   "metadata": {
    "collapsed": false,
    "pycharm": {
     "name": "#%%\n",
     "is_executing": false
    }
   }
  },
  {
   "cell_type": "code",
   "execution_count": null,
   "outputs": [],
   "source": [
    "# adf- und pp-tests results all as latex to file\n",
    "stationarity_tests(df, latex=True)\n",
    "stationarity_tests(df_log, latex=True)\n",
    "stationarity_tests(df_log_diff1, latex=True)"
   ],
   "metadata": {
    "collapsed": false,
    "pycharm": {
     "name": "#%%\n"
    }
   }
  },
  {
   "cell_type": "code",
   "execution_count": null,
   "outputs": [],
   "source": [
    "# split data into train and test\n",
    "\n"
   ],
   "metadata": {
    "collapsed": false,
    "pycharm": {
     "name": "#%%\n"
    }
   }
  }
 ],
 "metadata": {
  "kernelspec": {
   "display_name": "Python 3",
   "language": "python",
   "name": "python3"
  },
  "language_info": {
   "codemirror_mode": {
    "name": "ipython",
    "version": 2
   },
   "file_extension": ".py",
   "mimetype": "text/x-python",
   "name": "python",
   "nbconvert_exporter": "python",
   "pygments_lexer": "ipython2",
   "version": "2.7.6"
  },
  "pycharm": {
   "stem_cell": {
    "cell_type": "raw",
    "source": [],
    "metadata": {
     "collapsed": false
    }
   }
  }
 },
 "nbformat": 4,
 "nbformat_minor": 0
}