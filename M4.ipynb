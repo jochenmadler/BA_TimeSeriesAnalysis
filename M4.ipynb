{
 "cells": [
  {
   "cell_type": "code",
   "execution_count": 19,
   "outputs": [],
   "source": [
    "# set up imports\n",
    "import pandas as pd, numpy as np, seaborn as sns\n",
    "from tabulate import tabulate\n",
    "import statsmodels\n",
    "import arch\n",
    "import matplotlib\n",
    "matplotlib.use('qt5agg')\n",
    "\n",
    "# configure plot style\n",
    "import matplotlib.pyplot as plt\n",
    "plt.rcParams['mathtext.fontset'] = 'stix'\n",
    "plt.rcParams['font.family'] = 'STIXGeneral'\n",
    "plt.rcParams[\"figure.figsize\"] = (9.5,4.15)\n",
    "plt.rcParams['figure.constrained_layout.use'] = False\n",
    "plt.rcParams['figure.dpi'] = 100\n",
    "plt.rcParams['savefig.dpi'] = 10\n",
    "plt.rcParams['lines.linewidth'] = 0.8\n",
    "save_plot_to =  r'C:\\\\Users\\joche\\OneDrive\\03 TUM - TUM-BWL\\Semester 8\\01 Bachelorarbeit\\04 Results\\Plots/'"
   ],
   "metadata": {
    "collapsed": false,
    "pycharm": {
     "name": "#%%\n",
     "is_executing": false
    }
   }
  },
  {
   "cell_type": "code",
   "execution_count": 2,
   "outputs": [],
   "source": [
    "# load data and crop to start_date:end_date\n",
    "start_date = '2015-08-07'\n",
    "end_date = '2020-06-26'\n",
    "idx = pd.date_range(start_date, end_date)\n",
    "index_name = 'date'\n",
    "mydateparser = lambda x: pd.datetime.strptime(str(x), '%Y-%m-%d %H:%M:%S')\n",
    "mydateparser1 = lambda x: pd.datetime.strptime(str(x), '%Y-%m-%d')\n",
    "\n",
    "# btc\n",
    "btc = pd.read_excel('Data/BTC_closing.xlsx', parse_dates=[0], index_col=0, date_parser=mydateparser)[start_date:end_date]\n",
    "btc.index.name = index_name\n",
    "btc.columns = ['btc']\n",
    "\n",
    "# usd_eur\n",
    "usd_eur = pd.read_excel('Data/DEXUSEU.xls', parse_dates=[0], index_col=0, skiprows=10, date_parser=mydateparser)[start_date:end_date]\n",
    "usd_eur.index.name = index_name\n",
    "usd_eur.columns = ['usd_eur']\n",
    "usd_eur = usd_eur.loc[(usd_eur!=0).any(1)]\n",
    "\n",
    "# tot_btc: only weekly data - missing values interpolated\n",
    "tot_btc = pd.read_csv('Data/total-bitcoins.txt', index_col=0)[start_date:end_date]\n",
    "tot_btc.index = pd.DatetimeIndex(tot_btc.index, normalize=True).normalize()\n",
    "tot_btc.index.name = index_name\n",
    "tot_btc = tot_btc.reindex(idx, fill_value=None)\n",
    "tot_btc.interpolate(method='time', inplace=True, limit_direction='both')\n",
    "tot_btc.columns = ['tot_btc']\n",
    "\n",
    "# hs_rate: only weekly data - missing values interpolated\n",
    "hs_rate = pd.read_csv('Data/hash-rate.txt', index_col=0)[start_date:end_date]\n",
    "hs_rate.index = pd.DatetimeIndex(hs_rate.index, normalize=True).normalize()\n",
    "hs_rate.index.name = index_name\n",
    "hs_rate = hs_rate.reindex(idx, fill_value=None)\n",
    "hs_rate.interpolate(method='time', inplace=True, limit_direction='both')\n",
    "hs_rate.columns = ['hs_rate']\n",
    "\n",
    "# eth\n",
    "eth = pd.read_excel('Data/ETH.xlsx', parse_dates=[0], index_col=0, date_parser=mydateparser, usecols='A,E')[start_date:end_date]\n",
    "eth.index.name = index_name\n",
    "eth.columns = ['eth']\n",
    "\n",
    "# ggl_trends: only weekly data - missing values interpolated\n",
    "# ggl_trends: weighted average of 15 countries\n",
    "ggl_trends = pd.read_csv('Data/googletrends.txt', index_col=0)[start_date:end_date]\n",
    "ggl_trends.index = pd.DatetimeIndex(ggl_trends.index, normalize=True).normalize()\n",
    "ggl_trends.index.name = index_name\n",
    "ggl_trends = ggl_trends.reindex(idx, fill_value=None)\n",
    "ggl_trends.interpolate(method='time', inplace=True, limit_direction='both')\n",
    "ggl_trends['btc-average'] = np.round(ggl_trends.sum(axis=1)/15)\n",
    "ggl_trends = ggl_trends[['btc-average']].copy()\n",
    "ggl_trends.columns = ['ggl_trends']\n",
    "\n",
    "# wiki_views: sum of 99 countries\n",
    "wiki_views = pd.read_excel('Data/wikipedia.xlsx', parse_dates=[0], index_col=0, date_parser=mydateparser1)[start_date:end_date]\n",
    "wiki_views.index = pd.DatetimeIndex(wiki_views.index, normalize=True).normalize()\n",
    "wiki_views.index.name = index_name\n",
    "wiki_views['wiki-total'] = np.round(wiki_views.sum(axis=1))\n",
    "wiki_views = wiki_views[['wiki-total']].copy()\n",
    "wiki_views.columns = ['wiki_views']\n",
    "\n",
    "# wti_oil\n",
    "oil_wti = pd.read_excel('Data/DCOILWTICO.xls', parse_dates=[0], index_col=0, skiprows=10, date_parser=mydateparser)[start_date:end_date]\n",
    "oil_wti.index = pd.DatetimeIndex(oil_wti.index, normalize=True).normalize()\n",
    "oil_wti.index.name = index_name\n",
    "oil_wti.columns = ['oil_wti']\n",
    "oil_wti = oil_wti.loc[(oil_wti!=0).any(1)]\n",
    "\n",
    "# gold\n",
    "gold = pd.read_excel('Data/GOLDAMGBD228NLBM10AM.xls', parse_dates=[0], index_col=0, skiprows=10, date_parser=mydateparser)[start_date:end_date]\n",
    "gold.index = pd.DatetimeIndex(gold.index, normalize=True).normalize()\n",
    "gold.index.name = index_name\n",
    "gold.columns = ['gold']\n",
    "gold = gold.loc[(gold!=0).any(1)]\n",
    "\n",
    "# sp500\n",
    "sp500 = pd.read_excel('Data/SP500.xls', parse_dates=[0], index_col=0, skiprows=10, date_parser=mydateparser)[start_date:end_date]\n",
    "sp500.index = pd.DatetimeIndex(sp500.index, normalize=True).normalize()\n",
    "sp500.index.name = index_name\n",
    "sp500.columns = ['sp500']\n",
    "sp500 = sp500.loc[(sp500!=0).any(1)]\n",
    "\n",
    "# sse \n",
    "sse = pd.read_excel('Data/SSEcomposite.xlsx', parse_dates=[0], index_col=0, header=0, date_parser=mydateparser)[start_date:end_date]\n",
    "sse.index = pd.DatetimeIndex(sse.index, normalize=True).normalize()\n",
    "sse.index.name = index_name\n",
    "sse = sse[['Zuletzt']].copy()\n",
    "sse.columns = ['sse']\n",
    "\n",
    "# ffd_rate\n",
    "ffd_rate = pd.read_excel('Data/DFF.xls', parse_dates=[0], index_col=0, skiprows=10, date_parser=mydateparser)[start_date:end_date]\n",
    "ffd_rate.index = pd.DatetimeIndex(ffd_rate.index, normalize=True).normalize()\n",
    "ffd_rate.index.name = index_name\n",
    "ffd_rate.columns = ['ffd_rate']"
   ],
   "metadata": {
    "collapsed": false,
    "pycharm": {
     "name": "#%%\n",
     "is_executing": false
    }
   }
  },
  {
   "cell_type": "code",
   "execution_count": 3,
   "outputs": [],
   "source": [
    "# merge data to one df (inner join)\n",
    "from functools import reduce\n",
    "temp = [btc,tot_btc,hs_rate,eth,ggl_trends,wiki_views,usd_eur,oil_wti,\n",
    "              gold,sp500,sse,ffd_rate]\n",
    "df = reduce(lambda left, right: pd.merge(left, right, left_index=True, right_index=True), temp)\n",
    "df"
   ],
   "metadata": {
    "collapsed": false,
    "pycharm": {
     "name": "#%%\n",
     "is_executing": false
    }
   }
  },
  {
   "cell_type": "code",
   "execution_count": 4,
   "outputs": [],
   "source": [
    "# split data in pre and post bubble 2018\n",
    "pre_bubble_end_date = '2017-12-01'\n",
    "post_bubble_start_date = '2018-02-01'\n",
    "\n",
    "# pre bubble df\n",
    "pre_df = df[:pre_bubble_end_date]\n",
    "\n",
    "# post bubble df\n",
    "post_df = df[post_bubble_start_date:]"
   ],
   "metadata": {
    "collapsed": false,
    "pycharm": {
     "name": "#%%\n",
     "is_executing": false
    }
   }
  },
  {
   "cell_type": "code",
   "execution_count": 5,
   "outputs": [],
   "source": [
    "# save btc_new.txt dataset with 1112 observations for use in M1-M3\n",
    "def save_btcnew():\n",
    "    btc_cropped = df['btc']\n",
    "    btc_cropped.to_csv(path_or_buf=save_plot_to+'btc_new.txt')\n",
    "\n",
    "# save_btcnew()"
   ],
   "metadata": {
    "collapsed": false,
    "pycharm": {
     "name": "#%%\n",
     "is_executing": false
    }
   }
  },
  {
   "cell_type": "code",
   "execution_count": 109,
   "outputs": [],
   "source": [
    "### RUN TO DEFINE ALL FUNCTIONS ###\n",
    "\n",
    "# define overview-printing function of dataframe\n",
    "def dates_overview(dataframe):\n",
    "    print('start_date:\\t', dataframe.index[0])\n",
    "    print('end_date:\\t', dataframe.index[-1])\n",
    "    print('len df:\\t\\t', len(dataframe))\n",
    "    \n",
    "# define plotting function of dataframe\n",
    "import matplotlib.dates as mdates\n",
    "def plot_df(dataframe):\n",
    "    fig_i, axs = plt.subplots(4,3, figsize=(9.5,4.15))\n",
    "    for i, ax in enumerate(axs.flatten()):\n",
    "        data = dataframe[dataframe.columns[i]]\n",
    "        ax.plot(data, color='black')\n",
    "        ax.set_title(dataframe.columns[i])\n",
    "        ax.xaxis.set_ticks_position('none')\n",
    "        ax.yaxis.set_ticks_position('none')\n",
    "        ax.xaxis.set_major_formatter(mdates.DateFormatter(\"%Y-%m\"))\n",
    "        ax.xaxis.set_minor_formatter(mdates.DateFormatter(\"%Y-%m\"))\n",
    "        #ax.spines['top'].set_alpha(0)\n",
    "        ax.tick_params(labelsize=8)\n",
    "    fig_i.set_size_inches(12,5)\n",
    "    fig_i.tight_layout()\n",
    "    return fig_i\n",
    "\n",
    "# define log-taking and relabeling function\n",
    "def log_of_df(dataframe):\n",
    "    df_log = np.log(dataframe)\n",
    "    new_cols = list()\n",
    "    for i in df_log.columns:\n",
    "        new_cols.append(i+'_log')\n",
    "    df_log.columns = new_cols\n",
    "    # fill na value of negative oil price on 2020-04-20 with 0\n",
    "    df_log.fillna(value=0, inplace=True)\n",
    "    return df_log\n",
    "\n",
    "# define correlation-table generating function of dataframe\n",
    "def corr_table_aslatex_of_df(dataframe):\n",
    "    corr = dataframe.corr().round(3)\n",
    "    print(tabulate(corr, headers=corr.columns, showindex=True, tablefmt=\"latex\"))\n",
    "\n",
    "# define heatmap-generating function of dataframe\n",
    "def heatmap_corr_of_df(dataframe):\n",
    "    corr = dataframe.corr()\n",
    "    # more html colors here: https://www.w3schools.com/colors/colors_names.asp\n",
    "    # pal = sns.light_palette('lightgrey', as_cmap=True)\n",
    "    ax = sns.heatmap(corr, xticklabels=corr.columns.values, yticklabels=corr.columns.values, annot=True, \n",
    "            annot_kws={'size':7}, vmin=-1, center=0, vmax=1, cmap=\"YlGnBu\")\n",
    "    bottom, top = ax.get_ylim()\n",
    "    ax.set_ylim(bottom + 0.5, top - 0.5)\n",
    "    fig_3 = plt.gcf()\n",
    "    fig_3.set_size_inches(9.5,4.15)\n",
    "    plt.tick_params(axis='both', which='major', labelsize=7.5, labelbottom = False, bottom=False, top = False, labeltop=True)\n",
    "    plt.xticks(fontsize=7.5, rotation=1)\n",
    "    plt.yticks(fontsize=7.5)\n",
    "    \n",
    "# define train/test-splitting function of dataframe\n",
    "def split_traintest_df(dataframe):\n",
    "    train_size = int(len(dataframe) * 0.8)\n",
    "    df_train, df_test = dataframe[0:train_size], dataframe[train_size:]\n",
    "    # create dataframe for printout\n",
    "    data = {'Dataframe': ['dataframe', 'df_train', 'df_test'],\n",
    "            'date_start': [dataframe.index[0], df_train.index[0], df_test.index[0]],\n",
    "            'date_end': [dataframe.index[-1], df_train.index[-1], df_test.index[-1]],\n",
    "            'nobs': [len(dataframe), len(df_train), len(df_test)]}\n",
    "    df_print = pd.DataFrame(data, columns=['Dataframe','date_start','date_end','nobs'])\n",
    "    print(df_print)\n",
    "    return df_train, df_test\n",
    "\n",
    "# define adf- and pp-testing of dataframe with latex-printout on/off\n",
    "from arch.unitroot import ADF, PhillipsPerron\n",
    "def stationarity_tests(dataframe, latex):\n",
    "    for col in dataframe:\n",
    "        adf = ADF(dataframe[col])\n",
    "        pp = PhillipsPerron(dataframe[col])\n",
    "        if latex is False:\n",
    "            # write summary as plain text to std.out\n",
    "            print('Timeseries:\\t',col,'\\n',\n",
    "                  adf.summary(),'\\n\\n',pp.summary(),'\\n\\n\\n')\n",
    "        else:\n",
    "            # write summary as latex to file\n",
    "            with open(save_plot_to + 'Stationarity_Tests_LaTeX.txt', 'a') as myfile:\n",
    "                myfile.write('Timeseries:\\t'+col+'\\n'\n",
    "                         +adf.summary().as_latex()+'\\n\\n'\n",
    "                         +pp.summary().as_latex()+'\\n\\n\\n')\n",
    "\n",
    "# define first difference-taking function of dataframe\n",
    "def diff_of_df(dataframe):\n",
    "    df_train_log_diff = df_train_log.diff()\n",
    "    # relabel columns\n",
    "    new_cols = list()\n",
    "    for i in df_train_log_diff.columns:\n",
    "        new_cols.append(i+'_diff')\n",
    "    df_train_log_diff.columns = new_cols\n",
    "    return df_train_log_diff\n",
    "\n",
    "# define stationaritiy table-generating function of a dataframe filepath\n",
    "def stationarity_table_aslatex_from_df(filepath):\n",
    "    # read in dataframe from .txt file\n",
    "    stationarity_dataframe = pd.read_csv(save_plot_to+filepath, delimiter='\\s+', header=0)\n",
    "    # print dataframe as latex output\n",
    "    print(tabulate(stationarity_dataframe, headers=stationarity_dataframe.columns, showindex=False, tablefmt=\"latex\"))\n",
    "\n",
    "# define granger causality test performing function of a dataframe\n",
    "# code taken from: https://stackoverflow.com/questions/58005681/is-it-possible-to-run-a-vector-autoregression-analysis-on-a-large-gdp-data-with\n",
    "from statsmodels.tsa.stattools import grangercausalitytests\n",
    "maxlag=15\n",
    "test = 'ssr-chi2test'\n",
    "def grangers_causality_matrix(X_train, variables, test = 'ssr_chi2test', verbose=False):\n",
    "    dataset = pd.DataFrame(np.zeros((len(variables), len(variables))), columns=variables, index=variables)\n",
    "    for c in dataset.columns:\n",
    "        for r in dataset.index:\n",
    "            test_result = grangercausalitytests(X_train[[r,c]], maxlag=maxlag, verbose=False)\n",
    "            p_values = [round(test_result[i+1][0][test][1],4) for i in range(maxlag)]\n",
    "            if verbose: print(f'Y = {r}, X = {c}, P Values = {p_values}')\n",
    "            min_p_value = np.min(p_values)\n",
    "            dataset.loc[r,c] = min_p_value\n",
    "    dataset.columns = [var + '_x' for var in variables]\n",
    "    dataset.index = [var + '_y' for var in variables]\n",
    "    return dataset\n",
    "\n",
    "# define granger causality table generating function from dataframe\n",
    "def grangercausality_table_aslatex_of_df(dataframe):\n",
    "    print(tabulate(dataframe, headers=dataframe.columns, showindex=True, tablefmt=\"latex\"))\n",
    "\n",
    "# define grangercausality heatmap generating function of a dataframe\n",
    "def grangercausality_heatmap_of_df(dataframe):\n",
    "    fig, ax = plt.subplots()\n",
    "    sns.heatmap(dataframe, xticklabels=dataframe.columns.values, yticklabels=dataframe.index.values,\n",
    "                 annot=True, annot_kws={'size':7}, vmin=0, vmax=1, cmap=\"YlGnBu_r\", ax=ax)\n",
    "    bottom, top = ax.get_ylim()\n",
    "    ax.set_ylim(bottom + 0.5, top - 0.5)\n",
    "    fig = plt.gcf()\n",
    "    fig.set_size_inches(9.5,4.15)\n",
    "    plt.tick_params(axis='both', which='major', labelsize=7, labelbottom = False, bottom=False, top = False, labeltop=True)\n",
    "    plt.xticks(fontsize=7, rotation=45)\n",
    "    plt.yticks(fontsize=7)\n",
    "    plt.set_size_inches(12,5)\n",
    "    plt.tight_layout()\n",
    "    return fig\n",
    "\n",
    "# define VAR-order selecting function of dataframe\n",
    "from statsmodels.tsa.vector_ar.var_model import VAR\n",
    "def select_VAR_order(dataframe):\n",
    "    var_model = VAR(endog=dataframe)\n",
    "    var_order_res = var_model.select_order(15).summary()\n",
    "    res_as_html = var_order_res.as_html()\n",
    "    df_var_order = pd.read_html(res_as_html, header=0, index_col=0)[0]\n",
    "    return df_var_order\n",
    "\n",
    "# define VAR-order latex-table-generating function of a var_order\n",
    "def var_order_aslatex_of_order(var_order):\n",
    "    print(tabulate(var_order, headers=var_order.columns, showindex=True, tablefmt=\"latex\"))\n",
    "\n",
    "# define VAR-model-fitting function of a dataframe and a lag order\n",
    "def fit_VAR_model_of_df(dataframe, order):\n",
    "    var_model = VAR(endog=dataframe)\n",
    "    var_fitted = var_model.fit(maxlags = order)\n",
    "    return var_fitted\n",
    "\n",
    "\n",
    "# transform var_fitted into data frame\n",
    "# code taken from: https://stackoverflow.com/questions/51734180/converting-statsmodels-summary-object-to-pandas-dataframe\n",
    "def results_summary_to_dataframe(results):\n",
    "    '''take the result of an statsmodel results table and transforms it into a dataframe'''\n",
    "    pvals = results.pvalues\n",
    "    coeff = results.params\n",
    "    conf_lower = results.conf_int()[0]\n",
    "    conf_higher = results.conf_int()[1]\n",
    "\n",
    "    results_df = pd.DataFrame({\"pvals\":pvals,\n",
    "                               \"coeff\":coeff,\n",
    "                               \"conf_lower\":conf_lower,\n",
    "                               \"conf_higher\":conf_higher\n",
    "                                })\n",
    "    #Reordering\n",
    "    results_df = results_df[[\"coeff\",\"pvals\",\"conf_lower\",\"conf_higher\"]]\n",
    "    return results_df\n",
    "\n",
    "# define dataframe generating function from .txt file at filepath\n",
    "def var_coeffs_aslatex_from_txt(filepath):\n",
    "    # read in df from textfile\n",
    "    var_btc_coefficients = pd.read_csv(save_plot_to+filepath, delimiter='\\s+', header=0)\n",
    "    var_btc_coefficients.set_index(var_btc_coefficients.columns[0], inplace=True)\n",
    "    # generate latex output\n",
    "    print(tabulate(var_btc_coefficients.round(4), headers=var_btc_coefficients.columns, showindex=True, tablefmt=\"latex\"))\n",
    "\n",
    "# define rolling forecast function\n",
    "from sklearn.metrics import mean_squared_error as mse\n",
    "def var_rolling_forecast(dataframe, lag_order):\n",
    "    # create train and test dataframes\n",
    "    train_size = int(len(dataframe) * 0.8)\n",
    "    dataframe_train, dataframe_test = dataframe[0:train_size], dataframe[train_size:]\n",
    "    index = len(dataframe_train) - 1\n",
    "    # initialize lists\n",
    "    pred_val_btc = list()\n",
    "    lo_conf_int_btc = list()\n",
    "    up_conf_int_btc = list()\n",
    "    ausreisser_ctr = 0\n",
    "    # rolling forecast\n",
    "    for i in range(len(dataframe_test)):\n",
    "        # input data, dependent on i\n",
    "        input_data = log_of_df(dataframe).diff().values[lag_order+1:index + i]\n",
    "        #input_data = np.log(dataframe).diff().values[lag_order+1:index + i]\n",
    "        # fit model and predict 1 step\n",
    "        dataframe_var = VAR(endog=input_data)\n",
    "        dataframe_var_fitted = dataframe_var.fit(maxlags=lag_order)\n",
    "        dataframe_var_result = dataframe_var_fitted.forecast_interval(y=input_data, steps=1, alpha=0.05)\n",
    "        # obtain absolute (inversed) btc values for mean prediction, upper- and lower confidence interval\n",
    "        yhat_btc = np.exp(dataframe_var_result[0][0][0] + np.log(dataframe).iloc[:,0][index+i])\n",
    "        lo_conf_btc_val = np.exp(dataframe_var_result[1][0][0] + np.log(dataframe).iloc[:,0][index+i])\n",
    "        up_conf_btc_val = np.exp(dataframe_var_result[2][0][0] + np.log(dataframe).iloc[:,0][index+i])\n",
    "        if (dataframe.iloc[:,0][index+i+1] > up_conf_btc_val) or (dataframe.iloc[:,0][index+i+1] < lo_conf_btc_val):\n",
    "            ausreisser_ctr += 1\n",
    "        pred_val_btc.append(yhat_btc)\n",
    "        lo_conf_int_btc.append(lo_conf_btc_val)\n",
    "        up_conf_int_btc.append(up_conf_btc_val)\n",
    "    # return [0]: mse, [1]: ausreisser ctr, [2]: predictions, [3]: lo_confint, [4]: up_confint\n",
    "    return (np.sqrt(mse(pred_val_btc, dataframe_test.iloc[:,0].values)), ausreisser_ctr,\n",
    "            pred_val_btc, lo_conf_int_btc, up_conf_int_btc)\n",
    "\n",
    "# define series-generating and plotting function for dataframe_var_pred_result\n",
    "def plot_var_pred_result(dataframe, dataframe_train, dataframe_test, dataframe_var_pred_result):\n",
    "    # make series for plotting pred. vs. actual\n",
    "    index_pred = np.arange(len(dataframe_train) + 1, len(dataframe) + 1)\n",
    "    pred_val_btc_series = pd.Series(dataframe_var_pred_result[2], index=index_pred)\n",
    "    test_series_btc = pd.Series(dataframe_test.iloc[:,0].values, index=index_pred)\n",
    "    lo_conf_int_btc_series = pd.Series(dataframe_var_pred_result[3], index=index_pred)\n",
    "    up_conf_int_btc_series = pd.Series(dataframe_var_pred_result[4], index=index_pred)\n",
    "    # create plot: \n",
    "    fig, axs = plt.subplots(1,2)\n",
    "    axs[0].plot(dataframe_train.iloc[:,0].values, label= r'$btc_T$', color='black')\n",
    "    axs[0].plot(test_series_btc, label= r'$btc_{T+h}$', color='green')\n",
    "    axs[0].plot(pred_val_btc_series, label= r'$\\hat{btc}_{T+h}$', color= 'red')\n",
    "    axs[0].fill_between(lo_conf_int_btc_series.index, lo_conf_int_btc_series, up_conf_int_btc_series, color='k', alpha=0.1)\n",
    "    axs[0].legend(loc='upper left')\n",
    "    axs[0].title.set_text('Gesamter Zeitraum')\n",
    "    axs[1].plot(test_series_btc, label= r'$btc_{T+h}$', color='green')\n",
    "    axs[1].plot(pred_val_btc_series, label= r'$\\hat{btc}_{T+h}$', color= 'red')\n",
    "    axs[1].fill_between(lo_conf_int_btc_series.index, lo_conf_int_btc_series, up_conf_int_btc_series, color='k', alpha=0.1)\n",
    "    axs[1].legend(loc='upper left')\n",
    "    axs[1].title.set_text('Vorhersage-Zeitraum')\n",
    "    fig.set_size_inches(15,2.5)\n",
    "    return fig\n",
    "\n",
    "# define cointegration rank testing function based on select_coint_rank of a dataframe\n",
    "from statsmodels.tsa.vector_ar.vecm import select_coint_rank\n",
    "def print_select_coint_rank(dataframe, method, k_ar_diff, signif):\n",
    "    dataframe_vecm_rank = select_coint_rank(dataframe,det_order=-1,k_ar_diff=k_ar_diff,method=method,signif=signif)\n",
    "    print(dataframe_vecm_rank.summary())\n",
    "    # summary output must be copied and saved as .txt\n",
    "\n",
    "# define trace cointegration testing function for dataframe\n",
    "from statsmodels.tsa.vector_ar.vecm import coint_johansen\n",
    "def print_cointegration_test_of(dataframe, k_ar_diff, signif):\n",
    "    result = coint_johansen(dataframe, -1, k_ar_diff)\n",
    "    d = {'0.90':0, '0.95':1, '0.99':2}\n",
    "    trace_stat = result.lr1\n",
    "    crit_val_trace_stat = result.cvt[:, d[str(1-signif)]]\n",
    "    \n",
    "    def adjust(val, length = 6): \n",
    "        return str(val).ljust(length)\n",
    "    \n",
    "    print(' Variable  \\t\\ttest-statistic\\tCV(95%)\\t\\tSignif\\n')\n",
    "    for col, trace, cvt in zip(dataframe.columns, trace_stat, crit_val_trace_stat):\n",
    "        if col is 'dax' or col is 'sp500':\n",
    "            tab = 2\n",
    "        else:\n",
    "            tab = 1\n",
    "        print(adjust(col), '\\t'*tab, adjust(round(trace,2), 9),'\\t', adjust(cvt, 8), '\\t' , trace > cvt)\n",
    "    # -> Copy summary output and save as .txt"
   ],
   "metadata": {
    "collapsed": false,
    "pycharm": {
     "name": "#%%\n",
     "is_executing": false
    }
   }
  },
  {
   "cell_type": "code",
   "execution_count": 8,
   "outputs": [],
   "source": [
    "# overview of df\n",
    "dates_overview(df)"
   ],
   "metadata": {
    "collapsed": false,
    "pycharm": {
     "name": "#%%\n",
     "is_executing": false
    }
   }
  },
  {
   "cell_type": "code",
   "execution_count": 9,
   "outputs": [],
   "source": [
    "# plot df\n",
    "fig_1 = plot_df(df)"
   ],
   "metadata": {
    "collapsed": false,
    "pycharm": {
     "name": "#%%\n",
     "is_executing": false
    }
   }
  },
  {
   "cell_type": "code",
   "execution_count": 7,
   "outputs": [],
   "source": [
    "# take log of df\n",
    "df_log = log_of_df(df)"
   ],
   "metadata": {
    "collapsed": false,
    "pycharm": {
     "name": "#%%\n",
     "is_executing": false
    }
   }
  },
  {
   "cell_type": "code",
   "execution_count": 12,
   "outputs": [],
   "source": [
    "# plot log time series\n",
    "fig_2 = plot_df(df_log)"
   ],
   "metadata": {
    "collapsed": false,
    "pycharm": {
     "name": "#%%\n",
     "is_executing": false
    }
   }
  },
  {
   "cell_type": "code",
   "execution_count": 13,
   "outputs": [],
   "source": [
    "# save fig_2\n",
    "fig_2.savefig(save_plot_to+'M4_fig_2.svg',format='svg',bbox_inches='tight',pad_inches = 0)"
   ],
   "metadata": {
    "collapsed": false,
    "pycharm": {
     "name": "#%%\n",
     "is_executing": false
    }
   }
  },
  {
   "cell_type": "code",
   "execution_count": 21,
   "outputs": [],
   "source": [
    "# correlation matrix of df\n",
    "corr_table_aslatex_of_df(df)"
   ],
   "metadata": {
    "collapsed": false,
    "pycharm": {
     "name": "#%%\n",
     "is_executing": false
    }
   }
  },
  {
   "cell_type": "code",
   "execution_count": 23,
   "outputs": [],
   "source": [
    "# correlation heatmap of df\n",
    "heatmap_corr_of_df(df)"
   ],
   "metadata": {
    "collapsed": false,
    "pycharm": {
     "name": "#%%\n",
     "is_executing": false
    }
   }
  },
  {
   "cell_type": "code",
   "execution_count": 13,
   "outputs": [],
   "source": [
    "# split df in df_train and df_test\n",
    "df_train, df_test = split_traintest_df(df)"
   ],
   "metadata": {
    "collapsed": false,
    "pycharm": {
     "name": "#%%\n",
     "is_executing": false
    }
   }
  },
  {
   "cell_type": "code",
   "execution_count": 14,
   "outputs": [],
   "source": [
    "# take log of df_train\n",
    "df_train_log = log_of_df(df_train)"
   ],
   "metadata": {
    "collapsed": false,
    "pycharm": {
     "name": "#%%\n",
     "is_executing": false
    }
   }
  },
  {
   "cell_type": "code",
   "execution_count": 48,
   "outputs": [],
   "source": [
    "# plot df_train_log\n",
    "fig_4 = plot_df(df_train_log)"
   ],
   "metadata": {
    "collapsed": false,
    "pycharm": {
     "name": "#%%\n",
     "is_executing": false
    }
   }
  },
  {
   "cell_type": "code",
   "execution_count": 47,
   "outputs": [],
   "source": [
    "# adf- and pp-testing of df_train_log - no latex printout\n",
    "stationarity_tests(df_train_log, latex=False)"
   ],
   "metadata": {
    "collapsed": false,
    "pycharm": {
     "name": "#%%\n",
     "is_executing": false
    }
   }
  },
  {
   "cell_type": "code",
   "execution_count": 15,
   "outputs": [],
   "source": [
    "# take first difference of df_train_log\n",
    "df_train_log_diff = diff_of_df(df_train_log)\n",
    "df_train_log_diff"
   ],
   "metadata": {
    "collapsed": false,
    "pycharm": {
     "name": "#%%\n",
     "is_executing": false
    }
   }
  },
  {
   "cell_type": "code",
   "execution_count": 17,
   "outputs": [],
   "source": [
    "# plot df_train_log_diff\n",
    "fig_5 = plot_df(df_train_log_diff[1:])"
   ],
   "metadata": {
    "collapsed": false,
    "pycharm": {
     "name": "#%%\n",
     "is_executing": false
    }
   }
  },
  {
   "cell_type": "code",
   "execution_count": 18,
   "outputs": [],
   "source": [
    "# save fig_5\n",
    "fig_5.savefig(save_plot_to+'M4_fig_5.svg',format='svg',bbox_inches='tight',pad_inches = 0)"
   ],
   "metadata": {
    "collapsed": false,
    "pycharm": {
     "name": "#%%\n",
     "is_executing": false
    }
   }
  },
  {
   "cell_type": "code",
   "execution_count": 55,
   "outputs": [],
   "source": [
    "# adf- and pp-testing of df_train_log_diff - no latex printout\n",
    "stationarity_tests(df_train_log_diff[1:], latex=False)\n",
    "    "
   ],
   "metadata": {
    "collapsed": false,
    "pycharm": {
     "name": "#%%\n",
     "is_executing": false
    }
   }
  },
  {
   "cell_type": "code",
   "execution_count": 68,
   "outputs": [],
   "source": [
    "# plot stationarity table of df\n",
    "stationarity_table_aslatex_from_df('M4_stationarity tests.txt')"
   ],
   "metadata": {
    "collapsed": false,
    "pycharm": {
     "name": "#%%\n",
     "is_executing": false
    }
   }
  },
  {
   "cell_type": "code",
   "execution_count": 20,
   "outputs": [],
   "source": [
    "# perform granger causality test each on each based on df_train_log_diff\n",
    "granger_causality_matrix = grangers_causality_matrix(df_train_log_diff[1:], variables = df_train_log_diff.columns)\n",
    "granger_causality_matrix.round(4)"
   ],
   "metadata": {
    "collapsed": false,
    "pycharm": {
     "name": "#%%\n",
     "is_executing": false
    }
   }
  },
  {
   "cell_type": "code",
   "execution_count": 73,
   "outputs": [],
   "source": [
    "# generate granger causality table as latex output\n",
    "grangercausality_table_aslatex_of_df(granger_causality_matrix)"
   ],
   "metadata": {
    "collapsed": false,
    "pycharm": {
     "name": "#%%\n",
     "is_executing": false
    }
   }
  },
  {
   "cell_type": "code",
   "execution_count": 28,
   "outputs": [],
   "source": [
    "# generate granger causality heatmap of df_train_log_diff\n",
    "fig_6 = grangercausality_heatmap_of_df(granger_causality_matrix)"
   ],
   "metadata": {
    "collapsed": false,
    "pycharm": {
     "name": "#%%\n",
     "is_executing": false
    }
   }
  },
  {
   "cell_type": "code",
   "execution_count": 29,
   "outputs": [],
   "source": [
    "# save fig_6\n",
    "fig_6.savefig(save_plot_to+'M4_fig_6.svg',format='svg',bbox_inches='tight',pad_inches = 0)"
   ],
   "metadata": {
    "collapsed": false,
    "pycharm": {
     "name": "#%%\n",
     "is_executing": false
    }
   }
  },
  {
   "cell_type": "code",
   "execution_count": 30,
   "outputs": [],
   "source": [
    "# based on granger-causality: new df with btc, hs_rate and ggl_trends\n",
    "df_select_train_log_diff = df_train_log_diff[['btc_log_diff','hs_rate_log_diff','ggl_trends_log_diff']]\n",
    "df_select_train_log_diff"
   ],
   "metadata": {
    "collapsed": false,
    "pycharm": {
     "name": "#%%\n",
     "is_executing": false
    }
   }
  },
  {
   "cell_type": "code",
   "execution_count": 36,
   "outputs": [],
   "source": [
    "# select VAR-order for df_select_train_log_diff: 5\n",
    "df_select_var_order = select_VAR_order(df_select_train_log_diff[1:])\n",
    "df_select_var_order"
   ],
   "metadata": {
    "collapsed": false,
    "pycharm": {
     "name": "#%%\n",
     "is_executing": false
    }
   }
  },
  {
   "cell_type": "code",
   "execution_count": 37,
   "outputs": [],
   "source": [
    "# generate var_select_order latex output from df_select_var_order\n",
    "var_order_aslatex_of_order(df_select_var_order)"
   ],
   "metadata": {
    "collapsed": false,
    "pycharm": {
     "name": "#%%\n",
     "is_executing": false
    }
   }
  },
  {
   "cell_type": "code",
   "execution_count": 36,
   "outputs": [],
   "source": [
    "# obtain VAR-model for df_select_train_log_diff and lag order = 5\n",
    "df_select_var = fit_VAR_model_of_df(df_select_train_log_diff[1:], 5)\n",
    "df_select_var.summary()\n",
    "# -> Copy summary output and save as .txt"
   ],
   "metadata": {
    "collapsed": false,
    "pycharm": {
     "name": "#%%\n",
     "is_executing": false
    }
   }
  },
  {
   "cell_type": "code",
   "execution_count": 45,
   "outputs": [],
   "source": [
    "# read in and plot var_select_coeffs from textfile as latex: 'M4_df_select_VAR_coefficients.txt'\n",
    "var_coeffs_aslatex_from_txt('M4_df_select_VAR_coefficients.txt')"
   ],
   "metadata": {
    "collapsed": false,
    "pycharm": {
     "name": "#%%\n",
     "is_executing": false
    }
   }
  },
  {
   "cell_type": "code",
   "execution_count": 28,
   "outputs": [],
   "source": [
    "# rolling forecast: obtain mse, ausreisser, predictions, lo-& up confint for df_select with lag order = 5\n",
    "df_select_var_pred_result = var_rolling_forecast(df[['btc','hs_rate','ggl_trends']], 5)\n",
    "\n",
    "# printout results\n",
    "print('mse_select:\\t\\t', df_select_var_pred_result[0])\n",
    "print('ausreisser_select:\\t', df_select_var_pred_result[1])"
   ],
   "metadata": {
    "collapsed": false,
    "pycharm": {
     "name": "#%%\n",
     "is_executing": false
    }
   }
  },
  {
   "cell_type": "code",
   "execution_count": 30,
   "outputs": [],
   "source": [
    "# rolling forecast: create series and plot them for df_var_pred_result\n",
    "fig_7 = plot_var_pred_result(df[['btc','hs_rate','ggl_trends']],\n",
    "                             df_train[['btc','hs_rate','ggl_trends']],\n",
    "                             df_test[['btc','hs_rate','ggl_trends']],\n",
    "                             df_select_var_pred_result)"
   ],
   "metadata": {
    "collapsed": false,
    "pycharm": {
     "name": "#%%\n",
     "is_executing": false
    }
   }
  },
  {
   "cell_type": "code",
   "execution_count": 31,
   "outputs": [],
   "source": [
    "# save fig_7\n",
    "fig_7.savefig(save_plot_to+'M4_fig_7.svg',format='svg',bbox_inches='tight',pad_inches = 0)"
   ],
   "metadata": {
    "collapsed": false,
    "pycharm": {
     "name": "#%%\n",
     "is_executing": false
    }
   }
  },
  {
   "cell_type": "code",
   "execution_count": 46,
   "outputs": [],
   "source": [
    "# select VAR-order for df_train_log_diff: 5\n",
    "df_var_order = select_VAR_order(df_train_log_diff[1:])\n",
    "df_var_order"
   ],
   "metadata": {
    "collapsed": false,
    "pycharm": {
     "name": "#%%\n",
     "is_executing": false
    }
   }
  },
  {
   "cell_type": "code",
   "execution_count": 19,
   "outputs": [],
   "source": [
    "# generate var_order latex output from df_var_order\n",
    "var_order_aslatex_of_order(df_var_order)"
   ],
   "metadata": {
    "collapsed": false,
    "pycharm": {
     "name": "#%%\n",
     "is_executing": false
    }
   }
  },
  {
   "cell_type": "code",
   "execution_count": 16,
   "outputs": [],
   "source": [
    "# obtain VAR-model for df_train_log_diff and lag order = 5\n",
    "df_var = fit_VAR_model_of_df(df_train_log_diff[1:], 5)\n",
    "df_var.summary()\n",
    "# -> Copy summary output and save as .txt"
   ],
   "metadata": {
    "collapsed": false,
    "pycharm": {
     "name": "#%%\n",
     "is_executing": false
    }
   }
  },
  {
   "cell_type": "code",
   "execution_count": 22,
   "outputs": [],
   "source": [
    "# read in and plot var_coeffs from textfile: 'M4_df_VAR_coefficients.txt'\n",
    "var_coeffs_aslatex_from_txt('M4_df_VAR_coefficients.txt')"
   ],
   "metadata": {
    "collapsed": false,
    "pycharm": {
     "name": "#%%\n",
     "is_executing": false
    }
   }
  },
  {
   "cell_type": "code",
   "execution_count": 47,
   "outputs": [],
   "source": [
    "# IRF: impulse response of df_var\n",
    "from statsmodels.tsa.vector_ar.irf import IRAnalysis\n",
    "df_irf = df_var.irf(15)\n",
    "fig_9 = df_irf.plot(orth=False, impulse='ggl_trends_log_diff',response='btc_log_diff')"
   ],
   "metadata": {
    "collapsed": false,
    "pycharm": {
     "name": "#%%\n",
     "is_executing": false
    }
   }
  },
  {
   "cell_type": "code",
   "execution_count": null,
   "outputs": [],
   "source": [
    "# save fig_9\n",
    "fig_9.savefig(save_plot_to+'M4_fig_9.svg',format='svg',bbox_inches='tight',pad_inches = 0)"
   ],
   "metadata": {
    "collapsed": false,
    "pycharm": {
     "name": "#%%\n"
    }
   }
  },
  {
   "cell_type": "code",
   "execution_count": 55,
   "outputs": [],
   "source": [
    "# IRF: cumulative impulse responses of df_var\n",
    "df_irf.plot_cum_effects(orth=True, response='btc_log_diff')"
   ],
   "metadata": {
    "collapsed": false,
    "pycharm": {
     "name": "#%%\n",
     "is_executing": false
    }
   }
  },
  {
   "cell_type": "code",
   "execution_count": null,
   "outputs": [],
   "source": [],
   "metadata": {
    "collapsed": false,
    "pycharm": {
     "name": "#%%\n"
    }
   }
  },
  {
   "cell_type": "code",
   "execution_count": null,
   "outputs": [],
   "source": [
    "## prediction below ##"
   ],
   "metadata": {
    "collapsed": false,
    "pycharm": {
     "name": "#%%\n"
    }
   }
  },
  {
   "cell_type": "code",
   "execution_count": 23,
   "outputs": [],
   "source": [
    "# rolling forecast: obtain mse, ausreisser, predictions, lo-& up confint for df with lag order = 5\n",
    "df_var_pred_result = var_rolling_forecast(df, 5)\n",
    "\n",
    "# printout results\n",
    "print('mse:\\t\\t', df_var_pred_result[0])\n",
    "print('ausreisser:\\t', df_var_pred_result[1])"
   ],
   "metadata": {
    "collapsed": false,
    "pycharm": {
     "name": "#%%\n",
     "is_executing": false
    }
   }
  },
  {
   "cell_type": "code",
   "execution_count": 24,
   "outputs": [],
   "source": [
    "# rolling forecast: create series and plot them for df_var_pred_result\n",
    "fig_8 = plot_var_pred_result(df,df_train,df_test,df_var_pred_result)"
   ],
   "metadata": {
    "collapsed": false,
    "pycharm": {
     "name": "#%%\n",
     "is_executing": false
    }
   }
  },
  {
   "cell_type": "code",
   "execution_count": 26,
   "outputs": [],
   "source": [
    "# save fig_8\n",
    "fig_8.savefig(save_plot_to+'M4_fig_8.svg',format='svg',bbox_inches='tight',pad_inches = 0)"
   ],
   "metadata": {
    "collapsed": false,
    "pycharm": {
     "name": "#%%\n",
     "is_executing": false
    }
   }
  },
  {
   "cell_type": "code",
   "execution_count": null,
   "outputs": [],
   "source": [],
   "metadata": {
    "collapsed": false,
    "pycharm": {
     "name": "#%%\n"
    }
   }
  },
  {
   "cell_type": "code",
   "execution_count": 52,
   "outputs": [],
   "source": [
    "# series and lag plot to show trend and autocorrelation\n",
    "fig, axs = plt.subplots(2,1)\n",
    "axs[0].plot(df_log)\n",
    "pd.plotting.lag_plot(df_log, ax = axs[1])"
   ],
   "metadata": {
    "collapsed": false,
    "pycharm": {
     "name": "#%%\n",
     "is_executing": false
    }
   }
  },
  {
   "cell_type": "code",
   "execution_count": null,
   "outputs": [],
   "source": [],
   "metadata": {
    "collapsed": false,
    "pycharm": {
     "name": "#%%\n"
    }
   }
  },
  {
   "cell_type": "code",
   "execution_count": 94,
   "outputs": [
    {
     "name": "stdout",
     "text": [
      "Johansen cointegration test using trace test statistic with 5% significance level\n=====================================\nr_0 r_1 test statistic critical value\n-------------------------------------\n  0  12          441.3          311.1\n  1  12          340.1          263.3\n  2  12          272.8          219.4\n  3  12          209.1          179.5\n  4  12          158.2          143.7\n  5  12          117.5          111.8\n  6  12          79.60          83.94\n-------------------------------------\n"
     ],
     "output_type": "stream"
    }
   ],
   "source": [
    "# determine cointegration rank of df_train_log with trace statistic\n",
    "print_select_coint_rank(df_train_log,'trace',10,0.05)\n",
    "# -> Copy summary output and save as .txt"
   ],
   "metadata": {
    "collapsed": false,
    "pycharm": {
     "name": "#%%\n",
     "is_executing": false
    }
   }
  },
  {
   "cell_type": "code",
   "execution_count": null,
   "outputs": [],
   "source": [
    "# read in and plot from textfile as latex: 'M4_tab_7_cointrank_trace.txt'\n",
    "var_coeffs_aslatex_from_txt('M4_tab_7_cointrank_trace.txt')\n",
    "# -> Copy latex output and input in overleaf"
   ],
   "metadata": {
    "collapsed": false,
    "pycharm": {
     "name": "#%%\n"
    }
   }
  },
  {
   "cell_type": "code",
   "execution_count": 95,
   "outputs": [
    {
     "name": "stdout",
     "text": [
      "Johansen cointegration test using maximum eigenvalue test statistic with 5% significance level\n=====================================\nr_0 r_1 test statistic critical value\n-------------------------------------\n  0   1          101.2          73.09\n  1   2          67.37          67.08\n  2   3          63.66          61.04\n  3   4          50.86          54.96\n-------------------------------------\n"
     ],
     "output_type": "stream"
    }
   ],
   "source": [
    "# determine cointegration rank of df_train_log with maxeig statistic\n",
    "print_select_coint_rank(df_train_log,'maxeig',10,0.05)\n",
    "# -> Copy summary output and save as .txt"
   ],
   "metadata": {
    "collapsed": false,
    "pycharm": {
     "name": "#%%\n",
     "is_executing": false
    }
   }
  },
  {
   "cell_type": "code",
   "execution_count": 96,
   "outputs": [
    {
     "name": "stdout",
     "text": [
      "\\begin{tabular}{rrrr}\n\\hline\n    &   r\\_1 &   test\\_statistic &   critical\\_value(5\\%) \\\\\n\\hline\n  0 &     1 &           101.2  &                73.09 \\\\\n  1 &     2 &            67.37 &                67.08 \\\\\n  2 &     3 &            63.66 &                61.04 \\\\\n  3 &     4 &            50.86 &                54.96 \\\\\n\\hline\n\\end{tabular}\n"
     ],
     "output_type": "stream"
    }
   ],
   "source": [
    "# read in and plot from textfile as latex: 'M4_tab_8_cointrank_maxeig.txt'\n",
    "var_coeffs_aslatex_from_txt('M4_tab_8_cointrank_maxeig.txt')\n",
    "# -> Copy latex output and input in overleaf"
   ],
   "metadata": {
    "collapsed": false,
    "pycharm": {
     "name": "#%%\n",
     "is_executing": false
    }
   }
  },
  {
   "cell_type": "code",
   "execution_count": 105,
   "outputs": [
    {
     "name": "stdout",
     "text": [
      "Name   \t\tTest Stat\tC(95%)\t\tSignif\n",
      "\nbtc_log \t 441.34    \t 311.1288 \t True\ntot_btc_log \t 340.14    \t 263.2603 \t True\nhs_rate_log \t 272.77    \t 219.4051 \t True\neth_log \t 209.11    \t 179.5199 \t True\nggl_trends_log \t 158.24    \t 143.6691 \t True\nwiki_views_log \t 117.47    \t 111.7797 \t True\nusd_eur_log \t 79.6      \t 83.9383  \t False\noil_wti_log \t 47.01     \t 60.0627  \t False\ngold_log \t 29.19     \t 40.1749  \t False\nsp500_log \t 15.96     \t 24.2761  \t False\nsse_log \t 6.11      \t 12.3212  \t False\nffd_rate_log \t 0.0       \t 4.1296   \t False\n"
     ],
     "output_type": "stream"
    }
   ],
   "source": [
    "print_cointegration_test_of(df_train_log,10,0.05)\n",
    "# -> Copy summary output and save as .txt"
   ],
   "metadata": {
    "collapsed": false,
    "pycharm": {
     "name": "#%%\n",
     "is_executing": false
    }
   }
  },
  {
   "cell_type": "code",
   "execution_count": 107,
   "outputs": [
    {
     "name": "stdout",
     "text": [
      "\\begin{tabular}{lrrl}\n\\hline\n                &   Test\\_Stat &   C(95\\%) & Signif   \\\\\n\\hline\n btc\\_log        &      441.34 & 311.129  & True     \\\\\n tot\\_btc\\_log    &      340.14 & 263.26   & True     \\\\\n hs\\_rate\\_log    &      272.77 & 219.405  & True     \\\\\n eth\\_log        &      209.11 & 179.52   & True     \\\\\n ggl\\_trends\\_log &      158.24 & 143.669  & True     \\\\\n wiki\\_views\\_log &      117.47 & 111.78   & True     \\\\\n usd\\_eur\\_log    &       79.6  &  83.9383 & False    \\\\\n oil\\_wti\\_log    &       47.01 &  60.0627 & False    \\\\\n gold\\_log       &       29.19 &  40.1749 & False    \\\\\n sp500\\_log      &       15.96 &  24.2761 & False    \\\\\n sse\\_log        &        6.11 &  12.3212 & False    \\\\\n ffd\\_rate\\_log   &        0    &   4.1296 & False    \\\\\n\\hline\n\\end{tabular}\n"
     ],
     "output_type": "stream"
    }
   ],
   "source": [
    "# read in and plot from textfile as latex: 'M4_tab_9_johansen_cointrank_trace.txt'\n",
    "var_coeffs_aslatex_from_txt('M4_tab_9_johansen_cointrank_trace.txt')\n",
    "# -> Copy latex output and input in overleaf"
   ],
   "metadata": {
    "collapsed": false,
    "pycharm": {
     "name": "#%%\n",
     "is_executing": false
    }
   }
  },
  {
   "cell_type": "code",
   "execution_count": 115,
   "outputs": [
    {
     "name": "stderr",
     "text": [
      "C:\\Users\\joche\\Anaconda3\\lib\\site-packages\\statsmodels\\tsa\\base\\tsa_model.py:583: ValueWarning: A date index has been provided, but it has no associated frequency information and so will be ignored when e.g. forecasting.\n  ' ignored when e.g. forecasting.', ValueWarning)\n"
     ],
     "output_type": "stream"
    },
    {
     "data": {
      "text/plain": "<class 'statsmodels.iolib.summary.Summary'>\n\"\"\"\nDet. terms outside the coint. relation & lagged endog. parameters for equation btc_log\n=====================================================================================\n                        coef    std err          z      P>|z|      [0.025      0.975]\n-------------------------------------------------------------------------------------\nL1.btc_log            0.0268      0.038      0.709      0.479      -0.047       0.101\nL1.tot_btc_log      -10.2102      8.775     -1.164      0.245     -27.408       6.988\nL1.hs_rate_log        0.1541      0.090      1.710      0.087      -0.023       0.331\nL1.eth_log           -0.0157      0.022     -0.707      0.479      -0.059       0.028\nL1.ggl_trends_log     0.0120      0.023      0.526      0.599      -0.033       0.057\nL1.wiki_views_log    -0.0038      0.012     -0.324      0.746      -0.027       0.019\nL1.usd_eur_log       -0.3180      0.334     -0.951      0.342      -0.974       0.338\nL1.oil_wti_log       -0.0607      0.072     -0.840      0.401      -0.202       0.081\nL1.gold_log          -0.0473      0.224     -0.211      0.833      -0.487       0.392\nL1.sp500_log          0.3667      0.204      1.793      0.073      -0.034       0.767\nL1.sse_log           -0.1371      0.129     -1.064      0.287      -0.390       0.115\nL1.ffd_rate_log       0.0011      0.024      0.047      0.962      -0.046       0.048\nL2.btc_log            0.0073      0.038      0.193      0.847      -0.067       0.081\nL2.tot_btc_log        0.9263      8.841      0.105      0.917     -16.403      18.255\nL2.hs_rate_log       -0.0291      0.092     -0.317      0.751      -0.209       0.151\nL2.eth_log            0.0284      0.022      1.296      0.195      -0.015       0.071\nL2.ggl_trends_log     0.0372      0.023      1.629      0.103      -0.008       0.082\nL2.wiki_views_log     0.0002      0.011      0.018      0.986      -0.022       0.022\nL2.usd_eur_log        0.4258      0.339      1.254      0.210      -0.240       1.091\nL2.oil_wti_log       -0.0306      0.072     -0.425      0.671      -0.172       0.111\nL2.gold_log          -0.1910      0.224     -0.854      0.393      -0.629       0.247\nL2.sp500_log          0.2083      0.214      0.974      0.330      -0.211       0.627\nL2.sse_log           -0.0207      0.129     -0.160      0.873      -0.274       0.232\nL2.ffd_rate_log       0.0031      0.026      0.118      0.906      -0.049       0.055\nL3.btc_log            0.0557      0.038      1.458      0.145      -0.019       0.131\nL3.tot_btc_log       11.8291      8.784      1.347      0.178      -5.388      29.046\nL3.hs_rate_log       -0.1265      0.091     -1.383      0.167      -0.306       0.053\nL3.eth_log           -0.0230      0.022     -1.046      0.295      -0.066       0.020\nL3.ggl_trends_log     0.0201      0.023      0.876      0.381      -0.025       0.065\nL3.wiki_views_log    -0.0093      0.011     -0.862      0.389      -0.031       0.012\nL3.usd_eur_log       -0.2964      0.338     -0.877      0.381      -0.959       0.366\nL3.oil_wti_log        0.0871      0.072      1.204      0.229      -0.055       0.229\nL3.gold_log           0.3005      0.223      1.350      0.177      -0.136       0.737\nL3.sp500_log         -0.0976      0.210     -0.465      0.642      -0.509       0.313\nL3.sse_log           -0.0763      0.128     -0.597      0.551      -0.327       0.174\nL3.ffd_rate_log       0.0114      0.026      0.433      0.665      -0.040       0.063\nL4.btc_log            0.0435      0.039      1.127      0.260      -0.032       0.119\nL4.tot_btc_log       -3.4378      8.771     -0.392      0.695     -20.628      13.752\nL4.hs_rate_log        0.1621      0.091      1.777      0.076      -0.017       0.341\nL4.eth_log            0.0015      0.022      0.070      0.944      -0.041       0.044\nL4.ggl_trends_log     0.0282      0.023      1.216      0.224      -0.017       0.074\nL4.wiki_views_log     0.0172      0.010      1.682      0.093      -0.003       0.037\nL4.usd_eur_log       -0.1944      0.338     -0.575      0.565      -0.857       0.469\nL4.oil_wti_log        0.0661      0.073      0.911      0.362      -0.076       0.208\nL4.gold_log          -0.2465      0.223     -1.106      0.269      -0.683       0.190\nL4.sp500_log          0.0203      0.209      0.097      0.923      -0.390       0.430\nL4.sse_log            0.0938      0.126      0.747      0.455      -0.152       0.340\nL4.ffd_rate_log       0.0020      0.026      0.077      0.938      -0.048       0.052\nL5.btc_log            0.0053      0.038      0.141      0.888      -0.069       0.080\nL5.tot_btc_log       10.2171      8.537      1.197      0.231      -6.515      26.949\nL5.hs_rate_log       -0.0309      0.089     -0.349      0.727      -0.205       0.143\nL5.eth_log           -0.0288      0.019     -1.532      0.126      -0.066       0.008\nL5.ggl_trends_log    -0.0336      0.023     -1.434      0.152      -0.079       0.012\nL5.wiki_views_log     0.0054      0.009      0.573      0.566      -0.013       0.024\nL5.usd_eur_log        0.0847      0.338      0.250      0.802      -0.579       0.748\nL5.oil_wti_log       -0.0481      0.073     -0.659      0.510      -0.191       0.095\nL5.gold_log          -0.2958      0.217     -1.363      0.173      -0.721       0.129\nL5.sp500_log          0.1112      0.204      0.545      0.586      -0.289       0.511\nL5.sse_log           -0.1223      0.119     -1.024      0.306      -0.356       0.112\nL5.ffd_rate_log       0.0030      0.023      0.129      0.897      -0.043       0.049\nDet. terms outside the coint. relation & lagged endog. parameters for equation tot_btc_log\n=====================================================================================\n                        coef    std err          z      P>|z|      [0.025      0.975]\n-------------------------------------------------------------------------------------\nL1.btc_log            0.0002      0.000      1.097      0.273      -0.000       0.000\nL1.tot_btc_log       -0.1950      0.035     -5.642      0.000      -0.263      -0.127\nL1.hs_rate_log        0.0004      0.000      1.224      0.221      -0.000       0.001\nL1.eth_log        -6.948e-05   8.74e-05     -0.795      0.427      -0.000       0.000\nL1.ggl_trends_log    -0.0002   8.98e-05     -1.828      0.068      -0.000    1.18e-05\nL1.wiki_views_log -6.753e-05   4.61e-05     -1.464      0.143      -0.000    2.29e-05\nL1.usd_eur_log       -0.0012      0.001     -0.927      0.354      -0.004       0.001\nL1.oil_wti_log        0.0001      0.000      0.524      0.600      -0.000       0.001\nL1.gold_log           0.0008      0.001      0.910      0.363      -0.001       0.003\nL1.sp500_log          0.0005      0.001      0.617      0.537      -0.001       0.002\nL1.sse_log            0.0010      0.001      1.990      0.047     1.5e-05       0.002\nL1.ffd_rate_log      -0.0005    9.5e-05     -5.024      0.000      -0.001      -0.000\nL2.btc_log         2.931e-05      0.000      0.197      0.844      -0.000       0.000\nL2.tot_btc_log       -0.1103      0.035     -3.167      0.002      -0.179      -0.042\nL2.hs_rate_log        0.0004      0.000      1.165      0.244      -0.000       0.001\nL2.eth_log            0.0001   8.63e-05      1.160      0.246    -6.9e-05       0.000\nL2.ggl_trends_log    -0.0001   8.99e-05     -1.648      0.099      -0.000     2.8e-05\nL2.wiki_views_log -8.319e-05   4.45e-05     -1.869      0.062      -0.000    4.05e-06\nL2.usd_eur_log        0.0026      0.001      1.975      0.048    2.01e-05       0.005\nL2.oil_wti_log    -1.496e-05      0.000     -0.053      0.958      -0.001       0.001\nL2.gold_log           0.0002      0.001      0.206      0.837      -0.002       0.002\nL2.sp500_log         -0.0011      0.001     -1.305      0.192      -0.003       0.001\nL2.sse_log        -2.089e-05      0.001     -0.041      0.967      -0.001       0.001\nL2.ffd_rate_log      -0.0002      0.000     -2.321      0.020      -0.000   -3.76e-05\nL3.btc_log            0.0001      0.000      0.676      0.499      -0.000       0.000\nL3.tot_btc_log       -0.0958      0.035     -2.769      0.006      -0.164      -0.028\nL3.hs_rate_log        0.0004      0.000      1.093      0.274      -0.000       0.001\nL3.eth_log        -1.301e-06   8.65e-05     -0.015      0.988      -0.000       0.000\nL3.ggl_trends_log  3.503e-05   9.02e-05      0.388      0.698      -0.000       0.000\nL3.wiki_views_log -6.592e-05   4.27e-05     -1.545      0.122      -0.000    1.77e-05\nL3.usd_eur_log        0.0009      0.001      0.692      0.489      -0.002       0.004\nL3.oil_wti_log        0.0008      0.000      2.746      0.006       0.000       0.001\nL3.gold_log           0.0006      0.001      0.689      0.491      -0.001       0.002\nL3.sp500_log          0.0002      0.001      0.200      0.842      -0.001       0.002\nL3.sse_log            0.0007      0.001      1.404      0.160      -0.000       0.002\nL3.ffd_rate_log      -0.0002      0.000     -2.343      0.019      -0.000   -3.98e-05\nL4.btc_log        -9.987e-05      0.000     -0.657      0.511      -0.000       0.000\nL4.tot_btc_log        0.0612      0.035      1.771      0.077      -0.007       0.129\nL4.hs_rate_log      8.48e-05      0.000      0.236      0.814      -0.001       0.001\nL4.eth_log            0.0002   8.59e-05      2.036      0.042     6.5e-06       0.000\nL4.ggl_trends_log -5.513e-05   9.13e-05     -0.603      0.546      -0.000       0.000\nL4.wiki_views_log   1.82e-05   4.02e-05      0.452      0.651   -6.07e-05    9.71e-05\nL4.usd_eur_log       -0.0019      0.001     -1.401      0.161      -0.004       0.001\nL4.oil_wti_log     -7.76e-05      0.000     -0.272      0.786      -0.001       0.000\nL4.gold_log           0.0004      0.001      0.436      0.663      -0.001       0.002\nL4.sp500_log          0.0006      0.001      0.717      0.473      -0.001       0.002\nL4.sse_log            0.0011      0.000      2.281      0.023       0.000       0.002\nL4.ffd_rate_log      -0.0002      0.000     -1.871      0.061      -0.000    8.97e-06\nL5.btc_log            0.0001      0.000      0.776      0.438      -0.000       0.000\nL5.tot_btc_log        0.2595      0.034      7.714      0.000       0.194       0.325\nL5.hs_rate_log     5.158e-05      0.000      0.148      0.883      -0.001       0.001\nL5.eth_log           -0.0001   7.42e-05     -1.898      0.058      -0.000    4.62e-06\nL5.ggl_trends_log     0.0003   9.23e-05      2.886      0.004    8.54e-05       0.000\nL5.wiki_views_log    -0.0001   3.73e-05     -3.162      0.002      -0.000   -4.49e-05\nL5.usd_eur_log        0.0023      0.001      1.728      0.084      -0.000       0.005\nL5.oil_wti_log       -0.0004      0.000     -1.443      0.149      -0.001       0.000\nL5.gold_log          -0.0008      0.001     -0.941      0.347      -0.002       0.001\nL5.sp500_log         -0.0008      0.001     -1.013      0.311      -0.002       0.001\nL5.sse_log           -0.0002      0.000     -0.368      0.713      -0.001       0.001\nL5.ffd_rate_log    5.377e-06   9.16e-05      0.059      0.953      -0.000       0.000\nDet. terms outside the coint. relation & lagged endog. parameters for equation hs_rate_log\n=====================================================================================\n                        coef    std err          z      P>|z|      [0.025      0.975]\n-------------------------------------------------------------------------------------\nL1.btc_log            0.0215      0.015      1.459      0.145      -0.007       0.050\nL1.tot_btc_log      -15.3380      3.419     -4.486      0.000     -22.039      -8.637\nL1.hs_rate_log        0.2908      0.035      8.283      0.000       0.222       0.360\nL1.eth_log           -0.0171      0.009     -1.979      0.048      -0.034      -0.000\nL1.ggl_trends_log    -0.0098      0.009     -1.102      0.271      -0.027       0.008\nL1.wiki_views_log    -0.0011      0.005     -0.239      0.811      -0.010       0.008\nL1.usd_eur_log        0.1227      0.130      0.942      0.346      -0.133       0.378\nL1.oil_wti_log        0.0501      0.028      1.778      0.075      -0.005       0.105\nL1.gold_log           0.0625      0.087      0.715      0.475      -0.109       0.234\nL1.sp500_log         -0.0117      0.080     -0.147      0.883      -0.168       0.144\nL1.sse_log           -0.0131      0.050     -0.260      0.795      -0.111       0.085\nL1.ffd_rate_log      -0.0076      0.009     -0.812      0.417      -0.026       0.011\nL2.btc_log            0.0342      0.015      2.318      0.020       0.005       0.063\nL2.tot_btc_log       -5.8113      3.445     -1.687      0.092     -12.563       0.941\nL2.hs_rate_log        0.0687      0.036      1.922      0.055      -0.001       0.139\nL2.eth_log           -0.0079      0.009     -0.921      0.357      -0.025       0.009\nL2.ggl_trends_log    -0.0123      0.009     -1.384      0.166      -0.030       0.005\nL2.wiki_views_log    -0.0029      0.004     -0.667      0.505      -0.012       0.006\nL2.usd_eur_log        0.3457      0.132      2.614      0.009       0.086       0.605\nL2.oil_wti_log        0.0164      0.028      0.584      0.559      -0.039       0.071\nL2.gold_log          -0.0722      0.087     -0.828      0.408      -0.243       0.099\nL2.sp500_log          0.0520      0.083      0.625      0.532      -0.111       0.215\nL2.sse_log           -0.0322      0.050     -0.641      0.522      -0.131       0.066\nL2.ffd_rate_log      -0.0059      0.010     -0.576      0.565      -0.026       0.014\nL3.btc_log            0.0116      0.015      0.777      0.437      -0.018       0.041\nL3.tot_btc_log       -2.5222      3.423     -0.737      0.461      -9.231       4.186\nL3.hs_rate_log       -0.0281      0.036     -0.788      0.431      -0.098       0.042\nL3.eth_log           -0.0039      0.009     -0.454      0.650      -0.021       0.013\nL3.ggl_trends_log    -0.0183      0.009     -2.049      0.041      -0.036      -0.001\nL3.wiki_views_log     0.0015      0.004      0.355      0.722      -0.007       0.010\nL3.usd_eur_log       -0.0172      0.132     -0.130      0.896      -0.275       0.241\nL3.oil_wti_log        0.0373      0.028      1.323      0.186      -0.018       0.093\nL3.gold_log           0.1295      0.087      1.493      0.135      -0.040       0.299\nL3.sp500_log          0.1006      0.082      1.231      0.218      -0.060       0.261\nL3.sse_log           -0.0200      0.050     -0.401      0.688      -0.118       0.078\nL3.ffd_rate_log      -0.0075      0.010     -0.731      0.465      -0.028       0.013\nL4.btc_log           -0.0118      0.015     -0.788      0.431      -0.041       0.018\nL4.tot_btc_log       -0.7336      3.417     -0.215      0.830      -7.432       5.964\nL4.hs_rate_log       -0.1329      0.036     -3.737      0.000      -0.203      -0.063\nL4.eth_log            0.0092      0.008      1.078      0.281      -0.007       0.026\nL4.ggl_trends_log    -0.0029      0.009     -0.317      0.751      -0.021       0.015\nL4.wiki_views_log    -0.0003      0.004     -0.077      0.938      -0.008       0.007\nL4.usd_eur_log        0.1470      0.132      1.115      0.265      -0.111       0.405\nL4.oil_wti_log       -0.0608      0.028     -2.150      0.032      -0.116      -0.005\nL4.gold_log           0.2474      0.087      2.849      0.004       0.077       0.418\nL4.sp500_log          0.0102      0.082      0.125      0.901      -0.150       0.170\nL4.sse_log            0.0489      0.049      1.000      0.317      -0.047       0.145\nL4.ffd_rate_log      -0.0084      0.010     -0.834      0.404      -0.028       0.011\nL5.btc_log           -0.0037      0.015     -0.249      0.804      -0.033       0.025\nL5.tot_btc_log        7.1298      3.326      2.143      0.032       0.610      13.649\nL5.hs_rate_log       -0.0983      0.035     -2.844      0.004      -0.166      -0.031\nL5.eth_log            0.0067      0.007      0.913      0.361      -0.008       0.021\nL5.ggl_trends_log     0.0197      0.009      2.162      0.031       0.002       0.038\nL5.wiki_views_log     0.0006      0.004      0.160      0.873      -0.007       0.008\nL5.usd_eur_log       -0.0239      0.132     -0.181      0.856      -0.282       0.235\nL5.oil_wti_log       -0.0025      0.028     -0.088      0.930      -0.058       0.053\nL5.gold_log           0.1005      0.085      1.189      0.234      -0.065       0.266\nL5.sp500_log         -0.0963      0.079     -1.212      0.226      -0.252       0.059\nL5.sse_log           -0.0023      0.047     -0.049      0.961      -0.094       0.089\nL5.ffd_rate_log      -0.0005      0.009     -0.057      0.955      -0.018       0.017\nDet. terms outside the coint. relation & lagged endog. parameters for equation eth_log\n=====================================================================================\n                        coef    std err          z      P>|z|      [0.025      0.975]\n-------------------------------------------------------------------------------------\nL1.btc_log           -0.1613      0.063     -2.545      0.011      -0.285      -0.037\nL1.tot_btc_log      -14.5571     14.693     -0.991      0.322     -43.354      14.240\nL1.hs_rate_log        0.1619      0.151      1.073      0.283      -0.134       0.458\nL1.eth_log            0.0696      0.037      1.873      0.061      -0.003       0.142\nL1.ggl_trends_log     0.0142      0.038      0.371      0.711      -0.061       0.089\nL1.wiki_views_log    -0.0187      0.020     -0.954      0.340      -0.057       0.020\nL1.usd_eur_log       -0.7086      0.560     -1.265      0.206      -1.806       0.389\nL1.oil_wti_log       -0.0002      0.121     -0.001      0.999      -0.237       0.237\nL1.gold_log           0.0486      0.376      0.129      0.897      -0.687       0.785\nL1.sp500_log          0.0836      0.342      0.244      0.807      -0.588       0.755\nL1.sse_log           -0.0688      0.216     -0.319      0.750      -0.492       0.354\nL1.ffd_rate_log      -0.0423      0.040     -1.048      0.294      -0.122       0.037\nL2.btc_log            0.0533      0.063      0.841      0.400      -0.071       0.178\nL2.tot_btc_log        4.3619     14.804      0.295      0.768     -24.654      33.378\nL2.hs_rate_log        0.1106      0.154      0.720      0.472      -0.191       0.412\nL2.eth_log           -0.0376      0.037     -1.025      0.306      -0.109       0.034\nL2.ggl_trends_log     0.0405      0.038      1.059      0.290      -0.034       0.115\nL2.wiki_views_log    -0.0282      0.019     -1.493      0.135      -0.065       0.009\nL2.usd_eur_log        0.3665      0.568      0.645      0.519      -0.748       1.480\nL2.oil_wti_log       -0.0655      0.121     -0.543      0.587      -0.302       0.171\nL2.gold_log          -0.1191      0.375     -0.318      0.750      -0.853       0.615\nL2.sp500_log          0.3957      0.358      1.106      0.269      -0.306       1.097\nL2.sse_log            0.2649      0.216      1.226      0.220      -0.159       0.688\nL2.ffd_rate_log      -0.0496      0.044     -1.119      0.263      -0.136       0.037\nL3.btc_log            0.0949      0.064      1.483      0.138      -0.031       0.220\nL3.tot_btc_log      -11.9806     14.709     -0.815      0.415     -40.810      16.848\nL3.hs_rate_log        0.1064      0.153      0.695      0.487      -0.194       0.406\nL3.eth_log            0.0418      0.037      1.136      0.256      -0.030       0.114\nL3.ggl_trends_log     0.0455      0.038      1.186      0.236      -0.030       0.121\nL3.wiki_views_log    -0.0245      0.018     -1.350      0.177      -0.060       0.011\nL3.usd_eur_log       -0.4049      0.566     -0.715      0.474      -1.514       0.705\nL3.oil_wti_log       -0.0503      0.121     -0.415      0.678      -0.288       0.187\nL3.gold_log           0.2854      0.373      0.766      0.444      -0.445       1.016\nL3.sp500_log         -0.2699      0.351     -0.769      0.442      -0.958       0.418\nL3.sse_log           -0.0098      0.214     -0.046      0.963      -0.430       0.410\nL3.ffd_rate_log      -0.0250      0.044     -0.565      0.572      -0.111       0.062\nL4.btc_log            0.0449      0.065      0.695      0.487      -0.082       0.172\nL4.tot_btc_log        9.5308     14.686      0.649      0.516     -19.253      38.315\nL4.hs_rate_log       -0.0159      0.153     -0.104      0.917      -0.315       0.284\nL4.eth_log           -0.0336      0.036     -0.920      0.358      -0.105       0.038\nL4.ggl_trends_log    -0.0273      0.039     -0.702      0.482      -0.103       0.049\nL4.wiki_views_log     0.0161      0.017      0.940      0.347      -0.017       0.050\nL4.usd_eur_log       -0.0721      0.566     -0.127      0.899      -1.182       1.038\nL4.oil_wti_log        0.0345      0.121      0.284      0.776      -0.204       0.273\nL4.gold_log          -0.0601      0.373     -0.161      0.872      -0.792       0.672\nL4.sp500_log         -0.2366      0.350     -0.676      0.499      -0.923       0.450\nL4.sse_log            0.2802      0.210      1.332      0.183      -0.132       0.692\nL4.ffd_rate_log      -0.0280      0.043     -0.649      0.516      -0.112       0.056\nL5.btc_log           -0.1290      0.063     -2.031      0.042      -0.253      -0.005\nL5.tot_btc_log        0.7422     14.294      0.052      0.959     -27.274      28.759\nL5.hs_rate_log        0.2627      0.149      1.769      0.077      -0.028       0.554\nL5.eth_log            0.0724      0.032      2.298      0.022       0.011       0.134\nL5.ggl_trends_log     0.0296      0.039      0.756      0.450      -0.047       0.107\nL5.wiki_views_log     0.0091      0.016      0.572      0.567      -0.022       0.040\nL5.usd_eur_log        0.4187      0.567      0.739      0.460      -0.692       1.529\nL5.oil_wti_log       -0.1008      0.122     -0.826      0.409      -0.340       0.138\nL5.gold_log          -0.7534      0.363     -2.073      0.038      -1.466      -0.041\nL5.sp500_log         -0.0536      0.342     -0.157      0.875      -0.723       0.616\nL5.sse_log           -0.5072      0.200     -2.535      0.011      -0.899      -0.115\nL5.ffd_rate_log       0.0056      0.039      0.143      0.886      -0.071       0.082\nDet. terms outside the coint. relation & lagged endog. parameters for equation ggl_trends_log\n=====================================================================================\n                        coef    std err          z      P>|z|      [0.025      0.975]\n-------------------------------------------------------------------------------------\nL1.btc_log           -0.0126      0.057     -0.221      0.825      -0.125       0.099\nL1.tot_btc_log      -13.9277     13.242     -1.052      0.293     -39.882      12.027\nL1.hs_rate_log        0.1776      0.136      1.306      0.192      -0.089       0.444\nL1.eth_log            0.0070      0.033      0.211      0.833      -0.059       0.073\nL1.ggl_trends_log     0.0945      0.034      2.748      0.006       0.027       0.162\nL1.wiki_views_log    -0.0227      0.018     -1.282      0.200      -0.057       0.012\nL1.usd_eur_log        0.1562      0.505      0.309      0.757      -0.833       1.146\nL1.oil_wti_log        0.0922      0.109      0.845      0.398      -0.122       0.306\nL1.gold_log           0.0022      0.338      0.006      0.995      -0.661       0.666\nL1.sp500_log         -0.3264      0.309     -1.057      0.290      -0.931       0.279\nL1.sse_log           -0.1275      0.194     -0.656      0.512      -0.509       0.254\nL1.ffd_rate_log      -0.1018      0.036     -2.797      0.005      -0.173      -0.030\nL2.btc_log            0.0600      0.057      1.050      0.294      -0.052       0.172\nL2.tot_btc_log       -5.2173     13.343     -0.391      0.696     -31.369      20.934\nL2.hs_rate_log        0.1878      0.138      1.357      0.175      -0.084       0.459\nL2.eth_log            0.0554      0.033      1.677      0.094      -0.009       0.120\nL2.ggl_trends_log     0.0897      0.034      2.606      0.009       0.022       0.157\nL2.wiki_views_log    -0.0305      0.017     -1.789      0.074      -0.064       0.003\nL2.usd_eur_log        0.0540      0.512      0.105      0.916      -0.950       1.058\nL2.oil_wti_log       -0.0014      0.109     -0.013      0.990      -0.215       0.212\nL2.gold_log          -0.1913      0.338     -0.567      0.571      -0.853       0.470\nL2.sp500_log          0.2576      0.323      0.799      0.425      -0.375       0.890\nL2.sse_log           -0.3110      0.195     -1.597      0.110      -0.693       0.071\nL2.ffd_rate_log      -0.0541      0.040     -1.356      0.175      -0.132       0.024\nL3.btc_log            0.0307      0.058      0.533      0.594      -0.082       0.144\nL3.tot_btc_log        3.2198     13.257      0.243      0.808     -22.763      29.203\nL3.hs_rate_log       -0.0154      0.138     -0.112      0.911      -0.286       0.255\nL3.eth_log            0.0303      0.033      0.915      0.360      -0.035       0.095\nL3.ggl_trends_log     0.0976      0.035      2.824      0.005       0.030       0.165\nL3.wiki_views_log     0.0097      0.016      0.593      0.553      -0.022       0.042\nL3.usd_eur_log       -0.8909      0.510     -1.746      0.081      -1.891       0.109\nL3.oil_wti_log       -0.0622      0.109     -0.570      0.569      -0.276       0.152\nL3.gold_log           0.3273      0.336      0.975      0.330      -0.331       0.985\nL3.sp500_log          0.3328      0.317      1.051      0.293      -0.288       0.953\nL3.sse_log           -0.2117      0.193     -1.097      0.273      -0.590       0.167\nL3.ffd_rate_log      -0.0858      0.040     -2.157      0.031      -0.164      -0.008\nL4.btc_log            0.0476      0.058      0.817      0.414      -0.067       0.162\nL4.tot_btc_log        7.8485     13.236      0.593      0.553     -18.094      33.791\nL4.hs_rate_log        0.1618      0.138      1.175      0.240      -0.108       0.432\nL4.eth_log           -0.0175      0.033     -0.532      0.595      -0.082       0.047\nL4.ggl_trends_log     0.1041      0.035      2.974      0.003       0.035       0.173\nL4.wiki_views_log     0.0174      0.015      1.129      0.259      -0.013       0.048\nL4.usd_eur_log       -0.4040      0.510     -0.791      0.429      -1.404       0.597\nL4.oil_wti_log       -0.1686      0.109     -1.540      0.124      -0.383       0.046\nL4.gold_log          -0.3536      0.336     -1.051      0.293      -1.013       0.306\nL4.sp500_log          0.0214      0.316      0.068      0.946      -0.597       0.640\nL4.sse_log            0.0791      0.190      0.417      0.677      -0.293       0.451\nL4.ffd_rate_log       0.0161      0.039      0.414      0.679      -0.060       0.092\nL5.btc_log           -0.0322      0.057     -0.563      0.574      -0.144       0.080\nL5.tot_btc_log       23.4087     12.883      1.817      0.069      -1.842      48.660\nL5.hs_rate_log       -0.1627      0.134     -1.215      0.224      -0.425       0.100\nL5.eth_log            0.0380      0.028      1.337      0.181      -0.018       0.094\nL5.ggl_trends_log    -0.0099      0.035     -0.279      0.780      -0.079       0.059\nL5.wiki_views_log     0.0411      0.014      2.871      0.004       0.013       0.069\nL5.usd_eur_log       -1.0778      0.511     -2.110      0.035      -2.079      -0.077\nL5.oil_wti_log       -0.0962      0.110     -0.874      0.382      -0.312       0.119\nL5.gold_log          -0.7969      0.327     -2.434      0.015      -1.439      -0.155\nL5.sp500_log          0.7018      0.308      2.280      0.023       0.098       1.305\nL5.sse_log           -0.0668      0.180     -0.371      0.711      -0.420       0.287\nL5.ffd_rate_log      -0.0681      0.035     -1.942      0.052      -0.137       0.001\nDet. terms outside the coint. relation & lagged endog. parameters for equation wiki_views_log\n=====================================================================================\n                        coef    std err          z      P>|z|      [0.025      0.975]\n-------------------------------------------------------------------------------------\nL1.btc_log            0.1704      0.134      1.276      0.202      -0.091       0.432\nL1.tot_btc_log      -24.9457     30.974     -0.805      0.421     -85.654      35.763\nL1.hs_rate_log        0.4996      0.318      1.571      0.116      -0.124       1.123\nL1.eth_log           -0.0171      0.078     -0.218      0.827      -0.171       0.136\nL1.ggl_trends_log     0.0426      0.080      0.530      0.596      -0.115       0.200\nL1.wiki_views_log    -0.2228      0.041     -5.392      0.000      -0.304      -0.142\nL1.usd_eur_log        1.0830      1.181      0.917      0.359      -1.231       3.397\nL1.oil_wti_log        0.0874      0.255      0.343      0.732      -0.413       0.588\nL1.gold_log           0.1425      0.792      0.180      0.857      -1.409       1.694\nL1.sp500_log          0.0824      0.722      0.114      0.909      -1.332       1.497\nL1.sse_log           -0.4805      0.455     -1.057      0.291      -1.372       0.411\nL1.ffd_rate_log      -0.2808      0.085     -3.298      0.001      -0.448      -0.114\nL2.btc_log            0.2635      0.134      1.972      0.049       0.002       0.525\nL2.tot_btc_log      -17.3333     31.210     -0.555      0.579     -78.504      43.837\nL2.hs_rate_log       -0.0438      0.324     -0.135      0.892      -0.679       0.591\nL2.eth_log           -0.0399      0.077     -0.516      0.606      -0.191       0.112\nL2.ggl_trends_log     0.1933      0.081      2.399      0.016       0.035       0.351\nL2.wiki_views_log    -0.1980      0.040     -4.965      0.000      -0.276      -0.120\nL2.usd_eur_log       -0.6828      1.198     -0.570      0.569      -3.031       1.666\nL2.oil_wti_log       -0.8344      0.254     -3.280      0.001      -1.333      -0.336\nL2.gold_log           1.8214      0.790      2.307      0.021       0.274       3.369\nL2.sp500_log          0.7183      0.755      0.952      0.341      -0.761       2.197\nL2.sse_log            0.6205      0.455      1.362      0.173      -0.272       1.513\nL2.ffd_rate_log      -0.1286      0.093     -1.378      0.168      -0.312       0.054\nL3.btc_log            0.0811      0.135      0.601      0.548      -0.183       0.345\nL3.tot_btc_log      -46.8259     31.009     -1.510      0.131    -107.602      13.950\nL3.hs_rate_log       -0.0018      0.323     -0.006      0.995      -0.634       0.631\nL3.eth_log            0.0120      0.078      0.155      0.877      -0.140       0.164\nL3.ggl_trends_log     0.1379      0.081      1.706      0.088      -0.021       0.296\nL3.wiki_views_log    -0.1991      0.038     -5.207      0.000      -0.274      -0.124\nL3.usd_eur_log       -0.6005      1.193     -0.503      0.615      -2.939       1.738\nL3.oil_wti_log       -0.3933      0.255     -1.540      0.124      -0.894       0.107\nL3.gold_log           0.8491      0.786      1.081      0.280      -0.690       2.389\nL3.sp500_log          1.5748      0.740      2.127      0.033       0.124       3.026\nL3.sse_log           -0.1590      0.451     -0.352      0.725      -1.044       0.726\nL3.ffd_rate_log      -0.2376      0.093     -2.553      0.011      -0.420      -0.055\nL4.btc_log            0.1076      0.136      0.789      0.430      -0.160       0.375\nL4.tot_btc_log      -20.5802     30.960     -0.665      0.506     -81.261      40.101\nL4.hs_rate_log        0.1227      0.322      0.381      0.703      -0.509       0.754\nL4.eth_log           -0.0071      0.077     -0.092      0.926      -0.158       0.144\nL4.ggl_trends_log     0.1933      0.082      2.362      0.018       0.033       0.354\nL4.wiki_views_log    -0.1370      0.036     -3.799      0.000      -0.208      -0.066\nL4.usd_eur_log        0.7479      1.194      0.626      0.531      -1.592       3.088\nL4.oil_wti_log        0.2578      0.256      1.007      0.314      -0.244       0.760\nL4.gold_log          -0.4939      0.787     -0.628      0.530      -2.036       1.048\nL4.sp500_log          0.2913      0.738      0.395      0.693      -1.156       1.739\nL4.sse_log            0.1788      0.443      0.403      0.687      -0.690       1.048\nL4.ffd_rate_log      -0.0923      0.091     -1.017      0.309      -0.270       0.086\nL5.btc_log            0.1640      0.134      1.225      0.221      -0.098       0.426\nL5.tot_btc_log      -17.0115     30.135     -0.565      0.572     -76.074      42.051\nL5.hs_rate_log        0.1947      0.313      0.622      0.534      -0.419       0.808\nL5.eth_log           -0.0347      0.066     -0.522      0.601      -0.165       0.096\nL5.ggl_trends_log     0.2904      0.083      3.513      0.000       0.128       0.452\nL5.wiki_views_log    -0.0294      0.033     -0.879      0.380      -0.095       0.036\nL5.usd_eur_log        1.3033      1.195      1.091      0.275      -1.039       3.645\nL5.oil_wti_log        0.2052      0.257      0.798      0.425      -0.299       0.710\nL5.gold_log          -1.2027      0.766     -1.570      0.116      -2.704       0.299\nL5.sp500_log         -0.4998      0.720     -0.694      0.488      -1.911       0.912\nL5.sse_log            0.5483      0.422      1.300      0.194      -0.278       1.375\nL5.ffd_rate_log      -0.0267      0.082     -0.325      0.745      -0.188       0.134\nDet. terms outside the coint. relation & lagged endog. parameters for equation usd_eur_log\n=====================================================================================\n                        coef    std err          z      P>|z|      [0.025      0.975]\n-------------------------------------------------------------------------------------\nL1.btc_log           -0.0062      0.004     -1.548      0.122      -0.014       0.002\nL1.tot_btc_log        1.3240      0.924      1.433      0.152      -0.487       3.135\nL1.hs_rate_log       -0.0011      0.009     -0.111      0.912      -0.020       0.018\nL1.eth_log            0.0013      0.002      0.540      0.589      -0.003       0.006\nL1.ggl_trends_log     0.0023      0.002      0.968      0.333      -0.002       0.007\nL1.wiki_views_log     0.0015      0.001      1.213      0.225      -0.001       0.004\nL1.usd_eur_log       -0.0175      0.035     -0.496      0.620      -0.087       0.052\nL1.oil_wti_log        0.0179      0.008      2.350      0.019       0.003       0.033\nL1.gold_log           0.0026      0.024      0.110      0.913      -0.044       0.049\nL1.sp500_log         -0.0276      0.022     -1.281      0.200      -0.070       0.015\nL1.sse_log            0.0198      0.014      1.460      0.144      -0.007       0.046\nL1.ffd_rate_log       0.0018      0.003      0.700      0.484      -0.003       0.007\nL2.btc_log           -0.0041      0.004     -1.018      0.309      -0.012       0.004\nL2.tot_btc_log        0.3394      0.931      0.364      0.716      -1.486       2.164\nL2.hs_rate_log       -0.0069      0.010     -0.713      0.476      -0.026       0.012\nL2.eth_log            0.0031      0.002      1.336      0.182      -0.001       0.008\nL2.ggl_trends_log     0.0018      0.002      0.764      0.445      -0.003       0.007\nL2.wiki_views_log     0.0017      0.001      1.390      0.164      -0.001       0.004\nL2.usd_eur_log       -0.0177      0.036     -0.495      0.620      -0.088       0.052\nL2.oil_wti_log       -0.0021      0.008     -0.271      0.787      -0.017       0.013\nL2.gold_log           0.0061      0.024      0.259      0.796      -0.040       0.052\nL2.sp500_log         -0.0149      0.023     -0.662      0.508      -0.059       0.029\nL2.sse_log            0.0043      0.014      0.320      0.749      -0.022       0.031\nL2.ffd_rate_log       0.0060      0.003      2.163      0.031       0.001       0.011\nL3.btc_log            0.0047      0.004      1.171      0.242      -0.003       0.013\nL3.tot_btc_log        1.1970      0.925      1.294      0.196      -0.616       3.010\nL3.hs_rate_log        0.0025      0.010      0.259      0.796      -0.016       0.021\nL3.eth_log           -0.0041      0.002     -1.783      0.075      -0.009       0.000\nL3.ggl_trends_log    -0.0051      0.002     -2.113      0.035      -0.010      -0.000\nL3.wiki_views_log     0.0004      0.001      0.310      0.757      -0.002       0.003\nL3.usd_eur_log       -0.0486      0.036     -1.366      0.172      -0.118       0.021\nL3.oil_wti_log       -0.0087      0.008     -1.140      0.254      -0.024       0.006\nL3.gold_log           0.0313      0.023      1.336      0.181      -0.015       0.077\nL3.sp500_log          0.0023      0.022      0.106      0.916      -0.041       0.046\nL3.sse_log            0.0095      0.013      0.705      0.481      -0.017       0.036\nL3.ffd_rate_log      -0.0027      0.003     -0.956      0.339      -0.008       0.003\nL4.btc_log            0.0004      0.004      0.107      0.915      -0.008       0.008\nL4.tot_btc_log        0.5675      0.924      0.614      0.539      -1.243       2.378\nL4.hs_rate_log       -0.0153      0.010     -1.597      0.110      -0.034       0.003\nL4.eth_log           -0.0001      0.002     -0.063      0.950      -0.005       0.004\nL4.ggl_trends_log    -0.0050      0.002     -2.065      0.039      -0.010      -0.000\nL4.wiki_views_log     0.0018      0.001      1.696      0.090      -0.000       0.004\nL4.usd_eur_log       -0.0538      0.036     -1.511      0.131      -0.124       0.016\nL4.oil_wti_log        0.0105      0.008      1.368      0.171      -0.005       0.025\nL4.gold_log          -0.0091      0.023     -0.389      0.697      -0.055       0.037\nL4.sp500_log         -0.0239      0.022     -1.086      0.278      -0.067       0.019\nL4.sse_log           -0.0259      0.013     -1.961      0.050      -0.052   -1.39e-05\nL4.ffd_rate_log      -0.0067      0.003     -2.461      0.014      -0.012      -0.001\nL5.btc_log           -0.0036      0.004     -0.900      0.368      -0.011       0.004\nL5.tot_btc_log        0.5307      0.899      0.590      0.555      -1.232       2.293\nL5.hs_rate_log        0.0028      0.009      0.301      0.764      -0.015       0.021\nL5.eth_log           -0.0023      0.002     -1.156      0.248      -0.006       0.002\nL5.ggl_trends_log    -0.0006      0.002     -0.228      0.820      -0.005       0.004\nL5.wiki_views_log     0.0008      0.001      0.804      0.421      -0.001       0.003\nL5.usd_eur_log       -0.0603      0.036     -1.693      0.091      -0.130       0.010\nL5.oil_wti_log       -0.0123      0.008     -1.601      0.109      -0.027       0.003\nL5.gold_log           0.0497      0.023      2.174      0.030       0.005       0.094\nL5.sp500_log         -0.0085      0.021     -0.398      0.691      -0.051       0.034\nL5.sse_log            0.0069      0.013      0.547      0.584      -0.018       0.032\nL5.ffd_rate_log      -0.0015      0.002     -0.629      0.529      -0.006       0.003\nDet. terms outside the coint. relation & lagged endog. parameters for equation oil_wti_log\n=====================================================================================\n                        coef    std err          z      P>|z|      [0.025      0.975]\n-------------------------------------------------------------------------------------\nL1.btc_log            0.0284      0.018      1.556      0.120      -0.007       0.064\nL1.tot_btc_log        8.0493      4.235      1.901      0.057      -0.252      16.350\nL1.hs_rate_log        0.0221      0.043      0.509      0.611      -0.063       0.107\nL1.eth_log           -0.0034      0.011     -0.315      0.753      -0.024       0.018\nL1.ggl_trends_log     0.0119      0.011      1.083      0.279      -0.010       0.033\nL1.wiki_views_log    -0.0098      0.006     -1.738      0.082      -0.021       0.001\nL1.usd_eur_log       -0.2560      0.161     -1.586      0.113      -0.572       0.060\nL1.oil_wti_log       -0.0374      0.035     -1.071      0.284      -0.106       0.031\nL1.gold_log           0.0154      0.108      0.142      0.887      -0.197       0.228\nL1.sp500_log          0.2106      0.099      2.133      0.033       0.017       0.404\nL1.sse_log           -0.0232      0.062     -0.373      0.709      -0.145       0.099\nL1.ffd_rate_log      -0.0086      0.012     -0.740      0.460      -0.031       0.014\nL2.btc_log            0.0107      0.018      0.587      0.557      -0.025       0.047\nL2.tot_btc_log       -3.3778      4.267     -0.792      0.429     -11.742       4.986\nL2.hs_rate_log        0.0062      0.044      0.140      0.888      -0.081       0.093\nL2.eth_log            0.0148      0.011      1.401      0.161      -0.006       0.036\nL2.ggl_trends_log     0.0184      0.011      1.674      0.094      -0.003       0.040\nL2.wiki_views_log    -0.0036      0.005     -0.662      0.508      -0.014       0.007\nL2.usd_eur_log       -0.2707      0.164     -1.653      0.098      -0.592       0.050\nL2.oil_wti_log       -0.0353      0.035     -1.015      0.310      -0.103       0.033\nL2.gold_log           0.1525      0.108      1.412      0.158      -0.059       0.364\nL2.sp500_log         -0.0186      0.103     -0.180      0.857      -0.221       0.184\nL2.sse_log            0.0010      0.062      0.016      0.987      -0.121       0.123\nL2.ffd_rate_log       0.0109      0.013      0.853      0.394      -0.014       0.036\nL3.btc_log            0.0194      0.018      1.053      0.292      -0.017       0.056\nL3.tot_btc_log       -0.0895      4.240     -0.021      0.983      -8.400       8.221\nL3.hs_rate_log        0.0224      0.044      0.509      0.611      -0.064       0.109\nL3.eth_log           -0.0325      0.011     -3.063      0.002      -0.053      -0.012\nL3.ggl_trends_log     0.0230      0.011      2.079      0.038       0.001       0.045\nL3.wiki_views_log    -0.0035      0.005     -0.679      0.497      -0.014       0.007\nL3.usd_eur_log       -0.1911      0.163     -1.171      0.242      -0.511       0.129\nL3.oil_wti_log       -0.0328      0.035     -0.940      0.347      -0.101       0.036\nL3.gold_log          -0.0846      0.107     -0.787      0.431      -0.295       0.126\nL3.sp500_log          0.1035      0.101      1.023      0.306      -0.095       0.302\nL3.sse_log            0.0830      0.062      1.346      0.178      -0.038       0.204\nL3.ffd_rate_log       0.0126      0.013      0.988      0.323      -0.012       0.038\nL4.btc_log           -0.0162      0.019     -0.871      0.384      -0.053       0.020\nL4.tot_btc_log        1.3408      4.233      0.317      0.751      -6.956       9.638\nL4.hs_rate_log        0.0110      0.044      0.249      0.803      -0.075       0.097\nL4.eth_log            0.0307      0.011      2.923      0.003       0.010       0.051\nL4.ggl_trends_log    -0.0205      0.011     -1.836      0.066      -0.042       0.001\nL4.wiki_views_log     0.0019      0.005      0.383      0.702      -0.008       0.012\nL4.usd_eur_log        0.2814      0.163      1.724      0.085      -0.039       0.601\nL4.oil_wti_log        0.0695      0.035      1.986      0.047       0.001       0.138\nL4.gold_log          -0.0675      0.108     -0.627      0.530      -0.278       0.143\nL4.sp500_log         -0.1358      0.101     -1.345      0.179      -0.334       0.062\nL4.sse_log           -0.0555      0.061     -0.916      0.360      -0.174       0.063\nL4.ffd_rate_log       0.0159      0.012      1.281      0.200      -0.008       0.040\nL5.btc_log            0.0159      0.018      0.870      0.384      -0.020       0.052\nL5.tot_btc_log       -1.4767      4.120     -0.358      0.720      -9.553       6.599\nL5.hs_rate_log       -0.0207      0.043     -0.483      0.629      -0.105       0.063\nL5.eth_log            0.0055      0.009      0.610      0.542      -0.012       0.023\nL5.ggl_trends_log    -0.0273      0.011     -2.415      0.016      -0.049      -0.005\nL5.wiki_views_log    -0.0037      0.005     -0.804      0.422      -0.013       0.005\nL5.usd_eur_log       -0.2657      0.163     -1.626      0.104      -0.586       0.055\nL5.oil_wti_log        0.0957      0.035      2.720      0.007       0.027       0.165\nL5.gold_log           0.0266      0.105      0.254      0.800      -0.179       0.232\nL5.sp500_log         -0.2266      0.098     -2.301      0.021      -0.420      -0.034\nL5.sse_log           -0.1851      0.058     -3.210      0.001      -0.298      -0.072\nL5.ffd_rate_log       0.0052      0.011      0.460      0.646      -0.017       0.027\nDet. terms outside the coint. relation & lagged endog. parameters for equation gold_log\n=====================================================================================\n                        coef    std err          z      P>|z|      [0.025      0.975]\n-------------------------------------------------------------------------------------\nL1.btc_log           -0.0091      0.006     -1.503      0.133      -0.021       0.003\nL1.tot_btc_log        2.0158      1.407      1.433      0.152      -0.742       4.774\nL1.hs_rate_log       -0.0006      0.014     -0.044      0.965      -0.029       0.028\nL1.eth_log            0.0029      0.004      0.802      0.423      -0.004       0.010\nL1.ggl_trends_log    -0.0027      0.004     -0.749      0.454      -0.010       0.004\nL1.wiki_views_log     0.0010      0.002      0.512      0.609      -0.003       0.005\nL1.usd_eur_log        0.3145      0.054      5.864      0.000       0.209       0.420\nL1.oil_wti_log        0.0222      0.012      1.913      0.056      -0.001       0.045\nL1.gold_log          -0.0653      0.036     -1.815      0.069      -0.136       0.005\nL1.sp500_log         -0.0748      0.033     -2.281      0.023      -0.139      -0.011\nL1.sse_log            0.0407      0.021      1.969      0.049       0.000       0.081\nL1.ffd_rate_log      -0.0043      0.004     -1.121      0.262      -0.012       0.003\nL2.btc_log            0.0012      0.006      0.192      0.848      -0.011       0.013\nL2.tot_btc_log        0.5884      1.418      0.415      0.678      -2.190       3.367\nL2.hs_rate_log       -0.0116      0.015     -0.785      0.432      -0.040       0.017\nL2.eth_log            0.0001      0.004      0.033      0.974      -0.007       0.007\nL2.ggl_trends_log     0.0031      0.004      0.840      0.401      -0.004       0.010\nL2.wiki_views_log     0.0016      0.002      0.880      0.379      -0.002       0.005\nL2.usd_eur_log        0.0546      0.054      1.004      0.316      -0.052       0.161\nL2.oil_wti_log       -0.0006      0.012     -0.053      0.958      -0.023       0.022\nL2.gold_log          -0.0856      0.036     -2.386      0.017      -0.156      -0.015\nL2.sp500_log          0.0081      0.034      0.236      0.813      -0.059       0.075\nL2.sse_log            0.0156      0.021      0.754      0.451      -0.025       0.056\nL2.ffd_rate_log      -0.0017      0.004     -0.399      0.690      -0.010       0.007\nL3.btc_log           -0.0145      0.006     -2.360      0.018      -0.026      -0.002\nL3.tot_btc_log        2.7779      1.409      1.972      0.049       0.017       5.539\nL3.hs_rate_log    -1.363e-05      0.015     -0.001      0.999      -0.029       0.029\nL3.eth_log            0.0067      0.004      1.907      0.057      -0.000       0.014\nL3.ggl_trends_log    -0.0019      0.004     -0.511      0.609      -0.009       0.005\nL3.wiki_views_log    -0.0009      0.002     -0.498      0.619      -0.004       0.003\nL3.usd_eur_log        0.0152      0.054      0.281      0.779      -0.091       0.121\nL3.oil_wti_log       -0.0188      0.012     -1.621      0.105      -0.042       0.004\nL3.gold_log           0.0580      0.036      1.625      0.104      -0.012       0.128\nL3.sp500_log         -0.0146      0.034     -0.433      0.665      -0.080       0.051\nL3.sse_log            0.0062      0.021      0.304      0.761      -0.034       0.046\nL3.ffd_rate_log       0.0006      0.004      0.131      0.896      -0.008       0.009\nL4.btc_log           -0.0008      0.006     -0.128      0.898      -0.013       0.011\nL4.tot_btc_log        1.8756      1.406      1.334      0.182      -0.881       4.632\nL4.hs_rate_log       -0.0204      0.015     -1.393      0.163      -0.049       0.008\nL4.eth_log           -0.0033      0.003     -0.940      0.347      -0.010       0.004\nL4.ggl_trends_log     0.0048      0.004      1.278      0.201      -0.003       0.012\nL4.wiki_views_log    -0.0013      0.002     -0.806      0.420      -0.005       0.002\nL4.usd_eur_log       -0.0005      0.054     -0.010      0.992      -0.107       0.106\nL4.oil_wti_log        0.0042      0.012      0.364      0.716      -0.019       0.027\nL4.gold_log          -0.0083      0.036     -0.232      0.816      -0.078       0.062\nL4.sp500_log          0.0217      0.034      0.646      0.518      -0.044       0.087\nL4.sse_log            0.0086      0.020      0.424      0.671      -0.031       0.048\nL4.ffd_rate_log      -0.0062      0.004     -1.511      0.131      -0.014       0.002\nL5.btc_log            0.0040      0.006      0.655      0.513      -0.008       0.016\nL5.tot_btc_log        1.9412      1.369      1.418      0.156      -0.742       4.624\nL5.hs_rate_log        0.0059      0.014      0.418      0.676      -0.022       0.034\nL5.eth_log           -0.0057      0.003     -1.883      0.060      -0.012       0.000\nL5.ggl_trends_log    -0.0039      0.004     -1.052      0.293      -0.011       0.003\nL5.wiki_views_log    -0.0004      0.002     -0.234      0.815      -0.003       0.003\nL5.usd_eur_log        0.0327      0.054      0.603      0.547      -0.074       0.139\nL5.oil_wti_log       -0.0137      0.012     -1.172      0.241      -0.037       0.009\nL5.gold_log          -0.0527      0.035     -1.515      0.130      -0.121       0.015\nL5.sp500_log         -0.0120      0.033     -0.367      0.714      -0.076       0.052\nL5.sse_log           -0.0135      0.019     -0.707      0.479      -0.051       0.024\nL5.ffd_rate_log      -0.0031      0.004     -0.835      0.403      -0.010       0.004\nDet. terms outside the coint. relation & lagged endog. parameters for equation sp500_log\n=====================================================================================\n                        coef    std err          z      P>|z|      [0.025      0.975]\n-------------------------------------------------------------------------------------\nL1.btc_log            0.0081      0.007      1.206      0.228      -0.005       0.021\nL1.tot_btc_log        1.6725      1.563      1.070      0.284      -1.390       4.735\nL1.hs_rate_log        0.0176      0.016      1.094      0.274      -0.014       0.049\nL1.eth_log            0.0022      0.004      0.556      0.578      -0.006       0.010\nL1.ggl_trends_log    -0.0026      0.004     -0.652      0.515      -0.011       0.005\nL1.wiki_views_log    -0.0026      0.002     -1.265      0.206      -0.007       0.001\nL1.usd_eur_log        0.1085      0.060      1.821      0.069      -0.008       0.225\nL1.oil_wti_log        0.0019      0.013      0.144      0.885      -0.023       0.027\nL1.gold_log          -0.0867      0.040     -2.170      0.030      -0.165      -0.008\nL1.sp500_log          0.0503      0.036      1.382      0.167      -0.021       0.122\nL1.sse_log           -0.0349      0.023     -1.522      0.128      -0.080       0.010\nL1.ffd_rate_log      -0.0100      0.004     -2.319      0.020      -0.018      -0.002\nL2.btc_log           -0.0009      0.007     -0.128      0.898      -0.014       0.012\nL2.tot_btc_log        1.1521      1.575      0.732      0.464      -1.934       4.238\nL2.hs_rate_log       -0.0162      0.016     -0.993      0.321      -0.048       0.016\nL2.eth_log           -0.0030      0.004     -0.760      0.447      -0.011       0.005\nL2.ggl_trends_log    -0.0040      0.004     -0.983      0.326      -0.012       0.004\nL2.wiki_views_log    -0.0047      0.002     -2.336      0.019      -0.009      -0.001\nL2.usd_eur_log        0.0179      0.060      0.295      0.768      -0.101       0.136\nL2.oil_wti_log       -0.0199      0.013     -1.549      0.121      -0.045       0.005\nL2.gold_log          -0.0029      0.040     -0.072      0.942      -0.081       0.075\nL2.sp500_log          0.0109      0.038      0.286      0.775      -0.064       0.086\nL2.sse_log           -0.0014      0.023     -0.061      0.951      -0.046       0.044\nL2.ffd_rate_log       0.0018      0.005      0.375      0.708      -0.007       0.011\nL3.btc_log            0.0189      0.007      2.773      0.006       0.006       0.032\nL3.tot_btc_log        1.5939      1.564      1.019      0.308      -1.472       4.660\nL3.hs_rate_log       -0.0129      0.016     -0.795      0.426      -0.045       0.019\nL3.eth_log           -0.0065      0.004     -1.655      0.098      -0.014       0.001\nL3.ggl_trends_log     0.0129      0.004      3.171      0.002       0.005       0.021\nL3.wiki_views_log    -0.0063      0.002     -3.247      0.001      -0.010      -0.002\nL3.usd_eur_log        0.0314      0.060      0.521      0.602      -0.087       0.149\nL3.oil_wti_log        0.0013      0.013      0.102      0.919      -0.024       0.027\nL3.gold_log          -0.0091      0.040     -0.230      0.818      -0.087       0.069\nL3.sp500_log          0.0092      0.037      0.247      0.805      -0.064       0.082\nL3.sse_log           -0.0322      0.023     -1.412      0.158      -0.077       0.012\nL3.ffd_rate_log       0.0025      0.005      0.530      0.596      -0.007       0.012\nL4.btc_log           -0.0100      0.007     -1.452      0.146      -0.023       0.003\nL4.tot_btc_log        0.3053      1.562      0.195      0.845      -2.756       3.367\nL4.hs_rate_log        0.0216      0.016      1.327      0.185      -0.010       0.053\nL4.eth_log            0.0101      0.004      2.603      0.009       0.002       0.018\nL4.ggl_trends_log    -0.0026      0.004     -0.633      0.526      -0.011       0.005\nL4.wiki_views_log    -0.0013      0.002     -0.730      0.466      -0.005       0.002\nL4.usd_eur_log        0.1682      0.060      2.792      0.005       0.050       0.286\nL4.oil_wti_log       -0.0173      0.013     -1.338      0.181      -0.043       0.008\nL4.gold_log           0.0422      0.040      1.063      0.288      -0.036       0.120\nL4.sp500_log          0.0726      0.037      1.948      0.051      -0.000       0.146\nL4.sse_log            0.0406      0.022      1.816      0.069      -0.003       0.084\nL4.ffd_rate_log       0.0075      0.005      1.640      0.101      -0.001       0.016\nL5.btc_log            0.0123      0.007      1.822      0.068      -0.001       0.026\nL5.tot_btc_log        0.2592      1.520      0.170      0.865      -2.721       3.239\nL5.hs_rate_log       -0.0249      0.016     -1.579      0.114      -0.056       0.006\nL5.eth_log            0.0001      0.003      0.037      0.971      -0.006       0.007\nL5.ggl_trends_log     0.0001      0.004      0.026      0.979      -0.008       0.008\nL5.wiki_views_log    -0.0011      0.002     -0.627      0.531      -0.004       0.002\nL5.usd_eur_log       -0.0278      0.060     -0.461      0.645      -0.146       0.090\nL5.oil_wti_log       -0.0059      0.013     -0.458      0.647      -0.031       0.019\nL5.gold_log           0.0530      0.039      1.372      0.170      -0.023       0.129\nL5.sp500_log          0.0077      0.036      0.211      0.833      -0.064       0.079\nL5.sse_log           -0.0199      0.021     -0.937      0.349      -0.062       0.022\nL5.ffd_rate_log       0.0011      0.004      0.263      0.793      -0.007       0.009\nDet. terms outside the coint. relation & lagged endog. parameters for equation sse_log\n=====================================================================================\n                        coef    std err          z      P>|z|      [0.025      0.975]\n-------------------------------------------------------------------------------------\nL1.btc_log            0.0028      0.010      0.278      0.781      -0.017       0.022\nL1.tot_btc_log        2.7243      2.318      1.175      0.240      -1.819       7.268\nL1.hs_rate_log       -0.0165      0.024     -0.692      0.489      -0.063       0.030\nL1.eth_log            0.0018      0.006      0.312      0.755      -0.010       0.013\nL1.ggl_trends_log     0.0011      0.006      0.175      0.861      -0.011       0.013\nL1.wiki_views_log    -0.0006      0.003     -0.183      0.854      -0.007       0.005\nL1.usd_eur_log       -0.0501      0.088     -0.567      0.571      -0.223       0.123\nL1.oil_wti_log        0.0197      0.019      1.029      0.303      -0.018       0.057\nL1.gold_log          -0.0478      0.059     -0.807      0.420      -0.164       0.068\nL1.sp500_log          0.5227      0.054      9.675      0.000       0.417       0.629\nL1.sse_log           -0.1037      0.034     -3.047      0.002      -0.170      -0.037\nL1.ffd_rate_log       0.0109      0.006      1.718      0.086      -0.002       0.023\nL2.btc_log            0.0218      0.010      2.182      0.029       0.002       0.041\nL2.tot_btc_log       -1.1198      2.336     -0.479      0.632      -5.698       3.458\nL2.hs_rate_log       -0.0251      0.024     -1.034      0.301      -0.073       0.022\nL2.eth_log           -0.0132      0.006     -2.276      0.023      -0.025      -0.002\nL2.ggl_trends_log    -0.0060      0.006     -1.001      0.317      -0.018       0.006\nL2.wiki_views_log    -0.0001      0.003     -0.044      0.965      -0.006       0.006\nL2.usd_eur_log       -0.0884      0.090     -0.986      0.324      -0.264       0.087\nL2.oil_wti_log       -0.0121      0.019     -0.634      0.526      -0.049       0.025\nL2.gold_log          -0.0521      0.059     -0.882      0.378      -0.168       0.064\nL2.sp500_log          0.0778      0.056      1.377      0.169      -0.033       0.188\nL2.sse_log            0.0569      0.034      1.669      0.095      -0.010       0.124\nL2.ffd_rate_log       0.0154      0.007      2.205      0.027       0.002       0.029\nL3.btc_log            0.0352      0.010      3.484      0.000       0.015       0.055\nL3.tot_btc_log        0.1431      2.321      0.062      0.951      -4.405       4.692\nL3.hs_rate_log        0.0063      0.024      0.260      0.795      -0.041       0.054\nL3.eth_log           -0.0219      0.006     -3.771      0.000      -0.033      -0.011\nL3.ggl_trends_log     0.0019      0.006      0.321      0.748      -0.010       0.014\nL3.wiki_views_log    -0.0032      0.003     -1.133      0.257      -0.009       0.002\nL3.usd_eur_log        0.1723      0.089      1.929      0.054      -0.003       0.347\nL3.oil_wti_log        0.0003      0.019      0.014      0.989      -0.037       0.038\nL3.gold_log          -0.1119      0.059     -1.903      0.057      -0.227       0.003\nL3.sp500_log          0.1231      0.055      2.222      0.026       0.015       0.232\nL3.sse_log           -0.0273      0.034     -0.807      0.419      -0.093       0.039\nL3.ffd_rate_log      -0.0074      0.007     -1.057      0.291      -0.021       0.006\nL4.btc_log           -0.0011      0.010     -0.109      0.913      -0.021       0.019\nL4.tot_btc_log        0.7004      2.317      0.302      0.762      -3.841       5.242\nL4.hs_rate_log       -0.0143      0.024     -0.594      0.552      -0.062       0.033\nL4.eth_log            0.0092      0.006      1.595      0.111      -0.002       0.020\nL4.ggl_trends_log    -0.0145      0.006     -2.365      0.018      -0.026      -0.002\nL4.wiki_views_log    -0.0023      0.003     -0.843      0.399      -0.008       0.003\nL4.usd_eur_log        0.1508      0.089      1.688      0.091      -0.024       0.326\nL4.oil_wti_log        0.0087      0.019      0.454      0.650      -0.029       0.046\nL4.gold_log          -0.1020      0.059     -1.733      0.083      -0.217       0.013\nL4.sp500_log          0.1091      0.055      1.973      0.048       0.001       0.217\nL4.sse_log           -0.0211      0.033     -0.635      0.525      -0.086       0.044\nL4.ffd_rate_log       0.0109      0.007      1.602      0.109      -0.002       0.024\nL5.btc_log            0.0322      0.010      3.212      0.001       0.013       0.052\nL5.tot_btc_log        3.2721      2.255      1.451      0.147      -1.148       7.692\nL5.hs_rate_log        0.0163      0.023      0.695      0.487      -0.030       0.062\nL5.eth_log           -0.0155      0.005     -3.117      0.002      -0.025      -0.006\nL5.ggl_trends_log    -0.0006      0.006     -0.093      0.926      -0.013       0.012\nL5.wiki_views_log    -0.0062      0.003     -2.464      0.014      -0.011      -0.001\nL5.usd_eur_log       -0.0465      0.089     -0.520      0.603      -0.222       0.129\nL5.oil_wti_log        0.0139      0.019      0.720      0.472      -0.024       0.052\nL5.gold_log           0.0210      0.057      0.367      0.714      -0.091       0.133\nL5.sp500_log          0.0331      0.054      0.614      0.539      -0.073       0.139\nL5.sse_log           -0.0730      0.032     -2.312      0.021      -0.135      -0.011\nL5.ffd_rate_log      -0.0023      0.006     -0.374      0.709      -0.014       0.010\nDet. terms outside the coint. relation & lagged endog. parameters for equation ffd_rate_log\n=====================================================================================\n                        coef    std err          z      P>|z|      [0.025      0.975]\n-------------------------------------------------------------------------------------\nL1.btc_log            0.0164      0.056      0.295      0.768      -0.092       0.125\nL1.tot_btc_log        6.1816     12.873      0.480      0.631     -19.049      31.412\nL1.hs_rate_log       -0.0471      0.132     -0.357      0.721      -0.306       0.212\nL1.eth_log           -0.0450      0.033     -1.383      0.167      -0.109       0.019\nL1.ggl_trends_log     0.0732      0.033      2.188      0.029       0.008       0.139\nL1.wiki_views_log    -0.0649      0.017     -3.782      0.000      -0.099      -0.031\nL1.usd_eur_log       -0.1503      0.491     -0.306      0.759      -1.112       0.811\nL1.oil_wti_log       -0.0888      0.106     -0.837      0.403      -0.297       0.119\nL1.gold_log           0.3369      0.329      1.024      0.306      -0.308       0.982\nL1.sp500_log          0.0972      0.300      0.324      0.746      -0.491       0.685\nL1.sse_log            0.3378      0.189      1.787      0.074      -0.033       0.708\nL1.ffd_rate_log      -0.4558      0.035    -12.880      0.000      -0.525      -0.386\nL2.btc_log            0.0095      0.056      0.171      0.865      -0.099       0.118\nL2.tot_btc_log      -23.7883     12.971     -1.834      0.067     -49.211       1.634\nL2.hs_rate_log       -0.2104      0.135     -1.563      0.118      -0.474       0.053\nL2.eth_log            0.0118      0.032      0.367      0.714      -0.051       0.075\nL2.ggl_trends_log    -0.0062      0.033     -0.186      0.853      -0.072       0.059\nL2.wiki_views_log    -0.0628      0.017     -3.790      0.000      -0.095      -0.030\nL2.usd_eur_log       -0.4500      0.498     -0.904      0.366      -1.426       0.526\nL2.oil_wti_log       -0.2807      0.106     -2.654      0.008      -0.488      -0.073\nL2.gold_log           0.0705      0.328      0.215      0.830      -0.573       0.714\nL2.sp500_log         -0.1594      0.314     -0.508      0.611      -0.774       0.455\nL2.sse_log            0.2152      0.189      1.137      0.256      -0.156       0.586\nL2.ffd_rate_log      -0.2231      0.039     -5.751      0.000      -0.299      -0.147\nL3.btc_log           -0.0737      0.056     -1.314      0.189      -0.184       0.036\nL3.tot_btc_log       29.6932     12.887      2.304      0.021       4.434      54.952\nL3.hs_rate_log        0.1077      0.134      0.803      0.422      -0.155       0.371\nL3.eth_log            0.0739      0.032      2.295      0.022       0.011       0.137\nL3.ggl_trends_log     0.0534      0.034      1.590      0.112      -0.012       0.119\nL3.wiki_views_log    -0.0728      0.016     -4.580      0.000      -0.104      -0.042\nL3.usd_eur_log        0.1840      0.496      0.371      0.711      -0.788       1.156\nL3.oil_wti_log        0.1563      0.106      1.472      0.141      -0.052       0.364\nL3.gold_log          -0.0757      0.326     -0.232      0.817      -0.716       0.564\nL3.sp500_log         -0.2112      0.308     -0.687      0.492      -0.814       0.392\nL3.sse_log            0.0900      0.188      0.480      0.631      -0.278       0.458\nL3.ffd_rate_log      -0.1094      0.039     -2.829      0.005      -0.185      -0.034\nL4.btc_log            0.0223      0.057      0.393      0.694      -0.089       0.133\nL4.tot_btc_log       -9.9455     12.867     -0.773      0.440     -35.165      15.274\nL4.hs_rate_log        0.0072      0.134      0.053      0.957      -0.255       0.270\nL4.eth_log            0.0280      0.032      0.876      0.381      -0.035       0.091\nL4.ggl_trends_log     0.0881      0.034      2.591      0.010       0.021       0.155\nL4.wiki_views_log    -0.0736      0.015     -4.913      0.000      -0.103      -0.044\nL4.usd_eur_log        0.9266      0.496      1.867      0.062      -0.046       1.899\nL4.oil_wti_log        0.1709      0.106      1.606      0.108      -0.038       0.379\nL4.gold_log          -0.2861      0.327     -0.875      0.382      -0.927       0.355\nL4.sp500_log         -0.0633      0.307     -0.206      0.837      -0.665       0.538\nL4.sse_log           -0.1014      0.184     -0.550      0.582      -0.463       0.260\nL4.ffd_rate_log      -0.0176      0.038     -0.465      0.642      -0.092       0.056\nL5.btc_log            0.0487      0.056      0.876      0.381      -0.060       0.158\nL5.tot_btc_log       17.1703     12.524      1.371      0.170      -7.377      41.717\nL5.hs_rate_log       -0.1053      0.130     -0.809      0.418      -0.360       0.150\nL5.eth_log            0.0112      0.028      0.405      0.686      -0.043       0.065\nL5.ggl_trends_log     0.0554      0.034      1.612      0.107      -0.012       0.123\nL5.wiki_views_log    -0.0793      0.014     -5.700      0.000      -0.107      -0.052\nL5.usd_eur_log        0.0362      0.497      0.073      0.942      -0.937       1.009\nL5.oil_wti_log        0.0455      0.107      0.425      0.671      -0.164       0.255\nL5.gold_log          -0.3832      0.318     -1.204      0.229      -1.007       0.241\nL5.sp500_log         -0.5421      0.299     -1.811      0.070      -1.129       0.044\nL5.sse_log           -0.2312      0.175     -1.319      0.187      -0.575       0.112\nL5.ffd_rate_log      -0.0241      0.034     -0.706      0.480      -0.091       0.043\n              Loading coefficients (alpha) for equation btc_log               \n==============================================================================\n                 coef    std err          z      P>|z|      [0.025      0.975]\n------------------------------------------------------------------------------\nec1           -0.0329      0.010     -3.216      0.001      -0.053      -0.013\nec2            0.0034      0.036      0.094      0.925      -0.067       0.074\nec3            0.0097      0.013      0.768      0.443      -0.015       0.034\nec4            0.0061      0.003      1.795      0.073      -0.001       0.013\nec5            0.0336      0.011      3.032      0.002       0.012       0.055\nec6           -0.0098      0.009     -1.067      0.286      -0.028       0.008\n            Loading coefficients (alpha) for equation tot_btc_log             \n==============================================================================\n                 coef    std err          z      P>|z|      [0.025      0.975]\n------------------------------------------------------------------------------\nec1        -8.664e-06   4.04e-05     -0.215      0.830   -8.78e-05    7.04e-05\nec2            0.0008      0.000      5.431      0.000       0.000       0.001\nec3        -3.931e-05   4.95e-05     -0.793      0.428      -0.000    5.78e-05\nec4        -1.843e-05   1.33e-05     -1.382      0.167   -4.46e-05    7.71e-06\nec5         8.873e-05   4.37e-05      2.031      0.042    3.12e-06       0.000\nec6           -0.0001   3.61e-05     -2.802      0.005      -0.000   -3.04e-05\n            Loading coefficients (alpha) for equation hs_rate_log             \n==============================================================================\n                 coef    std err          z      P>|z|      [0.025      0.975]\n------------------------------------------------------------------------------\nec1            0.0071      0.004      1.790      0.073      -0.001       0.015\nec2            0.0400      0.014      2.854      0.004       0.013       0.067\nec3           -0.0066      0.005     -1.353      0.176      -0.016       0.003\nec4         5.831e-05      0.001      0.044      0.965      -0.003       0.003\nec5            0.0021      0.004      0.475      0.635      -0.006       0.011\nec6           -0.0052      0.004     -1.460      0.144      -0.012       0.002\n              Loading coefficients (alpha) for equation eth_log               \n==============================================================================\n                 coef    std err          z      P>|z|      [0.025      0.975]\n------------------------------------------------------------------------------\nec1            0.0223      0.017      1.303      0.193      -0.011       0.056\nec2            0.0175      0.060      0.291      0.771      -0.101       0.136\nec3           -0.0231      0.021     -1.098      0.272      -0.064       0.018\nec4           -0.0196      0.006     -3.455      0.001      -0.031      -0.008\nec5            0.0001      0.019      0.006      0.995      -0.036       0.037\nec6            0.0197      0.015      1.285      0.199      -0.010       0.050\n           Loading coefficients (alpha) for equation ggl_trends_log           \n==============================================================================\n                 coef    std err          z      P>|z|      [0.025      0.975]\n------------------------------------------------------------------------------\nec1            0.0684      0.015      4.424      0.000       0.038       0.099\nec2           -0.1412      0.054     -2.601      0.009      -0.248      -0.035\nec3           -0.0728      0.019     -3.834      0.000      -0.110      -0.036\nec4           -0.0155      0.005     -3.026      0.002      -0.025      -0.005\nec5           -0.0751      0.017     -4.487      0.000      -0.108      -0.042\nec6            0.0145      0.014      1.048      0.295      -0.013       0.042\n           Loading coefficients (alpha) for equation wiki_views_log           \n==============================================================================\n                 coef    std err          z      P>|z|      [0.025      0.975]\n------------------------------------------------------------------------------\nec1           -0.0126      0.036     -0.350      0.727      -0.084       0.058\nec2            0.4734      0.127      3.728      0.000       0.224       0.722\nec3           -0.1509      0.044     -3.399      0.001      -0.238      -0.064\nec4            0.0234      0.012      1.962      0.050       2e-05       0.047\nec5            0.1677      0.039      4.285      0.000       0.091       0.244\nec6           -0.1966      0.032     -6.072      0.000      -0.260      -0.133\n            Loading coefficients (alpha) for equation usd_eur_log             \n==============================================================================\n                 coef    std err          z      P>|z|      [0.025      0.975]\n------------------------------------------------------------------------------\nec1           -0.0001      0.001     -0.114      0.909      -0.002       0.002\nec2           -0.0029      0.004     -0.765      0.444      -0.010       0.005\nec3           -0.0017      0.001     -1.249      0.212      -0.004       0.001\nec4            0.0006      0.000      1.731      0.083   -8.15e-05       0.001\nec5            0.0012      0.001      1.011      0.312      -0.001       0.003\nec6           -0.0005      0.001     -0.568      0.570      -0.002       0.001\n            Loading coefficients (alpha) for equation oil_wti_log             \n==============================================================================\n                 coef    std err          z      P>|z|      [0.025      0.975]\n------------------------------------------------------------------------------\nec1           -0.0058      0.005     -1.174      0.240      -0.015       0.004\nec2           -0.0542      0.017     -3.121      0.002      -0.088      -0.020\nec3            0.0044      0.006      0.730      0.466      -0.007       0.016\nec4           -0.0012      0.002     -0.723      0.470      -0.004       0.002\nec5           -0.0072      0.005     -1.339      0.181      -0.018       0.003\nec6            0.0108      0.004      2.429      0.015       0.002       0.019\n              Loading coefficients (alpha) for equation gold_log              \n==============================================================================\n                 coef    std err          z      P>|z|      [0.025      0.975]\n------------------------------------------------------------------------------\nec1            0.0042      0.002      2.533      0.011       0.001       0.007\nec2            0.0130      0.006      2.246      0.025       0.002       0.024\nec3           -0.0066      0.002     -3.296      0.001      -0.011      -0.003\nec4           -0.0009      0.001     -1.659      0.097      -0.002       0.000\nec5            0.0028      0.002      1.571      0.116      -0.001       0.006\nec6           -0.0035      0.001     -2.366      0.018      -0.006      -0.001\n             Loading coefficients (alpha) for equation sp500_log              \n==============================================================================\n                 coef    std err          z      P>|z|      [0.025      0.975]\n------------------------------------------------------------------------------\nec1           -0.0003      0.002     -0.160      0.873      -0.004       0.003\nec2            0.0132      0.006      2.065      0.039       0.001       0.026\nec3            0.0090      0.002      4.013      0.000       0.005       0.013\nec4           -0.0002      0.001     -0.321      0.748      -0.001       0.001\nec5        -3.419e-05      0.002     -0.017      0.986      -0.004       0.004\nec6            0.0030      0.002      1.833      0.067      -0.000       0.006\n              Loading coefficients (alpha) for equation sse_log               \n==============================================================================\n                 coef    std err          z      P>|z|      [0.025      0.975]\n------------------------------------------------------------------------------\nec1           -0.0050      0.003     -1.835      0.067      -0.010       0.000\nec2           -0.0093      0.010     -0.978      0.328      -0.028       0.009\nec3            0.0031      0.003      0.940      0.347      -0.003       0.010\nec4           -0.0015      0.001     -1.657      0.097      -0.003       0.000\nec5            0.0040      0.003      1.353      0.176      -0.002       0.010\nec6            0.0036      0.002      1.490      0.136      -0.001       0.008\n            Loading coefficients (alpha) for equation ffd_rate_log            \n==============================================================================\n                 coef    std err          z      P>|z|      [0.025      0.975]\n------------------------------------------------------------------------------\nec1            0.0007      0.015      0.047      0.962      -0.029       0.030\nec2           -0.0817      0.053     -1.547      0.122      -0.185       0.022\nec3            0.0661      0.018      3.584      0.000       0.030       0.102\nec4            0.0056      0.005      1.133      0.257      -0.004       0.015\nec5           -0.0472      0.016     -2.899      0.004      -0.079      -0.015\nec6            0.0514      0.013      3.822      0.000       0.025       0.078\n          Cointegration relations for loading-coefficients-column 1           \n==============================================================================\n                 coef    std err          z      P>|z|      [0.025      0.975]\n------------------------------------------------------------------------------\nbeta.1         1.0000          0          0      0.000       1.000       1.000\nbeta.2      1.025e-15          0          0      0.000    1.02e-15    1.02e-15\nbeta.3     -5.501e-17          0          0      0.000    -5.5e-17    -5.5e-17\nbeta.4     -5.497e-17          0          0      0.000    -5.5e-17    -5.5e-17\nbeta.5      2.656e-16          0          0      0.000    2.66e-16    2.66e-16\nbeta.6     -1.565e-16          0          0      0.000   -1.56e-16   -1.56e-16\nbeta.7       -16.9673      2.258     -7.513      0.000     -21.394     -12.541\nbeta.8         2.6253      0.680      3.860      0.000       1.292       3.958\nbeta.9         7.1468      2.539      2.815      0.005       2.170      12.123\nbeta.10       -9.3777      5.384     -1.742      0.082     -19.929       1.174\nbeta.11        0.5118      1.839      0.278      0.781      -3.093       4.117\nbeta.12        0.6099      4.086      0.149      0.881      -7.398       8.618\n          Cointegration relations for loading-coefficients-column 2           \n==============================================================================\n                 coef    std err          z      P>|z|      [0.025      0.975]\n------------------------------------------------------------------------------\nbeta.1      1.048e-17          0          0      0.000    1.05e-17    1.05e-17\nbeta.2         1.0000          0          0      0.000       1.000       1.000\nbeta.3     -8.298e-17          0          0      0.000    -8.3e-17    -8.3e-17\nbeta.4      -5.24e-18          0          0      0.000   -5.24e-18   -5.24e-18\nbeta.5     -2.888e-17          0          0      0.000   -2.89e-17   -2.89e-17\nbeta.6     -3.932e-17          0          0      0.000   -3.93e-17   -3.93e-17\nbeta.7         2.0876      0.728      2.866      0.004       0.660       3.515\nbeta.8        -0.6773      0.219     -3.088      0.002      -1.107      -0.247\nbeta.9        -2.6656      0.819     -3.255      0.001      -4.271      -1.061\nbeta.10        0.3138      1.736      0.181      0.857      -3.089       3.717\nbeta.11        0.3700      0.593      0.624      0.533      -0.793       1.533\nbeta.12       -0.1711      1.318     -0.130      0.897      -2.754       2.412\n          Cointegration relations for loading-coefficients-column 3           \n==============================================================================\n                 coef    std err          z      P>|z|      [0.025      0.975]\n------------------------------------------------------------------------------\nbeta.1     -1.196e-16          0          0      0.000    -1.2e-16    -1.2e-16\nbeta.2      4.468e-16          0          0      0.000    4.47e-16    4.47e-16\nbeta.3         1.0000          0          0      0.000       1.000       1.000\nbeta.4      1.831e-17          0          0      0.000    1.83e-17    1.83e-17\nbeta.5      3.869e-16          0          0      0.000    3.87e-16    3.87e-16\nbeta.6     -1.311e-16          0          0      0.000   -1.31e-16   -1.31e-16\nbeta.7        -6.1208      1.186     -5.161      0.000      -8.445      -3.797\nbeta.8         3.2268      0.357      9.036      0.000       2.527       3.927\nbeta.9         7.3802      1.333      5.535      0.000       4.767       9.993\nbeta.10      -11.8645      2.827     -4.197      0.000     -17.405      -6.324\nbeta.11        1.3059      0.966      1.352      0.176      -0.587       3.199\nbeta.12       -0.1178      2.145     -0.055      0.956      -4.323       4.087\n          Cointegration relations for loading-coefficients-column 4           \n==============================================================================\n                 coef    std err          z      P>|z|      [0.025      0.975]\n------------------------------------------------------------------------------\nbeta.1      1.626e-16          0          0      0.000    1.63e-16    1.63e-16\nbeta.2      3.235e-16          0          0      0.000    3.23e-16    3.23e-16\nbeta.3     -4.088e-16          0          0      0.000   -4.09e-16   -4.09e-16\nbeta.4         1.0000          0          0      0.000       1.000       1.000\nbeta.5     -7.355e-16          0          0      0.000   -7.35e-16   -7.35e-16\nbeta.6      2.978e-16          0          0      0.000    2.98e-16    2.98e-16\nbeta.7       -16.6324      1.660    -10.021      0.000     -19.885     -13.379\nbeta.8        -4.9791      0.500     -9.962      0.000      -5.959      -3.999\nbeta.9       -15.1537      1.866     -8.121      0.000     -18.811     -11.496\nbeta.10        9.7877      3.956      2.474      0.013       2.033      17.542\nbeta.11        6.2965      1.352      4.658      0.000       3.647       8.946\nbeta.12       -1.9952      3.003     -0.664      0.506      -7.880       3.890\n          Cointegration relations for loading-coefficients-column 5           \n==============================================================================\n                 coef    std err          z      P>|z|      [0.025      0.975]\n------------------------------------------------------------------------------\nbeta.1      7.043e-17          0          0      0.000    7.04e-17    7.04e-17\nbeta.2     -5.062e-16          0          0      0.000   -5.06e-16   -5.06e-16\nbeta.3     -1.314e-17          0          0      0.000   -1.31e-17   -1.31e-17\nbeta.4     -2.056e-17          0          0      0.000   -2.06e-17   -2.06e-17\nbeta.5         1.0000          0          0      0.000       1.000       1.000\nbeta.6      9.618e-17          0          0      0.000    9.62e-17    9.62e-17\nbeta.7       -15.8089      1.112    -14.217      0.000     -17.988     -13.629\nbeta.8         1.4465      0.335      4.320      0.000       0.790       2.103\nbeta.9         6.0593      1.250      4.847      0.000       3.609       8.510\nbeta.10       -4.3737      2.651     -1.650      0.099      -9.569       0.821\nbeta.11       -2.0350      0.906     -2.247      0.025      -3.810      -0.260\nbeta.12        0.3553      2.012      0.177      0.860      -3.588       4.298\n          Cointegration relations for loading-coefficients-column 6           \n==============================================================================\n                 coef    std err          z      P>|z|      [0.025      0.975]\n------------------------------------------------------------------------------\nbeta.1     -1.976e-16          0          0      0.000   -1.98e-16   -1.98e-16\nbeta.2     -3.905e-17          0          0      0.000    -3.9e-17    -3.9e-17\nbeta.3     -2.651e-16          0          0      0.000   -2.65e-16   -2.65e-16\nbeta.4      7.115e-18          0          0      0.000    7.11e-18    7.11e-18\nbeta.5     -8.236e-17          0          0      0.000   -8.24e-17   -8.24e-17\nbeta.6         1.0000          0          0      0.000       1.000       1.000\nbeta.7        -6.5017      0.247    -26.344      0.000      -6.985      -6.018\nbeta.8        -4.4640      0.074    -60.063      0.000      -4.610      -4.318\nbeta.9        -6.5344      0.277    -23.548      0.000      -7.078      -5.991\nbeta.10        8.2765      0.588     14.068      0.000       7.123       9.430\nbeta.11       -1.0497      0.201     -5.222      0.000      -1.444      -0.656\nbeta.12       -0.8477      0.447     -1.899      0.058      -1.723       0.027\n==============================================================================\n\"\"\"",
      "text/html": "<table class=\"simpletable\">\n<caption>Det. terms outside the coint. relation & lagged endog. parameters for equation btc_log</caption>\n<tr>\n          <td></td>             <th>coef</th>     <th>std err</th>      <th>z</th>      <th>P>|z|</th>  <th>[0.025</th>    <th>0.975]</th>  \n</tr>\n<tr>\n  <th>L1.btc_log</th>        <td>    0.0268</td> <td>    0.038</td> <td>    0.709</td> <td> 0.479</td> <td>   -0.047</td> <td>    0.101</td>\n</tr>\n<tr>\n  <th>L1.tot_btc_log</th>    <td>  -10.2102</td> <td>    8.775</td> <td>   -1.164</td> <td> 0.245</td> <td>  -27.408</td> <td>    6.988</td>\n</tr>\n<tr>\n  <th>L1.hs_rate_log</th>    <td>    0.1541</td> <td>    0.090</td> <td>    1.710</td> <td> 0.087</td> <td>   -0.023</td> <td>    0.331</td>\n</tr>\n<tr>\n  <th>L1.eth_log</th>        <td>   -0.0157</td> <td>    0.022</td> <td>   -0.707</td> <td> 0.479</td> <td>   -0.059</td> <td>    0.028</td>\n</tr>\n<tr>\n  <th>L1.ggl_trends_log</th> <td>    0.0120</td> <td>    0.023</td> <td>    0.526</td> <td> 0.599</td> <td>   -0.033</td> <td>    0.057</td>\n</tr>\n<tr>\n  <th>L1.wiki_views_log</th> <td>   -0.0038</td> <td>    0.012</td> <td>   -0.324</td> <td> 0.746</td> <td>   -0.027</td> <td>    0.019</td>\n</tr>\n<tr>\n  <th>L1.usd_eur_log</th>    <td>   -0.3180</td> <td>    0.334</td> <td>   -0.951</td> <td> 0.342</td> <td>   -0.974</td> <td>    0.338</td>\n</tr>\n<tr>\n  <th>L1.oil_wti_log</th>    <td>   -0.0607</td> <td>    0.072</td> <td>   -0.840</td> <td> 0.401</td> <td>   -0.202</td> <td>    0.081</td>\n</tr>\n<tr>\n  <th>L1.gold_log</th>       <td>   -0.0473</td> <td>    0.224</td> <td>   -0.211</td> <td> 0.833</td> <td>   -0.487</td> <td>    0.392</td>\n</tr>\n<tr>\n  <th>L1.sp500_log</th>      <td>    0.3667</td> <td>    0.204</td> <td>    1.793</td> <td> 0.073</td> <td>   -0.034</td> <td>    0.767</td>\n</tr>\n<tr>\n  <th>L1.sse_log</th>        <td>   -0.1371</td> <td>    0.129</td> <td>   -1.064</td> <td> 0.287</td> <td>   -0.390</td> <td>    0.115</td>\n</tr>\n<tr>\n  <th>L1.ffd_rate_log</th>   <td>    0.0011</td> <td>    0.024</td> <td>    0.047</td> <td> 0.962</td> <td>   -0.046</td> <td>    0.048</td>\n</tr>\n<tr>\n  <th>L2.btc_log</th>        <td>    0.0073</td> <td>    0.038</td> <td>    0.193</td> <td> 0.847</td> <td>   -0.067</td> <td>    0.081</td>\n</tr>\n<tr>\n  <th>L2.tot_btc_log</th>    <td>    0.9263</td> <td>    8.841</td> <td>    0.105</td> <td> 0.917</td> <td>  -16.403</td> <td>   18.255</td>\n</tr>\n<tr>\n  <th>L2.hs_rate_log</th>    <td>   -0.0291</td> <td>    0.092</td> <td>   -0.317</td> <td> 0.751</td> <td>   -0.209</td> <td>    0.151</td>\n</tr>\n<tr>\n  <th>L2.eth_log</th>        <td>    0.0284</td> <td>    0.022</td> <td>    1.296</td> <td> 0.195</td> <td>   -0.015</td> <td>    0.071</td>\n</tr>\n<tr>\n  <th>L2.ggl_trends_log</th> <td>    0.0372</td> <td>    0.023</td> <td>    1.629</td> <td> 0.103</td> <td>   -0.008</td> <td>    0.082</td>\n</tr>\n<tr>\n  <th>L2.wiki_views_log</th> <td>    0.0002</td> <td>    0.011</td> <td>    0.018</td> <td> 0.986</td> <td>   -0.022</td> <td>    0.022</td>\n</tr>\n<tr>\n  <th>L2.usd_eur_log</th>    <td>    0.4258</td> <td>    0.339</td> <td>    1.254</td> <td> 0.210</td> <td>   -0.240</td> <td>    1.091</td>\n</tr>\n<tr>\n  <th>L2.oil_wti_log</th>    <td>   -0.0306</td> <td>    0.072</td> <td>   -0.425</td> <td> 0.671</td> <td>   -0.172</td> <td>    0.111</td>\n</tr>\n<tr>\n  <th>L2.gold_log</th>       <td>   -0.1910</td> <td>    0.224</td> <td>   -0.854</td> <td> 0.393</td> <td>   -0.629</td> <td>    0.247</td>\n</tr>\n<tr>\n  <th>L2.sp500_log</th>      <td>    0.2083</td> <td>    0.214</td> <td>    0.974</td> <td> 0.330</td> <td>   -0.211</td> <td>    0.627</td>\n</tr>\n<tr>\n  <th>L2.sse_log</th>        <td>   -0.0207</td> <td>    0.129</td> <td>   -0.160</td> <td> 0.873</td> <td>   -0.274</td> <td>    0.232</td>\n</tr>\n<tr>\n  <th>L2.ffd_rate_log</th>   <td>    0.0031</td> <td>    0.026</td> <td>    0.118</td> <td> 0.906</td> <td>   -0.049</td> <td>    0.055</td>\n</tr>\n<tr>\n  <th>L3.btc_log</th>        <td>    0.0557</td> <td>    0.038</td> <td>    1.458</td> <td> 0.145</td> <td>   -0.019</td> <td>    0.131</td>\n</tr>\n<tr>\n  <th>L3.tot_btc_log</th>    <td>   11.8291</td> <td>    8.784</td> <td>    1.347</td> <td> 0.178</td> <td>   -5.388</td> <td>   29.046</td>\n</tr>\n<tr>\n  <th>L3.hs_rate_log</th>    <td>   -0.1265</td> <td>    0.091</td> <td>   -1.383</td> <td> 0.167</td> <td>   -0.306</td> <td>    0.053</td>\n</tr>\n<tr>\n  <th>L3.eth_log</th>        <td>   -0.0230</td> <td>    0.022</td> <td>   -1.046</td> <td> 0.295</td> <td>   -0.066</td> <td>    0.020</td>\n</tr>\n<tr>\n  <th>L3.ggl_trends_log</th> <td>    0.0201</td> <td>    0.023</td> <td>    0.876</td> <td> 0.381</td> <td>   -0.025</td> <td>    0.065</td>\n</tr>\n<tr>\n  <th>L3.wiki_views_log</th> <td>   -0.0093</td> <td>    0.011</td> <td>   -0.862</td> <td> 0.389</td> <td>   -0.031</td> <td>    0.012</td>\n</tr>\n<tr>\n  <th>L3.usd_eur_log</th>    <td>   -0.2964</td> <td>    0.338</td> <td>   -0.877</td> <td> 0.381</td> <td>   -0.959</td> <td>    0.366</td>\n</tr>\n<tr>\n  <th>L3.oil_wti_log</th>    <td>    0.0871</td> <td>    0.072</td> <td>    1.204</td> <td> 0.229</td> <td>   -0.055</td> <td>    0.229</td>\n</tr>\n<tr>\n  <th>L3.gold_log</th>       <td>    0.3005</td> <td>    0.223</td> <td>    1.350</td> <td> 0.177</td> <td>   -0.136</td> <td>    0.737</td>\n</tr>\n<tr>\n  <th>L3.sp500_log</th>      <td>   -0.0976</td> <td>    0.210</td> <td>   -0.465</td> <td> 0.642</td> <td>   -0.509</td> <td>    0.313</td>\n</tr>\n<tr>\n  <th>L3.sse_log</th>        <td>   -0.0763</td> <td>    0.128</td> <td>   -0.597</td> <td> 0.551</td> <td>   -0.327</td> <td>    0.174</td>\n</tr>\n<tr>\n  <th>L3.ffd_rate_log</th>   <td>    0.0114</td> <td>    0.026</td> <td>    0.433</td> <td> 0.665</td> <td>   -0.040</td> <td>    0.063</td>\n</tr>\n<tr>\n  <th>L4.btc_log</th>        <td>    0.0435</td> <td>    0.039</td> <td>    1.127</td> <td> 0.260</td> <td>   -0.032</td> <td>    0.119</td>\n</tr>\n<tr>\n  <th>L4.tot_btc_log</th>    <td>   -3.4378</td> <td>    8.771</td> <td>   -0.392</td> <td> 0.695</td> <td>  -20.628</td> <td>   13.752</td>\n</tr>\n<tr>\n  <th>L4.hs_rate_log</th>    <td>    0.1621</td> <td>    0.091</td> <td>    1.777</td> <td> 0.076</td> <td>   -0.017</td> <td>    0.341</td>\n</tr>\n<tr>\n  <th>L4.eth_log</th>        <td>    0.0015</td> <td>    0.022</td> <td>    0.070</td> <td> 0.944</td> <td>   -0.041</td> <td>    0.044</td>\n</tr>\n<tr>\n  <th>L4.ggl_trends_log</th> <td>    0.0282</td> <td>    0.023</td> <td>    1.216</td> <td> 0.224</td> <td>   -0.017</td> <td>    0.074</td>\n</tr>\n<tr>\n  <th>L4.wiki_views_log</th> <td>    0.0172</td> <td>    0.010</td> <td>    1.682</td> <td> 0.093</td> <td>   -0.003</td> <td>    0.037</td>\n</tr>\n<tr>\n  <th>L4.usd_eur_log</th>    <td>   -0.1944</td> <td>    0.338</td> <td>   -0.575</td> <td> 0.565</td> <td>   -0.857</td> <td>    0.469</td>\n</tr>\n<tr>\n  <th>L4.oil_wti_log</th>    <td>    0.0661</td> <td>    0.073</td> <td>    0.911</td> <td> 0.362</td> <td>   -0.076</td> <td>    0.208</td>\n</tr>\n<tr>\n  <th>L4.gold_log</th>       <td>   -0.2465</td> <td>    0.223</td> <td>   -1.106</td> <td> 0.269</td> <td>   -0.683</td> <td>    0.190</td>\n</tr>\n<tr>\n  <th>L4.sp500_log</th>      <td>    0.0203</td> <td>    0.209</td> <td>    0.097</td> <td> 0.923</td> <td>   -0.390</td> <td>    0.430</td>\n</tr>\n<tr>\n  <th>L4.sse_log</th>        <td>    0.0938</td> <td>    0.126</td> <td>    0.747</td> <td> 0.455</td> <td>   -0.152</td> <td>    0.340</td>\n</tr>\n<tr>\n  <th>L4.ffd_rate_log</th>   <td>    0.0020</td> <td>    0.026</td> <td>    0.077</td> <td> 0.938</td> <td>   -0.048</td> <td>    0.052</td>\n</tr>\n<tr>\n  <th>L5.btc_log</th>        <td>    0.0053</td> <td>    0.038</td> <td>    0.141</td> <td> 0.888</td> <td>   -0.069</td> <td>    0.080</td>\n</tr>\n<tr>\n  <th>L5.tot_btc_log</th>    <td>   10.2171</td> <td>    8.537</td> <td>    1.197</td> <td> 0.231</td> <td>   -6.515</td> <td>   26.949</td>\n</tr>\n<tr>\n  <th>L5.hs_rate_log</th>    <td>   -0.0309</td> <td>    0.089</td> <td>   -0.349</td> <td> 0.727</td> <td>   -0.205</td> <td>    0.143</td>\n</tr>\n<tr>\n  <th>L5.eth_log</th>        <td>   -0.0288</td> <td>    0.019</td> <td>   -1.532</td> <td> 0.126</td> <td>   -0.066</td> <td>    0.008</td>\n</tr>\n<tr>\n  <th>L5.ggl_trends_log</th> <td>   -0.0336</td> <td>    0.023</td> <td>   -1.434</td> <td> 0.152</td> <td>   -0.079</td> <td>    0.012</td>\n</tr>\n<tr>\n  <th>L5.wiki_views_log</th> <td>    0.0054</td> <td>    0.009</td> <td>    0.573</td> <td> 0.566</td> <td>   -0.013</td> <td>    0.024</td>\n</tr>\n<tr>\n  <th>L5.usd_eur_log</th>    <td>    0.0847</td> <td>    0.338</td> <td>    0.250</td> <td> 0.802</td> <td>   -0.579</td> <td>    0.748</td>\n</tr>\n<tr>\n  <th>L5.oil_wti_log</th>    <td>   -0.0481</td> <td>    0.073</td> <td>   -0.659</td> <td> 0.510</td> <td>   -0.191</td> <td>    0.095</td>\n</tr>\n<tr>\n  <th>L5.gold_log</th>       <td>   -0.2958</td> <td>    0.217</td> <td>   -1.363</td> <td> 0.173</td> <td>   -0.721</td> <td>    0.129</td>\n</tr>\n<tr>\n  <th>L5.sp500_log</th>      <td>    0.1112</td> <td>    0.204</td> <td>    0.545</td> <td> 0.586</td> <td>   -0.289</td> <td>    0.511</td>\n</tr>\n<tr>\n  <th>L5.sse_log</th>        <td>   -0.1223</td> <td>    0.119</td> <td>   -1.024</td> <td> 0.306</td> <td>   -0.356</td> <td>    0.112</td>\n</tr>\n<tr>\n  <th>L5.ffd_rate_log</th>   <td>    0.0030</td> <td>    0.023</td> <td>    0.129</td> <td> 0.897</td> <td>   -0.043</td> <td>    0.049</td>\n</tr>\n</table>\n<table class=\"simpletable\">\n<caption>Det. terms outside the coint. relation & lagged endog. parameters for equation tot_btc_log</caption>\n<tr>\n          <td></td>             <th>coef</th>     <th>std err</th>      <th>z</th>      <th>P>|z|</th>  <th>[0.025</th>    <th>0.975]</th>  \n</tr>\n<tr>\n  <th>L1.btc_log</th>        <td>    0.0002</td> <td>    0.000</td> <td>    1.097</td> <td> 0.273</td> <td>   -0.000</td> <td>    0.000</td>\n</tr>\n<tr>\n  <th>L1.tot_btc_log</th>    <td>   -0.1950</td> <td>    0.035</td> <td>   -5.642</td> <td> 0.000</td> <td>   -0.263</td> <td>   -0.127</td>\n</tr>\n<tr>\n  <th>L1.hs_rate_log</th>    <td>    0.0004</td> <td>    0.000</td> <td>    1.224</td> <td> 0.221</td> <td>   -0.000</td> <td>    0.001</td>\n</tr>\n<tr>\n  <th>L1.eth_log</th>        <td>-6.948e-05</td> <td> 8.74e-05</td> <td>   -0.795</td> <td> 0.427</td> <td>   -0.000</td> <td>    0.000</td>\n</tr>\n<tr>\n  <th>L1.ggl_trends_log</th> <td>   -0.0002</td> <td> 8.98e-05</td> <td>   -1.828</td> <td> 0.068</td> <td>   -0.000</td> <td> 1.18e-05</td>\n</tr>\n<tr>\n  <th>L1.wiki_views_log</th> <td>-6.753e-05</td> <td> 4.61e-05</td> <td>   -1.464</td> <td> 0.143</td> <td>   -0.000</td> <td> 2.29e-05</td>\n</tr>\n<tr>\n  <th>L1.usd_eur_log</th>    <td>   -0.0012</td> <td>    0.001</td> <td>   -0.927</td> <td> 0.354</td> <td>   -0.004</td> <td>    0.001</td>\n</tr>\n<tr>\n  <th>L1.oil_wti_log</th>    <td>    0.0001</td> <td>    0.000</td> <td>    0.524</td> <td> 0.600</td> <td>   -0.000</td> <td>    0.001</td>\n</tr>\n<tr>\n  <th>L1.gold_log</th>       <td>    0.0008</td> <td>    0.001</td> <td>    0.910</td> <td> 0.363</td> <td>   -0.001</td> <td>    0.003</td>\n</tr>\n<tr>\n  <th>L1.sp500_log</th>      <td>    0.0005</td> <td>    0.001</td> <td>    0.617</td> <td> 0.537</td> <td>   -0.001</td> <td>    0.002</td>\n</tr>\n<tr>\n  <th>L1.sse_log</th>        <td>    0.0010</td> <td>    0.001</td> <td>    1.990</td> <td> 0.047</td> <td>  1.5e-05</td> <td>    0.002</td>\n</tr>\n<tr>\n  <th>L1.ffd_rate_log</th>   <td>   -0.0005</td> <td>  9.5e-05</td> <td>   -5.024</td> <td> 0.000</td> <td>   -0.001</td> <td>   -0.000</td>\n</tr>\n<tr>\n  <th>L2.btc_log</th>        <td> 2.931e-05</td> <td>    0.000</td> <td>    0.197</td> <td> 0.844</td> <td>   -0.000</td> <td>    0.000</td>\n</tr>\n<tr>\n  <th>L2.tot_btc_log</th>    <td>   -0.1103</td> <td>    0.035</td> <td>   -3.167</td> <td> 0.002</td> <td>   -0.179</td> <td>   -0.042</td>\n</tr>\n<tr>\n  <th>L2.hs_rate_log</th>    <td>    0.0004</td> <td>    0.000</td> <td>    1.165</td> <td> 0.244</td> <td>   -0.000</td> <td>    0.001</td>\n</tr>\n<tr>\n  <th>L2.eth_log</th>        <td>    0.0001</td> <td> 8.63e-05</td> <td>    1.160</td> <td> 0.246</td> <td> -6.9e-05</td> <td>    0.000</td>\n</tr>\n<tr>\n  <th>L2.ggl_trends_log</th> <td>   -0.0001</td> <td> 8.99e-05</td> <td>   -1.648</td> <td> 0.099</td> <td>   -0.000</td> <td>  2.8e-05</td>\n</tr>\n<tr>\n  <th>L2.wiki_views_log</th> <td>-8.319e-05</td> <td> 4.45e-05</td> <td>   -1.869</td> <td> 0.062</td> <td>   -0.000</td> <td> 4.05e-06</td>\n</tr>\n<tr>\n  <th>L2.usd_eur_log</th>    <td>    0.0026</td> <td>    0.001</td> <td>    1.975</td> <td> 0.048</td> <td> 2.01e-05</td> <td>    0.005</td>\n</tr>\n<tr>\n  <th>L2.oil_wti_log</th>    <td>-1.496e-05</td> <td>    0.000</td> <td>   -0.053</td> <td> 0.958</td> <td>   -0.001</td> <td>    0.001</td>\n</tr>\n<tr>\n  <th>L2.gold_log</th>       <td>    0.0002</td> <td>    0.001</td> <td>    0.206</td> <td> 0.837</td> <td>   -0.002</td> <td>    0.002</td>\n</tr>\n<tr>\n  <th>L2.sp500_log</th>      <td>   -0.0011</td> <td>    0.001</td> <td>   -1.305</td> <td> 0.192</td> <td>   -0.003</td> <td>    0.001</td>\n</tr>\n<tr>\n  <th>L2.sse_log</th>        <td>-2.089e-05</td> <td>    0.001</td> <td>   -0.041</td> <td> 0.967</td> <td>   -0.001</td> <td>    0.001</td>\n</tr>\n<tr>\n  <th>L2.ffd_rate_log</th>   <td>   -0.0002</td> <td>    0.000</td> <td>   -2.321</td> <td> 0.020</td> <td>   -0.000</td> <td>-3.76e-05</td>\n</tr>\n<tr>\n  <th>L3.btc_log</th>        <td>    0.0001</td> <td>    0.000</td> <td>    0.676</td> <td> 0.499</td> <td>   -0.000</td> <td>    0.000</td>\n</tr>\n<tr>\n  <th>L3.tot_btc_log</th>    <td>   -0.0958</td> <td>    0.035</td> <td>   -2.769</td> <td> 0.006</td> <td>   -0.164</td> <td>   -0.028</td>\n</tr>\n<tr>\n  <th>L3.hs_rate_log</th>    <td>    0.0004</td> <td>    0.000</td> <td>    1.093</td> <td> 0.274</td> <td>   -0.000</td> <td>    0.001</td>\n</tr>\n<tr>\n  <th>L3.eth_log</th>        <td>-1.301e-06</td> <td> 8.65e-05</td> <td>   -0.015</td> <td> 0.988</td> <td>   -0.000</td> <td>    0.000</td>\n</tr>\n<tr>\n  <th>L3.ggl_trends_log</th> <td> 3.503e-05</td> <td> 9.02e-05</td> <td>    0.388</td> <td> 0.698</td> <td>   -0.000</td> <td>    0.000</td>\n</tr>\n<tr>\n  <th>L3.wiki_views_log</th> <td>-6.592e-05</td> <td> 4.27e-05</td> <td>   -1.545</td> <td> 0.122</td> <td>   -0.000</td> <td> 1.77e-05</td>\n</tr>\n<tr>\n  <th>L3.usd_eur_log</th>    <td>    0.0009</td> <td>    0.001</td> <td>    0.692</td> <td> 0.489</td> <td>   -0.002</td> <td>    0.004</td>\n</tr>\n<tr>\n  <th>L3.oil_wti_log</th>    <td>    0.0008</td> <td>    0.000</td> <td>    2.746</td> <td> 0.006</td> <td>    0.000</td> <td>    0.001</td>\n</tr>\n<tr>\n  <th>L3.gold_log</th>       <td>    0.0006</td> <td>    0.001</td> <td>    0.689</td> <td> 0.491</td> <td>   -0.001</td> <td>    0.002</td>\n</tr>\n<tr>\n  <th>L3.sp500_log</th>      <td>    0.0002</td> <td>    0.001</td> <td>    0.200</td> <td> 0.842</td> <td>   -0.001</td> <td>    0.002</td>\n</tr>\n<tr>\n  <th>L3.sse_log</th>        <td>    0.0007</td> <td>    0.001</td> <td>    1.404</td> <td> 0.160</td> <td>   -0.000</td> <td>    0.002</td>\n</tr>\n<tr>\n  <th>L3.ffd_rate_log</th>   <td>   -0.0002</td> <td>    0.000</td> <td>   -2.343</td> <td> 0.019</td> <td>   -0.000</td> <td>-3.98e-05</td>\n</tr>\n<tr>\n  <th>L4.btc_log</th>        <td>-9.987e-05</td> <td>    0.000</td> <td>   -0.657</td> <td> 0.511</td> <td>   -0.000</td> <td>    0.000</td>\n</tr>\n<tr>\n  <th>L4.tot_btc_log</th>    <td>    0.0612</td> <td>    0.035</td> <td>    1.771</td> <td> 0.077</td> <td>   -0.007</td> <td>    0.129</td>\n</tr>\n<tr>\n  <th>L4.hs_rate_log</th>    <td>  8.48e-05</td> <td>    0.000</td> <td>    0.236</td> <td> 0.814</td> <td>   -0.001</td> <td>    0.001</td>\n</tr>\n<tr>\n  <th>L4.eth_log</th>        <td>    0.0002</td> <td> 8.59e-05</td> <td>    2.036</td> <td> 0.042</td> <td>  6.5e-06</td> <td>    0.000</td>\n</tr>\n<tr>\n  <th>L4.ggl_trends_log</th> <td>-5.513e-05</td> <td> 9.13e-05</td> <td>   -0.603</td> <td> 0.546</td> <td>   -0.000</td> <td>    0.000</td>\n</tr>\n<tr>\n  <th>L4.wiki_views_log</th> <td>  1.82e-05</td> <td> 4.02e-05</td> <td>    0.452</td> <td> 0.651</td> <td>-6.07e-05</td> <td> 9.71e-05</td>\n</tr>\n<tr>\n  <th>L4.usd_eur_log</th>    <td>   -0.0019</td> <td>    0.001</td> <td>   -1.401</td> <td> 0.161</td> <td>   -0.004</td> <td>    0.001</td>\n</tr>\n<tr>\n  <th>L4.oil_wti_log</th>    <td> -7.76e-05</td> <td>    0.000</td> <td>   -0.272</td> <td> 0.786</td> <td>   -0.001</td> <td>    0.000</td>\n</tr>\n<tr>\n  <th>L4.gold_log</th>       <td>    0.0004</td> <td>    0.001</td> <td>    0.436</td> <td> 0.663</td> <td>   -0.001</td> <td>    0.002</td>\n</tr>\n<tr>\n  <th>L4.sp500_log</th>      <td>    0.0006</td> <td>    0.001</td> <td>    0.717</td> <td> 0.473</td> <td>   -0.001</td> <td>    0.002</td>\n</tr>\n<tr>\n  <th>L4.sse_log</th>        <td>    0.0011</td> <td>    0.000</td> <td>    2.281</td> <td> 0.023</td> <td>    0.000</td> <td>    0.002</td>\n</tr>\n<tr>\n  <th>L4.ffd_rate_log</th>   <td>   -0.0002</td> <td>    0.000</td> <td>   -1.871</td> <td> 0.061</td> <td>   -0.000</td> <td> 8.97e-06</td>\n</tr>\n<tr>\n  <th>L5.btc_log</th>        <td>    0.0001</td> <td>    0.000</td> <td>    0.776</td> <td> 0.438</td> <td>   -0.000</td> <td>    0.000</td>\n</tr>\n<tr>\n  <th>L5.tot_btc_log</th>    <td>    0.2595</td> <td>    0.034</td> <td>    7.714</td> <td> 0.000</td> <td>    0.194</td> <td>    0.325</td>\n</tr>\n<tr>\n  <th>L5.hs_rate_log</th>    <td> 5.158e-05</td> <td>    0.000</td> <td>    0.148</td> <td> 0.883</td> <td>   -0.001</td> <td>    0.001</td>\n</tr>\n<tr>\n  <th>L5.eth_log</th>        <td>   -0.0001</td> <td> 7.42e-05</td> <td>   -1.898</td> <td> 0.058</td> <td>   -0.000</td> <td> 4.62e-06</td>\n</tr>\n<tr>\n  <th>L5.ggl_trends_log</th> <td>    0.0003</td> <td> 9.23e-05</td> <td>    2.886</td> <td> 0.004</td> <td> 8.54e-05</td> <td>    0.000</td>\n</tr>\n<tr>\n  <th>L5.wiki_views_log</th> <td>   -0.0001</td> <td> 3.73e-05</td> <td>   -3.162</td> <td> 0.002</td> <td>   -0.000</td> <td>-4.49e-05</td>\n</tr>\n<tr>\n  <th>L5.usd_eur_log</th>    <td>    0.0023</td> <td>    0.001</td> <td>    1.728</td> <td> 0.084</td> <td>   -0.000</td> <td>    0.005</td>\n</tr>\n<tr>\n  <th>L5.oil_wti_log</th>    <td>   -0.0004</td> <td>    0.000</td> <td>   -1.443</td> <td> 0.149</td> <td>   -0.001</td> <td>    0.000</td>\n</tr>\n<tr>\n  <th>L5.gold_log</th>       <td>   -0.0008</td> <td>    0.001</td> <td>   -0.941</td> <td> 0.347</td> <td>   -0.002</td> <td>    0.001</td>\n</tr>\n<tr>\n  <th>L5.sp500_log</th>      <td>   -0.0008</td> <td>    0.001</td> <td>   -1.013</td> <td> 0.311</td> <td>   -0.002</td> <td>    0.001</td>\n</tr>\n<tr>\n  <th>L5.sse_log</th>        <td>   -0.0002</td> <td>    0.000</td> <td>   -0.368</td> <td> 0.713</td> <td>   -0.001</td> <td>    0.001</td>\n</tr>\n<tr>\n  <th>L5.ffd_rate_log</th>   <td> 5.377e-06</td> <td> 9.16e-05</td> <td>    0.059</td> <td> 0.953</td> <td>   -0.000</td> <td>    0.000</td>\n</tr>\n</table>\n<table class=\"simpletable\">\n<caption>Det. terms outside the coint. relation & lagged endog. parameters for equation hs_rate_log</caption>\n<tr>\n          <td></td>             <th>coef</th>     <th>std err</th>      <th>z</th>      <th>P>|z|</th>  <th>[0.025</th>    <th>0.975]</th>  \n</tr>\n<tr>\n  <th>L1.btc_log</th>        <td>    0.0215</td> <td>    0.015</td> <td>    1.459</td> <td> 0.145</td> <td>   -0.007</td> <td>    0.050</td>\n</tr>\n<tr>\n  <th>L1.tot_btc_log</th>    <td>  -15.3380</td> <td>    3.419</td> <td>   -4.486</td> <td> 0.000</td> <td>  -22.039</td> <td>   -8.637</td>\n</tr>\n<tr>\n  <th>L1.hs_rate_log</th>    <td>    0.2908</td> <td>    0.035</td> <td>    8.283</td> <td> 0.000</td> <td>    0.222</td> <td>    0.360</td>\n</tr>\n<tr>\n  <th>L1.eth_log</th>        <td>   -0.0171</td> <td>    0.009</td> <td>   -1.979</td> <td> 0.048</td> <td>   -0.034</td> <td>   -0.000</td>\n</tr>\n<tr>\n  <th>L1.ggl_trends_log</th> <td>   -0.0098</td> <td>    0.009</td> <td>   -1.102</td> <td> 0.271</td> <td>   -0.027</td> <td>    0.008</td>\n</tr>\n<tr>\n  <th>L1.wiki_views_log</th> <td>   -0.0011</td> <td>    0.005</td> <td>   -0.239</td> <td> 0.811</td> <td>   -0.010</td> <td>    0.008</td>\n</tr>\n<tr>\n  <th>L1.usd_eur_log</th>    <td>    0.1227</td> <td>    0.130</td> <td>    0.942</td> <td> 0.346</td> <td>   -0.133</td> <td>    0.378</td>\n</tr>\n<tr>\n  <th>L1.oil_wti_log</th>    <td>    0.0501</td> <td>    0.028</td> <td>    1.778</td> <td> 0.075</td> <td>   -0.005</td> <td>    0.105</td>\n</tr>\n<tr>\n  <th>L1.gold_log</th>       <td>    0.0625</td> <td>    0.087</td> <td>    0.715</td> <td> 0.475</td> <td>   -0.109</td> <td>    0.234</td>\n</tr>\n<tr>\n  <th>L1.sp500_log</th>      <td>   -0.0117</td> <td>    0.080</td> <td>   -0.147</td> <td> 0.883</td> <td>   -0.168</td> <td>    0.144</td>\n</tr>\n<tr>\n  <th>L1.sse_log</th>        <td>   -0.0131</td> <td>    0.050</td> <td>   -0.260</td> <td> 0.795</td> <td>   -0.111</td> <td>    0.085</td>\n</tr>\n<tr>\n  <th>L1.ffd_rate_log</th>   <td>   -0.0076</td> <td>    0.009</td> <td>   -0.812</td> <td> 0.417</td> <td>   -0.026</td> <td>    0.011</td>\n</tr>\n<tr>\n  <th>L2.btc_log</th>        <td>    0.0342</td> <td>    0.015</td> <td>    2.318</td> <td> 0.020</td> <td>    0.005</td> <td>    0.063</td>\n</tr>\n<tr>\n  <th>L2.tot_btc_log</th>    <td>   -5.8113</td> <td>    3.445</td> <td>   -1.687</td> <td> 0.092</td> <td>  -12.563</td> <td>    0.941</td>\n</tr>\n<tr>\n  <th>L2.hs_rate_log</th>    <td>    0.0687</td> <td>    0.036</td> <td>    1.922</td> <td> 0.055</td> <td>   -0.001</td> <td>    0.139</td>\n</tr>\n<tr>\n  <th>L2.eth_log</th>        <td>   -0.0079</td> <td>    0.009</td> <td>   -0.921</td> <td> 0.357</td> <td>   -0.025</td> <td>    0.009</td>\n</tr>\n<tr>\n  <th>L2.ggl_trends_log</th> <td>   -0.0123</td> <td>    0.009</td> <td>   -1.384</td> <td> 0.166</td> <td>   -0.030</td> <td>    0.005</td>\n</tr>\n<tr>\n  <th>L2.wiki_views_log</th> <td>   -0.0029</td> <td>    0.004</td> <td>   -0.667</td> <td> 0.505</td> <td>   -0.012</td> <td>    0.006</td>\n</tr>\n<tr>\n  <th>L2.usd_eur_log</th>    <td>    0.3457</td> <td>    0.132</td> <td>    2.614</td> <td> 0.009</td> <td>    0.086</td> <td>    0.605</td>\n</tr>\n<tr>\n  <th>L2.oil_wti_log</th>    <td>    0.0164</td> <td>    0.028</td> <td>    0.584</td> <td> 0.559</td> <td>   -0.039</td> <td>    0.071</td>\n</tr>\n<tr>\n  <th>L2.gold_log</th>       <td>   -0.0722</td> <td>    0.087</td> <td>   -0.828</td> <td> 0.408</td> <td>   -0.243</td> <td>    0.099</td>\n</tr>\n<tr>\n  <th>L2.sp500_log</th>      <td>    0.0520</td> <td>    0.083</td> <td>    0.625</td> <td> 0.532</td> <td>   -0.111</td> <td>    0.215</td>\n</tr>\n<tr>\n  <th>L2.sse_log</th>        <td>   -0.0322</td> <td>    0.050</td> <td>   -0.641</td> <td> 0.522</td> <td>   -0.131</td> <td>    0.066</td>\n</tr>\n<tr>\n  <th>L2.ffd_rate_log</th>   <td>   -0.0059</td> <td>    0.010</td> <td>   -0.576</td> <td> 0.565</td> <td>   -0.026</td> <td>    0.014</td>\n</tr>\n<tr>\n  <th>L3.btc_log</th>        <td>    0.0116</td> <td>    0.015</td> <td>    0.777</td> <td> 0.437</td> <td>   -0.018</td> <td>    0.041</td>\n</tr>\n<tr>\n  <th>L3.tot_btc_log</th>    <td>   -2.5222</td> <td>    3.423</td> <td>   -0.737</td> <td> 0.461</td> <td>   -9.231</td> <td>    4.186</td>\n</tr>\n<tr>\n  <th>L3.hs_rate_log</th>    <td>   -0.0281</td> <td>    0.036</td> <td>   -0.788</td> <td> 0.431</td> <td>   -0.098</td> <td>    0.042</td>\n</tr>\n<tr>\n  <th>L3.eth_log</th>        <td>   -0.0039</td> <td>    0.009</td> <td>   -0.454</td> <td> 0.650</td> <td>   -0.021</td> <td>    0.013</td>\n</tr>\n<tr>\n  <th>L3.ggl_trends_log</th> <td>   -0.0183</td> <td>    0.009</td> <td>   -2.049</td> <td> 0.041</td> <td>   -0.036</td> <td>   -0.001</td>\n</tr>\n<tr>\n  <th>L3.wiki_views_log</th> <td>    0.0015</td> <td>    0.004</td> <td>    0.355</td> <td> 0.722</td> <td>   -0.007</td> <td>    0.010</td>\n</tr>\n<tr>\n  <th>L3.usd_eur_log</th>    <td>   -0.0172</td> <td>    0.132</td> <td>   -0.130</td> <td> 0.896</td> <td>   -0.275</td> <td>    0.241</td>\n</tr>\n<tr>\n  <th>L3.oil_wti_log</th>    <td>    0.0373</td> <td>    0.028</td> <td>    1.323</td> <td> 0.186</td> <td>   -0.018</td> <td>    0.093</td>\n</tr>\n<tr>\n  <th>L3.gold_log</th>       <td>    0.1295</td> <td>    0.087</td> <td>    1.493</td> <td> 0.135</td> <td>   -0.040</td> <td>    0.299</td>\n</tr>\n<tr>\n  <th>L3.sp500_log</th>      <td>    0.1006</td> <td>    0.082</td> <td>    1.231</td> <td> 0.218</td> <td>   -0.060</td> <td>    0.261</td>\n</tr>\n<tr>\n  <th>L3.sse_log</th>        <td>   -0.0200</td> <td>    0.050</td> <td>   -0.401</td> <td> 0.688</td> <td>   -0.118</td> <td>    0.078</td>\n</tr>\n<tr>\n  <th>L3.ffd_rate_log</th>   <td>   -0.0075</td> <td>    0.010</td> <td>   -0.731</td> <td> 0.465</td> <td>   -0.028</td> <td>    0.013</td>\n</tr>\n<tr>\n  <th>L4.btc_log</th>        <td>   -0.0118</td> <td>    0.015</td> <td>   -0.788</td> <td> 0.431</td> <td>   -0.041</td> <td>    0.018</td>\n</tr>\n<tr>\n  <th>L4.tot_btc_log</th>    <td>   -0.7336</td> <td>    3.417</td> <td>   -0.215</td> <td> 0.830</td> <td>   -7.432</td> <td>    5.964</td>\n</tr>\n<tr>\n  <th>L4.hs_rate_log</th>    <td>   -0.1329</td> <td>    0.036</td> <td>   -3.737</td> <td> 0.000</td> <td>   -0.203</td> <td>   -0.063</td>\n</tr>\n<tr>\n  <th>L4.eth_log</th>        <td>    0.0092</td> <td>    0.008</td> <td>    1.078</td> <td> 0.281</td> <td>   -0.007</td> <td>    0.026</td>\n</tr>\n<tr>\n  <th>L4.ggl_trends_log</th> <td>   -0.0029</td> <td>    0.009</td> <td>   -0.317</td> <td> 0.751</td> <td>   -0.021</td> <td>    0.015</td>\n</tr>\n<tr>\n  <th>L4.wiki_views_log</th> <td>   -0.0003</td> <td>    0.004</td> <td>   -0.077</td> <td> 0.938</td> <td>   -0.008</td> <td>    0.007</td>\n</tr>\n<tr>\n  <th>L4.usd_eur_log</th>    <td>    0.1470</td> <td>    0.132</td> <td>    1.115</td> <td> 0.265</td> <td>   -0.111</td> <td>    0.405</td>\n</tr>\n<tr>\n  <th>L4.oil_wti_log</th>    <td>   -0.0608</td> <td>    0.028</td> <td>   -2.150</td> <td> 0.032</td> <td>   -0.116</td> <td>   -0.005</td>\n</tr>\n<tr>\n  <th>L4.gold_log</th>       <td>    0.2474</td> <td>    0.087</td> <td>    2.849</td> <td> 0.004</td> <td>    0.077</td> <td>    0.418</td>\n</tr>\n<tr>\n  <th>L4.sp500_log</th>      <td>    0.0102</td> <td>    0.082</td> <td>    0.125</td> <td> 0.901</td> <td>   -0.150</td> <td>    0.170</td>\n</tr>\n<tr>\n  <th>L4.sse_log</th>        <td>    0.0489</td> <td>    0.049</td> <td>    1.000</td> <td> 0.317</td> <td>   -0.047</td> <td>    0.145</td>\n</tr>\n<tr>\n  <th>L4.ffd_rate_log</th>   <td>   -0.0084</td> <td>    0.010</td> <td>   -0.834</td> <td> 0.404</td> <td>   -0.028</td> <td>    0.011</td>\n</tr>\n<tr>\n  <th>L5.btc_log</th>        <td>   -0.0037</td> <td>    0.015</td> <td>   -0.249</td> <td> 0.804</td> <td>   -0.033</td> <td>    0.025</td>\n</tr>\n<tr>\n  <th>L5.tot_btc_log</th>    <td>    7.1298</td> <td>    3.326</td> <td>    2.143</td> <td> 0.032</td> <td>    0.610</td> <td>   13.649</td>\n</tr>\n<tr>\n  <th>L5.hs_rate_log</th>    <td>   -0.0983</td> <td>    0.035</td> <td>   -2.844</td> <td> 0.004</td> <td>   -0.166</td> <td>   -0.031</td>\n</tr>\n<tr>\n  <th>L5.eth_log</th>        <td>    0.0067</td> <td>    0.007</td> <td>    0.913</td> <td> 0.361</td> <td>   -0.008</td> <td>    0.021</td>\n</tr>\n<tr>\n  <th>L5.ggl_trends_log</th> <td>    0.0197</td> <td>    0.009</td> <td>    2.162</td> <td> 0.031</td> <td>    0.002</td> <td>    0.038</td>\n</tr>\n<tr>\n  <th>L5.wiki_views_log</th> <td>    0.0006</td> <td>    0.004</td> <td>    0.160</td> <td> 0.873</td> <td>   -0.007</td> <td>    0.008</td>\n</tr>\n<tr>\n  <th>L5.usd_eur_log</th>    <td>   -0.0239</td> <td>    0.132</td> <td>   -0.181</td> <td> 0.856</td> <td>   -0.282</td> <td>    0.235</td>\n</tr>\n<tr>\n  <th>L5.oil_wti_log</th>    <td>   -0.0025</td> <td>    0.028</td> <td>   -0.088</td> <td> 0.930</td> <td>   -0.058</td> <td>    0.053</td>\n</tr>\n<tr>\n  <th>L5.gold_log</th>       <td>    0.1005</td> <td>    0.085</td> <td>    1.189</td> <td> 0.234</td> <td>   -0.065</td> <td>    0.266</td>\n</tr>\n<tr>\n  <th>L5.sp500_log</th>      <td>   -0.0963</td> <td>    0.079</td> <td>   -1.212</td> <td> 0.226</td> <td>   -0.252</td> <td>    0.059</td>\n</tr>\n<tr>\n  <th>L5.sse_log</th>        <td>   -0.0023</td> <td>    0.047</td> <td>   -0.049</td> <td> 0.961</td> <td>   -0.094</td> <td>    0.089</td>\n</tr>\n<tr>\n  <th>L5.ffd_rate_log</th>   <td>   -0.0005</td> <td>    0.009</td> <td>   -0.057</td> <td> 0.955</td> <td>   -0.018</td> <td>    0.017</td>\n</tr>\n</table>\n<table class=\"simpletable\">\n<caption>Det. terms outside the coint. relation & lagged endog. parameters for equation eth_log</caption>\n<tr>\n          <td></td>             <th>coef</th>     <th>std err</th>      <th>z</th>      <th>P>|z|</th>  <th>[0.025</th>    <th>0.975]</th>  \n</tr>\n<tr>\n  <th>L1.btc_log</th>        <td>   -0.1613</td> <td>    0.063</td> <td>   -2.545</td> <td> 0.011</td> <td>   -0.285</td> <td>   -0.037</td>\n</tr>\n<tr>\n  <th>L1.tot_btc_log</th>    <td>  -14.5571</td> <td>   14.693</td> <td>   -0.991</td> <td> 0.322</td> <td>  -43.354</td> <td>   14.240</td>\n</tr>\n<tr>\n  <th>L1.hs_rate_log</th>    <td>    0.1619</td> <td>    0.151</td> <td>    1.073</td> <td> 0.283</td> <td>   -0.134</td> <td>    0.458</td>\n</tr>\n<tr>\n  <th>L1.eth_log</th>        <td>    0.0696</td> <td>    0.037</td> <td>    1.873</td> <td> 0.061</td> <td>   -0.003</td> <td>    0.142</td>\n</tr>\n<tr>\n  <th>L1.ggl_trends_log</th> <td>    0.0142</td> <td>    0.038</td> <td>    0.371</td> <td> 0.711</td> <td>   -0.061</td> <td>    0.089</td>\n</tr>\n<tr>\n  <th>L1.wiki_views_log</th> <td>   -0.0187</td> <td>    0.020</td> <td>   -0.954</td> <td> 0.340</td> <td>   -0.057</td> <td>    0.020</td>\n</tr>\n<tr>\n  <th>L1.usd_eur_log</th>    <td>   -0.7086</td> <td>    0.560</td> <td>   -1.265</td> <td> 0.206</td> <td>   -1.806</td> <td>    0.389</td>\n</tr>\n<tr>\n  <th>L1.oil_wti_log</th>    <td>   -0.0002</td> <td>    0.121</td> <td>   -0.001</td> <td> 0.999</td> <td>   -0.237</td> <td>    0.237</td>\n</tr>\n<tr>\n  <th>L1.gold_log</th>       <td>    0.0486</td> <td>    0.376</td> <td>    0.129</td> <td> 0.897</td> <td>   -0.687</td> <td>    0.785</td>\n</tr>\n<tr>\n  <th>L1.sp500_log</th>      <td>    0.0836</td> <td>    0.342</td> <td>    0.244</td> <td> 0.807</td> <td>   -0.588</td> <td>    0.755</td>\n</tr>\n<tr>\n  <th>L1.sse_log</th>        <td>   -0.0688</td> <td>    0.216</td> <td>   -0.319</td> <td> 0.750</td> <td>   -0.492</td> <td>    0.354</td>\n</tr>\n<tr>\n  <th>L1.ffd_rate_log</th>   <td>   -0.0423</td> <td>    0.040</td> <td>   -1.048</td> <td> 0.294</td> <td>   -0.122</td> <td>    0.037</td>\n</tr>\n<tr>\n  <th>L2.btc_log</th>        <td>    0.0533</td> <td>    0.063</td> <td>    0.841</td> <td> 0.400</td> <td>   -0.071</td> <td>    0.178</td>\n</tr>\n<tr>\n  <th>L2.tot_btc_log</th>    <td>    4.3619</td> <td>   14.804</td> <td>    0.295</td> <td> 0.768</td> <td>  -24.654</td> <td>   33.378</td>\n</tr>\n<tr>\n  <th>L2.hs_rate_log</th>    <td>    0.1106</td> <td>    0.154</td> <td>    0.720</td> <td> 0.472</td> <td>   -0.191</td> <td>    0.412</td>\n</tr>\n<tr>\n  <th>L2.eth_log</th>        <td>   -0.0376</td> <td>    0.037</td> <td>   -1.025</td> <td> 0.306</td> <td>   -0.109</td> <td>    0.034</td>\n</tr>\n<tr>\n  <th>L2.ggl_trends_log</th> <td>    0.0405</td> <td>    0.038</td> <td>    1.059</td> <td> 0.290</td> <td>   -0.034</td> <td>    0.115</td>\n</tr>\n<tr>\n  <th>L2.wiki_views_log</th> <td>   -0.0282</td> <td>    0.019</td> <td>   -1.493</td> <td> 0.135</td> <td>   -0.065</td> <td>    0.009</td>\n</tr>\n<tr>\n  <th>L2.usd_eur_log</th>    <td>    0.3665</td> <td>    0.568</td> <td>    0.645</td> <td> 0.519</td> <td>   -0.748</td> <td>    1.480</td>\n</tr>\n<tr>\n  <th>L2.oil_wti_log</th>    <td>   -0.0655</td> <td>    0.121</td> <td>   -0.543</td> <td> 0.587</td> <td>   -0.302</td> <td>    0.171</td>\n</tr>\n<tr>\n  <th>L2.gold_log</th>       <td>   -0.1191</td> <td>    0.375</td> <td>   -0.318</td> <td> 0.750</td> <td>   -0.853</td> <td>    0.615</td>\n</tr>\n<tr>\n  <th>L2.sp500_log</th>      <td>    0.3957</td> <td>    0.358</td> <td>    1.106</td> <td> 0.269</td> <td>   -0.306</td> <td>    1.097</td>\n</tr>\n<tr>\n  <th>L2.sse_log</th>        <td>    0.2649</td> <td>    0.216</td> <td>    1.226</td> <td> 0.220</td> <td>   -0.159</td> <td>    0.688</td>\n</tr>\n<tr>\n  <th>L2.ffd_rate_log</th>   <td>   -0.0496</td> <td>    0.044</td> <td>   -1.119</td> <td> 0.263</td> <td>   -0.136</td> <td>    0.037</td>\n</tr>\n<tr>\n  <th>L3.btc_log</th>        <td>    0.0949</td> <td>    0.064</td> <td>    1.483</td> <td> 0.138</td> <td>   -0.031</td> <td>    0.220</td>\n</tr>\n<tr>\n  <th>L3.tot_btc_log</th>    <td>  -11.9806</td> <td>   14.709</td> <td>   -0.815</td> <td> 0.415</td> <td>  -40.810</td> <td>   16.848</td>\n</tr>\n<tr>\n  <th>L3.hs_rate_log</th>    <td>    0.1064</td> <td>    0.153</td> <td>    0.695</td> <td> 0.487</td> <td>   -0.194</td> <td>    0.406</td>\n</tr>\n<tr>\n  <th>L3.eth_log</th>        <td>    0.0418</td> <td>    0.037</td> <td>    1.136</td> <td> 0.256</td> <td>   -0.030</td> <td>    0.114</td>\n</tr>\n<tr>\n  <th>L3.ggl_trends_log</th> <td>    0.0455</td> <td>    0.038</td> <td>    1.186</td> <td> 0.236</td> <td>   -0.030</td> <td>    0.121</td>\n</tr>\n<tr>\n  <th>L3.wiki_views_log</th> <td>   -0.0245</td> <td>    0.018</td> <td>   -1.350</td> <td> 0.177</td> <td>   -0.060</td> <td>    0.011</td>\n</tr>\n<tr>\n  <th>L3.usd_eur_log</th>    <td>   -0.4049</td> <td>    0.566</td> <td>   -0.715</td> <td> 0.474</td> <td>   -1.514</td> <td>    0.705</td>\n</tr>\n<tr>\n  <th>L3.oil_wti_log</th>    <td>   -0.0503</td> <td>    0.121</td> <td>   -0.415</td> <td> 0.678</td> <td>   -0.288</td> <td>    0.187</td>\n</tr>\n<tr>\n  <th>L3.gold_log</th>       <td>    0.2854</td> <td>    0.373</td> <td>    0.766</td> <td> 0.444</td> <td>   -0.445</td> <td>    1.016</td>\n</tr>\n<tr>\n  <th>L3.sp500_log</th>      <td>   -0.2699</td> <td>    0.351</td> <td>   -0.769</td> <td> 0.442</td> <td>   -0.958</td> <td>    0.418</td>\n</tr>\n<tr>\n  <th>L3.sse_log</th>        <td>   -0.0098</td> <td>    0.214</td> <td>   -0.046</td> <td> 0.963</td> <td>   -0.430</td> <td>    0.410</td>\n</tr>\n<tr>\n  <th>L3.ffd_rate_log</th>   <td>   -0.0250</td> <td>    0.044</td> <td>   -0.565</td> <td> 0.572</td> <td>   -0.111</td> <td>    0.062</td>\n</tr>\n<tr>\n  <th>L4.btc_log</th>        <td>    0.0449</td> <td>    0.065</td> <td>    0.695</td> <td> 0.487</td> <td>   -0.082</td> <td>    0.172</td>\n</tr>\n<tr>\n  <th>L4.tot_btc_log</th>    <td>    9.5308</td> <td>   14.686</td> <td>    0.649</td> <td> 0.516</td> <td>  -19.253</td> <td>   38.315</td>\n</tr>\n<tr>\n  <th>L4.hs_rate_log</th>    <td>   -0.0159</td> <td>    0.153</td> <td>   -0.104</td> <td> 0.917</td> <td>   -0.315</td> <td>    0.284</td>\n</tr>\n<tr>\n  <th>L4.eth_log</th>        <td>   -0.0336</td> <td>    0.036</td> <td>   -0.920</td> <td> 0.358</td> <td>   -0.105</td> <td>    0.038</td>\n</tr>\n<tr>\n  <th>L4.ggl_trends_log</th> <td>   -0.0273</td> <td>    0.039</td> <td>   -0.702</td> <td> 0.482</td> <td>   -0.103</td> <td>    0.049</td>\n</tr>\n<tr>\n  <th>L4.wiki_views_log</th> <td>    0.0161</td> <td>    0.017</td> <td>    0.940</td> <td> 0.347</td> <td>   -0.017</td> <td>    0.050</td>\n</tr>\n<tr>\n  <th>L4.usd_eur_log</th>    <td>   -0.0721</td> <td>    0.566</td> <td>   -0.127</td> <td> 0.899</td> <td>   -1.182</td> <td>    1.038</td>\n</tr>\n<tr>\n  <th>L4.oil_wti_log</th>    <td>    0.0345</td> <td>    0.121</td> <td>    0.284</td> <td> 0.776</td> <td>   -0.204</td> <td>    0.273</td>\n</tr>\n<tr>\n  <th>L4.gold_log</th>       <td>   -0.0601</td> <td>    0.373</td> <td>   -0.161</td> <td> 0.872</td> <td>   -0.792</td> <td>    0.672</td>\n</tr>\n<tr>\n  <th>L4.sp500_log</th>      <td>   -0.2366</td> <td>    0.350</td> <td>   -0.676</td> <td> 0.499</td> <td>   -0.923</td> <td>    0.450</td>\n</tr>\n<tr>\n  <th>L4.sse_log</th>        <td>    0.2802</td> <td>    0.210</td> <td>    1.332</td> <td> 0.183</td> <td>   -0.132</td> <td>    0.692</td>\n</tr>\n<tr>\n  <th>L4.ffd_rate_log</th>   <td>   -0.0280</td> <td>    0.043</td> <td>   -0.649</td> <td> 0.516</td> <td>   -0.112</td> <td>    0.056</td>\n</tr>\n<tr>\n  <th>L5.btc_log</th>        <td>   -0.1290</td> <td>    0.063</td> <td>   -2.031</td> <td> 0.042</td> <td>   -0.253</td> <td>   -0.005</td>\n</tr>\n<tr>\n  <th>L5.tot_btc_log</th>    <td>    0.7422</td> <td>   14.294</td> <td>    0.052</td> <td> 0.959</td> <td>  -27.274</td> <td>   28.759</td>\n</tr>\n<tr>\n  <th>L5.hs_rate_log</th>    <td>    0.2627</td> <td>    0.149</td> <td>    1.769</td> <td> 0.077</td> <td>   -0.028</td> <td>    0.554</td>\n</tr>\n<tr>\n  <th>L5.eth_log</th>        <td>    0.0724</td> <td>    0.032</td> <td>    2.298</td> <td> 0.022</td> <td>    0.011</td> <td>    0.134</td>\n</tr>\n<tr>\n  <th>L5.ggl_trends_log</th> <td>    0.0296</td> <td>    0.039</td> <td>    0.756</td> <td> 0.450</td> <td>   -0.047</td> <td>    0.107</td>\n</tr>\n<tr>\n  <th>L5.wiki_views_log</th> <td>    0.0091</td> <td>    0.016</td> <td>    0.572</td> <td> 0.567</td> <td>   -0.022</td> <td>    0.040</td>\n</tr>\n<tr>\n  <th>L5.usd_eur_log</th>    <td>    0.4187</td> <td>    0.567</td> <td>    0.739</td> <td> 0.460</td> <td>   -0.692</td> <td>    1.529</td>\n</tr>\n<tr>\n  <th>L5.oil_wti_log</th>    <td>   -0.1008</td> <td>    0.122</td> <td>   -0.826</td> <td> 0.409</td> <td>   -0.340</td> <td>    0.138</td>\n</tr>\n<tr>\n  <th>L5.gold_log</th>       <td>   -0.7534</td> <td>    0.363</td> <td>   -2.073</td> <td> 0.038</td> <td>   -1.466</td> <td>   -0.041</td>\n</tr>\n<tr>\n  <th>L5.sp500_log</th>      <td>   -0.0536</td> <td>    0.342</td> <td>   -0.157</td> <td> 0.875</td> <td>   -0.723</td> <td>    0.616</td>\n</tr>\n<tr>\n  <th>L5.sse_log</th>        <td>   -0.5072</td> <td>    0.200</td> <td>   -2.535</td> <td> 0.011</td> <td>   -0.899</td> <td>   -0.115</td>\n</tr>\n<tr>\n  <th>L5.ffd_rate_log</th>   <td>    0.0056</td> <td>    0.039</td> <td>    0.143</td> <td> 0.886</td> <td>   -0.071</td> <td>    0.082</td>\n</tr>\n</table>\n<table class=\"simpletable\">\n<caption>Det. terms outside the coint. relation & lagged endog. parameters for equation ggl_trends_log</caption>\n<tr>\n          <td></td>             <th>coef</th>     <th>std err</th>      <th>z</th>      <th>P>|z|</th>  <th>[0.025</th>    <th>0.975]</th>  \n</tr>\n<tr>\n  <th>L1.btc_log</th>        <td>   -0.0126</td> <td>    0.057</td> <td>   -0.221</td> <td> 0.825</td> <td>   -0.125</td> <td>    0.099</td>\n</tr>\n<tr>\n  <th>L1.tot_btc_log</th>    <td>  -13.9277</td> <td>   13.242</td> <td>   -1.052</td> <td> 0.293</td> <td>  -39.882</td> <td>   12.027</td>\n</tr>\n<tr>\n  <th>L1.hs_rate_log</th>    <td>    0.1776</td> <td>    0.136</td> <td>    1.306</td> <td> 0.192</td> <td>   -0.089</td> <td>    0.444</td>\n</tr>\n<tr>\n  <th>L1.eth_log</th>        <td>    0.0070</td> <td>    0.033</td> <td>    0.211</td> <td> 0.833</td> <td>   -0.059</td> <td>    0.073</td>\n</tr>\n<tr>\n  <th>L1.ggl_trends_log</th> <td>    0.0945</td> <td>    0.034</td> <td>    2.748</td> <td> 0.006</td> <td>    0.027</td> <td>    0.162</td>\n</tr>\n<tr>\n  <th>L1.wiki_views_log</th> <td>   -0.0227</td> <td>    0.018</td> <td>   -1.282</td> <td> 0.200</td> <td>   -0.057</td> <td>    0.012</td>\n</tr>\n<tr>\n  <th>L1.usd_eur_log</th>    <td>    0.1562</td> <td>    0.505</td> <td>    0.309</td> <td> 0.757</td> <td>   -0.833</td> <td>    1.146</td>\n</tr>\n<tr>\n  <th>L1.oil_wti_log</th>    <td>    0.0922</td> <td>    0.109</td> <td>    0.845</td> <td> 0.398</td> <td>   -0.122</td> <td>    0.306</td>\n</tr>\n<tr>\n  <th>L1.gold_log</th>       <td>    0.0022</td> <td>    0.338</td> <td>    0.006</td> <td> 0.995</td> <td>   -0.661</td> <td>    0.666</td>\n</tr>\n<tr>\n  <th>L1.sp500_log</th>      <td>   -0.3264</td> <td>    0.309</td> <td>   -1.057</td> <td> 0.290</td> <td>   -0.931</td> <td>    0.279</td>\n</tr>\n<tr>\n  <th>L1.sse_log</th>        <td>   -0.1275</td> <td>    0.194</td> <td>   -0.656</td> <td> 0.512</td> <td>   -0.509</td> <td>    0.254</td>\n</tr>\n<tr>\n  <th>L1.ffd_rate_log</th>   <td>   -0.1018</td> <td>    0.036</td> <td>   -2.797</td> <td> 0.005</td> <td>   -0.173</td> <td>   -0.030</td>\n</tr>\n<tr>\n  <th>L2.btc_log</th>        <td>    0.0600</td> <td>    0.057</td> <td>    1.050</td> <td> 0.294</td> <td>   -0.052</td> <td>    0.172</td>\n</tr>\n<tr>\n  <th>L2.tot_btc_log</th>    <td>   -5.2173</td> <td>   13.343</td> <td>   -0.391</td> <td> 0.696</td> <td>  -31.369</td> <td>   20.934</td>\n</tr>\n<tr>\n  <th>L2.hs_rate_log</th>    <td>    0.1878</td> <td>    0.138</td> <td>    1.357</td> <td> 0.175</td> <td>   -0.084</td> <td>    0.459</td>\n</tr>\n<tr>\n  <th>L2.eth_log</th>        <td>    0.0554</td> <td>    0.033</td> <td>    1.677</td> <td> 0.094</td> <td>   -0.009</td> <td>    0.120</td>\n</tr>\n<tr>\n  <th>L2.ggl_trends_log</th> <td>    0.0897</td> <td>    0.034</td> <td>    2.606</td> <td> 0.009</td> <td>    0.022</td> <td>    0.157</td>\n</tr>\n<tr>\n  <th>L2.wiki_views_log</th> <td>   -0.0305</td> <td>    0.017</td> <td>   -1.789</td> <td> 0.074</td> <td>   -0.064</td> <td>    0.003</td>\n</tr>\n<tr>\n  <th>L2.usd_eur_log</th>    <td>    0.0540</td> <td>    0.512</td> <td>    0.105</td> <td> 0.916</td> <td>   -0.950</td> <td>    1.058</td>\n</tr>\n<tr>\n  <th>L2.oil_wti_log</th>    <td>   -0.0014</td> <td>    0.109</td> <td>   -0.013</td> <td> 0.990</td> <td>   -0.215</td> <td>    0.212</td>\n</tr>\n<tr>\n  <th>L2.gold_log</th>       <td>   -0.1913</td> <td>    0.338</td> <td>   -0.567</td> <td> 0.571</td> <td>   -0.853</td> <td>    0.470</td>\n</tr>\n<tr>\n  <th>L2.sp500_log</th>      <td>    0.2576</td> <td>    0.323</td> <td>    0.799</td> <td> 0.425</td> <td>   -0.375</td> <td>    0.890</td>\n</tr>\n<tr>\n  <th>L2.sse_log</th>        <td>   -0.3110</td> <td>    0.195</td> <td>   -1.597</td> <td> 0.110</td> <td>   -0.693</td> <td>    0.071</td>\n</tr>\n<tr>\n  <th>L2.ffd_rate_log</th>   <td>   -0.0541</td> <td>    0.040</td> <td>   -1.356</td> <td> 0.175</td> <td>   -0.132</td> <td>    0.024</td>\n</tr>\n<tr>\n  <th>L3.btc_log</th>        <td>    0.0307</td> <td>    0.058</td> <td>    0.533</td> <td> 0.594</td> <td>   -0.082</td> <td>    0.144</td>\n</tr>\n<tr>\n  <th>L3.tot_btc_log</th>    <td>    3.2198</td> <td>   13.257</td> <td>    0.243</td> <td> 0.808</td> <td>  -22.763</td> <td>   29.203</td>\n</tr>\n<tr>\n  <th>L3.hs_rate_log</th>    <td>   -0.0154</td> <td>    0.138</td> <td>   -0.112</td> <td> 0.911</td> <td>   -0.286</td> <td>    0.255</td>\n</tr>\n<tr>\n  <th>L3.eth_log</th>        <td>    0.0303</td> <td>    0.033</td> <td>    0.915</td> <td> 0.360</td> <td>   -0.035</td> <td>    0.095</td>\n</tr>\n<tr>\n  <th>L3.ggl_trends_log</th> <td>    0.0976</td> <td>    0.035</td> <td>    2.824</td> <td> 0.005</td> <td>    0.030</td> <td>    0.165</td>\n</tr>\n<tr>\n  <th>L3.wiki_views_log</th> <td>    0.0097</td> <td>    0.016</td> <td>    0.593</td> <td> 0.553</td> <td>   -0.022</td> <td>    0.042</td>\n</tr>\n<tr>\n  <th>L3.usd_eur_log</th>    <td>   -0.8909</td> <td>    0.510</td> <td>   -1.746</td> <td> 0.081</td> <td>   -1.891</td> <td>    0.109</td>\n</tr>\n<tr>\n  <th>L3.oil_wti_log</th>    <td>   -0.0622</td> <td>    0.109</td> <td>   -0.570</td> <td> 0.569</td> <td>   -0.276</td> <td>    0.152</td>\n</tr>\n<tr>\n  <th>L3.gold_log</th>       <td>    0.3273</td> <td>    0.336</td> <td>    0.975</td> <td> 0.330</td> <td>   -0.331</td> <td>    0.985</td>\n</tr>\n<tr>\n  <th>L3.sp500_log</th>      <td>    0.3328</td> <td>    0.317</td> <td>    1.051</td> <td> 0.293</td> <td>   -0.288</td> <td>    0.953</td>\n</tr>\n<tr>\n  <th>L3.sse_log</th>        <td>   -0.2117</td> <td>    0.193</td> <td>   -1.097</td> <td> 0.273</td> <td>   -0.590</td> <td>    0.167</td>\n</tr>\n<tr>\n  <th>L3.ffd_rate_log</th>   <td>   -0.0858</td> <td>    0.040</td> <td>   -2.157</td> <td> 0.031</td> <td>   -0.164</td> <td>   -0.008</td>\n</tr>\n<tr>\n  <th>L4.btc_log</th>        <td>    0.0476</td> <td>    0.058</td> <td>    0.817</td> <td> 0.414</td> <td>   -0.067</td> <td>    0.162</td>\n</tr>\n<tr>\n  <th>L4.tot_btc_log</th>    <td>    7.8485</td> <td>   13.236</td> <td>    0.593</td> <td> 0.553</td> <td>  -18.094</td> <td>   33.791</td>\n</tr>\n<tr>\n  <th>L4.hs_rate_log</th>    <td>    0.1618</td> <td>    0.138</td> <td>    1.175</td> <td> 0.240</td> <td>   -0.108</td> <td>    0.432</td>\n</tr>\n<tr>\n  <th>L4.eth_log</th>        <td>   -0.0175</td> <td>    0.033</td> <td>   -0.532</td> <td> 0.595</td> <td>   -0.082</td> <td>    0.047</td>\n</tr>\n<tr>\n  <th>L4.ggl_trends_log</th> <td>    0.1041</td> <td>    0.035</td> <td>    2.974</td> <td> 0.003</td> <td>    0.035</td> <td>    0.173</td>\n</tr>\n<tr>\n  <th>L4.wiki_views_log</th> <td>    0.0174</td> <td>    0.015</td> <td>    1.129</td> <td> 0.259</td> <td>   -0.013</td> <td>    0.048</td>\n</tr>\n<tr>\n  <th>L4.usd_eur_log</th>    <td>   -0.4040</td> <td>    0.510</td> <td>   -0.791</td> <td> 0.429</td> <td>   -1.404</td> <td>    0.597</td>\n</tr>\n<tr>\n  <th>L4.oil_wti_log</th>    <td>   -0.1686</td> <td>    0.109</td> <td>   -1.540</td> <td> 0.124</td> <td>   -0.383</td> <td>    0.046</td>\n</tr>\n<tr>\n  <th>L4.gold_log</th>       <td>   -0.3536</td> <td>    0.336</td> <td>   -1.051</td> <td> 0.293</td> <td>   -1.013</td> <td>    0.306</td>\n</tr>\n<tr>\n  <th>L4.sp500_log</th>      <td>    0.0214</td> <td>    0.316</td> <td>    0.068</td> <td> 0.946</td> <td>   -0.597</td> <td>    0.640</td>\n</tr>\n<tr>\n  <th>L4.sse_log</th>        <td>    0.0791</td> <td>    0.190</td> <td>    0.417</td> <td> 0.677</td> <td>   -0.293</td> <td>    0.451</td>\n</tr>\n<tr>\n  <th>L4.ffd_rate_log</th>   <td>    0.0161</td> <td>    0.039</td> <td>    0.414</td> <td> 0.679</td> <td>   -0.060</td> <td>    0.092</td>\n</tr>\n<tr>\n  <th>L5.btc_log</th>        <td>   -0.0322</td> <td>    0.057</td> <td>   -0.563</td> <td> 0.574</td> <td>   -0.144</td> <td>    0.080</td>\n</tr>\n<tr>\n  <th>L5.tot_btc_log</th>    <td>   23.4087</td> <td>   12.883</td> <td>    1.817</td> <td> 0.069</td> <td>   -1.842</td> <td>   48.660</td>\n</tr>\n<tr>\n  <th>L5.hs_rate_log</th>    <td>   -0.1627</td> <td>    0.134</td> <td>   -1.215</td> <td> 0.224</td> <td>   -0.425</td> <td>    0.100</td>\n</tr>\n<tr>\n  <th>L5.eth_log</th>        <td>    0.0380</td> <td>    0.028</td> <td>    1.337</td> <td> 0.181</td> <td>   -0.018</td> <td>    0.094</td>\n</tr>\n<tr>\n  <th>L5.ggl_trends_log</th> <td>   -0.0099</td> <td>    0.035</td> <td>   -0.279</td> <td> 0.780</td> <td>   -0.079</td> <td>    0.059</td>\n</tr>\n<tr>\n  <th>L5.wiki_views_log</th> <td>    0.0411</td> <td>    0.014</td> <td>    2.871</td> <td> 0.004</td> <td>    0.013</td> <td>    0.069</td>\n</tr>\n<tr>\n  <th>L5.usd_eur_log</th>    <td>   -1.0778</td> <td>    0.511</td> <td>   -2.110</td> <td> 0.035</td> <td>   -2.079</td> <td>   -0.077</td>\n</tr>\n<tr>\n  <th>L5.oil_wti_log</th>    <td>   -0.0962</td> <td>    0.110</td> <td>   -0.874</td> <td> 0.382</td> <td>   -0.312</td> <td>    0.119</td>\n</tr>\n<tr>\n  <th>L5.gold_log</th>       <td>   -0.7969</td> <td>    0.327</td> <td>   -2.434</td> <td> 0.015</td> <td>   -1.439</td> <td>   -0.155</td>\n</tr>\n<tr>\n  <th>L5.sp500_log</th>      <td>    0.7018</td> <td>    0.308</td> <td>    2.280</td> <td> 0.023</td> <td>    0.098</td> <td>    1.305</td>\n</tr>\n<tr>\n  <th>L5.sse_log</th>        <td>   -0.0668</td> <td>    0.180</td> <td>   -0.371</td> <td> 0.711</td> <td>   -0.420</td> <td>    0.287</td>\n</tr>\n<tr>\n  <th>L5.ffd_rate_log</th>   <td>   -0.0681</td> <td>    0.035</td> <td>   -1.942</td> <td> 0.052</td> <td>   -0.137</td> <td>    0.001</td>\n</tr>\n</table>\n<table class=\"simpletable\">\n<caption>Det. terms outside the coint. relation & lagged endog. parameters for equation wiki_views_log</caption>\n<tr>\n          <td></td>             <th>coef</th>     <th>std err</th>      <th>z</th>      <th>P>|z|</th>  <th>[0.025</th>    <th>0.975]</th>  \n</tr>\n<tr>\n  <th>L1.btc_log</th>        <td>    0.1704</td> <td>    0.134</td> <td>    1.276</td> <td> 0.202</td> <td>   -0.091</td> <td>    0.432</td>\n</tr>\n<tr>\n  <th>L1.tot_btc_log</th>    <td>  -24.9457</td> <td>   30.974</td> <td>   -0.805</td> <td> 0.421</td> <td>  -85.654</td> <td>   35.763</td>\n</tr>\n<tr>\n  <th>L1.hs_rate_log</th>    <td>    0.4996</td> <td>    0.318</td> <td>    1.571</td> <td> 0.116</td> <td>   -0.124</td> <td>    1.123</td>\n</tr>\n<tr>\n  <th>L1.eth_log</th>        <td>   -0.0171</td> <td>    0.078</td> <td>   -0.218</td> <td> 0.827</td> <td>   -0.171</td> <td>    0.136</td>\n</tr>\n<tr>\n  <th>L1.ggl_trends_log</th> <td>    0.0426</td> <td>    0.080</td> <td>    0.530</td> <td> 0.596</td> <td>   -0.115</td> <td>    0.200</td>\n</tr>\n<tr>\n  <th>L1.wiki_views_log</th> <td>   -0.2228</td> <td>    0.041</td> <td>   -5.392</td> <td> 0.000</td> <td>   -0.304</td> <td>   -0.142</td>\n</tr>\n<tr>\n  <th>L1.usd_eur_log</th>    <td>    1.0830</td> <td>    1.181</td> <td>    0.917</td> <td> 0.359</td> <td>   -1.231</td> <td>    3.397</td>\n</tr>\n<tr>\n  <th>L1.oil_wti_log</th>    <td>    0.0874</td> <td>    0.255</td> <td>    0.343</td> <td> 0.732</td> <td>   -0.413</td> <td>    0.588</td>\n</tr>\n<tr>\n  <th>L1.gold_log</th>       <td>    0.1425</td> <td>    0.792</td> <td>    0.180</td> <td> 0.857</td> <td>   -1.409</td> <td>    1.694</td>\n</tr>\n<tr>\n  <th>L1.sp500_log</th>      <td>    0.0824</td> <td>    0.722</td> <td>    0.114</td> <td> 0.909</td> <td>   -1.332</td> <td>    1.497</td>\n</tr>\n<tr>\n  <th>L1.sse_log</th>        <td>   -0.4805</td> <td>    0.455</td> <td>   -1.057</td> <td> 0.291</td> <td>   -1.372</td> <td>    0.411</td>\n</tr>\n<tr>\n  <th>L1.ffd_rate_log</th>   <td>   -0.2808</td> <td>    0.085</td> <td>   -3.298</td> <td> 0.001</td> <td>   -0.448</td> <td>   -0.114</td>\n</tr>\n<tr>\n  <th>L2.btc_log</th>        <td>    0.2635</td> <td>    0.134</td> <td>    1.972</td> <td> 0.049</td> <td>    0.002</td> <td>    0.525</td>\n</tr>\n<tr>\n  <th>L2.tot_btc_log</th>    <td>  -17.3333</td> <td>   31.210</td> <td>   -0.555</td> <td> 0.579</td> <td>  -78.504</td> <td>   43.837</td>\n</tr>\n<tr>\n  <th>L2.hs_rate_log</th>    <td>   -0.0438</td> <td>    0.324</td> <td>   -0.135</td> <td> 0.892</td> <td>   -0.679</td> <td>    0.591</td>\n</tr>\n<tr>\n  <th>L2.eth_log</th>        <td>   -0.0399</td> <td>    0.077</td> <td>   -0.516</td> <td> 0.606</td> <td>   -0.191</td> <td>    0.112</td>\n</tr>\n<tr>\n  <th>L2.ggl_trends_log</th> <td>    0.1933</td> <td>    0.081</td> <td>    2.399</td> <td> 0.016</td> <td>    0.035</td> <td>    0.351</td>\n</tr>\n<tr>\n  <th>L2.wiki_views_log</th> <td>   -0.1980</td> <td>    0.040</td> <td>   -4.965</td> <td> 0.000</td> <td>   -0.276</td> <td>   -0.120</td>\n</tr>\n<tr>\n  <th>L2.usd_eur_log</th>    <td>   -0.6828</td> <td>    1.198</td> <td>   -0.570</td> <td> 0.569</td> <td>   -3.031</td> <td>    1.666</td>\n</tr>\n<tr>\n  <th>L2.oil_wti_log</th>    <td>   -0.8344</td> <td>    0.254</td> <td>   -3.280</td> <td> 0.001</td> <td>   -1.333</td> <td>   -0.336</td>\n</tr>\n<tr>\n  <th>L2.gold_log</th>       <td>    1.8214</td> <td>    0.790</td> <td>    2.307</td> <td> 0.021</td> <td>    0.274</td> <td>    3.369</td>\n</tr>\n<tr>\n  <th>L2.sp500_log</th>      <td>    0.7183</td> <td>    0.755</td> <td>    0.952</td> <td> 0.341</td> <td>   -0.761</td> <td>    2.197</td>\n</tr>\n<tr>\n  <th>L2.sse_log</th>        <td>    0.6205</td> <td>    0.455</td> <td>    1.362</td> <td> 0.173</td> <td>   -0.272</td> <td>    1.513</td>\n</tr>\n<tr>\n  <th>L2.ffd_rate_log</th>   <td>   -0.1286</td> <td>    0.093</td> <td>   -1.378</td> <td> 0.168</td> <td>   -0.312</td> <td>    0.054</td>\n</tr>\n<tr>\n  <th>L3.btc_log</th>        <td>    0.0811</td> <td>    0.135</td> <td>    0.601</td> <td> 0.548</td> <td>   -0.183</td> <td>    0.345</td>\n</tr>\n<tr>\n  <th>L3.tot_btc_log</th>    <td>  -46.8259</td> <td>   31.009</td> <td>   -1.510</td> <td> 0.131</td> <td> -107.602</td> <td>   13.950</td>\n</tr>\n<tr>\n  <th>L3.hs_rate_log</th>    <td>   -0.0018</td> <td>    0.323</td> <td>   -0.006</td> <td> 0.995</td> <td>   -0.634</td> <td>    0.631</td>\n</tr>\n<tr>\n  <th>L3.eth_log</th>        <td>    0.0120</td> <td>    0.078</td> <td>    0.155</td> <td> 0.877</td> <td>   -0.140</td> <td>    0.164</td>\n</tr>\n<tr>\n  <th>L3.ggl_trends_log</th> <td>    0.1379</td> <td>    0.081</td> <td>    1.706</td> <td> 0.088</td> <td>   -0.021</td> <td>    0.296</td>\n</tr>\n<tr>\n  <th>L3.wiki_views_log</th> <td>   -0.1991</td> <td>    0.038</td> <td>   -5.207</td> <td> 0.000</td> <td>   -0.274</td> <td>   -0.124</td>\n</tr>\n<tr>\n  <th>L3.usd_eur_log</th>    <td>   -0.6005</td> <td>    1.193</td> <td>   -0.503</td> <td> 0.615</td> <td>   -2.939</td> <td>    1.738</td>\n</tr>\n<tr>\n  <th>L3.oil_wti_log</th>    <td>   -0.3933</td> <td>    0.255</td> <td>   -1.540</td> <td> 0.124</td> <td>   -0.894</td> <td>    0.107</td>\n</tr>\n<tr>\n  <th>L3.gold_log</th>       <td>    0.8491</td> <td>    0.786</td> <td>    1.081</td> <td> 0.280</td> <td>   -0.690</td> <td>    2.389</td>\n</tr>\n<tr>\n  <th>L3.sp500_log</th>      <td>    1.5748</td> <td>    0.740</td> <td>    2.127</td> <td> 0.033</td> <td>    0.124</td> <td>    3.026</td>\n</tr>\n<tr>\n  <th>L3.sse_log</th>        <td>   -0.1590</td> <td>    0.451</td> <td>   -0.352</td> <td> 0.725</td> <td>   -1.044</td> <td>    0.726</td>\n</tr>\n<tr>\n  <th>L3.ffd_rate_log</th>   <td>   -0.2376</td> <td>    0.093</td> <td>   -2.553</td> <td> 0.011</td> <td>   -0.420</td> <td>   -0.055</td>\n</tr>\n<tr>\n  <th>L4.btc_log</th>        <td>    0.1076</td> <td>    0.136</td> <td>    0.789</td> <td> 0.430</td> <td>   -0.160</td> <td>    0.375</td>\n</tr>\n<tr>\n  <th>L4.tot_btc_log</th>    <td>  -20.5802</td> <td>   30.960</td> <td>   -0.665</td> <td> 0.506</td> <td>  -81.261</td> <td>   40.101</td>\n</tr>\n<tr>\n  <th>L4.hs_rate_log</th>    <td>    0.1227</td> <td>    0.322</td> <td>    0.381</td> <td> 0.703</td> <td>   -0.509</td> <td>    0.754</td>\n</tr>\n<tr>\n  <th>L4.eth_log</th>        <td>   -0.0071</td> <td>    0.077</td> <td>   -0.092</td> <td> 0.926</td> <td>   -0.158</td> <td>    0.144</td>\n</tr>\n<tr>\n  <th>L4.ggl_trends_log</th> <td>    0.1933</td> <td>    0.082</td> <td>    2.362</td> <td> 0.018</td> <td>    0.033</td> <td>    0.354</td>\n</tr>\n<tr>\n  <th>L4.wiki_views_log</th> <td>   -0.1370</td> <td>    0.036</td> <td>   -3.799</td> <td> 0.000</td> <td>   -0.208</td> <td>   -0.066</td>\n</tr>\n<tr>\n  <th>L4.usd_eur_log</th>    <td>    0.7479</td> <td>    1.194</td> <td>    0.626</td> <td> 0.531</td> <td>   -1.592</td> <td>    3.088</td>\n</tr>\n<tr>\n  <th>L4.oil_wti_log</th>    <td>    0.2578</td> <td>    0.256</td> <td>    1.007</td> <td> 0.314</td> <td>   -0.244</td> <td>    0.760</td>\n</tr>\n<tr>\n  <th>L4.gold_log</th>       <td>   -0.4939</td> <td>    0.787</td> <td>   -0.628</td> <td> 0.530</td> <td>   -2.036</td> <td>    1.048</td>\n</tr>\n<tr>\n  <th>L4.sp500_log</th>      <td>    0.2913</td> <td>    0.738</td> <td>    0.395</td> <td> 0.693</td> <td>   -1.156</td> <td>    1.739</td>\n</tr>\n<tr>\n  <th>L4.sse_log</th>        <td>    0.1788</td> <td>    0.443</td> <td>    0.403</td> <td> 0.687</td> <td>   -0.690</td> <td>    1.048</td>\n</tr>\n<tr>\n  <th>L4.ffd_rate_log</th>   <td>   -0.0923</td> <td>    0.091</td> <td>   -1.017</td> <td> 0.309</td> <td>   -0.270</td> <td>    0.086</td>\n</tr>\n<tr>\n  <th>L5.btc_log</th>        <td>    0.1640</td> <td>    0.134</td> <td>    1.225</td> <td> 0.221</td> <td>   -0.098</td> <td>    0.426</td>\n</tr>\n<tr>\n  <th>L5.tot_btc_log</th>    <td>  -17.0115</td> <td>   30.135</td> <td>   -0.565</td> <td> 0.572</td> <td>  -76.074</td> <td>   42.051</td>\n</tr>\n<tr>\n  <th>L5.hs_rate_log</th>    <td>    0.1947</td> <td>    0.313</td> <td>    0.622</td> <td> 0.534</td> <td>   -0.419</td> <td>    0.808</td>\n</tr>\n<tr>\n  <th>L5.eth_log</th>        <td>   -0.0347</td> <td>    0.066</td> <td>   -0.522</td> <td> 0.601</td> <td>   -0.165</td> <td>    0.096</td>\n</tr>\n<tr>\n  <th>L5.ggl_trends_log</th> <td>    0.2904</td> <td>    0.083</td> <td>    3.513</td> <td> 0.000</td> <td>    0.128</td> <td>    0.452</td>\n</tr>\n<tr>\n  <th>L5.wiki_views_log</th> <td>   -0.0294</td> <td>    0.033</td> <td>   -0.879</td> <td> 0.380</td> <td>   -0.095</td> <td>    0.036</td>\n</tr>\n<tr>\n  <th>L5.usd_eur_log</th>    <td>    1.3033</td> <td>    1.195</td> <td>    1.091</td> <td> 0.275</td> <td>   -1.039</td> <td>    3.645</td>\n</tr>\n<tr>\n  <th>L5.oil_wti_log</th>    <td>    0.2052</td> <td>    0.257</td> <td>    0.798</td> <td> 0.425</td> <td>   -0.299</td> <td>    0.710</td>\n</tr>\n<tr>\n  <th>L5.gold_log</th>       <td>   -1.2027</td> <td>    0.766</td> <td>   -1.570</td> <td> 0.116</td> <td>   -2.704</td> <td>    0.299</td>\n</tr>\n<tr>\n  <th>L5.sp500_log</th>      <td>   -0.4998</td> <td>    0.720</td> <td>   -0.694</td> <td> 0.488</td> <td>   -1.911</td> <td>    0.912</td>\n</tr>\n<tr>\n  <th>L5.sse_log</th>        <td>    0.5483</td> <td>    0.422</td> <td>    1.300</td> <td> 0.194</td> <td>   -0.278</td> <td>    1.375</td>\n</tr>\n<tr>\n  <th>L5.ffd_rate_log</th>   <td>   -0.0267</td> <td>    0.082</td> <td>   -0.325</td> <td> 0.745</td> <td>   -0.188</td> <td>    0.134</td>\n</tr>\n</table>\n<table class=\"simpletable\">\n<caption>Det. terms outside the coint. relation & lagged endog. parameters for equation usd_eur_log</caption>\n<tr>\n          <td></td>             <th>coef</th>     <th>std err</th>      <th>z</th>      <th>P>|z|</th>  <th>[0.025</th>    <th>0.975]</th>  \n</tr>\n<tr>\n  <th>L1.btc_log</th>        <td>   -0.0062</td> <td>    0.004</td> <td>   -1.548</td> <td> 0.122</td> <td>   -0.014</td> <td>    0.002</td>\n</tr>\n<tr>\n  <th>L1.tot_btc_log</th>    <td>    1.3240</td> <td>    0.924</td> <td>    1.433</td> <td> 0.152</td> <td>   -0.487</td> <td>    3.135</td>\n</tr>\n<tr>\n  <th>L1.hs_rate_log</th>    <td>   -0.0011</td> <td>    0.009</td> <td>   -0.111</td> <td> 0.912</td> <td>   -0.020</td> <td>    0.018</td>\n</tr>\n<tr>\n  <th>L1.eth_log</th>        <td>    0.0013</td> <td>    0.002</td> <td>    0.540</td> <td> 0.589</td> <td>   -0.003</td> <td>    0.006</td>\n</tr>\n<tr>\n  <th>L1.ggl_trends_log</th> <td>    0.0023</td> <td>    0.002</td> <td>    0.968</td> <td> 0.333</td> <td>   -0.002</td> <td>    0.007</td>\n</tr>\n<tr>\n  <th>L1.wiki_views_log</th> <td>    0.0015</td> <td>    0.001</td> <td>    1.213</td> <td> 0.225</td> <td>   -0.001</td> <td>    0.004</td>\n</tr>\n<tr>\n  <th>L1.usd_eur_log</th>    <td>   -0.0175</td> <td>    0.035</td> <td>   -0.496</td> <td> 0.620</td> <td>   -0.087</td> <td>    0.052</td>\n</tr>\n<tr>\n  <th>L1.oil_wti_log</th>    <td>    0.0179</td> <td>    0.008</td> <td>    2.350</td> <td> 0.019</td> <td>    0.003</td> <td>    0.033</td>\n</tr>\n<tr>\n  <th>L1.gold_log</th>       <td>    0.0026</td> <td>    0.024</td> <td>    0.110</td> <td> 0.913</td> <td>   -0.044</td> <td>    0.049</td>\n</tr>\n<tr>\n  <th>L1.sp500_log</th>      <td>   -0.0276</td> <td>    0.022</td> <td>   -1.281</td> <td> 0.200</td> <td>   -0.070</td> <td>    0.015</td>\n</tr>\n<tr>\n  <th>L1.sse_log</th>        <td>    0.0198</td> <td>    0.014</td> <td>    1.460</td> <td> 0.144</td> <td>   -0.007</td> <td>    0.046</td>\n</tr>\n<tr>\n  <th>L1.ffd_rate_log</th>   <td>    0.0018</td> <td>    0.003</td> <td>    0.700</td> <td> 0.484</td> <td>   -0.003</td> <td>    0.007</td>\n</tr>\n<tr>\n  <th>L2.btc_log</th>        <td>   -0.0041</td> <td>    0.004</td> <td>   -1.018</td> <td> 0.309</td> <td>   -0.012</td> <td>    0.004</td>\n</tr>\n<tr>\n  <th>L2.tot_btc_log</th>    <td>    0.3394</td> <td>    0.931</td> <td>    0.364</td> <td> 0.716</td> <td>   -1.486</td> <td>    2.164</td>\n</tr>\n<tr>\n  <th>L2.hs_rate_log</th>    <td>   -0.0069</td> <td>    0.010</td> <td>   -0.713</td> <td> 0.476</td> <td>   -0.026</td> <td>    0.012</td>\n</tr>\n<tr>\n  <th>L2.eth_log</th>        <td>    0.0031</td> <td>    0.002</td> <td>    1.336</td> <td> 0.182</td> <td>   -0.001</td> <td>    0.008</td>\n</tr>\n<tr>\n  <th>L2.ggl_trends_log</th> <td>    0.0018</td> <td>    0.002</td> <td>    0.764</td> <td> 0.445</td> <td>   -0.003</td> <td>    0.007</td>\n</tr>\n<tr>\n  <th>L2.wiki_views_log</th> <td>    0.0017</td> <td>    0.001</td> <td>    1.390</td> <td> 0.164</td> <td>   -0.001</td> <td>    0.004</td>\n</tr>\n<tr>\n  <th>L2.usd_eur_log</th>    <td>   -0.0177</td> <td>    0.036</td> <td>   -0.495</td> <td> 0.620</td> <td>   -0.088</td> <td>    0.052</td>\n</tr>\n<tr>\n  <th>L2.oil_wti_log</th>    <td>   -0.0021</td> <td>    0.008</td> <td>   -0.271</td> <td> 0.787</td> <td>   -0.017</td> <td>    0.013</td>\n</tr>\n<tr>\n  <th>L2.gold_log</th>       <td>    0.0061</td> <td>    0.024</td> <td>    0.259</td> <td> 0.796</td> <td>   -0.040</td> <td>    0.052</td>\n</tr>\n<tr>\n  <th>L2.sp500_log</th>      <td>   -0.0149</td> <td>    0.023</td> <td>   -0.662</td> <td> 0.508</td> <td>   -0.059</td> <td>    0.029</td>\n</tr>\n<tr>\n  <th>L2.sse_log</th>        <td>    0.0043</td> <td>    0.014</td> <td>    0.320</td> <td> 0.749</td> <td>   -0.022</td> <td>    0.031</td>\n</tr>\n<tr>\n  <th>L2.ffd_rate_log</th>   <td>    0.0060</td> <td>    0.003</td> <td>    2.163</td> <td> 0.031</td> <td>    0.001</td> <td>    0.011</td>\n</tr>\n<tr>\n  <th>L3.btc_log</th>        <td>    0.0047</td> <td>    0.004</td> <td>    1.171</td> <td> 0.242</td> <td>   -0.003</td> <td>    0.013</td>\n</tr>\n<tr>\n  <th>L3.tot_btc_log</th>    <td>    1.1970</td> <td>    0.925</td> <td>    1.294</td> <td> 0.196</td> <td>   -0.616</td> <td>    3.010</td>\n</tr>\n<tr>\n  <th>L3.hs_rate_log</th>    <td>    0.0025</td> <td>    0.010</td> <td>    0.259</td> <td> 0.796</td> <td>   -0.016</td> <td>    0.021</td>\n</tr>\n<tr>\n  <th>L3.eth_log</th>        <td>   -0.0041</td> <td>    0.002</td> <td>   -1.783</td> <td> 0.075</td> <td>   -0.009</td> <td>    0.000</td>\n</tr>\n<tr>\n  <th>L3.ggl_trends_log</th> <td>   -0.0051</td> <td>    0.002</td> <td>   -2.113</td> <td> 0.035</td> <td>   -0.010</td> <td>   -0.000</td>\n</tr>\n<tr>\n  <th>L3.wiki_views_log</th> <td>    0.0004</td> <td>    0.001</td> <td>    0.310</td> <td> 0.757</td> <td>   -0.002</td> <td>    0.003</td>\n</tr>\n<tr>\n  <th>L3.usd_eur_log</th>    <td>   -0.0486</td> <td>    0.036</td> <td>   -1.366</td> <td> 0.172</td> <td>   -0.118</td> <td>    0.021</td>\n</tr>\n<tr>\n  <th>L3.oil_wti_log</th>    <td>   -0.0087</td> <td>    0.008</td> <td>   -1.140</td> <td> 0.254</td> <td>   -0.024</td> <td>    0.006</td>\n</tr>\n<tr>\n  <th>L3.gold_log</th>       <td>    0.0313</td> <td>    0.023</td> <td>    1.336</td> <td> 0.181</td> <td>   -0.015</td> <td>    0.077</td>\n</tr>\n<tr>\n  <th>L3.sp500_log</th>      <td>    0.0023</td> <td>    0.022</td> <td>    0.106</td> <td> 0.916</td> <td>   -0.041</td> <td>    0.046</td>\n</tr>\n<tr>\n  <th>L3.sse_log</th>        <td>    0.0095</td> <td>    0.013</td> <td>    0.705</td> <td> 0.481</td> <td>   -0.017</td> <td>    0.036</td>\n</tr>\n<tr>\n  <th>L3.ffd_rate_log</th>   <td>   -0.0027</td> <td>    0.003</td> <td>   -0.956</td> <td> 0.339</td> <td>   -0.008</td> <td>    0.003</td>\n</tr>\n<tr>\n  <th>L4.btc_log</th>        <td>    0.0004</td> <td>    0.004</td> <td>    0.107</td> <td> 0.915</td> <td>   -0.008</td> <td>    0.008</td>\n</tr>\n<tr>\n  <th>L4.tot_btc_log</th>    <td>    0.5675</td> <td>    0.924</td> <td>    0.614</td> <td> 0.539</td> <td>   -1.243</td> <td>    2.378</td>\n</tr>\n<tr>\n  <th>L4.hs_rate_log</th>    <td>   -0.0153</td> <td>    0.010</td> <td>   -1.597</td> <td> 0.110</td> <td>   -0.034</td> <td>    0.003</td>\n</tr>\n<tr>\n  <th>L4.eth_log</th>        <td>   -0.0001</td> <td>    0.002</td> <td>   -0.063</td> <td> 0.950</td> <td>   -0.005</td> <td>    0.004</td>\n</tr>\n<tr>\n  <th>L4.ggl_trends_log</th> <td>   -0.0050</td> <td>    0.002</td> <td>   -2.065</td> <td> 0.039</td> <td>   -0.010</td> <td>   -0.000</td>\n</tr>\n<tr>\n  <th>L4.wiki_views_log</th> <td>    0.0018</td> <td>    0.001</td> <td>    1.696</td> <td> 0.090</td> <td>   -0.000</td> <td>    0.004</td>\n</tr>\n<tr>\n  <th>L4.usd_eur_log</th>    <td>   -0.0538</td> <td>    0.036</td> <td>   -1.511</td> <td> 0.131</td> <td>   -0.124</td> <td>    0.016</td>\n</tr>\n<tr>\n  <th>L4.oil_wti_log</th>    <td>    0.0105</td> <td>    0.008</td> <td>    1.368</td> <td> 0.171</td> <td>   -0.005</td> <td>    0.025</td>\n</tr>\n<tr>\n  <th>L4.gold_log</th>       <td>   -0.0091</td> <td>    0.023</td> <td>   -0.389</td> <td> 0.697</td> <td>   -0.055</td> <td>    0.037</td>\n</tr>\n<tr>\n  <th>L4.sp500_log</th>      <td>   -0.0239</td> <td>    0.022</td> <td>   -1.086</td> <td> 0.278</td> <td>   -0.067</td> <td>    0.019</td>\n</tr>\n<tr>\n  <th>L4.sse_log</th>        <td>   -0.0259</td> <td>    0.013</td> <td>   -1.961</td> <td> 0.050</td> <td>   -0.052</td> <td>-1.39e-05</td>\n</tr>\n<tr>\n  <th>L4.ffd_rate_log</th>   <td>   -0.0067</td> <td>    0.003</td> <td>   -2.461</td> <td> 0.014</td> <td>   -0.012</td> <td>   -0.001</td>\n</tr>\n<tr>\n  <th>L5.btc_log</th>        <td>   -0.0036</td> <td>    0.004</td> <td>   -0.900</td> <td> 0.368</td> <td>   -0.011</td> <td>    0.004</td>\n</tr>\n<tr>\n  <th>L5.tot_btc_log</th>    <td>    0.5307</td> <td>    0.899</td> <td>    0.590</td> <td> 0.555</td> <td>   -1.232</td> <td>    2.293</td>\n</tr>\n<tr>\n  <th>L5.hs_rate_log</th>    <td>    0.0028</td> <td>    0.009</td> <td>    0.301</td> <td> 0.764</td> <td>   -0.015</td> <td>    0.021</td>\n</tr>\n<tr>\n  <th>L5.eth_log</th>        <td>   -0.0023</td> <td>    0.002</td> <td>   -1.156</td> <td> 0.248</td> <td>   -0.006</td> <td>    0.002</td>\n</tr>\n<tr>\n  <th>L5.ggl_trends_log</th> <td>   -0.0006</td> <td>    0.002</td> <td>   -0.228</td> <td> 0.820</td> <td>   -0.005</td> <td>    0.004</td>\n</tr>\n<tr>\n  <th>L5.wiki_views_log</th> <td>    0.0008</td> <td>    0.001</td> <td>    0.804</td> <td> 0.421</td> <td>   -0.001</td> <td>    0.003</td>\n</tr>\n<tr>\n  <th>L5.usd_eur_log</th>    <td>   -0.0603</td> <td>    0.036</td> <td>   -1.693</td> <td> 0.091</td> <td>   -0.130</td> <td>    0.010</td>\n</tr>\n<tr>\n  <th>L5.oil_wti_log</th>    <td>   -0.0123</td> <td>    0.008</td> <td>   -1.601</td> <td> 0.109</td> <td>   -0.027</td> <td>    0.003</td>\n</tr>\n<tr>\n  <th>L5.gold_log</th>       <td>    0.0497</td> <td>    0.023</td> <td>    2.174</td> <td> 0.030</td> <td>    0.005</td> <td>    0.094</td>\n</tr>\n<tr>\n  <th>L5.sp500_log</th>      <td>   -0.0085</td> <td>    0.021</td> <td>   -0.398</td> <td> 0.691</td> <td>   -0.051</td> <td>    0.034</td>\n</tr>\n<tr>\n  <th>L5.sse_log</th>        <td>    0.0069</td> <td>    0.013</td> <td>    0.547</td> <td> 0.584</td> <td>   -0.018</td> <td>    0.032</td>\n</tr>\n<tr>\n  <th>L5.ffd_rate_log</th>   <td>   -0.0015</td> <td>    0.002</td> <td>   -0.629</td> <td> 0.529</td> <td>   -0.006</td> <td>    0.003</td>\n</tr>\n</table>\n<table class=\"simpletable\">\n<caption>Det. terms outside the coint. relation & lagged endog. parameters for equation oil_wti_log</caption>\n<tr>\n          <td></td>             <th>coef</th>     <th>std err</th>      <th>z</th>      <th>P>|z|</th>  <th>[0.025</th>    <th>0.975]</th>  \n</tr>\n<tr>\n  <th>L1.btc_log</th>        <td>    0.0284</td> <td>    0.018</td> <td>    1.556</td> <td> 0.120</td> <td>   -0.007</td> <td>    0.064</td>\n</tr>\n<tr>\n  <th>L1.tot_btc_log</th>    <td>    8.0493</td> <td>    4.235</td> <td>    1.901</td> <td> 0.057</td> <td>   -0.252</td> <td>   16.350</td>\n</tr>\n<tr>\n  <th>L1.hs_rate_log</th>    <td>    0.0221</td> <td>    0.043</td> <td>    0.509</td> <td> 0.611</td> <td>   -0.063</td> <td>    0.107</td>\n</tr>\n<tr>\n  <th>L1.eth_log</th>        <td>   -0.0034</td> <td>    0.011</td> <td>   -0.315</td> <td> 0.753</td> <td>   -0.024</td> <td>    0.018</td>\n</tr>\n<tr>\n  <th>L1.ggl_trends_log</th> <td>    0.0119</td> <td>    0.011</td> <td>    1.083</td> <td> 0.279</td> <td>   -0.010</td> <td>    0.033</td>\n</tr>\n<tr>\n  <th>L1.wiki_views_log</th> <td>   -0.0098</td> <td>    0.006</td> <td>   -1.738</td> <td> 0.082</td> <td>   -0.021</td> <td>    0.001</td>\n</tr>\n<tr>\n  <th>L1.usd_eur_log</th>    <td>   -0.2560</td> <td>    0.161</td> <td>   -1.586</td> <td> 0.113</td> <td>   -0.572</td> <td>    0.060</td>\n</tr>\n<tr>\n  <th>L1.oil_wti_log</th>    <td>   -0.0374</td> <td>    0.035</td> <td>   -1.071</td> <td> 0.284</td> <td>   -0.106</td> <td>    0.031</td>\n</tr>\n<tr>\n  <th>L1.gold_log</th>       <td>    0.0154</td> <td>    0.108</td> <td>    0.142</td> <td> 0.887</td> <td>   -0.197</td> <td>    0.228</td>\n</tr>\n<tr>\n  <th>L1.sp500_log</th>      <td>    0.2106</td> <td>    0.099</td> <td>    2.133</td> <td> 0.033</td> <td>    0.017</td> <td>    0.404</td>\n</tr>\n<tr>\n  <th>L1.sse_log</th>        <td>   -0.0232</td> <td>    0.062</td> <td>   -0.373</td> <td> 0.709</td> <td>   -0.145</td> <td>    0.099</td>\n</tr>\n<tr>\n  <th>L1.ffd_rate_log</th>   <td>   -0.0086</td> <td>    0.012</td> <td>   -0.740</td> <td> 0.460</td> <td>   -0.031</td> <td>    0.014</td>\n</tr>\n<tr>\n  <th>L2.btc_log</th>        <td>    0.0107</td> <td>    0.018</td> <td>    0.587</td> <td> 0.557</td> <td>   -0.025</td> <td>    0.047</td>\n</tr>\n<tr>\n  <th>L2.tot_btc_log</th>    <td>   -3.3778</td> <td>    4.267</td> <td>   -0.792</td> <td> 0.429</td> <td>  -11.742</td> <td>    4.986</td>\n</tr>\n<tr>\n  <th>L2.hs_rate_log</th>    <td>    0.0062</td> <td>    0.044</td> <td>    0.140</td> <td> 0.888</td> <td>   -0.081</td> <td>    0.093</td>\n</tr>\n<tr>\n  <th>L2.eth_log</th>        <td>    0.0148</td> <td>    0.011</td> <td>    1.401</td> <td> 0.161</td> <td>   -0.006</td> <td>    0.036</td>\n</tr>\n<tr>\n  <th>L2.ggl_trends_log</th> <td>    0.0184</td> <td>    0.011</td> <td>    1.674</td> <td> 0.094</td> <td>   -0.003</td> <td>    0.040</td>\n</tr>\n<tr>\n  <th>L2.wiki_views_log</th> <td>   -0.0036</td> <td>    0.005</td> <td>   -0.662</td> <td> 0.508</td> <td>   -0.014</td> <td>    0.007</td>\n</tr>\n<tr>\n  <th>L2.usd_eur_log</th>    <td>   -0.2707</td> <td>    0.164</td> <td>   -1.653</td> <td> 0.098</td> <td>   -0.592</td> <td>    0.050</td>\n</tr>\n<tr>\n  <th>L2.oil_wti_log</th>    <td>   -0.0353</td> <td>    0.035</td> <td>   -1.015</td> <td> 0.310</td> <td>   -0.103</td> <td>    0.033</td>\n</tr>\n<tr>\n  <th>L2.gold_log</th>       <td>    0.1525</td> <td>    0.108</td> <td>    1.412</td> <td> 0.158</td> <td>   -0.059</td> <td>    0.364</td>\n</tr>\n<tr>\n  <th>L2.sp500_log</th>      <td>   -0.0186</td> <td>    0.103</td> <td>   -0.180</td> <td> 0.857</td> <td>   -0.221</td> <td>    0.184</td>\n</tr>\n<tr>\n  <th>L2.sse_log</th>        <td>    0.0010</td> <td>    0.062</td> <td>    0.016</td> <td> 0.987</td> <td>   -0.121</td> <td>    0.123</td>\n</tr>\n<tr>\n  <th>L2.ffd_rate_log</th>   <td>    0.0109</td> <td>    0.013</td> <td>    0.853</td> <td> 0.394</td> <td>   -0.014</td> <td>    0.036</td>\n</tr>\n<tr>\n  <th>L3.btc_log</th>        <td>    0.0194</td> <td>    0.018</td> <td>    1.053</td> <td> 0.292</td> <td>   -0.017</td> <td>    0.056</td>\n</tr>\n<tr>\n  <th>L3.tot_btc_log</th>    <td>   -0.0895</td> <td>    4.240</td> <td>   -0.021</td> <td> 0.983</td> <td>   -8.400</td> <td>    8.221</td>\n</tr>\n<tr>\n  <th>L3.hs_rate_log</th>    <td>    0.0224</td> <td>    0.044</td> <td>    0.509</td> <td> 0.611</td> <td>   -0.064</td> <td>    0.109</td>\n</tr>\n<tr>\n  <th>L3.eth_log</th>        <td>   -0.0325</td> <td>    0.011</td> <td>   -3.063</td> <td> 0.002</td> <td>   -0.053</td> <td>   -0.012</td>\n</tr>\n<tr>\n  <th>L3.ggl_trends_log</th> <td>    0.0230</td> <td>    0.011</td> <td>    2.079</td> <td> 0.038</td> <td>    0.001</td> <td>    0.045</td>\n</tr>\n<tr>\n  <th>L3.wiki_views_log</th> <td>   -0.0035</td> <td>    0.005</td> <td>   -0.679</td> <td> 0.497</td> <td>   -0.014</td> <td>    0.007</td>\n</tr>\n<tr>\n  <th>L3.usd_eur_log</th>    <td>   -0.1911</td> <td>    0.163</td> <td>   -1.171</td> <td> 0.242</td> <td>   -0.511</td> <td>    0.129</td>\n</tr>\n<tr>\n  <th>L3.oil_wti_log</th>    <td>   -0.0328</td> <td>    0.035</td> <td>   -0.940</td> <td> 0.347</td> <td>   -0.101</td> <td>    0.036</td>\n</tr>\n<tr>\n  <th>L3.gold_log</th>       <td>   -0.0846</td> <td>    0.107</td> <td>   -0.787</td> <td> 0.431</td> <td>   -0.295</td> <td>    0.126</td>\n</tr>\n<tr>\n  <th>L3.sp500_log</th>      <td>    0.1035</td> <td>    0.101</td> <td>    1.023</td> <td> 0.306</td> <td>   -0.095</td> <td>    0.302</td>\n</tr>\n<tr>\n  <th>L3.sse_log</th>        <td>    0.0830</td> <td>    0.062</td> <td>    1.346</td> <td> 0.178</td> <td>   -0.038</td> <td>    0.204</td>\n</tr>\n<tr>\n  <th>L3.ffd_rate_log</th>   <td>    0.0126</td> <td>    0.013</td> <td>    0.988</td> <td> 0.323</td> <td>   -0.012</td> <td>    0.038</td>\n</tr>\n<tr>\n  <th>L4.btc_log</th>        <td>   -0.0162</td> <td>    0.019</td> <td>   -0.871</td> <td> 0.384</td> <td>   -0.053</td> <td>    0.020</td>\n</tr>\n<tr>\n  <th>L4.tot_btc_log</th>    <td>    1.3408</td> <td>    4.233</td> <td>    0.317</td> <td> 0.751</td> <td>   -6.956</td> <td>    9.638</td>\n</tr>\n<tr>\n  <th>L4.hs_rate_log</th>    <td>    0.0110</td> <td>    0.044</td> <td>    0.249</td> <td> 0.803</td> <td>   -0.075</td> <td>    0.097</td>\n</tr>\n<tr>\n  <th>L4.eth_log</th>        <td>    0.0307</td> <td>    0.011</td> <td>    2.923</td> <td> 0.003</td> <td>    0.010</td> <td>    0.051</td>\n</tr>\n<tr>\n  <th>L4.ggl_trends_log</th> <td>   -0.0205</td> <td>    0.011</td> <td>   -1.836</td> <td> 0.066</td> <td>   -0.042</td> <td>    0.001</td>\n</tr>\n<tr>\n  <th>L4.wiki_views_log</th> <td>    0.0019</td> <td>    0.005</td> <td>    0.383</td> <td> 0.702</td> <td>   -0.008</td> <td>    0.012</td>\n</tr>\n<tr>\n  <th>L4.usd_eur_log</th>    <td>    0.2814</td> <td>    0.163</td> <td>    1.724</td> <td> 0.085</td> <td>   -0.039</td> <td>    0.601</td>\n</tr>\n<tr>\n  <th>L4.oil_wti_log</th>    <td>    0.0695</td> <td>    0.035</td> <td>    1.986</td> <td> 0.047</td> <td>    0.001</td> <td>    0.138</td>\n</tr>\n<tr>\n  <th>L4.gold_log</th>       <td>   -0.0675</td> <td>    0.108</td> <td>   -0.627</td> <td> 0.530</td> <td>   -0.278</td> <td>    0.143</td>\n</tr>\n<tr>\n  <th>L4.sp500_log</th>      <td>   -0.1358</td> <td>    0.101</td> <td>   -1.345</td> <td> 0.179</td> <td>   -0.334</td> <td>    0.062</td>\n</tr>\n<tr>\n  <th>L4.sse_log</th>        <td>   -0.0555</td> <td>    0.061</td> <td>   -0.916</td> <td> 0.360</td> <td>   -0.174</td> <td>    0.063</td>\n</tr>\n<tr>\n  <th>L4.ffd_rate_log</th>   <td>    0.0159</td> <td>    0.012</td> <td>    1.281</td> <td> 0.200</td> <td>   -0.008</td> <td>    0.040</td>\n</tr>\n<tr>\n  <th>L5.btc_log</th>        <td>    0.0159</td> <td>    0.018</td> <td>    0.870</td> <td> 0.384</td> <td>   -0.020</td> <td>    0.052</td>\n</tr>\n<tr>\n  <th>L5.tot_btc_log</th>    <td>   -1.4767</td> <td>    4.120</td> <td>   -0.358</td> <td> 0.720</td> <td>   -9.553</td> <td>    6.599</td>\n</tr>\n<tr>\n  <th>L5.hs_rate_log</th>    <td>   -0.0207</td> <td>    0.043</td> <td>   -0.483</td> <td> 0.629</td> <td>   -0.105</td> <td>    0.063</td>\n</tr>\n<tr>\n  <th>L5.eth_log</th>        <td>    0.0055</td> <td>    0.009</td> <td>    0.610</td> <td> 0.542</td> <td>   -0.012</td> <td>    0.023</td>\n</tr>\n<tr>\n  <th>L5.ggl_trends_log</th> <td>   -0.0273</td> <td>    0.011</td> <td>   -2.415</td> <td> 0.016</td> <td>   -0.049</td> <td>   -0.005</td>\n</tr>\n<tr>\n  <th>L5.wiki_views_log</th> <td>   -0.0037</td> <td>    0.005</td> <td>   -0.804</td> <td> 0.422</td> <td>   -0.013</td> <td>    0.005</td>\n</tr>\n<tr>\n  <th>L5.usd_eur_log</th>    <td>   -0.2657</td> <td>    0.163</td> <td>   -1.626</td> <td> 0.104</td> <td>   -0.586</td> <td>    0.055</td>\n</tr>\n<tr>\n  <th>L5.oil_wti_log</th>    <td>    0.0957</td> <td>    0.035</td> <td>    2.720</td> <td> 0.007</td> <td>    0.027</td> <td>    0.165</td>\n</tr>\n<tr>\n  <th>L5.gold_log</th>       <td>    0.0266</td> <td>    0.105</td> <td>    0.254</td> <td> 0.800</td> <td>   -0.179</td> <td>    0.232</td>\n</tr>\n<tr>\n  <th>L5.sp500_log</th>      <td>   -0.2266</td> <td>    0.098</td> <td>   -2.301</td> <td> 0.021</td> <td>   -0.420</td> <td>   -0.034</td>\n</tr>\n<tr>\n  <th>L5.sse_log</th>        <td>   -0.1851</td> <td>    0.058</td> <td>   -3.210</td> <td> 0.001</td> <td>   -0.298</td> <td>   -0.072</td>\n</tr>\n<tr>\n  <th>L5.ffd_rate_log</th>   <td>    0.0052</td> <td>    0.011</td> <td>    0.460</td> <td> 0.646</td> <td>   -0.017</td> <td>    0.027</td>\n</tr>\n</table>\n<table class=\"simpletable\">\n<caption>Det. terms outside the coint. relation & lagged endog. parameters for equation gold_log</caption>\n<tr>\n          <td></td>             <th>coef</th>     <th>std err</th>      <th>z</th>      <th>P>|z|</th>  <th>[0.025</th>    <th>0.975]</th>  \n</tr>\n<tr>\n  <th>L1.btc_log</th>        <td>   -0.0091</td> <td>    0.006</td> <td>   -1.503</td> <td> 0.133</td> <td>   -0.021</td> <td>    0.003</td>\n</tr>\n<tr>\n  <th>L1.tot_btc_log</th>    <td>    2.0158</td> <td>    1.407</td> <td>    1.433</td> <td> 0.152</td> <td>   -0.742</td> <td>    4.774</td>\n</tr>\n<tr>\n  <th>L1.hs_rate_log</th>    <td>   -0.0006</td> <td>    0.014</td> <td>   -0.044</td> <td> 0.965</td> <td>   -0.029</td> <td>    0.028</td>\n</tr>\n<tr>\n  <th>L1.eth_log</th>        <td>    0.0029</td> <td>    0.004</td> <td>    0.802</td> <td> 0.423</td> <td>   -0.004</td> <td>    0.010</td>\n</tr>\n<tr>\n  <th>L1.ggl_trends_log</th> <td>   -0.0027</td> <td>    0.004</td> <td>   -0.749</td> <td> 0.454</td> <td>   -0.010</td> <td>    0.004</td>\n</tr>\n<tr>\n  <th>L1.wiki_views_log</th> <td>    0.0010</td> <td>    0.002</td> <td>    0.512</td> <td> 0.609</td> <td>   -0.003</td> <td>    0.005</td>\n</tr>\n<tr>\n  <th>L1.usd_eur_log</th>    <td>    0.3145</td> <td>    0.054</td> <td>    5.864</td> <td> 0.000</td> <td>    0.209</td> <td>    0.420</td>\n</tr>\n<tr>\n  <th>L1.oil_wti_log</th>    <td>    0.0222</td> <td>    0.012</td> <td>    1.913</td> <td> 0.056</td> <td>   -0.001</td> <td>    0.045</td>\n</tr>\n<tr>\n  <th>L1.gold_log</th>       <td>   -0.0653</td> <td>    0.036</td> <td>   -1.815</td> <td> 0.069</td> <td>   -0.136</td> <td>    0.005</td>\n</tr>\n<tr>\n  <th>L1.sp500_log</th>      <td>   -0.0748</td> <td>    0.033</td> <td>   -2.281</td> <td> 0.023</td> <td>   -0.139</td> <td>   -0.011</td>\n</tr>\n<tr>\n  <th>L1.sse_log</th>        <td>    0.0407</td> <td>    0.021</td> <td>    1.969</td> <td> 0.049</td> <td>    0.000</td> <td>    0.081</td>\n</tr>\n<tr>\n  <th>L1.ffd_rate_log</th>   <td>   -0.0043</td> <td>    0.004</td> <td>   -1.121</td> <td> 0.262</td> <td>   -0.012</td> <td>    0.003</td>\n</tr>\n<tr>\n  <th>L2.btc_log</th>        <td>    0.0012</td> <td>    0.006</td> <td>    0.192</td> <td> 0.848</td> <td>   -0.011</td> <td>    0.013</td>\n</tr>\n<tr>\n  <th>L2.tot_btc_log</th>    <td>    0.5884</td> <td>    1.418</td> <td>    0.415</td> <td> 0.678</td> <td>   -2.190</td> <td>    3.367</td>\n</tr>\n<tr>\n  <th>L2.hs_rate_log</th>    <td>   -0.0116</td> <td>    0.015</td> <td>   -0.785</td> <td> 0.432</td> <td>   -0.040</td> <td>    0.017</td>\n</tr>\n<tr>\n  <th>L2.eth_log</th>        <td>    0.0001</td> <td>    0.004</td> <td>    0.033</td> <td> 0.974</td> <td>   -0.007</td> <td>    0.007</td>\n</tr>\n<tr>\n  <th>L2.ggl_trends_log</th> <td>    0.0031</td> <td>    0.004</td> <td>    0.840</td> <td> 0.401</td> <td>   -0.004</td> <td>    0.010</td>\n</tr>\n<tr>\n  <th>L2.wiki_views_log</th> <td>    0.0016</td> <td>    0.002</td> <td>    0.880</td> <td> 0.379</td> <td>   -0.002</td> <td>    0.005</td>\n</tr>\n<tr>\n  <th>L2.usd_eur_log</th>    <td>    0.0546</td> <td>    0.054</td> <td>    1.004</td> <td> 0.316</td> <td>   -0.052</td> <td>    0.161</td>\n</tr>\n<tr>\n  <th>L2.oil_wti_log</th>    <td>   -0.0006</td> <td>    0.012</td> <td>   -0.053</td> <td> 0.958</td> <td>   -0.023</td> <td>    0.022</td>\n</tr>\n<tr>\n  <th>L2.gold_log</th>       <td>   -0.0856</td> <td>    0.036</td> <td>   -2.386</td> <td> 0.017</td> <td>   -0.156</td> <td>   -0.015</td>\n</tr>\n<tr>\n  <th>L2.sp500_log</th>      <td>    0.0081</td> <td>    0.034</td> <td>    0.236</td> <td> 0.813</td> <td>   -0.059</td> <td>    0.075</td>\n</tr>\n<tr>\n  <th>L2.sse_log</th>        <td>    0.0156</td> <td>    0.021</td> <td>    0.754</td> <td> 0.451</td> <td>   -0.025</td> <td>    0.056</td>\n</tr>\n<tr>\n  <th>L2.ffd_rate_log</th>   <td>   -0.0017</td> <td>    0.004</td> <td>   -0.399</td> <td> 0.690</td> <td>   -0.010</td> <td>    0.007</td>\n</tr>\n<tr>\n  <th>L3.btc_log</th>        <td>   -0.0145</td> <td>    0.006</td> <td>   -2.360</td> <td> 0.018</td> <td>   -0.026</td> <td>   -0.002</td>\n</tr>\n<tr>\n  <th>L3.tot_btc_log</th>    <td>    2.7779</td> <td>    1.409</td> <td>    1.972</td> <td> 0.049</td> <td>    0.017</td> <td>    5.539</td>\n</tr>\n<tr>\n  <th>L3.hs_rate_log</th>    <td>-1.363e-05</td> <td>    0.015</td> <td>   -0.001</td> <td> 0.999</td> <td>   -0.029</td> <td>    0.029</td>\n</tr>\n<tr>\n  <th>L3.eth_log</th>        <td>    0.0067</td> <td>    0.004</td> <td>    1.907</td> <td> 0.057</td> <td>   -0.000</td> <td>    0.014</td>\n</tr>\n<tr>\n  <th>L3.ggl_trends_log</th> <td>   -0.0019</td> <td>    0.004</td> <td>   -0.511</td> <td> 0.609</td> <td>   -0.009</td> <td>    0.005</td>\n</tr>\n<tr>\n  <th>L3.wiki_views_log</th> <td>   -0.0009</td> <td>    0.002</td> <td>   -0.498</td> <td> 0.619</td> <td>   -0.004</td> <td>    0.003</td>\n</tr>\n<tr>\n  <th>L3.usd_eur_log</th>    <td>    0.0152</td> <td>    0.054</td> <td>    0.281</td> <td> 0.779</td> <td>   -0.091</td> <td>    0.121</td>\n</tr>\n<tr>\n  <th>L3.oil_wti_log</th>    <td>   -0.0188</td> <td>    0.012</td> <td>   -1.621</td> <td> 0.105</td> <td>   -0.042</td> <td>    0.004</td>\n</tr>\n<tr>\n  <th>L3.gold_log</th>       <td>    0.0580</td> <td>    0.036</td> <td>    1.625</td> <td> 0.104</td> <td>   -0.012</td> <td>    0.128</td>\n</tr>\n<tr>\n  <th>L3.sp500_log</th>      <td>   -0.0146</td> <td>    0.034</td> <td>   -0.433</td> <td> 0.665</td> <td>   -0.080</td> <td>    0.051</td>\n</tr>\n<tr>\n  <th>L3.sse_log</th>        <td>    0.0062</td> <td>    0.021</td> <td>    0.304</td> <td> 0.761</td> <td>   -0.034</td> <td>    0.046</td>\n</tr>\n<tr>\n  <th>L3.ffd_rate_log</th>   <td>    0.0006</td> <td>    0.004</td> <td>    0.131</td> <td> 0.896</td> <td>   -0.008</td> <td>    0.009</td>\n</tr>\n<tr>\n  <th>L4.btc_log</th>        <td>   -0.0008</td> <td>    0.006</td> <td>   -0.128</td> <td> 0.898</td> <td>   -0.013</td> <td>    0.011</td>\n</tr>\n<tr>\n  <th>L4.tot_btc_log</th>    <td>    1.8756</td> <td>    1.406</td> <td>    1.334</td> <td> 0.182</td> <td>   -0.881</td> <td>    4.632</td>\n</tr>\n<tr>\n  <th>L4.hs_rate_log</th>    <td>   -0.0204</td> <td>    0.015</td> <td>   -1.393</td> <td> 0.163</td> <td>   -0.049</td> <td>    0.008</td>\n</tr>\n<tr>\n  <th>L4.eth_log</th>        <td>   -0.0033</td> <td>    0.003</td> <td>   -0.940</td> <td> 0.347</td> <td>   -0.010</td> <td>    0.004</td>\n</tr>\n<tr>\n  <th>L4.ggl_trends_log</th> <td>    0.0048</td> <td>    0.004</td> <td>    1.278</td> <td> 0.201</td> <td>   -0.003</td> <td>    0.012</td>\n</tr>\n<tr>\n  <th>L4.wiki_views_log</th> <td>   -0.0013</td> <td>    0.002</td> <td>   -0.806</td> <td> 0.420</td> <td>   -0.005</td> <td>    0.002</td>\n</tr>\n<tr>\n  <th>L4.usd_eur_log</th>    <td>   -0.0005</td> <td>    0.054</td> <td>   -0.010</td> <td> 0.992</td> <td>   -0.107</td> <td>    0.106</td>\n</tr>\n<tr>\n  <th>L4.oil_wti_log</th>    <td>    0.0042</td> <td>    0.012</td> <td>    0.364</td> <td> 0.716</td> <td>   -0.019</td> <td>    0.027</td>\n</tr>\n<tr>\n  <th>L4.gold_log</th>       <td>   -0.0083</td> <td>    0.036</td> <td>   -0.232</td> <td> 0.816</td> <td>   -0.078</td> <td>    0.062</td>\n</tr>\n<tr>\n  <th>L4.sp500_log</th>      <td>    0.0217</td> <td>    0.034</td> <td>    0.646</td> <td> 0.518</td> <td>   -0.044</td> <td>    0.087</td>\n</tr>\n<tr>\n  <th>L4.sse_log</th>        <td>    0.0086</td> <td>    0.020</td> <td>    0.424</td> <td> 0.671</td> <td>   -0.031</td> <td>    0.048</td>\n</tr>\n<tr>\n  <th>L4.ffd_rate_log</th>   <td>   -0.0062</td> <td>    0.004</td> <td>   -1.511</td> <td> 0.131</td> <td>   -0.014</td> <td>    0.002</td>\n</tr>\n<tr>\n  <th>L5.btc_log</th>        <td>    0.0040</td> <td>    0.006</td> <td>    0.655</td> <td> 0.513</td> <td>   -0.008</td> <td>    0.016</td>\n</tr>\n<tr>\n  <th>L5.tot_btc_log</th>    <td>    1.9412</td> <td>    1.369</td> <td>    1.418</td> <td> 0.156</td> <td>   -0.742</td> <td>    4.624</td>\n</tr>\n<tr>\n  <th>L5.hs_rate_log</th>    <td>    0.0059</td> <td>    0.014</td> <td>    0.418</td> <td> 0.676</td> <td>   -0.022</td> <td>    0.034</td>\n</tr>\n<tr>\n  <th>L5.eth_log</th>        <td>   -0.0057</td> <td>    0.003</td> <td>   -1.883</td> <td> 0.060</td> <td>   -0.012</td> <td>    0.000</td>\n</tr>\n<tr>\n  <th>L5.ggl_trends_log</th> <td>   -0.0039</td> <td>    0.004</td> <td>   -1.052</td> <td> 0.293</td> <td>   -0.011</td> <td>    0.003</td>\n</tr>\n<tr>\n  <th>L5.wiki_views_log</th> <td>   -0.0004</td> <td>    0.002</td> <td>   -0.234</td> <td> 0.815</td> <td>   -0.003</td> <td>    0.003</td>\n</tr>\n<tr>\n  <th>L5.usd_eur_log</th>    <td>    0.0327</td> <td>    0.054</td> <td>    0.603</td> <td> 0.547</td> <td>   -0.074</td> <td>    0.139</td>\n</tr>\n<tr>\n  <th>L5.oil_wti_log</th>    <td>   -0.0137</td> <td>    0.012</td> <td>   -1.172</td> <td> 0.241</td> <td>   -0.037</td> <td>    0.009</td>\n</tr>\n<tr>\n  <th>L5.gold_log</th>       <td>   -0.0527</td> <td>    0.035</td> <td>   -1.515</td> <td> 0.130</td> <td>   -0.121</td> <td>    0.015</td>\n</tr>\n<tr>\n  <th>L5.sp500_log</th>      <td>   -0.0120</td> <td>    0.033</td> <td>   -0.367</td> <td> 0.714</td> <td>   -0.076</td> <td>    0.052</td>\n</tr>\n<tr>\n  <th>L5.sse_log</th>        <td>   -0.0135</td> <td>    0.019</td> <td>   -0.707</td> <td> 0.479</td> <td>   -0.051</td> <td>    0.024</td>\n</tr>\n<tr>\n  <th>L5.ffd_rate_log</th>   <td>   -0.0031</td> <td>    0.004</td> <td>   -0.835</td> <td> 0.403</td> <td>   -0.010</td> <td>    0.004</td>\n</tr>\n</table>\n<table class=\"simpletable\">\n<caption>Det. terms outside the coint. relation & lagged endog. parameters for equation sp500_log</caption>\n<tr>\n          <td></td>             <th>coef</th>     <th>std err</th>      <th>z</th>      <th>P>|z|</th>  <th>[0.025</th>    <th>0.975]</th>  \n</tr>\n<tr>\n  <th>L1.btc_log</th>        <td>    0.0081</td> <td>    0.007</td> <td>    1.206</td> <td> 0.228</td> <td>   -0.005</td> <td>    0.021</td>\n</tr>\n<tr>\n  <th>L1.tot_btc_log</th>    <td>    1.6725</td> <td>    1.563</td> <td>    1.070</td> <td> 0.284</td> <td>   -1.390</td> <td>    4.735</td>\n</tr>\n<tr>\n  <th>L1.hs_rate_log</th>    <td>    0.0176</td> <td>    0.016</td> <td>    1.094</td> <td> 0.274</td> <td>   -0.014</td> <td>    0.049</td>\n</tr>\n<tr>\n  <th>L1.eth_log</th>        <td>    0.0022</td> <td>    0.004</td> <td>    0.556</td> <td> 0.578</td> <td>   -0.006</td> <td>    0.010</td>\n</tr>\n<tr>\n  <th>L1.ggl_trends_log</th> <td>   -0.0026</td> <td>    0.004</td> <td>   -0.652</td> <td> 0.515</td> <td>   -0.011</td> <td>    0.005</td>\n</tr>\n<tr>\n  <th>L1.wiki_views_log</th> <td>   -0.0026</td> <td>    0.002</td> <td>   -1.265</td> <td> 0.206</td> <td>   -0.007</td> <td>    0.001</td>\n</tr>\n<tr>\n  <th>L1.usd_eur_log</th>    <td>    0.1085</td> <td>    0.060</td> <td>    1.821</td> <td> 0.069</td> <td>   -0.008</td> <td>    0.225</td>\n</tr>\n<tr>\n  <th>L1.oil_wti_log</th>    <td>    0.0019</td> <td>    0.013</td> <td>    0.144</td> <td> 0.885</td> <td>   -0.023</td> <td>    0.027</td>\n</tr>\n<tr>\n  <th>L1.gold_log</th>       <td>   -0.0867</td> <td>    0.040</td> <td>   -2.170</td> <td> 0.030</td> <td>   -0.165</td> <td>   -0.008</td>\n</tr>\n<tr>\n  <th>L1.sp500_log</th>      <td>    0.0503</td> <td>    0.036</td> <td>    1.382</td> <td> 0.167</td> <td>   -0.021</td> <td>    0.122</td>\n</tr>\n<tr>\n  <th>L1.sse_log</th>        <td>   -0.0349</td> <td>    0.023</td> <td>   -1.522</td> <td> 0.128</td> <td>   -0.080</td> <td>    0.010</td>\n</tr>\n<tr>\n  <th>L1.ffd_rate_log</th>   <td>   -0.0100</td> <td>    0.004</td> <td>   -2.319</td> <td> 0.020</td> <td>   -0.018</td> <td>   -0.002</td>\n</tr>\n<tr>\n  <th>L2.btc_log</th>        <td>   -0.0009</td> <td>    0.007</td> <td>   -0.128</td> <td> 0.898</td> <td>   -0.014</td> <td>    0.012</td>\n</tr>\n<tr>\n  <th>L2.tot_btc_log</th>    <td>    1.1521</td> <td>    1.575</td> <td>    0.732</td> <td> 0.464</td> <td>   -1.934</td> <td>    4.238</td>\n</tr>\n<tr>\n  <th>L2.hs_rate_log</th>    <td>   -0.0162</td> <td>    0.016</td> <td>   -0.993</td> <td> 0.321</td> <td>   -0.048</td> <td>    0.016</td>\n</tr>\n<tr>\n  <th>L2.eth_log</th>        <td>   -0.0030</td> <td>    0.004</td> <td>   -0.760</td> <td> 0.447</td> <td>   -0.011</td> <td>    0.005</td>\n</tr>\n<tr>\n  <th>L2.ggl_trends_log</th> <td>   -0.0040</td> <td>    0.004</td> <td>   -0.983</td> <td> 0.326</td> <td>   -0.012</td> <td>    0.004</td>\n</tr>\n<tr>\n  <th>L2.wiki_views_log</th> <td>   -0.0047</td> <td>    0.002</td> <td>   -2.336</td> <td> 0.019</td> <td>   -0.009</td> <td>   -0.001</td>\n</tr>\n<tr>\n  <th>L2.usd_eur_log</th>    <td>    0.0179</td> <td>    0.060</td> <td>    0.295</td> <td> 0.768</td> <td>   -0.101</td> <td>    0.136</td>\n</tr>\n<tr>\n  <th>L2.oil_wti_log</th>    <td>   -0.0199</td> <td>    0.013</td> <td>   -1.549</td> <td> 0.121</td> <td>   -0.045</td> <td>    0.005</td>\n</tr>\n<tr>\n  <th>L2.gold_log</th>       <td>   -0.0029</td> <td>    0.040</td> <td>   -0.072</td> <td> 0.942</td> <td>   -0.081</td> <td>    0.075</td>\n</tr>\n<tr>\n  <th>L2.sp500_log</th>      <td>    0.0109</td> <td>    0.038</td> <td>    0.286</td> <td> 0.775</td> <td>   -0.064</td> <td>    0.086</td>\n</tr>\n<tr>\n  <th>L2.sse_log</th>        <td>   -0.0014</td> <td>    0.023</td> <td>   -0.061</td> <td> 0.951</td> <td>   -0.046</td> <td>    0.044</td>\n</tr>\n<tr>\n  <th>L2.ffd_rate_log</th>   <td>    0.0018</td> <td>    0.005</td> <td>    0.375</td> <td> 0.708</td> <td>   -0.007</td> <td>    0.011</td>\n</tr>\n<tr>\n  <th>L3.btc_log</th>        <td>    0.0189</td> <td>    0.007</td> <td>    2.773</td> <td> 0.006</td> <td>    0.006</td> <td>    0.032</td>\n</tr>\n<tr>\n  <th>L3.tot_btc_log</th>    <td>    1.5939</td> <td>    1.564</td> <td>    1.019</td> <td> 0.308</td> <td>   -1.472</td> <td>    4.660</td>\n</tr>\n<tr>\n  <th>L3.hs_rate_log</th>    <td>   -0.0129</td> <td>    0.016</td> <td>   -0.795</td> <td> 0.426</td> <td>   -0.045</td> <td>    0.019</td>\n</tr>\n<tr>\n  <th>L3.eth_log</th>        <td>   -0.0065</td> <td>    0.004</td> <td>   -1.655</td> <td> 0.098</td> <td>   -0.014</td> <td>    0.001</td>\n</tr>\n<tr>\n  <th>L3.ggl_trends_log</th> <td>    0.0129</td> <td>    0.004</td> <td>    3.171</td> <td> 0.002</td> <td>    0.005</td> <td>    0.021</td>\n</tr>\n<tr>\n  <th>L3.wiki_views_log</th> <td>   -0.0063</td> <td>    0.002</td> <td>   -3.247</td> <td> 0.001</td> <td>   -0.010</td> <td>   -0.002</td>\n</tr>\n<tr>\n  <th>L3.usd_eur_log</th>    <td>    0.0314</td> <td>    0.060</td> <td>    0.521</td> <td> 0.602</td> <td>   -0.087</td> <td>    0.149</td>\n</tr>\n<tr>\n  <th>L3.oil_wti_log</th>    <td>    0.0013</td> <td>    0.013</td> <td>    0.102</td> <td> 0.919</td> <td>   -0.024</td> <td>    0.027</td>\n</tr>\n<tr>\n  <th>L3.gold_log</th>       <td>   -0.0091</td> <td>    0.040</td> <td>   -0.230</td> <td> 0.818</td> <td>   -0.087</td> <td>    0.069</td>\n</tr>\n<tr>\n  <th>L3.sp500_log</th>      <td>    0.0092</td> <td>    0.037</td> <td>    0.247</td> <td> 0.805</td> <td>   -0.064</td> <td>    0.082</td>\n</tr>\n<tr>\n  <th>L3.sse_log</th>        <td>   -0.0322</td> <td>    0.023</td> <td>   -1.412</td> <td> 0.158</td> <td>   -0.077</td> <td>    0.012</td>\n</tr>\n<tr>\n  <th>L3.ffd_rate_log</th>   <td>    0.0025</td> <td>    0.005</td> <td>    0.530</td> <td> 0.596</td> <td>   -0.007</td> <td>    0.012</td>\n</tr>\n<tr>\n  <th>L4.btc_log</th>        <td>   -0.0100</td> <td>    0.007</td> <td>   -1.452</td> <td> 0.146</td> <td>   -0.023</td> <td>    0.003</td>\n</tr>\n<tr>\n  <th>L4.tot_btc_log</th>    <td>    0.3053</td> <td>    1.562</td> <td>    0.195</td> <td> 0.845</td> <td>   -2.756</td> <td>    3.367</td>\n</tr>\n<tr>\n  <th>L4.hs_rate_log</th>    <td>    0.0216</td> <td>    0.016</td> <td>    1.327</td> <td> 0.185</td> <td>   -0.010</td> <td>    0.053</td>\n</tr>\n<tr>\n  <th>L4.eth_log</th>        <td>    0.0101</td> <td>    0.004</td> <td>    2.603</td> <td> 0.009</td> <td>    0.002</td> <td>    0.018</td>\n</tr>\n<tr>\n  <th>L4.ggl_trends_log</th> <td>   -0.0026</td> <td>    0.004</td> <td>   -0.633</td> <td> 0.526</td> <td>   -0.011</td> <td>    0.005</td>\n</tr>\n<tr>\n  <th>L4.wiki_views_log</th> <td>   -0.0013</td> <td>    0.002</td> <td>   -0.730</td> <td> 0.466</td> <td>   -0.005</td> <td>    0.002</td>\n</tr>\n<tr>\n  <th>L4.usd_eur_log</th>    <td>    0.1682</td> <td>    0.060</td> <td>    2.792</td> <td> 0.005</td> <td>    0.050</td> <td>    0.286</td>\n</tr>\n<tr>\n  <th>L4.oil_wti_log</th>    <td>   -0.0173</td> <td>    0.013</td> <td>   -1.338</td> <td> 0.181</td> <td>   -0.043</td> <td>    0.008</td>\n</tr>\n<tr>\n  <th>L4.gold_log</th>       <td>    0.0422</td> <td>    0.040</td> <td>    1.063</td> <td> 0.288</td> <td>   -0.036</td> <td>    0.120</td>\n</tr>\n<tr>\n  <th>L4.sp500_log</th>      <td>    0.0726</td> <td>    0.037</td> <td>    1.948</td> <td> 0.051</td> <td>   -0.000</td> <td>    0.146</td>\n</tr>\n<tr>\n  <th>L4.sse_log</th>        <td>    0.0406</td> <td>    0.022</td> <td>    1.816</td> <td> 0.069</td> <td>   -0.003</td> <td>    0.084</td>\n</tr>\n<tr>\n  <th>L4.ffd_rate_log</th>   <td>    0.0075</td> <td>    0.005</td> <td>    1.640</td> <td> 0.101</td> <td>   -0.001</td> <td>    0.016</td>\n</tr>\n<tr>\n  <th>L5.btc_log</th>        <td>    0.0123</td> <td>    0.007</td> <td>    1.822</td> <td> 0.068</td> <td>   -0.001</td> <td>    0.026</td>\n</tr>\n<tr>\n  <th>L5.tot_btc_log</th>    <td>    0.2592</td> <td>    1.520</td> <td>    0.170</td> <td> 0.865</td> <td>   -2.721</td> <td>    3.239</td>\n</tr>\n<tr>\n  <th>L5.hs_rate_log</th>    <td>   -0.0249</td> <td>    0.016</td> <td>   -1.579</td> <td> 0.114</td> <td>   -0.056</td> <td>    0.006</td>\n</tr>\n<tr>\n  <th>L5.eth_log</th>        <td>    0.0001</td> <td>    0.003</td> <td>    0.037</td> <td> 0.971</td> <td>   -0.006</td> <td>    0.007</td>\n</tr>\n<tr>\n  <th>L5.ggl_trends_log</th> <td>    0.0001</td> <td>    0.004</td> <td>    0.026</td> <td> 0.979</td> <td>   -0.008</td> <td>    0.008</td>\n</tr>\n<tr>\n  <th>L5.wiki_views_log</th> <td>   -0.0011</td> <td>    0.002</td> <td>   -0.627</td> <td> 0.531</td> <td>   -0.004</td> <td>    0.002</td>\n</tr>\n<tr>\n  <th>L5.usd_eur_log</th>    <td>   -0.0278</td> <td>    0.060</td> <td>   -0.461</td> <td> 0.645</td> <td>   -0.146</td> <td>    0.090</td>\n</tr>\n<tr>\n  <th>L5.oil_wti_log</th>    <td>   -0.0059</td> <td>    0.013</td> <td>   -0.458</td> <td> 0.647</td> <td>   -0.031</td> <td>    0.019</td>\n</tr>\n<tr>\n  <th>L5.gold_log</th>       <td>    0.0530</td> <td>    0.039</td> <td>    1.372</td> <td> 0.170</td> <td>   -0.023</td> <td>    0.129</td>\n</tr>\n<tr>\n  <th>L5.sp500_log</th>      <td>    0.0077</td> <td>    0.036</td> <td>    0.211</td> <td> 0.833</td> <td>   -0.064</td> <td>    0.079</td>\n</tr>\n<tr>\n  <th>L5.sse_log</th>        <td>   -0.0199</td> <td>    0.021</td> <td>   -0.937</td> <td> 0.349</td> <td>   -0.062</td> <td>    0.022</td>\n</tr>\n<tr>\n  <th>L5.ffd_rate_log</th>   <td>    0.0011</td> <td>    0.004</td> <td>    0.263</td> <td> 0.793</td> <td>   -0.007</td> <td>    0.009</td>\n</tr>\n</table>\n<table class=\"simpletable\">\n<caption>Det. terms outside the coint. relation & lagged endog. parameters for equation sse_log</caption>\n<tr>\n          <td></td>             <th>coef</th>     <th>std err</th>      <th>z</th>      <th>P>|z|</th>  <th>[0.025</th>    <th>0.975]</th>  \n</tr>\n<tr>\n  <th>L1.btc_log</th>        <td>    0.0028</td> <td>    0.010</td> <td>    0.278</td> <td> 0.781</td> <td>   -0.017</td> <td>    0.022</td>\n</tr>\n<tr>\n  <th>L1.tot_btc_log</th>    <td>    2.7243</td> <td>    2.318</td> <td>    1.175</td> <td> 0.240</td> <td>   -1.819</td> <td>    7.268</td>\n</tr>\n<tr>\n  <th>L1.hs_rate_log</th>    <td>   -0.0165</td> <td>    0.024</td> <td>   -0.692</td> <td> 0.489</td> <td>   -0.063</td> <td>    0.030</td>\n</tr>\n<tr>\n  <th>L1.eth_log</th>        <td>    0.0018</td> <td>    0.006</td> <td>    0.312</td> <td> 0.755</td> <td>   -0.010</td> <td>    0.013</td>\n</tr>\n<tr>\n  <th>L1.ggl_trends_log</th> <td>    0.0011</td> <td>    0.006</td> <td>    0.175</td> <td> 0.861</td> <td>   -0.011</td> <td>    0.013</td>\n</tr>\n<tr>\n  <th>L1.wiki_views_log</th> <td>   -0.0006</td> <td>    0.003</td> <td>   -0.183</td> <td> 0.854</td> <td>   -0.007</td> <td>    0.005</td>\n</tr>\n<tr>\n  <th>L1.usd_eur_log</th>    <td>   -0.0501</td> <td>    0.088</td> <td>   -0.567</td> <td> 0.571</td> <td>   -0.223</td> <td>    0.123</td>\n</tr>\n<tr>\n  <th>L1.oil_wti_log</th>    <td>    0.0197</td> <td>    0.019</td> <td>    1.029</td> <td> 0.303</td> <td>   -0.018</td> <td>    0.057</td>\n</tr>\n<tr>\n  <th>L1.gold_log</th>       <td>   -0.0478</td> <td>    0.059</td> <td>   -0.807</td> <td> 0.420</td> <td>   -0.164</td> <td>    0.068</td>\n</tr>\n<tr>\n  <th>L1.sp500_log</th>      <td>    0.5227</td> <td>    0.054</td> <td>    9.675</td> <td> 0.000</td> <td>    0.417</td> <td>    0.629</td>\n</tr>\n<tr>\n  <th>L1.sse_log</th>        <td>   -0.1037</td> <td>    0.034</td> <td>   -3.047</td> <td> 0.002</td> <td>   -0.170</td> <td>   -0.037</td>\n</tr>\n<tr>\n  <th>L1.ffd_rate_log</th>   <td>    0.0109</td> <td>    0.006</td> <td>    1.718</td> <td> 0.086</td> <td>   -0.002</td> <td>    0.023</td>\n</tr>\n<tr>\n  <th>L2.btc_log</th>        <td>    0.0218</td> <td>    0.010</td> <td>    2.182</td> <td> 0.029</td> <td>    0.002</td> <td>    0.041</td>\n</tr>\n<tr>\n  <th>L2.tot_btc_log</th>    <td>   -1.1198</td> <td>    2.336</td> <td>   -0.479</td> <td> 0.632</td> <td>   -5.698</td> <td>    3.458</td>\n</tr>\n<tr>\n  <th>L2.hs_rate_log</th>    <td>   -0.0251</td> <td>    0.024</td> <td>   -1.034</td> <td> 0.301</td> <td>   -0.073</td> <td>    0.022</td>\n</tr>\n<tr>\n  <th>L2.eth_log</th>        <td>   -0.0132</td> <td>    0.006</td> <td>   -2.276</td> <td> 0.023</td> <td>   -0.025</td> <td>   -0.002</td>\n</tr>\n<tr>\n  <th>L2.ggl_trends_log</th> <td>   -0.0060</td> <td>    0.006</td> <td>   -1.001</td> <td> 0.317</td> <td>   -0.018</td> <td>    0.006</td>\n</tr>\n<tr>\n  <th>L2.wiki_views_log</th> <td>   -0.0001</td> <td>    0.003</td> <td>   -0.044</td> <td> 0.965</td> <td>   -0.006</td> <td>    0.006</td>\n</tr>\n<tr>\n  <th>L2.usd_eur_log</th>    <td>   -0.0884</td> <td>    0.090</td> <td>   -0.986</td> <td> 0.324</td> <td>   -0.264</td> <td>    0.087</td>\n</tr>\n<tr>\n  <th>L2.oil_wti_log</th>    <td>   -0.0121</td> <td>    0.019</td> <td>   -0.634</td> <td> 0.526</td> <td>   -0.049</td> <td>    0.025</td>\n</tr>\n<tr>\n  <th>L2.gold_log</th>       <td>   -0.0521</td> <td>    0.059</td> <td>   -0.882</td> <td> 0.378</td> <td>   -0.168</td> <td>    0.064</td>\n</tr>\n<tr>\n  <th>L2.sp500_log</th>      <td>    0.0778</td> <td>    0.056</td> <td>    1.377</td> <td> 0.169</td> <td>   -0.033</td> <td>    0.188</td>\n</tr>\n<tr>\n  <th>L2.sse_log</th>        <td>    0.0569</td> <td>    0.034</td> <td>    1.669</td> <td> 0.095</td> <td>   -0.010</td> <td>    0.124</td>\n</tr>\n<tr>\n  <th>L2.ffd_rate_log</th>   <td>    0.0154</td> <td>    0.007</td> <td>    2.205</td> <td> 0.027</td> <td>    0.002</td> <td>    0.029</td>\n</tr>\n<tr>\n  <th>L3.btc_log</th>        <td>    0.0352</td> <td>    0.010</td> <td>    3.484</td> <td> 0.000</td> <td>    0.015</td> <td>    0.055</td>\n</tr>\n<tr>\n  <th>L3.tot_btc_log</th>    <td>    0.1431</td> <td>    2.321</td> <td>    0.062</td> <td> 0.951</td> <td>   -4.405</td> <td>    4.692</td>\n</tr>\n<tr>\n  <th>L3.hs_rate_log</th>    <td>    0.0063</td> <td>    0.024</td> <td>    0.260</td> <td> 0.795</td> <td>   -0.041</td> <td>    0.054</td>\n</tr>\n<tr>\n  <th>L3.eth_log</th>        <td>   -0.0219</td> <td>    0.006</td> <td>   -3.771</td> <td> 0.000</td> <td>   -0.033</td> <td>   -0.011</td>\n</tr>\n<tr>\n  <th>L3.ggl_trends_log</th> <td>    0.0019</td> <td>    0.006</td> <td>    0.321</td> <td> 0.748</td> <td>   -0.010</td> <td>    0.014</td>\n</tr>\n<tr>\n  <th>L3.wiki_views_log</th> <td>   -0.0032</td> <td>    0.003</td> <td>   -1.133</td> <td> 0.257</td> <td>   -0.009</td> <td>    0.002</td>\n</tr>\n<tr>\n  <th>L3.usd_eur_log</th>    <td>    0.1723</td> <td>    0.089</td> <td>    1.929</td> <td> 0.054</td> <td>   -0.003</td> <td>    0.347</td>\n</tr>\n<tr>\n  <th>L3.oil_wti_log</th>    <td>    0.0003</td> <td>    0.019</td> <td>    0.014</td> <td> 0.989</td> <td>   -0.037</td> <td>    0.038</td>\n</tr>\n<tr>\n  <th>L3.gold_log</th>       <td>   -0.1119</td> <td>    0.059</td> <td>   -1.903</td> <td> 0.057</td> <td>   -0.227</td> <td>    0.003</td>\n</tr>\n<tr>\n  <th>L3.sp500_log</th>      <td>    0.1231</td> <td>    0.055</td> <td>    2.222</td> <td> 0.026</td> <td>    0.015</td> <td>    0.232</td>\n</tr>\n<tr>\n  <th>L3.sse_log</th>        <td>   -0.0273</td> <td>    0.034</td> <td>   -0.807</td> <td> 0.419</td> <td>   -0.093</td> <td>    0.039</td>\n</tr>\n<tr>\n  <th>L3.ffd_rate_log</th>   <td>   -0.0074</td> <td>    0.007</td> <td>   -1.057</td> <td> 0.291</td> <td>   -0.021</td> <td>    0.006</td>\n</tr>\n<tr>\n  <th>L4.btc_log</th>        <td>   -0.0011</td> <td>    0.010</td> <td>   -0.109</td> <td> 0.913</td> <td>   -0.021</td> <td>    0.019</td>\n</tr>\n<tr>\n  <th>L4.tot_btc_log</th>    <td>    0.7004</td> <td>    2.317</td> <td>    0.302</td> <td> 0.762</td> <td>   -3.841</td> <td>    5.242</td>\n</tr>\n<tr>\n  <th>L4.hs_rate_log</th>    <td>   -0.0143</td> <td>    0.024</td> <td>   -0.594</td> <td> 0.552</td> <td>   -0.062</td> <td>    0.033</td>\n</tr>\n<tr>\n  <th>L4.eth_log</th>        <td>    0.0092</td> <td>    0.006</td> <td>    1.595</td> <td> 0.111</td> <td>   -0.002</td> <td>    0.020</td>\n</tr>\n<tr>\n  <th>L4.ggl_trends_log</th> <td>   -0.0145</td> <td>    0.006</td> <td>   -2.365</td> <td> 0.018</td> <td>   -0.026</td> <td>   -0.002</td>\n</tr>\n<tr>\n  <th>L4.wiki_views_log</th> <td>   -0.0023</td> <td>    0.003</td> <td>   -0.843</td> <td> 0.399</td> <td>   -0.008</td> <td>    0.003</td>\n</tr>\n<tr>\n  <th>L4.usd_eur_log</th>    <td>    0.1508</td> <td>    0.089</td> <td>    1.688</td> <td> 0.091</td> <td>   -0.024</td> <td>    0.326</td>\n</tr>\n<tr>\n  <th>L4.oil_wti_log</th>    <td>    0.0087</td> <td>    0.019</td> <td>    0.454</td> <td> 0.650</td> <td>   -0.029</td> <td>    0.046</td>\n</tr>\n<tr>\n  <th>L4.gold_log</th>       <td>   -0.1020</td> <td>    0.059</td> <td>   -1.733</td> <td> 0.083</td> <td>   -0.217</td> <td>    0.013</td>\n</tr>\n<tr>\n  <th>L4.sp500_log</th>      <td>    0.1091</td> <td>    0.055</td> <td>    1.973</td> <td> 0.048</td> <td>    0.001</td> <td>    0.217</td>\n</tr>\n<tr>\n  <th>L4.sse_log</th>        <td>   -0.0211</td> <td>    0.033</td> <td>   -0.635</td> <td> 0.525</td> <td>   -0.086</td> <td>    0.044</td>\n</tr>\n<tr>\n  <th>L4.ffd_rate_log</th>   <td>    0.0109</td> <td>    0.007</td> <td>    1.602</td> <td> 0.109</td> <td>   -0.002</td> <td>    0.024</td>\n</tr>\n<tr>\n  <th>L5.btc_log</th>        <td>    0.0322</td> <td>    0.010</td> <td>    3.212</td> <td> 0.001</td> <td>    0.013</td> <td>    0.052</td>\n</tr>\n<tr>\n  <th>L5.tot_btc_log</th>    <td>    3.2721</td> <td>    2.255</td> <td>    1.451</td> <td> 0.147</td> <td>   -1.148</td> <td>    7.692</td>\n</tr>\n<tr>\n  <th>L5.hs_rate_log</th>    <td>    0.0163</td> <td>    0.023</td> <td>    0.695</td> <td> 0.487</td> <td>   -0.030</td> <td>    0.062</td>\n</tr>\n<tr>\n  <th>L5.eth_log</th>        <td>   -0.0155</td> <td>    0.005</td> <td>   -3.117</td> <td> 0.002</td> <td>   -0.025</td> <td>   -0.006</td>\n</tr>\n<tr>\n  <th>L5.ggl_trends_log</th> <td>   -0.0006</td> <td>    0.006</td> <td>   -0.093</td> <td> 0.926</td> <td>   -0.013</td> <td>    0.012</td>\n</tr>\n<tr>\n  <th>L5.wiki_views_log</th> <td>   -0.0062</td> <td>    0.003</td> <td>   -2.464</td> <td> 0.014</td> <td>   -0.011</td> <td>   -0.001</td>\n</tr>\n<tr>\n  <th>L5.usd_eur_log</th>    <td>   -0.0465</td> <td>    0.089</td> <td>   -0.520</td> <td> 0.603</td> <td>   -0.222</td> <td>    0.129</td>\n</tr>\n<tr>\n  <th>L5.oil_wti_log</th>    <td>    0.0139</td> <td>    0.019</td> <td>    0.720</td> <td> 0.472</td> <td>   -0.024</td> <td>    0.052</td>\n</tr>\n<tr>\n  <th>L5.gold_log</th>       <td>    0.0210</td> <td>    0.057</td> <td>    0.367</td> <td> 0.714</td> <td>   -0.091</td> <td>    0.133</td>\n</tr>\n<tr>\n  <th>L5.sp500_log</th>      <td>    0.0331</td> <td>    0.054</td> <td>    0.614</td> <td> 0.539</td> <td>   -0.073</td> <td>    0.139</td>\n</tr>\n<tr>\n  <th>L5.sse_log</th>        <td>   -0.0730</td> <td>    0.032</td> <td>   -2.312</td> <td> 0.021</td> <td>   -0.135</td> <td>   -0.011</td>\n</tr>\n<tr>\n  <th>L5.ffd_rate_log</th>   <td>   -0.0023</td> <td>    0.006</td> <td>   -0.374</td> <td> 0.709</td> <td>   -0.014</td> <td>    0.010</td>\n</tr>\n</table>\n<table class=\"simpletable\">\n<caption>Det. terms outside the coint. relation & lagged endog. parameters for equation ffd_rate_log</caption>\n<tr>\n          <td></td>             <th>coef</th>     <th>std err</th>      <th>z</th>      <th>P>|z|</th>  <th>[0.025</th>    <th>0.975]</th>  \n</tr>\n<tr>\n  <th>L1.btc_log</th>        <td>    0.0164</td> <td>    0.056</td> <td>    0.295</td> <td> 0.768</td> <td>   -0.092</td> <td>    0.125</td>\n</tr>\n<tr>\n  <th>L1.tot_btc_log</th>    <td>    6.1816</td> <td>   12.873</td> <td>    0.480</td> <td> 0.631</td> <td>  -19.049</td> <td>   31.412</td>\n</tr>\n<tr>\n  <th>L1.hs_rate_log</th>    <td>   -0.0471</td> <td>    0.132</td> <td>   -0.357</td> <td> 0.721</td> <td>   -0.306</td> <td>    0.212</td>\n</tr>\n<tr>\n  <th>L1.eth_log</th>        <td>   -0.0450</td> <td>    0.033</td> <td>   -1.383</td> <td> 0.167</td> <td>   -0.109</td> <td>    0.019</td>\n</tr>\n<tr>\n  <th>L1.ggl_trends_log</th> <td>    0.0732</td> <td>    0.033</td> <td>    2.188</td> <td> 0.029</td> <td>    0.008</td> <td>    0.139</td>\n</tr>\n<tr>\n  <th>L1.wiki_views_log</th> <td>   -0.0649</td> <td>    0.017</td> <td>   -3.782</td> <td> 0.000</td> <td>   -0.099</td> <td>   -0.031</td>\n</tr>\n<tr>\n  <th>L1.usd_eur_log</th>    <td>   -0.1503</td> <td>    0.491</td> <td>   -0.306</td> <td> 0.759</td> <td>   -1.112</td> <td>    0.811</td>\n</tr>\n<tr>\n  <th>L1.oil_wti_log</th>    <td>   -0.0888</td> <td>    0.106</td> <td>   -0.837</td> <td> 0.403</td> <td>   -0.297</td> <td>    0.119</td>\n</tr>\n<tr>\n  <th>L1.gold_log</th>       <td>    0.3369</td> <td>    0.329</td> <td>    1.024</td> <td> 0.306</td> <td>   -0.308</td> <td>    0.982</td>\n</tr>\n<tr>\n  <th>L1.sp500_log</th>      <td>    0.0972</td> <td>    0.300</td> <td>    0.324</td> <td> 0.746</td> <td>   -0.491</td> <td>    0.685</td>\n</tr>\n<tr>\n  <th>L1.sse_log</th>        <td>    0.3378</td> <td>    0.189</td> <td>    1.787</td> <td> 0.074</td> <td>   -0.033</td> <td>    0.708</td>\n</tr>\n<tr>\n  <th>L1.ffd_rate_log</th>   <td>   -0.4558</td> <td>    0.035</td> <td>  -12.880</td> <td> 0.000</td> <td>   -0.525</td> <td>   -0.386</td>\n</tr>\n<tr>\n  <th>L2.btc_log</th>        <td>    0.0095</td> <td>    0.056</td> <td>    0.171</td> <td> 0.865</td> <td>   -0.099</td> <td>    0.118</td>\n</tr>\n<tr>\n  <th>L2.tot_btc_log</th>    <td>  -23.7883</td> <td>   12.971</td> <td>   -1.834</td> <td> 0.067</td> <td>  -49.211</td> <td>    1.634</td>\n</tr>\n<tr>\n  <th>L2.hs_rate_log</th>    <td>   -0.2104</td> <td>    0.135</td> <td>   -1.563</td> <td> 0.118</td> <td>   -0.474</td> <td>    0.053</td>\n</tr>\n<tr>\n  <th>L2.eth_log</th>        <td>    0.0118</td> <td>    0.032</td> <td>    0.367</td> <td> 0.714</td> <td>   -0.051</td> <td>    0.075</td>\n</tr>\n<tr>\n  <th>L2.ggl_trends_log</th> <td>   -0.0062</td> <td>    0.033</td> <td>   -0.186</td> <td> 0.853</td> <td>   -0.072</td> <td>    0.059</td>\n</tr>\n<tr>\n  <th>L2.wiki_views_log</th> <td>   -0.0628</td> <td>    0.017</td> <td>   -3.790</td> <td> 0.000</td> <td>   -0.095</td> <td>   -0.030</td>\n</tr>\n<tr>\n  <th>L2.usd_eur_log</th>    <td>   -0.4500</td> <td>    0.498</td> <td>   -0.904</td> <td> 0.366</td> <td>   -1.426</td> <td>    0.526</td>\n</tr>\n<tr>\n  <th>L2.oil_wti_log</th>    <td>   -0.2807</td> <td>    0.106</td> <td>   -2.654</td> <td> 0.008</td> <td>   -0.488</td> <td>   -0.073</td>\n</tr>\n<tr>\n  <th>L2.gold_log</th>       <td>    0.0705</td> <td>    0.328</td> <td>    0.215</td> <td> 0.830</td> <td>   -0.573</td> <td>    0.714</td>\n</tr>\n<tr>\n  <th>L2.sp500_log</th>      <td>   -0.1594</td> <td>    0.314</td> <td>   -0.508</td> <td> 0.611</td> <td>   -0.774</td> <td>    0.455</td>\n</tr>\n<tr>\n  <th>L2.sse_log</th>        <td>    0.2152</td> <td>    0.189</td> <td>    1.137</td> <td> 0.256</td> <td>   -0.156</td> <td>    0.586</td>\n</tr>\n<tr>\n  <th>L2.ffd_rate_log</th>   <td>   -0.2231</td> <td>    0.039</td> <td>   -5.751</td> <td> 0.000</td> <td>   -0.299</td> <td>   -0.147</td>\n</tr>\n<tr>\n  <th>L3.btc_log</th>        <td>   -0.0737</td> <td>    0.056</td> <td>   -1.314</td> <td> 0.189</td> <td>   -0.184</td> <td>    0.036</td>\n</tr>\n<tr>\n  <th>L3.tot_btc_log</th>    <td>   29.6932</td> <td>   12.887</td> <td>    2.304</td> <td> 0.021</td> <td>    4.434</td> <td>   54.952</td>\n</tr>\n<tr>\n  <th>L3.hs_rate_log</th>    <td>    0.1077</td> <td>    0.134</td> <td>    0.803</td> <td> 0.422</td> <td>   -0.155</td> <td>    0.371</td>\n</tr>\n<tr>\n  <th>L3.eth_log</th>        <td>    0.0739</td> <td>    0.032</td> <td>    2.295</td> <td> 0.022</td> <td>    0.011</td> <td>    0.137</td>\n</tr>\n<tr>\n  <th>L3.ggl_trends_log</th> <td>    0.0534</td> <td>    0.034</td> <td>    1.590</td> <td> 0.112</td> <td>   -0.012</td> <td>    0.119</td>\n</tr>\n<tr>\n  <th>L3.wiki_views_log</th> <td>   -0.0728</td> <td>    0.016</td> <td>   -4.580</td> <td> 0.000</td> <td>   -0.104</td> <td>   -0.042</td>\n</tr>\n<tr>\n  <th>L3.usd_eur_log</th>    <td>    0.1840</td> <td>    0.496</td> <td>    0.371</td> <td> 0.711</td> <td>   -0.788</td> <td>    1.156</td>\n</tr>\n<tr>\n  <th>L3.oil_wti_log</th>    <td>    0.1563</td> <td>    0.106</td> <td>    1.472</td> <td> 0.141</td> <td>   -0.052</td> <td>    0.364</td>\n</tr>\n<tr>\n  <th>L3.gold_log</th>       <td>   -0.0757</td> <td>    0.326</td> <td>   -0.232</td> <td> 0.817</td> <td>   -0.716</td> <td>    0.564</td>\n</tr>\n<tr>\n  <th>L3.sp500_log</th>      <td>   -0.2112</td> <td>    0.308</td> <td>   -0.687</td> <td> 0.492</td> <td>   -0.814</td> <td>    0.392</td>\n</tr>\n<tr>\n  <th>L3.sse_log</th>        <td>    0.0900</td> <td>    0.188</td> <td>    0.480</td> <td> 0.631</td> <td>   -0.278</td> <td>    0.458</td>\n</tr>\n<tr>\n  <th>L3.ffd_rate_log</th>   <td>   -0.1094</td> <td>    0.039</td> <td>   -2.829</td> <td> 0.005</td> <td>   -0.185</td> <td>   -0.034</td>\n</tr>\n<tr>\n  <th>L4.btc_log</th>        <td>    0.0223</td> <td>    0.057</td> <td>    0.393</td> <td> 0.694</td> <td>   -0.089</td> <td>    0.133</td>\n</tr>\n<tr>\n  <th>L4.tot_btc_log</th>    <td>   -9.9455</td> <td>   12.867</td> <td>   -0.773</td> <td> 0.440</td> <td>  -35.165</td> <td>   15.274</td>\n</tr>\n<tr>\n  <th>L4.hs_rate_log</th>    <td>    0.0072</td> <td>    0.134</td> <td>    0.053</td> <td> 0.957</td> <td>   -0.255</td> <td>    0.270</td>\n</tr>\n<tr>\n  <th>L4.eth_log</th>        <td>    0.0280</td> <td>    0.032</td> <td>    0.876</td> <td> 0.381</td> <td>   -0.035</td> <td>    0.091</td>\n</tr>\n<tr>\n  <th>L4.ggl_trends_log</th> <td>    0.0881</td> <td>    0.034</td> <td>    2.591</td> <td> 0.010</td> <td>    0.021</td> <td>    0.155</td>\n</tr>\n<tr>\n  <th>L4.wiki_views_log</th> <td>   -0.0736</td> <td>    0.015</td> <td>   -4.913</td> <td> 0.000</td> <td>   -0.103</td> <td>   -0.044</td>\n</tr>\n<tr>\n  <th>L4.usd_eur_log</th>    <td>    0.9266</td> <td>    0.496</td> <td>    1.867</td> <td> 0.062</td> <td>   -0.046</td> <td>    1.899</td>\n</tr>\n<tr>\n  <th>L4.oil_wti_log</th>    <td>    0.1709</td> <td>    0.106</td> <td>    1.606</td> <td> 0.108</td> <td>   -0.038</td> <td>    0.379</td>\n</tr>\n<tr>\n  <th>L4.gold_log</th>       <td>   -0.2861</td> <td>    0.327</td> <td>   -0.875</td> <td> 0.382</td> <td>   -0.927</td> <td>    0.355</td>\n</tr>\n<tr>\n  <th>L4.sp500_log</th>      <td>   -0.0633</td> <td>    0.307</td> <td>   -0.206</td> <td> 0.837</td> <td>   -0.665</td> <td>    0.538</td>\n</tr>\n<tr>\n  <th>L4.sse_log</th>        <td>   -0.1014</td> <td>    0.184</td> <td>   -0.550</td> <td> 0.582</td> <td>   -0.463</td> <td>    0.260</td>\n</tr>\n<tr>\n  <th>L4.ffd_rate_log</th>   <td>   -0.0176</td> <td>    0.038</td> <td>   -0.465</td> <td> 0.642</td> <td>   -0.092</td> <td>    0.056</td>\n</tr>\n<tr>\n  <th>L5.btc_log</th>        <td>    0.0487</td> <td>    0.056</td> <td>    0.876</td> <td> 0.381</td> <td>   -0.060</td> <td>    0.158</td>\n</tr>\n<tr>\n  <th>L5.tot_btc_log</th>    <td>   17.1703</td> <td>   12.524</td> <td>    1.371</td> <td> 0.170</td> <td>   -7.377</td> <td>   41.717</td>\n</tr>\n<tr>\n  <th>L5.hs_rate_log</th>    <td>   -0.1053</td> <td>    0.130</td> <td>   -0.809</td> <td> 0.418</td> <td>   -0.360</td> <td>    0.150</td>\n</tr>\n<tr>\n  <th>L5.eth_log</th>        <td>    0.0112</td> <td>    0.028</td> <td>    0.405</td> <td> 0.686</td> <td>   -0.043</td> <td>    0.065</td>\n</tr>\n<tr>\n  <th>L5.ggl_trends_log</th> <td>    0.0554</td> <td>    0.034</td> <td>    1.612</td> <td> 0.107</td> <td>   -0.012</td> <td>    0.123</td>\n</tr>\n<tr>\n  <th>L5.wiki_views_log</th> <td>   -0.0793</td> <td>    0.014</td> <td>   -5.700</td> <td> 0.000</td> <td>   -0.107</td> <td>   -0.052</td>\n</tr>\n<tr>\n  <th>L5.usd_eur_log</th>    <td>    0.0362</td> <td>    0.497</td> <td>    0.073</td> <td> 0.942</td> <td>   -0.937</td> <td>    1.009</td>\n</tr>\n<tr>\n  <th>L5.oil_wti_log</th>    <td>    0.0455</td> <td>    0.107</td> <td>    0.425</td> <td> 0.671</td> <td>   -0.164</td> <td>    0.255</td>\n</tr>\n<tr>\n  <th>L5.gold_log</th>       <td>   -0.3832</td> <td>    0.318</td> <td>   -1.204</td> <td> 0.229</td> <td>   -1.007</td> <td>    0.241</td>\n</tr>\n<tr>\n  <th>L5.sp500_log</th>      <td>   -0.5421</td> <td>    0.299</td> <td>   -1.811</td> <td> 0.070</td> <td>   -1.129</td> <td>    0.044</td>\n</tr>\n<tr>\n  <th>L5.sse_log</th>        <td>   -0.2312</td> <td>    0.175</td> <td>   -1.319</td> <td> 0.187</td> <td>   -0.575</td> <td>    0.112</td>\n</tr>\n<tr>\n  <th>L5.ffd_rate_log</th>   <td>   -0.0241</td> <td>    0.034</td> <td>   -0.706</td> <td> 0.480</td> <td>   -0.091</td> <td>    0.043</td>\n</tr>\n</table>\n<table class=\"simpletable\">\n<caption>Loading coefficients (alpha) for equation btc_log</caption>\n<tr>\n   <td></td>      <th>coef</th>     <th>std err</th>      <th>z</th>      <th>P>|z|</th>  <th>[0.025</th>    <th>0.975]</th>  \n</tr>\n<tr>\n  <th>ec1</th> <td>   -0.0329</td> <td>    0.010</td> <td>   -3.216</td> <td> 0.001</td> <td>   -0.053</td> <td>   -0.013</td>\n</tr>\n<tr>\n  <th>ec2</th> <td>    0.0034</td> <td>    0.036</td> <td>    0.094</td> <td> 0.925</td> <td>   -0.067</td> <td>    0.074</td>\n</tr>\n<tr>\n  <th>ec3</th> <td>    0.0097</td> <td>    0.013</td> <td>    0.768</td> <td> 0.443</td> <td>   -0.015</td> <td>    0.034</td>\n</tr>\n<tr>\n  <th>ec4</th> <td>    0.0061</td> <td>    0.003</td> <td>    1.795</td> <td> 0.073</td> <td>   -0.001</td> <td>    0.013</td>\n</tr>\n<tr>\n  <th>ec5</th> <td>    0.0336</td> <td>    0.011</td> <td>    3.032</td> <td> 0.002</td> <td>    0.012</td> <td>    0.055</td>\n</tr>\n<tr>\n  <th>ec6</th> <td>   -0.0098</td> <td>    0.009</td> <td>   -1.067</td> <td> 0.286</td> <td>   -0.028</td> <td>    0.008</td>\n</tr>\n</table>\n<table class=\"simpletable\">\n<caption>Loading coefficients (alpha) for equation tot_btc_log</caption>\n<tr>\n   <td></td>      <th>coef</th>     <th>std err</th>      <th>z</th>      <th>P>|z|</th>  <th>[0.025</th>    <th>0.975]</th>  \n</tr>\n<tr>\n  <th>ec1</th> <td>-8.664e-06</td> <td> 4.04e-05</td> <td>   -0.215</td> <td> 0.830</td> <td>-8.78e-05</td> <td> 7.04e-05</td>\n</tr>\n<tr>\n  <th>ec2</th> <td>    0.0008</td> <td>    0.000</td> <td>    5.431</td> <td> 0.000</td> <td>    0.000</td> <td>    0.001</td>\n</tr>\n<tr>\n  <th>ec3</th> <td>-3.931e-05</td> <td> 4.95e-05</td> <td>   -0.793</td> <td> 0.428</td> <td>   -0.000</td> <td> 5.78e-05</td>\n</tr>\n<tr>\n  <th>ec4</th> <td>-1.843e-05</td> <td> 1.33e-05</td> <td>   -1.382</td> <td> 0.167</td> <td>-4.46e-05</td> <td> 7.71e-06</td>\n</tr>\n<tr>\n  <th>ec5</th> <td> 8.873e-05</td> <td> 4.37e-05</td> <td>    2.031</td> <td> 0.042</td> <td> 3.12e-06</td> <td>    0.000</td>\n</tr>\n<tr>\n  <th>ec6</th> <td>   -0.0001</td> <td> 3.61e-05</td> <td>   -2.802</td> <td> 0.005</td> <td>   -0.000</td> <td>-3.04e-05</td>\n</tr>\n</table>\n<table class=\"simpletable\">\n<caption>Loading coefficients (alpha) for equation hs_rate_log</caption>\n<tr>\n   <td></td>      <th>coef</th>     <th>std err</th>      <th>z</th>      <th>P>|z|</th>  <th>[0.025</th>    <th>0.975]</th>  \n</tr>\n<tr>\n  <th>ec1</th> <td>    0.0071</td> <td>    0.004</td> <td>    1.790</td> <td> 0.073</td> <td>   -0.001</td> <td>    0.015</td>\n</tr>\n<tr>\n  <th>ec2</th> <td>    0.0400</td> <td>    0.014</td> <td>    2.854</td> <td> 0.004</td> <td>    0.013</td> <td>    0.067</td>\n</tr>\n<tr>\n  <th>ec3</th> <td>   -0.0066</td> <td>    0.005</td> <td>   -1.353</td> <td> 0.176</td> <td>   -0.016</td> <td>    0.003</td>\n</tr>\n<tr>\n  <th>ec4</th> <td> 5.831e-05</td> <td>    0.001</td> <td>    0.044</td> <td> 0.965</td> <td>   -0.003</td> <td>    0.003</td>\n</tr>\n<tr>\n  <th>ec5</th> <td>    0.0021</td> <td>    0.004</td> <td>    0.475</td> <td> 0.635</td> <td>   -0.006</td> <td>    0.011</td>\n</tr>\n<tr>\n  <th>ec6</th> <td>   -0.0052</td> <td>    0.004</td> <td>   -1.460</td> <td> 0.144</td> <td>   -0.012</td> <td>    0.002</td>\n</tr>\n</table>\n<table class=\"simpletable\">\n<caption>Loading coefficients (alpha) for equation eth_log</caption>\n<tr>\n   <td></td>      <th>coef</th>     <th>std err</th>      <th>z</th>      <th>P>|z|</th>  <th>[0.025</th>    <th>0.975]</th>  \n</tr>\n<tr>\n  <th>ec1</th> <td>    0.0223</td> <td>    0.017</td> <td>    1.303</td> <td> 0.193</td> <td>   -0.011</td> <td>    0.056</td>\n</tr>\n<tr>\n  <th>ec2</th> <td>    0.0175</td> <td>    0.060</td> <td>    0.291</td> <td> 0.771</td> <td>   -0.101</td> <td>    0.136</td>\n</tr>\n<tr>\n  <th>ec3</th> <td>   -0.0231</td> <td>    0.021</td> <td>   -1.098</td> <td> 0.272</td> <td>   -0.064</td> <td>    0.018</td>\n</tr>\n<tr>\n  <th>ec4</th> <td>   -0.0196</td> <td>    0.006</td> <td>   -3.455</td> <td> 0.001</td> <td>   -0.031</td> <td>   -0.008</td>\n</tr>\n<tr>\n  <th>ec5</th> <td>    0.0001</td> <td>    0.019</td> <td>    0.006</td> <td> 0.995</td> <td>   -0.036</td> <td>    0.037</td>\n</tr>\n<tr>\n  <th>ec6</th> <td>    0.0197</td> <td>    0.015</td> <td>    1.285</td> <td> 0.199</td> <td>   -0.010</td> <td>    0.050</td>\n</tr>\n</table>\n<table class=\"simpletable\">\n<caption>Loading coefficients (alpha) for equation ggl_trends_log</caption>\n<tr>\n   <td></td>      <th>coef</th>     <th>std err</th>      <th>z</th>      <th>P>|z|</th>  <th>[0.025</th>    <th>0.975]</th>  \n</tr>\n<tr>\n  <th>ec1</th> <td>    0.0684</td> <td>    0.015</td> <td>    4.424</td> <td> 0.000</td> <td>    0.038</td> <td>    0.099</td>\n</tr>\n<tr>\n  <th>ec2</th> <td>   -0.1412</td> <td>    0.054</td> <td>   -2.601</td> <td> 0.009</td> <td>   -0.248</td> <td>   -0.035</td>\n</tr>\n<tr>\n  <th>ec3</th> <td>   -0.0728</td> <td>    0.019</td> <td>   -3.834</td> <td> 0.000</td> <td>   -0.110</td> <td>   -0.036</td>\n</tr>\n<tr>\n  <th>ec4</th> <td>   -0.0155</td> <td>    0.005</td> <td>   -3.026</td> <td> 0.002</td> <td>   -0.025</td> <td>   -0.005</td>\n</tr>\n<tr>\n  <th>ec5</th> <td>   -0.0751</td> <td>    0.017</td> <td>   -4.487</td> <td> 0.000</td> <td>   -0.108</td> <td>   -0.042</td>\n</tr>\n<tr>\n  <th>ec6</th> <td>    0.0145</td> <td>    0.014</td> <td>    1.048</td> <td> 0.295</td> <td>   -0.013</td> <td>    0.042</td>\n</tr>\n</table>\n<table class=\"simpletable\">\n<caption>Loading coefficients (alpha) for equation wiki_views_log</caption>\n<tr>\n   <td></td>      <th>coef</th>     <th>std err</th>      <th>z</th>      <th>P>|z|</th>  <th>[0.025</th>    <th>0.975]</th>  \n</tr>\n<tr>\n  <th>ec1</th> <td>   -0.0126</td> <td>    0.036</td> <td>   -0.350</td> <td> 0.727</td> <td>   -0.084</td> <td>    0.058</td>\n</tr>\n<tr>\n  <th>ec2</th> <td>    0.4734</td> <td>    0.127</td> <td>    3.728</td> <td> 0.000</td> <td>    0.224</td> <td>    0.722</td>\n</tr>\n<tr>\n  <th>ec3</th> <td>   -0.1509</td> <td>    0.044</td> <td>   -3.399</td> <td> 0.001</td> <td>   -0.238</td> <td>   -0.064</td>\n</tr>\n<tr>\n  <th>ec4</th> <td>    0.0234</td> <td>    0.012</td> <td>    1.962</td> <td> 0.050</td> <td>    2e-05</td> <td>    0.047</td>\n</tr>\n<tr>\n  <th>ec5</th> <td>    0.1677</td> <td>    0.039</td> <td>    4.285</td> <td> 0.000</td> <td>    0.091</td> <td>    0.244</td>\n</tr>\n<tr>\n  <th>ec6</th> <td>   -0.1966</td> <td>    0.032</td> <td>   -6.072</td> <td> 0.000</td> <td>   -0.260</td> <td>   -0.133</td>\n</tr>\n</table>\n<table class=\"simpletable\">\n<caption>Loading coefficients (alpha) for equation usd_eur_log</caption>\n<tr>\n   <td></td>      <th>coef</th>     <th>std err</th>      <th>z</th>      <th>P>|z|</th>  <th>[0.025</th>    <th>0.975]</th>  \n</tr>\n<tr>\n  <th>ec1</th> <td>   -0.0001</td> <td>    0.001</td> <td>   -0.114</td> <td> 0.909</td> <td>   -0.002</td> <td>    0.002</td>\n</tr>\n<tr>\n  <th>ec2</th> <td>   -0.0029</td> <td>    0.004</td> <td>   -0.765</td> <td> 0.444</td> <td>   -0.010</td> <td>    0.005</td>\n</tr>\n<tr>\n  <th>ec3</th> <td>   -0.0017</td> <td>    0.001</td> <td>   -1.249</td> <td> 0.212</td> <td>   -0.004</td> <td>    0.001</td>\n</tr>\n<tr>\n  <th>ec4</th> <td>    0.0006</td> <td>    0.000</td> <td>    1.731</td> <td> 0.083</td> <td>-8.15e-05</td> <td>    0.001</td>\n</tr>\n<tr>\n  <th>ec5</th> <td>    0.0012</td> <td>    0.001</td> <td>    1.011</td> <td> 0.312</td> <td>   -0.001</td> <td>    0.003</td>\n</tr>\n<tr>\n  <th>ec6</th> <td>   -0.0005</td> <td>    0.001</td> <td>   -0.568</td> <td> 0.570</td> <td>   -0.002</td> <td>    0.001</td>\n</tr>\n</table>\n<table class=\"simpletable\">\n<caption>Loading coefficients (alpha) for equation oil_wti_log</caption>\n<tr>\n   <td></td>      <th>coef</th>     <th>std err</th>      <th>z</th>      <th>P>|z|</th>  <th>[0.025</th>    <th>0.975]</th>  \n</tr>\n<tr>\n  <th>ec1</th> <td>   -0.0058</td> <td>    0.005</td> <td>   -1.174</td> <td> 0.240</td> <td>   -0.015</td> <td>    0.004</td>\n</tr>\n<tr>\n  <th>ec2</th> <td>   -0.0542</td> <td>    0.017</td> <td>   -3.121</td> <td> 0.002</td> <td>   -0.088</td> <td>   -0.020</td>\n</tr>\n<tr>\n  <th>ec3</th> <td>    0.0044</td> <td>    0.006</td> <td>    0.730</td> <td> 0.466</td> <td>   -0.007</td> <td>    0.016</td>\n</tr>\n<tr>\n  <th>ec4</th> <td>   -0.0012</td> <td>    0.002</td> <td>   -0.723</td> <td> 0.470</td> <td>   -0.004</td> <td>    0.002</td>\n</tr>\n<tr>\n  <th>ec5</th> <td>   -0.0072</td> <td>    0.005</td> <td>   -1.339</td> <td> 0.181</td> <td>   -0.018</td> <td>    0.003</td>\n</tr>\n<tr>\n  <th>ec6</th> <td>    0.0108</td> <td>    0.004</td> <td>    2.429</td> <td> 0.015</td> <td>    0.002</td> <td>    0.019</td>\n</tr>\n</table>\n<table class=\"simpletable\">\n<caption>Loading coefficients (alpha) for equation gold_log</caption>\n<tr>\n   <td></td>      <th>coef</th>     <th>std err</th>      <th>z</th>      <th>P>|z|</th>  <th>[0.025</th>    <th>0.975]</th>  \n</tr>\n<tr>\n  <th>ec1</th> <td>    0.0042</td> <td>    0.002</td> <td>    2.533</td> <td> 0.011</td> <td>    0.001</td> <td>    0.007</td>\n</tr>\n<tr>\n  <th>ec2</th> <td>    0.0130</td> <td>    0.006</td> <td>    2.246</td> <td> 0.025</td> <td>    0.002</td> <td>    0.024</td>\n</tr>\n<tr>\n  <th>ec3</th> <td>   -0.0066</td> <td>    0.002</td> <td>   -3.296</td> <td> 0.001</td> <td>   -0.011</td> <td>   -0.003</td>\n</tr>\n<tr>\n  <th>ec4</th> <td>   -0.0009</td> <td>    0.001</td> <td>   -1.659</td> <td> 0.097</td> <td>   -0.002</td> <td>    0.000</td>\n</tr>\n<tr>\n  <th>ec5</th> <td>    0.0028</td> <td>    0.002</td> <td>    1.571</td> <td> 0.116</td> <td>   -0.001</td> <td>    0.006</td>\n</tr>\n<tr>\n  <th>ec6</th> <td>   -0.0035</td> <td>    0.001</td> <td>   -2.366</td> <td> 0.018</td> <td>   -0.006</td> <td>   -0.001</td>\n</tr>\n</table>\n<table class=\"simpletable\">\n<caption>Loading coefficients (alpha) for equation sp500_log</caption>\n<tr>\n   <td></td>      <th>coef</th>     <th>std err</th>      <th>z</th>      <th>P>|z|</th>  <th>[0.025</th>    <th>0.975]</th>  \n</tr>\n<tr>\n  <th>ec1</th> <td>   -0.0003</td> <td>    0.002</td> <td>   -0.160</td> <td> 0.873</td> <td>   -0.004</td> <td>    0.003</td>\n</tr>\n<tr>\n  <th>ec2</th> <td>    0.0132</td> <td>    0.006</td> <td>    2.065</td> <td> 0.039</td> <td>    0.001</td> <td>    0.026</td>\n</tr>\n<tr>\n  <th>ec3</th> <td>    0.0090</td> <td>    0.002</td> <td>    4.013</td> <td> 0.000</td> <td>    0.005</td> <td>    0.013</td>\n</tr>\n<tr>\n  <th>ec4</th> <td>   -0.0002</td> <td>    0.001</td> <td>   -0.321</td> <td> 0.748</td> <td>   -0.001</td> <td>    0.001</td>\n</tr>\n<tr>\n  <th>ec5</th> <td>-3.419e-05</td> <td>    0.002</td> <td>   -0.017</td> <td> 0.986</td> <td>   -0.004</td> <td>    0.004</td>\n</tr>\n<tr>\n  <th>ec6</th> <td>    0.0030</td> <td>    0.002</td> <td>    1.833</td> <td> 0.067</td> <td>   -0.000</td> <td>    0.006</td>\n</tr>\n</table>\n<table class=\"simpletable\">\n<caption>Loading coefficients (alpha) for equation sse_log</caption>\n<tr>\n   <td></td>      <th>coef</th>     <th>std err</th>      <th>z</th>      <th>P>|z|</th>  <th>[0.025</th>    <th>0.975]</th>  \n</tr>\n<tr>\n  <th>ec1</th> <td>   -0.0050</td> <td>    0.003</td> <td>   -1.835</td> <td> 0.067</td> <td>   -0.010</td> <td>    0.000</td>\n</tr>\n<tr>\n  <th>ec2</th> <td>   -0.0093</td> <td>    0.010</td> <td>   -0.978</td> <td> 0.328</td> <td>   -0.028</td> <td>    0.009</td>\n</tr>\n<tr>\n  <th>ec3</th> <td>    0.0031</td> <td>    0.003</td> <td>    0.940</td> <td> 0.347</td> <td>   -0.003</td> <td>    0.010</td>\n</tr>\n<tr>\n  <th>ec4</th> <td>   -0.0015</td> <td>    0.001</td> <td>   -1.657</td> <td> 0.097</td> <td>   -0.003</td> <td>    0.000</td>\n</tr>\n<tr>\n  <th>ec5</th> <td>    0.0040</td> <td>    0.003</td> <td>    1.353</td> <td> 0.176</td> <td>   -0.002</td> <td>    0.010</td>\n</tr>\n<tr>\n  <th>ec6</th> <td>    0.0036</td> <td>    0.002</td> <td>    1.490</td> <td> 0.136</td> <td>   -0.001</td> <td>    0.008</td>\n</tr>\n</table>\n<table class=\"simpletable\">\n<caption>Loading coefficients (alpha) for equation ffd_rate_log</caption>\n<tr>\n   <td></td>      <th>coef</th>     <th>std err</th>      <th>z</th>      <th>P>|z|</th>  <th>[0.025</th>    <th>0.975]</th>  \n</tr>\n<tr>\n  <th>ec1</th> <td>    0.0007</td> <td>    0.015</td> <td>    0.047</td> <td> 0.962</td> <td>   -0.029</td> <td>    0.030</td>\n</tr>\n<tr>\n  <th>ec2</th> <td>   -0.0817</td> <td>    0.053</td> <td>   -1.547</td> <td> 0.122</td> <td>   -0.185</td> <td>    0.022</td>\n</tr>\n<tr>\n  <th>ec3</th> <td>    0.0661</td> <td>    0.018</td> <td>    3.584</td> <td> 0.000</td> <td>    0.030</td> <td>    0.102</td>\n</tr>\n<tr>\n  <th>ec4</th> <td>    0.0056</td> <td>    0.005</td> <td>    1.133</td> <td> 0.257</td> <td>   -0.004</td> <td>    0.015</td>\n</tr>\n<tr>\n  <th>ec5</th> <td>   -0.0472</td> <td>    0.016</td> <td>   -2.899</td> <td> 0.004</td> <td>   -0.079</td> <td>   -0.015</td>\n</tr>\n<tr>\n  <th>ec6</th> <td>    0.0514</td> <td>    0.013</td> <td>    3.822</td> <td> 0.000</td> <td>    0.025</td> <td>    0.078</td>\n</tr>\n</table>\n<table class=\"simpletable\">\n<caption>Cointegration relations for loading-coefficients-column 1</caption>\n<tr>\n     <td></td>        <th>coef</th>     <th>std err</th>      <th>z</th>      <th>P>|z|</th>  <th>[0.025</th>    <th>0.975]</th>  \n</tr>\n<tr>\n  <th>beta.1</th>  <td>    1.0000</td> <td>        0</td> <td>        0</td> <td> 0.000</td> <td>    1.000</td> <td>    1.000</td>\n</tr>\n<tr>\n  <th>beta.2</th>  <td> 1.025e-15</td> <td>        0</td> <td>        0</td> <td> 0.000</td> <td> 1.02e-15</td> <td> 1.02e-15</td>\n</tr>\n<tr>\n  <th>beta.3</th>  <td>-5.501e-17</td> <td>        0</td> <td>        0</td> <td> 0.000</td> <td> -5.5e-17</td> <td> -5.5e-17</td>\n</tr>\n<tr>\n  <th>beta.4</th>  <td>-5.497e-17</td> <td>        0</td> <td>        0</td> <td> 0.000</td> <td> -5.5e-17</td> <td> -5.5e-17</td>\n</tr>\n<tr>\n  <th>beta.5</th>  <td> 2.656e-16</td> <td>        0</td> <td>        0</td> <td> 0.000</td> <td> 2.66e-16</td> <td> 2.66e-16</td>\n</tr>\n<tr>\n  <th>beta.6</th>  <td>-1.565e-16</td> <td>        0</td> <td>        0</td> <td> 0.000</td> <td>-1.56e-16</td> <td>-1.56e-16</td>\n</tr>\n<tr>\n  <th>beta.7</th>  <td>  -16.9673</td> <td>    2.258</td> <td>   -7.513</td> <td> 0.000</td> <td>  -21.394</td> <td>  -12.541</td>\n</tr>\n<tr>\n  <th>beta.8</th>  <td>    2.6253</td> <td>    0.680</td> <td>    3.860</td> <td> 0.000</td> <td>    1.292</td> <td>    3.958</td>\n</tr>\n<tr>\n  <th>beta.9</th>  <td>    7.1468</td> <td>    2.539</td> <td>    2.815</td> <td> 0.005</td> <td>    2.170</td> <td>   12.123</td>\n</tr>\n<tr>\n  <th>beta.10</th> <td>   -9.3777</td> <td>    5.384</td> <td>   -1.742</td> <td> 0.082</td> <td>  -19.929</td> <td>    1.174</td>\n</tr>\n<tr>\n  <th>beta.11</th> <td>    0.5118</td> <td>    1.839</td> <td>    0.278</td> <td> 0.781</td> <td>   -3.093</td> <td>    4.117</td>\n</tr>\n<tr>\n  <th>beta.12</th> <td>    0.6099</td> <td>    4.086</td> <td>    0.149</td> <td> 0.881</td> <td>   -7.398</td> <td>    8.618</td>\n</tr>\n</table>\n<table class=\"simpletable\">\n<caption>Cointegration relations for loading-coefficients-column 2</caption>\n<tr>\n     <td></td>        <th>coef</th>     <th>std err</th>      <th>z</th>      <th>P>|z|</th>  <th>[0.025</th>    <th>0.975]</th>  \n</tr>\n<tr>\n  <th>beta.1</th>  <td> 1.048e-17</td> <td>        0</td> <td>        0</td> <td> 0.000</td> <td> 1.05e-17</td> <td> 1.05e-17</td>\n</tr>\n<tr>\n  <th>beta.2</th>  <td>    1.0000</td> <td>        0</td> <td>        0</td> <td> 0.000</td> <td>    1.000</td> <td>    1.000</td>\n</tr>\n<tr>\n  <th>beta.3</th>  <td>-8.298e-17</td> <td>        0</td> <td>        0</td> <td> 0.000</td> <td> -8.3e-17</td> <td> -8.3e-17</td>\n</tr>\n<tr>\n  <th>beta.4</th>  <td> -5.24e-18</td> <td>        0</td> <td>        0</td> <td> 0.000</td> <td>-5.24e-18</td> <td>-5.24e-18</td>\n</tr>\n<tr>\n  <th>beta.5</th>  <td>-2.888e-17</td> <td>        0</td> <td>        0</td> <td> 0.000</td> <td>-2.89e-17</td> <td>-2.89e-17</td>\n</tr>\n<tr>\n  <th>beta.6</th>  <td>-3.932e-17</td> <td>        0</td> <td>        0</td> <td> 0.000</td> <td>-3.93e-17</td> <td>-3.93e-17</td>\n</tr>\n<tr>\n  <th>beta.7</th>  <td>    2.0876</td> <td>    0.728</td> <td>    2.866</td> <td> 0.004</td> <td>    0.660</td> <td>    3.515</td>\n</tr>\n<tr>\n  <th>beta.8</th>  <td>   -0.6773</td> <td>    0.219</td> <td>   -3.088</td> <td> 0.002</td> <td>   -1.107</td> <td>   -0.247</td>\n</tr>\n<tr>\n  <th>beta.9</th>  <td>   -2.6656</td> <td>    0.819</td> <td>   -3.255</td> <td> 0.001</td> <td>   -4.271</td> <td>   -1.061</td>\n</tr>\n<tr>\n  <th>beta.10</th> <td>    0.3138</td> <td>    1.736</td> <td>    0.181</td> <td> 0.857</td> <td>   -3.089</td> <td>    3.717</td>\n</tr>\n<tr>\n  <th>beta.11</th> <td>    0.3700</td> <td>    0.593</td> <td>    0.624</td> <td> 0.533</td> <td>   -0.793</td> <td>    1.533</td>\n</tr>\n<tr>\n  <th>beta.12</th> <td>   -0.1711</td> <td>    1.318</td> <td>   -0.130</td> <td> 0.897</td> <td>   -2.754</td> <td>    2.412</td>\n</tr>\n</table>\n<table class=\"simpletable\">\n<caption>Cointegration relations for loading-coefficients-column 3</caption>\n<tr>\n     <td></td>        <th>coef</th>     <th>std err</th>      <th>z</th>      <th>P>|z|</th>  <th>[0.025</th>    <th>0.975]</th>  \n</tr>\n<tr>\n  <th>beta.1</th>  <td>-1.196e-16</td> <td>        0</td> <td>        0</td> <td> 0.000</td> <td> -1.2e-16</td> <td> -1.2e-16</td>\n</tr>\n<tr>\n  <th>beta.2</th>  <td> 4.468e-16</td> <td>        0</td> <td>        0</td> <td> 0.000</td> <td> 4.47e-16</td> <td> 4.47e-16</td>\n</tr>\n<tr>\n  <th>beta.3</th>  <td>    1.0000</td> <td>        0</td> <td>        0</td> <td> 0.000</td> <td>    1.000</td> <td>    1.000</td>\n</tr>\n<tr>\n  <th>beta.4</th>  <td> 1.831e-17</td> <td>        0</td> <td>        0</td> <td> 0.000</td> <td> 1.83e-17</td> <td> 1.83e-17</td>\n</tr>\n<tr>\n  <th>beta.5</th>  <td> 3.869e-16</td> <td>        0</td> <td>        0</td> <td> 0.000</td> <td> 3.87e-16</td> <td> 3.87e-16</td>\n</tr>\n<tr>\n  <th>beta.6</th>  <td>-1.311e-16</td> <td>        0</td> <td>        0</td> <td> 0.000</td> <td>-1.31e-16</td> <td>-1.31e-16</td>\n</tr>\n<tr>\n  <th>beta.7</th>  <td>   -6.1208</td> <td>    1.186</td> <td>   -5.161</td> <td> 0.000</td> <td>   -8.445</td> <td>   -3.797</td>\n</tr>\n<tr>\n  <th>beta.8</th>  <td>    3.2268</td> <td>    0.357</td> <td>    9.036</td> <td> 0.000</td> <td>    2.527</td> <td>    3.927</td>\n</tr>\n<tr>\n  <th>beta.9</th>  <td>    7.3802</td> <td>    1.333</td> <td>    5.535</td> <td> 0.000</td> <td>    4.767</td> <td>    9.993</td>\n</tr>\n<tr>\n  <th>beta.10</th> <td>  -11.8645</td> <td>    2.827</td> <td>   -4.197</td> <td> 0.000</td> <td>  -17.405</td> <td>   -6.324</td>\n</tr>\n<tr>\n  <th>beta.11</th> <td>    1.3059</td> <td>    0.966</td> <td>    1.352</td> <td> 0.176</td> <td>   -0.587</td> <td>    3.199</td>\n</tr>\n<tr>\n  <th>beta.12</th> <td>   -0.1178</td> <td>    2.145</td> <td>   -0.055</td> <td> 0.956</td> <td>   -4.323</td> <td>    4.087</td>\n</tr>\n</table>\n<table class=\"simpletable\">\n<caption>Cointegration relations for loading-coefficients-column 4</caption>\n<tr>\n     <td></td>        <th>coef</th>     <th>std err</th>      <th>z</th>      <th>P>|z|</th>  <th>[0.025</th>    <th>0.975]</th>  \n</tr>\n<tr>\n  <th>beta.1</th>  <td> 1.626e-16</td> <td>        0</td> <td>        0</td> <td> 0.000</td> <td> 1.63e-16</td> <td> 1.63e-16</td>\n</tr>\n<tr>\n  <th>beta.2</th>  <td> 3.235e-16</td> <td>        0</td> <td>        0</td> <td> 0.000</td> <td> 3.23e-16</td> <td> 3.23e-16</td>\n</tr>\n<tr>\n  <th>beta.3</th>  <td>-4.088e-16</td> <td>        0</td> <td>        0</td> <td> 0.000</td> <td>-4.09e-16</td> <td>-4.09e-16</td>\n</tr>\n<tr>\n  <th>beta.4</th>  <td>    1.0000</td> <td>        0</td> <td>        0</td> <td> 0.000</td> <td>    1.000</td> <td>    1.000</td>\n</tr>\n<tr>\n  <th>beta.5</th>  <td>-7.355e-16</td> <td>        0</td> <td>        0</td> <td> 0.000</td> <td>-7.35e-16</td> <td>-7.35e-16</td>\n</tr>\n<tr>\n  <th>beta.6</th>  <td> 2.978e-16</td> <td>        0</td> <td>        0</td> <td> 0.000</td> <td> 2.98e-16</td> <td> 2.98e-16</td>\n</tr>\n<tr>\n  <th>beta.7</th>  <td>  -16.6324</td> <td>    1.660</td> <td>  -10.021</td> <td> 0.000</td> <td>  -19.885</td> <td>  -13.379</td>\n</tr>\n<tr>\n  <th>beta.8</th>  <td>   -4.9791</td> <td>    0.500</td> <td>   -9.962</td> <td> 0.000</td> <td>   -5.959</td> <td>   -3.999</td>\n</tr>\n<tr>\n  <th>beta.9</th>  <td>  -15.1537</td> <td>    1.866</td> <td>   -8.121</td> <td> 0.000</td> <td>  -18.811</td> <td>  -11.496</td>\n</tr>\n<tr>\n  <th>beta.10</th> <td>    9.7877</td> <td>    3.956</td> <td>    2.474</td> <td> 0.013</td> <td>    2.033</td> <td>   17.542</td>\n</tr>\n<tr>\n  <th>beta.11</th> <td>    6.2965</td> <td>    1.352</td> <td>    4.658</td> <td> 0.000</td> <td>    3.647</td> <td>    8.946</td>\n</tr>\n<tr>\n  <th>beta.12</th> <td>   -1.9952</td> <td>    3.003</td> <td>   -0.664</td> <td> 0.506</td> <td>   -7.880</td> <td>    3.890</td>\n</tr>\n</table>\n<table class=\"simpletable\">\n<caption>Cointegration relations for loading-coefficients-column 5</caption>\n<tr>\n     <td></td>        <th>coef</th>     <th>std err</th>      <th>z</th>      <th>P>|z|</th>  <th>[0.025</th>    <th>0.975]</th>  \n</tr>\n<tr>\n  <th>beta.1</th>  <td> 7.043e-17</td> <td>        0</td> <td>        0</td> <td> 0.000</td> <td> 7.04e-17</td> <td> 7.04e-17</td>\n</tr>\n<tr>\n  <th>beta.2</th>  <td>-5.062e-16</td> <td>        0</td> <td>        0</td> <td> 0.000</td> <td>-5.06e-16</td> <td>-5.06e-16</td>\n</tr>\n<tr>\n  <th>beta.3</th>  <td>-1.314e-17</td> <td>        0</td> <td>        0</td> <td> 0.000</td> <td>-1.31e-17</td> <td>-1.31e-17</td>\n</tr>\n<tr>\n  <th>beta.4</th>  <td>-2.056e-17</td> <td>        0</td> <td>        0</td> <td> 0.000</td> <td>-2.06e-17</td> <td>-2.06e-17</td>\n</tr>\n<tr>\n  <th>beta.5</th>  <td>    1.0000</td> <td>        0</td> <td>        0</td> <td> 0.000</td> <td>    1.000</td> <td>    1.000</td>\n</tr>\n<tr>\n  <th>beta.6</th>  <td> 9.618e-17</td> <td>        0</td> <td>        0</td> <td> 0.000</td> <td> 9.62e-17</td> <td> 9.62e-17</td>\n</tr>\n<tr>\n  <th>beta.7</th>  <td>  -15.8089</td> <td>    1.112</td> <td>  -14.217</td> <td> 0.000</td> <td>  -17.988</td> <td>  -13.629</td>\n</tr>\n<tr>\n  <th>beta.8</th>  <td>    1.4465</td> <td>    0.335</td> <td>    4.320</td> <td> 0.000</td> <td>    0.790</td> <td>    2.103</td>\n</tr>\n<tr>\n  <th>beta.9</th>  <td>    6.0593</td> <td>    1.250</td> <td>    4.847</td> <td> 0.000</td> <td>    3.609</td> <td>    8.510</td>\n</tr>\n<tr>\n  <th>beta.10</th> <td>   -4.3737</td> <td>    2.651</td> <td>   -1.650</td> <td> 0.099</td> <td>   -9.569</td> <td>    0.821</td>\n</tr>\n<tr>\n  <th>beta.11</th> <td>   -2.0350</td> <td>    0.906</td> <td>   -2.247</td> <td> 0.025</td> <td>   -3.810</td> <td>   -0.260</td>\n</tr>\n<tr>\n  <th>beta.12</th> <td>    0.3553</td> <td>    2.012</td> <td>    0.177</td> <td> 0.860</td> <td>   -3.588</td> <td>    4.298</td>\n</tr>\n</table>\n<table class=\"simpletable\">\n<caption>Cointegration relations for loading-coefficients-column 6</caption>\n<tr>\n     <td></td>        <th>coef</th>     <th>std err</th>      <th>z</th>      <th>P>|z|</th>  <th>[0.025</th>    <th>0.975]</th>  \n</tr>\n<tr>\n  <th>beta.1</th>  <td>-1.976e-16</td> <td>        0</td> <td>        0</td> <td> 0.000</td> <td>-1.98e-16</td> <td>-1.98e-16</td>\n</tr>\n<tr>\n  <th>beta.2</th>  <td>-3.905e-17</td> <td>        0</td> <td>        0</td> <td> 0.000</td> <td> -3.9e-17</td> <td> -3.9e-17</td>\n</tr>\n<tr>\n  <th>beta.3</th>  <td>-2.651e-16</td> <td>        0</td> <td>        0</td> <td> 0.000</td> <td>-2.65e-16</td> <td>-2.65e-16</td>\n</tr>\n<tr>\n  <th>beta.4</th>  <td> 7.115e-18</td> <td>        0</td> <td>        0</td> <td> 0.000</td> <td> 7.11e-18</td> <td> 7.11e-18</td>\n</tr>\n<tr>\n  <th>beta.5</th>  <td>-8.236e-17</td> <td>        0</td> <td>        0</td> <td> 0.000</td> <td>-8.24e-17</td> <td>-8.24e-17</td>\n</tr>\n<tr>\n  <th>beta.6</th>  <td>    1.0000</td> <td>        0</td> <td>        0</td> <td> 0.000</td> <td>    1.000</td> <td>    1.000</td>\n</tr>\n<tr>\n  <th>beta.7</th>  <td>   -6.5017</td> <td>    0.247</td> <td>  -26.344</td> <td> 0.000</td> <td>   -6.985</td> <td>   -6.018</td>\n</tr>\n<tr>\n  <th>beta.8</th>  <td>   -4.4640</td> <td>    0.074</td> <td>  -60.063</td> <td> 0.000</td> <td>   -4.610</td> <td>   -4.318</td>\n</tr>\n<tr>\n  <th>beta.9</th>  <td>   -6.5344</td> <td>    0.277</td> <td>  -23.548</td> <td> 0.000</td> <td>   -7.078</td> <td>   -5.991</td>\n</tr>\n<tr>\n  <th>beta.10</th> <td>    8.2765</td> <td>    0.588</td> <td>   14.068</td> <td> 0.000</td> <td>    7.123</td> <td>    9.430</td>\n</tr>\n<tr>\n  <th>beta.11</th> <td>   -1.0497</td> <td>    0.201</td> <td>   -5.222</td> <td> 0.000</td> <td>   -1.444</td> <td>   -0.656</td>\n</tr>\n<tr>\n  <th>beta.12</th> <td>   -0.8477</td> <td>    0.447</td> <td>   -1.899</td> <td> 0.058</td> <td>   -1.723</td> <td>    0.027</td>\n</tr>\n</table>"
     },
     "metadata": {},
     "output_type": "execute_result",
     "execution_count": 115
    }
   ],
   "source": [
    "from statsmodels.tsa.vector_ar.vecm import VECM\n",
    "df_vecm = VECM(endog=df_train_log, k_ar_diff=5, coint_rank=6,deterministic='nc')\n",
    "df_vecm_fitted = df_vecm.fit()\n",
    "df_vecm_fitted.summary()\n"
   ],
   "metadata": {
    "collapsed": false,
    "pycharm": {
     "name": "#%%\n",
     "is_executing": false
    }
   }
  },
  {
   "cell_type": "code",
   "execution_count": 90,
   "outputs": [],
   "source": [
    "df_vecm_fitted.beta[0]"
   ],
   "metadata": {
    "collapsed": false,
    "pycharm": {
     "name": "#%%\n",
     "is_executing": false
    }
   }
  },
  {
   "cell_type": "code",
   "execution_count": null,
   "outputs": [],
   "source": [],
   "metadata": {
    "collapsed": false,
    "pycharm": {
     "name": "#%%\n"
    }
   }
  }
 ],
 "metadata": {
  "kernelspec": {
   "display_name": "Python 3",
   "language": "python",
   "name": "python3"
  },
  "language_info": {
   "codemirror_mode": {
    "name": "ipython",
    "version": 2
   },
   "file_extension": ".py",
   "mimetype": "text/x-python",
   "name": "python",
   "nbconvert_exporter": "python",
   "pygments_lexer": "ipython2",
   "version": "2.7.6"
  },
  "pycharm": {
   "stem_cell": {
    "cell_type": "raw",
    "source": [],
    "metadata": {
     "collapsed": false
    }
   }
  }
 },
 "nbformat": 4,
 "nbformat_minor": 0
}