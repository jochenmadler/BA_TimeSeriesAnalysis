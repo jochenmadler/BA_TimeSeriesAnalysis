{
 "cells": [
  {
   "cell_type": "code",
   "execution_count": 1,
   "metadata": {
    "collapsed": true,
    "pycharm": {
     "is_executing": false
    }
   },
   "outputs": [],
   "source": [
    "\n",
    "# set up imports\n",
    "import pandas as pd, numpy as np, seaborn as sns\n",
    "from tabulate import tabulate\n",
    "import statsmodels\n",
    "import arch\n",
    "import matplotlib\n",
    "matplotlib.use('qt5agg')\n",
    "\n",
    "# configure plot style\n",
    "import matplotlib.pyplot as plt\n",
    "plt.rcParams['mathtext.fontset'] = 'stix'\n",
    "plt.rcParams['font.family'] = 'STIXGeneral'\n",
    "plt.rcParams[\"figure.figsize\"] = (9.5,4.15)\n",
    "plt.rcParams['figure.constrained_layout.use'] = False\n",
    "plt.rcParams['figure.dpi'] = 100\n",
    "plt.rcParams['savefig.dpi'] = 100\n",
    "plt.rcParams['lines.linewidth'] = 0.8\n",
    "save_plot_to =  r'C:\\\\Users\\joche\\OneDrive\\03 TUM - TUM-BWL\\Semester 8\\01 Bachelorarbeit\\04 Results\\Plots/'"
   ]
  },
  {
   "cell_type": "code",
   "execution_count": 10,
   "outputs": [
    {
     "data": {
      "text/plain": "        Name  Code      Preis Marktkapitalisierung Token im Umlauf  \\\nNr                                                                   \n1    Bitcoin   BTC  11,001.79      203,435,004,654      18,491,081   \n2   Ethereum   ETH     365.89       41,209,039,142     112,625,384   \n3     Tether  USDT       1.00       14,968,418,211  14,948,443,416   \n4     Ripple   XRP   0.244362       11,006,655,129  45,042,338,912   \n5   Polkadot   DOT       5.00        4,265,688,815     852,647,705   \n\n   max. Anzahl Token  \nNr                    \n1         21,000,000  \n2                  -  \n3                  -  \n4    100,000,000,000  \n5                  -  ",
      "text/html": "<div>\n<style scoped>\n    .dataframe tbody tr th:only-of-type {\n        vertical-align: middle;\n    }\n\n    .dataframe tbody tr th {\n        vertical-align: top;\n    }\n\n    .dataframe thead th {\n        text-align: right;\n    }\n</style>\n<table border=\"1\" class=\"dataframe\">\n  <thead>\n    <tr style=\"text-align: right;\">\n      <th></th>\n      <th>Name</th>\n      <th>Code</th>\n      <th>Preis</th>\n      <th>Marktkapitalisierung</th>\n      <th>Token im Umlauf</th>\n      <th>max. Anzahl Token</th>\n    </tr>\n    <tr>\n      <th>Nr</th>\n      <th></th>\n      <th></th>\n      <th></th>\n      <th></th>\n      <th></th>\n      <th></th>\n    </tr>\n  </thead>\n  <tbody>\n    <tr>\n      <td>1</td>\n      <td>Bitcoin</td>\n      <td>BTC</td>\n      <td>11,001.79</td>\n      <td>203,435,004,654</td>\n      <td>18,491,081</td>\n      <td>21,000,000</td>\n    </tr>\n    <tr>\n      <td>2</td>\n      <td>Ethereum</td>\n      <td>ETH</td>\n      <td>365.89</td>\n      <td>41,209,039,142</td>\n      <td>112,625,384</td>\n      <td>-</td>\n    </tr>\n    <tr>\n      <td>3</td>\n      <td>Tether</td>\n      <td>USDT</td>\n      <td>1.00</td>\n      <td>14,968,418,211</td>\n      <td>14,948,443,416</td>\n      <td>-</td>\n    </tr>\n    <tr>\n      <td>4</td>\n      <td>Ripple</td>\n      <td>XRP</td>\n      <td>0.244362</td>\n      <td>11,006,655,129</td>\n      <td>45,042,338,912</td>\n      <td>100,000,000,000</td>\n    </tr>\n    <tr>\n      <td>5</td>\n      <td>Polkadot</td>\n      <td>DOT</td>\n      <td>5.00</td>\n      <td>4,265,688,815</td>\n      <td>852,647,705</td>\n      <td>-</td>\n    </tr>\n  </tbody>\n</table>\n</div>"
     },
     "metadata": {},
     "output_type": "execute_result",
     "execution_count": 10
    }
   ],
   "source": [
    "# read coinmarketcap top 5 cryptos and rename some columns\n",
    "df_top5 = pd.read_csv('Data/20200916_top5cryptocurrencies.txt', delimiter='\\s+', header=0)\n",
    "df_top5.set_index(df_top5.columns[0], inplace=True)\n",
    "df_top5.rename(columns={'Tokens_Umlauf':'Token im Umlauf',\n",
    "                        'Token_max':'max. Anzahl Token'}, inplace=True)\n",
    "df_top5"
   ],
   "metadata": {
    "collapsed": false,
    "pycharm": {
     "name": "#%%\n",
     "is_executing": false
    }
   }
  },
  {
   "cell_type": "code",
   "execution_count": 11,
   "outputs": [
    {
     "name": "stdout",
     "text": [
      "\\begin{tabular}{rllllll}\n\\hline\n    & Name     & Code   & Preis     & Marktkapitalisierung   & Token im Umlauf   & max. Anzahl Token   \\\\\n\\hline\n  1 & Bitcoin  & BTC    & 11,001.79 & 203,435,004,654        & 18,491,081        & 21,000,000          \\\\\n  2 & Ethereum & ETH    & 365.89    & 41,209,039,142         & 112,625,384       & -                   \\\\\n  3 & Tether   & USDT   & 1.00      & 14,968,418,211         & 14,948,443,416    & -                   \\\\\n  4 & Ripple   & XRP    & 0.244362  & 11,006,655,129         & 45,042,338,912    & 100,000,000,000     \\\\\n  5 & Polkadot & DOT    & 5.00      & 4,265,688,815          & 852,647,705       & -                   \\\\\n\\hline\n\\end{tabular}\n"
     ],
     "output_type": "stream"
    }
   ],
   "source": [
    "# plot df_top5 as latex table\n",
    "print(tabulate(df_top5, headers=df_top5.columns, showindex=True, tablefmt=\"latex\"))"
   ],
   "metadata": {
    "collapsed": false,
    "pycharm": {
     "name": "#%%\n",
     "is_executing": false
    }
   }
  },
  {
   "cell_type": "code",
   "execution_count": 8,
   "outputs": [],
   "source": [],
   "metadata": {
    "collapsed": false,
    "pycharm": {
     "name": "#%%\n",
     "is_executing": false
    }
   }
  }
 ],
 "metadata": {
  "kernelspec": {
   "display_name": "Python 3",
   "language": "python",
   "name": "python3"
  },
  "language_info": {
   "codemirror_mode": {
    "name": "ipython",
    "version": 2
   },
   "file_extension": ".py",
   "mimetype": "text/x-python",
   "name": "python",
   "nbconvert_exporter": "python",
   "pygments_lexer": "ipython2",
   "version": "2.7.6"
  },
  "pycharm": {
   "stem_cell": {
    "cell_type": "raw",
    "source": [],
    "metadata": {
     "collapsed": false
    }
   }
  }
 },
 "nbformat": 4,
 "nbformat_minor": 0
}