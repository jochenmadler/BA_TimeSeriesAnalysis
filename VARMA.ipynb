{
 "cells": [
  {
   "cell_type": "code",
   "execution_count": 7,
   "metadata": {
    "collapsed": true,
    "pycharm": {
     "is_executing": false
    }
   },
   "outputs": [],
   "source": [
    "import pandas as pd, numpy as np\n",
    "import matplotlib, seaborn as sns\n",
    "matplotlib.use('Qt5Agg')\n",
    "import matplotlib.pyplot as plt\n",
    "plt.rcParams[\"figure.figsize\"] = (7,3)\n",
    "plt.rcParams['figure.constrained_layout.use'] = True"
   ]
  },
  {
   "cell_type": "code",
   "execution_count": 98,
   "outputs": [],
   "source": [
    "# load data and crop to earliest_all and latest_all\n",
    "earliest_all = '2015-08-07'\n",
    "latest_all = '2020-06-26'\n",
    "mydateparser = lambda x: pd.datetime.strptime(str(x), '%Y-%m-%d %H:%M:%S')\n",
    "mydateparser1 = lambda x: pd.datetime.strptime(str(x), '%Y-%m-%d')\n",
    "btc_series = pd.read_excel('Data/BTC_closing.xlsx',squeeze=True, parse_dates=[0], index_col=0, date_parser=mydateparser)[earliest_all:latest_all]\n",
    "eth_series = pd.read_excel('Data/ETH.xlsx',squeeze=True, parse_dates=[0], index_col=0, date_parser=mydateparser, usecols='A,E')[earliest_all:latest_all]\n",
    "\n",
    "oil_WTI = pd.read_excel('Data/DCOILWTICO.xls', squeeze=True, parse_dates=[0], index_col=0, skiprows=10, date_parser=mydateparser)[earliest_all:latest_all]\n",
    "oil_BRENT = pd.read_excel('Data/DCOILBRENTEU.xls', squeeze=True, parse_dates=[0], index_col=0, skiprows=10, date_parser=mydateparser)[earliest_all:latest_all]\n",
    "\n",
    "ex_JPN_USD = pd.read_excel('Data/DEXJPUS.xls', squeeze=True, parse_dates=[0], index_col=0, skiprows=10, date_parser=mydateparser)[earliest_all:latest_all]\n",
    "ex_EUR_USD = 1 / pd.read_excel('Data/DEXUSEU.xls', squeeze=True, parse_dates=[0], index_col=0, skiprows=10, date_parser=mydateparser)[earliest_all:latest_all]\n",
    "ex_GBP_USD = 1 / pd.read_excel('Data/DEXUSUK.xls', squeeze=True, parse_dates=[0], index_col=0, skiprows=10, date_parser=mydateparser)[earliest_all:latest_all]\n",
    "\n",
    "gold_10am = pd.read_excel('Data/GOLDAMGBD228NLBM10AM.xls', squeeze=True, parse_dates=[0], index_col=0, skiprows=10, date_parser=mydateparser)[earliest_all:latest_all]\n",
    "gold_03pm = pd.read_excel('Data/GOLDPMGBD228NLBM3PM.xls', squeeze=True, parse_dates=[0], index_col=0, skiprows=10, date_parser=mydateparser)[earliest_all:latest_all]\n",
    "\n",
    "dax = pd.read_excel('Data/SDAXI.xlsx', squeeze=True, parse_dates=[0], index_col=0, date_parser=mydateparser1, usecols=[0,5])[earliest_all:latest_all]\n",
    "sp500 = pd.read_excel('Data/SP500.xls', squeeze=True, parse_dates=[0], index_col=0, skiprows=10, date_parser=mydateparser)[earliest_all:latest_all]"
   ],
   "metadata": {
    "collapsed": false,
    "pycharm": {
     "name": "#%%\n",
     "is_executing": false
    }
   }
  },
  {
   "cell_type": "code",
   "execution_count": 99,
   "outputs": [
    {
     "name": "stdout",
     "text": [
      "BTC:  1786 \n 2015-08-07 00:00:00 \n 2020-06-26 00:00:00 \n\nETH:  1786 \n 2015-08-07 00:00:00 \n 2020-06-26 00:00:00 \n\nOIL WTI:  1276 \n 2015-08-07 00:00:00 \n 2020-06-26 00:00:00 \n\nOIL BRENT:  1276 \n 2015-08-07 00:00:00 \n 2020-06-26 00:00:00 \n\nJPN_USD:  1276 \n 2015-08-07 00:00:00 \n 2020-06-26 00:00:00 \n\nEUR_USD:  1276 \n 2015-08-07 00:00:00 \n 2020-06-26 00:00:00 \n\nGBP USD:  1276 \n 2015-08-07 00:00:00 \n 2020-06-26 00:00:00 \n\nGOLD 10am:  1276 \n 2015-08-07 00:00:00 \n 2020-06-26 00:00:00 \n\nGOLD 03pm:  1276 \n 2015-08-07 00:00:00 \n 2020-06-26 00:00:00 \n\nDAX:  1239 \n 2015-08-07 00:00:00 \n 2020-06-26 00:00:00 \n\nSP500:  1276 \n 2015-08-07 00:00:00 \n 2020-06-26 00:00:00 \n\n"
     ],
     "output_type": "stream"
    }
   ],
   "source": [
    "print('BTC: ', len(btc_series), '\\n', btc_series.index[0], '\\n', btc_series.index[-1], '\\n')\n",
    "print('ETH: ', len(eth_series), '\\n', eth_series.index[0], '\\n', eth_series.index[-1], '\\n')\n",
    "print('OIL WTI: ', len(oil_WTI), '\\n', oil_WTI.index[0], '\\n', oil_WTI.index[-1], '\\n')\n",
    "print('OIL BRENT: ', len(oil_BRENT), '\\n', oil_BRENT.index[0], '\\n', oil_BRENT.index[-1], '\\n')\n",
    "print('JPN_USD: ', len(ex_JPN_USD), '\\n', ex_JPN_USD.index[0], '\\n', ex_JPN_USD.index[-1], '\\n')\n",
    "print('EUR_USD: ', len(ex_EUR_USD), '\\n', ex_EUR_USD.index[0], '\\n', ex_EUR_USD.index[-1], '\\n')\n",
    "print('GBP USD: ', len(ex_GBP_USD), '\\n', ex_GBP_USD.index[0], '\\n', ex_GBP_USD.index[-1], '\\n')\n",
    "print('GOLD 10am: ', len(gold_10am), '\\n', gold_10am.index[0], '\\n', gold_10am.index[-1], '\\n')\n",
    "print('GOLD 03pm: ', len(gold_03pm), '\\n', gold_03pm.index[0], '\\n', gold_03pm.index[-1], '\\n')\n",
    "print('DAX: ', len(dax), '\\n', dax.index[0], '\\n', dax.index[-1], '\\n')\n",
    "print('SP500: ', len(sp500), '\\n', sp500.index[0], '\\n', sp500.index[-1], '\\n')\n",
    "\n",
    "earliest_all = '2015-08-07'\n",
    "latest_all = '2020-06-26'\n",
    "\n"
   ],
   "metadata": {
    "collapsed": false,
    "pycharm": {
     "name": "#%%\n",
     "is_executing": false
    }
   }
  },
  {
   "cell_type": "code",
   "execution_count": 106,
   "outputs": [
    {
     "data": {
      "text/plain": "1239"
     },
     "metadata": {},
     "output_type": "execute_result",
     "execution_count": 106
    }
   ],
   "source": [
    "len(dax)\n",
    "# dax does not contain weekends and holidays, same for sp500\n",
    "# traverse all data and pick dates only, where data for all is available\n"
   ],
   "metadata": {
    "collapsed": false,
    "pycharm": {
     "name": "#%%\n",
     "is_executing": false
    }
   }
  },
  {
   "cell_type": "code",
   "execution_count": null,
   "outputs": [],
   "source": [
    "\n"
   ],
   "metadata": {
    "collapsed": false,
    "pycharm": {
     "name": "#%%\n"
    }
   }
  }
 ],
 "metadata": {
  "kernelspec": {
   "display_name": "Python 3",
   "language": "python",
   "name": "python3"
  },
  "language_info": {
   "codemirror_mode": {
    "name": "ipython",
    "version": 2
   },
   "file_extension": ".py",
   "mimetype": "text/x-python",
   "name": "python",
   "nbconvert_exporter": "python",
   "pygments_lexer": "ipython2",
   "version": "2.7.6"
  },
  "pycharm": {
   "stem_cell": {
    "cell_type": "raw",
    "source": [],
    "metadata": {
     "collapsed": false
    }
   }
  }
 },
 "nbformat": 4,
 "nbformat_minor": 0
}