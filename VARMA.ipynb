{
 "cells": [
  {
   "cell_type": "code",
   "execution_count": 246,
   "metadata": {
    "collapsed": true,
    "pycharm": {
     "is_executing": false
    }
   },
   "outputs": [],
   "source": [
    "import pandas as pd, numpy as np\n",
    "import matplotlib, seaborn as sns\n",
    "matplotlib.use('Qt5Agg')\n",
    "import matplotlib.pyplot as plt\n",
    "plt.rcParams[\"figure.figsize\"] = (7,3)\n",
    "plt.rcParams['figure.constrained_layout.use'] = True"
   ]
  },
  {
   "cell_type": "code",
   "execution_count": 270,
   "outputs": [],
   "source": [
    "# load data and crop to earliest_all and latest_all\n",
    "data_list = {}\n",
    "earliest_all = '2015-08-07'\n",
    "latest_all = '2020-06-26'\n",
    "mydateparser = lambda x: pd.datetime.strptime(str(x), '%Y-%m-%d %H:%M:%S')\n",
    "mydateparser1 = lambda x: pd.datetime.strptime(str(x), '%Y-%m-%d')\n",
    "btc_series = pd.read_excel('Data/BTC_closing.xlsx',squeeze=True, parse_dates=[0], index_col=0, date_parser=mydateparser)[earliest_all:latest_all]\n",
    "data_list['btc_series'] = btc_series\n",
    "eth_series = pd.read_excel('Data/ETH.xlsx',squeeze=True, parse_dates=[0], index_col=0, date_parser=mydateparser, usecols='A,E')[earliest_all:latest_all]\n",
    "data_list['eth_series'] = eth_series\n",
    "\n",
    "oil_WTI = pd.read_excel('Data/DCOILWTICO.xls', squeeze=True, parse_dates=[0], index_col=0, skiprows=10, date_parser=mydateparser)[earliest_all:latest_all]\n",
    "data_list['oil_WTI'] = oil_WTI\n",
    "oil_BRENT = pd.read_excel('Data/DCOILBRENTEU.xls', squeeze=True, parse_dates=[0], index_col=0, skiprows=10, date_parser=mydateparser)[earliest_all:latest_all]\n",
    "data_list['oil_BRENT'] = oil_BRENT\n",
    "\n",
    "ex_JPN_USD = pd.read_excel('Data/DEXJPUS.xls', squeeze=True, parse_dates=[0], index_col=0, skiprows=10, date_parser=mydateparser)[earliest_all:latest_all]\n",
    "data_list['ex_JPN_USD'] = ex_JPN_USD\n",
    "ex_EUR_USD = 1 / pd.read_excel('Data/DEXUSEU.xls', squeeze=True, parse_dates=[0], index_col=0, skiprows=10, date_parser=mydateparser)[earliest_all:latest_all]\n",
    "data_list['ex_EUR_USD'] = ex_EUR_USD\n",
    "ex_GBP_USD = 1 / pd.read_excel('Data/DEXUSUK.xls', squeeze=True, parse_dates=[0], index_col=0, skiprows=10, date_parser=mydateparser)[earliest_all:latest_all]\n",
    "data_list['ex_GBP_USD'] = ex_GBP_USD\n",
    "\n",
    "gold_10am = pd.read_excel('Data/GOLDAMGBD228NLBM10AM.xls', squeeze=True, parse_dates=[0], index_col=0, skiprows=10, date_parser=mydateparser)[earliest_all:latest_all]\n",
    "data_list['gold_10am'] = gold_10am\n",
    "gold_03pm = pd.read_excel('Data/GOLDPMGBD228NLBM3PM.xls', squeeze=True, parse_dates=[0], index_col=0, skiprows=10, date_parser=mydateparser)[earliest_all:latest_all]\n",
    "data_list['gold_03pm'] = gold_03pm\n",
    "\n",
    "dax = pd.read_excel('Data/SDAXI.xlsx', squeeze=True, parse_dates=[0], index_col=0, date_parser=mydateparser1, usecols=[0,5])[earliest_all:latest_all]\n",
    "data_list['dax'] = dax\n",
    "sp500 = pd.read_excel('Data/SP500.xls', squeeze=True, parse_dates=[0], index_col=0, skiprows=10, date_parser=mydateparser)[earliest_all:latest_all]\n",
    "data_list['sp500'] = sp500"
   ],
   "metadata": {
    "collapsed": false,
    "pycharm": {
     "name": "#%%\n",
     "is_executing": false
    }
   }
  },
  {
   "cell_type": "code",
   "execution_count": 296,
   "outputs": [
    {
     "name": "stdout",
     "text": [
      "btc_series \t\t\t n = 1239 \nFirst:\t 2015-08-07 00:00:00 \nLast:\t 2020-06-26 00:00:00 \n\neth_series \t\t\t n = 1239 \nFirst:\t 2015-08-07 00:00:00 \nLast:\t 2020-06-26 00:00:00 \n\noil_WTI \t\t\t n = 1239 \nFirst:\t 2015-08-07 00:00:00 \nLast:\t 2020-06-26 00:00:00 \n\noil_BRENT \t\t\t n = 1239 \nFirst:\t 2015-08-07 00:00:00 \nLast:\t 2020-06-26 00:00:00 \n\nex_JPN_USD \t\t\t n = 1239 \nFirst:\t 2015-08-07 00:00:00 \nLast:\t 2020-06-26 00:00:00 \n\nex_EUR_USD \t\t\t n = 1239 \nFirst:\t 2015-08-07 00:00:00 \nLast:\t 2020-06-26 00:00:00 \n\nex_GBP_USD \t\t\t n = 1239 \nFirst:\t 2015-08-07 00:00:00 \nLast:\t 2020-06-26 00:00:00 \n\ngold_10am \t\t\t n = 1239 \nFirst:\t 2015-08-07 00:00:00 \nLast:\t 2020-06-26 00:00:00 \n\ngold_03pm \t\t\t n = 1239 \nFirst:\t 2015-08-07 00:00:00 \nLast:\t 2020-06-26 00:00:00 \n\ndax \t\t\t\t n = 1239 \nFirst:\t 2015-08-07 00:00:00 \nLast:\t 2020-06-26 00:00:00 \n\nsp500 \t\t\t\t n = 1239 \nFirst:\t 2015-08-07 00:00:00 \nLast:\t 2020-06-26 00:00:00 \n\n"
     ],
     "output_type": "stream"
    }
   ],
   "source": [
    "def print_data_list():\n",
    "    for i in data_list:\n",
    "        if i == 'dax' or i == 'sp500': \n",
    "            t = 4\n",
    "        else: \n",
    "            t = 3\n",
    "        print(i, '\\t'*t, 'n =' , len(data_list[i]), '\\nFirst:\\t', \n",
    "              data_list[i].index[0], '\\nLast:\\t',\n",
    "              data_list[i].index[-1], '\\n')\n",
    "\n",
    "print_data_list()"
   ],
   "metadata": {
    "collapsed": false,
    "pycharm": {
     "name": "#%%\n",
     "is_executing": false
    }
   }
  },
  {
   "cell_type": "code",
   "execution_count": 303,
   "outputs": [
    {
     "name": "stdout",
     "text": [
      "btc_series \t  is equal to dax\neth_series \t  is equal to dax\noil_WTI \t  is equal to dax\noil_BRENT \t  is equal to dax\nex_JPN_USD \t  is equal to dax\nex_EUR_USD \t  is equal to dax\nex_GBP_USD \t  is equal to dax\ngold_10am \t  is equal to dax\ngold_03pm \t  is equal to dax\ndax \t\t  is equal to dax\nsp500 \t\t  is equal to dax\n"
     ],
     "output_type": "stream"
    }
   ],
   "source": [
    "# dax is bottleneck and contains the least values\n",
    "# take difference of every series with dax and drop these indices from the respective series\n",
    "\n",
    "for series in data_list:\n",
    "    data_list[series].drop(data_list[series].index.difference(dax.index), inplace=True)\n",
    "\n",
    "for k in data_list:\n",
    "    if data_list[k].index.equals(dax.index):\n",
    "        if k == 'dax' or k == 'sp500':\n",
    "            j = 2\n",
    "        else:\n",
    "            j = 1\n",
    "        print(k, '\\t'*j , ' is equal to dax')"
   ],
   "metadata": {
    "collapsed": false,
    "pycharm": {
     "name": "#%%\n",
     "is_executing": false
    }
   }
  },
  {
   "cell_type": "code",
   "execution_count": 275,
   "outputs": [
    {
     "data": {
      "text/plain": "dict_keys(['btc_series', 'eth_series', 'oil_WTI', 'oil_BRENT', 'ex_JPN_USD', 'ex_EUR_USD', 'ex_GBP_USD', 'gold_10am', 'gold_03pm', 'dax', 'sp500'])"
     },
     "metadata": {},
     "output_type": "execute_result",
     "execution_count": 275
    }
   ],
   "source": [],
   "metadata": {
    "collapsed": false,
    "pycharm": {
     "name": "#%%\n",
     "is_executing": false
    }
   }
  },
  {
   "cell_type": "code",
   "execution_count": 259,
   "outputs": [
    {
     "data": {
      "text/plain": "1239"
     },
     "metadata": {},
     "output_type": "execute_result",
     "execution_count": 259
    }
   ],
   "source": [],
   "metadata": {
    "collapsed": false,
    "pycharm": {
     "name": "#%%\n",
     "is_executing": false
    }
   }
  }
 ],
 "metadata": {
  "kernelspec": {
   "display_name": "Python 3",
   "language": "python",
   "name": "python3"
  },
  "language_info": {
   "codemirror_mode": {
    "name": "ipython",
    "version": 2
   },
   "file_extension": ".py",
   "mimetype": "text/x-python",
   "name": "python",
   "nbconvert_exporter": "python",
   "pygments_lexer": "ipython2",
   "version": "2.7.6"
  },
  "pycharm": {
   "stem_cell": {
    "cell_type": "raw",
    "source": [],
    "metadata": {
     "collapsed": false
    }
   }
  }
 },
 "nbformat": 4,
 "nbformat_minor": 0
}