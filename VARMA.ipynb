{
 "cells": [
  {
   "cell_type": "code",
   "execution_count": 42,
   "metadata": {
    "collapsed": true,
    "pycharm": {
     "is_executing": false
    }
   },
   "outputs": [],
   "source": [
    "import pandas as pd, numpy as np\n",
    "import matplotlib, seaborn as sns\n",
    "matplotlib.use('Qt5Agg')\n",
    "import matplotlib.pyplot as plt\n",
    "plt.rcParams[\"figure.figsize\"] = (7,3)\n",
    "plt.rcParams['figure.constrained_layout.use'] = True"
   ]
  },
  {
   "cell_type": "code",
   "execution_count": 64,
   "outputs": [],
   "source": [
    "# load data and crop to earliest_all and latest_all\n",
    "data_list = {}\n",
    "earliest_all = '2015-08-07'\n",
    "latest_all = '2020-06-26'\n",
    "mydateparser = lambda x: pd.datetime.strptime(str(x), '%Y-%m-%d %H:%M:%S')\n",
    "mydateparser1 = lambda x: pd.datetime.strptime(str(x), '%Y-%m-%d')\n",
    "btc_series = pd.read_excel('Data/BTC_closing.xlsx',squeeze=True, parse_dates=[0], index_col=0, date_parser=mydateparser)[earliest_all:latest_all]\n",
    "data_list['btc_series'] = btc_series\n",
    "eth_series = pd.read_excel('Data/ETH.xlsx',squeeze=True, parse_dates=[0], index_col=0, date_parser=mydateparser, usecols='A,E')[earliest_all:latest_all]\n",
    "data_list['eth_series'] = eth_series\n",
    "\n",
    "oil_WTI = pd.read_excel('Data/DCOILWTICO.xls', squeeze=True, parse_dates=[0], index_col=0, skiprows=10, date_parser=mydateparser)[earliest_all:latest_all]\n",
    "data_list['oil_WTI'] = oil_WTI\n",
    "oil_BRENT = pd.read_excel('Data/DCOILBRENTEU.xls', squeeze=True, parse_dates=[0], index_col=0, skiprows=10, date_parser=mydateparser)[earliest_all:latest_all]\n",
    "data_list['oil_BRENT'] = oil_BRENT\n",
    "\n",
    "ex_JPN_USD = pd.read_excel('Data/DEXJPUS.xls', squeeze=True, parse_dates=[0], index_col=0, skiprows=10, date_parser=mydateparser)[earliest_all:latest_all]\n",
    "data_list['ex_JPN_USD'] = ex_JPN_USD\n",
    "ex_EUR_USD = 1 / pd.read_excel('Data/DEXUSEU.xls', squeeze=True, parse_dates=[0], index_col=0, skiprows=10, date_parser=mydateparser)[earliest_all:latest_all]\n",
    "data_list['ex_EUR_USD'] = ex_EUR_USD\n",
    "ex_GBP_USD = 1 / pd.read_excel('Data/DEXUSUK.xls', squeeze=True, parse_dates=[0], index_col=0, skiprows=10, date_parser=mydateparser)[earliest_all:latest_all]\n",
    "data_list['ex_GBP_USD'] = ex_GBP_USD\n",
    "\n",
    "gold_10am = pd.read_excel('Data/GOLDAMGBD228NLBM10AM.xls', squeeze=True, parse_dates=[0], index_col=0, skiprows=10, date_parser=mydateparser)[earliest_all:latest_all]\n",
    "data_list['gold_10am'] = gold_10am\n",
    "gold_03pm = pd.read_excel('Data/GOLDPMGBD228NLBM3PM.xls', squeeze=True, parse_dates=[0], index_col=0, skiprows=10, date_parser=mydateparser)[earliest_all:latest_all]\n",
    "data_list['gold_03pm'] = gold_03pm\n",
    "\n",
    "dax = pd.read_excel('Data/SDAXI.xlsx', squeeze=True, parse_dates=[0], index_col=0, date_parser=mydateparser1, usecols=[0,5])[earliest_all:latest_all]\n",
    "data_list['dax'] = dax\n",
    "sp500 = pd.read_excel('Data/SP500.xls', squeeze=True, parse_dates=[0], index_col=0, skiprows=10, date_parser=mydateparser)[earliest_all:latest_all]\n",
    "data_list['sp500'] = sp500"
   ],
   "metadata": {
    "collapsed": false,
    "pycharm": {
     "name": "#%%\n",
     "is_executing": false
    }
   }
  },
  {
   "cell_type": "code",
   "execution_count": 44,
   "outputs": [
    {
     "name": "stdout",
     "text": [
      "btc_series \t\t\t n = 1786 \nFirst:\t 2015-08-07 00:00:00 \nLast:\t 2020-06-26 00:00:00 \n\neth_series \t\t\t n = 1786 \nFirst:\t 2015-08-07 00:00:00 \nLast:\t 2020-06-26 00:00:00 \n\noil_WTI \t\t\t n = 1276 \nFirst:\t 2015-08-07 00:00:00 \nLast:\t 2020-06-26 00:00:00 \n\noil_BRENT \t\t\t n = 1276 \nFirst:\t 2015-08-07 00:00:00 \nLast:\t 2020-06-26 00:00:00 \n\nex_JPN_USD \t\t\t n = 1276 \nFirst:\t 2015-08-07 00:00:00 \nLast:\t 2020-06-26 00:00:00 \n\nex_EUR_USD \t\t\t n = 1276 \nFirst:\t 2015-08-07 00:00:00 \nLast:\t 2020-06-26 00:00:00 \n\nex_GBP_USD \t\t\t n = 1276 \nFirst:\t 2015-08-07 00:00:00 \nLast:\t 2020-06-26 00:00:00 \n\ngold_10am \t\t\t n = 1276 \nFirst:\t 2015-08-07 00:00:00 \nLast:\t 2020-06-26 00:00:00 \n\ngold_03pm \t\t\t n = 1276 \nFirst:\t 2015-08-07 00:00:00 \nLast:\t 2020-06-26 00:00:00 \n\ndax \t\t\t\t n = 1239 \nFirst:\t 2015-08-07 00:00:00 \nLast:\t 2020-06-26 00:00:00 \n\nsp500 \t\t\t\t n = 1276 \nFirst:\t 2015-08-07 00:00:00 \nLast:\t 2020-06-26 00:00:00 \n\n"
     ],
     "output_type": "stream"
    }
   ],
   "source": [
    "# get series overview: same start and end but different lengths, because some days are missing\n",
    "def print_data_list():\n",
    "    for i in data_list:\n",
    "        if i == 'dax' or i == 'sp500': \n",
    "            t = 4\n",
    "        else: \n",
    "            t = 3\n",
    "        print(i, '\\t'*t, 'n =' , len(data_list[i]), '\\nFirst:\\t', \n",
    "              data_list[i].index[0], '\\nLast:\\t',\n",
    "              data_list[i].index[-1], '\\n')\n",
    "\n",
    "print_data_list()"
   ],
   "metadata": {
    "collapsed": false,
    "pycharm": {
     "name": "#%%\n",
     "is_executing": false
    }
   }
  },
  {
   "cell_type": "code",
   "execution_count": 65,
   "outputs": [
    {
     "name": "stdout",
     "text": [
      "btc_series \t\t\t n = 1786 \nFirst:\t 2015-08-07 00:00:00 \nLast:\t 2020-06-26 00:00:00 \n\neth_series \t\t\t n = 1786 \nFirst:\t 2015-08-07 00:00:00 \nLast:\t 2020-06-26 00:00:00 \n\noil_WTI \t\t\t n = 1786 \nFirst:\t 2015-08-07 00:00:00 \nLast:\t 2020-06-26 00:00:00 \n\noil_BRENT \t\t\t n = 1786 \nFirst:\t 2015-08-07 00:00:00 \nLast:\t 2020-06-26 00:00:00 \n\nex_JPN_USD \t\t\t n = 1786 \nFirst:\t 2015-08-07 00:00:00 \nLast:\t 2020-06-26 00:00:00 \n\nex_EUR_USD \t\t\t n = 1786 \nFirst:\t 2015-08-07 00:00:00 \nLast:\t 2020-06-26 00:00:00 \n\nex_GBP_USD \t\t\t n = 1786 \nFirst:\t 2015-08-07 00:00:00 \nLast:\t 2020-06-26 00:00:00 \n\ngold_10am \t\t\t n = 1786 \nFirst:\t 2015-08-07 00:00:00 \nLast:\t 2020-06-26 00:00:00 \n\ngold_03pm \t\t\t n = 1786 \nFirst:\t 2015-08-07 00:00:00 \nLast:\t 2020-06-26 00:00:00 \n\ndax \t\t\t\t n = 1786 \nFirst:\t 2015-08-07 00:00:00 \nLast:\t 2020-06-26 00:00:00 \n\nsp500 \t\t\t\t n = 1786 \nFirst:\t 2015-08-07 00:00:00 \nLast:\t 2020-06-26 00:00:00 \n\n"
     ],
     "output_type": "stream"
    }
   ],
   "source": [
    "# for each series, resample to get every day between start and end period\n",
    "# for each series, fill newly added days with NaN, then interpolate (method=time)\n",
    "\n",
    "def fill_in_missing_data(data_list):\n",
    "    for i in data_list:\n",
    "        # resample\n",
    "        new_i = data_list[i].resample('D').sum()\n",
    "        # replace 0 with NaN\n",
    "        new_i.replace(0, np.nan, inplace=True)\n",
    "        new_i.replace(np.inf, np.nan, inplace=True)\n",
    "        # interpolate (time)\n",
    "        new_i.interpolate(method='time', inplace=True)\n",
    "        data_list[i] = new_i\n",
    "\n",
    "fill_in_missing_data(data_list)\n",
    "print_data_list()\n",
    "\n",
    "# from now on, only data_list contains the right values"
   ],
   "metadata": {
    "collapsed": false,
    "pycharm": {
     "name": "#%%\n",
     "is_executing": false
    }
   }
  },
  {
   "cell_type": "code",
   "execution_count": 63,
   "outputs": [
    {
     "data": {
      "text/plain": "<matplotlib.axes._subplots.AxesSubplot at 0x20b5eccd548>"
     },
     "metadata": {},
     "output_type": "execute_result",
     "execution_count": 63
    }
   ],
   "source": [
    "# create plot to show how interpolation removed gaps in data\n"
   ],
   "metadata": {
    "collapsed": false,
    "pycharm": {
     "name": "#%%\n",
     "is_executing": false
    }
   }
  },
  {
   "cell_type": "code",
   "execution_count": 151,
   "outputs": [],
   "source": [
    "# visualize data\n",
    "fig, axes = plt.subplots(4, 3, sharex=True)\n",
    "data_list_listed = list(data_list)\n",
    "for i, ax in enumerate(axes.flatten()):\n",
    "   if i is 11: continue\n",
    "   curr_key = data_list_listed[i]\n",
    "   curr_data = data_list[curr_key]\n",
    "   ax.plot(curr_data)\n",
    "   ax.set_title(curr_key)"
   ],
   "metadata": {
    "collapsed": false,
    "pycharm": {
     "name": "#%%\n",
     "is_executing": false
    }
   }
  },
  {
   "cell_type": "code",
   "execution_count": 154,
   "outputs": [
    {
     "data": {
      "text/plain": "              btc_series_x  eth_series_x  oil_WTI_x  oil_BRENT_x  \\\nbtc_series_y        1.0000        0.0000     0.6795       0.5718   \neth_series_y        0.0000        1.0000     0.8895       0.2109   \noil_WTI_y           0.0981        0.0350     1.0000       0.0000   \noil_BRENT_y         0.0630        0.1664     0.0000       1.0000   \nex_JPN_USD_y        0.4596        0.4771     0.4605       0.1395   \nex_EUR_USD_y        0.1986        0.0011     0.9457       0.6095   \nex_GBP_USD_y        0.2536        0.3710     0.0239       0.3897   \ngold_10am_y         0.0068        0.2973     0.0000       0.0021   \ngold_03pm_y         0.2627        0.4680     0.0003       0.1195   \ndax_y               0.0180        0.0452     0.0005       0.0528   \nsp500_y             0.0002        0.0223     0.0000       0.1295   \n\n              ex_JPN_USD_x  ex_EUR_USD_x  ex_GBP_USD_x  gold_10am_x  \\\nbtc_series_y        0.1995        0.7026        0.0541       0.2260   \neth_series_y        0.5282        0.3875        0.6783       0.8388   \noil_WTI_y           0.3155        0.0158        0.7434       0.0060   \noil_BRENT_y         0.2814        0.0176        0.4205       0.0550   \nex_JPN_USD_y        1.0000        0.2076        0.3364       0.0351   \nex_EUR_USD_y        0.0672        1.0000        0.0089       0.0146   \nex_GBP_USD_y        0.0039        0.5246        1.0000       0.0003   \ngold_10am_y         0.0000        0.0000        0.0044       1.0000   \ngold_03pm_y         0.0000        0.0057        0.1624       0.0000   \ndax_y               0.2614        0.1286        0.0173       0.1458   \nsp500_y             0.1922        0.0673        0.0030       0.0151   \n\n              gold_03pm_x   dax_x  sp500_x  \nbtc_series_y       0.1920  0.0890   0.0898  \neth_series_y       0.8003  0.1190   0.1352  \noil_WTI_y          0.0187  0.0000   0.0611  \noil_BRENT_y        0.0000  0.0000   0.0000  \nex_JPN_USD_y       0.0088  0.0034   0.1726  \nex_EUR_USD_y       0.0004  0.0070   0.0858  \nex_GBP_USD_y       0.0000  0.0000   0.0000  \ngold_10am_y        0.0000  0.0000   0.0000  \ngold_03pm_y        1.0000  0.0000   0.0000  \ndax_y              0.0380  1.0000   0.0000  \nsp500_y            0.0000  0.0000   1.0000  ",
      "text/html": "<div>\n<style scoped>\n    .dataframe tbody tr th:only-of-type {\n        vertical-align: middle;\n    }\n\n    .dataframe tbody tr th {\n        vertical-align: top;\n    }\n\n    .dataframe thead th {\n        text-align: right;\n    }\n</style>\n<table border=\"1\" class=\"dataframe\">\n  <thead>\n    <tr style=\"text-align: right;\">\n      <th></th>\n      <th>btc_series_x</th>\n      <th>eth_series_x</th>\n      <th>oil_WTI_x</th>\n      <th>oil_BRENT_x</th>\n      <th>ex_JPN_USD_x</th>\n      <th>ex_EUR_USD_x</th>\n      <th>ex_GBP_USD_x</th>\n      <th>gold_10am_x</th>\n      <th>gold_03pm_x</th>\n      <th>dax_x</th>\n      <th>sp500_x</th>\n    </tr>\n  </thead>\n  <tbody>\n    <tr>\n      <td>btc_series_y</td>\n      <td>1.0000</td>\n      <td>0.0000</td>\n      <td>0.6795</td>\n      <td>0.5718</td>\n      <td>0.1995</td>\n      <td>0.7026</td>\n      <td>0.0541</td>\n      <td>0.2260</td>\n      <td>0.1920</td>\n      <td>0.0890</td>\n      <td>0.0898</td>\n    </tr>\n    <tr>\n      <td>eth_series_y</td>\n      <td>0.0000</td>\n      <td>1.0000</td>\n      <td>0.8895</td>\n      <td>0.2109</td>\n      <td>0.5282</td>\n      <td>0.3875</td>\n      <td>0.6783</td>\n      <td>0.8388</td>\n      <td>0.8003</td>\n      <td>0.1190</td>\n      <td>0.1352</td>\n    </tr>\n    <tr>\n      <td>oil_WTI_y</td>\n      <td>0.0981</td>\n      <td>0.0350</td>\n      <td>1.0000</td>\n      <td>0.0000</td>\n      <td>0.3155</td>\n      <td>0.0158</td>\n      <td>0.7434</td>\n      <td>0.0060</td>\n      <td>0.0187</td>\n      <td>0.0000</td>\n      <td>0.0611</td>\n    </tr>\n    <tr>\n      <td>oil_BRENT_y</td>\n      <td>0.0630</td>\n      <td>0.1664</td>\n      <td>0.0000</td>\n      <td>1.0000</td>\n      <td>0.2814</td>\n      <td>0.0176</td>\n      <td>0.4205</td>\n      <td>0.0550</td>\n      <td>0.0000</td>\n      <td>0.0000</td>\n      <td>0.0000</td>\n    </tr>\n    <tr>\n      <td>ex_JPN_USD_y</td>\n      <td>0.4596</td>\n      <td>0.4771</td>\n      <td>0.4605</td>\n      <td>0.1395</td>\n      <td>1.0000</td>\n      <td>0.2076</td>\n      <td>0.3364</td>\n      <td>0.0351</td>\n      <td>0.0088</td>\n      <td>0.0034</td>\n      <td>0.1726</td>\n    </tr>\n    <tr>\n      <td>ex_EUR_USD_y</td>\n      <td>0.1986</td>\n      <td>0.0011</td>\n      <td>0.9457</td>\n      <td>0.6095</td>\n      <td>0.0672</td>\n      <td>1.0000</td>\n      <td>0.0089</td>\n      <td>0.0146</td>\n      <td>0.0004</td>\n      <td>0.0070</td>\n      <td>0.0858</td>\n    </tr>\n    <tr>\n      <td>ex_GBP_USD_y</td>\n      <td>0.2536</td>\n      <td>0.3710</td>\n      <td>0.0239</td>\n      <td>0.3897</td>\n      <td>0.0039</td>\n      <td>0.5246</td>\n      <td>1.0000</td>\n      <td>0.0003</td>\n      <td>0.0000</td>\n      <td>0.0000</td>\n      <td>0.0000</td>\n    </tr>\n    <tr>\n      <td>gold_10am_y</td>\n      <td>0.0068</td>\n      <td>0.2973</td>\n      <td>0.0000</td>\n      <td>0.0021</td>\n      <td>0.0000</td>\n      <td>0.0000</td>\n      <td>0.0044</td>\n      <td>1.0000</td>\n      <td>0.0000</td>\n      <td>0.0000</td>\n      <td>0.0000</td>\n    </tr>\n    <tr>\n      <td>gold_03pm_y</td>\n      <td>0.2627</td>\n      <td>0.4680</td>\n      <td>0.0003</td>\n      <td>0.1195</td>\n      <td>0.0000</td>\n      <td>0.0057</td>\n      <td>0.1624</td>\n      <td>0.0000</td>\n      <td>1.0000</td>\n      <td>0.0000</td>\n      <td>0.0000</td>\n    </tr>\n    <tr>\n      <td>dax_y</td>\n      <td>0.0180</td>\n      <td>0.0452</td>\n      <td>0.0005</td>\n      <td>0.0528</td>\n      <td>0.2614</td>\n      <td>0.1286</td>\n      <td>0.0173</td>\n      <td>0.1458</td>\n      <td>0.0380</td>\n      <td>1.0000</td>\n      <td>0.0000</td>\n    </tr>\n    <tr>\n      <td>sp500_y</td>\n      <td>0.0002</td>\n      <td>0.0223</td>\n      <td>0.0000</td>\n      <td>0.1295</td>\n      <td>0.1922</td>\n      <td>0.0673</td>\n      <td>0.0030</td>\n      <td>0.0151</td>\n      <td>0.0000</td>\n      <td>0.0000</td>\n      <td>1.0000</td>\n    </tr>\n  </tbody>\n</table>\n</div>"
     },
     "metadata": {},
     "output_type": "execute_result",
     "execution_count": 154
    }
   ],
   "source": [
    "# test Granger causality\n",
    "from statsmodels.tsa.stattools import grangercausalitytests\n",
    "def granger_causation_matrix(data, variables, verbose=False):\n",
    "    matrix = pd.DataFrame(np.zeros((len(variables), len(variables))), columns=variables, index=variables)\n",
    "    for c in matrix.columns:\n",
    "        for r in matrix.index:\n",
    "            # data = [y,x] where x causes y\n",
    "            result = grangercausalitytests(x=data[[r,c]], maxlag=maxlag, verbose=False)\n",
    "            p_values = [round(result[i+1][0][test][1],4) for i in range(maxlag)]\n",
    "            if verbose: print(f'Y = {r}, X = {c}, P Values = {p_values}')\n",
    "            min_p_value = np.min(p_values)\n",
    "            matrix.loc[r,c] = min_p_value\n",
    "    matrix.columns = [var + '_x' for var in variables]\n",
    "    matrix.index = [var + '_y' for var in variables]\n",
    "    return matrix\n",
    "\n",
    "maxlag=12\n",
    "test = 'ssr_chi2test'\n",
    "data = pd.DataFrame(data_list)\n",
    "granger_matrix = granger_causation_matrix(data, variables=list(data_list.keys()))\n",
    "granger_matrix"
   ],
   "metadata": {
    "collapsed": false,
    "pycharm": {
     "name": "#%%\n",
     "is_executing": false
    }
   }
  },
  {
   "cell_type": "code",
   "execution_count": 183,
   "outputs": [
    {
     "name": "stdout",
     "text": [
      "Name   \t\t ::  Test Stat > C(95%)    =>   Signif  \n ----------------------------------------\nbtc_series \t ::  388.68    > 263.2603  =>   True\neth_series \t ::  223.93    > 219.4051  =>   True\noil_WTI \t ::  162.57    > 179.5199  =>   False\noil_BRENT \t ::  119.7     > 143.6691  =>   False\nex_JPN_USD \t ::  87.0      > 111.7797  =>   False\nex_EUR_USD \t ::  61.59     > 83.9383   =>   False\nex_GBP_USD \t ::  40.86     > 60.0627   =>   False\ngold_10am \t ::  26.01     > 40.1749   =>   False\ngold_03pm \t ::  13.32     > 24.2761   =>   False\ndax    \t\t ::  4.72      > 12.3212   =>   False\nsp500  \t\t ::  0.82      > 4.1296    =>   False\n"
     ],
     "output_type": "stream"
    }
   ],
   "source": [
    "# cointegration test\n",
    "from statsmodels.tsa.vector_ar.vecm import coint_johansen\n",
    "def cointegration_test(data, alpha=0.05):\n",
    "    result = coint_johansen(data, -1, 10)\n",
    "    d = {'0.90':0, '0.95':1, '0.99':2}\n",
    "    trace_stat = result.lr1\n",
    "    crit_val_trace_stat = result.cvt[:, d[str(1-alpha)]]\n",
    "    \n",
    "    def adjust(val, length = 6): \n",
    "        return str(val).ljust(length)\n",
    "    \n",
    "    print('Name   \\t\\t ::  Test Stat > C(95%)    =>   Signif  \\n', '--'*20)\n",
    "    for col, trace, cvt in zip(data.columns, trace_stat, crit_val_trace_stat):\n",
    "        if col is 'dax' or col is 'sp500':\n",
    "            tab = 2\n",
    "        else:\n",
    "            tab = 1\n",
    "        print(adjust(col), '\\t'*tab ,':: ', adjust(round(trace,2), 9), \">\", adjust(cvt, 8), ' =>  ' , trace > cvt)\n",
    "    \n",
    "data = pd.DataFrame(data_list)\n",
    "cointegration_test(data)"
   ],
   "metadata": {
    "collapsed": false,
    "pycharm": {
     "name": "#%%\n",
     "is_executing": false
    }
   }
  },
  {
   "cell_type": "code",
   "execution_count": 161,
   "outputs": [
    {
     "data": {
      "text/plain": "array([263.2603, 219.4051, 179.5199, 143.6691, 111.7797,  83.9383,\n        60.0627,  40.1749,  24.2761,  12.3212,   4.1296])"
     },
     "metadata": {},
     "output_type": "execute_result",
     "execution_count": 161
    }
   ],
   "source": [],
   "metadata": {
    "collapsed": false,
    "pycharm": {
     "name": "#%%\n",
     "is_executing": false
    }
   }
  },
  {
   "cell_type": "code",
   "execution_count": 167,
   "outputs": [
    {
     "name": "stdout",
     "text": [
      "Apfelkuchen\n"
     ],
     "output_type": "stream"
    }
   ],
   "source": [],
   "metadata": {
    "collapsed": false,
    "pycharm": {
     "name": "#%%\n",
     "is_executing": false
    }
   }
  },
  {
   "cell_type": "code",
   "execution_count": null,
   "outputs": [],
   "source": [
    "\n"
   ],
   "metadata": {
    "collapsed": false,
    "pycharm": {
     "name": "#%%\n"
    }
   }
  }
 ],
 "metadata": {
  "kernelspec": {
   "display_name": "Python 3",
   "language": "python",
   "name": "python3"
  },
  "language_info": {
   "codemirror_mode": {
    "name": "ipython",
    "version": 2
   },
   "file_extension": ".py",
   "mimetype": "text/x-python",
   "name": "python",
   "nbconvert_exporter": "python",
   "pygments_lexer": "ipython2",
   "version": "2.7.6"
  },
  "pycharm": {
   "stem_cell": {
    "cell_type": "raw",
    "source": [],
    "metadata": {
     "collapsed": false
    }
   }
  }
 },
 "nbformat": 4,
 "nbformat_minor": 0
}