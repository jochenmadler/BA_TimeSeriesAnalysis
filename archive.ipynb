{
 "cells": [
  {
   "cell_type": "code",
   "execution_count": null,
   "metadata": {
    "collapsed": true
   },
   "outputs": [],
   "source": [
    "#username = 'jochenmadler'\n",
    "#token = '1a4c132c9cec1e3691b43f61eb54bcb4ff8c94e7'\n",
    "#github_session = requests.Session()\n",
    "#github_session.auth = (username, token)"
   ]
  },
  {
   "cell_type": "code",
   "execution_count": null,
   "outputs": [],
   "source": [
    "from statsmodels.tsa.arima_model import ARIMA\n",
    "import warnings\n",
    "\n",
    "#split data in train and test\n",
    "data = np.log(btc_series).diff().dropna()\n",
    "train_size = int(len(data) * 0.8)\n",
    "train, test = data[0:train_size], data[train_size:]\n",
    "\n",
    "#evaluate p,d,q combinations for ARIMA model\n",
    "def evaluate_models(data, p_values, d_values, q_values):\n",
    "    best_aic, best_order = float('inf'), None\n",
    "    for p in p_values:\n",
    "        for d in d_values:\n",
    "            for q in q_values:\n",
    "                order = (p,d,q)\n",
    "                try:\n",
    "                    model = ARIMA(data, order=order)\n",
    "                    model_fit = model.fit(maxiter=1000, disp=False)\n",
    "                    if model_fit.aic < best_aic:\n",
    "                        best_aic, best_order = model_fit.aic, order\n",
    "                        print('ARIMA{} - Current best'.format(order))\n",
    "                        print('AIC:   {}'.format(model_fit.aic))\n",
    "                        print('BIC:   {}'.format(model_fit.bic))\n",
    "                        print('HQIC:  {}\\n'.format(model_fit.hqic))\n",
    "                    else:\n",
    "                        print('ARIMA{} - worse, neglect\\n'.format(order))\n",
    "                except:\n",
    "                    print('ARIMA{} - not terminating, skip\\n'.format(order))\n",
    "                    continue\n",
    "    print('ARIMA{} - **Global best**\\nAIC:   {}'.format(best_order, best_aic))\n",
    "\n",
    "#evalue parameters\n",
    "p_values = range(0,11)\n",
    "d_values = range(0,2)\n",
    "q_values = range(0,11)\n",
    "warnings.filterwarnings('ignore')\n",
    "#evaluate_models(train, p_values, d_values, q_values)\n"
   ],
   "metadata": {
    "collapsed": false,
    "pycharm": {
     "name": "#%% grid search ARIMA(p,d,q) parameters, considering AIC, BIC\n"
    }
   }
  }
 ],
 "metadata": {
  "kernelspec": {
   "display_name": "Python 3",
   "language": "python",
   "name": "python3"
  },
  "language_info": {
   "codemirror_mode": {
    "name": "ipython",
    "version": 2
   },
   "file_extension": ".py",
   "mimetype": "text/x-python",
   "name": "python",
   "nbconvert_exporter": "python",
   "pygments_lexer": "ipython2",
   "version": "2.7.6"
  },
  "pycharm": {
   "stem_cell": {
    "cell_type": "raw",
    "source": [],
    "metadata": {
     "collapsed": false
    }
   }
  }
 },
 "nbformat": 4,
 "nbformat_minor": 0
}