{
 "cells": [
  {
   "cell_type": "code",
   "execution_count": null,
   "outputs": [],
   "source": [
    "import pandas as pd\n",
    "import numpy as np\n",
    "import seaborn as sns\n",
    "import matplotlib\n",
    "import statsmodels\n",
    "matplotlib.use('Qt5Agg')\n",
    "import matplotlib.pyplot as plt"
   ],
   "metadata": {
    "collapsed": false,
    "pycharm": {
     "name": "#%%\n"
    }
   }
  },
  {
   "cell_type": "code",
   "execution_count": null,
   "outputs": [],
   "source": [
    "plt.rcParams[\"figure.figsize\"] = (8,3.5)"
   ],
   "metadata": {
    "collapsed": false,
    "pycharm": {
     "name": "#%%\n"
    }
   }
  },
  {
   "cell_type": "code",
   "execution_count": null,
   "outputs": [],
   "source": [
    "mydateparser = lambda x: pd.datetime.strptime(str(x), '%Y-%m-%d %H:%M:%S')\n",
    "btc_series = pd.read_excel('Data/BTC_closing.xlsx',squeeze=True, parse_dates=[0], index_col=0, date_parser=mydateparser)\n",
    "btc_df = pd.DataFrame(btc_series)"
   ],
   "metadata": {
    "collapsed": false,
    "pycharm": {
     "name": "#%% - btc_closing: as series and data frame\n"
    }
   }
  },
  {
   "cell_type": "code",
   "execution_count": null,
   "outputs": [],
   "source": [
    "#username = 'jochenmadler'\n",
    "#token = '1a4c132c9cec1e3691b43f61eb54bcb4ff8c94e7'\n",
    "#github_session = requests.Session()\n",
    "#github_session.auth = (username, token)"
   ],
   "metadata": {
    "collapsed": false,
    "pycharm": {
     "name": "#%%\n"
    }
   }
  },
  {
   "cell_type": "code",
   "execution_count": null,
   "outputs": [],
   "source": [
    "from statsmodels.tsa.arima_model import ARIMA\n",
    "import warnings\n",
    "\n",
    "#split data in train and test\n",
    "data = np.log(btc_series).diff().dropna()\n",
    "train_size = int(len(data) * 0.8)\n",
    "train, test = data[0:train_size], data[train_size:]\n",
    "\n",
    "#evaluate p,d,q combinations for ARIMA model\n",
    "def evaluate_models(data, p_values, d_values, q_values):\n",
    "    best_aic, best_order = float('inf'), None\n",
    "    for p in p_values:\n",
    "        for d in d_values:\n",
    "            for q in q_values:\n",
    "                order = (p,d,q)\n",
    "                try:\n",
    "                    model = ARIMA(data, order=order)\n",
    "                    model_fit = model.fit(maxiter=1000, disp=False)\n",
    "                    if model_fit.aic < best_aic:\n",
    "                        best_aic, best_order = model_fit.aic, order\n",
    "                        print('ARIMA{} - Current best'.format(order))\n",
    "                        print('AIC:   {}'.format(model_fit.aic))\n",
    "                        print('BIC:   {}'.format(model_fit.bic))\n",
    "                        print('HQIC:  {}\\n'.format(model_fit.hqic))\n",
    "                    else:\n",
    "                        print('ARIMA{} - worse, neglect\\n'.format(order))\n",
    "                except:\n",
    "                    print('ARIMA{} - not terminating, skip\\n'.format(order))\n",
    "                    continue\n",
    "    print('ARIMA{} - **Global best**\\nAIC:   {}'.format(best_order, best_aic))\n",
    "\n",
    "#evalue parameters\n",
    "p_values = range(0,11)\n",
    "d_values = range(0,2)\n",
    "q_values = range(0,11)\n",
    "warnings.filterwarnings('ignore')\n",
    "#evaluate_models(train, p_values, d_values, q_values)\n"
   ],
   "metadata": {
    "collapsed": false,
    "pycharm": {
     "name": "#%% grid search ARIMA(p,d,q) parameters, considering AIC, BIC\n"
    }
   }
  },
  {
   "cell_type": "code",
   "execution_count": null,
   "outputs": [],
   "source": [
    "btc_series.describe()\n",
    "btc_series.plot()\n",
    "sns.set_style('ticks')\n",
    "sns.despine()"
   ],
   "metadata": {
    "collapsed": false,
    "pycharm": {
     "name": "#%% - btc_closing: descriptive statistics\n"
    }
   }
  },
  {
   "cell_type": "code",
   "execution_count": null,
   "outputs": [],
   "source": [
    "btc_series.hist()"
   ],
   "metadata": {
    "collapsed": false,
    "pycharm": {
     "name": "#%%\n"
    }
   }
  },
  {
   "cell_type": "code",
   "execution_count": null,
   "outputs": [],
   "source": [
    "btc_series.plot(kind='kde')"
   ],
   "metadata": {
    "collapsed": false,
    "pycharm": {
     "name": "#%%\n"
    }
   }
  },
  {
   "cell_type": "code",
   "execution_count": null,
   "outputs": [],
   "source": [
    "btc_df.boxplot()"
   ],
   "metadata": {
    "collapsed": false,
    "pycharm": {
     "name": "#%%\n"
    }
   }
  },
  {
   "cell_type": "code",
   "execution_count": null,
   "outputs": [],
   "source": [
    "btc_series['2018-01':'2020'].plot(kind='kde')"
   ],
   "metadata": {
    "collapsed": false,
    "pycharm": {
     "name": "#%%\n"
    }
   }
  },
  {
   "cell_type": "code",
   "execution_count": null,
   "outputs": [],
   "source": [
    "from pandas.plotting import lag_plot\n",
    "lag_plot(btc_series)"
   ],
   "metadata": {
    "collapsed": false,
    "pycharm": {
     "name": "#%%\n"
    }
   }
  },
  {
   "cell_type": "code",
   "execution_count": null,
   "outputs": [],
   "source": [
    "from pandas.plotting import autocorrelation_plot\n",
    "autocorrelation_plot(btc_series)"
   ],
   "metadata": {
    "collapsed": false,
    "pycharm": {
     "name": "#%%\n"
    }
   }
  },
  {
   "cell_type": "code",
   "execution_count": null,
   "outputs": [],
   "source": [
    "from statsmodels.graphics.tsaplots import plot_acf\n",
    "plot_acf(btc_series)"
   ],
   "metadata": {
    "collapsed": false,
    "pycharm": {
     "name": "#%%\n"
    }
   }
  },
  {
   "cell_type": "code",
   "execution_count": null,
   "outputs": [],
   "source": [
    "from statsmodels.graphics.tsaplots import plot_pacf\n",
    "plot_pacf(btc_series)"
   ],
   "metadata": {
    "collapsed": false,
    "pycharm": {
     "name": "#%%\n"
    }
   }
  },
  {
   "cell_type": "code",
   "execution_count": null,
   "outputs": [],
   "source": [
    "X = btc_series.values\n",
    "split = int(len(X) * 0.5)\n",
    "X1, X2 = X[0:split], X[split:]\n",
    "mean1, mean2 = X1.mean(), X2.mean()\n",
    "var1, var2 = X1.var(), X2.var()\n",
    "print('mean1', mean1, '\\tvar1', var1)\n",
    "print('mean2', mean2, '\\tvar2', var2)"
   ],
   "metadata": {
    "collapsed": false,
    "pycharm": {
     "name": "#%% - quick and dirty check if btc_series is stationary: most likely NOT\n"
    }
   }
  },
  {
   "cell_type": "code",
   "execution_count": null,
   "outputs": [],
   "source": [
    "btc_series.hist()\n"
   ],
   "metadata": {
    "collapsed": false,
    "pycharm": {
     "name": "#%% - hist of btc_series might indicate (exponential) seasonal component\n"
    }
   }
  },
  {
   "cell_type": "code",
   "execution_count": null,
   "outputs": [],
   "source": [
    "X = btc_series.values\n",
    "X = np.log(X)\n",
    "fig, (ax1, ax2) = plt.subplots(1,2)\n",
    "ax1.plot(X)\n",
    "ax2.hist(X)\n",
    "\n",
    "split = int(len(X) * 0.5)\n",
    "X1, X2 = X[0:split], X[split:]\n",
    "mean1, mean2 = X1.mean(), X2.mean()\n",
    "var1, var2 = X1.var(), X2.var()\n",
    "print('mean1', mean1, '\\tvar1', var1)\n",
    "print('mean2', mean2, '\\tvar2', var2)"
   ],
   "metadata": {
    "collapsed": false,
    "pycharm": {
     "name": "#%% - log transform btc_series: check plot and hist + mean/var again\n"
    }
   }
  },
  {
   "cell_type": "code",
   "execution_count": null,
   "outputs": [],
   "source": [
    "from statsmodels.tsa.stattools import adfuller\n",
    "X = btc_series.values\n",
    "result = adfuller(X)\n",
    "result"
   ],
   "metadata": {
    "collapsed": false,
    "pycharm": {
     "name": "#%% - ADF test on raw btc_series: Cannot reject H0 -> Non-stationary\n"
    }
   }
  },
  {
   "cell_type": "code",
   "execution_count": null,
   "outputs": [],
   "source": [
    "from statsmodels.tsa.stattools import adfuller\n",
    "X = btc_series.values\n",
    "X = np.log(X)\n",
    "result_log = adfuller(X)\n",
    "result_log"
   ],
   "metadata": {
    "collapsed": false,
    "pycharm": {
     "name": "#%% ADF test on log btc_series: Cannot reject H0 -> Non-stationary\n"
    }
   }
  },
  {
   "cell_type": "code",
   "execution_count": null,
   "outputs": [],
   "source": [
    "X = btc_series.values\n",
    "diff_1 = list()\n",
    "for i in range(1, len(X)):\n",
    "    delta = X[i] - X[i-1]\n",
    "    diff_1.append(delta)\n",
    "plt.plot(diff_1)"
   ],
   "metadata": {
    "collapsed": false,
    "pycharm": {
     "name": "#%% first difference on raw btc_series: TS looks more stationary\n"
    }
   }
  },
  {
   "cell_type": "code",
   "execution_count": null,
   "outputs": [],
   "source": [
    "from statsmodels.tsa.stattools import adfuller\n",
    "result_diff1 = adfuller(diff_1)\n",
    "result_diff1\n"
   ],
   "metadata": {
    "collapsed": false,
    "pycharm": {
     "name": "#%% ADF test on raw first difference: Reject H0 at 1% -> Stationary\n"
    }
   }
  },
  {
   "cell_type": "code",
   "execution_count": null,
   "outputs": [],
   "source": [
    "X = btc_series.values\n",
    "diff_1 = list()\n",
    "for i in range(1, len(X)):\n",
    "    delta = X[i] - X[i-1]\n",
    "    diff_1.append(delta)\n",
    "diff_2 = list()\n",
    "for i in range(1, len(diff_1)):\n",
    "    delta = diff_1[i] - diff_1[i-1]\n",
    "    diff_2.append(delta)\n",
    "fig, (ax1, ax2) = plt.subplots(1,2)\n",
    "ax1.plot(diff_1, label='diff_1')\n",
    "ax2.plot(diff_2, label='diff_2')\n",
    "plt.legend(loc='upper left')"
   ],
   "metadata": {
    "collapsed": false,
    "pycharm": {
     "name": "#%% second differencing on raw btc_series: does not seem to add additional insight\n"
    }
   }
  },
  {
   "cell_type": "code",
   "execution_count": null,
   "outputs": [],
   "source": [
    "X = btc_series.values\n",
    "X = np.log(X)\n",
    "log_diff1 = list()\n",
    "for i in range(1, len(X)):\n",
    "    delta = X[i] - X[i-1]\n",
    "    log_diff1.append(delta)\n",
    "plt.plot(log_diff1)"
   ],
   "metadata": {
    "collapsed": false,
    "pycharm": {
     "name": "#%% first difference on log btc_series: TS looks even more stationary\n"
    }
   }
  },
  {
   "cell_type": "code",
   "execution_count": null,
   "outputs": [],
   "source": [
    "from statsmodels.tsa.stattools import adfuller\n",
    "result_log_diff1 = adfuller(log_diff1)\n",
    "result_log_diff1"
   ],
   "metadata": {
    "collapsed": false,
    "pycharm": {
     "name": "#%% ADF test on first log difference: Reject H0 at 1% -> Stationary\n"
    }
   }
  },
  {
   "cell_type": "code",
   "execution_count": null,
   "outputs": [],
   "source": [
    "from sklearn.linear_model import LinearRegression\n",
    "X = [i for i in range(0, len(btc_series))]\n",
    "X = np.reshape(X, (len(X),1))\n",
    "y = btc_series.values\n",
    "model = LinearRegression()\n",
    "model.fit(X,y)\n",
    "trend = model.predict(X)\n",
    "plt.plot(y, label='y')\n",
    "plt.plot(trend, label='trend')\n",
    "\n",
    "detrended = [y[i] - trend[i] for i in range(0, len(btc_series))]\n",
    "plt.plot(detrended, label='y detrended')\n",
    "plt.legend(loc='upper left')"
   ],
   "metadata": {
    "collapsed": false,
    "pycharm": {
     "name": "#%% fit trend to raw btc_series and detrend it (first differencing)\n"
    }
   }
  },
  {
   "cell_type": "code",
   "execution_count": null,
   "outputs": [],
   "source": [
    "pd_diff1 = btc_series.diff()\n",
    "pd_diff1.plot()\n",
    "pd_diff1 = pd_diff1[1:]"
   ],
   "metadata": {
    "collapsed": false,
    "pycharm": {
     "name": "#%% first differencing using panda lib function + cut out first NaN value\n"
    }
   }
  },
  {
   "cell_type": "code",
   "execution_count": null,
   "outputs": [],
   "source": [
    "from statsmodels.tsa.stattools import adfuller\n",
    "result_pd_diff1 = adfuller(pd_diff1)\n",
    "result_pd_diff1"
   ],
   "metadata": {
    "collapsed": false,
    "pycharm": {
     "name": "#%% ADF test on raw first pandas_difference: Reject H0 at 1% -> Stationary\n"
    }
   }
  },
  {
   "cell_type": "code",
   "execution_count": null,
   "outputs": [],
   "source": [
    "from sklearn.preprocessing import MinMaxScaler\n",
    "values = btc_series.values\n",
    "values = values.reshape(len(values), 1)\n",
    "scaler = MinMaxScaler(feature_range=(0,1))\n",
    "scaler = scaler.fit(values)\n",
    "#print(scaler.data_min_, scaler.data_max_,scaler.data_range_)\n",
    "normalized = scaler.transform(values)\n",
    "normalized_df = pd.DataFrame({'Column1': normalized[:,0]})\n",
    "\n",
    "btc_df = pd.DataFrame(btc_series)\n",
    "btc_df['Close'] = normalized_df['Column1'].values\n",
    "btc_df = btc_df.rename({'Close': 'Close_norm'}, axis=1)\n",
    "btc_df.plot()\n"
   ],
   "metadata": {
    "collapsed": false,
    "pycharm": {
     "name": "#%% normalizing raw btc data: No value because differencing must be done before normalizing\n"
    }
   }
  },
  {
   "cell_type": "code",
   "execution_count": null,
   "outputs": [],
   "source": [
    "pd_diff1 = btc_series.diff()\n",
    "pd_diff1 = pd_diff1[1:]\n",
    "from sklearn.preprocessing import MinMaxScaler\n",
    "values_diff1 = pd_diff1.values\n",
    "values_diff1 = values_diff1.reshape(len(values_diff1), 1)\n",
    "scaler_diff1 = MinMaxScaler(feature_range=(0,1))\n",
    "scaler_diff1 = scaler.fit(values_diff1)\n",
    "normalized_diff1 = scaler_diff1.transform(values_diff1)\n",
    "normalized_diff1_df = pd.DataFrame({'Clos_diff1_norm': normalized_diff1[:,0]})\n",
    "\n",
    "btc_df = pd.DataFrame(btc_series)\n",
    "btc_df = btc_df[1:]\n",
    "btc_df['Close'] = normalized_diff1_df['Clos_diff1_norm'].values\n",
    "btc_df = btc_df.rename({'Close': 'Close_diff1_norm'}, axis=1)\n",
    "btc_df.plot()\n",
    "#sns.distplot(btc_df)"
   ],
   "metadata": {
    "collapsed": false,
    "pycharm": {
     "name": "#%% normalizing first differenced btc data\n"
    }
   }
  },
  {
   "cell_type": "code",
   "execution_count": null,
   "outputs": [],
   "source": [
    "#from scipy.stats import kurtosis\n",
    "#kurtosis(btc_df, axis=0, fisher=True, bias=True)\n",
    "btc_diff1_norm_series = btc_df.squeeze()\n",
    "btc_diff1_norm_series.kurtosis() #Kurtosis = 31 (insane!) -> log transform?"
   ],
   "metadata": {
    "collapsed": false,
    "pycharm": {
     "name": "#%% transform differenced and normalized df to series and check kurtosis\n"
    }
   }
  },
  {
   "cell_type": "code",
   "execution_count": null,
   "outputs": [],
   "source": [
    "btc_df = pd.DataFrame(btc_series)\n",
    "btc_df['Close'] = np.log(btc_df['Close'])\n",
    "btc_log_series = btc_df.squeeze()\n",
    "#diff1\n",
    "btc_log_diff_series = btc_log_series.diff()\n",
    "btc_log_diff_series = btc_log_diff_series[1:]\n",
    "#norm\n",
    "from sklearn.preprocessing import MinMaxScaler\n",
    "values_log_diff1 = btc_log_diff_series.values\n",
    "values_log_diff1= values_log_diff1.reshape(len(values_log_diff1), 1)\n",
    "scaler_log_diff1 = MinMaxScaler(feature_range=(0,1))\n",
    "scaler_log_diff1 = scaler.fit(values_log_diff1)\n",
    "normalized_log_diff1 = scaler_log_diff1.transform(values_log_diff1)\n",
    "normalized_log_diff1_df = pd.DataFrame({'Close_log_diff1_norm': normalized_log_diff1[:,0]})\n",
    "#back to series\n",
    "btc_df = pd.DataFrame(btc_series)\n",
    "btc_df_log_diff_norm = btc_df[1:]\n",
    "btc_df_log_diff_norm['Close'] = normalized_log_diff1_df['Close_log_diff1_norm'].values\n",
    "btc_df_log_diff_norm = btc_df_log_diff_norm.rename({'Close': 'Close_log_diff1_norm'}, axis=1)\n",
    "\n",
    "btc_df_log_diff_norm.plot()\n",
    "#sns.distplot(btc_df) #seems odd\n",
    "\n",
    "#check kurtosis\n",
    "btc_log_diff1_norm_series = btc_df_log_diff_norm.squeeze()\n",
    "btc_log_diff1_norm_series.kurtosis() #Kurtosis = 13 (still high...)"
   ],
   "metadata": {
    "collapsed": false,
    "pycharm": {
     "name": "#%% normalizing first differenced btc data\n"
    }
   }
  },
  {
   "cell_type": "code",
   "execution_count": null,
   "outputs": [],
   "source": [],
   "metadata": {
    "collapsed": false,
    "pycharm": {
     "name": "#%%\n"
    }
   }
  }
 ],
 "metadata": {
  "kernelspec": {
   "display_name": "Python 3",
   "language": "python",
   "name": "python3"
  },
  "language_info": {
   "codemirror_mode": {
    "name": "ipython",
    "version": 2
   },
   "file_extension": ".py",
   "mimetype": "text/x-python",
   "name": "python",
   "nbconvert_exporter": "python",
   "pygments_lexer": "ipython2",
   "version": "2.7.6"
  },
  "pycharm": {
   "stem_cell": {
    "cell_type": "raw",
    "source": [],
    "metadata": {
     "collapsed": false
    }
   }
  }
 },
 "nbformat": 4,
 "nbformat_minor": 0
}