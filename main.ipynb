{
 "cells": [
  {
   "cell_type": "code",
   "execution_count": 15,
   "metadata": {
    "collapsed": true,
    "pycharm": {
     "is_executing": false
    }
   },
   "outputs": [],
   "source": [
    "from pathlib import Path\n",
    "import pandas as pd\n",
    "import seaborn as sns\n",
    "import matplotlib\n",
    "#matplotlib.use('Qt5Agg')\n",
    "import matplotlib.pyplot as plt"
   ]
  },
  {
   "cell_type": "code",
   "execution_count": 19,
   "outputs": [
    {
     "data": {
      "text/plain": "                     Date  Bitcoin_Close\n0     2013-04-28 00:00:00         134.21\n1     2013-04-29 00:00:00         144.54\n2     2013-04-30 00:00:00         139.00\n3     2013-05-01 00:00:00         116.99\n4     2013-05-02 00:00:00         105.21\n...                   ...            ...\n2250            26.6.2019       13016.23\n2251            27.6.2019       11182.81\n2252            28.6.2019       12407.33\n2253            29.6.2019       11959.37\n2254            30.6.2019       10817.16\n\n[2255 rows x 2 columns]",
      "text/html": "<div>\n<style scoped>\n    .dataframe tbody tr th:only-of-type {\n        vertical-align: middle;\n    }\n\n    .dataframe tbody tr th {\n        vertical-align: top;\n    }\n\n    .dataframe thead th {\n        text-align: right;\n    }\n</style>\n<table border=\"1\" class=\"dataframe\">\n  <thead>\n    <tr style=\"text-align: right;\">\n      <th></th>\n      <th>Date</th>\n      <th>Bitcoin_Close</th>\n    </tr>\n  </thead>\n  <tbody>\n    <tr>\n      <td>0</td>\n      <td>2013-04-28 00:00:00</td>\n      <td>134.21</td>\n    </tr>\n    <tr>\n      <td>1</td>\n      <td>2013-04-29 00:00:00</td>\n      <td>144.54</td>\n    </tr>\n    <tr>\n      <td>2</td>\n      <td>2013-04-30 00:00:00</td>\n      <td>139.00</td>\n    </tr>\n    <tr>\n      <td>3</td>\n      <td>2013-05-01 00:00:00</td>\n      <td>116.99</td>\n    </tr>\n    <tr>\n      <td>4</td>\n      <td>2013-05-02 00:00:00</td>\n      <td>105.21</td>\n    </tr>\n    <tr>\n      <td>...</td>\n      <td>...</td>\n      <td>...</td>\n    </tr>\n    <tr>\n      <td>2250</td>\n      <td>26.6.2019</td>\n      <td>13016.23</td>\n    </tr>\n    <tr>\n      <td>2251</td>\n      <td>27.6.2019</td>\n      <td>11182.81</td>\n    </tr>\n    <tr>\n      <td>2252</td>\n      <td>28.6.2019</td>\n      <td>12407.33</td>\n    </tr>\n    <tr>\n      <td>2253</td>\n      <td>29.6.2019</td>\n      <td>11959.37</td>\n    </tr>\n    <tr>\n      <td>2254</td>\n      <td>30.6.2019</td>\n      <td>10817.16</td>\n    </tr>\n  </tbody>\n</table>\n<p>2255 rows × 2 columns</p>\n</div>"
     },
     "metadata": {},
     "output_type": "execute_result",
     "execution_count": 19
    }
   ],
   "source": [
    "crypto_df = pd.read_excel(Path().joinpath('Data','Cryptocurrencies_CoinMarketCap_final.xlsx'))\n",
    "BTC_df = crypto_df[['Date', 'Bitcoin_Close']]"
   ],
   "metadata": {
    "collapsed": false,
    "pycharm": {
     "name": "#%% - raw crypto data -> raw btc time series\n",
     "is_executing": false
    }
   }
  },
  {
   "cell_type": "code",
   "execution_count": 18,
   "outputs": [],
   "source": [
    "BTC_df.plot()\n",
    "plt.show()"
   ],
   "metadata": {
    "collapsed": false,
    "pycharm": {
     "name": "#%%\n",
     "is_executing": false
    }
   }
  },
  {
   "cell_type": "code",
   "execution_count": null,
   "outputs": [],
   "source": [
    "\n"
   ],
   "metadata": {
    "collapsed": false,
    "pycharm": {
     "name": "#%%\n"
    }
   }
  }
 ],
 "metadata": {
  "kernelspec": {
   "display_name": "Python 3",
   "language": "python",
   "name": "python3"
  },
  "language_info": {
   "codemirror_mode": {
    "name": "ipython",
    "version": 2
   },
   "file_extension": ".py",
   "mimetype": "text/x-python",
   "name": "python",
   "nbconvert_exporter": "python",
   "pygments_lexer": "ipython2",
   "version": "2.7.6"
  },
  "pycharm": {
   "stem_cell": {
    "cell_type": "raw",
    "source": [],
    "metadata": {
     "collapsed": false
    }
   }
  }
 },
 "nbformat": 4,
 "nbformat_minor": 0
}